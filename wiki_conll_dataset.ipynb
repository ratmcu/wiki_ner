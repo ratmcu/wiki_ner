{
  "nbformat": 4,
  "nbformat_minor": 0,
  "metadata": {
    "colab": {
      "name": "wiki_conll_dataset",
      "provenance": [],
      "collapsed_sections": [],
      "toc_visible": true,
      "machine_shape": "hm",
      "include_colab_link": true
    },
    "kernelspec": {
      "name": "python3",
      "display_name": "Python 3"
    }
  },
  "cells": [
    {
      "cell_type": "markdown",
      "metadata": {
        "id": "view-in-github",
        "colab_type": "text"
      },
      "source": [
        "<a href=\"https://colab.research.google.com/github/ratmcu/wiki_ner/blob/master/wiki_conll_dataset.ipynb\" target=\"_parent\"><img src=\"https://colab.research.google.com/assets/colab-badge.svg\" alt=\"Open In Colab\"/></a>"
      ]
    },
    {
      "cell_type": "code",
      "metadata": {
        "id": "2N5iHt4vG_zX",
        "colab_type": "code",
        "outputId": "e980d3a2-8c60-43eb-aad9-4e353b97870f",
        "colab": {
          "base_uri": "https://localhost:8080/",
          "height": 1000
        }
      },
      "source": [
        "!pip install wget\n",
        "import os\n",
        "import wget\n",
        "import logging\n",
        "logger = logging.getLogger()\n",
        "logger.setLevel(logging.INFO)\n",
        "try:\n",
        "    import colabimport\n",
        "except:\n",
        "    colabimporturl = 'https://github.com/ratmcu/colaboratory_import/raw/master/colabimport.py'\n",
        "    filename = colabimporturl.split(\"/\")[-1].split(\"?\")[0]\n",
        "    if os.path.isfile(filename):\n",
        "        os.remove(filename)\n",
        "    wget.download(colabimporturl)\n",
        "    import colabimport\n",
        "    \n",
        "colabimport.get_notebook('https://github.com/ratmcu/wiki_ner/blob/master/conll_tagged_ne.ipynb?raw=true')\n",
        "from conll_tagged_ne import WikiConLLTagger\n",
        "class HashableTupleAnnotations(tuple):\n",
        "    def __hash__(self):\n",
        "        return hash(tuple(sorted([self[0:1],self[1:2]])))\n",
        "class hashabledict(dict):\n",
        "    def __hash__(self):\n",
        "        return hash(tuple(sorted(self.items())))\n",
        "!pip install spacy\n",
        "!python -m spacy download en_core_web_sm\n",
        "import spacy\n",
        "nlp = spacy.load(\"en_core_web_sm\")\n",
        "import re\n",
        "!pip install pyahocorasick\n",
        "!pip install fuzzyset\n",
        "from ahocorasick import Automaton\n",
        "import fuzzyset\n",
        "from operator import itemgetter, attrgetter\n",
        "import pandas as pd\n",
        "import pickle\n",
        "import urllib\n",
        "from bs4 import BeautifulSoup\n",
        "import numpy as np\n",
        "import json"
      ],
      "execution_count": 0,
      "outputs": [
        {
          "output_type": "stream",
          "text": [
            "Collecting wget\n",
            "  Downloading https://files.pythonhosted.org/packages/47/6a/62e288da7bcda82b935ff0c6cfe542970f04e29c756b0e147251b2fb251f/wget-3.2.zip\n",
            "Building wheels for collected packages: wget\n",
            "  Building wheel for wget (setup.py) ... \u001b[?25l\u001b[?25hdone\n",
            "  Created wheel for wget: filename=wget-3.2-cp36-none-any.whl size=9681 sha256=25c0119e4f44916fbdbae0a5f4c2d10e310d9aa6f76eaf84864d8daed357af45\n",
            "  Stored in directory: /root/.cache/pip/wheels/40/15/30/7d8f7cea2902b4db79e3fea550d7d7b85ecb27ef992b618f3f\n",
            "Successfully built wget\n",
            "Installing collected packages: wget\n",
            "Successfully installed wget-3.2\n",
            "importing Jupyter notebook from conll_tagged_ne.ipynb\n",
            "Requirement already satisfied: wget in /usr/local/lib/python3.6/dist-packages (3.2)\n",
            "importing Jupyter notebook from reusable_annotator.ipynb\n",
            "Collecting pyahocorasick\n",
            "\u001b[?25l  Downloading https://files.pythonhosted.org/packages/f4/9f/f0d8e8850e12829eea2e778f1c90e3c53a9a799b7f412082a5d21cd19ae1/pyahocorasick-1.4.0.tar.gz (312kB)\n",
            "\u001b[K     |████████████████████████████████| 317kB 5.0MB/s \n",
            "\u001b[?25hBuilding wheels for collected packages: pyahocorasick\n",
            "  Building wheel for pyahocorasick (setup.py) ... \u001b[?25l\u001b[?25hdone\n",
            "  Created wheel for pyahocorasick: filename=pyahocorasick-1.4.0-cp36-cp36m-linux_x86_64.whl size=81706 sha256=9911a47757d5e1e6d8b11aba5f16563d0574cfa350594b913f01734d29f5be10\n",
            "  Stored in directory: /root/.cache/pip/wheels/0a/90/61/87a55f5b459792fbb2b7ba6b31721b06ff5cf6bde541b40994\n",
            "Successfully built pyahocorasick\n",
            "Installing collected packages: pyahocorasick\n",
            "Successfully installed pyahocorasick-1.4.0\n",
            "Collecting fuzzyset\n",
            "\u001b[?25l  Downloading https://files.pythonhosted.org/packages/2e/78/7509f3efbb6acbcf842d7bdbd9a919ca8c0ed248123bdd8c57f08497e0dd/fuzzyset-0.0.19.tar.gz (377kB)\n",
            "\u001b[K     |████████████████████████████████| 378kB 4.9MB/s \n",
            "\u001b[?25hCollecting python-levenshtein (from fuzzyset)\n",
            "\u001b[?25l  Downloading https://files.pythonhosted.org/packages/42/a9/d1785c85ebf9b7dfacd08938dd028209c34a0ea3b1bcdb895208bd40a67d/python-Levenshtein-0.12.0.tar.gz (48kB)\n",
            "\u001b[K     |████████████████████████████████| 51kB 17.9MB/s \n",
            "\u001b[?25hCollecting texttable (from fuzzyset)\n",
            "  Downloading https://files.pythonhosted.org/packages/82/a8/60df592e3a100a1f83928795aca210414d72cebdc6e4e0c95a6d8ac632fe/texttable-1.6.2.tar.gz\n",
            "Requirement already satisfied: setuptools in /usr/local/lib/python3.6/dist-packages (from python-levenshtein->fuzzyset) (41.2.0)\n",
            "Building wheels for collected packages: fuzzyset, python-levenshtein, texttable\n",
            "  Building wheel for fuzzyset (setup.py) ... \u001b[?25l\u001b[?25hdone\n",
            "  Created wheel for fuzzyset: filename=fuzzyset-0.0.19-cp36-cp36m-linux_x86_64.whl size=167556 sha256=b09b4c0e11eda2b07e93703df11a456ce71436aa521d500343e7770006c5e228\n",
            "  Stored in directory: /root/.cache/pip/wheels/d8/36/9a/8f1cac047c7c3b03dce3d5434ed0088bfd8da8aeca615dfb4c\n",
            "  Building wheel for python-levenshtein (setup.py) ... \u001b[?25l\u001b[?25hdone\n",
            "  Created wheel for python-levenshtein: filename=python_Levenshtein-0.12.0-cp36-cp36m-linux_x86_64.whl size=144663 sha256=60850e8ca00234c37f263a3db4f631f4391b3fe0b45a1c9d7f19a23977191dce\n",
            "  Stored in directory: /root/.cache/pip/wheels/de/c2/93/660fd5f7559049268ad2dc6d81c4e39e9e36518766eaf7e342\n",
            "  Building wheel for texttable (setup.py) ... \u001b[?25l\u001b[?25hdone\n",
            "  Created wheel for texttable: filename=texttable-1.6.2-cp36-none-any.whl size=10654 sha256=9e6d991e3cb66ed1ed8f9527ee8de8759df03eaa9cf77c6cdb1d776e6a06e2fd\n",
            "  Stored in directory: /root/.cache/pip/wheels/51/d1/d6/dfbe4eb3c468832f7fbe4bd27f9875fa97277cabed8fb6715c\n",
            "Successfully built fuzzyset python-levenshtein texttable\n",
            "Installing collected packages: python-levenshtein, texttable, fuzzyset\n",
            "Successfully installed fuzzyset-0.0.19 python-levenshtein-0.12.0 texttable-1.6.2\n",
            "[nltk_data] Downloading package punkt to /root/nltk_data...\n",
            "[nltk_data]   Unzipping tokenizers/punkt.zip.\n",
            "importing Jupyter notebook from info_box.ipynb\n",
            "Requirement already satisfied: pyahocorasick in /usr/local/lib/python3.6/dist-packages (1.4.0)\n",
            "Requirement already satisfied: fuzzyset in /usr/local/lib/python3.6/dist-packages (0.0.19)\n",
            "Requirement already satisfied: texttable in /usr/local/lib/python3.6/dist-packages (from fuzzyset) (1.6.2)\n",
            "Requirement already satisfied: python-levenshtein in /usr/local/lib/python3.6/dist-packages (from fuzzyset) (0.12.0)\n",
            "Requirement already satisfied: setuptools in /usr/local/lib/python3.6/dist-packages (from python-levenshtein->fuzzyset) (41.2.0)\n",
            "[nltk_data] Downloading package punkt to /root/nltk_data...\n",
            "[nltk_data]   Package punkt is already up-to-date!\n",
            "Requirement already satisfied: wget in /usr/local/lib/python3.6/dist-packages (3.2)\n",
            "Requirement already satisfied: spacy in /usr/local/lib/python3.6/dist-packages (2.1.8)\n",
            "Requirement already satisfied: preshed<2.1.0,>=2.0.1 in /usr/local/lib/python3.6/dist-packages (from spacy) (2.0.1)\n",
            "Requirement already satisfied: srsly<1.1.0,>=0.0.6 in /usr/local/lib/python3.6/dist-packages (from spacy) (0.1.0)\n",
            "Requirement already satisfied: murmurhash<1.1.0,>=0.28.0 in /usr/local/lib/python3.6/dist-packages (from spacy) (1.0.2)\n",
            "Requirement already satisfied: wasabi<1.1.0,>=0.2.0 in /usr/local/lib/python3.6/dist-packages (from spacy) (0.2.2)\n",
            "Requirement already satisfied: blis<0.3.0,>=0.2.2 in /usr/local/lib/python3.6/dist-packages (from spacy) (0.2.4)\n",
            "Requirement already satisfied: numpy>=1.15.0 in /usr/local/lib/python3.6/dist-packages (from spacy) (1.16.5)\n",
            "Requirement already satisfied: requests<3.0.0,>=2.13.0 in /usr/local/lib/python3.6/dist-packages (from spacy) (2.21.0)\n",
            "Requirement already satisfied: thinc<7.1.0,>=7.0.8 in /usr/local/lib/python3.6/dist-packages (from spacy) (7.0.8)\n",
            "Requirement already satisfied: cymem<2.1.0,>=2.0.2 in /usr/local/lib/python3.6/dist-packages (from spacy) (2.0.2)\n",
            "Requirement already satisfied: plac<1.0.0,>=0.9.6 in /usr/local/lib/python3.6/dist-packages (from spacy) (0.9.6)\n",
            "Requirement already satisfied: urllib3<1.25,>=1.21.1 in /usr/local/lib/python3.6/dist-packages (from requests<3.0.0,>=2.13.0->spacy) (1.24.3)\n",
            "Requirement already satisfied: certifi>=2017.4.17 in /usr/local/lib/python3.6/dist-packages (from requests<3.0.0,>=2.13.0->spacy) (2019.9.11)\n",
            "Requirement already satisfied: idna<2.9,>=2.5 in /usr/local/lib/python3.6/dist-packages (from requests<3.0.0,>=2.13.0->spacy) (2.8)\n",
            "Requirement already satisfied: chardet<3.1.0,>=3.0.2 in /usr/local/lib/python3.6/dist-packages (from requests<3.0.0,>=2.13.0->spacy) (3.0.4)\n",
            "Requirement already satisfied: tqdm<5.0.0,>=4.10.0 in /usr/local/lib/python3.6/dist-packages (from thinc<7.1.0,>=7.0.8->spacy) (4.28.1)\n",
            "Collecting regex\n",
            "\u001b[?25l  Downloading https://files.pythonhosted.org/packages/6f/a6/99eeb5904ab763db87af4bd71d9b1dfdd9792681240657a4c0a599c10a81/regex-2019.08.19.tar.gz (654kB)\n",
            "\u001b[K     |████████████████████████████████| 655kB 4.9MB/s \n",
            "\u001b[?25hBuilding wheels for collected packages: regex\n",
            "  Building wheel for regex (setup.py) ... \u001b[?25l\u001b[?25hdone\n",
            "  Created wheel for regex: filename=regex-2019.8.19-cp36-cp36m-linux_x86_64.whl size=609244 sha256=f41e14a6c13ea8224ca8e4f1b5b0819b66e11ffcdcde710efc20eab77fb034ba\n",
            "  Stored in directory: /root/.cache/pip/wheels/90/04/07/b5010fb816721eb3d6dd64ed5cc8111ca23f97fdab8619b5be\n",
            "Successfully built regex\n",
            "Installing collected packages: regex\n",
            "Successfully installed regex-2019.8.19\n",
            "Requirement already satisfied: en_core_web_sm==2.1.0 from https://github.com/explosion/spacy-models/releases/download/en_core_web_sm-2.1.0/en_core_web_sm-2.1.0.tar.gz#egg=en_core_web_sm==2.1.0 in /usr/local/lib/python3.6/dist-packages (2.1.0)\n",
            "\u001b[38;5;2m✔ Download and installation successful\u001b[0m\n",
            "You can now load the model via spacy.load('en_core_web_sm')\n",
            "Requirement already satisfied: spacy in /usr/local/lib/python3.6/dist-packages (2.1.8)\n",
            "Requirement already satisfied: thinc<7.1.0,>=7.0.8 in /usr/local/lib/python3.6/dist-packages (from spacy) (7.0.8)\n",
            "Requirement already satisfied: cymem<2.1.0,>=2.0.2 in /usr/local/lib/python3.6/dist-packages (from spacy) (2.0.2)\n",
            "Requirement already satisfied: murmurhash<1.1.0,>=0.28.0 in /usr/local/lib/python3.6/dist-packages (from spacy) (1.0.2)\n",
            "Requirement already satisfied: preshed<2.1.0,>=2.0.1 in /usr/local/lib/python3.6/dist-packages (from spacy) (2.0.1)\n",
            "Requirement already satisfied: blis<0.3.0,>=0.2.2 in /usr/local/lib/python3.6/dist-packages (from spacy) (0.2.4)\n",
            "Requirement already satisfied: plac<1.0.0,>=0.9.6 in /usr/local/lib/python3.6/dist-packages (from spacy) (0.9.6)\n",
            "Requirement already satisfied: wasabi<1.1.0,>=0.2.0 in /usr/local/lib/python3.6/dist-packages (from spacy) (0.2.2)\n",
            "Requirement already satisfied: srsly<1.1.0,>=0.0.6 in /usr/local/lib/python3.6/dist-packages (from spacy) (0.1.0)\n",
            "Requirement already satisfied: numpy>=1.15.0 in /usr/local/lib/python3.6/dist-packages (from spacy) (1.16.5)\n",
            "Requirement already satisfied: requests<3.0.0,>=2.13.0 in /usr/local/lib/python3.6/dist-packages (from spacy) (2.21.0)\n",
            "Requirement already satisfied: tqdm<5.0.0,>=4.10.0 in /usr/local/lib/python3.6/dist-packages (from thinc<7.1.0,>=7.0.8->spacy) (4.28.1)\n",
            "Requirement already satisfied: chardet<3.1.0,>=3.0.2 in /usr/local/lib/python3.6/dist-packages (from requests<3.0.0,>=2.13.0->spacy) (3.0.4)\n",
            "Requirement already satisfied: idna<2.9,>=2.5 in /usr/local/lib/python3.6/dist-packages (from requests<3.0.0,>=2.13.0->spacy) (2.8)\n",
            "Requirement already satisfied: urllib3<1.25,>=1.21.1 in /usr/local/lib/python3.6/dist-packages (from requests<3.0.0,>=2.13.0->spacy) (1.24.3)\n",
            "Requirement already satisfied: certifi>=2017.4.17 in /usr/local/lib/python3.6/dist-packages (from requests<3.0.0,>=2.13.0->spacy) (2019.9.11)\n",
            "Requirement already satisfied: en_core_web_sm==2.1.0 from https://github.com/explosion/spacy-models/releases/download/en_core_web_sm-2.1.0/en_core_web_sm-2.1.0.tar.gz#egg=en_core_web_sm==2.1.0 in /usr/local/lib/python3.6/dist-packages (2.1.0)\n",
            "\u001b[38;5;2m✔ Download and installation successful\u001b[0m\n",
            "You can now load the model via spacy.load('en_core_web_sm')\n",
            "Requirement already satisfied: pyahocorasick in /usr/local/lib/python3.6/dist-packages (1.4.0)\n",
            "Requirement already satisfied: fuzzyset in /usr/local/lib/python3.6/dist-packages (0.0.19)\n",
            "Requirement already satisfied: texttable in /usr/local/lib/python3.6/dist-packages (from fuzzyset) (1.6.2)\n",
            "Requirement already satisfied: python-levenshtein in /usr/local/lib/python3.6/dist-packages (from fuzzyset) (0.12.0)\n",
            "Requirement already satisfied: setuptools in /usr/local/lib/python3.6/dist-packages (from python-levenshtein->fuzzyset) (41.2.0)\n",
            "NVIDIA-SMI has failed because it couldn't communicate with the NVIDIA driver. Make sure that the latest NVIDIA driver is installed and running.\n",
            "\n",
            "Requirement already satisfied: spacy in /usr/local/lib/python3.6/dist-packages (2.1.8)\n",
            "Requirement already satisfied: blis<0.3.0,>=0.2.2 in /usr/local/lib/python3.6/dist-packages (from spacy) (0.2.4)\n",
            "Requirement already satisfied: requests<3.0.0,>=2.13.0 in /usr/local/lib/python3.6/dist-packages (from spacy) (2.21.0)\n",
            "Requirement already satisfied: thinc<7.1.0,>=7.0.8 in /usr/local/lib/python3.6/dist-packages (from spacy) (7.0.8)\n",
            "Requirement already satisfied: srsly<1.1.0,>=0.0.6 in /usr/local/lib/python3.6/dist-packages (from spacy) (0.1.0)\n",
            "Requirement already satisfied: cymem<2.1.0,>=2.0.2 in /usr/local/lib/python3.6/dist-packages (from spacy) (2.0.2)\n",
            "Requirement already satisfied: preshed<2.1.0,>=2.0.1 in /usr/local/lib/python3.6/dist-packages (from spacy) (2.0.1)\n",
            "Requirement already satisfied: wasabi<1.1.0,>=0.2.0 in /usr/local/lib/python3.6/dist-packages (from spacy) (0.2.2)\n",
            "Requirement already satisfied: plac<1.0.0,>=0.9.6 in /usr/local/lib/python3.6/dist-packages (from spacy) (0.9.6)\n",
            "Requirement already satisfied: murmurhash<1.1.0,>=0.28.0 in /usr/local/lib/python3.6/dist-packages (from spacy) (1.0.2)\n",
            "Requirement already satisfied: numpy>=1.15.0 in /usr/local/lib/python3.6/dist-packages (from spacy) (1.16.5)\n",
            "Requirement already satisfied: certifi>=2017.4.17 in /usr/local/lib/python3.6/dist-packages (from requests<3.0.0,>=2.13.0->spacy) (2019.9.11)\n",
            "Requirement already satisfied: chardet<3.1.0,>=3.0.2 in /usr/local/lib/python3.6/dist-packages (from requests<3.0.0,>=2.13.0->spacy) (3.0.4)\n",
            "Requirement already satisfied: urllib3<1.25,>=1.21.1 in /usr/local/lib/python3.6/dist-packages (from requests<3.0.0,>=2.13.0->spacy) (1.24.3)\n",
            "Requirement already satisfied: idna<2.9,>=2.5 in /usr/local/lib/python3.6/dist-packages (from requests<3.0.0,>=2.13.0->spacy) (2.8)\n",
            "Requirement already satisfied: tqdm<5.0.0,>=4.10.0 in /usr/local/lib/python3.6/dist-packages (from thinc<7.1.0,>=7.0.8->spacy) (4.28.1)\n",
            "Requirement already satisfied: en_core_web_sm==2.1.0 from https://github.com/explosion/spacy-models/releases/download/en_core_web_sm-2.1.0/en_core_web_sm-2.1.0.tar.gz#egg=en_core_web_sm==2.1.0 in /usr/local/lib/python3.6/dist-packages (2.1.0)\n",
            "\u001b[38;5;2m✔ Download and installation successful\u001b[0m\n",
            "You can now load the model via spacy.load('en_core_web_sm')\n",
            "Requirement already satisfied: pyahocorasick in /usr/local/lib/python3.6/dist-packages (1.4.0)\n",
            "Requirement already satisfied: fuzzyset in /usr/local/lib/python3.6/dist-packages (0.0.19)\n",
            "Requirement already satisfied: texttable in /usr/local/lib/python3.6/dist-packages (from fuzzyset) (1.6.2)\n",
            "Requirement already satisfied: python-levenshtein in /usr/local/lib/python3.6/dist-packages (from fuzzyset) (0.12.0)\n",
            "Requirement already satisfied: setuptools in /usr/local/lib/python3.6/dist-packages (from python-levenshtein->fuzzyset) (41.2.0)\n"
          ],
          "name": "stdout"
        }
      ]
    },
    {
      "cell_type": "code",
      "metadata": {
        "id": "SFYKmcfoSmYJ",
        "colab_type": "code",
        "outputId": "57538b85-711c-4b9a-81ec-dcf7320e68e7",
        "colab": {
          "base_uri": "https://localhost:8080/",
          "height": 35
        }
      },
      "source": [
        "#experiment_code\n",
        "# tagger = WikiConLLTagger('https://en.wikipedia.org/wiki/Barack_Obama')\n",
        "tagger = WikiConLLTagger('https://en.wikipedia.org/wiki/Donald_Trump')\n",
        "# print(tagger.get_metadata())\n",
        "# with open('meta_data.pkl', 'wb') as f:\n",
        "#     pickle.dump(tagger.get_metadata(), f)"
      ],
      "execution_count": 0,
      "outputs": [
        {
          "output_type": "stream",
          "text": [
            "info card is scraped successfully\n"
          ],
          "name": "stdout"
        }
      ]
    },
    {
      "cell_type": "code",
      "metadata": {
        "id": "IHlU8fELY5DT",
        "colab_type": "code",
        "outputId": "bc57bc5f-86b2-4793-c7ab-254bc67a8963",
        "colab": {
          "base_uri": "https://localhost:8080/",
          "height": 1000
        }
      },
      "source": [
        "#experiment_code\n",
        "df = pd.DataFrame(data = tagger.place_tags())\n",
        "df.to_csv(r'conll_annot.csv', index = None, header=True)"
      ],
      "execution_count": 0,
      "outputs": [
        {
          "output_type": "stream",
          "text": [
            "[['Born', 'PERSON'], ['Donald John Trump']]\n",
            "[['Born', 'DATE'], ['1946-06-14', 'June 14, 1946']]\n",
            "[['Born', 'GPE'], ['New York City', 'Queens']]\n",
            "[['Children', 'PERSON'], ['Donald Jr.', 'Ivanka', 'Eric', 'Tiffany', 'Barron']]\n",
            "[['Spouse(s)', 'PERSON'], ['Ivana Zelníčková', 'Marla Maples', 'Melania Knauss']]\n",
            "[['Parents', 'PERSON'], ['Fred Trump', 'Mary Anne MacLeod']]\n",
            "[['Education', 'ORG'], ['The Wharton School']]\n"
          ],
          "name": "stdout"
        },
        {
          "output_type": "stream",
          "text": [
            "DEBUG:root:------BIRTHDAY MATCHING------\n",
            "DEBUG:root:------BIRTH PLACES------\n",
            "DEBUG:root:------NOUN CHUNCK MATCHING FOR BP------\n",
            "DEBUG:root:------CHILDREN NAMES------\n",
            "DEBUG:root:('Donald Jr.', 'CH', (1303, 1305))\n",
            "DEBUG:root:('Ivanka', 'CH', (1310, 1311))\n",
            "DEBUG:root:('Eric', 'CH', (1317, 1318))\n",
            "DEBUG:root:('Ivana', 'CH', (1328, 1329))\n",
            "DEBUG:root:('Tiffany', 'CH', (1366, 1367))\n",
            "DEBUG:root:('Barron', 'CH', (1405, 1406))\n",
            "DEBUG:root:('John Barron\"', 'CH', (2340, 2343))\n",
            "DEBUG:root:('Ivana', 'CH', (3515, 3516))\n",
            "DEBUG:root:('Donald Jr.', 'CH', (5738, 5740))\n",
            "DEBUG:root:('Eric', 'CH', (5741, 5742))\n",
            "DEBUG:root:('Ivanka', 'CH', (5744, 5745))\n",
            "DEBUG:root:('Donald Trump', 'CH', (6805, 6807))\n",
            "DEBUG:root:('Eric', 'CH', (10637, 10638))\n",
            "DEBUG:root:('Ivanka', 'CH', (10643, 10644))\n",
            "DEBUG:root:('Donald Trump', 'CH', (18544, 18546))\n",
            "DEBUG:root:('Barr', 'CH', (18739, 18740))\n",
            "DEBUG:root:('Barr', 'CH', (18788, 18789))\n",
            "DEBUG:root:('Barr', 'CH', (18848, 18849))\n",
            "DEBUG:root:('Barr', 'CH', (18877, 18878))\n",
            "DEBUG:root:------NOUN CHUNCK MATCHING CHILDREN------\n",
            "DEBUG:root:(' Donald John Trump', 'CH', (0, 4))\n",
            "DEBUG:root:('Donald John Trump', 'CH', (539, 542))\n",
            "DEBUG:root:('Donald Jr.', 'CH', (1303, 1305))\n",
            "DEBUG:root:('Ivanka', 'CH', (1310, 1311))\n",
            "DEBUG:root:('Eric', 'CH', (1317, 1318))\n",
            "DEBUG:root:('Tiffany', 'CH', (1366, 1367))\n",
            "DEBUG:root:('Tiffany', 'CH', (1380, 1381))\n",
            "DEBUG:root:('Barron', 'CH', (1405, 1406))\n",
            "DEBUG:root:('\"John Barron', 'CH', (2339, 2342))\n",
            "DEBUG:root:('Ronald Schnackenberg', 'CH', (5147, 5149))\n",
            "DEBUG:root:('The Donald J. Trump Foundation', 'CH', (5337, 5342))\n",
            "DEBUG:root:('Donald Jr.', 'CH', (5738, 5740))\n",
            "DEBUG:root:('Eric', 'CH', (5741, 5742))\n",
            "DEBUG:root:('Ivanka', 'CH', (5744, 5745))\n",
            "DEBUG:root:('the Donald Trump Foundation', 'CH', (6521, 6525))\n",
            "DEBUG:root:('Donald Trump', 'CH', (6805, 6807))\n",
            "DEBUG:root:('Eric', 'CH', (10637, 10638))\n",
            "DEBUG:root:('Ivanka', 'CH', (10643, 10644))\n",
            "DEBUG:root:('Ronald Reagan', 'CH', (15476, 15478))\n",
            "DEBUG:root:('President Donald Trump', 'CH', (18543, 18546))\n",
            "DEBUG:root:(\"Barr's description\", 'CH', (18877, 18880))\n",
            "DEBUG:root:------EDUCATION INSTITUTIONS------\n",
            "DEBUG:root:('the Wharton School', 'ED', (56, 59))\n",
            "DEBUG:root:('the Wharton School of the University of Pennsylvania', 'ED', (691, 699))\n",
            "DEBUG:root:------NOUN CHUNCK MATCHING FOR EDUCATION------\n",
            "DEBUG:root:('the Wharton School', 'ED', (56, 59))\n",
            "DEBUG:root:('the Wharton School', 'ED', (691, 694))\n",
            "DEBUG:root:------PARENTS NAMES------\n",
            "DEBUG:root:------PERSON ENTITY MATCHING FOR PARENTS------\n",
            "DEBUG:root:('Frederick Christ Trump', 'PR', (568, 571))\n",
            "DEBUG:root:('Mary Anne MacLeod', 'PR', (596, 599))\n",
            "DEBUG:root:('Frederick Trump', 'PR', (1047, 1049))\n",
            "DEBUG:root:('Mary Anne MacLeod', 'PR', (1212, 1215))\n",
            "DEBUG:root:(\"Fred Trump Jr.'s\", 'PR', (1686, 1690))\n",
            "DEBUG:root:('Fred Trump', 'PR', (2893, 2895))\n",
            "DEBUG:root:------NOUN CHUNCK MATCHING FOR PARENTS------\n",
            "DEBUG:root:------SPOUSES NAMES------\n",
            "DEBUG:root:('Ivanka', 'SP', (1310, 1311))\n",
            "DEBUG:root:('Ivana', 'SP', (1328, 1329))\n",
            "DEBUG:root:('Marla Maples', 'SP', (1351, 1353))\n",
            "DEBUG:root:('Melania Knauss', 'SP', (1396, 1398))\n",
            "DEBUG:root:('Ivana', 'SP', (3515, 3516))\n",
            "DEBUG:root:('Ivanka', 'SP', (5744, 5745))\n",
            "DEBUG:root:('Ivanka', 'SP', (10643, 10644))\n",
            "DEBUG:root:------NOUN CHUNCK MATCHING FOR SPOUSES------\n",
            "DEBUG:root:('Czech model Ivana Zelníčková', 'SP', (1292, 1296))\n",
            "DEBUG:root:('Ivanka', 'SP', (1310, 1311))\n",
            "DEBUG:root:('Ivana', 'SP', (1328, 1329))\n",
            "DEBUG:root:('actress Marla Maples', 'SP', (1350, 1353))\n",
            "DEBUG:root:('Marla', 'SP', (1384, 1385))\n",
            "DEBUG:root:('Melania', 'SP', (1412, 1413))\n",
            "DEBUG:root:('Ivana', 'SP', (3515, 3516))\n",
            "DEBUG:root:('Ivanka', 'SP', (5744, 5745))\n",
            "DEBUG:root:('Ivanka', 'SP', (10643, 10644))\n"
          ],
          "name": "stderr"
        }
      ]
    },
    {
      "cell_type": "code",
      "metadata": {
        "id": "zlqONJZwyP4e",
        "colab_type": "code",
        "outputId": "b537acea-50e8-400a-bfac-f395e8cf6d2a",
        "colab": {
          "base_uri": "https://localhost:8080/",
          "height": 1000
        }
      },
      "source": [
        "wget.download('https://github.com/ratmcu/wiki_ner/blob/master/president_list.pkl?raw=true')\n",
        "category = 'politicians'\n",
        "\n",
        "## pipeline this to accomodate other categories\n",
        "\n",
        "with open('president_list.pkl', 'rb') as f:\n",
        "    prsdnt_list = pickle.load(f)\n",
        "print(prsdnt_list)\n",
        "for cntry in prsdnt_list:\n",
        "    for prsdnt in cntry['presidents']:\n",
        "        if cntry['country'] and prsdnt['name']:\n",
        "            path = 'dataset' + '/' + category + '/' + cntry['country'] + '/' +  prsdnt['name']\n",
        "        else:\n",
        "            continue\n",
        "        if not os.path.exists(path):\n",
        "            os.makedirs(path)\n",
        "        else:\n",
        "            continue\n",
        "        try:\n",
        "            tagger = WikiConLLTagger(prsdnt['url'])\n",
        "            df = pd.DataFrame(data = tagger.place_tags())\n",
        "            df.to_csv(r'{0}/conll_tagged.csv'.format(path), index = None, header=True)\n",
        "        except:\n",
        "            print(\"failed to annotate the page!\")\n",
        "            print(prsdnt['url'])\n",
        "            \n",
        "import tarfile\n",
        "tar =  tarfile.open('dataset.tar.gz', mode='w:gz')\n",
        "tar.add('dataset')\n",
        "tar.close()    \n"
      ],
      "execution_count": 0,
      "outputs": [
        {
          "output_type": "stream",
          "text": [
            "[{'country': 'United Nations System', 'url': 'https://en.wikipedia.org/wiki/United_Nations_System', 'presidents': []}, {'country': 'Member states of the United Nations', 'url': 'https://en.wikipedia.org/wiki/Member_states_of_the_United_Nations', 'presidents': []}, {'country': 'Afghanistan', 'url': 'https://en.wikipedia.org/wiki/Afghanistan', 'presidents': [{'name': 'Ashraf Ghani', 'url': 'https://en.wikipedia.org/wiki/Ashraf_Ghani'}, {'name': 'Hamid Karzai', 'url': 'https://en.wikipedia.org/wiki/Hamid_Karzai'}, {'name': 'Sibghatullah Mojaddedi', 'url': 'https://en.wikipedia.org/wiki/Sibghatullah_Mojaddedi'}, {'name': 'Babrak Karmal', 'url': 'https://en.wikipedia.org/wiki/Babrak_Karmal'}, {'name': 'Hafizullah Amin', 'url': 'https://en.wikipedia.org/wiki/Hafizullah_Amin'}, {'name': 'Burhanuddin Rabani', 'url': 'https://en.wikipedia.org/wiki/Burhanuddin_Rabani'}, {'name': 'Abdul Rahim Hatif', 'url': 'https://en.wikipedia.org/wiki/Abdul_Rahim_Hatif'}, {'name': 'Haji Mohammad Chamkani', 'url': 'https://en.wikipedia.org/wiki/Haji_Mohammad_Chamkani'}, {'name': 'Nur Muhammad Taraki', 'url': 'https://en.wikipedia.org/wiki/Nur_Muhammad_Taraki'}, {'name': 'Mohammad Najibullah', 'url': 'https://en.wikipedia.org/wiki/Mohammad_Najibullah'}]}, {'country': 'Albania', 'url': 'https://en.wikipedia.org/wiki/Albania', 'presidents': [{'name': 'Ilir Meta', 'url': 'https://en.wikipedia.org/wiki/Ilir_Meta'}, {'name': 'Rexhep Meidani', 'url': 'https://en.wikipedia.org/wiki/Rexhep_Meidani'}, {'name': 'Alfred Moisiu', 'url': 'https://en.wikipedia.org/wiki/Alfred_Moisiu'}, {'name': 'Ilir Meta', 'url': 'https://en.wikipedia.org/wiki/Ilir_Meta'}, {'name': 'Bamir Topi', 'url': 'https://en.wikipedia.org/wiki/Bamir_Topi'}, {'name': 'Sali Berisha', 'url': 'https://en.wikipedia.org/wiki/Sali_Berisha'}, {'name': 'Bujar Nishani', 'url': 'https://en.wikipedia.org/wiki/Bujar_Nishani'}, {'name': 'Pandeli Majko', 'url': 'https://en.wikipedia.org/wiki/Pandeli_Majko'}, {'name': 'Fatos Nano', 'url': 'https://en.wikipedia.org/wiki/Fatos_Nano'}]}, {'country': 'Algeria', 'url': 'https://en.wikipedia.org/wiki/Algeria', 'presidents': [{'name': 'Abdelkader Bensalah', 'url': 'https://en.wikipedia.org/wiki/Abdelkader_Bensalah'}, {'name': 'Abdelmalek Benhabyles', 'url': 'https://en.wikipedia.org/wiki/Abdelmalek_Benhabyles'}, {'name': 'Mohamed Boudiaf', 'url': 'https://en.wikipedia.org/wiki/Mohamed_Boudiaf'}, {'name': 'Chadli Bendjedid', 'url': 'https://en.wikipedia.org/wiki/Chadli_Bendjedid'}, {'name': 'Liamine Zéroual', 'url': 'https://en.wikipedia.org/wiki/Liamine_Z%C3%A9roual'}, {'name': 'Abdelaziz Bouteflika', 'url': 'https://en.wikipedia.org/wiki/Abdelaziz_Bouteflika'}, {'name': 'Ali Kafi', 'url': 'https://en.wikipedia.org/wiki/Ali_Kafi'}, {'name': 'Rabah Bitat', 'url': 'https://en.wikipedia.org/wiki/Rabah_Bitat'}, {'name': 'Houari Boumediene', 'url': 'https://en.wikipedia.org/wiki/Houari_Boumediene'}]}, {'country': 'Andorra', 'url': 'https://en.wikipedia.org/wiki/Andorra', 'presidents': []}, {'country': 'Angola', 'url': 'https://en.wikipedia.org/wiki/Angola', 'presidents': [{'name': 'João Lourenço', 'url': 'https://en.wikipedia.org/wiki/Jo%C3%A3o_Louren%C3%A7o'}, {'name': 'José Eduardo dos Santos', 'url': 'https://en.wikipedia.org/wiki/Jos%C3%A9_Eduardo_dos_Santos'}, {'name': 'Lúcio Lara', 'url': 'https://en.wikipedia.org/wiki/L%C3%BAcio_Lara'}]}, {'country': 'Antigua and Barbuda', 'url': 'https://en.wikipedia.org/wiki/Antigua_and_Barbuda', 'presidents': []}, {'country': 'Argentina', 'url': 'https://en.wikipedia.org/wiki/Argentina', 'presidents': [{'name': 'Mauricio Macri', 'url': 'https://en.wikipedia.org/wiki/Mauricio_Macri'}, {'name': 'Jorge Rafael Videla', 'url': 'https://en.wikipedia.org/wiki/Jorge_Rafael_Videla'}, {'name': 'Pedro Eugenio Aramburu', 'url': 'https://en.wikipedia.org/wiki/Pedro_Eugenio_Aramburu'}, {'name': 'Raúl Alfonsín', 'url': 'https://en.wikipedia.org/wiki/Ra%C3%BAl_Alfons%C3%ADn'}, {'name': 'Arturo Umberto Illia', 'url': 'https://en.wikipedia.org/wiki/Arturo_Umberto_Illia'}, {'name': 'Héctor José Cámpora', 'url': 'https://en.wikipedia.org/wiki/H%C3%A9ctor_Jos%C3%A9_C%C3%A1mpora'}, {'name': 'Alfredo Oscar Saint Jean', 'url': 'https://en.wikipedia.org/wiki/Alfredo_Oscar_Saint_Jean'}, {'name': 'Raúl Alberto Lastiri', 'url': 'https://en.wikipedia.org/wiki/Ra%C3%BAl_Alberto_Lastiri'}, {'name': 'Adolfo Rodríguez Saá', 'url': 'https://en.wikipedia.org/wiki/Adolfo_Rodr%C3%ADguez_Sa%C3%A1'}, {'name': 'Leopoldo Galtieri', 'url': 'https://en.wikipedia.org/wiki/Leopoldo_Galtieri'}, {'name': 'José María Guido', 'url': 'https://en.wikipedia.org/wiki/Jos%C3%A9_Mar%C3%ADa_Guido'}, {'name': 'Carlos Lacoste', 'url': 'https://en.wikipedia.org/wiki/Carlos_Lacoste'}, {'name': 'Roberto M. Levingston', 'url': 'https://en.wikipedia.org/wiki/Roberto_M._Levingston'}, {'name': 'Néstor Kirchner', 'url': 'https://en.wikipedia.org/wiki/N%C3%A9stor_Kirchner'}, {'name': 'Juan Carlos Onganía', 'url': 'https://en.wikipedia.org/wiki/Juan_Carlos_Ongan%C3%ADa'}, {'name': 'Eduardo Duhalde', 'url': 'https://en.wikipedia.org/wiki/Eduardo_Duhalde'}, {'name': 'Arturo Frondizi', 'url': 'https://en.wikipedia.org/wiki/Arturo_Frondizi'}, {'name': 'Cristina Fernández de Kirchner', 'url': 'https://en.wikipedia.org/wiki/Cristina_Fern%C3%A1ndez_de_Kirchner'}, {'name': 'Carlos Menem', 'url': 'https://en.wikipedia.org/wiki/Carlos_Menem'}, {'name': 'Juan Perón', 'url': 'https://en.wikipedia.org/wiki/Juan_Per%C3%B3n'}, {'name': 'Alejandro Agustín Lanusse', 'url': 'https://en.wikipedia.org/wiki/Alejandro_Agust%C3%ADn_Lanusse'}, {'name': 'Fernando de la Rúa', 'url': 'https://en.wikipedia.org/wiki/Fernando_de_la_R%C3%BAa'}, {'name': 'Isabel Martínez de Perón', 'url': 'https://en.wikipedia.org/wiki/Isabel_Mart%C3%ADnez_de_Per%C3%B3n'}, {'name': 'Reynaldo Bignone', 'url': 'https://en.wikipedia.org/wiki/Reynaldo_Bignone'}, {'name': 'Eduardo Lonardi', 'url': 'https://en.wikipedia.org/wiki/Eduardo_Lonardi'}, {'name': 'Roberto Eduardo Viola', 'url': 'https://en.wikipedia.org/wiki/Roberto_Eduardo_Viola'}]}, {'country': 'Armenia', 'url': 'https://en.wikipedia.org/wiki/Armenia', 'presidents': [{'name': 'Armen Sarkissian', 'url': 'https://en.wikipedia.org/wiki/Armen_Sarkissian'}, {'name': 'Serzh Sargsyan', 'url': 'https://en.wikipedia.org/wiki/Serzh_Sargsyan'}, {'name': 'Robert Kocharyan', 'url': 'https://en.wikipedia.org/wiki/Robert_Kocharyan'}, {'name': 'Levon Ter-Petrossian', 'url': 'https://en.wikipedia.org/wiki/Levon_Ter-Petrossian'}]}, {'country': 'Australia', 'url': 'https://en.wikipedia.org/wiki/Australia', 'presidents': []}, {'country': 'Austria', 'url': 'https://en.wikipedia.org/wiki/Austria', 'presidents': [{'name': 'Alexander Van der Bellen', 'url': 'https://en.wikipedia.org/wiki/Alexander_Van_der_Bellen'}, {'name': 'Wilhelm Miklas', 'url': 'https://en.wikipedia.org/wiki/Wilhelm_Miklas'}, {'name': 'Theodor Körner (Austrian president)', 'url': 'https://en.wikipedia.org/wiki/Theodor_K%C3%B6rner_(Austrian_president)'}, {'name': 'Karl Renner', 'url': 'https://en.wikipedia.org/wiki/Karl_Renner'}, {'name': 'State Council (German-Austria)', 'url': 'https://en.wikipedia.org/wiki/State_Council_(German-Austria)'}, {'name': 'Michael Hainisch', 'url': 'https://en.wikipedia.org/wiki/Michael_Hainisch'}, {'name': 'Franz Jonas', 'url': 'https://en.wikipedia.org/wiki/Franz_Jonas'}, {'name': 'Adolf Schärf', 'url': 'https://en.wikipedia.org/wiki/Adolf_Sch%C3%A4rf'}, {'name': 'Karl Seitz', 'url': 'https://en.wikipedia.org/wiki/Karl_Seitz'}, {'name': 'Heinz Fischer', 'url': 'https://en.wikipedia.org/wiki/Heinz_Fischer'}, {'name': 'Kurt Waldheim', 'url': 'https://en.wikipedia.org/wiki/Kurt_Waldheim'}, {'name': 'Emperor of Austria', 'url': 'https://en.wikipedia.org/wiki/Emperor_of_Austria'}, {'name': 'Leopold Figl', 'url': 'https://en.wikipedia.org/wiki/Leopold_Figl'}, {'name': 'Thomas Klestil', 'url': 'https://en.wikipedia.org/wiki/Thomas_Klestil'}, {'name': 'Rudolf Kirchschläger', 'url': 'https://en.wikipedia.org/wiki/Rudolf_Kirchschl%C3%A4ger'}]}, {'country': 'Azerbaijan', 'url': 'https://en.wikipedia.org/wiki/Azerbaijan', 'presidents': [{'name': 'Ilham Aliyev', 'url': 'https://en.wikipedia.org/wiki/Ilham_Aliyev'}, {'name': 'Abulfaz Elchibey', 'url': 'https://en.wikipedia.org/wiki/Abulfaz_Elchibey'}, {'name': 'Ayaz Mutallibov', 'url': 'https://en.wikipedia.org/wiki/Ayaz_Mutallibov'}, {'name': 'Isa Gambar', 'url': 'https://en.wikipedia.org/wiki/Isa_Gambar'}, {'name': 'Heydar Aliyev', 'url': 'https://en.wikipedia.org/wiki/Heydar_Aliyev'}]}, {'country': 'The Bahamas', 'url': 'https://en.wikipedia.org/wiki/The_Bahamas', 'presidents': []}, {'country': 'Bahrain', 'url': 'https://en.wikipedia.org/wiki/Bahrain', 'presidents': []}, {'country': 'Bangladesh', 'url': 'https://en.wikipedia.org/wiki/Bangladesh', 'presidents': [{'name': 'Abdul Hamid (politician)', 'url': 'https://en.wikipedia.org/wiki/Abdul_Hamid_(politician)'}, {'name': 'Muhammad Jamiruddin Sircar', 'url': 'https://en.wikipedia.org/wiki/Muhammad_Jamiruddin_Sircar'}, {'name': 'Sheikh Hasina', 'url': 'https://en.wikipedia.org/wiki/Sheikh_Hasina'}, {'name': 'Fazlul Haque (judge)', 'url': 'https://en.wikipedia.org/wiki/Fazlul_Haque_(judge)'}, {'name': 'Shahabuddin Ahmed', 'url': 'https://en.wikipedia.org/wiki/Shahabuddin_Ahmed'}, {'name': 'Fakhruddin Ahmed', 'url': 'https://en.wikipedia.org/wiki/Fakhruddin_Ahmed'}, {'name': 'Hussain Muhammad Ershad', 'url': 'https://en.wikipedia.org/wiki/Hussain_Muhammad_Ershad'}, {'name': 'Zillur Rahman', 'url': 'https://en.wikipedia.org/wiki/Zillur_Rahman'}, {'name': 'Rowshan Ershad', 'url': 'https://en.wikipedia.org/wiki/Rowshan_Ershad'}, {'name': 'Khaleda Zia', 'url': 'https://en.wikipedia.org/wiki/Khaleda_Zia'}, {'name': 'Latifur Rahman', 'url': 'https://en.wikipedia.org/wiki/Latifur_Rahman'}, {'name': 'Iajuddin Ahmed', 'url': 'https://en.wikipedia.org/wiki/Iajuddin_Ahmed'}, {'name': 'A. Q. M. Badruddoza Chowdhury', 'url': 'https://en.wikipedia.org/wiki/A._Q._M._Badruddoza_Chowdhury'}]}, {'country': 'Barbados', 'url': 'https://en.wikipedia.org/wiki/Barbados', 'presidents': []}, {'country': 'Belarus', 'url': 'https://en.wikipedia.org/wiki/Belarus', 'presidents': [{'name': 'Alexander Lukashenko', 'url': 'https://en.wikipedia.org/wiki/Alexander_Lukashenko'}]}, {'country': 'Belgium', 'url': 'https://en.wikipedia.org/wiki/Belgium', 'presidents': []}, {'country': 'Belize', 'url': 'https://en.wikipedia.org/wiki/Belize', 'presidents': []}, {'country': 'Benin', 'url': 'https://en.wikipedia.org/wiki/Benin', 'presidents': [{'name': 'Patrice Talon', 'url': 'https://en.wikipedia.org/wiki/Patrice_Talon'}, {'name': 'Thomas Boni Yayi', 'url': 'https://en.wikipedia.org/wiki/Thomas_Boni_Yayi'}, {'name': 'Hubert Maga', 'url': 'https://en.wikipedia.org/wiki/Hubert_Maga'}, {'name': 'Justin Ahomadégbé-Tomêtin', 'url': 'https://en.wikipedia.org/wiki/Justin_Ahomad%C3%A9gb%C3%A9-Tom%C3%AAtin'}, {'name': 'Christophe Soglo', 'url': 'https://en.wikipedia.org/wiki/Christophe_Soglo'}, {'name': 'Mathieu Kérékou', 'url': 'https://en.wikipedia.org/wiki/Mathieu_K%C3%A9r%C3%A9kou'}, {'name': 'Sourou-Migan Apithy', 'url': 'https://en.wikipedia.org/wiki/Sourou-Migan_Apithy'}]}, {'country': 'Bhutan', 'url': 'https://en.wikipedia.org/wiki/Bhutan', 'presidents': []}, {'country': 'Bolivia', 'url': 'https://en.wikipedia.org/wiki/Bolivia', 'presidents': [{'name': 'Evo Morales', 'url': 'https://en.wikipedia.org/wiki/Evo_Morales'}, {'name': 'Celso Torrelio', 'url': 'https://en.wikipedia.org/wiki/Celso_Torrelio'}, {'name': 'Hernán Siles Zuazo', 'url': 'https://en.wikipedia.org/wiki/Hern%C3%A1n_Siles_Zuazo'}, {'name': 'Carlos Mesa', 'url': 'https://en.wikipedia.org/wiki/Carlos_Mesa'}, {'name': 'Jaime Paz Zamora', 'url': 'https://en.wikipedia.org/wiki/Jaime_Paz_Zamora'}, {'name': 'Gonzalo Sánchez de Lozada', 'url': 'https://en.wikipedia.org/wiki/Gonzalo_S%C3%A1nchez_de_Lozada'}, {'name': 'Hugo Banzer', 'url': 'https://en.wikipedia.org/wiki/Hugo_Banzer'}, {'name': 'David Padilla', 'url': 'https://en.wikipedia.org/wiki/David_Padilla'}, {'name': 'Juan Pereda', 'url': 'https://en.wikipedia.org/wiki/Juan_Pereda'}, {'name': 'Guido Vildoso', 'url': 'https://en.wikipedia.org/wiki/Guido_Vildoso'}, {'name': 'Víctor Paz Estenssoro', 'url': 'https://en.wikipedia.org/wiki/V%C3%ADctor_Paz_Estenssoro'}, {'name': 'Lidia Gueiler', 'url': 'https://en.wikipedia.org/wiki/Lidia_Gueiler'}, {'name': 'Eduardo Rodríguez', 'url': 'https://en.wikipedia.org/wiki/Eduardo_Rodr%C3%ADguez'}, {'name': 'Wálter Guevara', 'url': 'https://en.wikipedia.org/wiki/W%C3%A1lter_Guevara'}, {'name': 'Luis García Meza', 'url': 'https://en.wikipedia.org/wiki/Luis_Garc%C3%ADa_Meza'}, {'name': 'Alberto Natusch', 'url': 'https://en.wikipedia.org/wiki/Alberto_Natusch'}]}, {'country': 'Bosnia and Herzegovina', 'url': 'https://en.wikipedia.org/wiki/Bosnia_and_Herzegovina', 'presidents': []}, {'country': 'Botswana', 'url': 'https://en.wikipedia.org/wiki/Botswana', 'presidents': [{'name': 'Mokgweetsi Masisi', 'url': 'https://en.wikipedia.org/wiki/Mokgweetsi_Masisi'}, {'name': 'Seretse Khama', 'url': 'https://en.wikipedia.org/wiki/Seretse_Khama'}, {'name': None, 'url': 'https://en.wikipedia.org#cite_note-Constitution-1'}, {'name': 'Quett Masire', 'url': 'https://en.wikipedia.org/wiki/Quett_Masire'}, {'name': 'Ian Khama', 'url': 'https://en.wikipedia.org/wiki/Ian_Khama'}, {'name': 'Festus Mogae', 'url': 'https://en.wikipedia.org/wiki/Festus_Mogae'}]}, {'country': 'Brazil', 'url': 'https://en.wikipedia.org/wiki/Brazil', 'presidents': [{'name': 'Jair Bolsonaro', 'url': 'https://en.wikipedia.org/wiki/Jair_Bolsonaro'}, {'name': 'Fernando Collor de Mello', 'url': 'https://en.wikipedia.org/wiki/Fernando_Collor_de_Mello'}, {'name': 'João Figueiredo', 'url': 'https://en.wikipedia.org/wiki/Jo%C3%A3o_Figueiredo'}, {'name': 'Dilma Rousseff', 'url': 'https://en.wikipedia.org/wiki/Dilma_Rousseff'}, {'name': 'Humberto de Alencar Castelo Branco', 'url': 'https://en.wikipedia.org/wiki/Humberto_de_Alencar_Castelo_Branco'}, {'name': 'Café Filho', 'url': 'https://en.wikipedia.org/wiki/Caf%C3%A9_Filho'}, {'name': 'Getúlio Vargas', 'url': 'https://en.wikipedia.org/wiki/Get%C3%BAlio_Vargas'}, {'name': 'Juscelino Kubitschek', 'url': 'https://en.wikipedia.org/wiki/Juscelino_Kubitschek'}, {'name': 'Brazilian Military Junta of 1930', 'url': 'https://en.wikipedia.org/wiki/Brazilian_Military_Junta_of_1930'}, {'name': 'Michel Temer', 'url': 'https://en.wikipedia.org/wiki/Michel_Temer'}, {'name': 'Carlos Luz', 'url': 'https://en.wikipedia.org/wiki/Carlos_Luz'}, {'name': 'Itamar Franco', 'url': 'https://en.wikipedia.org/wiki/Itamar_Franco'}, {'name': 'Nereu Ramos', 'url': 'https://en.wikipedia.org/wiki/Nereu_Ramos'}, {'name': 'Brazilian Military Junta', 'url': 'https://en.wikipedia.org/wiki/Brazilian_Military_Junta'}, {'name': 'Pascoal Ranieri Mazzilli', 'url': 'https://en.wikipedia.org/wiki/Pascoal_Ranieri_Mazzilli'}, {'name': 'José Sarney', 'url': 'https://en.wikipedia.org/wiki/Jos%C3%A9_Sarney'}, {'name': 'Luiz Inácio Lula da Silva', 'url': 'https://en.wikipedia.org/wiki/Luiz_In%C3%A1cio_Lula_da_Silva'}, {'name': 'Ernesto Geisel', 'url': 'https://en.wikipedia.org/wiki/Ernesto_Geisel'}, {'name': 'Jânio Quadros', 'url': 'https://en.wikipedia.org/wiki/J%C3%A2nio_Quadros'}, {'name': 'Emílio Garrastazu Médici', 'url': 'https://en.wikipedia.org/wiki/Em%C3%ADlio_Garrastazu_M%C3%A9dici'}, {'name': 'Arthur da Costa e Silva', 'url': 'https://en.wikipedia.org/wiki/Arthur_da_Costa_e_Silva'}, {'name': 'Fernando Henrique Cardoso', 'url': 'https://en.wikipedia.org/wiki/Fernando_Henrique_Cardoso'}]}, {'country': 'Brunei', 'url': 'https://en.wikipedia.org/wiki/Brunei', 'presidents': []}, {'country': 'Bulgaria', 'url': 'https://en.wikipedia.org/wiki/Bulgaria', 'presidents': [{'name': 'Rumen Radev', 'url': 'https://en.wikipedia.org/wiki/Rumen_Radev'}, {'name': 'Petar Stoyanov', 'url': 'https://en.wikipedia.org/wiki/Petar_Stoyanov'}, {'name': 'Georgi Parvanov', 'url': 'https://en.wikipedia.org/wiki/Georgi_Parvanov'}, {'name': 'Zhelyu Zhelev', 'url': 'https://en.wikipedia.org/wiki/Zhelyu_Zhelev'}, {'name': 'Rosen Plevneliev', 'url': 'https://en.wikipedia.org/wiki/Rosen_Plevneliev'}]}, {'country': 'Burkina Faso', 'url': 'https://en.wikipedia.org/wiki/Burkina_Faso', 'presidents': [{'name': 'Roch Marc Christian Kaboré', 'url': 'https://en.wikipedia.org/wiki/Roch_Marc_Christian_Kabor%C3%A9'}, {'name': 'Gilbert Diendéré', 'url': 'https://en.wikipedia.org/wiki/Gilbert_Diend%C3%A9r%C3%A9'}, {'name': 'Michel Kafando', 'url': 'https://en.wikipedia.org/wiki/Michel_Kafando'}]}, {'country': 'Burundi', 'url': 'https://en.wikipedia.org/wiki/Burundi', 'presidents': [{'name': 'Pierre Nkurunziza', 'url': 'https://en.wikipedia.org/wiki/Pierre_Nkurunziza'}, {'name': 'Sylvestre Ntibantunganya', 'url': 'https://en.wikipedia.org/wiki/Sylvestre_Ntibantunganya'}, {'name': 'Pierre Buyoya', 'url': 'https://en.wikipedia.org/wiki/Pierre_Buyoya'}, {'name': 'Domitien Ndayizeye', 'url': 'https://en.wikipedia.org/wiki/Domitien_Ndayizeye'}]}, {'country': 'Cambodia', 'url': 'https://en.wikipedia.org/wiki/Cambodia', 'presidents': []}, {'country': 'Cameroon', 'url': 'https://en.wikipedia.org/wiki/Cameroon', 'presidents': [{'name': 'Paul Biya', 'url': 'https://en.wikipedia.org/wiki/Paul_Biya'}, {'name': 'Ahmadou Ahidjo', 'url': 'https://en.wikipedia.org/wiki/Ahmadou_Ahidjo'}]}, {'country': 'Canada', 'url': 'https://en.wikipedia.org/wiki/Canada', 'presidents': []}, {'country': 'Cape Verde', 'url': 'https://en.wikipedia.org/wiki/Cape_Verde', 'presidents': [{'name': 'Jorge Carlos Fonseca', 'url': 'https://en.wikipedia.org/wiki/Jorge_Carlos_Fonseca'}, {'name': 'Aristides Pereira', 'url': 'https://en.wikipedia.org/wiki/Aristides_Pereira'}, {'name': 'António Mascarenhas Monteiro', 'url': 'https://en.wikipedia.org/wiki/Ant%C3%B3nio_Mascarenhas_Monteiro'}, {'name': 'Pedro Pires', 'url': 'https://en.wikipedia.org/wiki/Pedro_Pires'}]}, {'country': 'Central African Republic', 'url': 'https://en.wikipedia.org/wiki/Central_African_Republic', 'presidents': [{'name': 'Faustin-Archange Touadéra', 'url': 'https://en.wikipedia.org/wiki/Faustin-Archange_Touad%C3%A9ra'}, {'name': 'Alexandre-Ferdinand Nguendet', 'url': 'https://en.wikipedia.org/wiki/Alexandre-Ferdinand_Nguendet'}, {'name': 'Abel Goumba', 'url': 'https://en.wikipedia.org/wiki/Abel_Goumba'}, {'name': 'Célestin Gaombalet', 'url': 'https://en.wikipedia.org/wiki/C%C3%A9lestin_Gaombalet'}, {'name': 'Catherine Samba-Panza', 'url': 'https://en.wikipedia.org/wiki/Catherine_Samba-Panza'}]}, {'country': 'Chad', 'url': 'https://en.wikipedia.org/wiki/Chad', 'presidents': [{'name': 'Idriss Deby', 'url': 'https://en.wikipedia.org/wiki/Idriss_Deby'}, {'name': 'Lol Mahamat Choua', 'url': 'https://en.wikipedia.org/wiki/Lol_Mahamat_Choua'}, {'name': 'Goukouni Oueddei', 'url': 'https://en.wikipedia.org/wiki/Goukouni_Oueddei'}, {'name': 'Hissène Habré', 'url': 'https://en.wikipedia.org/wiki/Hiss%C3%A8ne_Habr%C3%A9'}]}, {'country': 'Chile', 'url': 'https://en.wikipedia.org/wiki/Chile', 'presidents': [{'name': 'Sebastián Piñera', 'url': 'https://en.wikipedia.org/wiki/Sebasti%C3%A1n_Pi%C3%B1era'}, {'name': 'Sebastián Piñera', 'url': 'https://en.wikipedia.org/wiki/Sebasti%C3%A1n_Pi%C3%B1era'}, {'name': 'Michelle Bachelet', 'url': 'https://en.wikipedia.org/wiki/Michelle_Bachelet'}]}, {'country': 'China', 'url': 'https://en.wikipedia.org/wiki/China', 'presidents': []}, {'country': 'Colombia', 'url': 'https://en.wikipedia.org/wiki/Colombia', 'presidents': [{'name': 'Iván Duque', 'url': 'https://en.wikipedia.org/wiki/Iv%C3%A1n_Duque'}, {'name': 'Andrés Pastrana Arango', 'url': 'https://en.wikipedia.org/wiki/Andr%C3%A9s_Pastrana_Arango'}, {'name': 'João Clemente Baena Soares', 'url': 'https://en.wikipedia.org/wiki/Jo%C3%A3o_Clemente_Baena_Soares'}, {'name': 'César Gaviria', 'url': 'https://en.wikipedia.org/wiki/C%C3%A9sar_Gaviria'}, {'name': 'Juan Manuel Santos Calderón', 'url': 'https://en.wikipedia.org/wiki/Juan_Manuel_Santos_Calder%C3%B3n'}, {'name': 'Ernesto Samper', 'url': 'https://en.wikipedia.org/wiki/Ernesto_Samper'}, {'name': 'Álvaro Uribe', 'url': 'https://en.wikipedia.org/wiki/%C3%81lvaro_Uribe'}]}, {'country': 'Comoros', 'url': 'https://en.wikipedia.org/wiki/Comoros', 'presidents': [{'name': 'Azali Assoumani', 'url': 'https://en.wikipedia.org/wiki/Azali_Assoumani'}, {'name': 'Ahmed Abdallah Mohamed Sambi', 'url': 'https://en.wikipedia.org/wiki/Ahmed_Abdallah_Mohamed_Sambi'}, {'name': 'Azali Assoumani', 'url': 'https://en.wikipedia.org/wiki/Azali_Assoumani'}, {'name': 'Ikililou Dhoinine', 'url': 'https://en.wikipedia.org/wiki/Ikililou_Dhoinine'}]}, {'country': 'Democratic Republic of the Congo', 'url': 'https://en.wikipedia.org/wiki/Democratic_Republic_of_the_Congo', 'presidents': [{'name': 'Félix Tshisekedi', 'url': 'https://en.wikipedia.org/wiki/F%C3%A9lix_Tshisekedi'}, {'name': 'Joseph Kabila', 'url': 'https://en.wikipedia.org/wiki/Joseph_Kabila'}, {'name': 'Laurent-Désiré Kabila', 'url': 'https://en.wikipedia.org/wiki/Laurent-D%C3%A9sir%C3%A9_Kabila'}, {'name': 'Joseph Kasa-Vubu', 'url': 'https://en.wikipedia.org/wiki/Joseph_Kasa-Vubu'}, {'name': 'Mobutu Sese Seko', 'url': 'https://en.wikipedia.org/wiki/Mobutu_Sese_Seko'}]}, {'country': 'Republic of the Congo', 'url': 'https://en.wikipedia.org/wiki/Republic_of_the_Congo', 'presidents': [{'name': 'Denis Sassou Nguesso', 'url': 'https://en.wikipedia.org/wiki/Denis_Sassou_Nguesso'}, {'name': 'Denis Sassou Nguesso', 'url': 'https://en.wikipedia.org/wiki/Denis_Sassou_Nguesso'}, {'name': 'Pascal Lissouba', 'url': 'https://en.wikipedia.org/wiki/Pascal_Lissouba'}]}, {'country': 'Costa Rica', 'url': 'https://en.wikipedia.org/wiki/Costa_Rica', 'presidents': [{'name': 'Carlos Alvarado Quesada', 'url': 'https://en.wikipedia.org/wiki/Carlos_Alvarado_Quesada'}, {'name': 'Luis Guillermo Solís', 'url': 'https://en.wikipedia.org/wiki/Luis_Guillermo_Sol%C3%ADs'}, {'name': 'Óscar Arias', 'url': 'https://en.wikipedia.org/wiki/%C3%93scar_Arias'}, {'name': 'João Clemente Baena Soares', 'url': 'https://en.wikipedia.org/wiki/Jo%C3%A3o_Clemente_Baena_Soares'}, {'name': 'César Gaviria', 'url': 'https://en.wikipedia.org/wiki/C%C3%A9sar_Gaviria'}, {'name': 'Miguel Ángel Rodríguez', 'url': 'https://en.wikipedia.org/wiki/Miguel_%C3%81ngel_Rodr%C3%ADguez'}, {'name': 'Abel Pacheco', 'url': 'https://en.wikipedia.org/wiki/Abel_Pacheco'}, {'name': 'Laura Chinchilla', 'url': 'https://en.wikipedia.org/wiki/Laura_Chinchilla'}]}, {'country': 'Croatia', 'url': 'https://en.wikipedia.org/wiki/Croatia', 'presidents': [{'name': 'Kolinda Grabar-Kitarović', 'url': 'https://en.wikipedia.org/wiki/Kolinda_Grabar-Kitarovi%C4%87'}, {'name': 'Zlatko Tomčić', 'url': 'https://en.wikipedia.org/wiki/Zlatko_Tom%C4%8Di%C4%87'}, {'name': 'Stjepan Mesić', 'url': 'https://en.wikipedia.org/wiki/Stjepan_Mesi%C4%87'}, {'name': 'Josip Torbar (politician)', 'url': 'https://en.wikipedia.org/wiki/Josip_Torbar_(politician)'}, {'name': 'Ivo Josipović', 'url': 'https://en.wikipedia.org/wiki/Ivo_Josipovi%C4%87'}]}, {'country': 'Cuba', 'url': 'https://en.wikipedia.org/wiki/Cuba', 'presidents': [{'name': 'Miguel Díaz-Canel', 'url': 'https://en.wikipedia.org/wiki/Miguel_D%C3%ADaz-Canel'}]}, {'country': 'Cyprus', 'url': 'https://en.wikipedia.org/wiki/Cyprus', 'presidents': [{'name': 'Nicos Anastasiades', 'url': 'https://en.wikipedia.org/wiki/Nicos_Anastasiades'}, {'name': 'Glafcos Clerides', 'url': 'https://en.wikipedia.org/wiki/Glafcos_Clerides'}, {'name': 'George Vasiliou', 'url': 'https://en.wikipedia.org/wiki/George_Vasiliou'}, {'name': 'Makarios III', 'url': 'https://en.wikipedia.org/wiki/Makarios_III'}, {'name': 'Demetris Christofias', 'url': 'https://en.wikipedia.org/wiki/Demetris_Christofias'}, {'name': 'Spyros Kyprianou', 'url': 'https://en.wikipedia.org/wiki/Spyros_Kyprianou'}, {'name': 'Tassos Papadopoulos', 'url': 'https://en.wikipedia.org/wiki/Tassos_Papadopoulos'}]}, {'country': 'Czech Republic', 'url': 'https://en.wikipedia.org/wiki/Czech_Republic', 'presidents': [{'name': 'Miloš Zeman', 'url': 'https://en.wikipedia.org/wiki/Milo%C5%A1_Zeman'}, {'name': 'Václav Havel', 'url': 'https://en.wikipedia.org/wiki/V%C3%A1clav_Havel'}, {'name': 'Václav Klaus', 'url': 'https://en.wikipedia.org/wiki/V%C3%A1clav_Klaus'}]}, {'country': 'Denmark', 'url': 'https://en.wikipedia.org/wiki/Denmark', 'presidents': []}, {'country': 'Djibouti', 'url': 'https://en.wikipedia.org/wiki/Djibouti', 'presidents': [{'name': 'Ismaïl Omar Guelleh', 'url': 'https://en.wikipedia.org/wiki/Isma%C3%AFl_Omar_Guelleh'}, {'name': 'Hassan Gouled Aptidon', 'url': 'https://en.wikipedia.org/wiki/Hassan_Gouled_Aptidon'}]}, {'country': 'Dominica', 'url': 'https://en.wikipedia.org/wiki/Dominica', 'presidents': [{'name': 'Charles Savarin', 'url': 'https://en.wikipedia.org/wiki/Charles_Savarin'}, {'name': 'Vernon Shaw', 'url': 'https://en.wikipedia.org/wiki/Vernon_Shaw'}, {'name': 'Nicholas Liverpool', 'url': 'https://en.wikipedia.org/wiki/Nicholas_Liverpool'}, {'name': 'Eliud Williams', 'url': 'https://en.wikipedia.org/wiki/Eliud_Williams'}]}, {'country': 'Dominican Republic', 'url': 'https://en.wikipedia.org/wiki/Dominican_Republic', 'presidents': [{'name': 'Danilo Medina', 'url': 'https://en.wikipedia.org/wiki/Danilo_Medina'}, {'name': 'Leonel Fernandez', 'url': 'https://en.wikipedia.org/wiki/Leonel_Fernandez'}, {'name': 'Hipólito Mejía', 'url': 'https://en.wikipedia.org/wiki/Hip%C3%B3lito_Mej%C3%ADa'}, {'name': 'Leonel Fernández', 'url': 'https://en.wikipedia.org/wiki/Leonel_Fern%C3%A1ndez'}]}, {'country': 'East Timor', 'url': 'https://en.wikipedia.org/wiki/East_Timor', 'presidents': [{'name': 'Francisco Guterres', 'url': 'https://en.wikipedia.org/wiki/Francisco_Guterres'}, {'name': 'Mari Alkatiri', 'url': 'https://en.wikipedia.org/wiki/Mari_Alkatiri'}, {'name': 'Vicente Guterres', 'url': 'https://en.wikipedia.org/wiki/Vicente_Guterres'}, {'name': 'Estanislau da Silva', 'url': 'https://en.wikipedia.org/wiki/Estanislau_da_Silva'}, {'name': 'Xanana Gusmão', 'url': 'https://en.wikipedia.org/wiki/Xanana_Gusm%C3%A3o'}, {'name': 'Taur Matan Ruak', 'url': 'https://en.wikipedia.org/wiki/Taur_Matan_Ruak'}, {'name': 'José Ramos-Horta', 'url': 'https://en.wikipedia.org/wiki/Jos%C3%A9_Ramos-Horta'}, {'name': 'Rui Maria de Araújo', 'url': 'https://en.wikipedia.org/wiki/Rui_Maria_de_Ara%C3%BAjo'}, {'name': 'Fernando de Araújo (East Timorese politician)', 'url': 'https://en.wikipedia.org/wiki/Fernando_de_Ara%C3%BAjo_(East_Timorese_politician)'}]}, {'country': 'Ecuador', 'url': 'https://en.wikipedia.org/wiki/Ecuador', 'presidents': [{'name': 'Lenín Moreno', 'url': 'https://en.wikipedia.org/wiki/Len%C3%ADn_Moreno'}, {'name': 'Rafael Correa', 'url': 'https://en.wikipedia.org/wiki/Rafael_Correa'}, {'name': 'Jaime Roldós Aguilera', 'url': 'https://en.wikipedia.org/wiki/Jaime_Rold%C3%B3s_Aguilera'}, {'name': 'Rosalía Arteaga', 'url': 'https://en.wikipedia.org/wiki/Rosal%C3%ADa_Arteaga'}, {'name': 'Fabián Alarcón', 'url': 'https://en.wikipedia.org/wiki/Fabi%C3%A1n_Alarc%C3%B3n'}, {'name': 'Rodrigo Borja Cevallos', 'url': 'https://en.wikipedia.org/wiki/Rodrigo_Borja_Cevallos'}, {'name': 'José María Velasco Ibarra', 'url': 'https://en.wikipedia.org/wiki/Jos%C3%A9_Mar%C3%ADa_Velasco_Ibarra'}, {'name': 'Clemente Yerovi', 'url': 'https://en.wikipedia.org/wiki/Clemente_Yerovi'}, {'name': 'Alfredo Palacio', 'url': 'https://en.wikipedia.org/wiki/Alfredo_Palacio'}, {'name': 'Sixto Durán Ballén', 'url': 'https://en.wikipedia.org/wiki/Sixto_Dur%C3%A1n_Ball%C3%A9n'}, {'name': 'Gustavo Noboa', 'url': 'https://en.wikipedia.org/wiki/Gustavo_Noboa'}, {'name': 'Carlos Julio Arosemena Monroy', 'url': 'https://en.wikipedia.org/wiki/Carlos_Julio_Arosemena_Monroy'}, {'name': 'Otto Arosemena Gómez', 'url': 'https://en.wikipedia.org/wiki/Otto_Arosemena_G%C3%B3mez'}, {'name': 'Lucio Gutiérrez', 'url': 'https://en.wikipedia.org/wiki/Lucio_Guti%C3%A9rrez'}, {'name': 'León Febres Cordero', 'url': 'https://en.wikipedia.org/wiki/Le%C3%B3n_Febres_Cordero'}, {'name': 'Guillermo Rodríguez (politician)', 'url': 'https://en.wikipedia.org/wiki/Guillermo_Rodr%C3%ADguez_(politician)'}, {'name': 'Alfredo Poveda', 'url': 'https://en.wikipedia.org/wiki/Alfredo_Poveda'}, {'name': 'Ramón Castro Jijón', 'url': 'https://en.wikipedia.org/wiki/Ram%C3%B3n_Castro_Jij%C3%B3n'}, {'name': 'Osvaldo Hurtado', 'url': 'https://en.wikipedia.org/wiki/Osvaldo_Hurtado'}, {'name': 'Jamil Mahuad', 'url': 'https://en.wikipedia.org/wiki/Jamil_Mahuad'}, {'name': 'Telmo Vargas', 'url': 'https://en.wikipedia.org/wiki/Telmo_Vargas'}, {'name': 'Abdalá Bucaram', 'url': 'https://en.wikipedia.org/wiki/Abdal%C3%A1_Bucaram'}]}, {'country': 'Egypt', 'url': 'https://en.wikipedia.org/wiki/Egypt', 'presidents': [{'name': 'Abdel Fattah el-Sisi', 'url': 'https://en.wikipedia.org/wiki/Abdel_Fattah_el-Sisi'}, {'name': 'Farouk Sultan', 'url': 'https://en.wikipedia.org/wiki/Farouk_Sultan'}, {'name': 'Maher El-Beheiry', 'url': 'https://en.wikipedia.org/wiki/Maher_El-Beheiry'}, {'name': 'Adly Mansour', 'url': 'https://en.wikipedia.org/wiki/Adly_Mansour'}]}, {'country': 'El Salvador', 'url': 'https://en.wikipedia.org/wiki/El_Salvador', 'presidents': [{'name': 'Salvador Sánchez Cerén', 'url': 'https://en.wikipedia.org/wiki/Salvador_S%C3%A1nchez_Cer%C3%A9n'}, {'name': 'Francisco Flores Pérez', 'url': 'https://en.wikipedia.org/wiki/Francisco_Flores_P%C3%A9rez'}, {'name': 'Revolutionary Government Junta of El Salvador', 'url': 'https://en.wikipedia.org/wiki/Revolutionary_Government_Junta_of_El_Salvador'}, {'name': 'Alfredo Cristiani', 'url': 'https://en.wikipedia.org/wiki/Alfredo_Cristiani'}, {'name': 'José Napoleón Duarte', 'url': 'https://en.wikipedia.org/wiki/Jos%C3%A9_Napole%C3%B3n_Duarte'}, {'name': 'Álvaro Magaña', 'url': 'https://en.wikipedia.org/wiki/%C3%81lvaro_Maga%C3%B1a'}, {'name': 'Mauricio Funes', 'url': 'https://en.wikipedia.org/wiki/Mauricio_Funes'}, {'name': 'Antonio Saca', 'url': 'https://en.wikipedia.org/wiki/Antonio_Saca'}, {'name': 'Armando Calderón Sol', 'url': 'https://en.wikipedia.org/wiki/Armando_Calder%C3%B3n_Sol'}]}, {'country': 'Equatorial Guinea', 'url': 'https://en.wikipedia.org/wiki/Equatorial_Guinea', 'presidents': [{'name': 'Teodoro Obiang Nguema Mbasogo', 'url': 'https://en.wikipedia.org/wiki/Teodoro_Obiang_Nguema_Mbasogo'}, {'name': 'Francisco Macías Nguema', 'url': 'https://en.wikipedia.org/wiki/Francisco_Mac%C3%ADas_Nguema'}]}, {'country': 'Eritrea', 'url': 'https://en.wikipedia.org/wiki/Eritrea', 'presidents': [{'name': 'Isaias Afwerki', 'url': 'https://en.wikipedia.org/wiki/Isaias_Afwerki'}]}, {'country': 'Estonia', 'url': 'https://en.wikipedia.org/wiki/Estonia', 'presidents': [{'name': 'Kersti Kaljulaid', 'url': 'https://en.wikipedia.org/wiki/Kersti_Kaljulaid'}, {'name': 'Estonian Declaration of Independence', 'url': 'https://en.wikipedia.org/wiki/Estonian_Declaration_of_Independence'}, {'name': 'Arnold Rüütel', 'url': 'https://en.wikipedia.org/wiki/Arnold_R%C3%BC%C3%BCtel'}, {'name': 'Lennart Meri', 'url': 'https://en.wikipedia.org/wiki/Lennart_Meri'}, {'name': 'Toomas Hendrik Ilves', 'url': 'https://en.wikipedia.org/wiki/Toomas_Hendrik_Ilves'}, {'name': 'Konstantin Päts', 'url': 'https://en.wikipedia.org/wiki/Konstantin_P%C3%A4ts'}]}, {'country': 'Eswatini', 'url': 'https://en.wikipedia.org/wiki/Eswatini', 'presidents': []}, {'country': 'Ethiopia', 'url': 'https://en.wikipedia.org/wiki/Ethiopia', 'presidents': [{'name': 'Sahle-Work Zewde', 'url': 'https://en.wikipedia.org/wiki/Sahle-Work_Zewde'}, {'name': 'Tesfaye Dinka', 'url': 'https://en.wikipedia.org/wiki/Tesfaye_Dinka'}, {'name': 'Mulatu Teshome', 'url': 'https://en.wikipedia.org/wiki/Mulatu_Teshome'}, {'name': 'Teferra Wolde-Semait', 'url': 'https://en.wikipedia.org/wiki/Teferra_Wolde-Semait'}, {'name': 'Negash Desta (page does not exist)', 'url': 'https://en.wikipedia.org/w/index.php?title=Negash_Desta&action=edit&redlink=1'}, {'name': 'Meles Zenawi', 'url': 'https://en.wikipedia.org/wiki/Meles_Zenawi'}, {'name': 'Tamirat Layne', 'url': 'https://en.wikipedia.org/wiki/Tamirat_Layne'}, {'name': 'Negasso Gidada', 'url': 'https://en.wikipedia.org/wiki/Negasso_Gidada'}, {'name': 'Girma Wolde-Giorgis', 'url': 'https://en.wikipedia.org/wiki/Girma_Wolde-Giorgis'}]}, {'country': 'Fiji', 'url': 'https://en.wikipedia.org/wiki/Fiji', 'presidents': []}, {'country': 'Finland', 'url': 'https://en.wikipedia.org/wiki/Finland', 'presidents': [{'name': 'Sauli Niinistö', 'url': 'https://en.wikipedia.org/wiki/Sauli_Niinist%C3%B6'}, {'name': 'Risto Ryti', 'url': 'https://en.wikipedia.org/wiki/Risto_Ryti'}, {'name': 'Martti Ahtisaari', 'url': 'https://en.wikipedia.org/wiki/Martti_Ahtisaari'}, {'name': 'Mauno Koivisto', 'url': 'https://en.wikipedia.org/wiki/Mauno_Koivisto'}, {'name': 'Kaarlo Juho Ståhlberg', 'url': 'https://en.wikipedia.org/wiki/Kaarlo_Juho_St%C3%A5hlberg'}, {'name': 'Tarja Halonen', 'url': 'https://en.wikipedia.org/wiki/Tarja_Halonen'}, {'name': 'Lauri Kristian Relander', 'url': 'https://en.wikipedia.org/wiki/Lauri_Kristian_Relander'}, {'name': 'Urho Kekkonen', 'url': 'https://en.wikipedia.org/wiki/Urho_Kekkonen'}, {'name': 'Pehr Evind Svinhufvud', 'url': 'https://en.wikipedia.org/wiki/Pehr_Evind_Svinhufvud'}, {'name': 'Carl Gustaf Emil Mannerheim', 'url': 'https://en.wikipedia.org/wiki/Carl_Gustaf_Emil_Mannerheim'}, {'name': 'Juho Kusti Paasikivi', 'url': 'https://en.wikipedia.org/wiki/Juho_Kusti_Paasikivi'}, {'name': 'Kyösti Kallio', 'url': 'https://en.wikipedia.org/wiki/Ky%C3%B6sti_Kallio'}]}, {'country': 'France', 'url': 'https://en.wikipedia.org/wiki/France', 'presidents': [{'name': 'Emmanuel Macron', 'url': 'https://en.wikipedia.org/wiki/Emmanuel_Macron'}, {'name': 'Charles de Gaulle', 'url': 'https://en.wikipedia.org/wiki/Charles_de_Gaulle'}, {'name': 'René Coty', 'url': 'https://en.wikipedia.org/wiki/Ren%C3%A9_Coty'}, {'name': 'Albert Sarraut', 'url': 'https://en.wikipedia.org/wiki/Albert_Sarraut'}, {'name': 'Nicolas Sarkozy', 'url': 'https://en.wikipedia.org/wiki/Nicolas_Sarkozy'}, {'name': 'Georges Pompidou', 'url': 'https://en.wikipedia.org/wiki/Georges_Pompidou'}, {'name': 'Jacques Chirac', 'url': 'https://en.wikipedia.org/wiki/Jacques_Chirac'}, {'name': \"Valéry Giscard d'Estaing\", 'url': 'https://en.wikipedia.org/wiki/Val%C3%A9ry_Giscard_d%27Estaing'}, {'name': 'Vincent Auriol', 'url': 'https://en.wikipedia.org/wiki/Vincent_Auriol'}, {'name': 'Édouard Daladier', 'url': 'https://en.wikipedia.org/wiki/%C3%89douard_Daladier'}, {'name': 'Léon Blum', 'url': 'https://en.wikipedia.org/wiki/L%C3%A9on_Blum'}, {'name': 'François Mitterrand', 'url': 'https://en.wikipedia.org/wiki/Fran%C3%A7ois_Mitterrand'}, {'name': 'François Hollande', 'url': 'https://en.wikipedia.org/wiki/Fran%C3%A7ois_Hollande'}]}, {'country': 'Gabon', 'url': 'https://en.wikipedia.org/wiki/Gabon', 'presidents': [{'name': 'Ali Bongo Ondimba', 'url': 'https://en.wikipedia.org/wiki/Ali_Bongo_Ondimba'}, {'name': 'Omar Bongo', 'url': 'https://en.wikipedia.org/wiki/Omar_Bongo'}, {'name': \"Léon M'ba\", 'url': 'https://en.wikipedia.org/wiki/L%C3%A9on_M%27ba'}, {'name': 'Rose Francine Rogombé', 'url': 'https://en.wikipedia.org/wiki/Rose_Francine_Rogomb%C3%A9'}, {'name': 'Didjob Divungi Di Ndinge', 'url': 'https://en.wikipedia.org/wiki/Didjob_Divungi_Di_Ndinge'}]}, {'country': 'The Gambia', 'url': 'https://en.wikipedia.org/wiki/The_Gambia', 'presidents': [{'name': 'Adama Barrow', 'url': 'https://en.wikipedia.org/wiki/Adama_Barrow'}, {'name': 'Elizabeth II', 'url': 'https://en.wikipedia.org/wiki/Elizabeth_II'}, {'name': 'Dawda Jawara', 'url': 'https://en.wikipedia.org/wiki/Dawda_Jawara'}, {'name': 'Yahya Jammeh', 'url': 'https://en.wikipedia.org/wiki/Yahya_Jammeh'}]}, {'country': 'Georgia (country)', 'url': 'https://en.wikipedia.org/wiki/Georgia_(country)', 'presidents': [{'name': 'Salome Zurabishvili', 'url': 'https://en.wikipedia.org/wiki/Salome_Zurabishvili'}, {'name': 'Nino Burjanadze', 'url': 'https://en.wikipedia.org/wiki/Nino_Burjanadze'}, {'name': 'Mikheil Saakashvili', 'url': 'https://en.wikipedia.org/wiki/Mikheil_Saakashvili'}, {'name': 'Giorgi Margvelashvili', 'url': 'https://en.wikipedia.org/wiki/Giorgi_Margvelashvili'}]}, {'country': 'Germany', 'url': 'https://en.wikipedia.org/wiki/Germany', 'presidents': [{'name': 'Frank-Walter Steinmeier', 'url': 'https://en.wikipedia.org/wiki/Frank-Walter_Steinmeier'}, {'name': 'Walter Scheel', 'url': 'https://en.wikipedia.org/wiki/Walter_Scheel'}, {'name': 'Horst Köhler', 'url': 'https://en.wikipedia.org/wiki/Horst_K%C3%B6hler'}, {'name': 'Christian Wulff', 'url': 'https://en.wikipedia.org/wiki/Christian_Wulff'}, {'name': 'Karl Carstens', 'url': 'https://en.wikipedia.org/wiki/Karl_Carstens'}, {'name': 'Heinrich Lübke', 'url': 'https://en.wikipedia.org/wiki/Heinrich_L%C3%BCbke'}, {'name': 'Johannes Rau', 'url': 'https://en.wikipedia.org/wiki/Johannes_Rau'}, {'name': 'Theodor Heuss', 'url': 'https://en.wikipedia.org/wiki/Theodor_Heuss'}, {'name': 'Karl Arnold', 'url': 'https://en.wikipedia.org/wiki/Karl_Arnold'}, {'name': 'Richard von Weizsäcker', 'url': 'https://en.wikipedia.org/wiki/Richard_von_Weizs%C3%A4cker'}, {'name': 'Gustav Heinemann', 'url': 'https://en.wikipedia.org/wiki/Gustav_Heinemann'}, {'name': 'Rudolf Amelunxen', 'url': 'https://en.wikipedia.org/wiki/Rudolf_Amelunxen'}, {'name': 'Joachim Gauck', 'url': 'https://en.wikipedia.org/wiki/Joachim_Gauck'}, {'name': 'Roman Herzog', 'url': 'https://en.wikipedia.org/wiki/Roman_Herzog'}]}, {'country': 'Ghana', 'url': 'https://en.wikipedia.org/wiki/Ghana', 'presidents': [{'name': 'Nana Akufo-Addo', 'url': 'https://en.wikipedia.org/wiki/Nana_Akufo-Addo'}, {'name': 'John Agyekum Kufuor', 'url': 'https://en.wikipedia.org/wiki/John_Agyekum_Kufuor'}, {'name': 'John Mahama', 'url': 'https://en.wikipedia.org/wiki/John_Mahama'}, {'name': 'Jerry John Rawlings', 'url': 'https://en.wikipedia.org/wiki/Jerry_John_Rawlings'}, {'name': 'John Atta-Mills', 'url': 'https://en.wikipedia.org/wiki/John_Atta-Mills'}]}, {'country': 'Greece', 'url': 'https://en.wikipedia.org/wiki/Greece', 'presidents': [{'name': 'Prokopis Pavlopoulos', 'url': 'https://en.wikipedia.org/wiki/Prokopis_Pavlopoulos'}, {'name': 'Ioannis Alevras', 'url': 'https://en.wikipedia.org/wiki/Ioannis_Alevras'}, {'name': 'Konstantinos Karamanlis', 'url': 'https://en.wikipedia.org/wiki/Konstantinos_Karamanlis'}, {'name': 'Konstantinos Stephanopoulos', 'url': 'https://en.wikipedia.org/wiki/Konstantinos_Stephanopoulos'}, {'name': 'Karolos Papoulias', 'url': 'https://en.wikipedia.org/wiki/Karolos_Papoulias'}, {'name': 'Christos Sartzetakis', 'url': 'https://en.wikipedia.org/wiki/Christos_Sartzetakis'}]}, {'country': 'Grenada', 'url': 'https://en.wikipedia.org/wiki/Grenada', 'presidents': []}, {'country': 'Guatemala', 'url': 'https://en.wikipedia.org/wiki/Guatemala', 'presidents': []}, {'country': 'Guinea', 'url': 'https://en.wikipedia.org/wiki/Guinea', 'presidents': [{'name': 'Alpha Condé', 'url': 'https://en.wikipedia.org/wiki/Alpha_Cond%C3%A9'}, {'name': 'Lansana Conté', 'url': 'https://en.wikipedia.org/wiki/Lansana_Cont%C3%A9'}, {'name': 'Louis Lansana Beavogui', 'url': 'https://en.wikipedia.org/wiki/Louis_Lansana_Beavogui'}, {'name': 'Moussa Camara', 'url': 'https://en.wikipedia.org/wiki/Moussa_Camara'}, {'name': 'Ahmed Sékou Touré', 'url': 'https://en.wikipedia.org/wiki/Ahmed_S%C3%A9kou_Tour%C3%A9'}, {'name': 'Sékouba Konaté', 'url': 'https://en.wikipedia.org/wiki/S%C3%A9kouba_Konat%C3%A9'}]}, {'country': 'Guinea-Bissau', 'url': 'https://en.wikipedia.org/wiki/Guinea-Bissau', 'presidents': [{'name': 'José Mário Vaz', 'url': 'https://en.wikipedia.org/wiki/Jos%C3%A9_M%C3%A1rio_Vaz'}, {'name': 'Raimundo Pereira', 'url': 'https://en.wikipedia.org/wiki/Raimundo_Pereira'}, {'name': 'Mamadu Ture Kuruma', 'url': 'https://en.wikipedia.org/wiki/Mamadu_Ture_Kuruma'}, {'name': 'Manuel Serifo Nhamadjo', 'url': 'https://en.wikipedia.org/wiki/Manuel_Serifo_Nhamadjo'}, {'name': 'Malam Bacai Sanhá', 'url': 'https://en.wikipedia.org/wiki/Malam_Bacai_Sanh%C3%A1'}]}, {'country': 'Guyana', 'url': 'https://en.wikipedia.org/wiki/Guyana', 'presidents': [{'name': 'David A. Granger', 'url': 'https://en.wikipedia.org/wiki/David_A._Granger'}, {'name': 'Donald Ramotar', 'url': 'https://en.wikipedia.org/wiki/Donald_Ramotar'}, {'name': 'Janet Jagan', 'url': 'https://en.wikipedia.org/wiki/Janet_Jagan'}, {'name': 'Bharrat Jagdeo', 'url': 'https://en.wikipedia.org/wiki/Bharrat_Jagdeo'}]}, {'country': 'Haiti', 'url': 'https://en.wikipedia.org/wiki/Haiti', 'presidents': [{'name': 'Jovenel Moïse', 'url': 'https://en.wikipedia.org/wiki/Jovenel_Mo%C3%AFse'}, {'name': 'Ertha Pascal-Trouillot', 'url': 'https://en.wikipedia.org/wiki/Ertha_Pascal-Trouillot'}, {'name': 'René Préval', 'url': 'https://en.wikipedia.org/wiki/Ren%C3%A9_Pr%C3%A9val'}, {'name': 'Hérard Abraham', 'url': 'https://en.wikipedia.org/wiki/H%C3%A9rard_Abraham'}, {'name': 'Boniface Alexandre', 'url': 'https://en.wikipedia.org/wiki/Boniface_Alexandre'}, {'name': 'Jocelerme Privert', 'url': 'https://en.wikipedia.org/wiki/Jocelerme_Privert'}, {'name': 'Jean-Bertrand Aristide', 'url': 'https://en.wikipedia.org/wiki/Jean-Bertrand_Aristide'}, {'name': 'Michel Martelly', 'url': 'https://en.wikipedia.org/wiki/Michel_Martelly'}]}, {'country': 'Honduras', 'url': 'https://en.wikipedia.org/wiki/Honduras', 'presidents': [{'name': 'Juan Orlando Hernández', 'url': 'https://en.wikipedia.org/wiki/Juan_Orlando_Hern%C3%A1ndez'}, {'name': 'Roberto Micheletti', 'url': 'https://en.wikipedia.org/wiki/Roberto_Micheletti'}, {'name': 'Manuel Zelaya', 'url': 'https://en.wikipedia.org/wiki/Manuel_Zelaya'}, {'name': 'Ricardo Maduro', 'url': 'https://en.wikipedia.org/wiki/Ricardo_Maduro'}, {'name': 'Rafael Leonardo Callejas', 'url': 'https://en.wikipedia.org/wiki/Rafael_Leonardo_Callejas'}, {'name': 'Juan Alberto Melgar Castro', 'url': 'https://en.wikipedia.org/wiki/Juan_Alberto_Melgar_Castro'}, {'name': 'Oswaldo López Arellano', 'url': 'https://en.wikipedia.org/wiki/Oswaldo_L%C3%B3pez_Arellano'}, {'name': 'Vicente Tosta', 'url': 'https://en.wikipedia.org/wiki/Vicente_Tosta'}, {'name': 'Miguel Paz Barahona', 'url': 'https://en.wikipedia.org/wiki/Miguel_Paz_Barahona'}, {'name': 'José Azcona del Hoyo', 'url': 'https://en.wikipedia.org/wiki/Jos%C3%A9_Azcona_del_Hoyo'}, {'name': 'Roberto Suazo Córdova', 'url': 'https://en.wikipedia.org/wiki/Roberto_Suazo_C%C3%B3rdova'}, {'name': 'Porfirio Lobo Sosa', 'url': 'https://en.wikipedia.org/wiki/Porfirio_Lobo_Sosa'}, {'name': 'Carlos Roberto Flores', 'url': 'https://en.wikipedia.org/wiki/Carlos_Roberto_Flores'}, {'name': 'Ramón Villeda Morales', 'url': 'https://en.wikipedia.org/wiki/Ram%C3%B3n_Villeda_Morales'}, {'name': 'Juan Manuel Galvez', 'url': 'https://en.wikipedia.org/wiki/Juan_Manuel_Galvez'}, {'name': 'Vicente Mejía Colindres', 'url': 'https://en.wikipedia.org/wiki/Vicente_Mej%C3%ADa_Colindres'}, {'name': 'Carlos Roberto Reina', 'url': 'https://en.wikipedia.org/wiki/Carlos_Roberto_Reina'}, {'name': 'Policarpo Paz García', 'url': 'https://en.wikipedia.org/wiki/Policarpo_Paz_Garc%C3%ADa'}, {'name': 'Julio Lozano Díaz', 'url': 'https://en.wikipedia.org/wiki/Julio_Lozano_D%C3%ADaz'}, {'name': 'Tiburcio Carías Andino', 'url': 'https://en.wikipedia.org/wiki/Tiburcio_Car%C3%ADas_Andino'}]}, {'country': 'Hungary', 'url': 'https://en.wikipedia.org/wiki/Hungary', 'presidents': [{'name': 'János Áder', 'url': 'https://en.wikipedia.org/wiki/J%C3%A1nos_%C3%81der'}, {'name': 'Mátyás Szűrös', 'url': 'https://en.wikipedia.org/wiki/M%C3%A1ty%C3%A1s_Sz%C5%B1r%C3%B6s'}, {'name': 'Ferenc Nagy', 'url': 'https://en.wikipedia.org/wiki/Ferenc_Nagy'}, {'name': 'Lajos Dinnyés', 'url': 'https://en.wikipedia.org/wiki/Lajos_Dinny%C3%A9s'}, {'name': 'Károly Huszár', 'url': 'https://en.wikipedia.org/wiki/K%C3%A1roly_Husz%C3%A1r'}, {'name': 'László Kövér', 'url': 'https://en.wikipedia.org/wiki/L%C3%A1szl%C3%B3_K%C3%B6v%C3%A9r'}, {'name': 'Miklós Horthy', 'url': 'https://en.wikipedia.org/wiki/Mikl%C3%B3s_Horthy'}, {'name': 'Ferenc Szálasi', 'url': 'https://en.wikipedia.org/wiki/Ferenc_Sz%C3%A1lasi'}, {'name': 'Brunó Ferenc Straub', 'url': 'https://en.wikipedia.org/wiki/Brun%C3%B3_Ferenc_Straub'}, {'name': 'Gyula Peidl', 'url': 'https://en.wikipedia.org/wiki/Gyula_Peidl'}, {'name': 'Ferenc Mádl', 'url': 'https://en.wikipedia.org/wiki/Ferenc_M%C3%A1dl'}, {'name': 'István Dobi', 'url': 'https://en.wikipedia.org/wiki/Istv%C3%A1n_Dobi'}, {'name': 'Mihály Károlyi', 'url': 'https://en.wikipedia.org/wiki/Mih%C3%A1ly_K%C3%A1rolyi'}, {'name': 'László Sólyom', 'url': 'https://en.wikipedia.org/wiki/L%C3%A1szl%C3%B3_S%C3%B3lyom'}, {'name': 'Károly Németh', 'url': 'https://en.wikipedia.org/wiki/K%C3%A1roly_N%C3%A9meth'}, {'name': 'Pál Schmitt', 'url': 'https://en.wikipedia.org/wiki/P%C3%A1l_Schmitt'}, {'name': 'István Friedrich', 'url': 'https://en.wikipedia.org/wiki/Istv%C3%A1n_Friedrich'}, {'name': 'Sándor Garbai', 'url': 'https://en.wikipedia.org/wiki/S%C3%A1ndor_Garbai'}, {'name': 'Árpád Göncz', 'url': 'https://en.wikipedia.org/wiki/%C3%81rp%C3%A1d_G%C3%B6ncz'}, {'name': 'Zoltán Tildy', 'url': 'https://en.wikipedia.org/wiki/Zolt%C3%A1n_Tildy'}, {'name': 'Pál Losonczi', 'url': 'https://en.wikipedia.org/wiki/P%C3%A1l_Losonczi'}, {'name': 'Béla Miklós', 'url': 'https://en.wikipedia.org/wiki/B%C3%A9la_Mikl%C3%B3s'}]}, {'country': 'Iceland', 'url': 'https://en.wikipedia.org/wiki/Iceland', 'presidents': [{'name': 'Guðni Th. Jóhannesson', 'url': 'https://en.wikipedia.org/wiki/Gu%C3%B0ni_Th._J%C3%B3hannesson'}, {'name': 'Ólafur Ragnar Grímsson', 'url': 'https://en.wikipedia.org/wiki/%C3%93lafur_Ragnar_Gr%C3%ADmsson'}, {'name': 'Christian X of Denmark', 'url': 'https://en.wikipedia.org/wiki/Christian_X_of_Denmark'}, {'name': 'Kristján Eldjárn', 'url': 'https://en.wikipedia.org/wiki/Kristj%C3%A1n_Eldj%C3%A1rn'}, {'name': 'Ásgeir Ásgeirsson', 'url': 'https://en.wikipedia.org/wiki/%C3%81sgeir_%C3%81sgeirsson'}, {'name': 'Vigdís Finnbogadóttir', 'url': 'https://en.wikipedia.org/wiki/Vigd%C3%ADs_Finnbogad%C3%B3ttir'}, {'name': 'Sveinn Björnsson', 'url': 'https://en.wikipedia.org/wiki/Sveinn_Bj%C3%B6rnsson'}]}, {'country': 'India', 'url': 'https://en.wikipedia.org/wiki/India', 'presidents': [{'name': 'Ram Nath Kovind', 'url': 'https://en.wikipedia.org/wiki/Ram_Nath_Kovind'}, {'name': 'Mohammad Hidayatullah', 'url': 'https://en.wikipedia.org/wiki/Mohammad_Hidayatullah'}, {'name': 'Shankar Dayal Sharma', 'url': 'https://en.wikipedia.org/wiki/Shankar_Dayal_Sharma'}, {'name': 'B. D. Jatti', 'url': 'https://en.wikipedia.org/wiki/B._D._Jatti'}, {'name': 'V. V. Giri', 'url': 'https://en.wikipedia.org/wiki/V._V._Giri'}, {'name': 'A. P. J. Abdul Kalam', 'url': 'https://en.wikipedia.org/wiki/A._P._J._Abdul_Kalam'}, {'name': 'Neelam Sanjiva Reddy', 'url': 'https://en.wikipedia.org/wiki/Neelam_Sanjiva_Reddy'}, {'name': 'Zail Singh', 'url': 'https://en.wikipedia.org/wiki/Zail_Singh'}, {'name': 'Fakhruddin Ali Ahmed', 'url': 'https://en.wikipedia.org/wiki/Fakhruddin_Ali_Ahmed'}, {'name': 'R. Venkataraman', 'url': 'https://en.wikipedia.org/wiki/R._Venkataraman'}, {'name': 'Pratibha Patil', 'url': 'https://en.wikipedia.org/wiki/Pratibha_Patil'}, {'name': 'Pranab Mukherjee', 'url': 'https://en.wikipedia.org/wiki/Pranab_Mukherjee'}, {'name': 'K. R. Narayanan', 'url': 'https://en.wikipedia.org/wiki/K._R._Narayanan'}]}, {'country': 'Indonesia', 'url': 'https://en.wikipedia.org/wiki/Indonesia', 'presidents': [{'name': 'Joko Widodo', 'url': 'https://en.wikipedia.org/wiki/Joko_Widodo'}, {'name': 'B. J. Habibie', 'url': 'https://en.wikipedia.org/wiki/B._J._Habibie'}, {'name': 'Suharto', 'url': 'https://en.wikipedia.org/wiki/Suharto'}, {'name': 'Susilo Bambang Yudhoyono', 'url': 'https://en.wikipedia.org/wiki/Susilo_Bambang_Yudhoyono'}, {'name': 'Abdurrahman Wahid', 'url': 'https://en.wikipedia.org/wiki/Abdurrahman_Wahid'}, {'name': 'Megawati Soekarnoputri', 'url': 'https://en.wikipedia.org/wiki/Megawati_Soekarnoputri'}, {'name': 'Sukarno', 'url': 'https://en.wikipedia.org/wiki/Sukarno'}]}, {'country': 'Iran', 'url': 'https://en.wikipedia.org/wiki/Iran', 'presidents': [{'name': 'Hassan Rouhani', 'url': 'https://en.wikipedia.org/wiki/Hassan_Rouhani'}, {'name': 'Akbar Hashemi Rafsanjani', 'url': 'https://en.wikipedia.org/wiki/Akbar_Hashemi_Rafsanjani'}, {'name': 'Ali Khamenei', 'url': 'https://en.wikipedia.org/wiki/Ali_Khamenei'}, {'name': 'Mahmoud Ahmadinejad', 'url': 'https://en.wikipedia.org/wiki/Mahmoud_Ahmadinejad'}, {'name': 'Mohammad Khatami', 'url': 'https://en.wikipedia.org/wiki/Mohammad_Khatami'}, {'name': 'Ruhollah Khomeini', 'url': 'https://en.wikipedia.org/wiki/Ruhollah_Khomeini'}]}, {'country': 'Iraq', 'url': 'https://en.wikipedia.org/wiki/Iraq', 'presidents': [{'name': 'Barham Salih', 'url': 'https://en.wikipedia.org/wiki/Barham_Salih'}, {'name': 'Ahmed Hassan al-Bakr', 'url': 'https://en.wikipedia.org/wiki/Ahmed_Hassan_al-Bakr'}, {'name': 'Saddam Hussein', 'url': 'https://en.wikipedia.org/wiki/Saddam_Hussein'}, {'name': 'Fuad Masum', 'url': 'https://en.wikipedia.org/wiki/Fuad_Masum'}, {'name': 'Jalal Talabani', 'url': 'https://en.wikipedia.org/wiki/Jalal_Talabani'}]}, {'country': 'Republic of Ireland', 'url': 'https://en.wikipedia.org/wiki/Republic_of_Ireland', 'presidents': [{'name': 'Michael D. Higgins', 'url': 'https://en.wikipedia.org/wiki/Michael_D._Higgins'}, {'name': 'Mary Robinson', 'url': 'https://en.wikipedia.org/wiki/Mary_Robinson'}, {'name': 'Patrick Hillery', 'url': 'https://en.wikipedia.org/wiki/Patrick_Hillery'}, {'name': 'Mary McAleese', 'url': 'https://en.wikipedia.org/wiki/Mary_McAleese'}, {'name': 'Erskine Hamilton Childers', 'url': 'https://en.wikipedia.org/wiki/Erskine_Hamilton_Childers'}, {'name': 'Cearbhall Ó Dálaigh', 'url': 'https://en.wikipedia.org/wiki/Cearbhall_%C3%93_D%C3%A1laigh'}, {'name': 'Douglas Hyde', 'url': 'https://en.wikipedia.org/wiki/Douglas_Hyde'}, {'name': 'Éamon de Valera', 'url': 'https://en.wikipedia.org/wiki/%C3%89amon_de_Valera'}, {'name': \"Seán T. O'Kelly\", 'url': 'https://en.wikipedia.org/wiki/Se%C3%A1n_T._O%27Kelly'}]}, {'country': 'Israel', 'url': 'https://en.wikipedia.org/wiki/Israel', 'presidents': [{'name': 'Reuven Rivlin', 'url': 'https://en.wikipedia.org/wiki/Reuven_Rivlin'}, {'name': 'Yitzhak Ben-Zvi', 'url': 'https://en.wikipedia.org/wiki/Yitzhak_Ben-Zvi'}, {'name': 'Moshe Katsav', 'url': 'https://en.wikipedia.org/wiki/Moshe_Katsav'}, {'name': 'Ezer Weizman', 'url': 'https://en.wikipedia.org/wiki/Ezer_Weizman'}, {'name': 'Yitzhak Navon', 'url': 'https://en.wikipedia.org/wiki/Yitzhak_Navon'}, {'name': 'Shimon Peres', 'url': 'https://en.wikipedia.org/wiki/Shimon_Peres'}, {'name': 'Chaim Weizmann', 'url': 'https://en.wikipedia.org/wiki/Chaim_Weizmann'}, {'name': 'Ephraim Katzir', 'url': 'https://en.wikipedia.org/wiki/Ephraim_Katzir'}, {'name': 'Zalman Shazar', 'url': 'https://en.wikipedia.org/wiki/Zalman_Shazar'}, {'name': 'Chaim Herzog', 'url': 'https://en.wikipedia.org/wiki/Chaim_Herzog'}]}, {'country': 'Italy', 'url': 'https://en.wikipedia.org/wiki/Italy', 'presidents': [{'name': 'Sergio Mattarella', 'url': 'https://en.wikipedia.org/wiki/Sergio_Mattarella'}, {'name': 'Oscar Luigi Scalfaro', 'url': 'https://en.wikipedia.org/wiki/Oscar_Luigi_Scalfaro'}, {'name': 'Francesco Cossiga', 'url': 'https://en.wikipedia.org/wiki/Francesco_Cossiga'}, {'name': 'Antonio Segni', 'url': 'https://en.wikipedia.org/wiki/Antonio_Segni'}, {'name': 'Sandro Pertini', 'url': 'https://en.wikipedia.org/wiki/Sandro_Pertini'}, {'name': 'Giovanni Leone', 'url': 'https://en.wikipedia.org/wiki/Giovanni_Leone'}, {'name': 'Giovanni Gronchi', 'url': 'https://en.wikipedia.org/wiki/Giovanni_Gronchi'}, {'name': 'Umberto II', 'url': 'https://en.wikipedia.org/wiki/Umberto_II'}, {'name': 'Luigi Einaudi', 'url': 'https://en.wikipedia.org/wiki/Luigi_Einaudi'}, {'name': 'Carlo Azeglio Ciampi', 'url': 'https://en.wikipedia.org/wiki/Carlo_Azeglio_Ciampi'}, {'name': 'Giuseppe Saragat', 'url': 'https://en.wikipedia.org/wiki/Giuseppe_Saragat'}, {'name': 'Giorgio Napolitano', 'url': 'https://en.wikipedia.org/wiki/Giorgio_Napolitano'}, {'name': 'Enrico De Nicola', 'url': 'https://en.wikipedia.org/wiki/Enrico_De_Nicola'}]}, {'country': 'Ivory Coast', 'url': 'https://en.wikipedia.org/wiki/Ivory_Coast', 'presidents': []}, {'country': 'Jamaica', 'url': 'https://en.wikipedia.org/wiki/Jamaica', 'presidents': []}, {'country': 'Japan', 'url': 'https://en.wikipedia.org/wiki/Japan', 'presidents': []}, {'country': 'Jordan', 'url': 'https://en.wikipedia.org/wiki/Jordan', 'presidents': []}, {'country': 'Kazakhstan', 'url': 'https://en.wikipedia.org/wiki/Kazakhstan', 'presidents': [{'name': 'Kassym-Jomart Tokayev', 'url': 'https://en.wikipedia.org/wiki/Kassym-Jomart_Tokayev'}, {'name': 'Nursultan Nazarbayev', 'url': 'https://en.wikipedia.org/wiki/Nursultan_Nazarbayev'}]}, {'country': 'Kenya', 'url': 'https://en.wikipedia.org/wiki/Kenya', 'presidents': []}, {'country': 'Kiribati', 'url': 'https://en.wikipedia.org/wiki/Kiribati', 'presidents': []}, {'country': 'North Korea', 'url': 'https://en.wikipedia.org/wiki/North_Korea', 'presidents': []}, {'country': 'South Korea', 'url': 'https://en.wikipedia.org/wiki/South_Korea', 'presidents': [{'name': 'Moon Jae-in', 'url': 'https://en.wikipedia.org/wiki/Moon_Jae-in'}, {'name': 'Park Chung-hee', 'url': 'https://en.wikipedia.org/wiki/Park_Chung-hee'}, {'name': 'Kim Dae-jung', 'url': 'https://en.wikipedia.org/wiki/Kim_Dae-jung'}, {'name': 'Roh Moo-hyun', 'url': 'https://en.wikipedia.org/wiki/Roh_Moo-hyun'}, {'name': 'Kim Young-sam', 'url': 'https://en.wikipedia.org/wiki/Kim_Young-sam'}, {'name': 'Choi Kyu-hah', 'url': 'https://en.wikipedia.org/wiki/Choi_Kyu-hah'}, {'name': 'Yun Posun', 'url': 'https://en.wikipedia.org/wiki/Yun_Posun'}, {'name': 'Chun Doo-hwan', 'url': 'https://en.wikipedia.org/wiki/Chun_Doo-hwan'}, {'name': 'Syngman Rhee', 'url': 'https://en.wikipedia.org/wiki/Syngman_Rhee'}, {'name': 'Provisional Government of the Republic of Korea', 'url': 'https://en.wikipedia.org/wiki/Provisional_Government_of_the_Republic_of_Korea'}, {'name': 'Roh Tae-woo', 'url': 'https://en.wikipedia.org/wiki/Roh_Tae-woo'}, {'name': 'Lee Myung-bak', 'url': 'https://en.wikipedia.org/wiki/Lee_Myung-bak'}, {'name': 'Park Geun-hye', 'url': 'https://en.wikipedia.org/wiki/Park_Geun-hye'}]}, {'country': 'Kuwait', 'url': 'https://en.wikipedia.org/wiki/Kuwait', 'presidents': []}, {'country': 'Kyrgyzstan', 'url': 'https://en.wikipedia.org/wiki/Kyrgyzstan', 'presidents': [{'name': 'Sooronbay Jeenbekov', 'url': 'https://en.wikipedia.org/wiki/Sooronbay_Jeenbekov'}, {'name': 'Ishenbai Kadyrbekov', 'url': 'https://en.wikipedia.org/wiki/Ishenbai_Kadyrbekov'}, {'name': 'Roza Otunbayeva', 'url': 'https://en.wikipedia.org/wiki/Roza_Otunbayeva'}, {'name': 'Kurmanbek Bakiyev', 'url': 'https://en.wikipedia.org/wiki/Kurmanbek_Bakiyev'}, {'name': 'Almazbek Atambayev', 'url': 'https://en.wikipedia.org/wiki/Almazbek_Atambayev'}, {'name': 'Askar Akayev', 'url': 'https://en.wikipedia.org/wiki/Askar_Akayev'}]}, {'country': 'Laos', 'url': 'https://en.wikipedia.org/wiki/Laos', 'presidents': []}, {'country': 'Latvia', 'url': 'https://en.wikipedia.org/wiki/Latvia', 'presidents': [{'name': 'Raimonds Vējonis', 'url': 'https://en.wikipedia.org/wiki/Raimonds_V%C4%93jonis'}, {'name': 'Valdis Zatlers', 'url': 'https://en.wikipedia.org/wiki/Valdis_Zatlers'}, {'name': 'Andris Bērziņš (Latvian President)', 'url': 'https://en.wikipedia.org/wiki/Andris_B%C4%93rzi%C5%86%C5%A1_(Latvian_President)'}, {'name': 'Anatolijs Gorbunovs', 'url': 'https://en.wikipedia.org/wiki/Anatolijs_Gorbunovs'}, {'name': 'Guntis Ulmanis', 'url': 'https://en.wikipedia.org/wiki/Guntis_Ulmanis'}, {'name': 'Vaira Vīķe-Freiberga', 'url': 'https://en.wikipedia.org/wiki/Vaira_V%C4%AB%C4%B7e-Freiberga'}]}, {'country': 'Lebanon', 'url': 'https://en.wikipedia.org/wiki/Lebanon', 'presidents': [{'name': 'Michel Aoun', 'url': 'https://en.wikipedia.org/wiki/Michel_Aoun'}, {'name': 'Rashid Karami', 'url': 'https://en.wikipedia.org/wiki/Rashid_Karami'}, {'name': 'Emile Lahoud', 'url': 'https://en.wikipedia.org/wiki/Emile_Lahoud'}, {'name': 'Selim Hoss', 'url': 'https://en.wikipedia.org/wiki/Selim_Hoss'}, {'name': 'Elias Hrawi', 'url': 'https://en.wikipedia.org/wiki/Elias_Hrawi'}, {'name': 'Shafik Wazzan', 'url': 'https://en.wikipedia.org/wiki/Shafik_Wazzan'}, {'name': 'Michel Sleiman', 'url': 'https://en.wikipedia.org/wiki/Michel_Sleiman'}]}, {'country': 'Lesotho', 'url': 'https://en.wikipedia.org/wiki/Lesotho', 'presidents': []}, {'country': 'Liberia', 'url': 'https://en.wikipedia.org/wiki/Liberia', 'presidents': [{'name': 'George Weah', 'url': 'https://en.wikipedia.org/wiki/George_Weah'}, {'name': 'Wilton G. S. Sankawulo', 'url': 'https://en.wikipedia.org/wiki/Wilton_G._S._Sankawulo'}, {'name': 'Joseph Jenkins Roberts', 'url': 'https://en.wikipedia.org/wiki/Joseph_Jenkins_Roberts'}, {'name': 'Ellen Johnson Sirleaf', 'url': 'https://en.wikipedia.org/wiki/Ellen_Johnson_Sirleaf'}, {'name': 'Daniel Bashiel Warner', 'url': 'https://en.wikipedia.org/wiki/Daniel_Bashiel_Warner'}, {'name': 'Garretson W. Gibson', 'url': 'https://en.wikipedia.org/wiki/Garretson_W._Gibson'}, {'name': 'Stephen Allen Benson', 'url': 'https://en.wikipedia.org/wiki/Stephen_Allen_Benson'}, {'name': 'Charles Taylor (Liberia)', 'url': 'https://en.wikipedia.org/wiki/Charles_Taylor_(Liberia)'}, {'name': 'Amos Sawyer', 'url': 'https://en.wikipedia.org/wiki/Amos_Sawyer'}, {'name': 'William Tolbert', 'url': 'https://en.wikipedia.org/wiki/William_Tolbert'}, {'name': 'Gyude Bryant', 'url': 'https://en.wikipedia.org/wiki/Gyude_Bryant'}, {'name': 'Edwin Barclay', 'url': 'https://en.wikipedia.org/wiki/Edwin_Barclay'}, {'name': 'Joseph James Cheeseman', 'url': 'https://en.wikipedia.org/wiki/Joseph_James_Cheeseman'}, {'name': 'Alfred Francis Russell', 'url': 'https://en.wikipedia.org/wiki/Alfred_Francis_Russell'}, {'name': 'James Spriggs-Payne', 'url': 'https://en.wikipedia.org/wiki/James_Spriggs-Payne'}, {'name': 'William D. Coleman (politician)', 'url': 'https://en.wikipedia.org/wiki/William_D._Coleman_(politician)'}, {'name': 'Samuel Doe', 'url': 'https://en.wikipedia.org/wiki/Samuel_Doe'}, {'name': 'Arthur Barclay', 'url': 'https://en.wikipedia.org/wiki/Arthur_Barclay'}, {'name': 'Charles D.B. King', 'url': 'https://en.wikipedia.org/wiki/Charles_D.B._King'}, {'name': 'Anthony William Gardiner', 'url': 'https://en.wikipedia.org/wiki/Anthony_William_Gardiner'}, {'name': 'Ruth Perry', 'url': 'https://en.wikipedia.org/wiki/Ruth_Perry'}, {'name': 'David D. Kpormakor', 'url': 'https://en.wikipedia.org/wiki/David_D._Kpormakor'}, {'name': 'William Tubman', 'url': 'https://en.wikipedia.org/wiki/William_Tubman'}, {'name': 'Daniel E. Howard', 'url': 'https://en.wikipedia.org/wiki/Daniel_E._Howard'}, {'name': 'Moses Blah', 'url': 'https://en.wikipedia.org/wiki/Moses_Blah'}, {'name': 'Hilary R. W. Johnson', 'url': 'https://en.wikipedia.org/wiki/Hilary_R._W._Johnson'}]}, {'country': 'Libya', 'url': 'https://en.wikipedia.org/wiki/Libya', 'presidents': []}, {'country': 'Liechtenstein', 'url': 'https://en.wikipedia.org/wiki/Liechtenstein', 'presidents': []}, {'country': 'Lithuania', 'url': 'https://en.wikipedia.org/wiki/Lithuania', 'presidents': [{'name': 'Dalia Grybauskaitė', 'url': 'https://en.wikipedia.org/wiki/Dalia_Grybauskait%C4%97'}, {'name': 'Artūras Paulauskas', 'url': 'https://en.wikipedia.org/wiki/Art%C5%ABras_Paulauskas'}, {'name': 'Rolandas Paksas', 'url': 'https://en.wikipedia.org/wiki/Rolandas_Paksas'}, {'name': 'Valdas Adamkus', 'url': 'https://en.wikipedia.org/wiki/Valdas_Adamkus'}]}, {'country': 'Luxembourg', 'url': 'https://en.wikipedia.org/wiki/Luxembourg', 'presidents': []}, {'country': 'Madagascar', 'url': 'https://en.wikipedia.org/wiki/Madagascar', 'presidents': [{'name': 'Andry Rajoelina', 'url': 'https://en.wikipedia.org/wiki/Andry_Rajoelina'}, {'name': 'Andry Rajoelina', 'url': 'https://en.wikipedia.org/wiki/Andry_Rajoelina'}, {'name': 'Rivo Rakotovao', 'url': 'https://en.wikipedia.org/wiki/Rivo_Rakotovao'}, {'name': 'Hery Rajaonarimampianina', 'url': 'https://en.wikipedia.org/wiki/Hery_Rajaonarimampianina'}]}, {'country': 'Malawi', 'url': 'https://en.wikipedia.org/wiki/Malawi', 'presidents': [{'name': 'Peter Mutharika', 'url': 'https://en.wikipedia.org/wiki/Peter_Mutharika'}, {'name': 'Elizabeth II', 'url': 'https://en.wikipedia.org/wiki/Elizabeth_II'}, {'name': 'Hastings Banda', 'url': 'https://en.wikipedia.org/wiki/Hastings_Banda'}, {'name': 'Joyce Banda', 'url': 'https://en.wikipedia.org/wiki/Joyce_Banda'}, {'name': 'Bakili Muluzi', 'url': 'https://en.wikipedia.org/wiki/Bakili_Muluzi'}, {'name': 'Bingu wa Mutharika', 'url': 'https://en.wikipedia.org/wiki/Bingu_wa_Mutharika'}]}, {'country': 'Malaysia', 'url': 'https://en.wikipedia.org/wiki/Malaysia', 'presidents': []}, {'country': 'Maldives', 'url': 'https://en.wikipedia.org/wiki/Maldives', 'presidents': [{'name': 'Ibrahim Mohamed Solih', 'url': 'https://en.wikipedia.org/wiki/Ibrahim_Mohamed_Solih'}, {'name': 'Mohammed Waheed Hassan', 'url': 'https://en.wikipedia.org/wiki/Mohammed_Waheed_Hassan'}, {'name': 'Ibrahim Didi', 'url': 'https://en.wikipedia.org/wiki/Ibrahim_Didi'}, {'name': 'Abdulla Yameen', 'url': 'https://en.wikipedia.org/wiki/Abdulla_Yameen'}, {'name': 'Mohamed Nasheed', 'url': 'https://en.wikipedia.org/wiki/Mohamed_Nasheed'}]}, {'country': 'Mali', 'url': 'https://en.wikipedia.org/wiki/Mali', 'presidents': [{'name': 'Ibrahim Boubacar Keïta', 'url': 'https://en.wikipedia.org/wiki/Ibrahim_Boubacar_Ke%C3%AFta'}, {'name': 'Alpha Oumar Konaré', 'url': 'https://en.wikipedia.org/wiki/Alpha_Oumar_Konar%C3%A9'}, {'name': 'Amara Essy', 'url': 'https://en.wikipedia.org/wiki/Amara_Essy'}, {'name': 'Amadou Toumani Touré', 'url': 'https://en.wikipedia.org/wiki/Amadou_Toumani_Tour%C3%A9'}, {'name': 'Dioncounda Traoré', 'url': 'https://en.wikipedia.org/wiki/Dioncounda_Traor%C3%A9'}, {'name': 'Amadou Sanogo', 'url': 'https://en.wikipedia.org/wiki/Amadou_Sanogo'}]}, {'country': 'Malta', 'url': 'https://en.wikipedia.org/wiki/Malta', 'presidents': [{'name': 'George Vella', 'url': 'https://en.wikipedia.org/wiki/George_Vella'}, {'name': 'Guido de Marco', 'url': 'https://en.wikipedia.org/wiki/Guido_de_Marco'}, {'name': 'Ugo Mifsud Bonnici', 'url': 'https://en.wikipedia.org/wiki/Ugo_Mifsud_Bonnici'}, {'name': 'George Abela', 'url': 'https://en.wikipedia.org/wiki/George_Abela'}, {'name': 'Anthony Mamo', 'url': 'https://en.wikipedia.org/wiki/Anthony_Mamo'}, {'name': 'Paul Xuereb', 'url': 'https://en.wikipedia.org/wiki/Paul_Xuereb'}, {'name': 'Elizabeth II', 'url': 'https://en.wikipedia.org/wiki/Elizabeth_II'}, {'name': 'Eddie Fenech Adami', 'url': 'https://en.wikipedia.org/wiki/Eddie_Fenech_Adami'}, {'name': 'Agatha Barbara', 'url': 'https://en.wikipedia.org/wiki/Agatha_Barbara'}, {'name': 'Marie-Louise Coleiro Preca', 'url': 'https://en.wikipedia.org/wiki/Marie-Louise_Coleiro_Preca'}, {'name': 'Anton Buttigieg', 'url': 'https://en.wikipedia.org/wiki/Anton_Buttigieg'}, {'name': 'Censu Tabone', 'url': 'https://en.wikipedia.org/wiki/Censu_Tabone'}, {'name': 'Albert Hyzler', 'url': 'https://en.wikipedia.org/wiki/Albert_Hyzler'}]}, {'country': 'Marshall Islands', 'url': 'https://en.wikipedia.org/wiki/Marshall_Islands', 'presidents': [{'name': 'Hilda Heine', 'url': 'https://en.wikipedia.org/wiki/Hilda_Heine'}, {'name': 'Jurelang Zedkaia', 'url': 'https://en.wikipedia.org/wiki/Jurelang_Zedkaia'}, {'name': 'Kessai Note', 'url': 'https://en.wikipedia.org/wiki/Kessai_Note'}, {'name': 'Ruben Zackhras', 'url': 'https://en.wikipedia.org/wiki/Ruben_Zackhras'}, {'name': 'Casten Nemra', 'url': 'https://en.wikipedia.org/wiki/Casten_Nemra'}, {'name': 'Imata Kabua', 'url': 'https://en.wikipedia.org/wiki/Imata_Kabua'}, {'name': 'Kunio Lemari', 'url': 'https://en.wikipedia.org/wiki/Kunio_Lemari'}, {'name': 'Amata Kabua', 'url': 'https://en.wikipedia.org/wiki/Amata_Kabua'}, {'name': 'Christopher Loeak', 'url': 'https://en.wikipedia.org/wiki/Christopher_Loeak'}, {'name': 'Litokwa Tomeing', 'url': 'https://en.wikipedia.org/wiki/Litokwa_Tomeing'}]}, {'country': 'Mauritania', 'url': 'https://en.wikipedia.org/wiki/Mauritania', 'presidents': []}, {'country': 'Mauritius', 'url': 'https://en.wikipedia.org/wiki/Mauritius', 'presidents': [{'name': 'Barlen Vyapoory', 'url': 'https://en.wikipedia.org/wiki/Barlen_Vyapoory'}, {'name': 'Ameenah Gurib', 'url': 'https://en.wikipedia.org/wiki/Ameenah_Gurib'}, {'name': 'Monique Ohsan Bellepeau', 'url': 'https://en.wikipedia.org/wiki/Monique_Ohsan_Bellepeau'}, {'name': 'Kailash Purryag', 'url': 'https://en.wikipedia.org/wiki/Kailash_Purryag'}]}, {'country': 'Mexico', 'url': 'https://en.wikipedia.org/wiki/Mexico', 'presidents': [{'name': 'Andrés Manuel López Obrador', 'url': 'https://en.wikipedia.org/wiki/Andr%C3%A9s_Manuel_L%C3%B3pez_Obrador'}, {'name': 'Abelardo L. Rodríguez', 'url': 'https://en.wikipedia.org/wiki/Abelardo_L._Rodr%C3%ADguez'}, {'name': 'Francisco I. Madero', 'url': 'https://en.wikipedia.org/wiki/Francisco_I._Madero'}, {'name': 'Miguel Alemán Valdés', 'url': 'https://en.wikipedia.org/wiki/Miguel_Alem%C3%A1n_Vald%C3%A9s'}, {'name': 'Vicente Fox', 'url': 'https://en.wikipedia.org/wiki/Vicente_Fox'}, {'name': 'Porfirio Díaz', 'url': 'https://en.wikipedia.org/wiki/Porfirio_D%C3%ADaz'}, {'name': 'Adolfo Ruiz Cortines', 'url': 'https://en.wikipedia.org/wiki/Adolfo_Ruiz_Cortines'}, {'name': 'Francisco S. Carvajal', 'url': 'https://en.wikipedia.org/wiki/Francisco_S._Carvajal'}, {'name': 'Ernesto Zedillo', 'url': 'https://en.wikipedia.org/wiki/Ernesto_Zedillo'}, {'name': 'Miguel de la Madrid', 'url': 'https://en.wikipedia.org/wiki/Miguel_de_la_Madrid'}, {'name': 'José López Portillo', 'url': 'https://en.wikipedia.org/wiki/Jos%C3%A9_L%C3%B3pez_Portillo'}, {'name': 'Pedro Lascuráin', 'url': 'https://en.wikipedia.org/wiki/Pedro_Lascur%C3%A1in'}, {'name': 'Lázaro Cárdenas', 'url': 'https://en.wikipedia.org/wiki/L%C3%A1zaro_C%C3%A1rdenas'}, {'name': 'Venustiano Carranza', 'url': 'https://en.wikipedia.org/wiki/Venustiano_Carranza'}, {'name': 'Carlos Salinas de Gortari', 'url': 'https://en.wikipedia.org/wiki/Carlos_Salinas_de_Gortari'}, {'name': 'Manuel Ávila Camacho', 'url': 'https://en.wikipedia.org/wiki/Manuel_%C3%81vila_Camacho'}, {'name': 'Pascual Ortiz Rubio', 'url': 'https://en.wikipedia.org/wiki/Pascual_Ortiz_Rubio'}, {'name': 'Adolfo López Mateos', 'url': 'https://en.wikipedia.org/wiki/Adolfo_L%C3%B3pez_Mateos'}, {'name': 'Enrique Peña Nieto', 'url': 'https://en.wikipedia.org/wiki/Enrique_Pe%C3%B1a_Nieto'}, {'name': 'Adolfo de la Huerta', 'url': 'https://en.wikipedia.org/wiki/Adolfo_de_la_Huerta'}, {'name': 'Manuel González Flores', 'url': 'https://en.wikipedia.org/wiki/Manuel_Gonz%C3%A1lez_Flores'}, {'name': 'Gustavo Díaz Ordaz', 'url': 'https://en.wikipedia.org/wiki/Gustavo_D%C3%ADaz_Ordaz'}, {'name': 'Emilio Portes Gil', 'url': 'https://en.wikipedia.org/wiki/Emilio_Portes_Gil'}, {'name': 'Luis Echeverría', 'url': 'https://en.wikipedia.org/wiki/Luis_Echeverr%C3%ADa'}, {'name': 'Victoriano Huerta', 'url': 'https://en.wikipedia.org/wiki/Victoriano_Huerta'}, {'name': 'Felipe Calderón', 'url': 'https://en.wikipedia.org/wiki/Felipe_Calder%C3%B3n'}, {'name': 'Álvaro Obregón', 'url': 'https://en.wikipedia.org/wiki/%C3%81lvaro_Obreg%C3%B3n'}, {'name': 'Francisco León de la Barra', 'url': 'https://en.wikipedia.org/wiki/Francisco_Le%C3%B3n_de_la_Barra'}, {'name': 'Plutarco Elías Calles', 'url': 'https://en.wikipedia.org/wiki/Plutarco_El%C3%ADas_Calles'}]}, {'country': 'Federated States of Micronesia', 'url': 'https://en.wikipedia.org/wiki/Federated_States_of_Micronesia', 'presidents': [{'name': 'Peter M. Christian', 'url': 'https://en.wikipedia.org/wiki/Peter_M._Christian'}, {'name': 'Tosiwo Nakayama', 'url': 'https://en.wikipedia.org/wiki/Tosiwo_Nakayama'}, {'name': 'Bailey Olter', 'url': 'https://en.wikipedia.org/wiki/Bailey_Olter'}, {'name': 'Joseph Urusemal', 'url': 'https://en.wikipedia.org/wiki/Joseph_Urusemal'}, {'name': 'Jacob Nena', 'url': 'https://en.wikipedia.org/wiki/Jacob_Nena'}, {'name': 'Manny Mori', 'url': 'https://en.wikipedia.org/wiki/Manny_Mori'}, {'name': 'Leo Falcam', 'url': 'https://en.wikipedia.org/wiki/Leo_Falcam'}, {'name': 'John Haglelgam', 'url': 'https://en.wikipedia.org/wiki/John_Haglelgam'}]}, {'country': 'Moldova', 'url': 'https://en.wikipedia.org/wiki/Moldova', 'presidents': [{'name': 'Igor Dodon', 'url': 'https://en.wikipedia.org/wiki/Igor_Dodon'}, {'name': 'Nicolae Timofti', 'url': 'https://en.wikipedia.org/wiki/Nicolae_Timofti'}, {'name': 'Petru Lucinschi', 'url': 'https://en.wikipedia.org/wiki/Petru_Lucinschi'}, {'name': 'Marian Lupu', 'url': 'https://en.wikipedia.org/wiki/Marian_Lupu'}, {'name': 'Mihai Ghimpu', 'url': 'https://en.wikipedia.org/wiki/Mihai_Ghimpu'}, {'name': 'Vladimir Voronin', 'url': 'https://en.wikipedia.org/wiki/Vladimir_Voronin'}, {'name': 'Mircea Snegur', 'url': 'https://en.wikipedia.org/wiki/Mircea_Snegur'}]}, {'country': 'Monaco', 'url': 'https://en.wikipedia.org/wiki/Monaco', 'presidents': []}, {'country': 'Mongolia', 'url': 'https://en.wikipedia.org/wiki/Mongolia', 'presidents': [{'name': 'Khaltmaagiin Battulga', 'url': 'https://en.wikipedia.org/wiki/Khaltmaagiin_Battulga'}, {'name': 'Nambaryn Enkhbayar', 'url': 'https://en.wikipedia.org/wiki/Nambaryn_Enkhbayar'}, {'name': 'Punsalmaagiin Ochirbat', 'url': 'https://en.wikipedia.org/wiki/Punsalmaagiin_Ochirbat'}, {'name': 'Natsagiin Bagabandi', 'url': 'https://en.wikipedia.org/wiki/Natsagiin_Bagabandi'}, {'name': 'Tsakhiagiin Elbegdorj', 'url': 'https://en.wikipedia.org/wiki/Tsakhiagiin_Elbegdorj'}]}, {'country': 'Montenegro', 'url': 'https://en.wikipedia.org/wiki/Montenegro', 'presidents': []}, {'country': 'Morocco', 'url': 'https://en.wikipedia.org/wiki/Morocco', 'presidents': []}, {'country': 'Mozambique', 'url': 'https://en.wikipedia.org/wiki/Mozambique', 'presidents': [{'name': 'Filipe Nyusi', 'url': 'https://en.wikipedia.org/wiki/Filipe_Nyusi'}, {'name': 'Samora Machel', 'url': 'https://en.wikipedia.org/wiki/Samora_Machel'}, {'name': 'Armando Guebuza', 'url': 'https://en.wikipedia.org/wiki/Armando_Guebuza'}, {'name': 'Joaquim Chissano', 'url': 'https://en.wikipedia.org/wiki/Joaquim_Chissano'}, {'name': 'Eduardo Mondlane', 'url': 'https://en.wikipedia.org/wiki/Eduardo_Mondlane'}]}, {'country': 'Myanmar', 'url': 'https://en.wikipedia.org/wiki/Myanmar', 'presidents': [{'name': 'Win Myint (politician)', 'url': 'https://en.wikipedia.org/wiki/Win_Myint_(politician)'}, {'name': 'Tin Aung Myint Oo', 'url': 'https://en.wikipedia.org/wiki/Tin_Aung_Myint_Oo'}, {'name': 'Myint Swe (general)', 'url': 'https://en.wikipedia.org/wiki/Myint_Swe_(general)'}, {'name': 'Sai Mauk Kham', 'url': 'https://en.wikipedia.org/wiki/Sai_Mauk_Kham'}]}, {'country': 'Namibia', 'url': 'https://en.wikipedia.org/wiki/Namibia', 'presidents': [{'name': 'Hage Geingob', 'url': 'https://en.wikipedia.org/wiki/Hage_Geingob'}, {'name': 'Sam Nujoma', 'url': 'https://en.wikipedia.org/wiki/Sam_Nujoma'}, {'name': 'Hifikepunye Pohamba', 'url': 'https://en.wikipedia.org/wiki/Hifikepunye_Pohamba'}]}, {'country': 'Nauru', 'url': 'https://en.wikipedia.org/wiki/Nauru', 'presidents': [{'name': 'Baron Waqa', 'url': 'https://en.wikipedia.org/wiki/Baron_Waqa'}, {'name': 'Bernard Dowiyogo', 'url': 'https://en.wikipedia.org/wiki/Bernard_Dowiyogo'}, {'name': 'Hammer DeRoburt', 'url': 'https://en.wikipedia.org/wiki/Hammer_DeRoburt'}, {'name': 'Marcus Stephen', 'url': 'https://en.wikipedia.org/wiki/Marcus_Stephen'}, {'name': 'Ludwig Scotty', 'url': 'https://en.wikipedia.org/wiki/Ludwig_Scotty'}, {'name': 'René Harris', 'url': 'https://en.wikipedia.org/wiki/Ren%C3%A9_Harris'}, {'name': 'Sprent Dabwido', 'url': 'https://en.wikipedia.org/wiki/Sprent_Dabwido'}, {'name': 'Freddie Pitcher', 'url': 'https://en.wikipedia.org/wiki/Freddie_Pitcher'}]}, {'country': 'Nepal', 'url': 'https://en.wikipedia.org/wiki/Nepal', 'presidents': [{'name': 'Bidhya Devi Bhandari', 'url': 'https://en.wikipedia.org/wiki/Bidhya_Devi_Bhandari'}, {'name': 'Girija Prasad Koirala', 'url': 'https://en.wikipedia.org/wiki/Girija_Prasad_Koirala'}, {'name': 'Ram Baran Yadav', 'url': 'https://en.wikipedia.org/wiki/Ram_Baran_Yadav'}, {'name': 'Gyanendra of Nepal', 'url': 'https://en.wikipedia.org/wiki/Gyanendra_of_Nepal'}]}, {'country': 'Kingdom of the Netherlands', 'url': 'https://en.wikipedia.org/wiki/Kingdom_of_the_Netherlands', 'presidents': []}, {'country': 'New Zealand', 'url': 'https://en.wikipedia.org/wiki/New_Zealand', 'presidents': []}, {'country': 'Nicaragua', 'url': 'https://en.wikipedia.org/wiki/Nicaragua', 'presidents': [{'name': 'Daniel Ortega', 'url': 'https://en.wikipedia.org/wiki/Daniel_Ortega'}, {'name': 'Arnoldo Alemán', 'url': 'https://en.wikipedia.org/wiki/Arnoldo_Alem%C3%A1n'}, {'name': 'Daniel Ortega', 'url': 'https://en.wikipedia.org/wiki/Daniel_Ortega'}, {'name': 'Enrique Bolaños', 'url': 'https://en.wikipedia.org/wiki/Enrique_Bola%C3%B1os'}, {'name': 'Violeta Barrios de Chamorro', 'url': 'https://en.wikipedia.org/wiki/Violeta_Barrios_de_Chamorro'}]}, {'country': 'Niger', 'url': 'https://en.wikipedia.org/wiki/Niger', 'presidents': [{'name': 'Mahamadou Issoufou', 'url': 'https://en.wikipedia.org/wiki/Mahamadou_Issoufou'}, {'name': 'Mahamane Ousmane', 'url': 'https://en.wikipedia.org/wiki/Mahamane_Ousmane'}, {'name': 'Ali Saibou', 'url': 'https://en.wikipedia.org/wiki/Ali_Saibou'}, {'name': 'Salou Djibo', 'url': 'https://en.wikipedia.org/wiki/Salou_Djibo'}, {'name': 'French Community', 'url': 'https://en.wikipedia.org/wiki/French_Community'}, {'name': 'Daouda Malam Wanké', 'url': 'https://en.wikipedia.org/wiki/Daouda_Malam_Wank%C3%A9'}, {'name': 'Ibrahim Baré Maïnassara', 'url': 'https://en.wikipedia.org/wiki/Ibrahim_Bar%C3%A9_Ma%C3%AFnassara'}, {'name': 'Hamani Diori', 'url': 'https://en.wikipedia.org/wiki/Hamani_Diori'}, {'name': 'Seyni Kountché', 'url': 'https://en.wikipedia.org/wiki/Seyni_Kountch%C3%A9'}, {'name': 'Mamadou Tandja', 'url': 'https://en.wikipedia.org/wiki/Mamadou_Tandja'}]}, {'country': 'Nigeria', 'url': 'https://en.wikipedia.org/wiki/Nigeria', 'presidents': [{'name': 'Muhammadu Buhari', 'url': 'https://en.wikipedia.org/wiki/Muhammadu_Buhari'}, {'name': \"Umaru Musa Yar'Adua\", 'url': 'https://en.wikipedia.org/wiki/Umaru_Musa_Yar%27Adua'}, {'name': 'Muhammadu Buhari', 'url': 'https://en.wikipedia.org/wiki/Muhammadu_Buhari'}, {'name': 'Sani Abacha', 'url': 'https://en.wikipedia.org/wiki/Sani_Abacha'}, {'name': 'Ernest Shonekan', 'url': 'https://en.wikipedia.org/wiki/Ernest_Shonekan'}, {'name': 'Abdulsalam Abubakar', 'url': 'https://en.wikipedia.org/wiki/Abdulsalam_Abubakar'}, {'name': 'Ibrahim Babangida', 'url': 'https://en.wikipedia.org/wiki/Ibrahim_Babangida'}, {'name': 'Goodluck Jonathan', 'url': 'https://en.wikipedia.org/wiki/Goodluck_Jonathan'}, {'name': 'Olusegun Obasanjo', 'url': 'https://en.wikipedia.org/wiki/Olusegun_Obasanjo'}]}, {'country': 'North Macedonia', 'url': 'https://en.wikipedia.org/wiki/North_Macedonia', 'presidents': [{'name': 'Gjorge Ivanov', 'url': 'https://en.wikipedia.org/wiki/Gjorge_Ivanov'}, {'name': 'Kiro Gligorov', 'url': 'https://en.wikipedia.org/wiki/Kiro_Gligorov'}, {'name': 'Vladimir Mitkov (page does not exist)', 'url': 'https://en.wikipedia.org/w/index.php?title=Vladimir_Mitkov&action=edit&redlink=1'}, {'name': 'Boris Trajkovski', 'url': 'https://en.wikipedia.org/wiki/Boris_Trajkovski'}, {'name': 'Branko Crvenkovski', 'url': 'https://en.wikipedia.org/wiki/Branko_Crvenkovski'}]}, {'country': 'Norway', 'url': 'https://en.wikipedia.org/wiki/Norway', 'presidents': []}, {'country': 'Oman', 'url': 'https://en.wikipedia.org/wiki/Oman', 'presidents': []}, {'country': 'Pakistan', 'url': 'https://en.wikipedia.org/wiki/Pakistan', 'presidents': [{'name': 'Arif Alvi', 'url': 'https://en.wikipedia.org/wiki/Arif_Alvi'}, {'name': 'Muhammad Mian Soomro', 'url': 'https://en.wikipedia.org/wiki/Muhammad_Mian_Soomro'}, {'name': 'Pervez Musharraf', 'url': 'https://en.wikipedia.org/wiki/Pervez_Musharraf'}, {'name': 'Muhammad Rafiq Tarar', 'url': 'https://en.wikipedia.org/wiki/Muhammad_Rafiq_Tarar'}, {'name': 'Farooq Leghari', 'url': 'https://en.wikipedia.org/wiki/Farooq_Leghari'}, {'name': 'Asif Ali Zardari', 'url': 'https://en.wikipedia.org/wiki/Asif_Ali_Zardari'}, {'name': 'Mamnoon Hussain', 'url': 'https://en.wikipedia.org/wiki/Mamnoon_Hussain'}, {'name': 'Wasim Sajjad', 'url': 'https://en.wikipedia.org/wiki/Wasim_Sajjad'}]}, {'country': 'Palau', 'url': 'https://en.wikipedia.org/wiki/Palau', 'presidents': [{'name': 'Tommy Remengesau', 'url': 'https://en.wikipedia.org/wiki/Tommy_Remengesau'}, {'name': 'Johnson Toribiong', 'url': 'https://en.wikipedia.org/wiki/Johnson_Toribiong'}, {'name': 'Tommy Remengesau', 'url': 'https://en.wikipedia.org/wiki/Tommy_Remengesau'}]}, {'country': 'State of Palestine', 'url': 'https://en.wikipedia.org/wiki/State_of_Palestine', 'presidents': [{'name': 'Mahmoud Abbas', 'url': 'https://en.wikipedia.org/wiki/Mahmoud_Abbas'}, {'name': 'Ahmad Shukeiri', 'url': 'https://en.wikipedia.org/wiki/Ahmad_Shukeiri'}, {'name': 'Yasser Arafat', 'url': 'https://en.wikipedia.org/wiki/Yasser_Arafat'}, {'name': 'Rawhi Fattouh', 'url': 'https://en.wikipedia.org/wiki/Rawhi_Fattouh'}, {'name': 'Yahya Hammuda', 'url': 'https://en.wikipedia.org/wiki/Yahya_Hammuda'}]}, {'country': 'Panama', 'url': 'https://en.wikipedia.org/wiki/Panama', 'presidents': [{'name': 'Juan Carlos Varela', 'url': 'https://en.wikipedia.org/wiki/Juan_Carlos_Varela'}, {'name': 'Ernesto Pérez Balladares', 'url': 'https://en.wikipedia.org/wiki/Ernesto_P%C3%A9rez_Balladares'}, {'name': 'Martín Torrijos', 'url': 'https://en.wikipedia.org/wiki/Mart%C3%ADn_Torrijos'}, {'name': 'Mireya Moscoso', 'url': 'https://en.wikipedia.org/wiki/Mireya_Moscoso'}, {'name': 'Manuel Noriega', 'url': 'https://en.wikipedia.org/wiki/Manuel_Noriega'}, {'name': 'Ricardo Martinelli', 'url': 'https://en.wikipedia.org/wiki/Ricardo_Martinelli'}, {'name': 'Guillermo Endara', 'url': 'https://en.wikipedia.org/wiki/Guillermo_Endara'}]}, {'country': 'Papua New Guinea', 'url': 'https://en.wikipedia.org/wiki/Papua_New_Guinea', 'presidents': []}, {'country': 'Paraguay', 'url': 'https://en.wikipedia.org/wiki/Paraguay', 'presidents': [{'name': 'Mario Abdo Benítez', 'url': 'https://en.wikipedia.org/wiki/Mario_Abdo_Ben%C3%ADtez'}, {'name': 'Horacio Cartes', 'url': 'https://en.wikipedia.org/wiki/Horacio_Cartes'}, {'name': 'Fernando Lugo', 'url': 'https://en.wikipedia.org/wiki/Fernando_Lugo'}, {'name': 'Federico Franco', 'url': 'https://en.wikipedia.org/wiki/Federico_Franco'}]}, {'country': 'Peru', 'url': 'https://en.wikipedia.org/wiki/Peru', 'presidents': [{'name': 'Martín Vizcarra', 'url': 'https://en.wikipedia.org/wiki/Mart%C3%ADn_Vizcarra'}, {'name': 'Alan García', 'url': 'https://en.wikipedia.org/wiki/Alan_Garc%C3%ADa'}, {'name': 'Ollanta Humala', 'url': 'https://en.wikipedia.org/wiki/Ollanta_Humala'}, {'name': 'Alejandro Toledo', 'url': 'https://en.wikipedia.org/wiki/Alejandro_Toledo'}, {'name': 'Pedro Pablo Kuczynski', 'url': 'https://en.wikipedia.org/wiki/Pedro_Pablo_Kuczynski'}, {'name': 'Alberto Fujimori', 'url': 'https://en.wikipedia.org/wiki/Alberto_Fujimori'}, {'name': 'Alan Garcia', 'url': 'https://en.wikipedia.org/wiki/Alan_Garcia'}, {'name': 'Valentín Paniagua', 'url': 'https://en.wikipedia.org/wiki/Valent%C3%ADn_Paniagua'}]}, {'country': 'Philippines', 'url': 'https://en.wikipedia.org/wiki/Philippines', 'presidents': [{'name': 'Rodrigo Duterte', 'url': 'https://en.wikipedia.org/wiki/Rodrigo_Duterte'}, {'name': 'Feliciano Belmonte, Jr.', 'url': 'https://en.wikipedia.org/wiki/Feliciano_Belmonte,_Jr.'}, {'name': 'Benigno Aquino III', 'url': 'https://en.wikipedia.org/wiki/Benigno_Aquino_III'}, {'name': 'Pantaleon Alvarez', 'url': 'https://en.wikipedia.org/wiki/Pantaleon_Alvarez'}, {'name': 'Jose de Venecia, Jr.', 'url': 'https://en.wikipedia.org/wiki/Jose_de_Venecia,_Jr.'}, {'name': 'Gloria Macapagal Arroyo', 'url': 'https://en.wikipedia.org/wiki/Gloria_Macapagal_Arroyo'}, {'name': 'Prospero Nograles', 'url': 'https://en.wikipedia.org/wiki/Prospero_Nograles'}, {'name': 'Feliciano Belmonte Jr.', 'url': 'https://en.wikipedia.org/wiki/Feliciano_Belmonte_Jr.'}]}, {'country': 'Poland', 'url': 'https://en.wikipedia.org/wiki/Poland', 'presidents': [{'name': 'Andrzej Duda', 'url': 'https://en.wikipedia.org/wiki/Andrzej_Duda'}, {'name': 'Ewa Kopacz', 'url': 'https://en.wikipedia.org/wiki/Ewa_Kopacz'}, {'name': 'Johan Ramstedt', 'url': 'https://en.wikipedia.org/wiki/Johan_Ramstedt'}, {'name': 'Hjalmar Branting', 'url': 'https://en.wikipedia.org/wiki/Hjalmar_Branting'}, {'name': 'Donald Tusk', 'url': 'https://en.wikipedia.org/wiki/Donald_Tusk'}, {'name': 'Hjalmar Hammarskjöld', 'url': 'https://en.wikipedia.org/wiki/Hjalmar_Hammarskj%C3%B6ld'}, {'name': 'Ingvar Carlsson', 'url': 'https://en.wikipedia.org/wiki/Ingvar_Carlsson'}, {'name': 'Christian Lundeberg', 'url': 'https://en.wikipedia.org/wiki/Christian_Lundeberg'}, {'name': 'Göran Persson', 'url': 'https://en.wikipedia.org/wiki/G%C3%B6ran_Persson'}, {'name': 'Robert Themptander', 'url': 'https://en.wikipedia.org/wiki/Robert_Themptander'}, {'name': 'Karl Staaff', 'url': 'https://en.wikipedia.org/wiki/Karl_Staaff'}, {'name': 'Arvid Posse', 'url': 'https://en.wikipedia.org/wiki/Arvid_Posse'}, {'name': 'Nils Edén', 'url': 'https://en.wikipedia.org/wiki/Nils_Ed%C3%A9n'}, {'name': 'Tage Erlander', 'url': 'https://en.wikipedia.org/wiki/Tage_Erlander'}, {'name': 'Herman Van Rompuy', 'url': 'https://en.wikipedia.org/wiki/Herman_Van_Rompuy'}, {'name': 'Felix Hamrin', 'url': 'https://en.wikipedia.org/wiki/Felix_Hamrin'}, {'name': 'Fredrik Reinfeldt', 'url': 'https://en.wikipedia.org/wiki/Fredrik_Reinfeldt'}, {'name': 'Grzegorz Schetyna', 'url': 'https://en.wikipedia.org/wiki/Grzegorz_Schetyna'}, {'name': 'Erik Gustaf Boström', 'url': 'https://en.wikipedia.org/wiki/Erik_Gustaf_Bostr%C3%B6m'}, {'name': 'Per Albin Hansson', 'url': 'https://en.wikipedia.org/wiki/Per_Albin_Hansson'}, {'name': 'Olof Palme', 'url': 'https://en.wikipedia.org/wiki/Olof_Palme'}, {'name': 'Gillis Bildt', 'url': 'https://en.wikipedia.org/wiki/Gillis_Bildt'}, {'name': 'Gustaf Åkerhielm', 'url': 'https://en.wikipedia.org/wiki/Gustaf_%C3%85kerhielm'}, {'name': 'Carl Gustaf Ekman', 'url': 'https://en.wikipedia.org/wiki/Carl_Gustaf_Ekman'}, {'name': 'Carl Johan Thyselius', 'url': 'https://en.wikipedia.org/wiki/Carl_Johan_Thyselius'}, {'name': 'Louis Gerhard De Geer', 'url': 'https://en.wikipedia.org/wiki/Louis_Gerhard_De_Geer'}, {'name': 'Rickard Sandler', 'url': 'https://en.wikipedia.org/wiki/Rickard_Sandler'}, {'name': 'Carl Swartz', 'url': 'https://en.wikipedia.org/wiki/Carl_Swartz'}, {'name': 'Bronisław Komorowski', 'url': 'https://en.wikipedia.org/wiki/Bronis%C5%82aw_Komorowski'}]}, {'country': 'Portugal', 'url': 'https://en.wikipedia.org/wiki/Portugal', 'presidents': [{'name': 'Marcelo Rebelo de Sousa', 'url': 'https://en.wikipedia.org/wiki/Marcelo_Rebelo_de_Sousa'}, {'name': 'António José de Almeida', 'url': 'https://en.wikipedia.org/wiki/Ant%C3%B3nio_Jos%C3%A9_de_Almeida'}, {'name': 'Francisco da Costa Gomes', 'url': 'https://en.wikipedia.org/wiki/Francisco_da_Costa_Gomes'}, {'name': 'Jorge Sampaio', 'url': 'https://en.wikipedia.org/wiki/Jorge_Sampaio'}, {'name': 'Aníbal Cavaco Silva', 'url': 'https://en.wikipedia.org/wiki/An%C3%ADbal_Cavaco_Silva'}, {'name': 'António de Spínola', 'url': 'https://en.wikipedia.org/wiki/Ant%C3%B3nio_de_Sp%C3%ADnola'}, {'name': 'Bernardino Machado', 'url': 'https://en.wikipedia.org/wiki/Bernardino_Machado'}, {'name': 'João do Canto e Castro', 'url': 'https://en.wikipedia.org/wiki/Jo%C3%A3o_do_Canto_e_Castro'}, {'name': 'José Mendes Cabeçadas', 'url': 'https://en.wikipedia.org/wiki/Jos%C3%A9_Mendes_Cabe%C3%A7adas'}, {'name': 'Francisco Craveiro Lopes', 'url': 'https://en.wikipedia.org/wiki/Francisco_Craveiro_Lopes'}, {'name': 'Sidónio Pais', 'url': 'https://en.wikipedia.org/wiki/Sid%C3%B3nio_Pais'}, {'name': 'Óscar Carmona', 'url': 'https://en.wikipedia.org/wiki/%C3%93scar_Carmona'}, {'name': 'Américo Tomás', 'url': 'https://en.wikipedia.org/wiki/Am%C3%A9rico_Tom%C3%A1s'}, {'name': 'Mário Soares', 'url': 'https://en.wikipedia.org/wiki/M%C3%A1rio_Soares'}, {'name': 'Manuel Gomes da Costa', 'url': 'https://en.wikipedia.org/wiki/Manuel_Gomes_da_Costa'}, {'name': 'Manuel Teixeira Gomes', 'url': 'https://en.wikipedia.org/wiki/Manuel_Teixeira_Gomes'}, {'name': 'António Ramalho Eanes', 'url': 'https://en.wikipedia.org/wiki/Ant%C3%B3nio_Ramalho_Eanes'}]}, {'country': 'Qatar', 'url': 'https://en.wikipedia.org/wiki/Qatar', 'presidents': []}, {'country': 'Romania', 'url': 'https://en.wikipedia.org/wiki/Romania', 'presidents': [{'name': 'Klaus Iohannis', 'url': 'https://en.wikipedia.org/wiki/Klaus_Iohannis'}, {'name': 'Nicolae Ceaușescu', 'url': 'https://en.wikipedia.org/wiki/Nicolae_Ceau%C8%99escu'}, {'name': 'Ion Iliescu', 'url': 'https://en.wikipedia.org/wiki/Ion_Iliescu'}, {'name': 'Ștefan Foriș', 'url': 'https://en.wikipedia.org/wiki/%C8%98tefan_Fori%C8%99'}, {'name': 'Gheorghe Gheorghiu-Dej', 'url': 'https://en.wikipedia.org/wiki/Gheorghe_Gheorghiu-Dej'}, {'name': 'Traian Băsescu', 'url': 'https://en.wikipedia.org/wiki/Traian_B%C4%83sescu'}]}, {'country': 'Russia', 'url': 'https://en.wikipedia.org/wiki/Russia', 'presidents': [{'name': 'Vladimir Putin', 'url': 'https://en.wikipedia.org/wiki/Vladimir_Putin'}, {'name': 'Dmitry Medvedev', 'url': 'https://en.wikipedia.org/wiki/Dmitry_Medvedev'}, {'name': 'Vladimir Putin', 'url': 'https://en.wikipedia.org/wiki/Vladimir_Putin'}]}, {'country': 'Rwanda', 'url': 'https://en.wikipedia.org/wiki/Rwanda', 'presidents': [{'name': 'Paul Kagame', 'url': 'https://en.wikipedia.org/wiki/Paul_Kagame'}, {'name': 'Juvénal Habyarimana', 'url': 'https://en.wikipedia.org/wiki/Juv%C3%A9nal_Habyarimana'}, {'name': 'Théodore Sindikubwabo', 'url': 'https://en.wikipedia.org/wiki/Th%C3%A9odore_Sindikubwabo'}, {'name': 'Grégoire Kayibanda', 'url': 'https://en.wikipedia.org/wiki/Gr%C3%A9goire_Kayibanda'}, {'name': 'Pasteur Bizimungu', 'url': 'https://en.wikipedia.org/wiki/Pasteur_Bizimungu'}]}, {'country': 'Saint Kitts and Nevis', 'url': 'https://en.wikipedia.org/wiki/Saint_Kitts_and_Nevis', 'presidents': []}, {'country': 'Saint Lucia', 'url': 'https://en.wikipedia.org/wiki/Saint_Lucia', 'presidents': []}, {'country': 'Saint Vincent and the Grenadines', 'url': 'https://en.wikipedia.org/wiki/Saint_Vincent_and_the_Grenadines', 'presidents': []}, {'country': 'Samoa', 'url': 'https://en.wikipedia.org/wiki/Samoa', 'presidents': []}, {'country': 'San Marino', 'url': 'https://en.wikipedia.org/wiki/San_Marino', 'presidents': []}, {'country': 'São Tomé and Príncipe', 'url': 'https://en.wikipedia.org/wiki/S%C3%A3o_Tom%C3%A9_and_Pr%C3%ADncipe', 'presidents': [{'name': 'Evaristo Carvalho', 'url': 'https://en.wikipedia.org/wiki/Evaristo_Carvalho'}, {'name': 'Manuel Pinto da Costa', 'url': 'https://en.wikipedia.org/wiki/Manuel_Pinto_da_Costa'}, {'name': 'Fernando Pereira (major)', 'url': 'https://en.wikipedia.org/wiki/Fernando_Pereira_(major)'}, {'name': 'Fradique de Menezes', 'url': 'https://en.wikipedia.org/wiki/Fradique_de_Menezes'}]}, {'country': 'Saudi Arabia', 'url': 'https://en.wikipedia.org/wiki/Saudi_Arabia', 'presidents': []}, {'country': 'Senegal', 'url': 'https://en.wikipedia.org/wiki/Senegal', 'presidents': [{'name': 'Macky Sall', 'url': 'https://en.wikipedia.org/wiki/Macky_Sall'}, {'name': 'Abdoulaye Wade', 'url': 'https://en.wikipedia.org/wiki/Abdoulaye_Wade'}, {'name': 'Wilhelm Miklas', 'url': 'https://en.wikipedia.org/wiki/Wilhelm_Miklas'}, {'name': 'Theodor Körner (Austrian president)', 'url': 'https://en.wikipedia.org/wiki/Theodor_K%C3%B6rner_(Austrian_president)'}, {'name': 'Karl Renner', 'url': 'https://en.wikipedia.org/wiki/Karl_Renner'}, {'name': 'Boutros Boutros-Ghali', 'url': 'https://en.wikipedia.org/wiki/Boutros_Boutros-Ghali'}, {'name': 'State Council (German-Austria)', 'url': 'https://en.wikipedia.org/wiki/State_Council_(German-Austria)'}, {'name': 'Michael Hainisch', 'url': 'https://en.wikipedia.org/wiki/Michael_Hainisch'}, {'name': 'Franz Jonas', 'url': 'https://en.wikipedia.org/wiki/Franz_Jonas'}, {'name': 'Adolf Schärf', 'url': 'https://en.wikipedia.org/wiki/Adolf_Sch%C3%A4rf'}, {'name': 'Karl Seitz', 'url': 'https://en.wikipedia.org/wiki/Karl_Seitz'}, {'name': 'Kurt Waldheim', 'url': 'https://en.wikipedia.org/wiki/Kurt_Waldheim'}, {'name': 'Emperor of Austria', 'url': 'https://en.wikipedia.org/wiki/Emperor_of_Austria'}, {'name': 'Abdou Diouf', 'url': 'https://en.wikipedia.org/wiki/Abdou_Diouf'}, {'name': 'Leopold Figl', 'url': 'https://en.wikipedia.org/wiki/Leopold_Figl'}, {'name': 'Javier Pérez de Cuéllar', 'url': 'https://en.wikipedia.org/wiki/Javier_P%C3%A9rez_de_Cu%C3%A9llar'}, {'name': 'Rudolf Kirchschläger', 'url': 'https://en.wikipedia.org/wiki/Rudolf_Kirchschl%C3%A4ger'}]}, {'country': 'Serbia', 'url': 'https://en.wikipedia.org/wiki/Serbia', 'presidents': [{'name': 'Aleksandar Vučić', 'url': 'https://en.wikipedia.org/wiki/Aleksandar_Vu%C4%8Di%C4%87'}, {'name': 'Tomislav Nikolić', 'url': 'https://en.wikipedia.org/wiki/Tomislav_Nikoli%C4%87'}, {'name': 'Sulejman Ugljanin', 'url': 'https://en.wikipedia.org/wiki/Sulejman_Ugljanin'}, {'name': 'Velimir Ilić', 'url': 'https://en.wikipedia.org/wiki/Velimir_Ili%C4%87'}, {'name': 'Slavica Đukić Dejanović', 'url': 'https://en.wikipedia.org/wiki/Slavica_%C4%90uki%C4%87_Dejanovi%C4%87'}]}, {'country': 'Seychelles', 'url': 'https://en.wikipedia.org/wiki/Seychelles', 'presidents': [{'name': 'Danny Faure', 'url': 'https://en.wikipedia.org/wiki/Danny_Faure'}, {'name': 'James Mancham', 'url': 'https://en.wikipedia.org/wiki/James_Mancham'}, {'name': 'James Michel', 'url': 'https://en.wikipedia.org/wiki/James_Michel'}, {'name': 'France-Albert René', 'url': 'https://en.wikipedia.org/wiki/France-Albert_Ren%C3%A9'}]}, {'country': 'Sierra Leone', 'url': 'https://en.wikipedia.org/wiki/Sierra_Leone', 'presidents': []}, {'country': 'Singapore', 'url': 'https://en.wikipedia.org/wiki/Singapore', 'presidents': [{'name': 'Halimah Yacob', 'url': 'https://en.wikipedia.org/wiki/Halimah_Yacob'}, {'name': 'Yeoh Ghim Seng', 'url': 'https://en.wikipedia.org/wiki/Yeoh_Ghim_Seng'}, {'name': 'Punch Coomaraswamy (page does not exist)', 'url': 'https://en.wikipedia.org/w/index.php?title=Punch_Coomaraswamy&action=edit&redlink=1'}, {'name': 'Tony Tan', 'url': 'https://en.wikipedia.org/wiki/Tony_Tan'}, {'name': 'Ong Teng Cheong', 'url': 'https://en.wikipedia.org/wiki/Ong_Teng_Cheong'}, {'name': 'Wee Kim Wee', 'url': 'https://en.wikipedia.org/wiki/Wee_Kim_Wee'}, {'name': 'S. R. Nathan', 'url': 'https://en.wikipedia.org/wiki/S._R._Nathan'}]}, {'country': 'Slovakia', 'url': 'https://en.wikipedia.org/wiki/Slovakia', 'presidents': [{'name': 'Andrej Kiska', 'url': 'https://en.wikipedia.org/wiki/Andrej_Kiska'}, {'name': 'Rudolf Schuster', 'url': 'https://en.wikipedia.org/wiki/Rudolf_Schuster'}, {'name': 'Ivan Gašparovič', 'url': 'https://en.wikipedia.org/wiki/Ivan_Ga%C5%A1parovi%C4%8D'}, {'name': 'Michal Kováč', 'url': 'https://en.wikipedia.org/wiki/Michal_Kov%C3%A1%C4%8D'}]}, {'country': 'Slovenia', 'url': 'https://en.wikipedia.org/wiki/Slovenia', 'presidents': [{'name': 'Borut Pahor', 'url': 'https://en.wikipedia.org/wiki/Borut_Pahor'}, {'name': 'Janez Drnovšek', 'url': 'https://en.wikipedia.org/wiki/Janez_Drnov%C5%A1ek'}, {'name': 'Milan Kučan', 'url': 'https://en.wikipedia.org/wiki/Milan_Ku%C4%8Dan'}, {'name': 'Danilo Türk', 'url': 'https://en.wikipedia.org/wiki/Danilo_T%C3%BCrk'}]}, {'country': 'Solomon Islands', 'url': 'https://en.wikipedia.org/wiki/Solomon_Islands', 'presidents': []}, {'country': 'Somalia', 'url': 'https://en.wikipedia.org/wiki/Somalia', 'presidents': [{'name': 'Mohamed Abdullahi Mohamed', 'url': 'https://en.wikipedia.org/wiki/Mohamed_Abdullahi_Mohamed'}, {'name': 'Abdiqasim Salad Hassan', 'url': 'https://en.wikipedia.org/wiki/Abdiqasim_Salad_Hassan'}, {'name': 'Abdullahi Yusuf Ahmed', 'url': 'https://en.wikipedia.org/wiki/Abdullahi_Yusuf_Ahmed'}, {'name': 'Hassan Sheikh Mohamud', 'url': 'https://en.wikipedia.org/wiki/Hassan_Sheikh_Mohamud'}, {'name': 'Sharif Sheikh Ahmed', 'url': 'https://en.wikipedia.org/wiki/Sharif_Sheikh_Ahmed'}]}, {'country': 'South Africa', 'url': 'https://en.wikipedia.org/wiki/South_Africa', 'presidents': [{'name': 'Cyril Ramaphosa', 'url': 'https://en.wikipedia.org/wiki/Cyril_Ramaphosa'}, {'name': 'Kgalema Motlanthe', 'url': 'https://en.wikipedia.org/wiki/Kgalema_Motlanthe'}, {'name': 'Thabo Mbeki', 'url': 'https://en.wikipedia.org/wiki/Thabo_Mbeki'}, {'name': 'Bernard Ngoepe', 'url': 'https://en.wikipedia.org/wiki/Bernard_Ngoepe'}, {'name': 'Jacob Zuma', 'url': 'https://en.wikipedia.org/wiki/Jacob_Zuma'}]}, {'country': 'South Sudan', 'url': 'https://en.wikipedia.org/wiki/South_Sudan', 'presidents': [{'name': 'Salva Kiir Mayardit', 'url': 'https://en.wikipedia.org/wiki/Salva_Kiir_Mayardit'}, {'name': 'Omar al-Bashir', 'url': 'https://en.wikipedia.org/wiki/Omar_al-Bashir'}, {'name': 'Abdel Rahman Swar al-Dahab', 'url': 'https://en.wikipedia.org/wiki/Abdel_Rahman_Swar_al-Dahab'}, {'name': 'Ismail al-Azhari', 'url': 'https://en.wikipedia.org/wiki/Ismail_al-Azhari'}, {'name': 'Ahmed al-Mirghani', 'url': 'https://en.wikipedia.org/wiki/Ahmed_al-Mirghani'}, {'name': 'Sirr Al-Khatim Al-Khalifa', 'url': 'https://en.wikipedia.org/wiki/Sirr_Al-Khatim_Al-Khalifa'}, {'name': 'Gaafar Nimeiry', 'url': 'https://en.wikipedia.org/wiki/Gaafar_Nimeiry'}]}, {'country': 'Spain', 'url': 'https://en.wikipedia.org/wiki/Spain', 'presidents': []}, {'country': 'Sri Lanka', 'url': 'https://en.wikipedia.org/wiki/Sri_Lanka', 'presidents': [{'name': 'Maithripala Sirisena', 'url': 'https://en.wikipedia.org/wiki/Maithripala_Sirisena'}, {'name': 'Junius Richard Jayewardene', 'url': 'https://en.wikipedia.org/wiki/Junius_Richard_Jayewardene'}, {'name': 'Chandrika Kumaratunga', 'url': 'https://en.wikipedia.org/wiki/Chandrika_Kumaratunga'}, {'name': 'Dingiri Banda Wijetunga', 'url': 'https://en.wikipedia.org/wiki/Dingiri_Banda_Wijetunga'}, {'name': 'Mahinda Rajapaksa', 'url': 'https://en.wikipedia.org/wiki/Mahinda_Rajapaksa'}, {'name': 'William Gopallawa', 'url': 'https://en.wikipedia.org/wiki/William_Gopallawa'}, {'name': 'Ranasinghe Premadasa', 'url': 'https://en.wikipedia.org/wiki/Ranasinghe_Premadasa'}]}, {'country': 'Sudan', 'url': 'https://en.wikipedia.org/wiki/Sudan', 'presidents': []}, {'country': 'Suriname', 'url': 'https://en.wikipedia.org/wiki/Suriname', 'presidents': [{'name': 'Dési Bouterse', 'url': 'https://en.wikipedia.org/wiki/D%C3%A9si_Bouterse'}, {'name': 'Jules Wijdenbosch', 'url': 'https://en.wikipedia.org/wiki/Jules_Wijdenbosch'}, {'name': 'Ronald Venetiaan', 'url': 'https://en.wikipedia.org/wiki/Ronald_Venetiaan'}]}, {'country': 'Sweden', 'url': 'https://en.wikipedia.org/wiki/Sweden', 'presidents': []}, {'country': 'Switzerland', 'url': 'https://en.wikipedia.org/wiki/Switzerland', 'presidents': []}, {'country': 'Syria', 'url': 'https://en.wikipedia.org/wiki/Syria', 'presidents': [{'name': 'Bashar al-Assad', 'url': 'https://en.wikipedia.org/wiki/Bashar_al-Assad'}, {'name': 'Michel Aflaq', 'url': 'https://en.wikipedia.org/wiki/Michel_Aflaq'}, {'name': 'Ahmad al-Khatib', 'url': 'https://en.wikipedia.org/wiki/Ahmad_al-Khatib'}, {'name': 'Nureddin al-Atassi', 'url': 'https://en.wikipedia.org/wiki/Nureddin_al-Atassi'}, {'name': 'Abdul Halim Khaddam', 'url': 'https://en.wikipedia.org/wiki/Abdul_Halim_Khaddam'}, {'name': 'Munif al-Razzaz', 'url': 'https://en.wikipedia.org/wiki/Munif_al-Razzaz'}, {'name': 'Hafez al-Assad', 'url': 'https://en.wikipedia.org/wiki/Hafez_al-Assad'}]}, {'country': 'Tajikistan', 'url': 'https://en.wikipedia.org/wiki/Tajikistan', 'presidents': [{'name': 'Emomali Rahmon', 'url': 'https://en.wikipedia.org/wiki/Emomali_Rahmon'}, {'name': 'Akbarsho Iskandrov', 'url': 'https://en.wikipedia.org/wiki/Akbarsho_Iskandrov'}, {'name': 'Rahmon Nabiyev', 'url': 'https://en.wikipedia.org/wiki/Rahmon_Nabiyev'}]}, {'country': 'Tanzania', 'url': 'https://en.wikipedia.org/wiki/Tanzania', 'presidents': [{'name': 'John Magufuli', 'url': 'https://en.wikipedia.org/wiki/John_Magufuli'}, {'name': 'Anthony Diallo', 'url': 'https://en.wikipedia.org/wiki/Anthony_Diallo'}]}, {'country': 'Thailand', 'url': 'https://en.wikipedia.org/wiki/Thailand', 'presidents': []}, {'country': 'Togo', 'url': 'https://en.wikipedia.org/wiki/Togo', 'presidents': []}, {'country': 'Tonga', 'url': 'https://en.wikipedia.org/wiki/Tonga', 'presidents': []}, {'country': 'Trinidad and Tobago', 'url': 'https://en.wikipedia.org/wiki/Trinidad_and_Tobago', 'presidents': [{'name': 'Paula-Mae Weekes', 'url': 'https://en.wikipedia.org/wiki/Paula-Mae_Weekes'}, {'name': 'Anthony Carmona', 'url': 'https://en.wikipedia.org/wiki/Anthony_Carmona'}, {'name': 'Noor Hassanali', 'url': 'https://en.wikipedia.org/wiki/Noor_Hassanali'}, {'name': 'Elizabeth II', 'url': 'https://en.wikipedia.org/wiki/Elizabeth_II'}, {'name': 'A. N. R. Robinson', 'url': 'https://en.wikipedia.org/wiki/A._N._R._Robinson'}, {'name': 'Ellis Clarke', 'url': 'https://en.wikipedia.org/wiki/Ellis_Clarke'}, {'name': 'George Maxwell Richards', 'url': 'https://en.wikipedia.org/wiki/George_Maxwell_Richards'}]}, {'country': 'Tunisia', 'url': 'https://en.wikipedia.org/wiki/Tunisia', 'presidents': [{'name': 'Beji Caid Essebsi', 'url': 'https://en.wikipedia.org/wiki/Beji_Caid_Essebsi'}, {'name': 'Fouad Mebazaa', 'url': 'https://en.wikipedia.org/wiki/Fouad_Mebazaa'}, {'name': 'Habib Bourguiba', 'url': 'https://en.wikipedia.org/wiki/Habib_Bourguiba'}, {'name': 'Zine El Abidine Ben Ali', 'url': 'https://en.wikipedia.org/wiki/Zine_El_Abidine_Ben_Ali'}, {'name': 'Moncef Marzouki', 'url': 'https://en.wikipedia.org/wiki/Moncef_Marzouki'}, {'name': 'Mohamed Ghannouchi', 'url': 'https://en.wikipedia.org/wiki/Mohamed_Ghannouchi'}, {'name': 'Muhammad VIII al-Amin', 'url': 'https://en.wikipedia.org/wiki/Muhammad_VIII_al-Amin'}]}, {'country': 'Turkey', 'url': 'https://en.wikipedia.org/wiki/Turkey', 'presidents': [{'name': 'Recep Tayyip Erdoğan', 'url': 'https://en.wikipedia.org/wiki/Recep_Tayyip_Erdo%C4%9Fan'}, {'name': 'Cevdet Sunay', 'url': 'https://en.wikipedia.org/wiki/Cevdet_Sunay'}, {'name': 'Celal Bayar', 'url': 'https://en.wikipedia.org/wiki/Celal_Bayar'}, {'name': 'Kenan Evren', 'url': 'https://en.wikipedia.org/wiki/Kenan_Evren'}, {'name': 'Turgut Özal', 'url': 'https://en.wikipedia.org/wiki/Turgut_%C3%96zal'}, {'name': 'Mustafa Kemal Atatürk', 'url': 'https://en.wikipedia.org/wiki/Mustafa_Kemal_Atat%C3%BCrk'}, {'name': 'Süleyman Demirel', 'url': 'https://en.wikipedia.org/wiki/S%C3%BCleyman_Demirel'}, {'name': 'Ahmet Necdet Sezer', 'url': 'https://en.wikipedia.org/wiki/Ahmet_Necdet_Sezer'}, {'name': 'İsmet İnönü', 'url': 'https://en.wikipedia.org/wiki/%C4%B0smet_%C4%B0n%C3%B6n%C3%BC'}, {'name': 'Fahri Korutürk', 'url': 'https://en.wikipedia.org/wiki/Fahri_Korut%C3%BCrk'}, {'name': 'Cemal Gürsel', 'url': 'https://en.wikipedia.org/wiki/Cemal_G%C3%BCrsel'}, {'name': 'Abdullah Gül', 'url': 'https://en.wikipedia.org/wiki/Abdullah_G%C3%BCl'}]}, {'country': 'Turkmenistan', 'url': 'https://en.wikipedia.org/wiki/Turkmenistan', 'presidents': [{'name': 'Gurbanguly Berdimuhamedow', 'url': 'https://en.wikipedia.org/wiki/Gurbanguly_Berdimuhamedow'}, {'name': 'Saparmurat Niyazov', 'url': 'https://en.wikipedia.org/wiki/Saparmurat_Niyazov'}]}, {'country': 'Tuvalu', 'url': 'https://en.wikipedia.org/wiki/Tuvalu', 'presidents': []}, {'country': 'Uganda', 'url': 'https://en.wikipedia.org/wiki/Uganda', 'presidents': [{'name': 'Yoweri Museveni', 'url': 'https://en.wikipedia.org/wiki/Yoweri_Museveni'}, {'name': 'Tito Okello', 'url': 'https://en.wikipedia.org/wiki/Tito_Okello'}, {'name': 'Bazilio Olara-Okello', 'url': 'https://en.wikipedia.org/wiki/Bazilio_Olara-Okello'}]}, {'country': 'Ukraine', 'url': 'https://en.wikipedia.org/wiki/Ukraine', 'presidents': [{'name': 'Petro Poroshenko', 'url': 'https://en.wikipedia.org/wiki/Petro_Poroshenko'}, {'name': 'Andriy Parubiy', 'url': 'https://en.wikipedia.org/wiki/Andriy_Parubiy'}, {'name': 'Arseniy Yatsenyuk', 'url': 'https://en.wikipedia.org/wiki/Arseniy_Yatsenyuk'}, {'name': 'Volodymyr Groysman', 'url': 'https://en.wikipedia.org/wiki/Volodymyr_Groysman'}, {'name': 'Oleksandr Turchynov', 'url': 'https://en.wikipedia.org/wiki/Oleksandr_Turchynov'}]}, {'country': 'United Arab Emirates', 'url': 'https://en.wikipedia.org/wiki/United_Arab_Emirates', 'presidents': [{'name': 'Khalifa bin Zayed Al Nahyan', 'url': 'https://en.wikipedia.org/wiki/Khalifa_bin_Zayed_Al_Nahyan'}, {'name': 'Zayed bin Sultan Al Nahyan', 'url': 'https://en.wikipedia.org/wiki/Zayed_bin_Sultan_Al_Nahyan'}, {'name': 'Maktoum bin Rashid Al Maktoum', 'url': 'https://en.wikipedia.org/wiki/Maktoum_bin_Rashid_Al_Maktoum'}]}, {'country': 'United Kingdom', 'url': 'https://en.wikipedia.org/wiki/United_Kingdom', 'presidents': []}, {'country': 'United States', 'url': 'https://en.wikipedia.org/wiki/United_States', 'presidents': [{'name': 'Donald Trump', 'url': 'https://en.wikipedia.org/wiki/Donald_Trump'}, {'name': 'Woodrow Wilson', 'url': 'https://en.wikipedia.org/wiki/Woodrow_Wilson'}, {'name': 'George W. Bush', 'url': 'https://en.wikipedia.org/wiki/George_W._Bush'}, {'name': 'Ronald Reagan', 'url': 'https://en.wikipedia.org/wiki/Ronald_Reagan'}, {'name': 'Barack Obama', 'url': 'https://en.wikipedia.org/wiki/Barack_Obama'}, {'name': 'William Howard Taft', 'url': 'https://en.wikipedia.org/wiki/William_Howard_Taft'}, {'name': 'Lyndon B. Johnson', 'url': 'https://en.wikipedia.org/wiki/Lyndon_B._Johnson'}, {'name': 'Calvin Coolidge', 'url': 'https://en.wikipedia.org/wiki/Calvin_Coolidge'}, {'name': 'Bill Clinton', 'url': 'https://en.wikipedia.org/wiki/Bill_Clinton'}, {'name': 'Herbert Hoover', 'url': 'https://en.wikipedia.org/wiki/Herbert_Hoover'}, {'name': 'Richard Nixon', 'url': 'https://en.wikipedia.org/wiki/Richard_Nixon'}, {'name': 'Gerald Ford', 'url': 'https://en.wikipedia.org/wiki/Gerald_Ford'}, {'name': 'John F. Kennedy', 'url': 'https://en.wikipedia.org/wiki/John_F._Kennedy'}, {'name': 'Benjamin Harrison', 'url': 'https://en.wikipedia.org/wiki/Benjamin_Harrison'}, {'name': 'Grover Cleveland', 'url': 'https://en.wikipedia.org/wiki/Grover_Cleveland'}, {'name': 'William McKinley', 'url': 'https://en.wikipedia.org/wiki/William_McKinley'}, {'name': 'Warren G. Harding', 'url': 'https://en.wikipedia.org/wiki/Warren_G._Harding'}, {'name': 'Franklin D. Roosevelt', 'url': 'https://en.wikipedia.org/wiki/Franklin_D._Roosevelt'}, {'name': 'Jimmy Carter', 'url': 'https://en.wikipedia.org/wiki/Jimmy_Carter'}, {'name': 'George H. W. Bush', 'url': 'https://en.wikipedia.org/wiki/George_H._W._Bush'}, {'name': 'Harry S. Truman', 'url': 'https://en.wikipedia.org/wiki/Harry_S._Truman'}, {'name': 'Theodore Roosevelt', 'url': 'https://en.wikipedia.org/wiki/Theodore_Roosevelt'}, {'name': 'Dwight D. Eisenhower', 'url': 'https://en.wikipedia.org/wiki/Dwight_D._Eisenhower'}]}, {'country': 'Uruguay', 'url': 'https://en.wikipedia.org/wiki/Uruguay', 'presidents': [{'name': 'Tabaré Vázquez', 'url': 'https://en.wikipedia.org/wiki/Tabar%C3%A9_V%C3%A1zquez'}, {'name': 'José Mujica', 'url': 'https://en.wikipedia.org/wiki/Jos%C3%A9_Mujica'}, {'name': 'Tabaré Vázquez', 'url': 'https://en.wikipedia.org/wiki/Tabar%C3%A9_V%C3%A1zquez'}]}, {'country': 'Uzbekistan', 'url': 'https://en.wikipedia.org/wiki/Uzbekistan', 'presidents': [{'name': 'Shavkat Mirziyoyev', 'url': 'https://en.wikipedia.org/wiki/Shavkat_Mirziyoyev'}, {'name': 'Nigmatilla Yuldashev', 'url': 'https://en.wikipedia.org/wiki/Nigmatilla_Yuldashev'}]}, {'country': 'Vanuatu', 'url': 'https://en.wikipedia.org/wiki/Vanuatu', 'presidents': [{'name': 'Tallis Obed Moses', 'url': 'https://en.wikipedia.org/wiki/Tallis_Obed_Moses'}, {'name': 'Esmon Saimon', 'url': 'https://en.wikipedia.org/wiki/Esmon_Saimon'}, {'name': 'Marcellino Pipite', 'url': 'https://en.wikipedia.org/wiki/Marcellino_Pipite'}]}, {'country': 'Vatican City', 'url': 'https://en.wikipedia.org/wiki/Vatican_City', 'presidents': []}, {'country': 'Venezuela', 'url': 'https://en.wikipedia.org/wiki/Venezuela', 'presidents': [{'name': 'Nicolás Maduro', 'url': 'https://en.wikipedia.org/wiki/Nicol%C3%A1s_Maduro'}, {'name': 'Aristóbulo Istúriz', 'url': 'https://en.wikipedia.org/wiki/Arist%C3%B3bulo_Ist%C3%BAriz'}, {'name': 'Samuel Moncada', 'url': 'https://en.wikipedia.org/wiki/Samuel_Moncada'}, {'name': 'Diosdado Cabello', 'url': 'https://en.wikipedia.org/wiki/Diosdado_Cabello'}, {'name': 'Tareck El Aissami', 'url': 'https://en.wikipedia.org/wiki/Tareck_El_Aissami'}, {'name': 'Delcy Rodriguez', 'url': 'https://en.wikipedia.org/wiki/Delcy_Rodriguez'}, {'name': 'Delcy Rodríguez', 'url': 'https://en.wikipedia.org/wiki/Delcy_Rodr%C3%ADguez'}, {'name': 'Jorge Arreaza', 'url': 'https://en.wikipedia.org/wiki/Jorge_Arreaza'}, {'name': 'Hugo Chávez', 'url': 'https://en.wikipedia.org/wiki/Hugo_Ch%C3%A1vez'}]}, {'country': 'Vietnam', 'url': 'https://en.wikipedia.org/wiki/Vietnam', 'presidents': [{'name': 'Nguyễn Phú Trọng', 'url': 'https://en.wikipedia.org/wiki/Nguy%E1%BB%85n_Ph%C3%BA_Tr%E1%BB%8Dng'}, {'name': 'Lê Khả Phiêu', 'url': 'https://en.wikipedia.org/wiki/L%C3%AA_Kh%E1%BA%A3_Phi%C3%AAu'}, {'name': 'Lê Duẩn', 'url': 'https://en.wikipedia.org/wiki/L%C3%AA_Du%E1%BA%A9n'}, {'name': 'Nông Đức Mạnh', 'url': 'https://en.wikipedia.org/wiki/N%C3%B4ng_%C4%90%E1%BB%A9c_M%E1%BA%A1nh'}, {'name': 'Trường Chinh', 'url': 'https://en.wikipedia.org/wiki/Tr%C6%B0%E1%BB%9Dng_Chinh'}, {'name': 'Ho Chi Minh', 'url': 'https://en.wikipedia.org/wiki/Ho_Chi_Minh'}, {'name': 'Nguyễn Văn Linh', 'url': 'https://en.wikipedia.org/wiki/Nguy%E1%BB%85n_V%C4%83n_Linh'}, {'name': 'Đỗ Mười', 'url': 'https://en.wikipedia.org/wiki/%C4%90%E1%BB%97_M%C6%B0%E1%BB%9Di'}]}, {'country': 'Yemen', 'url': 'https://en.wikipedia.org/wiki/Yemen', 'presidents': [{'name': 'Abdrabbuh Mansur Hadi', 'url': 'https://en.wikipedia.org/wiki/Abdrabbuh_Mansur_Hadi'}, {'name': 'Ali Abdullah Saleh', 'url': 'https://en.wikipedia.org/wiki/Ali_Abdullah_Saleh'}, {'name': 'President of Yemen Arab Republic', 'url': 'https://en.wikipedia.org/wiki/President_of_Yemen_Arab_Republic'}]}, {'country': 'Zambia', 'url': 'https://en.wikipedia.org/wiki/Zambia', 'presidents': [{'name': 'Edgar Lungu', 'url': 'https://en.wikipedia.org/wiki/Edgar_Lungu'}, {'name': 'Frederick Chiluba', 'url': 'https://en.wikipedia.org/wiki/Frederick_Chiluba'}, {'name': 'Kenneth Kaunda', 'url': 'https://en.wikipedia.org/wiki/Kenneth_Kaunda'}, {'name': 'Levy Mwanawasa', 'url': 'https://en.wikipedia.org/wiki/Levy_Mwanawasa'}, {'name': 'Michael Sata', 'url': 'https://en.wikipedia.org/wiki/Michael_Sata'}, {'name': 'Guy Scott', 'url': 'https://en.wikipedia.org/wiki/Guy_Scott'}, {'name': 'Evelyn Dennison Hone', 'url': 'https://en.wikipedia.org/wiki/Evelyn_Dennison_Hone'}, {'name': 'Rupiah Banda', 'url': 'https://en.wikipedia.org/wiki/Rupiah_Banda'}, {'name': 'Arthur Benson', 'url': 'https://en.wikipedia.org/wiki/Arthur_Benson'}]}, {'country': 'Zimbabwe', 'url': 'https://en.wikipedia.org/wiki/Zimbabwe', 'presidents': [{'name': 'Emmerson Mnangagwa', 'url': 'https://en.wikipedia.org/wiki/Emmerson_Mnangagwa'}, {'name': 'Clifford Dupont', 'url': 'https://en.wikipedia.org/wiki/Clifford_Dupont'}, {'name': 'Josiah Zion Gumede', 'url': 'https://en.wikipedia.org/wiki/Josiah_Zion_Gumede'}, {'name': 'Robert Mugabe', 'url': 'https://en.wikipedia.org/wiki/Robert_Mugabe'}, {'name': 'Henry Everard', 'url': 'https://en.wikipedia.org/wiki/Henry_Everard'}, {'name': 'Canaan Banana', 'url': 'https://en.wikipedia.org/wiki/Canaan_Banana'}]}, {'country': 'Member states of the United Nations', 'url': 'https://en.wikipedia.org/wiki/Member_states_of_the_United_Nations', 'presidents': []}, {'country': 'Abkhazia', 'url': 'https://en.wikipedia.org/wiki/Abkhazia', 'presidents': [{'name': 'Raul Khajimba', 'url': 'https://en.wikipedia.org/wiki/Raul_Khajimba'}, {'name': 'Sergei Bagapsh', 'url': 'https://en.wikipedia.org/wiki/Sergei_Bagapsh'}, {'name': 'Vladislav Ardzinba', 'url': 'https://en.wikipedia.org/wiki/Vladislav_Ardzinba'}, {'name': 'Alexander Ankvab', 'url': 'https://en.wikipedia.org/wiki/Alexander_Ankvab'}]}, {'country': 'Republic of Artsakh', 'url': 'https://en.wikipedia.org/wiki/Republic_of_Artsakh', 'presidents': [{'name': 'Bako Sahakyan', 'url': 'https://en.wikipedia.org/wiki/Bako_Sahakyan'}, {'name': 'Levon Ter-Petrossian', 'url': 'https://en.wikipedia.org/wiki/Levon_Ter-Petrossian'}, {'name': 'Robert Kocharyan', 'url': 'https://en.wikipedia.org/wiki/Robert_Kocharyan'}, {'name': 'Leonard Petrosyan', 'url': 'https://en.wikipedia.org/wiki/Leonard_Petrosyan'}, {'name': 'Arkadi Ghukasyan', 'url': 'https://en.wikipedia.org/wiki/Arkadi_Ghukasyan'}]}, {'country': 'Cook Islands', 'url': 'https://en.wikipedia.org/wiki/Cook_Islands', 'presidents': []}, {'country': 'Kosovo', 'url': 'https://en.wikipedia.org/wiki/Kosovo', 'presidents': [{'name': 'Hashim Thaçi', 'url': 'https://en.wikipedia.org/wiki/Hashim_Tha%C3%A7i'}, {'name': 'Behgjet Pacolli', 'url': 'https://en.wikipedia.org/wiki/Behgjet_Pacolli'}, {'name': 'Hajredin Kuçi', 'url': 'https://en.wikipedia.org/wiki/Hajredin_Ku%C3%A7i'}, {'name': 'Atifete Jahjaga', 'url': 'https://en.wikipedia.org/wiki/Atifete_Jahjaga'}, {'name': 'Jakup Krasniqi', 'url': 'https://en.wikipedia.org/wiki/Jakup_Krasniqi'}]}, {'country': 'Niue', 'url': 'https://en.wikipedia.org/wiki/Niue', 'presidents': []}, {'country': 'Northern Cyprus', 'url': 'https://en.wikipedia.org/wiki/Northern_Cyprus', 'presidents': [{'name': 'Mustafa Akıncı', 'url': 'https://en.wikipedia.org/wiki/Mustafa_Ak%C4%B1nc%C4%B1'}, {'name': 'Mehmet Ali Talat', 'url': 'https://en.wikipedia.org/wiki/Mehmet_Ali_Talat'}, {'name': 'Rauf Denktaş', 'url': 'https://en.wikipedia.org/wiki/Rauf_Denkta%C5%9F'}, {'name': 'Derviş Eroğlu', 'url': 'https://en.wikipedia.org/wiki/Dervi%C5%9F_Ero%C4%9Flu'}]}, {'country': 'Sahrawi Arab Democratic Republic', 'url': 'https://en.wikipedia.org/wiki/Sahrawi_Arab_Democratic_Republic', 'presidents': [{'name': 'Brahim Ghali', 'url': 'https://en.wikipedia.org/wiki/Brahim_Ghali'}, {'name': 'El-Ouali Mustapha Sayed', 'url': 'https://en.wikipedia.org/wiki/El-Ouali_Mustapha_Sayed'}, {'name': 'Khatri Addouh', 'url': 'https://en.wikipedia.org/wiki/Khatri_Addouh'}, {'name': 'Mohamed Abdelaziz (Sahrawi politician)', 'url': 'https://en.wikipedia.org/wiki/Mohamed_Abdelaziz_(Sahrawi_politician)'}, {'name': 'Mahfoud Ali Beiba', 'url': 'https://en.wikipedia.org/wiki/Mahfoud_Ali_Beiba'}]}, {'country': 'Somaliland', 'url': 'https://en.wikipedia.org/wiki/Somaliland', 'presidents': []}, {'country': 'South Ossetia', 'url': 'https://en.wikipedia.org/wiki/South_Ossetia', 'presidents': [{'name': 'Anatoliy Bibilov', 'url': 'https://en.wikipedia.org/wiki/Anatoliy_Bibilov'}, {'name': 'Boris Chochiev', 'url': 'https://en.wikipedia.org/wiki/Boris_Chochiev'}, {'name': 'Aslanbek Bulatsev', 'url': 'https://en.wikipedia.org/wiki/Aslanbek_Bulatsev'}, {'name': 'Leonid Tibilov', 'url': 'https://en.wikipedia.org/wiki/Leonid_Tibilov'}, {'name': 'Vadim Brovtsev', 'url': 'https://en.wikipedia.org/wiki/Vadim_Brovtsev'}]}, {'country': 'Taiwan', 'url': 'https://en.wikipedia.org/wiki/Taiwan', 'presidents': [{'name': 'Tsai Ing-wen', 'url': 'https://en.wikipedia.org/wiki/Tsai_Ing-wen'}, {'name': 'Lin Sen', 'url': 'https://en.wikipedia.org/wiki/Lin_Sen'}, {'name': 'Ma Ying-jeou', 'url': 'https://en.wikipedia.org/wiki/Ma_Ying-jeou'}, {'name': 'Yen Chia-kan', 'url': 'https://en.wikipedia.org/wiki/Yen_Chia-kan'}, {'name': 'Chiang Kai-shek', 'url': 'https://en.wikipedia.org/wiki/Chiang_Kai-shek'}, {'name': 'Chen Shui-bian', 'url': 'https://en.wikipedia.org/wiki/Chen_Shui-bian'}, {'name': 'Chiang Ching-kuo', 'url': 'https://en.wikipedia.org/wiki/Chiang_Ching-kuo'}, {'name': 'Lee Teng-hui', 'url': 'https://en.wikipedia.org/wiki/Lee_Teng-hui'}]}, {'country': 'Transnistria', 'url': 'https://en.wikipedia.org/wiki/Transnistria', 'presidents': [{'name': 'Vadim Krasnoselsky', 'url': 'https://en.wikipedia.org/wiki/Vadim_Krasnoselsky'}, {'name': 'Andrey Manoylov', 'url': 'https://en.wikipedia.org/wiki/Andrey_Manoylov'}, {'name': 'Igor Smirnov', 'url': 'https://en.wikipedia.org/wiki/Igor_Smirnov'}, {'name': 'Yevgeny Shevchuk', 'url': 'https://en.wikipedia.org/wiki/Yevgeny_Shevchuk'}]}]\n",
            "info card is scraped successfully\n",
            "[['Born', 'PERSON'], ['Ashraf Ghani Ahmadzai']]\n",
            "[['Born', 'DATE'], ['1949-05-19']]\n",
            "[['Born', 'GPE'], ['Afghanistan']]\n",
            "[['Children', 'PERSON'], ['Mariam', 'Tariq']]\n",
            "[['Spouse(s)', 'PERSON'], ['Rula Ghani']]\n"
          ],
          "name": "stdout"
        },
        {
          "output_type": "stream",
          "text": [
            "DEBUG:root:------BIRTHDAY MATCHING------\n",
            "DEBUG:root:------BIRTH PLACES------\n",
            "DEBUG:root:------NOUN CHUNCK MATCHING FOR BP------\n",
            "DEBUG:root:------CHILDREN NAMES------\n",
            "DEBUG:root:('Mariam', 'CH', (2292, 2293))\n",
            "DEBUG:root:('Tariq', 'CH', (2305, 2306))\n",
            "DEBUG:root:------NOUN CHUNCK MATCHING CHILDREN------\n",
            "DEBUG:root:('Mariam', 'CH', (2292, 2293))\n",
            "DEBUG:root:('Tariq', 'CH', (2305, 2306))\n",
            "DEBUG:root:------EDUCATION INSTITUTIONS------\n",
            "DEBUG:root:------PARENTS NAMES------\n",
            "DEBUG:root:------SPOUSES NAMES------\n",
            "DEBUG:root:('Rula', 'SP', (439, 440))\n",
            "DEBUG:root:------NOUN CHUNCK MATCHING FOR SPOUSES------\n",
            "DEBUG:root:('Rula', 'SP', (439, 440))\n",
            "DEBUG:root:('Rula Saade', 'SP', (2206, 2208))\n",
            "DEBUG:root:('Rula Saade Ghani', 'SP', (2217, 2220))\n",
            "DEBUG:root:('Rula Ghani', 'SP', (2283, 2285))\n"
          ],
          "name": "stderr"
        },
        {
          "output_type": "stream",
          "text": [
            "info card is scraped successfully\n",
            "[['Born', 'PERSON'], ['Karz']]\n",
            "[['Born', 'DATE'], ['1957-12-24', '24 December 1957']]\n",
            "[['Born', 'GPE'], ['Afghanistan', 'Karz, Kandahar']]\n",
            "[['Children', 'PERSON'], ['Mirwais', 'Malalai', 'Howsi']]\n",
            "[['Spouse(s)', 'PERSON'], ['Zeenat Karzai']]\n"
          ],
          "name": "stdout"
        },
        {
          "output_type": "stream",
          "text": [
            "DEBUG:root:------BIRTHDAY MATCHING------\n",
            "DEBUG:root:------BIRTH PLACES------\n",
            "DEBUG:root:------NOUN CHUNCK MATCHING FOR BP------\n",
            "DEBUG:root:------CHILDREN NAMES------\n",
            "DEBUG:root:('Mirwais', 'CH', (4877, 4878))\n",
            "DEBUG:root:('Malalai', 'CH', (4889, 4890))\n",
            "DEBUG:root:------NOUN CHUNCK MATCHING CHILDREN------\n",
            "DEBUG:root:('Mirwais', 'CH', (4877, 4878))\n",
            "DEBUG:root:('Malalai', 'CH', (4889, 4890))\n",
            "DEBUG:root:('Howsi', 'CH', (4898, 4899))\n",
            "DEBUG:root:------EDUCATION INSTITUTIONS------\n",
            "DEBUG:root:------PARENTS NAMES------\n",
            "DEBUG:root:------SPOUSES NAMES------\n",
            "DEBUG:root:('Zeenat Quraishi', 'SP', (4852, 4854))\n",
            "DEBUG:root:------NOUN CHUNCK MATCHING FOR SPOUSES------\n",
            "DEBUG:root:('Zeenat Quraishi', 'SP', (4852, 4854))\n"
          ],
          "name": "stderr"
        },
        {
          "output_type": "stream",
          "text": [
            "info card is scraped successfully\n",
            "[['Born', 'PERSON'], []]\n",
            "[['Born', 'DATE'], ['1925-04-21', '21 April 1925']]\n"
          ],
          "name": "stdout"
        },
        {
          "output_type": "stream",
          "text": [
            "DEBUG:root:------BIRTHDAY MATCHING------\n",
            "DEBUG:root:------BIRTH PLACES------\n",
            "DEBUG:root:------NOUN CHUNCK MATCHING FOR BP------\n",
            "DEBUG:root:------CHILDREN NAMES------\n",
            "DEBUG:root:------EDUCATION INSTITUTIONS------\n",
            "DEBUG:root:------PARENTS NAMES------\n",
            "DEBUG:root:------SPOUSES NAMES------\n"
          ],
          "name": "stderr"
        },
        {
          "output_type": "stream",
          "text": [
            "[['Born', 'GPE'], ['Afghanistan', 'Kabul']]\n",
            "info card is scraped successfully\n",
            "[['Born', 'PERSON'], ['Sultan Hussein']]\n",
            "[['Born', 'DATE'], ['1929-01-06', '6 January 1929']]\n",
            "[['Born', 'GPE'], ['Kabul Province', 'Kingdom of Afghanistan', 'Kamari']]\n"
          ],
          "name": "stdout"
        },
        {
          "output_type": "stream",
          "text": [
            "DEBUG:root:------BIRTHDAY MATCHING------\n",
            "DEBUG:root:------BIRTH PLACES------\n",
            "DEBUG:root:------NOUN CHUNCK MATCHING FOR BP------\n",
            "DEBUG:root:------CHILDREN NAMES------\n",
            "DEBUG:root:------EDUCATION INSTITUTIONS------\n",
            "DEBUG:root:------PARENTS NAMES------\n",
            "DEBUG:root:------SPOUSES NAMES------\n"
          ],
          "name": "stderr"
        },
        {
          "output_type": "stream",
          "text": [
            "info card is scraped successfully\n",
            "[['Born', 'PERSON'], []]\n",
            "[['Born', 'DATE'], ['1929-08-01', '1 August 1929']]\n",
            "[['Born', 'GPE'], ['Afghanistan', 'Paghman']]\n",
            "[['Children', 'PERSON'], ['Abdur Rahman']]\n",
            "[['Spouse(s)', 'PERSON'], ['Patmanah']]\n"
          ],
          "name": "stdout"
        },
        {
          "output_type": "stream",
          "text": [
            "DEBUG:root:------BIRTHDAY MATCHING------\n",
            "DEBUG:root:------BIRTH PLACES------\n",
            "DEBUG:root:------NOUN CHUNCK MATCHING FOR BP------\n",
            "DEBUG:root:------CHILDREN NAMES------\n",
            "DEBUG:root:('Abdur Rahman', 'CH', (1917, 1919))\n",
            "DEBUG:root:------NOUN CHUNCK MATCHING CHILDREN------\n",
            "DEBUG:root:('Abdur Rahman', 'CH', (1917, 1919))\n",
            "DEBUG:root:('Abdul Qadir', 'CH', (1974, 1976))\n",
            "DEBUG:root:('The two Parchamites Abdul Qadir', 'CH', (2055, 2060))\n",
            "DEBUG:root:------EDUCATION INSTITUTIONS------\n",
            "DEBUG:root:------PARENTS NAMES------\n",
            "DEBUG:root:------SPOUSES NAMES------\n",
            "DEBUG:root:------NOUN CHUNCK MATCHING FOR SPOUSES------\n"
          ],
          "name": "stderr"
        },
        {
          "output_type": "stream",
          "text": [
            "info card is scraped successfully\n",
            "[['Born', 'PERSON'], ['Badakhshan']]\n",
            "[['Born', 'DATE'], ['20 September 1940']]\n",
            "[['Born', 'GPE'], ['Afghanistan', 'Badakhshan']]\n"
          ],
          "name": "stdout"
        },
        {
          "output_type": "stream",
          "text": [
            "DEBUG:root:------BIRTHDAY MATCHING------\n",
            "DEBUG:root:------BIRTH PLACES------\n",
            "DEBUG:root:------NOUN CHUNCK MATCHING FOR BP------\n"
          ],
          "name": "stderr"
        },
        {
          "output_type": "stream",
          "text": [
            "[['Children', 'PERSON'], ['Fatima Rabbani', 'Salahuddin Rabbani']]\n"
          ],
          "name": "stdout"
        },
        {
          "output_type": "stream",
          "text": [
            "DEBUG:root:------CHILDREN NAMES------\n",
            "DEBUG:root:('Salahuddin Rabbani', 'CH', (249, 251))\n",
            "DEBUG:root:('Fatima Rabbani', 'CH', (1138, 1140))\n",
            "DEBUG:root:('Salahuddin', 'CH', (1228, 1229))\n",
            "DEBUG:root:------NOUN CHUNCK MATCHING CHILDREN------\n",
            "DEBUG:root:('Salahuddin Rabbani', 'CH', (249, 251))\n",
            "DEBUG:root:('\" Fatima Rabbani', 'CH', (1137, 1140))\n",
            "DEBUG:root:('Salahuddin', 'CH', (1228, 1229))\n",
            "DEBUG:root:------EDUCATION INSTITUTIONS------\n",
            "DEBUG:root:------PARENTS NAMES------\n",
            "DEBUG:root:------SPOUSES NAMES------\n"
          ],
          "name": "stderr"
        },
        {
          "output_type": "stream",
          "text": [
            "info card is scraped successfully\n",
            "[['Born', 'PERSON'], []]\n",
            "[['Born', 'DATE'], ['1926-05-20', '20 May 1926']]\n"
          ],
          "name": "stdout"
        },
        {
          "output_type": "stream",
          "text": [
            "DEBUG:root:------BIRTHDAY MATCHING------\n",
            "DEBUG:root:------BIRTH PLACES------\n",
            "DEBUG:root:------NOUN CHUNCK MATCHING FOR BP------\n",
            "DEBUG:root:------CHILDREN NAMES------\n",
            "DEBUG:root:------EDUCATION INSTITUTIONS------\n",
            "DEBUG:root:------PARENTS NAMES------\n",
            "DEBUG:root:------SPOUSES NAMES------\n"
          ],
          "name": "stderr"
        },
        {
          "output_type": "stream",
          "text": [
            "[['Born', 'GPE'], ['Afghanistan', 'Kandahar']]\n",
            "info card is scraped successfully\n",
            "[['Born', 'PERSON'], []]\n",
            "[['Born', 'DATE'], ['1947']]\n"
          ],
          "name": "stdout"
        },
        {
          "output_type": "stream",
          "text": [
            "DEBUG:root:------BIRTHDAY MATCHING------\n",
            "DEBUG:root:------BIRTH PLACES------\n",
            "DEBUG:root:------NOUN CHUNCK MATCHING FOR BP------\n",
            "DEBUG:root:------CHILDREN NAMES------\n",
            "DEBUG:root:------EDUCATION INSTITUTIONS------\n",
            "DEBUG:root:------PARENTS NAMES------\n",
            "DEBUG:root:------SPOUSES NAMES------\n"
          ],
          "name": "stderr"
        },
        {
          "output_type": "stream",
          "text": [
            "[['Born', 'GPE'], []]\n",
            "info card is scraped successfully\n",
            "[['Born', 'PERSON'], []]\n",
            "[['Born', 'DATE'], ['1917-07-15', '15 July 1917']]\n",
            "[['Born', 'GPE'], ['Ghazni Province', 'Afghanistan', 'Nawa']]\n"
          ],
          "name": "stdout"
        },
        {
          "output_type": "stream",
          "text": [
            "DEBUG:root:------BIRTHDAY MATCHING------\n",
            "DEBUG:root:------BIRTH PLACES------\n",
            "DEBUG:root:------NOUN CHUNCK MATCHING FOR BP------\n",
            "DEBUG:root:------CHILDREN NAMES------\n",
            "DEBUG:root:------EDUCATION INSTITUTIONS------\n",
            "DEBUG:root:------PARENTS NAMES------\n",
            "DEBUG:root:------SPOUSES NAMES------\n"
          ],
          "name": "stderr"
        },
        {
          "output_type": "stream",
          "text": [
            "info card is scraped successfully\n",
            "[['Born', 'PERSON'], []]\n",
            "[['Born', 'DATE'], ['6 August 1947']]\n",
            "[['Born', 'GPE'], ['Afghanistan', 'Caubul']]\n",
            "[['Children', 'PERSON'], []]\n",
            "[['Spouse(s)', 'PERSON'], ['Dr. ', 'Fatana Najib']]\n"
          ],
          "name": "stdout"
        },
        {
          "output_type": "stream",
          "text": [
            "DEBUG:root:------BIRTHDAY MATCHING------\n",
            "DEBUG:root:------BIRTH PLACES------\n",
            "DEBUG:root:------NOUN CHUNCK MATCHING FOR BP------\n",
            "DEBUG:root:------CHILDREN NAMES------\n",
            "DEBUG:root:------NOUN CHUNCK MATCHING CHILDREN------\n",
            "DEBUG:root:------EDUCATION INSTITUTIONS------\n",
            "DEBUG:root:------PARENTS NAMES------\n",
            "DEBUG:root:------SPOUSES NAMES------\n",
            "DEBUG:root:------NOUN CHUNCK MATCHING FOR SPOUSES------\n",
            "DEBUG:root:('Dr. Najib', 'SP', (27, 29))\n",
            "DEBUG:root:('Dr. Najibullah', 'SP', (5832, 5834))\n",
            "DEBUG:root:('both Dr. Najibullah', 'SP', (5918, 5921))\n"
          ],
          "name": "stderr"
        },
        {
          "output_type": "stream",
          "text": [
            "info card is scraped successfully\n",
            "[['Born', 'PERSON'], []]\n",
            "[['Born', 'DATE'], ['1969-03-24', '24 March 1969']]\n",
            "[['Born', 'GPE'], ['Skrapar', 'Albania', 'Çorovodë']]\n",
            "[['Children', 'PERSON'], ['Bora', 'Era ', 'Besar']]\n"
          ],
          "name": "stdout"
        },
        {
          "output_type": "stream",
          "text": [
            "DEBUG:root:------BIRTHDAY MATCHING------\n",
            "DEBUG:root:------BIRTH PLACES------\n",
            "DEBUG:root:------NOUN CHUNCK MATCHING FOR BP------\n"
          ],
          "name": "stderr"
        },
        {
          "output_type": "stream",
          "text": [
            "[['Spouse(s)', 'PERSON'], ['Monika Kryemadhi']]\n"
          ],
          "name": "stdout"
        },
        {
          "output_type": "stream",
          "text": [
            "DEBUG:root:------CHILDREN NAMES------\n",
            "DEBUG:root:('Bora', 'CH', (257, 258))\n",
            "DEBUG:root:('Edi Rama', 'CH', (938, 940))\n",
            "DEBUG:root:------NOUN CHUNCK MATCHING CHILDREN------\n",
            "DEBUG:root:('Bora', 'CH', (257, 258))\n",
            "DEBUG:root:('Era', 'CH', (259, 260))\n",
            "DEBUG:root:('Besar', 'CH', (261, 262))\n",
            "DEBUG:root:('Era Meta', 'CH', (1035, 1037))\n",
            "DEBUG:root:------EDUCATION INSTITUTIONS------\n",
            "DEBUG:root:------PARENTS NAMES------\n",
            "DEBUG:root:------SPOUSES NAMES------\n",
            "DEBUG:root:('Monika Kryemadhi', 'SP', (242, 244))\n",
            "DEBUG:root:('Monika Kryemadhi', 'SP', (1010, 1012))\n",
            "DEBUG:root:------NOUN CHUNCK MATCHING FOR SPOUSES------\n",
            "DEBUG:root:('Monika Kryemadhi', 'SP', (242, 244))\n",
            "DEBUG:root:('political monism', 'SP', (292, 294))\n",
            "DEBUG:root:('Monika Kryemadhi', 'SP', (1010, 1012))\n"
          ],
          "name": "stderr"
        },
        {
          "output_type": "stream",
          "text": [
            "info card is scraped successfully\n",
            "[['Born', 'PERSON'], []]\n",
            "[['Born', 'DATE'], ['1944-08-17', 'August 17, 1944']]\n",
            "[['Born', 'GPE'], ['Albanian Kingdom', 'Tirana']]\n",
            "[['Children', 'PERSON'], []]\n"
          ],
          "name": "stdout"
        },
        {
          "output_type": "stream",
          "text": [
            "DEBUG:root:------BIRTHDAY MATCHING------\n",
            "DEBUG:root:------BIRTH PLACES------\n",
            "DEBUG:root:------NOUN CHUNCK MATCHING FOR BP------\n",
            "DEBUG:root:------CHILDREN NAMES------\n",
            "DEBUG:root:------NOUN CHUNCK MATCHING CHILDREN------\n",
            "DEBUG:root:------EDUCATION INSTITUTIONS------\n",
            "DEBUG:root:------PARENTS NAMES------\n",
            "DEBUG:root:------SPOUSES NAMES------\n",
            "DEBUG:root:------NOUN CHUNCK MATCHING FOR SPOUSES------\n"
          ],
          "name": "stderr"
        },
        {
          "output_type": "stream",
          "text": [
            "[['Spouse(s)', 'PERSON'], ['Lidra Karagjozi']]\n",
            "info card is scraped successfully\n",
            "[['Born', 'PERSON'], []]\n",
            "[['Born', 'DATE'], ['1929-12-01', 'December 1, 1929']]\n",
            "[['Born', 'GPE'], ['Albanian Kingdom', 'Shkodër']]\n",
            "[['Children', 'PERSON'], []]\n"
          ],
          "name": "stdout"
        },
        {
          "output_type": "stream",
          "text": [
            "DEBUG:root:------BIRTHDAY MATCHING------\n",
            "DEBUG:root:------BIRTH PLACES------\n",
            "DEBUG:root:------NOUN CHUNCK MATCHING FOR BP------\n",
            "DEBUG:root:------CHILDREN NAMES------\n",
            "DEBUG:root:------NOUN CHUNCK MATCHING CHILDREN------\n"
          ],
          "name": "stderr"
        },
        {
          "output_type": "stream",
          "text": [
            "[['Spouse(s)', 'PERSON'], []]\n"
          ],
          "name": "stdout"
        },
        {
          "output_type": "stream",
          "text": [
            "DEBUG:root:------EDUCATION INSTITUTIONS------\n",
            "DEBUG:root:------PARENTS NAMES------\n",
            "DEBUG:root:------SPOUSES NAMES------\n",
            "DEBUG:root:------NOUN CHUNCK MATCHING FOR SPOUSES------\n"
          ],
          "name": "stderr"
        },
        {
          "output_type": "stream",
          "text": [
            "info card is scraped successfully\n",
            "[['Born', 'PERSON'], []]\n",
            "[['Born', 'DATE'], ['1957-04-24', '24 April 1957']]\n",
            "[['Born', 'GPE'], ['Albania', 'Tirana']]\n",
            "[['Children', 'PERSON'], []]\n"
          ],
          "name": "stdout"
        },
        {
          "output_type": "stream",
          "text": [
            "DEBUG:root:------BIRTHDAY MATCHING------\n",
            "DEBUG:root:------BIRTH PLACES------\n",
            "DEBUG:root:------NOUN CHUNCK MATCHING FOR BP------\n",
            "DEBUG:root:------CHILDREN NAMES------\n",
            "DEBUG:root:------NOUN CHUNCK MATCHING CHILDREN------\n",
            "DEBUG:root:------EDUCATION INSTITUTIONS------\n",
            "DEBUG:root:------PARENTS NAMES------\n",
            "DEBUG:root:------SPOUSES NAMES------\n",
            "DEBUG:root:------NOUN CHUNCK MATCHING FOR SPOUSES------\n"
          ],
          "name": "stderr"
        },
        {
          "output_type": "stream",
          "text": [
            "[['Spouse(s)', 'PERSON'], ['Teuta Mema']]\n",
            "info card is scraped successfully\n",
            "[['Born', 'PERSON'], []]\n",
            "[['Born', 'DATE'], ['1944-10-15', '15 October 1944']]\n",
            "[['Born', 'GPE'], ['Kukes', 'Albanian Kingdom', 'Viçidol']]\n",
            "[['Children', 'PERSON'], []]\n",
            "[['Spouse(s)', 'PERSON'], ['Liri Ramaj']]\n"
          ],
          "name": "stdout"
        },
        {
          "output_type": "stream",
          "text": [
            "DEBUG:root:------BIRTHDAY MATCHING------\n",
            "DEBUG:root:------BIRTH PLACES------\n",
            "DEBUG:root:------NOUN CHUNCK MATCHING FOR BP------\n",
            "DEBUG:root:------CHILDREN NAMES------\n",
            "DEBUG:root:------NOUN CHUNCK MATCHING CHILDREN------\n",
            "DEBUG:root:------EDUCATION INSTITUTIONS------\n",
            "DEBUG:root:------PARENTS NAMES------\n",
            "DEBUG:root:------SPOUSES NAMES------\n",
            "DEBUG:root:------NOUN CHUNCK MATCHING FOR SPOUSES------\n",
            "DEBUG:root:('Liri Berisha', 'SP', (2513, 2515))\n",
            "DEBUG:root:('Liri Berisha', 'SP', (2523, 2525))\n"
          ],
          "name": "stderr"
        },
        {
          "output_type": "stream",
          "text": [
            "info card is scraped successfully\n",
            "[['Born', 'PERSON'], []]\n",
            "[['Born', 'DATE'], ['1964-09-29', 'September 1964']]\n",
            "[['Born', 'GPE'], ['Albania', 'Durrës']]\n",
            "[['Children', 'PERSON'], []]\n"
          ],
          "name": "stdout"
        },
        {
          "output_type": "stream",
          "text": [
            "DEBUG:root:------BIRTHDAY MATCHING------\n",
            "DEBUG:root:------BIRTH PLACES------\n",
            "DEBUG:root:------NOUN CHUNCK MATCHING FOR BP------\n",
            "DEBUG:root:------CHILDREN NAMES------\n",
            "DEBUG:root:------NOUN CHUNCK MATCHING CHILDREN------\n",
            "DEBUG:root:------EDUCATION INSTITUTIONS------\n",
            "DEBUG:root:------PARENTS NAMES------\n",
            "DEBUG:root:------SPOUSES NAMES------\n",
            "DEBUG:root:------NOUN CHUNCK MATCHING FOR SPOUSES------\n",
            "DEBUG:root:('Odeta Nishani', 'SP', (170, 172))\n"
          ],
          "name": "stderr"
        },
        {
          "output_type": "stream",
          "text": [
            "[['Spouse(s)', 'PERSON'], ['Odeta Kosova']]\n",
            "info card is scraped successfully\n",
            "[['Born', 'PERSON'], []]\n",
            "[['Born', 'DATE'], ['1967-11-15', '15 November 1967']]\n",
            "[['Born', 'GPE'], ['Albania', 'Tirana']]\n"
          ],
          "name": "stdout"
        },
        {
          "output_type": "stream",
          "text": [
            "DEBUG:root:------BIRTHDAY MATCHING------\n",
            "DEBUG:root:------BIRTH PLACES------\n",
            "DEBUG:root:------NOUN CHUNCK MATCHING FOR BP------\n",
            "DEBUG:root:------CHILDREN NAMES------\n",
            "DEBUG:root:------EDUCATION INSTITUTIONS------\n",
            "DEBUG:root:------PARENTS NAMES------\n",
            "DEBUG:root:------SPOUSES NAMES------\n",
            "DEBUG:root:------NOUN CHUNCK MATCHING FOR SPOUSES------\n"
          ],
          "name": "stderr"
        },
        {
          "output_type": "stream",
          "text": [
            "[['Spouse(s)', 'PERSON'], ['Enkelejda Majko']]\n",
            "info card is scraped successfully\n",
            "[['Born', 'PERSON'], []]\n",
            "[['Born', 'DATE'], ['1952-09-16', '16 September 1952']]\n",
            "[['Born', 'GPE'], ['Albania', 'Tirana']]\n",
            "[['Children', 'PERSON'], ['Sokol', 'Edlira']]\n",
            "[['Spouse(s)', 'PERSON'], ['Rexhina Nano ', 'Xhoana Nano']]\n"
          ],
          "name": "stdout"
        },
        {
          "output_type": "stream",
          "text": [
            "DEBUG:root:------BIRTHDAY MATCHING------\n",
            "DEBUG:root:------BIRTH PLACES------\n",
            "DEBUG:root:------NOUN CHUNCK MATCHING FOR BP------\n",
            "DEBUG:root:------CHILDREN NAMES------\n",
            "DEBUG:root:------NOUN CHUNCK MATCHING CHILDREN------\n",
            "DEBUG:root:------EDUCATION INSTITUTIONS------\n",
            "DEBUG:root:------PARENTS NAMES------\n",
            "DEBUG:root:------SPOUSES NAMES------\n",
            "DEBUG:root:('Rexhina Nano', 'SP', (1032, 1034))\n",
            "DEBUG:root:('Rexhina Nano', 'SP', (2579, 2581))\n",
            "DEBUG:root:------NOUN CHUNCK MATCHING FOR SPOUSES------\n",
            "DEBUG:root:('Rexhina Nano', 'SP', (1032, 1034))\n",
            "DEBUG:root:('his ex-wife Rexhina Nano', 'SP', (2575, 2581))\n"
          ],
          "name": "stderr"
        },
        {
          "output_type": "stream",
          "text": [
            "info card is scraped successfully\n",
            "[['Born', 'PERSON'], []]\n",
            "[['Born', 'DATE'], ['1941-11-24', '24 November 1941']]\n"
          ],
          "name": "stdout"
        },
        {
          "output_type": "stream",
          "text": [
            "DEBUG:root:------BIRTHDAY MATCHING------\n",
            "DEBUG:root:------BIRTH PLACES------\n",
            "DEBUG:root:------NOUN CHUNCK MATCHING FOR BP------\n",
            "DEBUG:root:------CHILDREN NAMES------\n",
            "DEBUG:root:------EDUCATION INSTITUTIONS------\n",
            "DEBUG:root:------PARENTS NAMES------\n",
            "DEBUG:root:------SPOUSES NAMES------\n"
          ],
          "name": "stderr"
        },
        {
          "output_type": "stream",
          "text": [
            "[['Born', 'GPE'], ['Oran', 'Algeria', 'France', 'Fellaoucene']]\n",
            "info card is scraped successfully\n",
            "[['Born', 'PERSON'], ['Beni Aziz']]\n",
            "[['Born', 'DATE'], ['1921-04-27', '27 April 1921']]\n"
          ],
          "name": "stdout"
        },
        {
          "output_type": "stream",
          "text": [
            "DEBUG:root:------BIRTHDAY MATCHING------\n",
            "DEBUG:root:------BIRTH PLACES------\n",
            "DEBUG:root:------NOUN CHUNCK MATCHING FOR BP------\n",
            "DEBUG:root:------CHILDREN NAMES------\n",
            "DEBUG:root:------EDUCATION INSTITUTIONS------\n",
            "DEBUG:root:------PARENTS NAMES------\n",
            "DEBUG:root:------SPOUSES NAMES------\n"
          ],
          "name": "stderr"
        },
        {
          "output_type": "stream",
          "text": [
            "[['Born', 'GPE'], ['French Algeria', 'Beni Aziz']]\n",
            "info card is scraped successfully\n",
            "[['Born', 'PERSON'], []]\n",
            "[['Born', 'DATE'], ['1919-06-23', 'June 23, 1919']]\n",
            "[['Born', 'GPE'], [\"M'Sila Province\", 'Ouled Madhi']]\n"
          ],
          "name": "stdout"
        },
        {
          "output_type": "stream",
          "text": [
            "DEBUG:root:------BIRTHDAY MATCHING------\n",
            "DEBUG:root:------BIRTH PLACES------\n",
            "DEBUG:root:------NOUN CHUNCK MATCHING FOR BP------\n"
          ],
          "name": "stderr"
        },
        {
          "output_type": "stream",
          "text": [
            "[['Spouse(s)', 'PERSON'], ['Fatiha Boudiaf']]\n"
          ],
          "name": "stdout"
        },
        {
          "output_type": "stream",
          "text": [
            "DEBUG:root:------CHILDREN NAMES------\n",
            "DEBUG:root:------EDUCATION INSTITUTIONS------\n",
            "DEBUG:root:------PARENTS NAMES------\n",
            "DEBUG:root:------SPOUSES NAMES------\n",
            "DEBUG:root:('Fatima', 'SP', (1150, 1151))\n",
            "DEBUG:root:------NOUN CHUNCK MATCHING FOR SPOUSES------\n",
            "DEBUG:root:('Fatima', 'SP', (1150, 1151))\n"
          ],
          "name": "stderr"
        },
        {
          "output_type": "stream",
          "text": [
            "info card is scraped successfully\n",
            "[['Born', 'PERSON'], []]\n",
            "[['Born', 'DATE'], ['1929-04-14', '14 April 1929']]\n",
            "[['Born', 'GPE'], ['Algeria', 'Bouteldja']]\n",
            "[['Children', 'PERSON'], []]\n"
          ],
          "name": "stdout"
        },
        {
          "output_type": "stream",
          "text": [
            "DEBUG:root:------BIRTHDAY MATCHING------\n",
            "DEBUG:root:------BIRTH PLACES------\n",
            "DEBUG:root:------NOUN CHUNCK MATCHING FOR BP------\n",
            "DEBUG:root:------CHILDREN NAMES------\n",
            "DEBUG:root:------NOUN CHUNCK MATCHING CHILDREN------\n",
            "DEBUG:root:------EDUCATION INSTITUTIONS------\n",
            "DEBUG:root:------PARENTS NAMES------\n",
            "DEBUG:root:------SPOUSES NAMES------\n",
            "DEBUG:root:------NOUN CHUNCK MATCHING FOR SPOUSES------\n"
          ],
          "name": "stderr"
        },
        {
          "output_type": "stream",
          "text": [
            "[['Spouse(s)', 'PERSON'], ['Halima Ben Aissa']]\n",
            "info card is scraped successfully\n",
            "[['Born', 'PERSON'], []]\n",
            "[['Born', 'DATE'], ['1941-07-03', '3 July 1941']]\n"
          ],
          "name": "stdout"
        },
        {
          "output_type": "stream",
          "text": [
            "DEBUG:root:------BIRTHDAY MATCHING------\n",
            "DEBUG:root:------BIRTH PLACES------\n",
            "DEBUG:root:------NOUN CHUNCK MATCHING FOR BP------\n",
            "DEBUG:root:------CHILDREN NAMES------\n",
            "DEBUG:root:------EDUCATION INSTITUTIONS------\n",
            "DEBUG:root:------PARENTS NAMES------\n",
            "DEBUG:root:------SPOUSES NAMES------\n"
          ],
          "name": "stderr"
        },
        {
          "output_type": "stream",
          "text": [
            "[['Born', 'GPE'], ['Batna']]\n",
            "info card is scraped successfully\n",
            "[['Born', 'PERSON'], []]\n",
            "[['Born', 'DATE'], ['1937-03-02', 'March 1937']]\n",
            "[['Born', 'GPE'], ['French Protectorate in Morocco', 'Oujda']]\n",
            "[['Spouse(s)', 'PERSON'], []]\n"
          ],
          "name": "stdout"
        },
        {
          "output_type": "stream",
          "text": [
            "DEBUG:root:------BIRTHDAY MATCHING------\n",
            "DEBUG:root:------BIRTH PLACES------\n",
            "DEBUG:root:------NOUN CHUNCK MATCHING FOR BP------\n",
            "DEBUG:root:------CHILDREN NAMES------\n",
            "DEBUG:root:------EDUCATION INSTITUTIONS------\n",
            "DEBUG:root:------PARENTS NAMES------\n",
            "DEBUG:root:------SPOUSES NAMES------\n",
            "DEBUG:root:------NOUN CHUNCK MATCHING FOR SPOUSES------\n"
          ],
          "name": "stderr"
        },
        {
          "output_type": "stream",
          "text": [
            "info card is scraped successfully\n",
            "[['Born', 'PERSON'], []]\n",
            "[['Born', 'DATE'], ['1928-10-07']]\n"
          ],
          "name": "stdout"
        },
        {
          "output_type": "stream",
          "text": [
            "DEBUG:root:------BIRTHDAY MATCHING------\n",
            "DEBUG:root:------BIRTH PLACES------\n",
            "DEBUG:root:------NOUN CHUNCK MATCHING FOR BP------\n",
            "DEBUG:root:------CHILDREN NAMES------\n",
            "DEBUG:root:------EDUCATION INSTITUTIONS------\n",
            "DEBUG:root:------PARENTS NAMES------\n",
            "DEBUG:root:------SPOUSES NAMES------\n"
          ],
          "name": "stderr"
        },
        {
          "output_type": "stream",
          "text": [
            "[['Born', 'GPE'], []]\n",
            "info card is scraped successfully\n",
            "[['Born', 'PERSON'], []]\n",
            "[['Born', 'DATE'], ['1925-12-19', '19 December 1925']]\n",
            "[['Born', 'GPE'], ['Aïn Kerma']]\n"
          ],
          "name": "stdout"
        },
        {
          "output_type": "stream",
          "text": [
            "DEBUG:root:------BIRTHDAY MATCHING------\n",
            "DEBUG:root:------BIRTH PLACES------\n",
            "DEBUG:root:------NOUN CHUNCK MATCHING FOR BP------\n",
            "DEBUG:root:------CHILDREN NAMES------\n",
            "DEBUG:root:------EDUCATION INSTITUTIONS------\n",
            "DEBUG:root:------PARENTS NAMES------\n",
            "DEBUG:root:------SPOUSES NAMES------\n",
            "DEBUG:root:('Zohra Drif', 'SP', (163, 165))\n",
            "DEBUG:root:------NOUN CHUNCK MATCHING FOR SPOUSES------\n",
            "DEBUG:root:('Zohra Drif', 'SP', (163, 165))\n"
          ],
          "name": "stderr"
        },
        {
          "output_type": "stream",
          "text": [
            "[['Spouse(s)', 'PERSON'], ['Zohra Drif']]\n",
            "info card is scraped successfully\n",
            "[['Born', 'PERSON'], ['Mohamed Ben Brahim Boukharouba']]\n",
            "[['Born', 'DATE'], ['1932-08-23', '23 August 1932']]\n",
            "[['Born', 'GPE'], ['Guelma Province', 'Héliopolis']]\n",
            "[['Spouse(s)', 'PERSON'], ['Anissa Boumédiène']]\n"
          ],
          "name": "stdout"
        },
        {
          "output_type": "stream",
          "text": [
            "DEBUG:root:------BIRTHDAY MATCHING------\n",
            "DEBUG:root:------BIRTH PLACES------\n",
            "DEBUG:root:------NOUN CHUNCK MATCHING FOR BP------\n",
            "DEBUG:root:------CHILDREN NAMES------\n",
            "DEBUG:root:------EDUCATION INSTITUTIONS------\n",
            "DEBUG:root:------PARENTS NAMES------\n",
            "DEBUG:root:------SPOUSES NAMES------\n",
            "DEBUG:root:('Anissa al-Mansali', 'SP', (302, 306))\n",
            "DEBUG:root:------NOUN CHUNCK MATCHING FOR SPOUSES------\n",
            "DEBUG:root:('Anissa al-Mansali', 'SP', (302, 306))\n"
          ],
          "name": "stderr"
        },
        {
          "output_type": "stream",
          "text": [
            "info card is scraped successfully\n",
            "[['Born', 'PERSON'], []]\n",
            "[['Born', 'DATE'], ['1954-03-05', '5 March 1954']]\n",
            "[['Born', 'GPE'], ['Angola', 'Lobito']]\n",
            "[['Children', 'PERSON'], []]\n"
          ],
          "name": "stdout"
        },
        {
          "output_type": "stream",
          "text": [
            "DEBUG:root:------BIRTHDAY MATCHING------\n",
            "DEBUG:root:------BIRTH PLACES------\n",
            "DEBUG:root:------NOUN CHUNCK MATCHING FOR BP------\n",
            "DEBUG:root:------CHILDREN NAMES------\n",
            "DEBUG:root:------NOUN CHUNCK MATCHING CHILDREN------\n",
            "DEBUG:root:------EDUCATION INSTITUTIONS------\n",
            "DEBUG:root:------PARENTS NAMES------\n",
            "DEBUG:root:------SPOUSES NAMES------\n",
            "DEBUG:root:------NOUN CHUNCK MATCHING FOR SPOUSES------\n"
          ],
          "name": "stderr"
        },
        {
          "output_type": "stream",
          "text": [
            "[['Spouse(s)', 'PERSON'], ['Ana Afonso Dias']]\n"
          ],
          "name": "stdout"
        },
        {
          "output_type": "stream",
          "text": [
            "DEBUG:root:('Ana Afonso Dias Lourenço', 'SP', (783, 787))\n"
          ],
          "name": "stderr"
        },
        {
          "output_type": "stream",
          "text": [
            "info card is scraped successfully\n",
            "[['Born', 'PERSON'], []]\n",
            "[['Born', 'DATE'], ['1942-08-28', '28 August 1942']]\n",
            "[['Born', 'GPE'], ['Angola', 'Luanda']]\n",
            "[['Children', 'PERSON'], ['Isabel', 'José']]\n",
            "[['Spouse(s)', 'PERSON'], ['Tatiana Kukanova', 'Second wife', 'Paula Lemos']]\n"
          ],
          "name": "stdout"
        },
        {
          "output_type": "stream",
          "text": [
            "DEBUG:root:------BIRTHDAY MATCHING------\n",
            "DEBUG:root:------BIRTH PLACES------\n",
            "DEBUG:root:------NOUN CHUNCK MATCHING FOR BP------\n",
            "DEBUG:root:------CHILDREN NAMES------\n",
            "DEBUG:root:------NOUN CHUNCK MATCHING CHILDREN------\n",
            "DEBUG:root:(' José Eduardo dos Santos', 'CH', (0, 5))\n",
            "DEBUG:root:('José Eduardo dos Santos', 'CH', (39, 43))\n",
            "DEBUG:root:('Jacinta José Paulino', 'CH', (147, 150))\n",
            "DEBUG:root:('José Eduardo dos Santos', 'CH', (601, 605))\n",
            "DEBUG:root:('José Eduardo dos Santos', 'CH', (816, 820))\n",
            "DEBUG:root:('José Eduardo dos Santos', 'CH', (1236, 1240))\n",
            "DEBUG:root:('José Eduardo dos Santos', 'CH', (1381, 1385))\n",
            "DEBUG:root:(\"José Eduardo dos Santos's role\", 'CH', (1558, 1564))\n",
            "DEBUG:root:('the President José Eduardo dos Santos', 'CH', (1648, 1654))\n",
            "DEBUG:root:('José Pedro de Morais', 'CH', (1677, 1681))\n",
            "DEBUG:root:('President Jose Eduardo dos Santos', 'CH', (1714, 1719))\n",
            "DEBUG:root:('Isabel dos Santos', 'CH', (1907, 1910))\n",
            "DEBUG:root:('José Filomeno', 'CH', (1911, 1913))\n",
            "DEBUG:root:('—Isabel', 'CH', (1919, 1921))\n",
            "DEBUG:root:('José Filomeno', 'CH', (1924, 1926))\n",
            "DEBUG:root:('José Eduardo dos Santos', 'CH', (2205, 2209))\n",
            "DEBUG:root:('José Eduardo dos Santos', 'CH', (2306, 2310))\n",
            "DEBUG:root:('Isabel dos Santos', 'CH', (2357, 2360))\n",
            "DEBUG:root:------EDUCATION INSTITUTIONS------\n",
            "DEBUG:root:------PARENTS NAMES------\n",
            "DEBUG:root:------SPOUSES NAMES------\n",
            "DEBUG:root:('Tatiana Kukanova', 'SP', (2337, 2339))\n",
            "DEBUG:root:------NOUN CHUNCK MATCHING FOR SPOUSES------\n",
            "DEBUG:root:('Jacinta José Paulino', 'SP', (147, 150))\n",
            "DEBUG:root:('his secondary education', 'SP', (161, 164))\n",
            "DEBUG:root:('the second political-military region', 'SP', (345, 351))\n",
            "DEBUG:root:('the second region', 'SP', (373, 376))\n",
            "DEBUG:root:('a second round', 'SP', (850, 853))\n",
            "DEBUG:root:('This second round', 'SP', (864, 867))\n",
            "DEBUG:root:('the second largest African oil producer', 'SP', (1505, 1511))\n",
            "DEBUG:root:('the Russian-born Tatiana Kukanova', 'SP', (2333, 2339))\n",
            "DEBUG:root:('his second visit', 'SP', (2466, 2469))\n"
          ],
          "name": "stderr"
        },
        {
          "output_type": "stream",
          "text": [
            "info card is scraped successfully\n",
            "[['Born', 'PERSON'], []]\n",
            "[['Born', 'DATE'], ['1929-04-09', 'April 9, 1929']]\n"
          ],
          "name": "stdout"
        },
        {
          "output_type": "stream",
          "text": [
            "DEBUG:root:------BIRTHDAY MATCHING------\n",
            "DEBUG:root:------BIRTH PLACES------\n",
            "DEBUG:root:------NOUN CHUNCK MATCHING FOR BP------\n",
            "DEBUG:root:------CHILDREN NAMES------\n",
            "DEBUG:root:------EDUCATION INSTITUTIONS------\n",
            "DEBUG:root:------PARENTS NAMES------\n",
            "DEBUG:root:------SPOUSES NAMES------\n"
          ],
          "name": "stderr"
        },
        {
          "output_type": "stream",
          "text": [
            "[['Born', 'GPE'], ['Huambo']]\n",
            "info card is scraped successfully\n",
            "[['Born', 'PERSON'], ['Buenos Aires']]\n",
            "[['Born', 'DATE'], ['1959-02-08', '8 February 1959']]\n",
            "[['Born', 'GPE'], ['Tandil']]\n",
            "[['Children', 'PERSON'], []]\n",
            "[['Spouse(s)', 'PERSON'], ['Yvonne Bordeu', 'Isabel Menditeguy ', 'Juliana Awada']]\n",
            "[['Parents', 'PERSON'], ['Franco Macri', 'Alicia Blanco Villegas']]\n",
            "[['Education', 'ORG'], ['Pontifical Catholic University of Argentina', 'Columbia University']]\n"
          ],
          "name": "stdout"
        },
        {
          "output_type": "stream",
          "text": [
            "DEBUG:root:------BIRTHDAY MATCHING------\n",
            "DEBUG:root:------BIRTH PLACES------\n",
            "DEBUG:root:------NOUN CHUNCK MATCHING FOR BP------\n",
            "DEBUG:root:------CHILDREN NAMES------\n",
            "DEBUG:root:------NOUN CHUNCK MATCHING CHILDREN------\n",
            "DEBUG:root:------EDUCATION INSTITUTIONS------\n",
            "DEBUG:root:('the Pontifical Catholic University of Argentina', 'ED', (164, 170))\n",
            "DEBUG:root:('the Pontifical Catholic University of Argentina', 'ED', (641, 647))\n",
            "DEBUG:root:------NOUN CHUNCK MATCHING FOR EDUCATION------\n",
            "DEBUG:root:------PARENTS NAMES------\n",
            "DEBUG:root:------PERSON ENTITY MATCHING FOR PARENTS------\n",
            "DEBUG:root:('Franco Macri', 'PR', (140, 142))\n",
            "DEBUG:root:('Alicia Blanco-Villegas Cinque', 'PR', (547, 552))\n",
            "DEBUG:root:('Franco Macri', 'PR', (6849, 6851))\n",
            "DEBUG:root:('Franco Macri', 'PR', (7085, 7087))\n",
            "DEBUG:root:('Franco Macri', 'PR', (7157, 7159))\n",
            "DEBUG:root:------NOUN CHUNCK MATCHING FOR PARENTS------\n",
            "DEBUG:root:------SPOUSES NAMES------\n",
            "DEBUG:root:('Juliana Awada', 'SP', (971, 973))\n",
            "DEBUG:root:------NOUN CHUNCK MATCHING FOR SPOUSES------\n",
            "DEBUG:root:('Ivonne Bordeu', 'SP', (881, 883))\n",
            "DEBUG:root:('businesswoman Juliana Awada', 'SP', (970, 973))\n"
          ],
          "name": "stderr"
        },
        {
          "output_type": "stream",
          "text": [
            "info card is scraped successfully\n",
            "[['Born', 'PERSON'], []]\n",
            "[['Born', 'DATE'], ['1925-08-02', '2 August 1925']]\n",
            "[['Born', 'GPE'], ['Buenos Aires', 'Mercedes']]\n",
            "[['Children', 'PERSON'], ['Maria Cristina', 'Jorge Horacio', 'Alejandro Eugenio', 'María Isabel ', 'Pedro Ignacio', 'Fernando Gabriel', 'Rafael Patricio']]\n",
            "[['Spouse(s)', 'PERSON'], ['Alicia Raquel Hartridge']]\n"
          ],
          "name": "stdout"
        },
        {
          "output_type": "stream",
          "text": [
            "DEBUG:root:------BIRTHDAY MATCHING------\n",
            "DEBUG:root:------BIRTH PLACES------\n",
            "DEBUG:root:------NOUN CHUNCK MATCHING FOR BP------\n",
            "DEBUG:root:------CHILDREN NAMES------\n",
            "DEBUG:root:('Rafael Eugenio', 'CH', (389, 391))\n",
            "DEBUG:root:('Jorge Videla', 'CH', (499, 501))\n",
            "DEBUG:root:('Alejandro Eugenio', 'CH', (561, 563))\n",
            "DEBUG:root:('María Isabel', 'CH', (567, 569))\n",
            "DEBUG:root:('Fernando Gabriel', 'CH', (579, 581))\n",
            "DEBUG:root:('Rafael Patricio', 'CH', (585, 587))\n",
            "DEBUG:root:('Rafael Patricio', 'CH', (595, 597))\n",
            "DEBUG:root:('Fernando Gabriel', 'CH', (598, 600))\n",
            "DEBUG:root:('Alejandro Agustin Lanusse', 'CH', (698, 701))\n",
            "DEBUG:root:('Jorge Luis Borges', 'CH', (2074, 2077))\n",
            "DEBUG:root:------NOUN CHUNCK MATCHING CHILDREN------\n",
            "DEBUG:root:(' Beagle conflict Jorge Rafael Videla', 'CH', (0, 6))\n",
            "DEBUG:root:(' Beagle conflict Jorge Rafael Videla', 'CH', (0, 6))\n",
            "DEBUG:root:('[ˈxoɾxe rafaˈel biˈðela', 'CH', (12, 16))\n",
            "DEBUG:root:('Jorge Rafael Videla', 'CH', (364, 367))\n",
            "DEBUG:root:('Jorge Rafael Videla', 'CH', (364, 367))\n",
            "DEBUG:root:('Colonel Rafael Eugenio Videla Bengolea', 'CH', (388, 393))\n",
            "DEBUG:root:('María Olga Redondo Ojea', 'CH', (397, 401))\n",
            "DEBUG:root:('Jorge Videla', 'CH', (499, 501))\n",
            "DEBUG:root:('Samuel Alejandro Hartridge Parkes', 'CH', (514, 518))\n",
            "DEBUG:root:('María Isabel Lacoste Álvarez', 'CH', (535, 539))\n",
            "DEBUG:root:('María Cristina', 'CH', (549, 551))\n",
            "DEBUG:root:('Jorge Horacio', 'CH', (555, 557))\n",
            "DEBUG:root:('Alejandro Eugenio', 'CH', (561, 563))\n",
            "DEBUG:root:('María Isabel', 'CH', (567, 569))\n",
            "DEBUG:root:('Pedro Ignacio', 'CH', (573, 575))\n",
            "DEBUG:root:('Fernando Gabriel', 'CH', (579, 581))\n",
            "DEBUG:root:('Rafael Patricio', 'CH', (585, 587))\n",
            "DEBUG:root:('Rafael Patricio', 'CH', (595, 597))\n",
            "DEBUG:root:('Fernando Gabriel', 'CH', (598, 600))\n",
            "DEBUG:root:('Alejandro Agustin Lanusse', 'CH', (698, 701))\n",
            "DEBUG:root:('Jorge Luis Borges', 'CH', (2074, 2077))\n",
            "DEBUG:root:('Mario Roberto Santucho', 'CH', (2585, 2588))\n",
            "DEBUG:root:(', judge María Elba Martínez', 'CH', (2877, 2882))\n",
            "DEBUG:root:------EDUCATION INSTITUTIONS------\n",
            "DEBUG:root:------PARENTS NAMES------\n",
            "DEBUG:root:------SPOUSES NAMES------\n",
            "DEBUG:root:------NOUN CHUNCK MATCHING FOR SPOUSES------\n",
            "DEBUG:root:('Alicia Raquel Hartridge', 'SP', (502, 505))\n"
          ],
          "name": "stderr"
        },
        {
          "output_type": "stream",
          "text": [
            "info card is scraped successfully\n",
            "[['Born', 'PERSON'], ['Pedro Eugenio']]\n",
            "[['Born', 'DATE'], ['May 21, 1903']]\n",
            "[['Born', 'GPE'], ['Córdoba', 'Río Cuarto']]\n"
          ],
          "name": "stdout"
        },
        {
          "output_type": "stream",
          "text": [
            "DEBUG:root:------BIRTHDAY MATCHING------\n",
            "DEBUG:root:------BIRTH PLACES------\n",
            "DEBUG:root:------NOUN CHUNCK MATCHING FOR BP------\n",
            "DEBUG:root:------CHILDREN NAMES------\n",
            "DEBUG:root:------EDUCATION INSTITUTIONS------\n",
            "DEBUG:root:------PARENTS NAMES------\n",
            "DEBUG:root:------SPOUSES NAMES------\n",
            "DEBUG:root:------NOUN CHUNCK MATCHING FOR SPOUSES------\n"
          ],
          "name": "stderr"
        },
        {
          "output_type": "stream",
          "text": [
            "[['Spouse(s)', 'PERSON'], ['Sara Lucía Herrera']]\n",
            "info card is scraped successfully\n",
            "[['Born', 'PERSON'], ['Raúl Ricardo Alfonsín']]\n",
            "[['Born', 'DATE'], ['1927-03-12', '12 March 1927']]\n",
            "[['Born', 'GPE'], ['Buenos Aires', 'Chascomús']]\n",
            "[['Children', 'PERSON'], ['Ricardo Alfonsín']]\n",
            "[['Spouse(s)', 'PERSON'], ['María Lorenza Barreneche']]\n"
          ],
          "name": "stdout"
        },
        {
          "output_type": "stream",
          "text": [
            "DEBUG:root:------BIRTHDAY MATCHING------\n",
            "DEBUG:root:------BIRTH PLACES------\n",
            "DEBUG:root:------NOUN CHUNCK MATCHING FOR BP------\n",
            "DEBUG:root:------CHILDREN NAMES------\n",
            "DEBUG:root:('Ricardo Foulkes', 'CH', (621, 623))\n",
            "DEBUG:root:('Ricardo Alfonsín', 'CH', (741, 743))\n",
            "DEBUG:root:('Ricardo Balbín', 'CH', (909, 911))\n",
            "DEBUG:root:('Ricardo Obregón Cano', 'CH', (2141, 2144))\n",
            "DEBUG:root:('Pardo', 'CH', (2152, 2153))\n",
            "DEBUG:root:('Ricardo Alfonsín', 'CH', (6651, 6653))\n",
            "DEBUG:root:------NOUN CHUNCK MATCHING CHILDREN------\n",
            "DEBUG:root:(' Raúl Ricardo Alfonsín Foulkes', 'CH', (0, 5))\n",
            "DEBUG:root:('Ricardo Balbín', 'CH', (114, 116))\n",
            "DEBUG:root:('Welsh immigrant Ricardo Foulkes and Falkland Islander María Elena Ford', 'CH', (619, 629))\n",
            "DEBUG:root:('only Ricardo Alfonsín', 'CH', (740, 743))\n",
            "DEBUG:root:('Ricardo Balbín', 'CH', (909, 911))\n",
            "DEBUG:root:('Ricardo Obregón Cano', 'CH', (2141, 2144))\n",
            "DEBUG:root:('Ricardo Alfonsín', 'CH', (6651, 6653))\n",
            "DEBUG:root:------EDUCATION INSTITUTIONS------\n",
            "DEBUG:root:------PARENTS NAMES------\n",
            "DEBUG:root:------SPOUSES NAMES------\n",
            "DEBUG:root:------NOUN CHUNCK MATCHING FOR SPOUSES------\n",
            "DEBUG:root:('Ana María Foulkes', 'SP', (599, 602))\n",
            "DEBUG:root:('Welsh immigrant Ricardo Foulkes and Falkland Islander María Elena Ford', 'SP', (619, 629))\n",
            "DEBUG:root:('María Lorenza Barreneche', 'SP', (701, 704))\n",
            "DEBUG:root:('María Lorenza Barreneche', 'SP', (6253, 6256))\n",
            "DEBUG:root:('Julio María Sanguinetti', 'SP', (6414, 6417))\n"
          ],
          "name": "stderr"
        },
        {
          "output_type": "stream",
          "text": [
            "info card is scraped successfully\n",
            "[['Born', 'PERSON'], []]\n",
            "[['Born', 'DATE'], ['1900-08-04', '4 August 1900']]\n",
            "[['Born', 'GPE'], ['Buenos Aires', 'Pergamino']]\n",
            "[['Spouse(s)', 'PERSON'], ['Silvia Martorell']]\n"
          ],
          "name": "stdout"
        },
        {
          "output_type": "stream",
          "text": [
            "DEBUG:root:------BIRTHDAY MATCHING------\n",
            "DEBUG:root:------BIRTH PLACES------\n",
            "DEBUG:root:------NOUN CHUNCK MATCHING FOR BP------\n",
            "DEBUG:root:------CHILDREN NAMES------\n",
            "DEBUG:root:------EDUCATION INSTITUTIONS------\n",
            "DEBUG:root:------PARENTS NAMES------\n",
            "DEBUG:root:------SPOUSES NAMES------\n",
            "DEBUG:root:('Emma Silvia', 'SP', (322, 324))\n",
            "DEBUG:root:('Silvia Martorell', 'SP', (2792, 2794))\n",
            "DEBUG:root:------NOUN CHUNCK MATCHING FOR SPOUSES------\n",
            "DEBUG:root:('Silvia Elvira Martorell', 'SP', (313, 316))\n",
            "DEBUG:root:('Emma Silvia', 'SP', (322, 324))\n",
            "DEBUG:root:('Silvia Martorell', 'SP', (2792, 2794))\n"
          ],
          "name": "stderr"
        },
        {
          "output_type": "stream",
          "text": [
            "info card is scraped successfully\n",
            "[['Born', 'PERSON'], ['José Cámpora']]\n",
            "[['Born', 'DATE'], ['1909-03-26', '26 March 1909']]\n",
            "[['Born', 'GPE'], ['Argentina', 'Mercedes']]\n"
          ],
          "name": "stdout"
        },
        {
          "output_type": "stream",
          "text": [
            "DEBUG:root:------BIRTHDAY MATCHING------\n",
            "DEBUG:root:------BIRTH PLACES------\n",
            "DEBUG:root:------NOUN CHUNCK MATCHING FOR BP------\n",
            "DEBUG:root:------CHILDREN NAMES------\n",
            "DEBUG:root:------EDUCATION INSTITUTIONS------\n",
            "DEBUG:root:------PARENTS NAMES------\n",
            "DEBUG:root:------SPOUSES NAMES------\n",
            "DEBUG:root:------NOUN CHUNCK MATCHING FOR SPOUSES------\n"
          ],
          "name": "stderr"
        },
        {
          "output_type": "stream",
          "text": [
            "[['Spouse(s)', 'PERSON'], ['María Georgina']]\n",
            "info card is scraped successfully\n",
            "[['Born', 'PERSON'], []]\n",
            "[['Born', 'DATE'], ['11 November 1926']]\n",
            "[['Born', 'GPE'], ['Buenos Aires', 'Chascomús']]\n"
          ],
          "name": "stdout"
        },
        {
          "output_type": "stream",
          "text": [
            "DEBUG:root:------BIRTHDAY MATCHING------\n",
            "DEBUG:root:------BIRTH PLACES------\n",
            "DEBUG:root:------NOUN CHUNCK MATCHING FOR BP------\n",
            "DEBUG:root:------CHILDREN NAMES------\n",
            "DEBUG:root:------EDUCATION INSTITUTIONS------\n",
            "DEBUG:root:------PARENTS NAMES------\n",
            "DEBUG:root:------SPOUSES NAMES------\n",
            "DEBUG:root:------NOUN CHUNCK MATCHING FOR SPOUSES------\n"
          ],
          "name": "stderr"
        },
        {
          "output_type": "stream",
          "text": [
            "[['Spouse(s)', 'PERSON'], ['María Beatriz Dauna']]\n",
            "info card is scraped successfully\n",
            "[['Born', 'PERSON'], ['Raúl Alberto Lastiri']]\n",
            "[['Born', 'DATE'], ['1915-09-11', '11 September 1915']]\n",
            "[['Born', 'GPE'], ['Argentina', 'Buenos Aires']]\n"
          ],
          "name": "stdout"
        },
        {
          "output_type": "stream",
          "text": [
            "DEBUG:root:------BIRTHDAY MATCHING------\n",
            "DEBUG:root:------BIRTH PLACES------\n",
            "DEBUG:root:------NOUN CHUNCK MATCHING FOR BP------\n",
            "DEBUG:root:------CHILDREN NAMES------\n",
            "DEBUG:root:------EDUCATION INSTITUTIONS------\n",
            "DEBUG:root:------PARENTS NAMES------\n",
            "DEBUG:root:------SPOUSES NAMES------\n",
            "DEBUG:root:------NOUN CHUNCK MATCHING FOR SPOUSES------\n"
          ],
          "name": "stderr"
        },
        {
          "output_type": "stream",
          "text": [
            "[['Spouse(s)', 'PERSON'], ['Amelia Martino']]\n",
            "info card is scraped successfully\n",
            "[['Born', 'PERSON'], []]\n",
            "[['Born', 'DATE'], ['1947-07-25', '25 July 1947']]\n",
            "[['Born', 'GPE'], ['San Luis, Argentina']]\n",
            "[['Spouse(s)', 'PERSON'], ['Alicia Mazzarino']]\n"
          ],
          "name": "stdout"
        },
        {
          "output_type": "stream",
          "text": [
            "DEBUG:root:------BIRTHDAY MATCHING------\n",
            "DEBUG:root:------BIRTH PLACES------\n",
            "DEBUG:root:------NOUN CHUNCK MATCHING FOR BP------\n",
            "DEBUG:root:------CHILDREN NAMES------\n",
            "DEBUG:root:------EDUCATION INSTITUTIONS------\n",
            "DEBUG:root:------PARENTS NAMES------\n",
            "DEBUG:root:------SPOUSES NAMES------\n",
            "DEBUG:root:('Alicia Lemme', 'SP', (1279, 1281))\n",
            "DEBUG:root:------NOUN CHUNCK MATCHING FOR SPOUSES------\n",
            "DEBUG:root:('vice-governor María Alicia Lemme', 'SP', (933, 939))\n",
            "DEBUG:root:('Alicia Lemme', 'SP', (1279, 1281))\n"
          ],
          "name": "stderr"
        },
        {
          "output_type": "stream",
          "text": [
            "info card is scraped successfully\n",
            "[['Born', 'PERSON'], []]\n",
            "[['Born', 'DATE'], ['1926-07-15', '15 July 1926']]\n",
            "[['Born', 'GPE'], ['Caseros']]\n",
            "[['Children', 'PERSON'], []]\n",
            "[['Spouse(s)', 'PERSON'], ['Lucía Noemí Gentili']]\n"
          ],
          "name": "stdout"
        },
        {
          "output_type": "stream",
          "text": [
            "DEBUG:root:------BIRTHDAY MATCHING------\n",
            "DEBUG:root:------BIRTH PLACES------\n",
            "DEBUG:root:------NOUN CHUNCK MATCHING FOR BP------\n",
            "DEBUG:root:------CHILDREN NAMES------\n",
            "DEBUG:root:------NOUN CHUNCK MATCHING CHILDREN------\n",
            "DEBUG:root:------EDUCATION INSTITUTIONS------\n",
            "DEBUG:root:------PARENTS NAMES------\n",
            "DEBUG:root:------SPOUSES NAMES------\n",
            "DEBUG:root:('Lucía', 'SP', (1214, 1215))\n",
            "DEBUG:root:------NOUN CHUNCK MATCHING FOR SPOUSES------\n",
            "DEBUG:root:('Lucía Noemí Gentili', 'SP', (176, 179))\n",
            "DEBUG:root:('Lucía', 'SP', (1214, 1215))\n"
          ],
          "name": "stderr"
        },
        {
          "output_type": "stream",
          "text": [
            "info card is scraped successfully\n",
            "[['Born', 'PERSON'], []]\n",
            "[['Born', 'DATE'], ['1910-08-29', '29 August 1910']]\n",
            "[['Born', 'GPE'], ['Buenos Aires']]\n"
          ],
          "name": "stdout"
        },
        {
          "output_type": "stream",
          "text": [
            "DEBUG:root:------BIRTHDAY MATCHING------\n",
            "DEBUG:root:------BIRTH PLACES------\n",
            "DEBUG:root:------NOUN CHUNCK MATCHING FOR BP------\n",
            "DEBUG:root:------CHILDREN NAMES------\n",
            "DEBUG:root:------EDUCATION INSTITUTIONS------\n",
            "DEBUG:root:------PARENTS NAMES------\n",
            "DEBUG:root:------SPOUSES NAMES------\n",
            "DEBUG:root:------NOUN CHUNCK MATCHING FOR SPOUSES------\n"
          ],
          "name": "stderr"
        },
        {
          "output_type": "stream",
          "text": [
            "[['Spouse(s)', 'PERSON'], ['Purificación Areal']]\n",
            "info card is scraped successfully\n",
            "[['Born', 'PERSON'], []]\n",
            "[['Born', 'DATE'], ['1929-02-02', '2 February 1929']]\n",
            "[['Born', 'GPE'], ['Buenos Aires']]\n"
          ],
          "name": "stdout"
        },
        {
          "output_type": "stream",
          "text": [
            "DEBUG:root:------BIRTHDAY MATCHING------\n",
            "DEBUG:root:------BIRTH PLACES------\n",
            "DEBUG:root:------NOUN CHUNCK MATCHING FOR BP------\n",
            "DEBUG:root:------CHILDREN NAMES------\n",
            "DEBUG:root:------EDUCATION INSTITUTIONS------\n",
            "DEBUG:root:------PARENTS NAMES------\n",
            "DEBUG:root:------SPOUSES NAMES------\n",
            "DEBUG:root:------NOUN CHUNCK MATCHING FOR SPOUSES------\n"
          ],
          "name": "stderr"
        },
        {
          "output_type": "stream",
          "text": [
            "[['Spouse(s)', 'PERSON'], ['Hebe Angélica Aprile']]\n",
            "info card is scraped successfully\n",
            "[['Born', 'PERSON'], []]\n",
            "[['Born', 'DATE'], ['1920-01-10', 'January 10, 1920']]\n",
            "[['Born', 'GPE'], ['San Luis, Argentina']]\n",
            "[['Children', 'PERSON'], ['Roberto Antonio', 'Alberto Marcelo']]\n"
          ],
          "name": "stdout"
        },
        {
          "output_type": "stream",
          "text": [
            "DEBUG:root:------BIRTHDAY MATCHING------\n",
            "DEBUG:root:------BIRTH PLACES------\n",
            "DEBUG:root:------NOUN CHUNCK MATCHING FOR BP------\n",
            "DEBUG:root:------CHILDREN NAMES------\n",
            "DEBUG:root:('Roberto', 'CH', (201, 202))\n",
            "DEBUG:root:('Roberto', 'CH', (201, 202))\n",
            "DEBUG:root:('Alberto', 'CH', (205, 206))\n",
            "DEBUG:root:('Alberto', 'CH', (205, 206))\n",
            "DEBUG:root:------NOUN CHUNCK MATCHING CHILDREN------\n",
            "DEBUG:root:(' Roberto Marcelo Levingston Laborda', 'CH', (0, 5))\n",
            "DEBUG:root:(' Roberto Marcelo Levingston Laborda', 'CH', (0, 5))\n",
            "DEBUG:root:('Roberto', 'CH', (201, 202))\n",
            "DEBUG:root:('Roberto', 'CH', (201, 202))\n",
            "DEBUG:root:('Alberto', 'CH', (205, 206))\n",
            "DEBUG:root:('Alberto', 'CH', (205, 206))\n",
            "DEBUG:root:------EDUCATION INSTITUTIONS------\n",
            "DEBUG:root:------PARENTS NAMES------\n",
            "DEBUG:root:------SPOUSES NAMES------\n",
            "DEBUG:root:------NOUN CHUNCK MATCHING FOR SPOUSES------\n",
            "DEBUG:root:('Betty Nelly Andrés', 'SP', (184, 187))\n"
          ],
          "name": "stderr"
        },
        {
          "output_type": "stream",
          "text": [
            "[['Spouse(s)', 'PERSON'], ['Betty Nelly Andrés']]\n",
            "info card is scraped successfully\n",
            "[['Born', 'PERSON'], ['Carlos Kirchner', 'Río Gallegos']]\n",
            "[['Born', 'DATE'], ['1950-02-25', '25 February 1950']]\n",
            "[['Born', 'GPE'], ['Río Gallegos, Santa Cruz']]\n",
            "[['Children', 'PERSON'], ['Máximo']]\n",
            "[['Spouse(s)', 'PERSON'], ['Cristina Fernández']]\n"
          ],
          "name": "stdout"
        },
        {
          "output_type": "stream",
          "text": [
            "DEBUG:root:------BIRTHDAY MATCHING------\n",
            "DEBUG:root:------BIRTH PLACES------\n",
            "DEBUG:root:------NOUN CHUNCK MATCHING FOR BP------\n",
            "DEBUG:root:------CHILDREN NAMES------\n",
            "DEBUG:root:------NOUN CHUNCK MATCHING CHILDREN------\n",
            "DEBUG:root:------EDUCATION INSTITUTIONS------\n",
            "DEBUG:root:------PARENTS NAMES------\n",
            "DEBUG:root:------SPOUSES NAMES------\n",
            "DEBUG:root:('Cristina Fernández', 'SP', (101, 103))\n",
            "DEBUG:root:('Cristina Fernández', 'SP', (466, 468))\n",
            "DEBUG:root:('María Cristina', 'SP', (612, 614))\n",
            "DEBUG:root:('Cristina Fernández', 'SP', (881, 883))\n",
            "DEBUG:root:('Cristina', 'SP', (958, 959))\n",
            "DEBUG:root:('Cristina Fernández', 'SP', (1217, 1219))\n",
            "DEBUG:root:('Cristina Kirchner', 'SP', (4527, 4529))\n",
            "DEBUG:root:('Cristina Kirchner', 'SP', (5271, 5273))\n",
            "DEBUG:root:('Cristina Kirchner', 'SP', (5396, 5398))\n",
            "DEBUG:root:('Cristina Kirchner', 'SP', (6423, 6425))\n",
            "DEBUG:root:('Cristina Kirchner', 'SP', (6816, 6818))\n",
            "DEBUG:root:('Cristina Kirchner', 'SP', (7003, 7005))\n",
            "DEBUG:root:('Cristina Kirchner', 'SP', (7267, 7269))\n",
            "DEBUG:root:(\"Cristina Kirchner's\", 'SP', (7370, 7373))\n",
            "DEBUG:root:('Cristina Kirchner', 'SP', (7413, 7415))\n",
            "DEBUG:root:------NOUN CHUNCK MATCHING FOR SPOUSES------\n",
            "DEBUG:root:('Cristina Fernández', 'SP', (101, 103))\n",
            "DEBUG:root:('Cristina Fernández', 'SP', (466, 468))\n",
            "DEBUG:root:('María Cristina', 'SP', (612, 614))\n",
            "DEBUG:root:('Cristina Fernández', 'SP', (881, 883))\n",
            "DEBUG:root:('Cristina', 'SP', (943, 944))\n",
            "DEBUG:root:('Cristina', 'SP', (958, 959))\n",
            "DEBUG:root:('Cristina Fernández', 'SP', (1217, 1219))\n",
            "DEBUG:root:('Cristina Fernández de Kirchner', 'SP', (4507, 4511))\n",
            "DEBUG:root:('Cristina Kirchner', 'SP', (4527, 4529))\n",
            "DEBUG:root:('Cristina Fernández de Kirchner', 'SP', (5241, 5245))\n",
            "DEBUG:root:('Cristina Kirchner', 'SP', (5271, 5273))\n",
            "DEBUG:root:('Cristina Kirchner', 'SP', (5396, 5398))\n",
            "DEBUG:root:('Cristina Kirchner', 'SP', (6423, 6425))\n",
            "DEBUG:root:('Cristina Kirchner', 'SP', (6816, 6818))\n",
            "DEBUG:root:('Cristina Kirchner', 'SP', (7003, 7005))\n",
            "DEBUG:root:('Cristina', 'SP', (7027, 7028))\n",
            "DEBUG:root:('Cristina Kirchner', 'SP', (7267, 7269))\n",
            "DEBUG:root:(\"Cristina Kirchner's popularity\", 'SP', (7370, 7374))\n",
            "DEBUG:root:('Cristina Kirchner', 'SP', (7413, 7415))\n"
          ],
          "name": "stderr"
        },
        {
          "output_type": "stream",
          "text": [
            "info card is scraped successfully\n",
            "[['Born', 'PERSON'], ['Marcos Paz']]\n",
            "[['Born', 'DATE'], ['1914-03-17', '17 March 1914']]\n",
            "[['Born', 'GPE'], ['Marcos Paz, Buenos Aires']]\n"
          ],
          "name": "stdout"
        },
        {
          "output_type": "stream",
          "text": [
            "DEBUG:root:------BIRTHDAY MATCHING------\n",
            "DEBUG:root:------BIRTH PLACES------\n",
            "DEBUG:root:------NOUN CHUNCK MATCHING FOR BP------\n",
            "DEBUG:root:------CHILDREN NAMES------\n",
            "DEBUG:root:------EDUCATION INSTITUTIONS------\n",
            "DEBUG:root:------PARENTS NAMES------\n",
            "DEBUG:root:------SPOUSES NAMES------\n",
            "DEBUG:root:('José María', 'SP', (259, 261))\n",
            "DEBUG:root:------NOUN CHUNCK MATCHING FOR SPOUSES------\n",
            "DEBUG:root:(\"Juan María Bordaberry's regime\", 'SP', (199, 204))\n",
            "DEBUG:root:('President José María Guido', 'SP', (258, 262))\n"
          ],
          "name": "stderr"
        },
        {
          "output_type": "stream",
          "text": [
            "[['Spouse(s)', 'PERSON'], ['María Emilia Green']]\n",
            "info card is scraped successfully\n",
            "[['Born', 'PERSON'], ['Lomas de Zamora', 'Buenos Aires']]\n",
            "[['Born', 'DATE'], ['1941-10-05']]\n",
            "[['Born', 'GPE'], ['Greater Buenos Aires']]\n",
            "[['Spouse(s)', 'PERSON'], ['Hilda Beatriz González de Duhalde']]\n"
          ],
          "name": "stdout"
        },
        {
          "output_type": "stream",
          "text": [
            "DEBUG:root:------BIRTHDAY MATCHING------\n",
            "DEBUG:root:------BIRTH PLACES------\n",
            "DEBUG:root:------NOUN CHUNCK MATCHING FOR BP------\n",
            "DEBUG:root:------CHILDREN NAMES------\n",
            "DEBUG:root:------EDUCATION INSTITUTIONS------\n",
            "DEBUG:root:------PARENTS NAMES------\n",
            "DEBUG:root:------SPOUSES NAMES------\n",
            "DEBUG:root:------NOUN CHUNCK MATCHING FOR SPOUSES------\n",
            "DEBUG:root:('Hilda González de Duhalde', 'SP', (3185, 3189))\n",
            "DEBUG:root:('Hilda Duhalde', 'SP', (3447, 3449))\n",
            "DEBUG:root:('Hilda González', 'SP', (3487, 3489))\n"
          ],
          "name": "stderr"
        },
        {
          "output_type": "stream",
          "text": [
            "info card is scraped successfully\n",
            "[['Born', 'PERSON'], []]\n",
            "[['Born', 'DATE'], ['October 28, 1908']]\n",
            "[['Born', 'GPE'], ['Paso de los Libres, Corrientes']]\n",
            "[['Spouse(s)', 'PERSON'], ['Elena Luisa']]\n"
          ],
          "name": "stdout"
        },
        {
          "output_type": "stream",
          "text": [
            "DEBUG:root:------BIRTHDAY MATCHING------\n",
            "DEBUG:root:------BIRTH PLACES------\n",
            "DEBUG:root:------NOUN CHUNCK MATCHING FOR BP------\n",
            "DEBUG:root:------CHILDREN NAMES------\n",
            "DEBUG:root:------EDUCATION INSTITUTIONS------\n",
            "DEBUG:root:------PARENTS NAMES------\n",
            "DEBUG:root:------SPOUSES NAMES------\n",
            "DEBUG:root:('Elena Luisa', 'SP', (415, 417))\n",
            "DEBUG:root:('Elena', 'SP', (449, 450))\n",
            "DEBUG:root:('Elenita', 'SP', (461, 462))\n",
            "DEBUG:root:------NOUN CHUNCK MATCHING FOR SPOUSES------\n",
            "DEBUG:root:('the former Elena Luisa María Faggionato', 'SP', (413, 419))\n",
            "DEBUG:root:('Elena', 'SP', (449, 450))\n",
            "DEBUG:root:('the cottage Elenita', 'SP', (459, 462))\n"
          ],
          "name": "stderr"
        },
        {
          "output_type": "stream",
          "text": [
            "info card is scraped successfully\n",
            "[['Born', 'PERSON'], ['Cristina Elisabet', 'La Plata']]\n",
            "[['Born', 'DATE'], ['1953-02-19', '19 February 1953']]\n",
            "[['Born', 'GPE'], ['La Plata', 'Argentina', 'Tolosa']]\n",
            "[['Children', 'PERSON'], ['Máximo']]\n",
            "[['Spouse(s)', 'PERSON'], ['Néstor Kirchner']]\n"
          ],
          "name": "stdout"
        },
        {
          "output_type": "stream",
          "text": [
            "DEBUG:root:------BIRTHDAY MATCHING------\n",
            "DEBUG:root:------BIRTH PLACES------\n",
            "DEBUG:root:------NOUN CHUNCK MATCHING FOR BP------\n",
            "DEBUG:root:------CHILDREN NAMES------\n",
            "DEBUG:root:------NOUN CHUNCK MATCHING CHILDREN------\n",
            "DEBUG:root:('Máximo', 'CH', (7833, 7834))\n",
            "DEBUG:root:------EDUCATION INSTITUTIONS------\n",
            "DEBUG:root:------PARENTS NAMES------\n",
            "DEBUG:root:------SPOUSES NAMES------\n",
            "DEBUG:root:('Néstor Kirchner', 'SP', (131, 133))\n",
            "DEBUG:root:('Néstor Kirchner', 'SP', (206, 208))\n",
            "DEBUG:root:('Néstor Kirchner', 'SP', (212, 214))\n",
            "DEBUG:root:('Néstor Kirchner', 'SP', (671, 673))\n",
            "DEBUG:root:('Néstor Kirchner', 'SP', (1443, 1445))\n",
            "DEBUG:root:('Néstor Kirchner', 'SP', (1753, 1755))\n",
            "DEBUG:root:('Néstor Kirchner', 'SP', (1854, 1856))\n",
            "DEBUG:root:('Néstor Kirchner', 'SP', (1944, 1946))\n",
            "DEBUG:root:('Néstor Kirchner', 'SP', (1993, 1995))\n",
            "DEBUG:root:('Néstor Kirchner', 'SP', (5651, 5653))\n",
            "DEBUG:root:('Néstor Kirchner', 'SP', (7683, 7685))\n",
            "DEBUG:root:('Néstor Kirchner', 'SP', (7818, 7820))\n",
            "DEBUG:root:('Néstor Kirchner', 'SP', (7846, 7848))\n",
            "DEBUG:root:('Néstor Kirchner', 'SP', (8039, 8041))\n",
            "DEBUG:root:------NOUN CHUNCK MATCHING FOR SPOUSES------\n",
            "DEBUG:root:('Néstor Kirchner', 'SP', (131, 133))\n",
            "DEBUG:root:('Néstor Kirchner', 'SP', (206, 208))\n",
            "DEBUG:root:('Néstor Kirchner', 'SP', (212, 214))\n",
            "DEBUG:root:('fellow student Néstor Kirchner', 'SP', (669, 673))\n",
            "DEBUG:root:('Néstor', 'SP', (773, 774))\n",
            "DEBUG:root:(\"Néstor's home city\", 'SP', (814, 818))\n",
            "DEBUG:root:('Néstor', 'SP', (992, 993))\n",
            "DEBUG:root:(\"Néstor's political campaign\", 'SP', (1206, 1210))\n",
            "DEBUG:root:('Néstor Kirchner', 'SP', (1415, 1417))\n",
            "DEBUG:root:('Néstor Kirchner', 'SP', (1443, 1445))\n",
            "DEBUG:root:(\"Néstor Kirchner's government\", 'SP', (1727, 1731))\n",
            "DEBUG:root:('Néstor Kirchner', 'SP', (1753, 1755))\n",
            "DEBUG:root:('Néstor Kirchner', 'SP', (1854, 1856))\n",
            "DEBUG:root:('Néstor Kirchner', 'SP', (1944, 1946))\n",
            "DEBUG:root:('Néstor Kirchner', 'SP', (1993, 1995))\n",
            "DEBUG:root:('Duhalde and Néstor and Cristina Kirchner', 'SP', (2901, 2907))\n",
            "DEBUG:root:('Nestor Kirchner', 'SP', (4120, 4122))\n",
            "DEBUG:root:('Néstor Kirchner', 'SP', (5651, 5653))\n",
            "DEBUG:root:('Néstor', 'SP', (5922, 5923))\n",
            "DEBUG:root:('Néstor Kirchner', 'SP', (7683, 7685))\n",
            "DEBUG:root:('Néstor Kirchner', 'SP', (7818, 7820))\n",
            "DEBUG:root:('Néstor Kirchner', 'SP', (7846, 7848))\n",
            "DEBUG:root:('Néstor Kirchner', 'SP', (8039, 8041))\n"
          ],
          "name": "stderr"
        },
        {
          "output_type": "stream",
          "text": [
            "info card is scraped successfully\n",
            "[['Born', 'PERSON'], ['Carlos Saúl Menem Akil']]\n",
            "[['Born', 'DATE'], ['1930-07-02', 'July 1930']]\n",
            "[['Born', 'GPE'], ['La Rioja', 'Anillaco']]\n",
            "[['Children', 'PERSON'], ['Zulema María']]\n",
            "[['Spouse(s)', 'PERSON'], ['Zulema Yoma', 'Cecilia Bolocco']]\n"
          ],
          "name": "stdout"
        },
        {
          "output_type": "stream",
          "text": [
            "DEBUG:root:------BIRTHDAY MATCHING------\n",
            "DEBUG:root:------BIRTH PLACES------\n",
            "DEBUG:root:------NOUN CHUNCK MATCHING FOR BP------\n",
            "DEBUG:root:------CHILDREN NAMES------\n",
            "DEBUG:root:('Zulema', 'CH', (712, 713))\n",
            "DEBUG:root:('Zulema Yoma', 'CH', (2606, 2608))\n",
            "DEBUG:root:------NOUN CHUNCK MATCHING CHILDREN------\n",
            "DEBUG:root:('Zulema', 'CH', (712, 713))\n",
            "DEBUG:root:('Zulema Yoma', 'CH', (2606, 2608))\n",
            "DEBUG:root:------EDUCATION INSTITUTIONS------\n",
            "DEBUG:root:------PARENTS NAMES------\n",
            "DEBUG:root:------SPOUSES NAMES------\n",
            "DEBUG:root:('Zulema', 'SP', (712, 713))\n",
            "DEBUG:root:('Zulema Yoma', 'SP', (2606, 2608))\n",
            "DEBUG:root:('Cecilia Bolocco', 'SP', (5144, 5146))\n",
            "DEBUG:root:------NOUN CHUNCK MATCHING FOR SPOUSES------\n",
            "DEBUG:root:('Zulema', 'SP', (712, 713))\n",
            "DEBUG:root:('Zulema Yoma', 'SP', (2606, 2608))\n",
            "DEBUG:root:('Cecilia Bolocco', 'SP', (5144, 5146))\n"
          ],
          "name": "stderr"
        },
        {
          "output_type": "stream",
          "text": [
            "info card is scraped successfully\n",
            "[['Born', 'PERSON'], ['Juan Domingo Perón', 'Lobos']]\n",
            "[['Born', 'DATE'], ['1895-10-08', '8 October 1895']]\n",
            "[['Born', 'GPE'], ['Lobos, Buenos Aires']]\n",
            "[['Spouse(s)', 'PERSON'], ['Aurelia Tizón', 'Eva Duarte', 'Isabel Martínez Cartas']]\n"
          ],
          "name": "stdout"
        },
        {
          "output_type": "stream",
          "text": [
            "DEBUG:root:------BIRTHDAY MATCHING------\n",
            "DEBUG:root:------BIRTH PLACES------\n",
            "DEBUG:root:------NOUN CHUNCK MATCHING FOR BP------\n",
            "DEBUG:root:------CHILDREN NAMES------\n",
            "DEBUG:root:------EDUCATION INSTITUTIONS------\n",
            "DEBUG:root:------PARENTS NAMES------\n",
            "DEBUG:root:------SPOUSES NAMES------\n",
            "DEBUG:root:('Eva', 'SP', (130, 131))\n",
            "DEBUG:root:('Isabel Perón', 'SP', (215, 217))\n",
            "DEBUG:root:('Isabel Perón', 'SP', (381, 383))\n",
            "DEBUG:root:('Aurelia Tizón', 'SP', (727, 729))\n",
            "DEBUG:root:('Eva', 'SP', (5719, 5720))\n",
            "DEBUG:root:('Eva', 'SP', (5753, 5754))\n",
            "DEBUG:root:('Eva', 'SP', (6005, 6006))\n",
            "DEBUG:root:('Eva', 'SP', (6052, 6053))\n",
            "DEBUG:root:('Eva', 'SP', (6069, 6070))\n",
            "DEBUG:root:('Eva', 'SP', (8225, 8226))\n",
            "DEBUG:root:('Eva', 'SP', (8952, 8953))\n",
            "DEBUG:root:('Isabel Martínez', 'SP', (12154, 12156))\n",
            "DEBUG:root:('Isabel', 'SP', (12447, 12448))\n",
            "DEBUG:root:('Isabel', 'SP', (13855, 13856))\n",
            "DEBUG:root:('Isabel Perón', 'SP', (13886, 13888))\n",
            "DEBUG:root:('Isabel', 'SP', (13930, 13931))\n",
            "DEBUG:root:(\"Isabel Perón's\", 'SP', (13959, 13962))\n",
            "DEBUG:root:------NOUN CHUNCK MATCHING FOR SPOUSES------\n",
            "DEBUG:root:('Eva Duarte', 'SP', (111, 113))\n",
            "DEBUG:root:('Eva', 'SP', (130, 131))\n",
            "DEBUG:root:('Isabel Perón', 'SP', (215, 217))\n",
            "DEBUG:root:('Eva Perón', 'SP', (246, 248))\n",
            "DEBUG:root:('the democratic era', 'SP', (374, 377))\n",
            "DEBUG:root:('Isabel Perón', 'SP', (381, 383))\n",
            "DEBUG:root:('Aurelia Tizón', 'SP', (727, 729))\n",
            "DEBUG:root:('Eva Duarte', 'SP', (1401, 1403))\n",
            "DEBUG:root:('Eva Duarte', 'SP', (1857, 1859))\n",
            "DEBUG:root:('the 1874–1916 era', 'SP', (1998, 2001))\n",
            "DEBUG:root:('the 1949–54 era', 'SP', (4336, 4339))\n",
            "DEBUG:root:('Eva Perón', 'SP', (5607, 5609))\n",
            "DEBUG:root:('Eva', 'SP', (5719, 5720))\n",
            "DEBUG:root:('Eva', 'SP', (5753, 5754))\n",
            "DEBUG:root:('the Eva Perón Foundation', 'SP', (5822, 5826))\n",
            "DEBUG:root:(\"Eva's influence\", 'SP', (6005, 6008))\n",
            "DEBUG:root:(\"Eva's creation\", 'SP', (6052, 6055))\n",
            "DEBUG:root:('Eva', 'SP', (6069, 6070))\n",
            "DEBUG:root:('Eva Perón', 'SP', (6934, 6936))\n",
            "DEBUG:root:(\"Eva Perón's brother\", 'SP', (7501, 7505))\n",
            "DEBUG:root:('Eva Perón', 'SP', (8208, 8210))\n",
            "DEBUG:root:(\"Eva's bodyguards\", 'SP', (8225, 8228))\n",
            "DEBUG:root:('Nueva Sión', 'SP', (8516, 8518))\n",
            "DEBUG:root:('the Eva Perón Foundation', 'SP', (8673, 8677))\n",
            "DEBUG:root:('Eva', 'SP', (8952, 8953))\n",
            "DEBUG:root:('the Eva Perón Foundation', 'SP', (9591, 9595))\n",
            "DEBUG:root:('the era', 'SP', (10082, 10084))\n",
            "DEBUG:root:(\"both the President's and Eva Perón's reputation\", 'SP', (10139, 10148))\n",
            "DEBUG:root:(\"Juan or Eva Perón's names\", 'SP', (10264, 10270))\n",
            "DEBUG:root:(\"Eva Perón's cadaver\", 'SP', (10366, 10370))\n",
            "DEBUG:root:('\"Isabel', 'SP', (10614, 10616))\n",
            "DEBUG:root:('Isabel', 'SP', (10634, 10635))\n",
            "DEBUG:root:(\"Isabel's visit\", 'SP', (10728, 10731))\n",
            "DEBUG:root:(\"Isabel's trust\", 'SP', (10760, 10763))\n",
            "DEBUG:root:('Isabel Martínez', 'SP', (12154, 12156))\n",
            "DEBUG:root:('Isabel', 'SP', (12447, 12448))\n",
            "DEBUG:root:('Isabel', 'SP', (13531, 13532))\n",
            "DEBUG:root:('Isabel', 'SP', (13855, 13856))\n",
            "DEBUG:root:('Isabel Perón', 'SP', (13886, 13888))\n",
            "DEBUG:root:('Isabel', 'SP', (13930, 13931))\n",
            "DEBUG:root:(\"Isabel Perón's term\", 'SP', (13959, 13963))\n"
          ],
          "name": "stderr"
        },
        {
          "output_type": "stream",
          "text": [
            "info card is scraped successfully\n",
            "[['Born', 'PERSON'], ['Alejandro Agustín Lanusse']]\n",
            "[['Born', 'DATE'], ['1918-08-28', 'August 28, 1918']]\n"
          ],
          "name": "stdout"
        },
        {
          "output_type": "stream",
          "text": [
            "DEBUG:root:------BIRTHDAY MATCHING------\n",
            "DEBUG:root:------BIRTH PLACES------\n",
            "DEBUG:root:------NOUN CHUNCK MATCHING FOR BP------\n",
            "DEBUG:root:------CHILDREN NAMES------\n",
            "DEBUG:root:------EDUCATION INSTITUTIONS------\n",
            "DEBUG:root:------PARENTS NAMES------\n",
            "DEBUG:root:------SPOUSES NAMES------\n"
          ],
          "name": "stderr"
        },
        {
          "output_type": "stream",
          "text": [
            "[['Born', 'GPE'], ['Argentina', 'Buenos Aires']]\n",
            "info card is scraped successfully\n",
            "[['Born', 'PERSON'], []]\n",
            "[['Born', 'DATE'], ['1937-09-15', '15 September 1937']]\n",
            "[['Born', 'GPE'], ['Córdoba']]\n",
            "[['Children', 'PERSON'], ['Antonio']]\n",
            "[['Spouse(s)', 'PERSON'], ['Inés Pertiné Urien']]\n"
          ],
          "name": "stdout"
        },
        {
          "output_type": "stream",
          "text": [
            "DEBUG:root:------BIRTHDAY MATCHING------\n",
            "DEBUG:root:------BIRTH PLACES------\n",
            "DEBUG:root:------NOUN CHUNCK MATCHING FOR BP------\n",
            "DEBUG:root:------CHILDREN NAMES------\n",
            "DEBUG:root:('Antonio De la Rúa', 'CH', (336, 340))\n",
            "DEBUG:root:('Antonio de la Rúa', 'CH', (397, 401))\n",
            "DEBUG:root:------NOUN CHUNCK MATCHING CHILDREN------\n",
            "DEBUG:root:('Antonio De la Rúa', 'CH', (336, 340))\n",
            "DEBUG:root:('Antonio de la Rúa', 'CH', (397, 401))\n",
            "DEBUG:root:------EDUCATION INSTITUTIONS------\n",
            "DEBUG:root:------PARENTS NAMES------\n",
            "DEBUG:root:------SPOUSES NAMES------\n",
            "DEBUG:root:('Inés Pertiné', 'SP', (385, 387))\n",
            "DEBUG:root:------NOUN CHUNCK MATCHING FOR SPOUSES------\n",
            "DEBUG:root:('Inés Pertiné', 'SP', (385, 387))\n"
          ],
          "name": "stderr"
        },
        {
          "output_type": "stream",
          "text": [
            "info card is scraped successfully\n",
            "[['Born', 'PERSON'], ['María Estela Martínez Cartas']]\n",
            "[['Born', 'DATE'], ['1931-02-04', '4 February 1931']]\n",
            "[['Born', 'GPE'], ['La Rioja']]\n",
            "[['Spouse(s)', 'PERSON'], ['Juan Perón']]\n"
          ],
          "name": "stdout"
        },
        {
          "output_type": "stream",
          "text": [
            "DEBUG:root:------BIRTHDAY MATCHING------\n",
            "DEBUG:root:------BIRTH PLACES------\n",
            "DEBUG:root:------NOUN CHUNCK MATCHING FOR BP------\n",
            "DEBUG:root:------CHILDREN NAMES------\n",
            "DEBUG:root:------EDUCATION INSTITUTIONS------\n",
            "DEBUG:root:------PARENTS NAMES------\n",
            "DEBUG:root:------SPOUSES NAMES------\n",
            "DEBUG:root:('Juan Born', 'SP', (2045, 2047))\n",
            "DEBUG:root:------NOUN CHUNCK MATCHING FOR SPOUSES------\n",
            "DEBUG:root:('President Juan Perón', 'SP', (52, 55))\n",
            "DEBUG:root:('Juan Perón', 'SP', (326, 328))\n",
            "DEBUG:root:('Juan Perón', 'SP', (664, 666))\n",
            "DEBUG:root:('Juan Perón', 'SP', (821, 823))\n",
            "DEBUG:root:('Juan Perón', 'SP', (954, 956))\n",
            "DEBUG:root:('Juan Perón', 'SP', (988, 990))\n",
            "DEBUG:root:('Juan Perón', 'SP', (1145, 1147))\n",
            "DEBUG:root:('Juan Born', 'SP', (2045, 2047))\n",
            "DEBUG:root:(\"Juan Perón's Justicialist Party\", 'SP', (4131, 4136))\n"
          ],
          "name": "stderr"
        },
        {
          "output_type": "stream",
          "text": [
            "info card is scraped successfully\n",
            "[['Born', 'PERSON'], ['Reynaldo Benito Antonio Bignone', 'Morón']]\n",
            "[['Born', 'DATE'], ['1928-01-21', '21 January 1928']]\n",
            "[['Born', 'GPE'], ['Morón, Buenos Aires']]\n",
            "[['Children', 'PERSON'], ['Cristina Raquel ']]\n",
            "[['Spouse(s)', 'PERSON'], ['Nilda Raquel Belén']]\n"
          ],
          "name": "stdout"
        },
        {
          "output_type": "stream",
          "text": [
            "DEBUG:root:------BIRTHDAY MATCHING------\n",
            "DEBUG:root:------BIRTH PLACES------\n",
            "DEBUG:root:------NOUN CHUNCK MATCHING FOR BP------\n",
            "DEBUG:root:------CHILDREN NAMES------\n",
            "DEBUG:root:------NOUN CHUNCK MATCHING CHILDREN------\n",
            "DEBUG:root:('General Cristino Nicolaides', 'CH', (347, 350))\n",
            "DEBUG:root:------EDUCATION INSTITUTIONS------\n",
            "DEBUG:root:------PARENTS NAMES------\n",
            "DEBUG:root:------SPOUSES NAMES------\n",
            "DEBUG:root:------NOUN CHUNCK MATCHING FOR SPOUSES------\n",
            "DEBUG:root:('Nilda Raquel Belén', 'SP', (153, 156))\n"
          ],
          "name": "stderr"
        },
        {
          "output_type": "stream",
          "text": [
            "info card is scraped successfully\n",
            "[['Born', 'PERSON'], []]\n",
            "[['Born', 'DATE'], ['1896-09-15', 'September 15, 1896']]\n",
            "[['Born', 'GPE'], ['Buenos Aires']]\n"
          ],
          "name": "stdout"
        },
        {
          "output_type": "stream",
          "text": [
            "DEBUG:root:------BIRTHDAY MATCHING------\n",
            "DEBUG:root:------BIRTH PLACES------\n",
            "DEBUG:root:------NOUN CHUNCK MATCHING FOR BP------\n",
            "DEBUG:root:------CHILDREN NAMES------\n",
            "DEBUG:root:------EDUCATION INSTITUTIONS------\n",
            "DEBUG:root:------PARENTS NAMES------\n",
            "DEBUG:root:------SPOUSES NAMES------\n",
            "DEBUG:root:------NOUN CHUNCK MATCHING FOR SPOUSES------\n"
          ],
          "name": "stderr"
        },
        {
          "output_type": "stream",
          "text": [
            "[['Spouse(s)', 'PERSON'], []]\n",
            "info card is scraped successfully\n",
            "[['Born', 'PERSON'], []]\n",
            "[['Born', 'DATE'], ['1924-10-13']]\n",
            "[['Born', 'GPE'], ['Argentina']]\n",
            "[['Children', 'PERSON'], []]\n"
          ],
          "name": "stdout"
        },
        {
          "output_type": "stream",
          "text": [
            "DEBUG:root:------BIRTHDAY MATCHING------\n",
            "DEBUG:root:------BIRTH PLACES------\n",
            "DEBUG:root:------NOUN CHUNCK MATCHING FOR BP------\n",
            "DEBUG:root:------CHILDREN NAMES------\n",
            "DEBUG:root:------NOUN CHUNCK MATCHING CHILDREN------\n",
            "DEBUG:root:------EDUCATION INSTITUTIONS------\n",
            "DEBUG:root:------PARENTS NAMES------\n",
            "DEBUG:root:------SPOUSES NAMES------\n",
            "DEBUG:root:------NOUN CHUNCK MATCHING FOR SPOUSES------\n"
          ],
          "name": "stderr"
        },
        {
          "output_type": "stream",
          "text": [
            "[['Spouse(s)', 'PERSON'], ['Nélida Giorgio Valente']]\n",
            "info card is scraped successfully\n",
            "[['Born', 'PERSON'], []]\n",
            "[['Born', 'DATE'], ['1953-06-23', '23 June 1953']]\n",
            "[['Born', 'GPE'], ['Armenian SSR', 'Soviet Union', 'Yerevan']]\n",
            "[['Children', 'PERSON'], []]\n"
          ],
          "name": "stdout"
        },
        {
          "output_type": "stream",
          "text": [
            "DEBUG:root:------BIRTHDAY MATCHING------\n",
            "DEBUG:root:------BIRTH PLACES------\n",
            "DEBUG:root:------NOUN CHUNCK MATCHING FOR BP------\n"
          ],
          "name": "stderr"
        },
        {
          "output_type": "stream",
          "text": [
            "[['Spouse(s)', 'PERSON'], ['Nouneh Sarkissian']]\n"
          ],
          "name": "stdout"
        },
        {
          "output_type": "stream",
          "text": [
            "DEBUG:root:------CHILDREN NAMES------\n",
            "DEBUG:root:------NOUN CHUNCK MATCHING CHILDREN------\n",
            "DEBUG:root:------EDUCATION INSTITUTIONS------\n",
            "DEBUG:root:------PARENTS NAMES------\n",
            "DEBUG:root:------SPOUSES NAMES------\n",
            "DEBUG:root:------NOUN CHUNCK MATCHING FOR SPOUSES------\n",
            "DEBUG:root:('Nouneh Sarkissian', 'SP', (1158, 1160))\n"
          ],
          "name": "stderr"
        },
        {
          "output_type": "stream",
          "text": [
            "info card is scraped successfully\n",
            "[['Born', 'PERSON'], []]\n",
            "[['Born', 'DATE'], ['1954-06-30', '30 June 1954']]\n",
            "[['Born', 'GPE'], ['Azerbaijan SSR', 'Soviet Union', 'Stepanakert']]\n",
            "[['Children', 'PERSON'], []]\n",
            "[['Spouse(s)', 'PERSON'], ['Rita Dadayan']]\n"
          ],
          "name": "stdout"
        },
        {
          "output_type": "stream",
          "text": [
            "DEBUG:root:------BIRTHDAY MATCHING------\n",
            "DEBUG:root:------BIRTH PLACES------\n",
            "DEBUG:root:------NOUN CHUNCK MATCHING FOR BP------\n",
            "DEBUG:root:------CHILDREN NAMES------\n",
            "DEBUG:root:------NOUN CHUNCK MATCHING CHILDREN------\n",
            "DEBUG:root:------EDUCATION INSTITUTIONS------\n",
            "DEBUG:root:------PARENTS NAMES------\n",
            "DEBUG:root:------SPOUSES NAMES------\n",
            "DEBUG:root:('Rita', 'SP', (252, 253))\n",
            "DEBUG:root:('Rita', 'SP', (272, 273))\n",
            "DEBUG:root:------NOUN CHUNCK MATCHING FOR SPOUSES------\n",
            "DEBUG:root:('Rita', 'SP', (252, 253))\n",
            "DEBUG:root:('Rita', 'SP', (272, 273))\n"
          ],
          "name": "stderr"
        },
        {
          "output_type": "stream",
          "text": [
            "info card is scraped successfully\n",
            "[['Born', 'PERSON'], []]\n",
            "[['Born', 'DATE'], ['1954-08-31', '31 August 1954']]\n",
            "[['Born', 'GPE'], ['Azerbaijan SSR', 'Soviet Union', 'Stepanakert']]\n",
            "[['Children', 'PERSON'], ['Sedrak ', 'Levon']]\n",
            "[['Spouse(s)', 'PERSON'], ['Bella Kocharyan']]\n"
          ],
          "name": "stdout"
        },
        {
          "output_type": "stream",
          "text": [
            "DEBUG:root:------BIRTHDAY MATCHING------\n",
            "DEBUG:root:------BIRTH PLACES------\n",
            "DEBUG:root:------NOUN CHUNCK MATCHING FOR BP------\n",
            "DEBUG:root:------CHILDREN NAMES------\n",
            "DEBUG:root:('Levon', 'CH', (421, 422))\n",
            "DEBUG:root:------NOUN CHUNCK MATCHING CHILDREN------\n",
            "DEBUG:root:('Levon Ter-Petrosyan', 'CH', (150, 154))\n",
            "DEBUG:root:('Sedrak', 'CH', (416, 417))\n",
            "DEBUG:root:('Levon', 'CH', (421, 422))\n",
            "DEBUG:root:('Levon Ter-Petrossian', 'CH', (447, 451))\n",
            "DEBUG:root:('unsuccessful candidate Levon Ter-Petrossian', 'CH', (959, 965))\n",
            "DEBUG:root:------EDUCATION INSTITUTIONS------\n",
            "DEBUG:root:------PARENTS NAMES------\n",
            "DEBUG:root:------SPOUSES NAMES------\n",
            "DEBUG:root:------NOUN CHUNCK MATCHING FOR SPOUSES------\n",
            "DEBUG:root:('Bella Kocharyan', 'SP', (409, 411))\n"
          ],
          "name": "stderr"
        },
        {
          "output_type": "stream",
          "text": [
            "info card is scraped successfully\n",
            "[['Born', 'PERSON'], ['Levon Hakobi']]\n",
            "[['Born', 'DATE'], ['1945-01-09', '9 January 1945']]\n",
            "[['Born', 'GPE'], ['Syria', 'Aleppo']]\n",
            "[['Children', 'PERSON'], ['David Ter-Petrosyan']]\n",
            "[['Spouse(s)', 'PERSON'], ['Lyudmila Ter-Petrosyan']]\n"
          ],
          "name": "stdout"
        },
        {
          "output_type": "stream",
          "text": [
            "DEBUG:root:------BIRTHDAY MATCHING------\n",
            "DEBUG:root:------BIRTH PLACES------\n",
            "DEBUG:root:------NOUN CHUNCK MATCHING FOR BP------\n",
            "DEBUG:root:------CHILDREN NAMES------\n",
            "DEBUG:root:('David', 'CH', (595, 596))\n",
            "DEBUG:root:------NOUN CHUNCK MATCHING CHILDREN------\n",
            "DEBUG:root:('David', 'CH', (595, 596))\n",
            "DEBUG:root:------EDUCATION INSTITUTIONS------\n",
            "DEBUG:root:------PARENTS NAMES------\n",
            "DEBUG:root:------SPOUSES NAMES------\n",
            "DEBUG:root:('Lyudmila', 'SP', (583, 584))\n",
            "DEBUG:root:------NOUN CHUNCK MATCHING FOR SPOUSES------\n",
            "DEBUG:root:('Lyudmila', 'SP', (583, 584))\n"
          ],
          "name": "stderr"
        },
        {
          "output_type": "stream",
          "text": [
            "info card is scraped successfully\n",
            "[['Born', 'PERSON'], ['Alexander Van']]\n",
            "[['Born', 'DATE'], ['1944-01-18', '18 January 1944']]\n",
            "[['Born', 'GPE'], ['Austria', 'Vienna']]\n",
            "[['Children', 'PERSON'], []]\n",
            "[['Spouse(s)', 'PERSON'], ['Brigitte Hüttner']]\n",
            "[['Parents', 'PERSON'], ['Alma Sieboldt', 'Alexander Van']]\n"
          ],
          "name": "stdout"
        },
        {
          "output_type": "stream",
          "text": [
            "DEBUG:root:------BIRTHDAY MATCHING------\n",
            "DEBUG:root:------BIRTH PLACES------\n",
            "DEBUG:root:------NOUN CHUNCK MATCHING FOR BP------\n",
            "DEBUG:root:------CHILDREN NAMES------\n",
            "DEBUG:root:------NOUN CHUNCK MATCHING CHILDREN------\n",
            "DEBUG:root:------EDUCATION INSTITUTIONS------\n",
            "DEBUG:root:------PARENTS NAMES------\n",
            "DEBUG:root:------PERSON ENTITY MATCHING FOR PARENTS------\n",
            "DEBUG:root:('Alexander Van', 'PR', (1, 3))\n",
            "DEBUG:root:('Aleksander von der Bellen', 'PR', (406, 410))\n",
            "DEBUG:root:('Alexander Van', 'PR', (3493, 3495))\n",
            "DEBUG:root:('Alexander Van', 'PR', (3863, 3865))\n",
            "DEBUG:root:------NOUN CHUNCK MATCHING FOR PARENTS------\n",
            "DEBUG:root:------SPOUSES NAMES------\n",
            "DEBUG:root:------NOUN CHUNCK MATCHING FOR SPOUSES------\n",
            "DEBUG:root:('Brigitte', 'SP', (1119, 1120))\n"
          ],
          "name": "stderr"
        },
        {
          "output_type": "stream",
          "text": [
            "info card is scraped successfully\n",
            "[['Born', 'PERSON'], []]\n",
            "[['Born', 'DATE'], ['1872-10-15']]\n",
            "[['Born', 'GPE'], ['Lower Austria']]\n"
          ],
          "name": "stdout"
        },
        {
          "output_type": "stream",
          "text": [
            "DEBUG:root:------BIRTHDAY MATCHING------\n",
            "DEBUG:root:------BIRTH PLACES------\n",
            "DEBUG:root:------NOUN CHUNCK MATCHING FOR BP------\n",
            "DEBUG:root:------CHILDREN NAMES------\n",
            "DEBUG:root:------EDUCATION INSTITUTIONS------\n",
            "DEBUG:root:------PARENTS NAMES------\n",
            "DEBUG:root:------SPOUSES NAMES------\n",
            "DEBUG:root:------NOUN CHUNCK MATCHING FOR SPOUSES------\n"
          ],
          "name": "stderr"
        },
        {
          "output_type": "stream",
          "text": [
            "[['Spouse(s)', 'PERSON'], []]\n",
            "info card is scraped successfully\n",
            "[['Born', 'PERSON'], []]\n",
            "[['Born', 'DATE'], ['1873-04', 'April 23, 1873']]\n"
          ],
          "name": "stdout"
        },
        {
          "output_type": "stream",
          "text": [
            "DEBUG:root:------BIRTHDAY MATCHING------\n",
            "DEBUG:root:------BIRTH PLACES------\n",
            "DEBUG:root:------NOUN CHUNCK MATCHING FOR BP------\n",
            "DEBUG:root:------CHILDREN NAMES------\n",
            "DEBUG:root:------EDUCATION INSTITUTIONS------\n",
            "DEBUG:root:------PARENTS NAMES------\n",
            "DEBUG:root:------SPOUSES NAMES------\n"
          ],
          "name": "stderr"
        },
        {
          "output_type": "stream",
          "text": [
            "[['Born', 'GPE'], ['Újszőny by Komorn, ']]\n",
            "info card is scraped successfully\n",
            "[['Born', 'PERSON'], []]\n",
            "[['Born', 'DATE'], ['14 December 1870']]\n",
            "[['Born', 'GPE'], ['Austria-Hungary', 'Dolní Dunajovice']]\n",
            "[['Spouse(s)', 'PERSON'], ['Luise Renner']]\n"
          ],
          "name": "stdout"
        },
        {
          "output_type": "stream",
          "text": [
            "DEBUG:root:------BIRTHDAY MATCHING------\n",
            "DEBUG:root:------BIRTH PLACES------\n",
            "DEBUG:root:------NOUN CHUNCK MATCHING FOR BP------\n",
            "DEBUG:root:------CHILDREN NAMES------\n",
            "DEBUG:root:------EDUCATION INSTITUTIONS------\n",
            "DEBUG:root:------PARENTS NAMES------\n",
            "DEBUG:root:------SPOUSES NAMES------\n",
            "DEBUG:root:------NOUN CHUNCK MATCHING FOR SPOUSES------\n"
          ],
          "name": "stderr"
        },
        {
          "output_type": "stream",
          "text": [
            "failed to annotate the page!\n",
            "https://en.wikipedia.org/wiki/State_Council_(German-Austria)\n",
            "info card is scraped successfully\n",
            "[['Born', 'PERSON'], ['Aue']]\n",
            "[['Born', 'DATE'], ['1858-08-15', '15 August 1858']]\n"
          ],
          "name": "stdout"
        },
        {
          "output_type": "stream",
          "text": [
            "DEBUG:root:------BIRTHDAY MATCHING------\n",
            "DEBUG:root:------BIRTH PLACES------\n",
            "DEBUG:root:------NOUN CHUNCK MATCHING FOR BP------\n",
            "DEBUG:root:------CHILDREN NAMES------\n",
            "DEBUG:root:------EDUCATION INSTITUTIONS------\n",
            "DEBUG:root:------PARENTS NAMES------\n",
            "DEBUG:root:------SPOUSES NAMES------\n"
          ],
          "name": "stderr"
        },
        {
          "output_type": "stream",
          "text": [
            "[['Born', 'GPE'], ['Lower Austria', 'Austrian Empire', 'Aue bei Schottwien']]\n",
            "info card is scraped successfully\n",
            "[['Born', 'PERSON'], []]\n",
            "[['Born', 'DATE'], ['1899-10-04']]\n",
            "[['Born', 'GPE'], ['Austria-Hungary']]\n"
          ],
          "name": "stdout"
        },
        {
          "output_type": "stream",
          "text": [
            "DEBUG:root:------BIRTHDAY MATCHING------\n",
            "DEBUG:root:------BIRTH PLACES------\n",
            "DEBUG:root:------NOUN CHUNCK MATCHING FOR BP------\n",
            "DEBUG:root:------CHILDREN NAMES------\n",
            "DEBUG:root:------EDUCATION INSTITUTIONS------\n",
            "DEBUG:root:------PARENTS NAMES------\n",
            "DEBUG:root:------SPOUSES NAMES------\n",
            "DEBUG:root:------NOUN CHUNCK MATCHING FOR SPOUSES------\n"
          ],
          "name": "stderr"
        },
        {
          "output_type": "stream",
          "text": [
            "[['Spouse(s)', 'PERSON'], ['Margarete Jonas']]\n",
            "info card is scraped successfully\n",
            "[['Born', 'PERSON'], []]\n",
            "[['Born', 'DATE'], ['1890-04-20', '20 April 1890']]\n",
            "[['Born', 'GPE'], ['Moravia', 'Nikolsburg']]\n"
          ],
          "name": "stdout"
        },
        {
          "output_type": "stream",
          "text": [
            "DEBUG:root:------BIRTHDAY MATCHING------\n",
            "DEBUG:root:------BIRTH PLACES------\n",
            "DEBUG:root:------NOUN CHUNCK MATCHING FOR BP------\n",
            "DEBUG:root:------CHILDREN NAMES------\n",
            "DEBUG:root:------EDUCATION INSTITUTIONS------\n",
            "DEBUG:root:------PARENTS NAMES------\n"
          ],
          "name": "stderr"
        },
        {
          "output_type": "stream",
          "text": [
            "[['Spouse(s)', 'PERSON'], []]\n"
          ],
          "name": "stdout"
        },
        {
          "output_type": "stream",
          "text": [
            "DEBUG:root:------SPOUSES NAMES------\n",
            "DEBUG:root:------NOUN CHUNCK MATCHING FOR SPOUSES------\n"
          ],
          "name": "stderr"
        },
        {
          "output_type": "stream",
          "text": [
            "info card is scraped successfully\n",
            "[['Born', 'PERSON'], []]\n",
            "[['Born', 'DATE'], ['1869-09-04', '4 September 1869']]\n",
            "[['Born', 'GPE'], ['Austria-Hungary', 'Vienna']]\n"
          ],
          "name": "stdout"
        },
        {
          "output_type": "stream",
          "text": [
            "DEBUG:root:------BIRTHDAY MATCHING------\n",
            "DEBUG:root:------BIRTH PLACES------\n",
            "DEBUG:root:------NOUN CHUNCK MATCHING FOR BP------\n",
            "DEBUG:root:------CHILDREN NAMES------\n",
            "DEBUG:root:------EDUCATION INSTITUTIONS------\n",
            "DEBUG:root:------PARENTS NAMES------\n",
            "DEBUG:root:------SPOUSES NAMES------\n",
            "DEBUG:root:------NOUN CHUNCK MATCHING FOR SPOUSES------\n"
          ],
          "name": "stderr"
        },
        {
          "output_type": "stream",
          "text": [
            "[['Spouse(s)', 'PERSON'], ['Emilie Heindl']]\n",
            "info card is scraped successfully\n",
            "[['Born', 'PERSON'], []]\n",
            "[['Born', 'DATE'], ['1938-10-09']]\n",
            "[['Born', 'GPE'], ['Nazi Germany']]\n",
            "[['Children', 'PERSON'], []]\n"
          ],
          "name": "stdout"
        },
        {
          "output_type": "stream",
          "text": [
            "DEBUG:root:------BIRTHDAY MATCHING------\n",
            "DEBUG:root:------BIRTH PLACES------\n",
            "DEBUG:root:------NOUN CHUNCK MATCHING FOR BP------\n",
            "DEBUG:root:------CHILDREN NAMES------\n",
            "DEBUG:root:------NOUN CHUNCK MATCHING CHILDREN------\n",
            "DEBUG:root:------EDUCATION INSTITUTIONS------\n",
            "DEBUG:root:------PARENTS NAMES------\n",
            "DEBUG:root:------SPOUSES NAMES------\n",
            "DEBUG:root:('Margit Binder', 'SP', (633, 635))\n",
            "DEBUG:root:------NOUN CHUNCK MATCHING FOR SPOUSES------\n",
            "DEBUG:root:('Margit Binder', 'SP', (633, 635))\n"
          ],
          "name": "stderr"
        },
        {
          "output_type": "stream",
          "text": [
            "[['Spouse(s)', 'PERSON'], ['Margit Binder']]\n",
            "info card is scraped successfully\n",
            "[['Born', 'PERSON'], ['Sankt Andrä-Wördern']]\n",
            "[['Born', 'DATE'], ['1918-12-21', '21 December 1918']]\n",
            "[['Born', 'GPE'], ['German-Austria', 'Sankt Andrä-Wördern']]\n",
            "[['Children', 'PERSON'], ['Lieselotte ']]\n",
            "[['Spouse(s)', 'PERSON'], ['Elisabeth Waldheim']]\n"
          ],
          "name": "stdout"
        },
        {
          "output_type": "stream",
          "text": [
            "DEBUG:root:------BIRTHDAY MATCHING------\n",
            "DEBUG:root:------BIRTH PLACES------\n",
            "DEBUG:root:------NOUN CHUNCK MATCHING FOR BP------\n",
            "DEBUG:root:------CHILDREN NAMES------\n",
            "DEBUG:root:------NOUN CHUNCK MATCHING CHILDREN------\n",
            "DEBUG:root:('Lieselotte', 'CH', (257, 258))\n",
            "DEBUG:root:------EDUCATION INSTITUTIONS------\n",
            "DEBUG:root:------PARENTS NAMES------\n",
            "DEBUG:root:------SPOUSES NAMES------\n",
            "DEBUG:root:('Elisabeth Ritschel', 'SP', (248, 250))\n",
            "DEBUG:root:------NOUN CHUNCK MATCHING FOR SPOUSES------\n",
            "DEBUG:root:('Elisabeth Ritschel', 'SP', (248, 250))\n"
          ],
          "name": "stderr"
        },
        {
          "output_type": "stream",
          "text": [
            "info card is scraped successfully\n"
          ],
          "name": "stdout"
        },
        {
          "output_type": "stream",
          "text": [
            "DEBUG:root:------BIRTHDAY MATCHING------\n",
            "DEBUG:root:------BIRTH PLACES------\n",
            "DEBUG:root:------CHILDREN NAMES------\n",
            "DEBUG:root:------EDUCATION INSTITUTIONS------\n",
            "DEBUG:root:------PARENTS NAMES------\n",
            "DEBUG:root:------SPOUSES NAMES------\n"
          ],
          "name": "stderr"
        },
        {
          "output_type": "stream",
          "text": [
            "info card is scraped successfully\n",
            "[['Born', 'PERSON'], []]\n",
            "[['Born', 'DATE'], ['1902-10-02']]\n"
          ],
          "name": "stdout"
        },
        {
          "output_type": "stream",
          "text": [
            "DEBUG:root:------BIRTHDAY MATCHING------\n",
            "DEBUG:root:------BIRTH PLACES------\n",
            "DEBUG:root:------NOUN CHUNCK MATCHING FOR BP------\n",
            "DEBUG:root:------CHILDREN NAMES------\n",
            "DEBUG:root:------EDUCATION INSTITUTIONS------\n",
            "DEBUG:root:------PARENTS NAMES------\n",
            "DEBUG:root:------SPOUSES NAMES------\n"
          ],
          "name": "stderr"
        },
        {
          "output_type": "stream",
          "text": [
            "[['Born', 'GPE'], ['Michelhausen', 'Austria-Hungary']]\n",
            "info card is scraped successfully\n",
            "[['Born', 'PERSON'], []]\n",
            "[['Born', 'DATE'], ['1932-11-04', '4 November 1932']]\n",
            "[['Born', 'GPE'], ['Austria', 'Vienna']]\n"
          ],
          "name": "stdout"
        },
        {
          "output_type": "stream",
          "text": [
            "DEBUG:root:------BIRTHDAY MATCHING------\n",
            "DEBUG:root:------BIRTH PLACES------\n",
            "DEBUG:root:------NOUN CHUNCK MATCHING FOR BP------\n",
            "DEBUG:root:------CHILDREN NAMES------\n",
            "DEBUG:root:------EDUCATION INSTITUTIONS------\n",
            "DEBUG:root:------PARENTS NAMES------\n",
            "DEBUG:root:------SPOUSES NAMES------\n",
            "DEBUG:root:('Margot Löffler', 'SP', (516, 518))\n",
            "DEBUG:root:------NOUN CHUNCK MATCHING FOR SPOUSES------\n"
          ],
          "name": "stderr"
        },
        {
          "output_type": "stream",
          "text": [
            "[['Spouse(s)', 'PERSON'], ['Edith Klestil', 'Margot Klestil-Löffler']]\n",
            "info card is scraped successfully\n",
            "[['Born', 'PERSON'], []]\n",
            "[['Born', 'DATE'], ['20 March 1915']]\n",
            "[['Born', 'GPE'], ['Upper Austria', 'Austro-Hungarian Empire', 'Niederkappel']]\n",
            "[['Children', 'PERSON'], []]\n"
          ],
          "name": "stdout"
        },
        {
          "output_type": "stream",
          "text": [
            "DEBUG:root:------BIRTHDAY MATCHING------\n",
            "DEBUG:root:------BIRTH PLACES------\n",
            "DEBUG:root:------NOUN CHUNCK MATCHING FOR BP------\n",
            "DEBUG:root:------CHILDREN NAMES------\n",
            "DEBUG:root:------NOUN CHUNCK MATCHING CHILDREN------\n",
            "DEBUG:root:------EDUCATION INSTITUTIONS------\n",
            "DEBUG:root:------PARENTS NAMES------\n",
            "DEBUG:root:------SPOUSES NAMES------\n",
            "DEBUG:root:('Herma Sorger', 'SP', (566, 568))\n",
            "DEBUG:root:------NOUN CHUNCK MATCHING FOR SPOUSES------\n",
            "DEBUG:root:('Herma Sorger', 'SP', (566, 568))\n"
          ],
          "name": "stderr"
        },
        {
          "output_type": "stream",
          "text": [
            "[['Spouse(s)', 'PERSON'], ['Herma Kirchschläger']]\n",
            "info card is scraped successfully\n",
            "[['Born', 'PERSON'], ['İlham Heydər']]\n",
            "[['Born', 'DATE'], ['1961-12-24', '24 December 1961']]\n",
            "[['Born', 'GPE'], ['Azerbaijan SSR', 'Soviet Union', 'Baku']]\n",
            "[['Children', 'PERSON'], ['Leyla', 'Arzu', 'Heydar']]\n",
            "[['Spouse(s)', 'PERSON'], ['Mehriban Aliyeva']]\n"
          ],
          "name": "stdout"
        },
        {
          "output_type": "stream",
          "text": [
            "DEBUG:root:------BIRTHDAY MATCHING------\n",
            "DEBUG:root:------BIRTH PLACES------\n",
            "DEBUG:root:------NOUN CHUNCK MATCHING FOR BP------\n",
            "DEBUG:root:------CHILDREN NAMES------\n",
            "DEBUG:root:('Ilham Heydar', 'CH', (1, 3))\n",
            "DEBUG:root:('Heydar Aliyev', 'CH', (89, 91))\n",
            "DEBUG:root:(\"Heydar Aliyev's\", 'CH', (255, 258))\n",
            "DEBUG:root:('Leyla', 'CH', (8135, 8136))\n",
            "DEBUG:root:('Leyla', 'CH', (9088, 9089))\n",
            "DEBUG:root:('Heydar', 'CH', (9092, 9093))\n",
            "DEBUG:root:------NOUN CHUNCK MATCHING CHILDREN------\n",
            "DEBUG:root:('İlham Heydər oğlu Əliyev', 'CH', (8, 12))\n",
            "DEBUG:root:('Heydar Aliyev', 'CH', (89, 91))\n",
            "DEBUG:root:(\"Heydar Aliyev's oil strategy\", 'CH', (255, 260))\n",
            "DEBUG:root:('the Heydar Aliyev Foundation', 'CH', (4801, 4805))\n",
            "DEBUG:root:('Leyla', 'CH', (8135, 8136))\n",
            "DEBUG:root:('Leyla', 'CH', (9088, 9089))\n",
            "DEBUG:root:('Arzu', 'CH', (9090, 9091))\n",
            "DEBUG:root:('Heydar', 'CH', (9092, 9093))\n",
            "DEBUG:root:------EDUCATION INSTITUTIONS------\n",
            "DEBUG:root:------PARENTS NAMES------\n",
            "DEBUG:root:------SPOUSES NAMES------\n",
            "DEBUG:root:('Mehriban Pashayeva', 'SP', (9074, 9076))\n",
            "DEBUG:root:('Mehriban Aliyeva', 'SP', (9118, 9120))\n",
            "DEBUG:root:------NOUN CHUNCK MATCHING FOR SPOUSES------\n",
            "DEBUG:root:('Mehriban Aliyevs', 'SP', (8259, 8261))\n",
            "DEBUG:root:('Mehriban Pashayeva', 'SP', (9074, 9076))\n",
            "DEBUG:root:('Mehriban Aliyeva', 'SP', (9118, 9120))\n"
          ],
          "name": "stderr"
        },
        {
          "output_type": "stream",
          "text": [
            "info card is scraped successfully\n",
            "[['Born', 'PERSON'], []]\n",
            "[['Born', 'DATE'], ['1938-06-07', '7 June 1938']]\n",
            "[['Born', 'GPE'], ['Azerbaijan SSR', 'Soviet Union', 'Nakhchivan ASSR']]\n"
          ],
          "name": "stdout"
        },
        {
          "output_type": "stream",
          "text": [
            "DEBUG:root:------BIRTHDAY MATCHING------\n",
            "DEBUG:root:------BIRTH PLACES------\n",
            "DEBUG:root:------NOUN CHUNCK MATCHING FOR BP------\n",
            "DEBUG:root:------CHILDREN NAMES------\n"
          ],
          "name": "stderr"
        },
        {
          "output_type": "stream",
          "text": [
            "[['Spouse(s)', 'PERSON'], ['Halima Aliyeva']]\n"
          ],
          "name": "stdout"
        },
        {
          "output_type": "stream",
          "text": [
            "DEBUG:root:------EDUCATION INSTITUTIONS------\n",
            "DEBUG:root:------PARENTS NAMES------\n",
            "DEBUG:root:------SPOUSES NAMES------\n",
            "DEBUG:root:------NOUN CHUNCK MATCHING FOR SPOUSES------\n"
          ],
          "name": "stderr"
        },
        {
          "output_type": "stream",
          "text": [
            "info card is scraped successfully\n",
            "[['Born', 'PERSON'], ['Ayaz Niyazi']]\n",
            "[['Born', 'DATE'], ['1938-05-12', '12 May 1938']]\n",
            "[['Born', 'GPE'], ['Azerbaijan SSR', 'Soviet Union', 'Baku']]\n",
            "[['Children', 'PERSON'], []]\n"
          ],
          "name": "stdout"
        },
        {
          "output_type": "stream",
          "text": [
            "DEBUG:root:------BIRTHDAY MATCHING------\n",
            "DEBUG:root:------BIRTH PLACES------\n",
            "DEBUG:root:------NOUN CHUNCK MATCHING FOR BP------\n",
            "DEBUG:root:------CHILDREN NAMES------\n",
            "DEBUG:root:------NOUN CHUNCK MATCHING CHILDREN------\n",
            "DEBUG:root:------EDUCATION INSTITUTIONS------\n",
            "DEBUG:root:------PARENTS NAMES------\n",
            "DEBUG:root:------SPOUSES NAMES------\n",
            "DEBUG:root:------NOUN CHUNCK MATCHING FOR SPOUSES------\n",
            "DEBUG:root:('Adila Mütallibova', 'SP', (217, 219))\n"
          ],
          "name": "stderr"
        },
        {
          "output_type": "stream",
          "text": [
            "[['Spouse(s)', 'PERSON'], ['Adila Mutallibova']]\n",
            "info card is scraped successfully\n",
            "[['Born', 'PERSON'], []]\n",
            "[['Born', 'DATE'], ['1957-02-24', 'February 24, 1957']]\n",
            "[['Born', 'GPE'], ['Azerbaijan SSR', 'Soviet Union', 'Baku']]\n"
          ],
          "name": "stdout"
        },
        {
          "output_type": "stream",
          "text": [
            "DEBUG:root:------BIRTHDAY MATCHING------\n",
            "DEBUG:root:------BIRTH PLACES------\n",
            "DEBUG:root:------NOUN CHUNCK MATCHING FOR BP------\n",
            "DEBUG:root:------CHILDREN NAMES------\n",
            "DEBUG:root:------EDUCATION INSTITUTIONS------\n",
            "DEBUG:root:------PARENTS NAMES------\n",
            "DEBUG:root:------SPOUSES NAMES------\n",
            "DEBUG:root:------NOUN CHUNCK MATCHING FOR SPOUSES------\n",
            "DEBUG:root:('Aida Bağırova', 'SP', (69, 71))\n"
          ],
          "name": "stderr"
        },
        {
          "output_type": "stream",
          "text": [
            "[['Spouse(s)', 'PERSON'], ['Aida Bağırova']]\n",
            "info card is scraped successfully\n",
            "[['Born', 'PERSON'], ['Heydar Alirza']]\n",
            "[['Born', 'DATE'], ['1923-05-10', '10 May 1923']]\n",
            "[['Born', 'GPE'], ['Azerbaijan SSR', 'Transcaucasian SFSR', 'Soviet Union', 'Nakhchivan ASSR']]\n",
            "[['Children', 'PERSON'], ['Sevil Aliyeva', 'Ilham Aliyev']]\n",
            "[['Spouse(s)', 'PERSON'], ['Zarifa Aliyeva']]\n"
          ],
          "name": "stdout"
        },
        {
          "output_type": "stream",
          "text": [
            "DEBUG:root:------BIRTHDAY MATCHING------\n",
            "DEBUG:root:------BIRTH PLACES------\n",
            "DEBUG:root:------NOUN CHUNCK MATCHING FOR BP------\n",
            "DEBUG:root:------CHILDREN NAMES------\n",
            "DEBUG:root:('Sevil', 'CH', (314, 315))\n",
            "DEBUG:root:('Ilham', 'CH', (325, 326))\n",
            "DEBUG:root:('Ilham', 'CH', (3033, 3034))\n",
            "DEBUG:root:('Ilham Aliyev', 'CH', (3069, 3071))\n",
            "DEBUG:root:------NOUN CHUNCK MATCHING CHILDREN------\n",
            "DEBUG:root:('Sevil', 'CH', (314, 315))\n",
            "DEBUG:root:('Ilham', 'CH', (325, 326))\n",
            "DEBUG:root:('Ilham', 'CH', (3033, 3034))\n",
            "DEBUG:root:('Ilham Aliyev', 'CH', (3069, 3071))\n",
            "DEBUG:root:------EDUCATION INSTITUTIONS------\n",
            "DEBUG:root:------PARENTS NAMES------\n",
            "DEBUG:root:------SPOUSES NAMES------\n",
            "DEBUG:root:('Zarifa Aliyeva', 'SP', (304, 306))\n",
            "DEBUG:root:('Zarifa Aliyeva', 'SP', (329, 331))\n",
            "DEBUG:root:------NOUN CHUNCK MATCHING FOR SPOUSES------\n",
            "DEBUG:root:('Zarifa Aliyeva', 'SP', (304, 306))\n",
            "DEBUG:root:('Zarifa Aliyeva', 'SP', (329, 331))\n"
          ],
          "name": "stderr"
        },
        {
          "output_type": "stream",
          "text": [
            "info card is scraped successfully\n",
            "[['Born', 'PERSON'], []]\n",
            "[['Born', 'DATE'], ['1944-01-01', '1 January 1944']]\n",
            "[['Born', 'GPE'], ['Bengal Presidency', 'British India', 'Kamalpur']]\n",
            "[['Children', 'PERSON'], ['Rejwan Ahammad Taufiq']]\n"
          ],
          "name": "stdout"
        },
        {
          "output_type": "stream",
          "text": [
            "DEBUG:root:------BIRTHDAY MATCHING------\n",
            "DEBUG:root:------BIRTH PLACES------\n",
            "DEBUG:root:------NOUN CHUNCK MATCHING FOR BP------\n",
            "DEBUG:root:------CHILDREN NAMES------\n",
            "DEBUG:root:------NOUN CHUNCK MATCHING CHILDREN------\n",
            "DEBUG:root:------EDUCATION INSTITUTIONS------\n",
            "DEBUG:root:------PARENTS NAMES------\n",
            "DEBUG:root:------SPOUSES NAMES------\n",
            "DEBUG:root:------NOUN CHUNCK MATCHING FOR SPOUSES------\n"
          ],
          "name": "stderr"
        },
        {
          "output_type": "stream",
          "text": [
            "[['Spouse(s)', 'PERSON'], []]\n",
            "info card is scraped successfully\n",
            "[['Born', 'PERSON'], []]\n",
            "[['Born', 'DATE'], ['1931-12-01']]\n"
          ],
          "name": "stdout"
        },
        {
          "output_type": "stream",
          "text": [
            "DEBUG:root:------BIRTHDAY MATCHING------\n",
            "DEBUG:root:------BIRTH PLACES------\n",
            "DEBUG:root:------NOUN CHUNCK MATCHING FOR BP------\n",
            "DEBUG:root:------CHILDREN NAMES------\n",
            "DEBUG:root:------EDUCATION INSTITUTIONS------\n",
            "DEBUG:root:------PARENTS NAMES------\n",
            "DEBUG:root:------SPOUSES NAMES------\n"
          ],
          "name": "stderr"
        },
        {
          "output_type": "stream",
          "text": [
            "[['Born', 'GPE'], ['Panchagarh', 'Bengal Presidency', 'British India']]\n",
            "info card is scraped successfully\n",
            "[['Born', 'PERSON'], ['Gopalganj District']]\n",
            "[['Born', 'DATE'], ['1947-09-28', '28 September 1947']]\n",
            "[['Born', 'GPE'], ['Gopalganj District', 'East Pakistan', 'Tungipara']]\n",
            "[['Children', 'PERSON'], ['Sajeeb', 'Saima']]\n",
            "[['Spouse(s)', 'PERSON'], ['Wazed Miah']]\n",
            "[['Parents', 'PERSON'], ['Mujibur Rahman', 'Fazilatunnesa Mujib']]\n"
          ],
          "name": "stdout"
        },
        {
          "output_type": "stream",
          "text": [
            "DEBUG:root:------BIRTHDAY MATCHING------\n",
            "DEBUG:root:------BIRTH PLACES------\n",
            "DEBUG:root:------NOUN CHUNCK MATCHING FOR BP------\n",
            "DEBUG:root:------CHILDREN NAMES------\n",
            "DEBUG:root:('Sajeeb Wazed Joy', 'CH', (478, 481))\n",
            "DEBUG:root:('Sajeeb Wazed Joy', 'CH', (2527, 2530))\n",
            "DEBUG:root:('Sajeeb Wazed', 'CH', (4444, 4446))\n",
            "DEBUG:root:('Saima Wazed', 'CH', (4451, 4453))\n",
            "DEBUG:root:------NOUN CHUNCK MATCHING CHILDREN------\n",
            "DEBUG:root:('Sajeeb Wazed Joy', 'CH', (478, 481))\n",
            "DEBUG:root:('Sajeeb Wazed Joy', 'CH', (2527, 2530))\n",
            "DEBUG:root:('Sajeeb Wazed', 'CH', (4444, 4446))\n",
            "DEBUG:root:('Saima', 'CH', (4451, 4452))\n",
            "DEBUG:root:------EDUCATION INSTITUTIONS------\n",
            "DEBUG:root:------PARENTS NAMES------\n",
            "DEBUG:root:------PERSON ENTITY MATCHING FOR PARENTS------\n",
            "DEBUG:root:('Mujibur Rahman', 'PR', (74, 76))\n",
            "DEBUG:root:('Mujibur Rahman', 'PR', (315, 317))\n",
            "DEBUG:root:('Sheikh Fazilatunnesa Mujib', 'PR', (327, 330))\n",
            "DEBUG:root:('Mujibur Rahman', 'PR', (373, 375))\n",
            "DEBUG:root:------NOUN CHUNCK MATCHING FOR PARENTS------\n",
            "DEBUG:root:------SPOUSES NAMES------\n",
            "DEBUG:root:('Hasina Wazed', 'SP', (4, 6))\n",
            "DEBUG:root:('Wazed', 'SP', (1395, 1396))\n",
            "DEBUG:root:('Sajeeb Wazed', 'SP', (4444, 4446))\n",
            "DEBUG:root:('Saima Wazed', 'SP', (4451, 4453))\n",
            "DEBUG:root:------NOUN CHUNCK MATCHING FOR SPOUSES------\n",
            "DEBUG:root:('Hasina Wazed', 'SP', (4, 6))\n",
            "DEBUG:root:('M. A. Wazed Miah', 'SP', (356, 360))\n",
            "DEBUG:root:('Sajeeb Wazed Joy', 'SP', (478, 481))\n",
            "DEBUG:root:('Sheik Hasina Wazed', 'SP', (1393, 1396))\n",
            "DEBUG:root:('Sajeeb Wazed Joy', 'SP', (2527, 2530))\n",
            "DEBUG:root:('M. A. Wazed Miah', 'SP', (4422, 4426))\n",
            "DEBUG:root:('Sajeeb Wazed', 'SP', (4444, 4446))\n"
          ],
          "name": "stderr"
        },
        {
          "output_type": "stream",
          "text": [
            "info card is scraped successfully\n",
            "[['Born', 'PERSON'], []]\n",
            "[['Born', 'DATE'], ['1938']]\n"
          ],
          "name": "stdout"
        },
        {
          "output_type": "stream",
          "text": [
            "DEBUG:root:------BIRTHDAY MATCHING------\n",
            "DEBUG:root:------BIRTH PLACES------\n",
            "DEBUG:root:------NOUN CHUNCK MATCHING FOR BP------\n",
            "DEBUG:root:------CHILDREN NAMES------\n",
            "DEBUG:root:------EDUCATION INSTITUTIONS------\n",
            "DEBUG:root:------PARENTS NAMES------\n",
            "DEBUG:root:------SPOUSES NAMES------\n"
          ],
          "name": "stderr"
        },
        {
          "output_type": "stream",
          "text": [
            "[['Born', 'GPE'], []]\n",
            "info card is scraped successfully\n",
            "[['Born', 'PERSON'], []]\n",
            "[['Born', 'DATE'], ['1930-02-01', 'February 1930']]\n",
            "[['Born', 'GPE'], ['Netrokona', 'Bengal Presidency', 'British India', 'Pemal, ']]\n"
          ],
          "name": "stdout"
        },
        {
          "output_type": "stream",
          "text": [
            "DEBUG:root:------BIRTHDAY MATCHING------\n",
            "DEBUG:root:------BIRTH PLACES------\n",
            "DEBUG:root:------NOUN CHUNCK MATCHING FOR BP------\n",
            "DEBUG:root:------CHILDREN NAMES------\n"
          ],
          "name": "stderr"
        },
        {
          "output_type": "stream",
          "text": [
            "[['Education', 'ORG'], []]\n"
          ],
          "name": "stdout"
        },
        {
          "output_type": "stream",
          "text": [
            "DEBUG:root:------EDUCATION INSTITUTIONS------\n",
            "DEBUG:root:------NOUN CHUNCK MATCHING FOR EDUCATION------\n",
            "DEBUG:root:------PARENTS NAMES------\n",
            "DEBUG:root:------SPOUSES NAMES------\n"
          ],
          "name": "stderr"
        },
        {
          "output_type": "stream",
          "text": [
            "info card is scraped successfully\n",
            "[['Born', 'PERSON'], []]\n",
            "[['Born', 'DATE'], ['1940-05-01', '1 May 1940']]\n"
          ],
          "name": "stdout"
        },
        {
          "output_type": "stream",
          "text": [
            "DEBUG:root:------BIRTHDAY MATCHING------\n",
            "DEBUG:root:------BIRTH PLACES------\n",
            "DEBUG:root:------NOUN CHUNCK MATCHING FOR BP------\n",
            "DEBUG:root:------CHILDREN NAMES------\n",
            "DEBUG:root:------EDUCATION INSTITUTIONS------\n",
            "DEBUG:root:------PARENTS NAMES------\n",
            "DEBUG:root:------SPOUSES NAMES------\n"
          ],
          "name": "stderr"
        },
        {
          "output_type": "stream",
          "text": [
            "[['Born', 'GPE'], ['Bengal Presidency', 'British India', 'Munshiganj']]\n",
            "info card is scraped successfully\n",
            "[['Born', 'PERSON'], []]\n",
            "[['Born', 'DATE'], ['1930-02-01', 'February 1930']]\n",
            "[['Born', 'GPE'], ['Bengal Presidency', 'British India', 'West Bengal', 'Dinhata']]\n",
            "[['Spouse(s)', 'PERSON'], ['Rowshan Ershad', 'Bidisha Siddique']]\n"
          ],
          "name": "stdout"
        },
        {
          "output_type": "stream",
          "text": [
            "DEBUG:root:------BIRTHDAY MATCHING------\n",
            "DEBUG:root:------BIRTH PLACES------\n",
            "DEBUG:root:------NOUN CHUNCK MATCHING FOR BP------\n",
            "DEBUG:root:------CHILDREN NAMES------\n",
            "DEBUG:root:------EDUCATION INSTITUTIONS------\n",
            "DEBUG:root:------PARENTS NAMES------\n",
            "DEBUG:root:------SPOUSES NAMES------\n",
            "DEBUG:root:('Rowshan Ershad', 'SP', (3931, 3933))\n",
            "DEBUG:root:('Rowshan', 'SP', (3992, 3993))\n",
            "DEBUG:root:('Rowshan Ershad', 'SP', (4069, 4071))\n",
            "DEBUG:root:('Rowshan', 'SP', (4103, 4104))\n",
            "DEBUG:root:('Rowshan', 'SP', (4139, 4140))\n",
            "DEBUG:root:------NOUN CHUNCK MATCHING FOR SPOUSES------\n",
            "DEBUG:root:('Rowshan Ershad', 'SP', (3931, 3933))\n",
            "DEBUG:root:('Rowshan', 'SP', (3992, 3993))\n",
            "DEBUG:root:('Rowshan Ershad', 'SP', (4069, 4071))\n",
            "DEBUG:root:('Rowshan', 'SP', (4103, 4104))\n",
            "DEBUG:root:('Rowshan', 'SP', (4139, 4140))\n",
            "DEBUG:root:('Bidisha', 'SP', (4183, 4184))\n"
          ],
          "name": "stderr"
        },
        {
          "output_type": "stream",
          "text": [
            "info card is scraped successfully\n",
            "[['Born', 'PERSON'], ['Mohammed Zillur Rahman']]\n",
            "[['Born', 'DATE'], ['1929-03-09', '9 March 1929']]\n",
            "[['Born', 'GPE'], ['Bengal Presidency', 'British India', 'Kishoreganj']]\n",
            "[['Children', 'PERSON'], ['Nazmul Hasan Papon']]\n",
            "[['Spouse(s)', 'PERSON'], ['Ivy Rahman']]\n",
            "[['Education', 'ORG'], []]\n"
          ],
          "name": "stdout"
        },
        {
          "output_type": "stream",
          "text": [
            "DEBUG:root:------BIRTHDAY MATCHING------\n",
            "DEBUG:root:------BIRTH PLACES------\n",
            "DEBUG:root:------NOUN CHUNCK MATCHING FOR BP------\n",
            "DEBUG:root:------CHILDREN NAMES------\n",
            "DEBUG:root:------NOUN CHUNCK MATCHING CHILDREN------\n",
            "DEBUG:root:------EDUCATION INSTITUTIONS------\n",
            "DEBUG:root:------NOUN CHUNCK MATCHING FOR EDUCATION------\n",
            "DEBUG:root:------PARENTS NAMES------\n",
            "DEBUG:root:------SPOUSES NAMES------\n",
            "DEBUG:root:------NOUN CHUNCK MATCHING FOR SPOUSES------\n",
            "DEBUG:root:('Ivy Rahman', 'SP', (568, 570))\n",
            "DEBUG:root:('fellow Awami League politician Ivy Rahman', 'SP', (1014, 1020))\n",
            "DEBUG:root:('Ivy', 'SP', (1030, 1031))\n"
          ],
          "name": "stderr"
        },
        {
          "output_type": "stream",
          "text": [
            "info card is scraped successfully\n",
            "[['Born', 'PERSON'], []]\n",
            "[['Born', 'DATE'], ['1943-07-19', '19 July 1943']]\n",
            "[['Born', 'GPE'], []]\n"
          ],
          "name": "stdout"
        },
        {
          "output_type": "stream",
          "text": [
            "DEBUG:root:------BIRTHDAY MATCHING------\n",
            "DEBUG:root:------BIRTH PLACES------\n",
            "DEBUG:root:------NOUN CHUNCK MATCHING FOR BP------\n",
            "DEBUG:root:------CHILDREN NAMES------\n",
            "DEBUG:root:------EDUCATION INSTITUTIONS------\n",
            "DEBUG:root:------PARENTS NAMES------\n",
            "DEBUG:root:------SPOUSES NAMES------\n",
            "DEBUG:root:------NOUN CHUNCK MATCHING FOR SPOUSES------\n",
            "DEBUG:root:('former Bangladesh president Hussain Muhammad Ershad', 'SP', (59, 65))\n",
            "DEBUG:root:('Hussain Muhammad Ershad', 'SP', (142, 145))\n"
          ],
          "name": "stderr"
        },
        {
          "output_type": "stream",
          "text": [
            "[['Spouse(s)', 'PERSON'], ['Hussain Mohammad Ershad']]\n",
            "info card is scraped successfully\n",
            "[['Born', 'PERSON'], ['Khaleda Khanam Putul']]\n",
            "[['Born', 'DATE'], []]\n",
            "[['Born', 'GPE'], ['Bengal Presidency', 'British India']]\n",
            "[['Children', 'PERSON'], ['Tarique', 'Arafat']]\n",
            "[['Spouse(s)', 'PERSON'], []]\n"
          ],
          "name": "stdout"
        },
        {
          "output_type": "stream",
          "text": [
            "DEBUG:root:------BIRTHDAY MATCHING------\n",
            "DEBUG:root:------BIRTH PLACES------\n",
            "DEBUG:root:------NOUN CHUNCK MATCHING FOR BP------\n",
            "DEBUG:root:------CHILDREN NAMES------\n",
            "DEBUG:root:('Tarique Rahman', 'CH', (625, 627))\n",
            "DEBUG:root:('Arafat Rahman', 'CH', (654, 656))\n",
            "DEBUG:root:('Arafat Rahman', 'CH', (2097, 2099))\n",
            "DEBUG:root:('Arafat', 'CH', (2130, 2131))\n",
            "DEBUG:root:------NOUN CHUNCK MATCHING CHILDREN------\n",
            "DEBUG:root:('Tarique Rahman', 'CH', (625, 627))\n",
            "DEBUG:root:('Arafat Rahman', 'CH', (654, 656))\n",
            "DEBUG:root:('Tareque Rahman', 'CH', (2058, 2060))\n",
            "DEBUG:root:('Arafat Rahman', 'CH', (2097, 2099))\n",
            "DEBUG:root:('Arafat', 'CH', (2130, 2131))\n",
            "DEBUG:root:------EDUCATION INSTITUTIONS------\n",
            "DEBUG:root:------PARENTS NAMES------\n",
            "DEBUG:root:------SPOUSES NAMES------\n",
            "DEBUG:root:------NOUN CHUNCK MATCHING FOR SPOUSES------\n"
          ],
          "name": "stderr"
        },
        {
          "output_type": "stream",
          "text": [
            "info card is scraped successfully\n",
            "[['Born', 'PERSON'], ['Jessore District']]\n",
            "[['Born', 'DATE'], ['1936-03-01', '1 March 1936']]\n"
          ],
          "name": "stdout"
        },
        {
          "output_type": "stream",
          "text": [
            "DEBUG:root:------BIRTHDAY MATCHING------\n",
            "DEBUG:root:------BIRTH PLACES------\n",
            "DEBUG:root:------NOUN CHUNCK MATCHING FOR BP------\n",
            "DEBUG:root:------CHILDREN NAMES------\n",
            "DEBUG:root:------EDUCATION INSTITUTIONS------\n",
            "DEBUG:root:------PARENTS NAMES------\n",
            "DEBUG:root:------SPOUSES NAMES------\n"
          ],
          "name": "stderr"
        },
        {
          "output_type": "stream",
          "text": [
            "[['Born', 'GPE'], ['Bengal Presidency', 'British India', 'Jessore District']]\n",
            "info card is scraped successfully\n",
            "[['Born', 'PERSON'], []]\n",
            "[['Born', 'DATE'], ['1931-02-01', '1 February 1931']]\n",
            "[['Born', 'GPE'], ['Bengal Presidency', 'British India', 'Munshiganj']]\n",
            "[['Children', 'PERSON'], ['Sujan Ahmad']]\n",
            "[['Spouse(s)', 'PERSON'], ['Anwara Begum']]\n"
          ],
          "name": "stdout"
        },
        {
          "output_type": "stream",
          "text": [
            "DEBUG:root:------BIRTHDAY MATCHING------\n",
            "DEBUG:root:------BIRTH PLACES------\n",
            "DEBUG:root:------NOUN CHUNCK MATCHING FOR BP------\n",
            "DEBUG:root:------CHILDREN NAMES------\n",
            "DEBUG:root:------NOUN CHUNCK MATCHING CHILDREN------\n",
            "DEBUG:root:------EDUCATION INSTITUTIONS------\n",
            "DEBUG:root:------PARENTS NAMES------\n",
            "DEBUG:root:------SPOUSES NAMES------\n",
            "DEBUG:root:('Anwara Begum', 'SP', (1284, 1286))\n",
            "DEBUG:root:------NOUN CHUNCK MATCHING FOR SPOUSES------\n",
            "DEBUG:root:('Anwara Begum', 'SP', (1284, 1286))\n"
          ],
          "name": "stderr"
        },
        {
          "output_type": "stream",
          "text": [
            "info card is scraped successfully\n",
            "[['Born', 'PERSON'], []]\n",
            "[['Born', 'DATE'], ['1932-11-01', '1 November 1932']]\n",
            "[['Born', 'GPE'], ['Bengal Presidency', 'British India', 'Comilla']]\n"
          ],
          "name": "stdout"
        },
        {
          "output_type": "stream",
          "text": [
            "DEBUG:root:------BIRTHDAY MATCHING------\n",
            "DEBUG:root:------BIRTH PLACES------\n",
            "DEBUG:root:------NOUN CHUNCK MATCHING FOR BP------\n",
            "DEBUG:root:------CHILDREN NAMES------\n",
            "DEBUG:root:------NOUN CHUNCK MATCHING CHILDREN------\n",
            "DEBUG:root:('Mahi B. Chowdhury', 'CH', (514, 517))\n",
            "DEBUG:root:('Mahi B. Chowdhury', 'CH', (703, 706))\n",
            "DEBUG:root:------EDUCATION INSTITUTIONS------\n",
            "DEBUG:root:------PARENTS NAMES------\n",
            "DEBUG:root:------SPOUSES NAMES------\n"
          ],
          "name": "stderr"
        },
        {
          "output_type": "stream",
          "text": [
            "[['Children', 'PERSON'], ['Mahi B. Chowdhury']]\n",
            "info card is scraped successfully\n",
            "[['Born', 'PERSON'], ['Kopys']]\n",
            "[['Born', 'DATE'], ['1954-08-30', '30 August 1954']]\n",
            "[['Born', 'GPE'], ['Byelorussian SSR', 'Soviet Union', 'Kopys']]\n",
            "[['Children', 'PERSON'], ['Viktor', 'Dmitry', 'Nikolai']]\n",
            "[['Spouse(s)', 'PERSON'], ['Galina Zhelnerovich']]\n"
          ],
          "name": "stdout"
        },
        {
          "output_type": "stream",
          "text": [
            "DEBUG:root:------BIRTHDAY MATCHING------\n",
            "DEBUG:root:------BIRTH PLACES------\n",
            "DEBUG:root:------NOUN CHUNCK MATCHING FOR BP------\n",
            "DEBUG:root:------CHILDREN NAMES------\n",
            "DEBUG:root:('Dmitry Rogozin', 'CH', (2429, 2431))\n",
            "DEBUG:root:('Viktor', 'CH', (5263, 5264))\n",
            "DEBUG:root:('Viktor', 'CH', (5321, 5322))\n",
            "DEBUG:root:('Nikolai', 'CH', (5362, 5363))\n",
            "DEBUG:root:('Nikolai', 'CH', (5415, 5416))\n",
            "DEBUG:root:('Nikolai', 'CH', (5461, 5462))\n",
            "DEBUG:root:------NOUN CHUNCK MATCHING CHILDREN------\n",
            "DEBUG:root:('Dmitry Rogozin', 'CH', (2429, 2431))\n",
            "DEBUG:root:('Viktar Hanchar', 'CH', (4421, 4423))\n",
            "DEBUG:root:('journalist Dzmitry Zavadski', 'CH', (4428, 4431))\n",
            "DEBUG:root:('Viktor', 'CH', (5263, 5264))\n",
            "DEBUG:root:('Dmitry', 'CH', (5273, 5274))\n",
            "DEBUG:root:('Viktor', 'CH', (5321, 5322))\n",
            "DEBUG:root:('Nikolai', 'CH', (5362, 5363))\n",
            "DEBUG:root:('Nikolai', 'CH', (5461, 5462))\n",
            "DEBUG:root:------EDUCATION INSTITUTIONS------\n",
            "DEBUG:root:------PARENTS NAMES------\n",
            "DEBUG:root:------SPOUSES NAMES------\n",
            "DEBUG:root:('Galina', 'SP', (5281, 5282))\n",
            "DEBUG:root:------NOUN CHUNCK MATCHING FOR SPOUSES------\n",
            "DEBUG:root:('Galina Zhelnerovich', 'SP', (5244, 5246))\n",
            "DEBUG:root:('Galina', 'SP', (5281, 5282))\n",
            "DEBUG:root:('Galina Lukashenko', 'SP', (5303, 5305))\n"
          ],
          "name": "stderr"
        },
        {
          "output_type": "stream",
          "text": [
            "info card is scraped successfully\n",
            "[['Born', 'PERSON'], []]\n",
            "[['Born', 'DATE'], ['1958-05-01', '1 May 1958']]\n",
            "[['Born', 'GPE'], ['Dahomey', 'Ouidah']]\n",
            "[['Children', 'PERSON'], []]\n"
          ],
          "name": "stdout"
        },
        {
          "output_type": "stream",
          "text": [
            "DEBUG:root:------BIRTHDAY MATCHING------\n",
            "DEBUG:root:------BIRTH PLACES------\n",
            "DEBUG:root:------NOUN CHUNCK MATCHING FOR BP------\n",
            "DEBUG:root:------CHILDREN NAMES------\n",
            "DEBUG:root:------NOUN CHUNCK MATCHING CHILDREN------\n",
            "DEBUG:root:------EDUCATION INSTITUTIONS------\n",
            "DEBUG:root:------PARENTS NAMES------\n",
            "DEBUG:root:------SPOUSES NAMES------\n",
            "DEBUG:root:('Claudine Gbènagnon', 'SP', (773, 775))\n",
            "DEBUG:root:------NOUN CHUNCK MATCHING FOR SPOUSES------\n"
          ],
          "name": "stderr"
        },
        {
          "output_type": "stream",
          "text": [
            "[['Spouse(s)', 'PERSON'], ['Claudine Gbènagnon']]\n"
          ],
          "name": "stdout"
        },
        {
          "output_type": "stream",
          "text": [
            "DEBUG:root:('Claudine Gbènagnon', 'SP', (773, 775))\n"
          ],
          "name": "stderr"
        },
        {
          "output_type": "stream",
          "text": [
            "info card is scraped successfully\n",
            "[['Born', 'PERSON'], ['Thomas Yayi Boni']]\n",
            "[['Born', 'DATE'], ['1951-07-01', 'July 1951']]\n",
            "[['Born', 'GPE'], ['Dahomey', 'Tchaourou']]\n",
            "[['Children', 'PERSON'], []]\n"
          ],
          "name": "stdout"
        },
        {
          "output_type": "stream",
          "text": [
            "DEBUG:root:------BIRTHDAY MATCHING------\n",
            "DEBUG:root:------BIRTH PLACES------\n",
            "DEBUG:root:------NOUN CHUNCK MATCHING FOR BP------\n"
          ],
          "name": "stderr"
        },
        {
          "output_type": "stream",
          "text": [
            "[['Spouse(s)', 'PERSON'], ['Chantal Boni Yayi']]\n"
          ],
          "name": "stdout"
        },
        {
          "output_type": "stream",
          "text": [
            "DEBUG:root:------CHILDREN NAMES------\n",
            "DEBUG:root:------NOUN CHUNCK MATCHING CHILDREN------\n",
            "DEBUG:root:------EDUCATION INSTITUTIONS------\n",
            "DEBUG:root:------PARENTS NAMES------\n",
            "DEBUG:root:------SPOUSES NAMES------\n",
            "DEBUG:root:('Chantal', 'SP', (993, 994))\n",
            "DEBUG:root:------NOUN CHUNCK MATCHING FOR SPOUSES------\n",
            "DEBUG:root:('Chantal', 'SP', (993, 994))\n"
          ],
          "name": "stderr"
        },
        {
          "output_type": "stream",
          "text": [
            "info card is scraped successfully\n",
            "[['Born', 'PERSON'], []]\n",
            "[['Born', 'DATE'], ['August 10, 1916']]\n",
            "[['Born', 'GPE'], ['Dahomey', 'Parakou']]\n"
          ],
          "name": "stdout"
        },
        {
          "output_type": "stream",
          "text": [
            "DEBUG:root:------BIRTHDAY MATCHING------\n",
            "DEBUG:root:------BIRTH PLACES------\n",
            "DEBUG:root:------NOUN CHUNCK MATCHING FOR BP------\n",
            "DEBUG:root:------CHILDREN NAMES------\n",
            "DEBUG:root:------EDUCATION INSTITUTIONS------\n",
            "DEBUG:root:------PARENTS NAMES------\n",
            "DEBUG:root:------SPOUSES NAMES------\n"
          ],
          "name": "stderr"
        },
        {
          "output_type": "stream",
          "text": [
            "info card is scraped successfully\n",
            "[['Born', 'PERSON'], []]\n",
            "[['Born', 'DATE'], ['1917-01-16', 'January 16, 1917']]\n",
            "[['Born', 'GPE'], ['Dahomey', 'Abomey']]\n"
          ],
          "name": "stdout"
        },
        {
          "output_type": "stream",
          "text": [
            "DEBUG:root:------BIRTHDAY MATCHING------\n",
            "DEBUG:root:------BIRTH PLACES------\n",
            "DEBUG:root:------NOUN CHUNCK MATCHING FOR BP------\n",
            "DEBUG:root:------CHILDREN NAMES------\n",
            "DEBUG:root:------EDUCATION INSTITUTIONS------\n",
            "DEBUG:root:------PARENTS NAMES------\n",
            "DEBUG:root:------SPOUSES NAMES------\n"
          ],
          "name": "stderr"
        },
        {
          "output_type": "stream",
          "text": [
            "info card is scraped successfully\n",
            "[['Born', 'PERSON'], []]\n",
            "[['Born', 'DATE'], ['1909-06-28', '28 June 1909']]\n"
          ],
          "name": "stdout"
        },
        {
          "output_type": "stream",
          "text": [
            "DEBUG:root:------BIRTHDAY MATCHING------\n",
            "DEBUG:root:------BIRTH PLACES------\n",
            "DEBUG:root:------NOUN CHUNCK MATCHING FOR BP------\n",
            "DEBUG:root:------CHILDREN NAMES------\n",
            "DEBUG:root:------EDUCATION INSTITUTIONS------\n",
            "DEBUG:root:------PARENTS NAMES------\n",
            "DEBUG:root:------SPOUSES NAMES------\n"
          ],
          "name": "stderr"
        },
        {
          "output_type": "stream",
          "text": [
            "[['Born', 'GPE'], ['Dahomey', 'Abomey']]\n",
            "info card is scraped successfully\n",
            "[['Born', 'PERSON'], []]\n",
            "[['Born', 'DATE'], ['1933-09-02', 'September 1933']]\n",
            "[['Born', 'GPE'], ['French Dahomey', 'Kouarfa']]\n"
          ],
          "name": "stdout"
        },
        {
          "output_type": "stream",
          "text": [
            "DEBUG:root:------BIRTHDAY MATCHING------\n",
            "DEBUG:root:------BIRTH PLACES------\n",
            "DEBUG:root:------NOUN CHUNCK MATCHING FOR BP------\n",
            "DEBUG:root:------CHILDREN NAMES------\n",
            "DEBUG:root:------EDUCATION INSTITUTIONS------\n",
            "DEBUG:root:------PARENTS NAMES------\n",
            "DEBUG:root:------SPOUSES NAMES------\n"
          ],
          "name": "stderr"
        },
        {
          "output_type": "stream",
          "text": [
            "info card is scraped successfully\n",
            "[['Born', 'PERSON'], []]\n",
            "[['Born', 'DATE'], ['1913-04-08', 'April 8, 1913']]\n",
            "[['Born', 'GPE'], ['Dahomey', 'Porto-Novo']]\n"
          ],
          "name": "stdout"
        },
        {
          "output_type": "stream",
          "text": [
            "DEBUG:root:------BIRTHDAY MATCHING------\n",
            "DEBUG:root:------BIRTH PLACES------\n",
            "DEBUG:root:------NOUN CHUNCK MATCHING FOR BP------\n",
            "DEBUG:root:------CHILDREN NAMES------\n",
            "DEBUG:root:------EDUCATION INSTITUTIONS------\n",
            "DEBUG:root:------PARENTS NAMES------\n",
            "DEBUG:root:------SPOUSES NAMES------\n"
          ],
          "name": "stderr"
        },
        {
          "output_type": "stream",
          "text": [
            "info card is scraped successfully\n",
            "[['Born', 'PERSON'], ['Juan Evo']]\n",
            "[['Born', 'DATE'], ['1959-10-26']]\n",
            "[['Born', 'GPE'], []]\n",
            "[['Children', 'PERSON'], []]\n",
            "[['Parents', 'PERSON'], ['Dionisio Morales Choque', 'María Ayma Mamani']]\n"
          ],
          "name": "stdout"
        },
        {
          "output_type": "stream",
          "text": [
            "DEBUG:root:------BIRTHDAY MATCHING------\n",
            "DEBUG:root:------BIRTH PLACES------\n",
            "DEBUG:root:------NOUN CHUNCK MATCHING FOR BP------\n",
            "DEBUG:root:------CHILDREN NAMES------\n",
            "DEBUG:root:------NOUN CHUNCK MATCHING CHILDREN------\n",
            "DEBUG:root:------EDUCATION INSTITUTIONS------\n",
            "DEBUG:root:------PARENTS NAMES------\n",
            "DEBUG:root:------PERSON ENTITY MATCHING FOR PARENTS------\n",
            "DEBUG:root:('María Ayma Mamani', 'PR', (612, 615))\n",
            "DEBUG:root:------NOUN CHUNCK MATCHING FOR PARENTS------\n",
            "DEBUG:root:------SPOUSES NAMES------\n"
          ],
          "name": "stderr"
        },
        {
          "output_type": "stream",
          "text": [
            "info card is scraped successfully\n",
            "[['Born', 'PERSON'], []]\n",
            "[['Born', 'DATE'], ['1933-06-03']]\n"
          ],
          "name": "stdout"
        },
        {
          "output_type": "stream",
          "text": [
            "DEBUG:root:------BIRTHDAY MATCHING------\n",
            "DEBUG:root:------BIRTH PLACES------\n",
            "DEBUG:root:------NOUN CHUNCK MATCHING FOR BP------\n",
            "DEBUG:root:------CHILDREN NAMES------\n",
            "DEBUG:root:------EDUCATION INSTITUTIONS------\n",
            "DEBUG:root:------PARENTS NAMES------\n",
            "DEBUG:root:------SPOUSES NAMES------\n"
          ],
          "name": "stderr"
        },
        {
          "output_type": "stream",
          "text": [
            "[['Born', 'GPE'], ['Bolivia']]\n",
            "info card is scraped successfully\n",
            "[['Born', 'PERSON'], []]\n",
            "[['Born', 'DATE'], ['1914-03-21', '21 March 1914']]\n",
            "[['Born', 'GPE'], ['Bolivia', 'La Paz']]\n",
            "[['Children', 'PERSON'], []]\n",
            "[['Spouse(s)', 'PERSON'], ['María Teresa Ormachea de Siles']]\n"
          ],
          "name": "stdout"
        },
        {
          "output_type": "stream",
          "text": [
            "DEBUG:root:------BIRTHDAY MATCHING------\n",
            "DEBUG:root:------BIRTH PLACES------\n",
            "DEBUG:root:------NOUN CHUNCK MATCHING FOR BP------\n",
            "DEBUG:root:------CHILDREN NAMES------\n",
            "DEBUG:root:------NOUN CHUNCK MATCHING CHILDREN------\n",
            "DEBUG:root:------EDUCATION INSTITUTIONS------\n",
            "DEBUG:root:------PARENTS NAMES------\n",
            "DEBUG:root:------SPOUSES NAMES------\n",
            "DEBUG:root:------NOUN CHUNCK MATCHING FOR SPOUSES------\n"
          ],
          "name": "stderr"
        },
        {
          "output_type": "stream",
          "text": [
            "info card is scraped successfully\n",
            "[['Born', 'PERSON'], ['Carlos Diego Mesa Gisbert']]\n",
            "[['Born', 'DATE'], ['1953-08-12', 'August 12, 1953']]\n",
            "[['Born', 'GPE'], ['Bolivia', 'La Paz']]\n"
          ],
          "name": "stdout"
        },
        {
          "output_type": "stream",
          "text": [
            "DEBUG:root:------BIRTHDAY MATCHING------\n",
            "DEBUG:root:------BIRTH PLACES------\n",
            "DEBUG:root:------NOUN CHUNCK MATCHING FOR BP------\n",
            "DEBUG:root:------CHILDREN NAMES------\n",
            "DEBUG:root:------EDUCATION INSTITUTIONS------\n",
            "DEBUG:root:------PARENTS NAMES------\n",
            "DEBUG:root:------SPOUSES NAMES------\n",
            "DEBUG:root:------NOUN CHUNCK MATCHING FOR SPOUSES------\n"
          ],
          "name": "stderr"
        },
        {
          "output_type": "stream",
          "text": [
            "[['Spouse(s)', 'PERSON'], ['Elvira Salinas de Mesa']]\n",
            "info card is scraped successfully\n",
            "[['Born', 'PERSON'], []]\n",
            "[['Born', 'DATE'], ['1939-04-15', 'April 15, 1939']]\n",
            "[['Born', 'GPE'], ['Bolivia', 'Cochabamba']]\n",
            "[['Spouse(s)', 'PERSON'], []]\n"
          ],
          "name": "stdout"
        },
        {
          "output_type": "stream",
          "text": [
            "DEBUG:root:------BIRTHDAY MATCHING------\n",
            "DEBUG:root:------BIRTH PLACES------\n",
            "DEBUG:root:------NOUN CHUNCK MATCHING FOR BP------\n",
            "DEBUG:root:------CHILDREN NAMES------\n",
            "DEBUG:root:------EDUCATION INSTITUTIONS------\n",
            "DEBUG:root:------PARENTS NAMES------\n",
            "DEBUG:root:------SPOUSES NAMES------\n",
            "DEBUG:root:------NOUN CHUNCK MATCHING FOR SPOUSES------\n"
          ],
          "name": "stderr"
        },
        {
          "output_type": "stream",
          "text": [
            "info card is scraped successfully\n",
            "[['Born', 'PERSON'], ['Gonzalo Sánchez de Lozada']]\n",
            "[['Born', 'DATE'], ['1930-07-01', 'July 1, 1930']]\n",
            "[['Born', 'GPE'], ['Bolivia', 'La Paz']]\n",
            "[['Spouse(s)', 'PERSON'], ['Ximena Iturralde']]\n"
          ],
          "name": "stdout"
        },
        {
          "output_type": "stream",
          "text": [
            "DEBUG:root:------BIRTHDAY MATCHING------\n",
            "DEBUG:root:------BIRTH PLACES------\n",
            "DEBUG:root:------NOUN CHUNCK MATCHING FOR BP------\n",
            "DEBUG:root:------CHILDREN NAMES------\n",
            "DEBUG:root:------EDUCATION INSTITUTIONS------\n",
            "DEBUG:root:------PARENTS NAMES------\n",
            "DEBUG:root:------SPOUSES NAMES------\n",
            "DEBUG:root:------NOUN CHUNCK MATCHING FOR SPOUSES------\n"
          ],
          "name": "stderr"
        },
        {
          "output_type": "stream",
          "text": [
            "info card is scraped successfully\n",
            "[['Born', 'PERSON'], ['Hugo Banzer Suárez']]\n",
            "[['Born', 'DATE'], ['1926-05-10', 'May 10, 1926']]\n",
            "[['Born', 'GPE'], ['Santa Cruz', 'Concepción']]\n",
            "[['Children', 'PERSON'], []]\n",
            "[['Spouse(s)', 'PERSON'], []]\n"
          ],
          "name": "stdout"
        },
        {
          "output_type": "stream",
          "text": [
            "DEBUG:root:------BIRTHDAY MATCHING------\n",
            "DEBUG:root:------BIRTH PLACES------\n",
            "DEBUG:root:------NOUN CHUNCK MATCHING FOR BP------\n",
            "DEBUG:root:------CHILDREN NAMES------\n",
            "DEBUG:root:------NOUN CHUNCK MATCHING CHILDREN------\n",
            "DEBUG:root:------EDUCATION INSTITUTIONS------\n",
            "DEBUG:root:------PARENTS NAMES------\n",
            "DEBUG:root:------SPOUSES NAMES------\n",
            "DEBUG:root:------NOUN CHUNCK MATCHING FOR SPOUSES------\n"
          ],
          "name": "stderr"
        },
        {
          "output_type": "stream",
          "text": [
            "info card is scraped successfully\n",
            "[['Born', 'PERSON'], ['David Padilla Arancibia']]\n",
            "[['Born', 'DATE'], ['1927-08-13', '13 August 1927']]\n"
          ],
          "name": "stdout"
        },
        {
          "output_type": "stream",
          "text": [
            "DEBUG:root:------BIRTHDAY MATCHING------\n",
            "DEBUG:root:------BIRTH PLACES------\n",
            "DEBUG:root:------NOUN CHUNCK MATCHING FOR BP------\n",
            "DEBUG:root:------CHILDREN NAMES------\n",
            "DEBUG:root:------EDUCATION INSTITUTIONS------\n",
            "DEBUG:root:------PARENTS NAMES------\n",
            "DEBUG:root:------SPOUSES NAMES------\n"
          ],
          "name": "stderr"
        },
        {
          "output_type": "stream",
          "text": [
            "[['Born', 'GPE'], ['Sucre']]\n",
            "info card is scraped successfully\n",
            "[['Born', 'PERSON'], ['Juan Pereda Asbún']]\n",
            "[['Born', 'DATE'], ['1931-06-17', 'June 17, 1931']]\n"
          ],
          "name": "stdout"
        },
        {
          "output_type": "stream",
          "text": [
            "DEBUG:root:------BIRTHDAY MATCHING------\n",
            "DEBUG:root:------BIRTH PLACES------\n",
            "DEBUG:root:------NOUN CHUNCK MATCHING FOR BP------\n",
            "DEBUG:root:------CHILDREN NAMES------\n",
            "DEBUG:root:------EDUCATION INSTITUTIONS------\n",
            "DEBUG:root:------PARENTS NAMES------\n",
            "DEBUG:root:------SPOUSES NAMES------\n"
          ],
          "name": "stderr"
        },
        {
          "output_type": "stream",
          "text": [
            "[['Born', 'GPE'], ['Bolivia', 'La Paz']]\n",
            "info card is scraped successfully\n",
            "[['Born', 'PERSON'], ['Guido Vildoso Calderón']]\n",
            "[['Born', 'DATE'], ['1937-04-05', '5 April 1937']]\n"
          ],
          "name": "stdout"
        },
        {
          "output_type": "stream",
          "text": [
            "DEBUG:root:------BIRTHDAY MATCHING------\n",
            "DEBUG:root:------BIRTH PLACES------\n",
            "DEBUG:root:------NOUN CHUNCK MATCHING FOR BP------\n",
            "DEBUG:root:------CHILDREN NAMES------\n",
            "DEBUG:root:------EDUCATION INSTITUTIONS------\n",
            "DEBUG:root:------PARENTS NAMES------\n",
            "DEBUG:root:------SPOUSES NAMES------\n"
          ],
          "name": "stderr"
        },
        {
          "output_type": "stream",
          "text": [
            "[['Born', 'GPE'], ['Bolivia', 'La Paz']]\n",
            "info card is scraped successfully\n",
            "[['Born', 'PERSON'], []]\n",
            "[['Born', 'DATE'], ['1907-10-02']]\n",
            "[['Born', 'GPE'], ['Bolivia']]\n",
            "[['Spouse(s)', 'PERSON'], ['María Teresa Cortés de Paz Estenssoro']]\n"
          ],
          "name": "stdout"
        },
        {
          "output_type": "stream",
          "text": [
            "DEBUG:root:------BIRTHDAY MATCHING------\n",
            "DEBUG:root:------BIRTH PLACES------\n",
            "DEBUG:root:------NOUN CHUNCK MATCHING FOR BP------\n",
            "DEBUG:root:------CHILDREN NAMES------\n",
            "DEBUG:root:------EDUCATION INSTITUTIONS------\n",
            "DEBUG:root:------PARENTS NAMES------\n",
            "DEBUG:root:------SPOUSES NAMES------\n",
            "DEBUG:root:------NOUN CHUNCK MATCHING FOR SPOUSES------\n"
          ],
          "name": "stderr"
        },
        {
          "output_type": "stream",
          "text": [
            "info card is scraped successfully\n",
            "[['Born', 'PERSON'], []]\n",
            "[['Born', 'DATE'], ['1921-08-28', '28 August 1921']]\n"
          ],
          "name": "stdout"
        },
        {
          "output_type": "stream",
          "text": [
            "DEBUG:root:------BIRTHDAY MATCHING------\n",
            "DEBUG:root:------BIRTH PLACES------\n",
            "DEBUG:root:------NOUN CHUNCK MATCHING FOR BP------\n",
            "DEBUG:root:------CHILDREN NAMES------\n",
            "DEBUG:root:------EDUCATION INSTITUTIONS------\n",
            "DEBUG:root:------PARENTS NAMES------\n",
            "DEBUG:root:------SPOUSES NAMES------\n"
          ],
          "name": "stderr"
        },
        {
          "output_type": "stream",
          "text": [
            "[['Born', 'GPE'], ['Bolivia', 'Cochabamba']]\n",
            "info card is scraped successfully\n",
            "[['Born', 'PERSON'], []]\n",
            "[['Born', 'DATE'], ['1956-03-02', 'March 2, 1956']]\n",
            "[['Born', 'GPE'], ['Cochabamba']]\n"
          ],
          "name": "stdout"
        },
        {
          "output_type": "stream",
          "text": [
            "DEBUG:root:------BIRTHDAY MATCHING------\n",
            "DEBUG:root:------BIRTH PLACES------\n",
            "DEBUG:root:------NOUN CHUNCK MATCHING FOR BP------\n",
            "DEBUG:root:------CHILDREN NAMES------\n",
            "DEBUG:root:------EDUCATION INSTITUTIONS------\n",
            "DEBUG:root:------PARENTS NAMES------\n",
            "DEBUG:root:------SPOUSES NAMES------\n",
            "DEBUG:root:------NOUN CHUNCK MATCHING FOR SPOUSES------\n"
          ],
          "name": "stderr"
        },
        {
          "output_type": "stream",
          "text": [
            "[['Spouse(s)', 'PERSON'], ['Fanny Elena Arguedas']]\n",
            "info card is scraped successfully\n",
            "[['Born', 'PERSON'], ['Wálter Guevara Arze']]\n",
            "[['Born', 'DATE'], ['1912-03-11', 'March 11, 1912']]\n"
          ],
          "name": "stdout"
        },
        {
          "output_type": "stream",
          "text": [
            "DEBUG:root:------BIRTHDAY MATCHING------\n",
            "DEBUG:root:------BIRTH PLACES------\n",
            "DEBUG:root:------NOUN CHUNCK MATCHING FOR BP------\n",
            "DEBUG:root:------CHILDREN NAMES------\n",
            "DEBUG:root:------EDUCATION INSTITUTIONS------\n",
            "DEBUG:root:------PARENTS NAMES------\n",
            "DEBUG:root:------SPOUSES NAMES------\n"
          ],
          "name": "stderr"
        },
        {
          "output_type": "stream",
          "text": [
            "[['Born', 'GPE'], ['Cochabamba Department', 'Bolivia', 'Ayopaya Province']]\n",
            "info card is scraped successfully\n",
            "[['Born', 'PERSON'], ['Luis García Meza Tejada']]\n",
            "[['Born', 'DATE'], ['1929-08-08', '8 August 1929']]\n",
            "[['Born', 'GPE'], ['Bolivia', 'La Paz']]\n",
            "[['Children', 'PERSON'], []]\n"
          ],
          "name": "stdout"
        },
        {
          "output_type": "stream",
          "text": [
            "DEBUG:root:------BIRTHDAY MATCHING------\n",
            "DEBUG:root:------BIRTH PLACES------\n",
            "DEBUG:root:------NOUN CHUNCK MATCHING FOR BP------\n",
            "DEBUG:root:------CHILDREN NAMES------\n",
            "DEBUG:root:------NOUN CHUNCK MATCHING CHILDREN------\n"
          ],
          "name": "stderr"
        },
        {
          "output_type": "stream",
          "text": [
            "[['Spouse(s)', 'PERSON'], ['Caballero', 'Olma Cabrera']]\n"
          ],
          "name": "stdout"
        },
        {
          "output_type": "stream",
          "text": [
            "DEBUG:root:------EDUCATION INSTITUTIONS------\n",
            "DEBUG:root:------PARENTS NAMES------\n",
            "DEBUG:root:------SPOUSES NAMES------\n",
            "DEBUG:root:------NOUN CHUNCK MATCHING FOR SPOUSES------\n"
          ],
          "name": "stderr"
        },
        {
          "output_type": "stream",
          "text": [
            "info card is scraped successfully\n",
            "[['Born', 'PERSON'], ['Alberto Natusch Busch']]\n",
            "[['Born', 'DATE'], ['1933-05-23', 'May 23, 1933']]\n"
          ],
          "name": "stdout"
        },
        {
          "output_type": "stream",
          "text": [
            "DEBUG:root:------BIRTHDAY MATCHING------\n",
            "DEBUG:root:------BIRTH PLACES------\n",
            "DEBUG:root:------NOUN CHUNCK MATCHING FOR BP------\n",
            "DEBUG:root:------CHILDREN NAMES------\n",
            "DEBUG:root:------EDUCATION INSTITUTIONS------\n",
            "DEBUG:root:------PARENTS NAMES------\n",
            "DEBUG:root:------SPOUSES NAMES------\n"
          ],
          "name": "stderr"
        },
        {
          "output_type": "stream",
          "text": [
            "[['Born', 'GPE'], ['Bolivia', 'Beni']]\n",
            "info card is scraped successfully\n",
            "[['Born', 'PERSON'], ['Mokgweetsi Eric Keabetswe']]\n",
            "[['Born', 'DATE'], ['1961-07-21', '21 July 1961']]\n",
            "[['Born', 'GPE'], ['Bechuanaland', 'Moshupa']]\n"
          ],
          "name": "stdout"
        },
        {
          "output_type": "stream",
          "text": [
            "DEBUG:root:------BIRTHDAY MATCHING------\n",
            "DEBUG:root:------BIRTH PLACES------\n",
            "DEBUG:root:------NOUN CHUNCK MATCHING FOR BP------\n",
            "DEBUG:root:------CHILDREN NAMES------\n",
            "DEBUG:root:------EDUCATION INSTITUTIONS------\n",
            "DEBUG:root:------PARENTS NAMES------\n",
            "DEBUG:root:------SPOUSES NAMES------\n",
            "DEBUG:root:------NOUN CHUNCK MATCHING FOR SPOUSES------\n",
            "DEBUG:root:('Neo Maswabi', 'SP', (265, 267))\n"
          ],
          "name": "stderr"
        },
        {
          "output_type": "stream",
          "text": [
            "[['Spouse(s)', 'PERSON'], ['Neo Masisi']]\n",
            "info card is scraped successfully\n",
            "[['Born', 'PERSON'], ['Goitsebeng Maphiri Khama']]\n",
            "[['Born', 'DATE'], ['1921-07-01', 'July 1921']]\n",
            "[['Born', 'GPE'], ['Bechuanaland', 'Serowe']]\n",
            "[['Children', 'PERSON'], ['Jacqueline Khama', 'Ian Khama', 'Tshekedi Khama II', 'Anthony Khama']]\n",
            "[['Spouse(s)', 'PERSON'], ['Ruth Williams Khama']]\n"
          ],
          "name": "stdout"
        },
        {
          "output_type": "stream",
          "text": [
            "DEBUG:root:------BIRTHDAY MATCHING------\n",
            "DEBUG:root:------BIRTH PLACES------\n",
            "DEBUG:root:------NOUN CHUNCK MATCHING FOR BP------\n",
            "DEBUG:root:------CHILDREN NAMES------\n",
            "DEBUG:root:('Tshekedi Khama', 'CH', (261, 263))\n",
            "DEBUG:root:('Tshekedi Khama', 'CH', (418, 420))\n",
            "DEBUG:root:('Tshekedi Khama', 'CH', (482, 484))\n",
            "DEBUG:root:('Ian', 'CH', (2073, 2074))\n",
            "DEBUG:root:('Tshekedi Khama II', 'CH', (2101, 2104))\n",
            "DEBUG:root:------NOUN CHUNCK MATCHING CHILDREN------\n",
            "DEBUG:root:('Tshekedi Khama', 'CH', (261, 263))\n",
            "DEBUG:root:('Tshekedi Khama', 'CH', (418, 420))\n",
            "DEBUG:root:('Tshekedi Khama', 'CH', (482, 484))\n",
            "DEBUG:root:('Ian', 'CH', (2073, 2074))\n",
            "DEBUG:root:('Tshekedi Khama II', 'CH', (2101, 2104))\n",
            "DEBUG:root:('Ian Khama', 'CH', (2115, 2117))\n",
            "DEBUG:root:------EDUCATION INSTITUTIONS------\n",
            "DEBUG:root:------PARENTS NAMES------\n",
            "DEBUG:root:------SPOUSES NAMES------\n",
            "DEBUG:root:------NOUN CHUNCK MATCHING FOR SPOUSES------\n",
            "DEBUG:root:('Ruth Williams', 'SP', (75, 77))\n",
            "DEBUG:root:('Ruth Williams', 'SP', (344, 346))\n",
            "DEBUG:root:('Ruth Williams Khama', 'SP', (465, 468))\n",
            "DEBUG:root:('Ruth Williams', 'SP', (2173, 2175))\n"
          ],
          "name": "stderr"
        },
        {
          "output_type": "stream",
          "text": [
            "info card is scraped successfully\n",
            "[['Born', 'PERSON'], ['Quett Ketumile Joni Masire']]\n",
            "[['Born', 'DATE'], ['1925-07-23', '23 July 1925']]\n",
            "[['Born', 'GPE'], ['Bechuanaland', 'Kanye']]\n",
            "[['Children', 'PERSON'], []]\n"
          ],
          "name": "stdout"
        },
        {
          "output_type": "stream",
          "text": [
            "DEBUG:root:------BIRTHDAY MATCHING------\n"
          ],
          "name": "stderr"
        },
        {
          "output_type": "stream",
          "text": [
            "[['Spouse(s)', 'PERSON'], ['Gladys Olebile']]\n"
          ],
          "name": "stdout"
        },
        {
          "output_type": "stream",
          "text": [
            "DEBUG:root:------BIRTH PLACES------\n",
            "DEBUG:root:------NOUN CHUNCK MATCHING FOR BP------\n",
            "DEBUG:root:------CHILDREN NAMES------\n",
            "DEBUG:root:------NOUN CHUNCK MATCHING CHILDREN------\n",
            "DEBUG:root:------EDUCATION INSTITUTIONS------\n",
            "DEBUG:root:------PARENTS NAMES------\n",
            "DEBUG:root:------SPOUSES NAMES------\n",
            "DEBUG:root:------NOUN CHUNCK MATCHING FOR SPOUSES------\n",
            "DEBUG:root:('Gladys Olebile Masire', 'SP', (407, 410))\n"
          ],
          "name": "stderr"
        },
        {
          "output_type": "stream",
          "text": [
            "info card is scraped successfully\n",
            "[['Born', 'PERSON'], ['Ian Seretse Khama']]\n",
            "[['Born', 'DATE'], ['1953-02-27', '27 February 1953']]\n",
            "[['Born', 'GPE'], ['England', 'UK', 'Chertsey']]\n",
            "[['Parents', 'PERSON'], ['Seretse Khama', 'Ruth Williams']]\n"
          ],
          "name": "stdout"
        },
        {
          "output_type": "stream",
          "text": [
            "DEBUG:root:------BIRTHDAY MATCHING------\n",
            "DEBUG:root:------BIRTH PLACES------\n",
            "DEBUG:root:------NOUN CHUNCK MATCHING FOR BP------\n",
            "DEBUG:root:------CHILDREN NAMES------\n",
            "DEBUG:root:------EDUCATION INSTITUTIONS------\n",
            "DEBUG:root:------PARENTS NAMES------\n",
            "DEBUG:root:------PERSON ENTITY MATCHING FOR PARENTS------\n",
            "DEBUG:root:('Seretse Khama', 'PR', (102, 104))\n",
            "DEBUG:root:(\"Seretse Khama's\", 'PR', (270, 273))\n",
            "DEBUG:root:('Seretse Khama', 'PR', (341, 343))\n",
            "DEBUG:root:(\"Seretse Khama's\", 'PR', (405, 408))\n",
            "DEBUG:root:------NOUN CHUNCK MATCHING FOR PARENTS------\n",
            "DEBUG:root:------SPOUSES NAMES------\n"
          ],
          "name": "stderr"
        },
        {
          "output_type": "stream",
          "text": [
            "info card is scraped successfully\n",
            "[['Born', 'PERSON'], []]\n",
            "[['Born', 'DATE'], ['1939-08-21', '21 August 1939']]\n",
            "[['Born', 'GPE'], ['Bechuanaland', 'Serowe']]\n",
            "[['Children', 'PERSON'], []]\n"
          ],
          "name": "stdout"
        },
        {
          "output_type": "stream",
          "text": [
            "DEBUG:root:------BIRTHDAY MATCHING------\n",
            "DEBUG:root:------BIRTH PLACES------\n",
            "DEBUG:root:------NOUN CHUNCK MATCHING FOR BP------\n",
            "DEBUG:root:------CHILDREN NAMES------\n",
            "DEBUG:root:------NOUN CHUNCK MATCHING CHILDREN------\n",
            "DEBUG:root:------EDUCATION INSTITUTIONS------\n",
            "DEBUG:root:------PARENTS NAMES------\n",
            "DEBUG:root:------SPOUSES NAMES------\n",
            "DEBUG:root:('Barbara Mogae', 'SP', (378, 380))\n",
            "DEBUG:root:------NOUN CHUNCK MATCHING FOR SPOUSES------\n",
            "DEBUG:root:('Barbara Mogae', 'SP', (378, 380))\n"
          ],
          "name": "stderr"
        },
        {
          "output_type": "stream",
          "text": [
            "[['Spouse(s)', 'PERSON'], ['Barbara Mogae']]\n",
            "info card is scraped successfully\n",
            "[['Born', 'PERSON'], ['Jair Messias Bolsonaro']]\n",
            "[['Born', 'DATE'], ['1955-03-21', '21 March 1955']]\n",
            "[['Born', 'GPE'], ['São Paulo', 'Glicério']]\n",
            "[['Children', 'PERSON'], ['Flávio', 'Carlos', 'Eduardo', 'Renan', 'Laura']]\n",
            "[['Spouse(s)', 'PERSON'], ['Michelle Reinaldo']]\n",
            "[['Education', 'ORG'], ['Agulhas Negras Military Academy']]\n"
          ],
          "name": "stdout"
        },
        {
          "output_type": "stream",
          "text": [
            "DEBUG:root:------BIRTHDAY MATCHING------\n",
            "DEBUG:root:------BIRTH PLACES------\n",
            "DEBUG:root:------NOUN CHUNCK MATCHING FOR BP------\n",
            "DEBUG:root:------CHILDREN NAMES------\n",
            "DEBUG:root:('Carl', 'CH', (655, 656))\n",
            "DEBUG:root:('Carlos\" Hintze', 'CH', (657, 660))\n",
            "DEBUG:root:('Flávio', 'CH', (1379, 1380))\n",
            "DEBUG:root:('Flávio Bolsonaro', 'CH', (2914, 2916))\n",
            "DEBUG:root:('Eduardo', 'CH', (5455, 5456))\n",
            "DEBUG:root:('Lula', 'CH', (5617, 5618))\n",
            "DEBUG:root:('Renan', 'CH', (8844, 8845))\n",
            "DEBUG:root:('Laura', 'CH', (8870, 8871))\n",
            "DEBUG:root:------NOUN CHUNCK MATCHING CHILDREN------\n",
            "DEBUG:root:('Carl \"Carlos\" Hintze', 'CH', (655, 660))\n",
            "DEBUG:root:('Flávio', 'CH', (1379, 1380))\n",
            "DEBUG:root:('Flávio Bolsonaro', 'CH', (2914, 2916))\n",
            "DEBUG:root:('Flávio', 'CH', (2934, 2935))\n",
            "DEBUG:root:('Eduardo', 'CH', (5455, 5456))\n",
            "DEBUG:root:('Flávio', 'CH', (8821, 8822))\n",
            "DEBUG:root:('Carlos', 'CH', (8823, 8824))\n",
            "DEBUG:root:('Eduardo', 'CH', (8825, 8826))\n",
            "DEBUG:root:('Renan', 'CH', (8844, 8845))\n",
            "DEBUG:root:('Michelle de Paula Firmo Reinaldo', 'CH', (8857, 8862))\n",
            "DEBUG:root:('Laura', 'CH', (8870, 8871))\n",
            "DEBUG:root:------EDUCATION INSTITUTIONS------\n",
            "DEBUG:root:('the Agulhas Negras Military Academy', 'ED', (102, 107))\n",
            "DEBUG:root:------NOUN CHUNCK MATCHING FOR EDUCATION------\n",
            "DEBUG:root:('the Agulhas Negras Military Academy', 'ED', (102, 107))\n",
            "DEBUG:root:------PARENTS NAMES------\n",
            "DEBUG:root:------SPOUSES NAMES------\n",
            "DEBUG:root:('Michel Temer', 'SP', (3060, 3062))\n",
            "DEBUG:root:('Michel Temer', 'SP', (3361, 3363))\n",
            "DEBUG:root:('Michel Temer', 'SP', (3430, 3432))\n",
            "DEBUG:root:('Michelle', 'SP', (8881, 8882))\n",
            "DEBUG:root:------NOUN CHUNCK MATCHING FOR SPOUSES------\n",
            "DEBUG:root:('Michelle de Paula Firmo Reinaldo', 'SP', (8857, 8862))\n",
            "DEBUG:root:('Michelle', 'SP', (8881, 8882))\n"
          ],
          "name": "stderr"
        },
        {
          "output_type": "stream",
          "text": [
            "info card is scraped successfully\n",
            "[['Born', 'PERSON'], ['Fernando Affonso Collor de Mello', 'Rio de Janeiro']]\n",
            "[['Born', 'DATE'], ['1949-08-12', 'August 12, 1949']]\n",
            "[['Born', 'GPE'], ['Brazil', 'Rio de Janeiro']]\n",
            "[['Children', 'PERSON'], []]\n",
            "[['Spouse(s)', 'PERSON'], ['Celi Elisabete Júlia Monteiro de Carvalho', 'Rosane Brandão Malta']]\n"
          ],
          "name": "stdout"
        },
        {
          "output_type": "stream",
          "text": [
            "DEBUG:root:------BIRTHDAY MATCHING------\n",
            "DEBUG:root:------BIRTH PLACES------\n",
            "DEBUG:root:------NOUN CHUNCK MATCHING FOR BP------\n",
            "DEBUG:root:------CHILDREN NAMES------\n",
            "DEBUG:root:------NOUN CHUNCK MATCHING CHILDREN------\n",
            "DEBUG:root:------EDUCATION INSTITUTIONS------\n",
            "DEBUG:root:------PARENTS NAMES------\n",
            "DEBUG:root:------SPOUSES NAMES------\n",
            "DEBUG:root:------NOUN CHUNCK MATCHING FOR SPOUSES------\n"
          ],
          "name": "stderr"
        },
        {
          "output_type": "stream",
          "text": [
            "info card is scraped successfully\n",
            "[['Born', 'PERSON'], ['João Baptista de Oliveira Figueiredo', 'Rio de Janeiro']]\n",
            "[['Born', 'DATE'], ['1918-01-15', 'January 15, 1918']]\n",
            "[['Born', 'GPE'], ['Brazil', 'Rio de Janeiro']]\n",
            "[['Children', 'PERSON'], []]\n"
          ],
          "name": "stdout"
        },
        {
          "output_type": "stream",
          "text": [
            "DEBUG:root:------BIRTHDAY MATCHING------\n",
            "DEBUG:root:------BIRTH PLACES------\n",
            "DEBUG:root:------NOUN CHUNCK MATCHING FOR BP------\n",
            "DEBUG:root:------CHILDREN NAMES------\n",
            "DEBUG:root:------NOUN CHUNCK MATCHING CHILDREN------\n",
            "DEBUG:root:------EDUCATION INSTITUTIONS------\n",
            "DEBUG:root:------PARENTS NAMES------\n",
            "DEBUG:root:------SPOUSES NAMES------\n",
            "DEBUG:root:------NOUN CHUNCK MATCHING FOR SPOUSES------\n"
          ],
          "name": "stderr"
        },
        {
          "output_type": "stream",
          "text": [
            "[['Spouse(s)', 'PERSON'], ['Dulce Castro']]\n",
            "info card is scraped successfully\n",
            "[['Born', 'PERSON'], ['Dilma Vana Rousseff', 'Belo Horizonte']]\n",
            "[['Born', 'DATE'], ['1947-12-14', '14 December 1947']]\n",
            "[['Born', 'GPE'], ['Brazil', 'Belo Horizonte']]\n",
            "[['Children', 'PERSON'], []]\n",
            "[['Spouse(s)', 'PERSON'], ['Cláudio Galeno Linhares', 'Carlos Paixão de Araújo']]\n"
          ],
          "name": "stdout"
        },
        {
          "output_type": "stream",
          "text": [
            "DEBUG:root:------BIRTHDAY MATCHING------\n",
            "DEBUG:root:------BIRTH PLACES------\n",
            "DEBUG:root:------NOUN CHUNCK MATCHING FOR BP------\n",
            "DEBUG:root:------CHILDREN NAMES------\n",
            "DEBUG:root:------NOUN CHUNCK MATCHING CHILDREN------\n",
            "DEBUG:root:------EDUCATION INSTITUTIONS------\n",
            "DEBUG:root:------PARENTS NAMES------\n",
            "DEBUG:root:------SPOUSES NAMES------\n",
            "DEBUG:root:('Carlos Araújo', 'SP', (161, 163))\n",
            "DEBUG:root:('Carlos Franklin', 'SP', (1625, 1627))\n",
            "DEBUG:root:('Carlos Lamarca', 'SP', (1790, 1792))\n",
            "DEBUG:root:('Carlos Araújo', 'SP', (1885, 1887))\n",
            "DEBUG:root:('Carlos Minc', 'SP', (2121, 2123))\n",
            "DEBUG:root:('Carlos Minc', 'SP', (2212, 2214))\n",
            "DEBUG:root:('Carlos Araújo', 'SP', (2993, 2995))\n",
            "DEBUG:root:(\"Carlos Lamarca's\", 'SP', (3019, 3022))\n",
            "DEBUG:root:('Carlos Araújo', 'SP', (3051, 3053))\n",
            "DEBUG:root:('Carlos Araújo', 'SP', (3554, 3556))\n",
            "DEBUG:root:('Carlos', 'SP', (3631, 3632))\n",
            "DEBUG:root:('Carlos Araújo', 'SP', (4009, 4011))\n",
            "DEBUG:root:('Carlos Araújo', 'SP', (4080, 4082))\n",
            "DEBUG:root:('Carlos Franklin', 'SP', (4276, 4278))\n",
            "DEBUG:root:('Carlos Araújo', 'SP', (4451, 4453))\n",
            "DEBUG:root:('Carlos Araújo', 'SP', (5392, 5394))\n",
            "DEBUG:root:('Carlos Araújo', 'SP', (5953, 5955))\n",
            "DEBUG:root:('Carlos Viana', 'SP', (11967, 11969))\n",
            "DEBUG:root:------NOUN CHUNCK MATCHING FOR SPOUSES------\n",
            "DEBUG:root:('Carlos Araújo', 'SP', (161, 163))\n",
            "DEBUG:root:('Cláudio Galeno Linhares', 'SP', (1123, 1126))\n",
            "DEBUG:root:('Sul-born lawyer Carlos Franklin Paixão de Araújo', 'SP', (1621, 1630))\n",
            "DEBUG:root:('Carlos Lamarca', 'SP', (1790, 1792))\n",
            "DEBUG:root:('Folha de S.Paulo Carlos Araújo', 'SP', (1882, 1887))\n",
            "DEBUG:root:('Environment Minister Carlos Minc', 'SP', (2119, 2123))\n",
            "DEBUG:root:('Carlos Minc', 'SP', (2212, 2214))\n",
            "DEBUG:root:('Carlos Araújo', 'SP', (2993, 2995))\n",
            "DEBUG:root:(\"Carlos Lamarca's home\", 'SP', (3019, 3023))\n",
            "DEBUG:root:('Carlos Araújo', 'SP', (3051, 3053))\n",
            "DEBUG:root:('Carlos Araújo', 'SP', (3554, 3556))\n",
            "DEBUG:root:(\"Carlos' father\", 'SP', (3631, 3634))\n",
            "DEBUG:root:('Carlos', 'SP', (3651, 3652))\n",
            "DEBUG:root:('the subversive Carlos Araújo', 'SP', (4007, 4011))\n",
            "DEBUG:root:('eventually Carlos Araújo', 'SP', (4079, 4082))\n",
            "DEBUG:root:('journalist Cláudio Galeno de Magalhães Linhares', 'SP', (4240, 4246))\n",
            "DEBUG:root:('Carlos Franklin Paixão de Araújo', 'SP', (4276, 4281))\n",
            "DEBUG:root:('Carlos Araújo', 'SP', (4451, 4453))\n",
            "DEBUG:root:('Carlos Araújo', 'SP', (5392, 5394))\n",
            "DEBUG:root:('Carlos Araújo', 'SP', (5953, 5955))\n",
            "DEBUG:root:('Carlos Viana', 'SP', (11967, 11969))\n"
          ],
          "name": "stderr"
        },
        {
          "output_type": "stream",
          "text": [
            "info card is scraped successfully\n",
            "[['Born', 'PERSON'], ['Humberto de Alencar Castelo Branco']]\n",
            "[['Born', 'DATE'], ['1897-09-20', 'September 20, 1897']]\n",
            "[['Born', 'GPE'], ['Ceará', 'Fortaleza']]\n",
            "[['Children', 'PERSON'], []]\n",
            "[['Spouse(s)', 'PERSON'], ['Argentina Vianna']]\n"
          ],
          "name": "stdout"
        },
        {
          "output_type": "stream",
          "text": [
            "DEBUG:root:------BIRTHDAY MATCHING------\n",
            "DEBUG:root:------BIRTH PLACES------\n",
            "DEBUG:root:------NOUN CHUNCK MATCHING FOR BP------\n",
            "DEBUG:root:------CHILDREN NAMES------\n",
            "DEBUG:root:------NOUN CHUNCK MATCHING CHILDREN------\n",
            "DEBUG:root:------EDUCATION INSTITUTIONS------\n",
            "DEBUG:root:------PARENTS NAMES------\n",
            "DEBUG:root:------SPOUSES NAMES------\n",
            "DEBUG:root:('Argentina Viana', 'SP', (434, 436))\n",
            "DEBUG:root:------NOUN CHUNCK MATCHING FOR SPOUSES------\n",
            "DEBUG:root:('Argentina Vianna', 'SP', (128, 130))\n",
            "DEBUG:root:('Argentina Viana Castelo Branco', 'SP', (434, 438))\n"
          ],
          "name": "stderr"
        },
        {
          "output_type": "stream",
          "text": [
            "info card is scraped successfully\n",
            "[['Born', 'PERSON'], ['Rio Grande']]\n",
            "[['Born', 'DATE'], ['1899-02-03', 'February 3, 1899']]\n",
            "[['Born', 'GPE'], ['Rio Grande do Norte', 'Natal']]\n",
            "[['Children', 'PERSON'], []]\n"
          ],
          "name": "stdout"
        },
        {
          "output_type": "stream",
          "text": [
            "DEBUG:root:------BIRTHDAY MATCHING------\n",
            "DEBUG:root:------BIRTH PLACES------\n",
            "DEBUG:root:------NOUN CHUNCK MATCHING FOR BP------\n",
            "DEBUG:root:------CHILDREN NAMES------\n",
            "DEBUG:root:------NOUN CHUNCK MATCHING CHILDREN------\n",
            "DEBUG:root:------EDUCATION INSTITUTIONS------\n",
            "DEBUG:root:------PARENTS NAMES------\n",
            "DEBUG:root:------SPOUSES NAMES------\n",
            "DEBUG:root:------NOUN CHUNCK MATCHING FOR SPOUSES------\n"
          ],
          "name": "stderr"
        },
        {
          "output_type": "stream",
          "text": [
            "[['Spouse(s)', 'PERSON'], []]\n",
            "info card is scraped successfully\n",
            "[['Born', 'PERSON'], ['São Borja', 'Rio Grande']]\n",
            "[['Born', 'DATE'], ['1882-04-19', '19 April 1882']]\n",
            "[['Born', 'GPE'], ['Rio Grande do Sul', 'Empire of Brazil', 'São Borja']]\n",
            "[['Children', 'PERSON'], []]\n",
            "[['Spouse(s)', 'PERSON'], ['Darci Sarmanho']]\n"
          ],
          "name": "stdout"
        },
        {
          "output_type": "stream",
          "text": [
            "DEBUG:root:------BIRTHDAY MATCHING------\n",
            "DEBUG:root:------BIRTH PLACES------\n",
            "DEBUG:root:------NOUN CHUNCK MATCHING FOR BP------\n",
            "DEBUG:root:------CHILDREN NAMES------\n",
            "DEBUG:root:------NOUN CHUNCK MATCHING CHILDREN------\n",
            "DEBUG:root:------EDUCATION INSTITUTIONS------\n",
            "DEBUG:root:------PARENTS NAMES------\n",
            "DEBUG:root:------SPOUSES NAMES------\n",
            "DEBUG:root:------NOUN CHUNCK MATCHING FOR SPOUSES------\n",
            "DEBUG:root:('Darci Lima Sarmanho', 'SP', (991, 994))\n",
            "DEBUG:root:('Lêdo Ivo ►\\nRosiska Darcy de Oliveira', 'SP', (4991, 4999))\n",
            "DEBUG:root:('Darcy Ribeiro', 'SP', (5033, 5035))\n"
          ],
          "name": "stderr"
        },
        {
          "output_type": "stream",
          "text": [
            "info card is scraped successfully\n",
            "[['Born', 'PERSON'], ['Juscelino Kubitschek de Oliveira']]\n",
            "[['Born', 'DATE'], ['1902-09-12', '12 September 1902']]\n",
            "[['Born', 'GPE'], ['Diamantina, Minas Gerais']]\n",
            "[['Children', 'PERSON'], []]\n",
            "[['Spouse(s)', 'PERSON'], ['Sarah Lemos']]\n"
          ],
          "name": "stdout"
        },
        {
          "output_type": "stream",
          "text": [
            "DEBUG:root:------BIRTHDAY MATCHING------\n",
            "DEBUG:root:------BIRTH PLACES------\n",
            "DEBUG:root:------NOUN CHUNCK MATCHING FOR BP------\n",
            "DEBUG:root:------CHILDREN NAMES------\n",
            "DEBUG:root:------NOUN CHUNCK MATCHING CHILDREN------\n",
            "DEBUG:root:------EDUCATION INSTITUTIONS------\n",
            "DEBUG:root:------PARENTS NAMES------\n",
            "DEBUG:root:------SPOUSES NAMES------\n",
            "DEBUG:root:------NOUN CHUNCK MATCHING FOR SPOUSES------\n"
          ],
          "name": "stderr"
        },
        {
          "output_type": "stream",
          "text": [
            "failed to annotate the page!\n",
            "https://en.wikipedia.org/wiki/Brazilian_Military_Junta_of_1930\n",
            "info card is scraped successfully\n",
            "[['Born', 'PERSON'], ['Michel Miguel']]\n",
            "[['Born', 'DATE'], ['1940-09-23', '23 September 1940']]\n",
            "[['Born', 'GPE'], ['São Paulo', 'Tietê']]\n",
            "[['Children', 'PERSON'], []]\n",
            "[['Spouse(s)', 'PERSON'], ['Maria Célia de Toledo', 'Marcela Tedeschi']]\n"
          ],
          "name": "stdout"
        },
        {
          "output_type": "stream",
          "text": [
            "DEBUG:root:------BIRTHDAY MATCHING------\n",
            "DEBUG:root:------BIRTH PLACES------\n",
            "DEBUG:root:------NOUN CHUNCK MATCHING FOR BP------\n",
            "DEBUG:root:------CHILDREN NAMES------\n",
            "DEBUG:root:------NOUN CHUNCK MATCHING CHILDREN------\n",
            "DEBUG:root:------EDUCATION INSTITUTIONS------\n",
            "DEBUG:root:------PARENTS NAMES------\n",
            "DEBUG:root:------SPOUSES NAMES------\n",
            "DEBUG:root:('Marcelo Bretas', 'SP', (273, 275))\n",
            "DEBUG:root:('Marcelo Calero', 'SP', (2296, 2298))\n",
            "DEBUG:root:('Faria', 'SP', (2958, 2959))\n",
            "DEBUG:root:('Marcelo Bretas', 'SP', (3405, 3407))\n",
            "DEBUG:root:('Marcela Tedeschi', 'SP', (3588, 3590))\n",
            "DEBUG:root:('Marcela', 'SP', (3623, 3624))\n",
            "DEBUG:root:('Marcela', 'SP', (3675, 3676))\n",
            "DEBUG:root:------NOUN CHUNCK MATCHING FOR SPOUSES------\n",
            "DEBUG:root:('judge Marcelo Bretas', 'SP', (272, 275))\n",
            "DEBUG:root:('José Maria Alkmin', 'SP', (927, 930))\n",
            "DEBUG:root:('attorney Mariel M. Marra', 'SP', (1750, 1754))\n",
            "DEBUG:root:('Marcelo Calero', 'SP', (2296, 2298))\n",
            "DEBUG:root:('Marcelo Odebrecht', 'SP', (2396, 2398))\n",
            "DEBUG:root:('Former Odebrecht Vice President Marcio Faria da Silva', 'SP', (2912, 2920))\n",
            "DEBUG:root:('Faria', 'SP', (2958, 2959))\n",
            "DEBUG:root:('Faria', 'SP', (3009, 3010))\n",
            "DEBUG:root:('judge Marcelo Bretas', 'SP', (3404, 3407))\n",
            "DEBUG:root:('Maria Célia Toledo', 'SP', (3543, 3546))\n",
            "DEBUG:root:('Maristela', 'SP', (3555, 3556))\n",
            "DEBUG:root:('Marcela Tedeschi', 'SP', (3588, 3590))\n",
            "DEBUG:root:('Marcela', 'SP', (3623, 3624))\n",
            "DEBUG:root:('Marcela', 'SP', (3655, 3656))\n",
            "DEBUG:root:('Marcela', 'SP', (3675, 3676))\n"
          ],
          "name": "stderr"
        },
        {
          "output_type": "stream",
          "text": [
            "info card is scraped successfully\n",
            "[['Born', 'PERSON'], ['Três Corações', 'Minas Gerais']]\n",
            "[['Born', 'DATE'], ['1894-08-04', '4 August 1894']]\n",
            "[['Born', 'GPE'], ['Minas Gerais', 'Três Corações']]\n",
            "[['Children', 'PERSON'], []]\n"
          ],
          "name": "stdout"
        },
        {
          "output_type": "stream",
          "text": [
            "DEBUG:root:------BIRTHDAY MATCHING------\n",
            "DEBUG:root:------BIRTH PLACES------\n",
            "DEBUG:root:------NOUN CHUNCK MATCHING FOR BP------\n",
            "DEBUG:root:------CHILDREN NAMES------\n",
            "DEBUG:root:------NOUN CHUNCK MATCHING CHILDREN------\n",
            "DEBUG:root:------EDUCATION INSTITUTIONS------\n",
            "DEBUG:root:------PARENTS NAMES------\n",
            "DEBUG:root:------SPOUSES NAMES------\n",
            "DEBUG:root:------NOUN CHUNCK MATCHING FOR SPOUSES------\n"
          ],
          "name": "stderr"
        },
        {
          "output_type": "stream",
          "text": [
            "[['Spouse(s)', 'PERSON'], ['Maria José Dantas', 'Graciema Junqueira']]\n",
            "info card is scraped successfully\n",
            "[['Born', 'PERSON'], ['Itamar Augusto Cautiero Franco']]\n",
            "[['Born', 'DATE'], ['1930-06-28', 'June 28, 1930']]\n",
            "[['Born', 'GPE'], ['Brazilian territorial waters, ']]\n",
            "[['Children', 'PERSON'], []]\n",
            "[['Spouse(s)', 'PERSON'], ['Ana Elisa Surerus']]\n"
          ],
          "name": "stdout"
        },
        {
          "output_type": "stream",
          "text": [
            "DEBUG:root:------BIRTHDAY MATCHING------\n",
            "DEBUG:root:------BIRTH PLACES------\n",
            "DEBUG:root:------NOUN CHUNCK MATCHING FOR BP------\n",
            "DEBUG:root:------CHILDREN NAMES------\n",
            "DEBUG:root:------NOUN CHUNCK MATCHING CHILDREN------\n",
            "DEBUG:root:------EDUCATION INSTITUTIONS------\n",
            "DEBUG:root:------PARENTS NAMES------\n",
            "DEBUG:root:------SPOUSES NAMES------\n",
            "DEBUG:root:------NOUN CHUNCK MATCHING FOR SPOUSES------\n"
          ],
          "name": "stderr"
        },
        {
          "output_type": "stream",
          "text": [
            "info card is scraped successfully\n",
            "[['Born', 'PERSON'], []]\n",
            "[['Born', 'DATE'], ['1888-09-03', '3 September 1888']]\n",
            "[['Born', 'GPE'], ['Santa Catarina', 'Empire of Brazil', 'Lages']]\n",
            "[['Children', 'PERSON'], []]\n"
          ],
          "name": "stdout"
        },
        {
          "output_type": "stream",
          "text": [
            "DEBUG:root:------BIRTHDAY MATCHING------\n",
            "DEBUG:root:------BIRTH PLACES------\n",
            "DEBUG:root:------NOUN CHUNCK MATCHING FOR BP------\n",
            "DEBUG:root:------CHILDREN NAMES------\n",
            "DEBUG:root:------NOUN CHUNCK MATCHING CHILDREN------\n",
            "DEBUG:root:------EDUCATION INSTITUTIONS------\n",
            "DEBUG:root:------PARENTS NAMES------\n",
            "DEBUG:root:------SPOUSES NAMES------\n",
            "DEBUG:root:------NOUN CHUNCK MATCHING FOR SPOUSES------\n"
          ],
          "name": "stderr"
        },
        {
          "output_type": "stream",
          "text": [
            "[['Spouse(s)', 'PERSON'], ['Beatriz Paranhos']]\n",
            "info card is scraped successfully\n",
            "[['Born', 'PERSON'], ['Augusto Hamann', 'Rio de Janeiro', 'João Pessoa']]\n",
            "[['Born', 'DATE'], ['1905-11-07', '1906-05-26', '1905-05-11']]\n"
          ],
          "name": "stdout"
        },
        {
          "output_type": "stream",
          "text": [
            "DEBUG:root:------BIRTHDAY MATCHING------\n",
            "DEBUG:root:------BIRTH PLACES------\n",
            "DEBUG:root:------NOUN CHUNCK MATCHING FOR BP------\n"
          ],
          "name": "stderr"
        },
        {
          "output_type": "stream",
          "text": [
            "[['Born', 'GPE'], ['RJ', 'Brazil', 'SC', 'PB', 'Rio de Janeiro']]\n"
          ],
          "name": "stdout"
        },
        {
          "output_type": "stream",
          "text": [
            "DEBUG:root:------CHILDREN NAMES------\n",
            "DEBUG:root:------EDUCATION INSTITUTIONS------\n",
            "DEBUG:root:------PARENTS NAMES------\n",
            "DEBUG:root:------SPOUSES NAMES------\n"
          ],
          "name": "stderr"
        },
        {
          "output_type": "stream",
          "text": [
            "info card is scraped successfully\n",
            "[['Born', 'PERSON'], ['Pascoal Ranieri Mazzilli']]\n",
            "[['Born', 'DATE'], ['1910-04-27', '27 April 1910']]\n"
          ],
          "name": "stdout"
        },
        {
          "output_type": "stream",
          "text": [
            "DEBUG:root:------BIRTHDAY MATCHING------\n",
            "DEBUG:root:------BIRTH PLACES------\n",
            "DEBUG:root:------NOUN CHUNCK MATCHING FOR BP------\n",
            "DEBUG:root:------CHILDREN NAMES------\n",
            "DEBUG:root:------EDUCATION INSTITUTIONS------\n",
            "DEBUG:root:------PARENTS NAMES------\n",
            "DEBUG:root:------SPOUSES NAMES------\n"
          ],
          "name": "stderr"
        },
        {
          "output_type": "stream",
          "text": [
            "[['Born', 'GPE'], ['São Paulo', 'Caconde']]\n",
            "info card is scraped successfully\n",
            "[['Born', 'PERSON'], ['José Ribamar Ferreira de Araújo']]\n",
            "[['Born', 'DATE'], ['1930-04-24', '24 April 1930']]\n",
            "[['Born', 'GPE'], ['Maranhão', 'Brazil', 'Pinheiro']]\n",
            "[['Children', 'PERSON'], ['Roseana Sarney', 'Fernando Sarney', 'José Sarney Filho']]\n",
            "[['Spouse(s)', 'PERSON'], ['Marly Macieira']]\n"
          ],
          "name": "stdout"
        },
        {
          "output_type": "stream",
          "text": [
            "DEBUG:root:------BIRTHDAY MATCHING------\n",
            "DEBUG:root:------BIRTH PLACES------\n",
            "DEBUG:root:------NOUN CHUNCK MATCHING FOR BP------\n",
            "DEBUG:root:------CHILDREN NAMES------\n",
            "DEBUG:root:('José', 'CH', (535, 536))\n",
            "DEBUG:root:('Roseana Sarney', 'CH', (559, 561))\n",
            "DEBUG:root:('Fernando Sarney', 'CH', (565, 567))\n",
            "DEBUG:root:('Fernando de Azevedo', 'CH', (2090, 2093))\n",
            "DEBUG:root:('José Lins', 'CH', (2456, 2458))\n",
            "DEBUG:root:('Fernando Magalhães', 'CH', (2732, 2734))\n",
            "DEBUG:root:------NOUN CHUNCK MATCHING CHILDREN------\n",
            "DEBUG:root:(' José Sarney de Araújo Costa', 'CH', (0, 6))\n",
            "DEBUG:root:('José Ribamar Ferreira de Araújo Costa', 'CH', (19, 25))\n",
            "DEBUG:root:('José Ribamar Ferreira de Araújo Costa', 'CH', (463, 469))\n",
            "DEBUG:root:('José Sarney de Araújo Costa', 'CH', (500, 505))\n",
            "DEBUG:root:('José Sarney', 'CH', (509, 511))\n",
            "DEBUG:root:('José', 'CH', (535, 536))\n",
            "DEBUG:root:('Congressman José Sarney Filho', 'CH', (553, 557))\n",
            "DEBUG:root:('Governor Roseana Sarney', 'CH', (558, 561))\n",
            "DEBUG:root:('Fernando Sarney', 'CH', (565, 567))\n",
            "DEBUG:root:('Fernando Henrique Cardoso', 'CH', (1353, 1356))\n",
            "DEBUG:root:('José Sarney', 'CH', (1470, 1472))\n",
            "DEBUG:root:('José Carlos de Macedo Soares', 'CH', (2014, 2019))\n",
            "DEBUG:root:('Fernando de Azevedo', 'CH', (2090, 2093))\n",
            "DEBUG:root:('Fernando Bastos de Ávila', 'CH', (2130, 2134))\n",
            "DEBUG:root:('José Veríssimo', 'CH', (2202, 2204))\n",
            "DEBUG:root:('José', 'CH', (2311, 2312))\n",
            "DEBUG:root:('José', 'CH', (2346, 2347))\n",
            "DEBUG:root:('(José de Alencar', 'CH', (2372, 2376))\n",
            "DEBUG:root:('José Lins', 'CH', (2456, 2458))\n",
            "DEBUG:root:('José Mindlin', 'CH', (2595, 2597))\n",
            "DEBUG:root:('João Batista Ribeiro de Andrade Fernandes', 'CH', (2646, 2652))\n",
            "DEBUG:root:('José Cândido de Carvalho', 'CH', (2662, 2666))\n",
            "DEBUG:root:('Fernando Magalhães', 'CH', (2732, 2734))\n",
            "DEBUG:root:('José Maria', 'CH', (2760, 2762))\n",
            "DEBUG:root:('José Honório Rodrigues', 'CH', (2815, 2818))\n",
            "DEBUG:root:('José', 'CH', (2847, 2848))\n",
            "DEBUG:root:('José Júlio da Silva Ramos', 'CH', (2863, 2868))\n",
            "DEBUG:root:('José de Alcântara Machado', 'CH', (2870, 2874))\n",
            "DEBUG:root:('José Américo de Almeida', 'CH', (2928, 2932))\n",
            "DEBUG:root:('José Sarney', 'CH', (2934, 2936))\n",
            "DEBUG:root:('(José Maria da Silva Paranhos', 'CH', (2981, 2987))\n",
            "DEBUG:root:------EDUCATION INSTITUTIONS------\n",
            "DEBUG:root:------PARENTS NAMES------\n",
            "DEBUG:root:------SPOUSES NAMES------\n",
            "DEBUG:root:('Marly', 'SP', (544, 545))\n",
            "DEBUG:root:------NOUN CHUNCK MATCHING FOR SPOUSES------\n",
            "DEBUG:root:('Marly', 'SP', (544, 545))\n",
            "DEBUG:root:('the early hours', 'SP', (1098, 1101))\n"
          ],
          "name": "stderr"
        },
        {
          "output_type": "stream",
          "text": [
            "info card is scraped successfully\n",
            "[['Born', 'PERSON'], ['Luiz Inácio da Silva']]\n",
            "[['Born', 'DATE'], ['1945-10-27', '27 October 1945']]\n",
            "[['Born', 'GPE'], ['Pernambuco', 'Caetés']]\n",
            "[['Children', 'PERSON'], ['Márcos Cláudio', 'Fábio Luís', 'Sandro Luís', 'Luís Cláudio']]\n",
            "[['Spouse(s)', 'PERSON'], ['Maria de Lurdes', 'Marisa Letícia Rocco Casa']]\n",
            "[['Education', 'ORG'], ['National Service for Industrial Training']]\n"
          ],
          "name": "stdout"
        },
        {
          "output_type": "stream",
          "text": [
            "DEBUG:root:------BIRTHDAY MATCHING------\n",
            "DEBUG:root:------BIRTH PLACES------\n",
            "DEBUG:root:------NOUN CHUNCK MATCHING FOR BP------\n",
            "DEBUG:root:------CHILDREN NAMES------\n",
            "DEBUG:root:------NOUN CHUNCK MATCHING CHILDREN------\n",
            "DEBUG:root:('Academy Award-nominated film director Fábio Barreto', 'CH', (7710, 7718))\n",
            "DEBUG:root:------EDUCATION INSTITUTIONS------\n",
            "DEBUG:root:------NOUN CHUNCK MATCHING FOR EDUCATION------\n",
            "DEBUG:root:------PARENTS NAMES------\n",
            "DEBUG:root:------SPOUSES NAMES------\n",
            "DEBUG:root:------NOUN CHUNCK MATCHING FOR SPOUSES------\n",
            "DEBUG:root:('Maria de Lourdes', 'SP', (900, 903))\n",
            "DEBUG:root:('Marisa Letícia Rocco Casa', 'SP', (946, 950))\n",
            "DEBUG:root:('Marisa Letícia Rocco Casa', 'SP', (946, 950))\n",
            "DEBUG:root:('Marisa Leticia Lula da Silva', 'SP', (5527, 5532))\n",
            "DEBUG:root:('Marisa Leticia Lula da Silva', 'SP', (5527, 5532))\n"
          ],
          "name": "stderr"
        },
        {
          "output_type": "stream",
          "text": [
            "info card is scraped successfully\n",
            "[['Born', 'PERSON'], ['Ernesto Beckmann Geisel', 'Rio Grande']]\n",
            "[['Born', 'DATE'], ['1907-08-03', 'August 3, 1907']]\n",
            "[['Born', 'GPE'], ['Rio Grande do Sul', 'Brazil', 'Bento Gonçalves']]\n",
            "[['Children', 'PERSON'], ['Amália', 'Orlando']]\n",
            "[['Spouse(s)', 'PERSON'], ['Lucy Markus']]\n"
          ],
          "name": "stdout"
        },
        {
          "output_type": "stream",
          "text": [
            "DEBUG:root:------BIRTHDAY MATCHING------\n",
            "DEBUG:root:------BIRTH PLACES------\n",
            "DEBUG:root:------NOUN CHUNCK MATCHING FOR BP------\n",
            "DEBUG:root:------CHILDREN NAMES------\n",
            "DEBUG:root:('Amália Lucy', 'CH', (338, 340))\n",
            "DEBUG:root:('Orlando Geisel', 'CH', (653, 655))\n",
            "DEBUG:root:------NOUN CHUNCK MATCHING CHILDREN------\n",
            "DEBUG:root:('Amália Lucy', 'CH', (338, 340))\n",
            "DEBUG:root:('Orlando', 'CH', (351, 352))\n",
            "DEBUG:root:('Orlando', 'CH', (383, 384))\n",
            "DEBUG:root:('Orlando Geisel', 'CH', (653, 655))\n",
            "DEBUG:root:------EDUCATION INSTITUTIONS------\n",
            "DEBUG:root:------PARENTS NAMES------\n",
            "DEBUG:root:------SPOUSES NAMES------\n",
            "DEBUG:root:------NOUN CHUNCK MATCHING FOR SPOUSES------\n",
            "DEBUG:root:('Lucy Markus', 'SP', (320, 322))\n",
            "DEBUG:root:('Amália Lucy', 'SP', (338, 340))\n"
          ],
          "name": "stderr"
        },
        {
          "output_type": "stream",
          "text": [
            "info card is scraped successfully\n",
            "[['Born', 'PERSON'], ['Jânio da Silva Quadros']]\n",
            "[['Born', 'DATE'], ['1917-01-25', 'January 25, 1917']]\n",
            "[['Born', 'GPE'], ['Mato Grosso', 'Campo Grande']]\n",
            "[['Spouse(s)', 'PERSON'], ['Eloá Quadros']]\n"
          ],
          "name": "stdout"
        },
        {
          "output_type": "stream",
          "text": [
            "DEBUG:root:------BIRTHDAY MATCHING------\n",
            "DEBUG:root:------BIRTH PLACES------\n",
            "DEBUG:root:------NOUN CHUNCK MATCHING FOR BP------\n",
            "DEBUG:root:------CHILDREN NAMES------\n",
            "DEBUG:root:------EDUCATION INSTITUTIONS------\n",
            "DEBUG:root:------PARENTS NAMES------\n",
            "DEBUG:root:------SPOUSES NAMES------\n",
            "DEBUG:root:------NOUN CHUNCK MATCHING FOR SPOUSES------\n",
            "DEBUG:root:('Eloa', 'SP', (1852, 1853))\n"
          ],
          "name": "stderr"
        },
        {
          "output_type": "stream",
          "text": [
            "info card is scraped successfully\n",
            "[['Born', 'PERSON'], ['Rio Grande']]\n",
            "[['Born', 'DATE'], ['1905-12-04', 'December 4, 1905']]\n",
            "[['Born', 'GPE'], ['Rio Grande do Sul', 'Bagé']]\n",
            "[['Children', 'PERSON'], []]\n"
          ],
          "name": "stdout"
        },
        {
          "output_type": "stream",
          "text": [
            "DEBUG:root:------BIRTHDAY MATCHING------\n",
            "DEBUG:root:------BIRTH PLACES------\n",
            "DEBUG:root:------NOUN CHUNCK MATCHING FOR BP------\n"
          ],
          "name": "stderr"
        },
        {
          "output_type": "stream",
          "text": [
            "[['Spouse(s)', 'PERSON'], ['Scylla Nogueira']]\n"
          ],
          "name": "stdout"
        },
        {
          "output_type": "stream",
          "text": [
            "DEBUG:root:------CHILDREN NAMES------\n",
            "DEBUG:root:------NOUN CHUNCK MATCHING CHILDREN------\n",
            "DEBUG:root:------EDUCATION INSTITUTIONS------\n",
            "DEBUG:root:------PARENTS NAMES------\n",
            "DEBUG:root:------SPOUSES NAMES------\n",
            "DEBUG:root:------NOUN CHUNCK MATCHING FOR SPOUSES------\n"
          ],
          "name": "stderr"
        },
        {
          "output_type": "stream",
          "text": [
            "info card is scraped successfully\n",
            "[['Born', 'PERSON'], ['Rio Grande']]\n",
            "[['Born', 'DATE'], ['1899-10-03', 'October 3, 1899']]\n",
            "[['Born', 'GPE'], ['Rio Grande do Sul', 'Taquari']]\n",
            "[['Spouse(s)', 'PERSON'], ['Iolanda Barbosa ']]\n"
          ],
          "name": "stdout"
        },
        {
          "output_type": "stream",
          "text": [
            "DEBUG:root:------BIRTHDAY MATCHING------\n",
            "DEBUG:root:------BIRTH PLACES------\n",
            "DEBUG:root:------NOUN CHUNCK MATCHING FOR BP------\n",
            "DEBUG:root:------CHILDREN NAMES------\n",
            "DEBUG:root:------EDUCATION INSTITUTIONS------\n",
            "DEBUG:root:------PARENTS NAMES------\n",
            "DEBUG:root:------SPOUSES NAMES------\n",
            "DEBUG:root:------NOUN CHUNCK MATCHING FOR SPOUSES------\n",
            "DEBUG:root:('Iolanda Barbosa Costa e Silva', 'SP', (320, 325))\n"
          ],
          "name": "stderr"
        },
        {
          "output_type": "stream",
          "text": [
            "info card is scraped successfully\n",
            "[['Born', 'PERSON'], ['Rio de Janeiro']]\n",
            "[['Born', 'DATE'], ['1931-06-18', 'June 18, 1931']]\n",
            "[['Born', 'GPE'], ['Brazil', 'Rio de Janeiro']]\n",
            "[['Children', 'PERSON'], []]\n",
            "[['Spouse(s)', 'PERSON'], ['Ruth Leite']]\n"
          ],
          "name": "stdout"
        },
        {
          "output_type": "stream",
          "text": [
            "DEBUG:root:------BIRTHDAY MATCHING------\n",
            "DEBUG:root:------BIRTH PLACES------\n",
            "DEBUG:root:------NOUN CHUNCK MATCHING FOR BP------\n",
            "DEBUG:root:------CHILDREN NAMES------\n",
            "DEBUG:root:------NOUN CHUNCK MATCHING CHILDREN------\n",
            "DEBUG:root:------EDUCATION INSTITUTIONS------\n",
            "DEBUG:root:------PARENTS NAMES------\n",
            "DEBUG:root:------SPOUSES NAMES------\n",
            "DEBUG:root:------NOUN CHUNCK MATCHING FOR SPOUSES------\n",
            "DEBUG:root:('Ruth Vilaça Correia Leite Cardoso', 'SP', (216, 221))\n",
            "DEBUG:root:('Ruth Cardoso', 'SP', (1615, 1617))\n"
          ],
          "name": "stderr"
        },
        {
          "output_type": "stream",
          "text": [
            "info card is scraped successfully\n",
            "[['Born', 'PERSON'], ['Rumen Georgiev Radev']]\n",
            "[['Born', 'DATE'], ['1963-06-18', '18 June 1963']]\n",
            "[['Born', 'GPE'], ['Bulgaria', 'Dimitrovgrad']]\n",
            "[['Children', 'PERSON'], []]\n"
          ],
          "name": "stdout"
        },
        {
          "output_type": "stream",
          "text": [
            "DEBUG:root:------BIRTHDAY MATCHING------\n",
            "DEBUG:root:------BIRTH PLACES------\n",
            "DEBUG:root:------NOUN CHUNCK MATCHING FOR BP------\n",
            "DEBUG:root:------CHILDREN NAMES------\n",
            "DEBUG:root:------NOUN CHUNCK MATCHING CHILDREN------\n",
            "DEBUG:root:------EDUCATION INSTITUTIONS------\n",
            "DEBUG:root:------PARENTS NAMES------\n",
            "DEBUG:root:------SPOUSES NAMES------\n",
            "DEBUG:root:('Ginka Radeva', 'SP', (761, 763))\n",
            "DEBUG:root:------NOUN CHUNCK MATCHING FOR SPOUSES------\n"
          ],
          "name": "stderr"
        },
        {
          "output_type": "stream",
          "text": [
            "[['Spouse(s)', 'PERSON'], ['Ginka Radeva ', 'Desislava Radeva ']]\n"
          ],
          "name": "stdout"
        },
        {
          "output_type": "stream",
          "text": [
            "DEBUG:root:('Ginka Radeva', 'SP', (761, 763))\n",
            "DEBUG:root:('Desislava Gencheva', 'SP', (791, 793))\n"
          ],
          "name": "stderr"
        },
        {
          "output_type": "stream",
          "text": [
            "info card is scraped successfully\n",
            "[['Born', 'PERSON'], []]\n",
            "[['Born', 'DATE'], ['1952-05-25', '25 May 1952']]\n",
            "[['Born', 'GPE'], ['Bulgaria', 'Plovdiv']]\n",
            "[['Children', 'PERSON'], []]\n",
            "[['Spouse(s)', 'PERSON'], ['Antonina Stoyanova']]\n"
          ],
          "name": "stdout"
        },
        {
          "output_type": "stream",
          "text": [
            "DEBUG:root:------BIRTHDAY MATCHING------\n",
            "DEBUG:root:------BIRTH PLACES------\n",
            "DEBUG:root:------NOUN CHUNCK MATCHING FOR BP------\n",
            "DEBUG:root:------CHILDREN NAMES------\n",
            "DEBUG:root:------NOUN CHUNCK MATCHING CHILDREN------\n",
            "DEBUG:root:------EDUCATION INSTITUTIONS------\n",
            "DEBUG:root:------PARENTS NAMES------\n",
            "DEBUG:root:------SPOUSES NAMES------\n",
            "DEBUG:root:------NOUN CHUNCK MATCHING FOR SPOUSES------\n",
            "DEBUG:root:('Antonina Stoyanova', 'SP', (1649, 1651))\n"
          ],
          "name": "stderr"
        },
        {
          "output_type": "stream",
          "text": [
            "info card is scraped successfully\n",
            "[['Born', 'PERSON'], ['Georgi Sedefchov Parvanov']]\n",
            "[['Born', 'DATE'], ['1957-06-28', '28 June 1957']]\n",
            "[['Born', 'GPE'], ['Bulgaria', 'Sirishtnik']]\n",
            "[['Children', 'PERSON'], ['Vladimir', 'Ivaylo']]\n",
            "[['Spouse(s)', 'PERSON'], ['Zorka Petrova']]\n"
          ],
          "name": "stdout"
        },
        {
          "output_type": "stream",
          "text": [
            "DEBUG:root:------BIRTHDAY MATCHING------\n",
            "DEBUG:root:------BIRTH PLACES------\n",
            "DEBUG:root:------NOUN CHUNCK MATCHING FOR BP------\n",
            "DEBUG:root:------CHILDREN NAMES------\n",
            "DEBUG:root:('Vladimir', 'CH', (1634, 1635))\n",
            "DEBUG:root:('Vladimir', 'CH', (1645, 1646))\n",
            "DEBUG:root:------NOUN CHUNCK MATCHING CHILDREN------\n",
            "DEBUG:root:('Vladimir', 'CH', (1634, 1635))\n",
            "DEBUG:root:('Ivaylo', 'CH', (1636, 1637))\n",
            "DEBUG:root:('Vladimir', 'CH', (1645, 1646))\n",
            "DEBUG:root:------EDUCATION INSTITUTIONS------\n",
            "DEBUG:root:------PARENTS NAMES------\n",
            "DEBUG:root:------SPOUSES NAMES------\n",
            "DEBUG:root:------NOUN CHUNCK MATCHING FOR SPOUSES------\n",
            "DEBUG:root:('Zorka Parvanova', 'SP', (1630, 1632))\n"
          ],
          "name": "stderr"
        },
        {
          "output_type": "stream",
          "text": [
            "info card is scraped successfully\n",
            "[['Born', 'PERSON'], ['Zhelyu Mitev Zhelev']]\n",
            "[['Born', 'DATE'], ['1935-03-03']]\n",
            "[['Born', 'GPE'], []]\n",
            "[['Children', 'PERSON'], ['Stanka']]\n"
          ],
          "name": "stdout"
        },
        {
          "output_type": "stream",
          "text": [
            "DEBUG:root:------BIRTHDAY MATCHING------\n",
            "DEBUG:root:------BIRTH PLACES------\n",
            "DEBUG:root:------NOUN CHUNCK MATCHING FOR BP------\n",
            "DEBUG:root:------CHILDREN NAMES------\n",
            "DEBUG:root:('Stanka', 'CH', (821, 822))\n",
            "DEBUG:root:('Stanka', 'CH', (834, 835))\n",
            "DEBUG:root:------NOUN CHUNCK MATCHING CHILDREN------\n",
            "DEBUG:root:('Stanka', 'CH', (821, 822))\n",
            "DEBUG:root:('Stanka', 'CH', (834, 835))\n",
            "DEBUG:root:------EDUCATION INSTITUTIONS------\n",
            "DEBUG:root:------PARENTS NAMES------\n"
          ],
          "name": "stderr"
        },
        {
          "output_type": "stream",
          "text": [
            "[['Spouse(s)', 'PERSON'], ['Maria Zheleva']]\n"
          ],
          "name": "stdout"
        },
        {
          "output_type": "stream",
          "text": [
            "DEBUG:root:------SPOUSES NAMES------\n",
            "DEBUG:root:------NOUN CHUNCK MATCHING FOR SPOUSES------\n",
            "DEBUG:root:('Maria Zheleva', 'SP', (810, 812))\n"
          ],
          "name": "stderr"
        },
        {
          "output_type": "stream",
          "text": [
            "info card is scraped successfully\n",
            "[['Born', 'PERSON'], []]\n",
            "[['Born', 'DATE'], ['1964-05-14', '14 May 1964']]\n",
            "[['Born', 'GPE'], ['Bulgaria', 'Gotse Delchev']]\n",
            "[['Children', 'PERSON'], []]\n"
          ],
          "name": "stdout"
        },
        {
          "output_type": "stream",
          "text": [
            "DEBUG:root:------BIRTHDAY MATCHING------\n",
            "DEBUG:root:------BIRTH PLACES------\n",
            "DEBUG:root:------NOUN CHUNCK MATCHING FOR BP------\n",
            "DEBUG:root:------CHILDREN NAMES------\n",
            "DEBUG:root:------NOUN CHUNCK MATCHING CHILDREN------\n",
            "DEBUG:root:------EDUCATION INSTITUTIONS------\n",
            "DEBUG:root:------PARENTS NAMES------\n",
            "DEBUG:root:------SPOUSES NAMES------\n",
            "DEBUG:root:('Yuliyana Plevnelieva', 'SP', (295, 297))\n",
            "DEBUG:root:------NOUN CHUNCK MATCHING FOR SPOUSES------\n"
          ],
          "name": "stderr"
        },
        {
          "output_type": "stream",
          "text": [
            "[['Spouse(s)', 'PERSON'], ['Veronika Kavrakova ', 'Yuliyana Plevnelieva', 'Desislava Banova ']]\n"
          ],
          "name": "stdout"
        },
        {
          "output_type": "stream",
          "text": [
            "DEBUG:root:('Yuliyana Plevnelieva', 'SP', (295, 297))\n"
          ],
          "name": "stderr"
        },
        {
          "output_type": "stream",
          "text": [
            "info card is scraped successfully\n",
            "[['Born', 'PERSON'], ['Burkina Faso']]\n",
            "[['Born', 'DATE'], ['1957-04-25', '25 April 1957']]\n",
            "[['Born', 'GPE'], ['French Upper Volta', 'Ouagadougou']]\n",
            "[['Children', 'PERSON'], ['Three']]\n"
          ],
          "name": "stdout"
        },
        {
          "output_type": "stream",
          "text": [
            "DEBUG:root:------BIRTHDAY MATCHING------\n",
            "DEBUG:root:------BIRTH PLACES------\n",
            "DEBUG:root:------NOUN CHUNCK MATCHING FOR BP------\n",
            "DEBUG:root:------CHILDREN NAMES------\n",
            "DEBUG:root:------NOUN CHUNCK MATCHING CHILDREN------\n",
            "DEBUG:root:('three children', 'CH', (299, 301))\n"
          ],
          "name": "stderr"
        },
        {
          "output_type": "stream",
          "text": [
            "[['Spouse(s)', 'PERSON'], ['Sika Bella Kaboré']]\n"
          ],
          "name": "stdout"
        },
        {
          "output_type": "stream",
          "text": [
            "DEBUG:root:------EDUCATION INSTITUTIONS------\n",
            "DEBUG:root:------PARENTS NAMES------\n",
            "DEBUG:root:------SPOUSES NAMES------\n",
            "DEBUG:root:------NOUN CHUNCK MATCHING FOR SPOUSES------\n",
            "DEBUG:root:('Sika Bella Kaboré', 'SP', (280, 283))\n"
          ],
          "name": "stderr"
        },
        {
          "output_type": "stream",
          "text": [
            "info card is scraped successfully\n",
            "[['Born', 'PERSON'], ['Burkina Faso']]\n",
            "[['Born', 'DATE'], []]\n",
            "[['Born', 'GPE'], []]\n"
          ],
          "name": "stdout"
        },
        {
          "output_type": "stream",
          "text": [
            "DEBUG:root:------BIRTHDAY MATCHING------\n",
            "DEBUG:root:------BIRTH PLACES------\n",
            "DEBUG:root:------NOUN CHUNCK MATCHING FOR BP------\n",
            "DEBUG:root:------CHILDREN NAMES------\n",
            "DEBUG:root:------EDUCATION INSTITUTIONS------\n",
            "DEBUG:root:------PARENTS NAMES------\n",
            "DEBUG:root:------SPOUSES NAMES------\n",
            "DEBUG:root:------NOUN CHUNCK MATCHING FOR SPOUSES------\n",
            "DEBUG:root:('Fatou Diallo Diendéré', 'SP', (526, 529))\n"
          ],
          "name": "stderr"
        },
        {
          "output_type": "stream",
          "text": [
            "[['Spouse(s)', 'PERSON'], ['Fatou Diallo Diendéré']]\n",
            "info card is scraped successfully\n",
            "[['Born', 'PERSON'], ['Burkina Faso']]\n",
            "[['Born', 'DATE'], ['1942-08-18', '18 August 1942']]\n",
            "[['Born', 'GPE'], ['Upper Volta', 'Ouagadougou']]\n"
          ],
          "name": "stdout"
        },
        {
          "output_type": "stream",
          "text": [
            "DEBUG:root:------BIRTHDAY MATCHING------\n",
            "DEBUG:root:------BIRTH PLACES------\n",
            "DEBUG:root:------NOUN CHUNCK MATCHING FOR BP------\n",
            "DEBUG:root:------CHILDREN NAMES------\n",
            "DEBUG:root:------EDUCATION INSTITUTIONS------\n",
            "DEBUG:root:------PARENTS NAMES------\n",
            "DEBUG:root:------SPOUSES NAMES------\n",
            "DEBUG:root:------NOUN CHUNCK MATCHING FOR SPOUSES------\n",
            "DEBUG:root:('Marie Kafando', 'SP', (233, 235))\n"
          ],
          "name": "stderr"
        },
        {
          "output_type": "stream",
          "text": [
            "[['Spouse(s)', 'PERSON'], ['Marie Kafando']]\n",
            "info card is scraped successfully\n",
            "[['Born', 'PERSON'], []]\n",
            "[['Born', 'DATE'], ['1963-12-18', '18 December 1963']]\n",
            "[['Born', 'GPE'], ['Burundi', 'Bujumbura']]\n",
            "[['Children', 'PERSON'], []]\n",
            "[['Spouse(s)', 'PERSON'], ['Denise Bucumi']]\n"
          ],
          "name": "stdout"
        },
        {
          "output_type": "stream",
          "text": [
            "DEBUG:root:------BIRTHDAY MATCHING------\n",
            "DEBUG:root:------BIRTH PLACES------\n",
            "DEBUG:root:------NOUN CHUNCK MATCHING FOR BP------\n",
            "DEBUG:root:------CHILDREN NAMES------\n",
            "DEBUG:root:------NOUN CHUNCK MATCHING CHILDREN------\n",
            "DEBUG:root:------EDUCATION INSTITUTIONS------\n",
            "DEBUG:root:------PARENTS NAMES------\n",
            "DEBUG:root:------SPOUSES NAMES------\n",
            "DEBUG:root:------NOUN CHUNCK MATCHING FOR SPOUSES------\n"
          ],
          "name": "stderr"
        },
        {
          "output_type": "stream",
          "text": [
            "info card is scraped successfully\n",
            "[['Born', 'PERSON'], []]\n",
            "[['Born', 'DATE'], ['1956-05-08', '8 May 1956']]\n"
          ],
          "name": "stdout"
        },
        {
          "output_type": "stream",
          "text": [
            "DEBUG:root:------BIRTHDAY MATCHING------\n",
            "DEBUG:root:------BIRTH PLACES------\n",
            "DEBUG:root:------NOUN CHUNCK MATCHING FOR BP------\n",
            "DEBUG:root:------CHILDREN NAMES------\n",
            "DEBUG:root:------EDUCATION INSTITUTIONS------\n",
            "DEBUG:root:------PARENTS NAMES------\n",
            "DEBUG:root:------SPOUSES NAMES------\n"
          ],
          "name": "stderr"
        },
        {
          "output_type": "stream",
          "text": [
            "[['Born', 'GPE'], ['Gishubi, ']]\n",
            "info card is scraped successfully\n",
            "[['Born', 'PERSON'], ['Ruanda-Urundi']]\n",
            "[['Born', 'DATE'], ['1949-11-24', '24 November 1949']]\n"
          ],
          "name": "stdout"
        },
        {
          "output_type": "stream",
          "text": [
            "DEBUG:root:------BIRTHDAY MATCHING------\n",
            "DEBUG:root:------BIRTH PLACES------\n",
            "DEBUG:root:------NOUN CHUNCK MATCHING FOR BP------\n",
            "DEBUG:root:------CHILDREN NAMES------\n",
            "DEBUG:root:------EDUCATION INSTITUTIONS------\n",
            "DEBUG:root:------PARENTS NAMES------\n",
            "DEBUG:root:------SPOUSES NAMES------\n"
          ],
          "name": "stderr"
        },
        {
          "output_type": "stream",
          "text": [
            "[['Born', 'GPE'], ['Ruanda-Urundi', 'Rutovu']]\n",
            "info card is scraped successfully\n",
            "[['Born', 'PERSON'], []]\n",
            "[['Born', 'DATE'], ['1951-05-02']]\n"
          ],
          "name": "stdout"
        },
        {
          "output_type": "stream",
          "text": [
            "DEBUG:root:------BIRTHDAY MATCHING------\n",
            "DEBUG:root:------BIRTH PLACES------\n",
            "DEBUG:root:------NOUN CHUNCK MATCHING FOR BP------\n",
            "DEBUG:root:------CHILDREN NAMES------\n",
            "DEBUG:root:------EDUCATION INSTITUTIONS------\n",
            "DEBUG:root:------PARENTS NAMES------\n",
            "DEBUG:root:------SPOUSES NAMES------\n"
          ],
          "name": "stderr"
        },
        {
          "output_type": "stream",
          "text": [
            "[['Born', 'GPE'], []]\n",
            "info card is scraped successfully\n",
            "[['Born', 'PERSON'], [\"Paul Barthélemy Biya'a\"]]\n",
            "[['Born', 'DATE'], ['1933-02-13', '13 February 1933']]\n",
            "[['Born', 'GPE'], ['French Cameroons', \"Mvomeka'a\"]]\n",
            "[['Spouse(s)', 'PERSON'], ['Jeanne-Irène Biya', 'Chantal Vigouroux']]\n"
          ],
          "name": "stdout"
        },
        {
          "output_type": "stream",
          "text": [
            "DEBUG:root:------BIRTHDAY MATCHING------\n",
            "DEBUG:root:------BIRTH PLACES------\n",
            "DEBUG:root:------NOUN CHUNCK MATCHING FOR BP------\n",
            "DEBUG:root:------CHILDREN NAMES------\n",
            "DEBUG:root:------EDUCATION INSTITUTIONS------\n",
            "DEBUG:root:------PARENTS NAMES------\n",
            "DEBUG:root:------SPOUSES NAMES------\n",
            "DEBUG:root:('Jeanne-Irène Biya', 'SP', (395, 399))\n",
            "DEBUG:root:('Jeanne-Irène', 'SP', (429, 432))\n",
            "DEBUG:root:------NOUN CHUNCK MATCHING FOR SPOUSES------\n",
            "DEBUG:root:('Jeanne-Irène Biya', 'SP', (395, 399))\n",
            "DEBUG:root:('Jeanne-Irène Biya', 'SP', (429, 433))\n",
            "DEBUG:root:('Chantal Biya', 'SP', (442, 444))\n",
            "DEBUG:root:('Chantal Biya', 'SP', (2364, 2366))\n",
            "DEBUG:root:('Chantal Biya', 'SP', (2383, 2385))\n",
            "DEBUG:root:(\"Chantal Biya's rise\", 'SP', (2396, 2400))\n"
          ],
          "name": "stderr"
        },
        {
          "output_type": "stream",
          "text": [
            "info card is scraped successfully\n",
            "[['Born', 'PERSON'], []]\n",
            "[['Born', 'DATE'], ['1924-08-24', '24 August 1924']]\n",
            "[['Born', 'GPE'], ['British Cameroons', 'Garoua']]\n",
            "[['Spouse(s)', 'PERSON'], ['Germaine Ahidjo']]\n"
          ],
          "name": "stdout"
        },
        {
          "output_type": "stream",
          "text": [
            "DEBUG:root:------BIRTHDAY MATCHING------\n",
            "DEBUG:root:------BIRTH PLACES------\n",
            "DEBUG:root:------NOUN CHUNCK MATCHING FOR BP------\n",
            "DEBUG:root:------CHILDREN NAMES------\n",
            "DEBUG:root:------EDUCATION INSTITUTIONS------\n",
            "DEBUG:root:------PARENTS NAMES------\n",
            "DEBUG:root:------SPOUSES NAMES------\n",
            "DEBUG:root:------NOUN CHUNCK MATCHING FOR SPOUSES------\n"
          ],
          "name": "stderr"
        },
        {
          "output_type": "stream",
          "text": [
            "info card is scraped successfully\n",
            "[['Born', 'PERSON'], ['Jorge Carlos de Almeida Fonseca', 'Cape Verde']]\n",
            "[['Born', 'DATE'], ['1950-10-20', '20 October 1950']]\n",
            "[['Born', 'GPE'], ['Cape Verde', 'Mindelo']]\n"
          ],
          "name": "stdout"
        },
        {
          "output_type": "stream",
          "text": [
            "DEBUG:root:------BIRTHDAY MATCHING------\n",
            "DEBUG:root:------BIRTH PLACES------\n",
            "DEBUG:root:------NOUN CHUNCK MATCHING FOR BP------\n",
            "DEBUG:root:------CHILDREN NAMES------\n",
            "DEBUG:root:------EDUCATION INSTITUTIONS------\n",
            "DEBUG:root:------PARENTS NAMES------\n",
            "DEBUG:root:------SPOUSES NAMES------\n",
            "DEBUG:root:------NOUN CHUNCK MATCHING FOR SPOUSES------\n",
            "DEBUG:root:('Lígia Arcângela Lubrino Dias Fonseca', 'SP', (149, 154))\n"
          ],
          "name": "stderr"
        },
        {
          "output_type": "stream",
          "text": [
            "[['Spouse(s)', 'PERSON'], ['Lígia Fonseca']]\n",
            "info card is scraped successfully\n",
            "[['Born', 'PERSON'], ['Boa Vista']]\n",
            "[['Born', 'DATE'], ['1923-11-17', '17 November 1923']]\n",
            "[['Born', 'GPE'], ['Overseas Province of Cabo Verde', 'Portugal', 'Boa Vista']]\n"
          ],
          "name": "stdout"
        },
        {
          "output_type": "stream",
          "text": [
            "DEBUG:root:------BIRTHDAY MATCHING------\n",
            "DEBUG:root:------BIRTH PLACES------\n",
            "DEBUG:root:------NOUN CHUNCK MATCHING FOR BP------\n",
            "DEBUG:root:------CHILDREN NAMES------\n",
            "DEBUG:root:------EDUCATION INSTITUTIONS------\n",
            "DEBUG:root:------PARENTS NAMES------\n",
            "DEBUG:root:------SPOUSES NAMES------\n",
            "DEBUG:root:('Carlina Pereira', 'SP', (447, 449))\n",
            "DEBUG:root:------NOUN CHUNCK MATCHING FOR SPOUSES------\n",
            "DEBUG:root:('Carlina Pereira', 'SP', (447, 449))\n"
          ],
          "name": "stderr"
        },
        {
          "output_type": "stream",
          "text": [
            "[['Spouse(s)', 'PERSON'], ['Carlina Fontes Pereira']]\n",
            "info card is scraped successfully\n",
            "[['Born', 'PERSON'], ['Manuel Mascarenhas Gomes Monteiro']]\n",
            "[['Born', 'DATE'], ['1944-02-16', '16 February 1944']]\n",
            "[['Born', 'GPE'], ['Portuguese Overseas Province of Cabo Verde', 'Ribeira da Barca']]\n"
          ],
          "name": "stdout"
        },
        {
          "output_type": "stream",
          "text": [
            "DEBUG:root:------BIRTHDAY MATCHING------\n",
            "DEBUG:root:------BIRTH PLACES------\n",
            "DEBUG:root:------NOUN CHUNCK MATCHING FOR BP------\n",
            "DEBUG:root:------CHILDREN NAMES------\n",
            "DEBUG:root:------EDUCATION INSTITUTIONS------\n",
            "DEBUG:root:------PARENTS NAMES------\n",
            "DEBUG:root:------SPOUSES NAMES------\n",
            "DEBUG:root:------NOUN CHUNCK MATCHING FOR SPOUSES------\n",
            "DEBUG:root:('Antonina Mascarenhas Monteiro', 'SP', (558, 561))\n"
          ],
          "name": "stderr"
        },
        {
          "output_type": "stream",
          "text": [
            "[['Spouse(s)', 'PERSON'], ['Antonina Mascarenhas Monteiro']]\n",
            "info card is scraped successfully\n",
            "[['Born', 'PERSON'], ['Pedro Verona Rodrigues']]\n",
            "[['Born', 'DATE'], ['1934-04-29']]\n",
            "[['Born', 'GPE'], ['Overseas Province of Cabo Verde', 'Portugal']]\n"
          ],
          "name": "stdout"
        },
        {
          "output_type": "stream",
          "text": [
            "DEBUG:root:------BIRTHDAY MATCHING------\n",
            "DEBUG:root:------BIRTH PLACES------\n",
            "DEBUG:root:------NOUN CHUNCK MATCHING FOR BP------\n",
            "DEBUG:root:------CHILDREN NAMES------\n",
            "DEBUG:root:------EDUCATION INSTITUTIONS------\n",
            "DEBUG:root:------PARENTS NAMES------\n",
            "DEBUG:root:------SPOUSES NAMES------\n",
            "DEBUG:root:------NOUN CHUNCK MATCHING FOR SPOUSES------\n"
          ],
          "name": "stderr"
        },
        {
          "output_type": "stream",
          "text": [
            "[['Spouse(s)', 'PERSON'], ['Adélcia Barreto']]\n"
          ],
          "name": "stdout"
        },
        {
          "output_type": "stream",
          "text": [
            "DEBUG:root:('Adélcia Barreto Pires', 'SP', (774, 777))\n"
          ],
          "name": "stderr"
        },
        {
          "output_type": "stream",
          "text": [
            "info card is scraped successfully\n",
            "[['Born', 'PERSON'], ['Ubangi-Shari', 'Central African Republic']]\n",
            "[['Born', 'DATE'], ['1957-04-21', '21 April 1957']]\n",
            "[['Born', 'GPE'], ['Ubangi-Shari', 'Bangui']]\n",
            "[['Children', 'PERSON'], []]\n"
          ],
          "name": "stdout"
        },
        {
          "output_type": "stream",
          "text": [
            "DEBUG:root:------BIRTHDAY MATCHING------\n",
            "DEBUG:root:------BIRTH PLACES------\n",
            "DEBUG:root:------NOUN CHUNCK MATCHING FOR BP------\n",
            "DEBUG:root:------CHILDREN NAMES------\n",
            "DEBUG:root:------NOUN CHUNCK MATCHING CHILDREN------\n"
          ],
          "name": "stderr"
        },
        {
          "output_type": "stream",
          "text": [
            "[['Spouse(s)', 'PERSON'], ['Brigitte Touadéra', 'Tina Touadéra']]\n"
          ],
          "name": "stdout"
        },
        {
          "output_type": "stream",
          "text": [
            "DEBUG:root:------EDUCATION INSTITUTIONS------\n",
            "DEBUG:root:------PARENTS NAMES------\n",
            "DEBUG:root:------SPOUSES NAMES------\n",
            "DEBUG:root:('Brigitte Touadéra', 'SP', (324, 326))\n",
            "DEBUG:root:------NOUN CHUNCK MATCHING FOR SPOUSES------\n",
            "DEBUG:root:('both Brigitte Touadéra', 'SP', (323, 326))\n",
            "DEBUG:root:('Marguerite \"Tina\" Touadéra', 'SP', (327, 332))\n"
          ],
          "name": "stderr"
        },
        {
          "output_type": "stream",
          "text": [
            "info card is scraped successfully\n",
            "[['Born', 'PERSON'], ['Central African Republic']]\n",
            "[['Born', 'DATE'], ['1972-05-23', '23 May 1972']]\n"
          ],
          "name": "stdout"
        },
        {
          "output_type": "stream",
          "text": [
            "DEBUG:root:------BIRTHDAY MATCHING------\n",
            "DEBUG:root:------BIRTH PLACES------\n",
            "DEBUG:root:------NOUN CHUNCK MATCHING FOR BP------\n",
            "DEBUG:root:------CHILDREN NAMES------\n",
            "DEBUG:root:------EDUCATION INSTITUTIONS------\n",
            "DEBUG:root:------PARENTS NAMES------\n",
            "DEBUG:root:------SPOUSES NAMES------\n"
          ],
          "name": "stderr"
        },
        {
          "output_type": "stream",
          "text": [
            "[['Born', 'GPE'], ['Central African Republic', 'Bossangoa']]\n",
            "info card is scraped successfully\n",
            "[['Born', 'PERSON'], ['Abel Nguéndé Goumba', 'Ubangi-Shari', 'Central African Republic']]\n",
            "[['Born', 'DATE'], ['1926-09-18', '18 September 1926']]\n"
          ],
          "name": "stdout"
        },
        {
          "output_type": "stream",
          "text": [
            "DEBUG:root:------BIRTHDAY MATCHING------\n",
            "DEBUG:root:------BIRTH PLACES------\n",
            "DEBUG:root:------NOUN CHUNCK MATCHING FOR BP------\n"
          ],
          "name": "stderr"
        },
        {
          "output_type": "stream",
          "text": [
            "[['Born', 'GPE'], ['Ubangi-Shari', 'Grimari, ']]\n"
          ],
          "name": "stdout"
        },
        {
          "output_type": "stream",
          "text": [
            "DEBUG:root:------CHILDREN NAMES------\n",
            "DEBUG:root:------EDUCATION INSTITUTIONS------\n",
            "DEBUG:root:------PARENTS NAMES------\n",
            "DEBUG:root:------SPOUSES NAMES------\n"
          ],
          "name": "stderr"
        },
        {
          "output_type": "stream",
          "text": [
            "info card is scraped successfully\n",
            "[['Born', 'PERSON'], ['Central African Republic']]\n",
            "[['Born', 'DATE'], ['1942-01-01', '1 January 1942']]\n"
          ],
          "name": "stdout"
        },
        {
          "output_type": "stream",
          "text": [
            "DEBUG:root:------BIRTHDAY MATCHING------\n",
            "DEBUG:root:------BIRTH PLACES------\n",
            "DEBUG:root:------NOUN CHUNCK MATCHING FOR BP------\n",
            "DEBUG:root:------CHILDREN NAMES------\n",
            "DEBUG:root:------EDUCATION INSTITUTIONS------\n",
            "DEBUG:root:------PARENTS NAMES------\n",
            "DEBUG:root:------SPOUSES NAMES------\n"
          ],
          "name": "stderr"
        },
        {
          "output_type": "stream",
          "text": [
            "[['Born', 'GPE'], ['Ouaka', 'Central African Republic', 'Grimari']]\n",
            "info card is scraped successfully\n",
            "[['Born', 'PERSON'], ['Fort Lamy']]\n",
            "[['Born', 'DATE'], ['1956-06-26']]\n"
          ],
          "name": "stdout"
        },
        {
          "output_type": "stream",
          "text": [
            "DEBUG:root:------BIRTHDAY MATCHING------\n",
            "DEBUG:root:------BIRTH PLACES------\n",
            "DEBUG:root:------NOUN CHUNCK MATCHING FOR BP------\n",
            "DEBUG:root:------CHILDREN NAMES------\n",
            "DEBUG:root:------EDUCATION INSTITUTIONS------\n",
            "DEBUG:root:------PARENTS NAMES------\n",
            "DEBUG:root:------SPOUSES NAMES------\n"
          ],
          "name": "stderr"
        },
        {
          "output_type": "stream",
          "text": [
            "[['Born', 'GPE'], ['French Equatorial Africa']]\n",
            "info card is scraped successfully\n",
            "[['Born', 'PERSON'], []]\n",
            "[['Born', 'DATE'], ['1952-06-18', 'June 18, 1952']]\n",
            "[['Born', 'GPE'], ['Berdoba, ']]\n",
            "[['Children', 'PERSON'], ['Mahamat', 'Brahim']]\n",
            "[['Spouse(s)', 'PERSON'], ['Hinda Déby ', 'Amani ', 'Musa Hilal']]\n"
          ],
          "name": "stdout"
        },
        {
          "output_type": "stream",
          "text": [
            "DEBUG:root:------BIRTHDAY MATCHING------\n",
            "DEBUG:root:------BIRTH PLACES------\n",
            "DEBUG:root:------NOUN CHUNCK MATCHING FOR BP------\n",
            "DEBUG:root:------CHILDREN NAMES------\n",
            "DEBUG:root:('Brahim', 'CH', (2554, 2555))\n",
            "DEBUG:root:------NOUN CHUNCK MATCHING CHILDREN------\n",
            "DEBUG:root:('Mahamat Itno', 'CH', (540, 542))\n",
            "DEBUG:root:('Brahim', 'CH', (2554, 2555))\n",
            "DEBUG:root:('Brahim', 'CH', (2601, 2602))\n",
            "DEBUG:root:(\"Brahim's conduct\", 'CH', (2636, 2639))\n",
            "DEBUG:root:------EDUCATION INSTITUTIONS------\n",
            "DEBUG:root:------PARENTS NAMES------\n",
            "DEBUG:root:------SPOUSES NAMES------\n",
            "DEBUG:root:('Hinda', 'SP', (2527, 2528))\n",
            "DEBUG:root:------NOUN CHUNCK MATCHING FOR SPOUSES------\n",
            "DEBUG:root:('Hinda', 'SP', (2478, 2479))\n",
            "DEBUG:root:('Hinda', 'SP', (2527, 2528))\n"
          ],
          "name": "stderr"
        },
        {
          "output_type": "stream",
          "text": [
            "info card is scraped successfully\n",
            "[['Born', 'PERSON'], ['Mao']]\n",
            "[['Born', 'DATE'], ['1939-06-15', 'June 15, 1939']]\n"
          ],
          "name": "stdout"
        },
        {
          "output_type": "stream",
          "text": [
            "DEBUG:root:------BIRTHDAY MATCHING------\n",
            "DEBUG:root:------BIRTH PLACES------\n",
            "DEBUG:root:------NOUN CHUNCK MATCHING FOR BP------\n",
            "DEBUG:root:------CHILDREN NAMES------\n",
            "DEBUG:root:------EDUCATION INSTITUTIONS------\n",
            "DEBUG:root:------PARENTS NAMES------\n",
            "DEBUG:root:------SPOUSES NAMES------\n"
          ],
          "name": "stderr"
        },
        {
          "output_type": "stream",
          "text": [
            "[['Born', 'GPE'], ['French Equatorial Africa', 'Mao']]\n",
            "info card is scraped successfully\n",
            "[['Born', 'PERSON'], []]\n",
            "[['Born', 'DATE'], []]\n"
          ],
          "name": "stdout"
        },
        {
          "output_type": "stream",
          "text": [
            "DEBUG:root:------BIRTHDAY MATCHING------\n",
            "DEBUG:root:------BIRTH PLACES------\n",
            "DEBUG:root:------NOUN CHUNCK MATCHING FOR BP------\n",
            "DEBUG:root:------CHILDREN NAMES------\n",
            "DEBUG:root:------EDUCATION INSTITUTIONS------\n",
            "DEBUG:root:------PARENTS NAMES------\n",
            "DEBUG:root:------SPOUSES NAMES------\n"
          ],
          "name": "stderr"
        },
        {
          "output_type": "stream",
          "text": [
            "[['Born', 'GPE'], []]\n",
            "info card is scraped successfully\n",
            "[['Born', 'PERSON'], []]\n",
            "[['Born', 'DATE'], ['1942-09-13', '13 September 1942']]\n",
            "[['Born', 'GPE'], ['French Equatorial Africa', 'Faya-Largeau']]\n",
            "[['Spouse(s)', 'PERSON'], ['Fatime Raymonde']]\n"
          ],
          "name": "stdout"
        },
        {
          "output_type": "stream",
          "text": [
            "DEBUG:root:------BIRTHDAY MATCHING------\n",
            "DEBUG:root:------BIRTH PLACES------\n",
            "DEBUG:root:------NOUN CHUNCK MATCHING FOR BP------\n",
            "DEBUG:root:------CHILDREN NAMES------\n",
            "DEBUG:root:------EDUCATION INSTITUTIONS------\n",
            "DEBUG:root:------PARENTS NAMES------\n",
            "DEBUG:root:------SPOUSES NAMES------\n",
            "DEBUG:root:------NOUN CHUNCK MATCHING FOR SPOUSES------\n"
          ],
          "name": "stderr"
        },
        {
          "output_type": "stream",
          "text": [
            "info card is scraped successfully\n",
            "[['Born', 'PERSON'], ['Miguel Juan Sebastián Piñera Echenique']]\n",
            "[['Born', 'DATE'], ['1949-12-01']]\n",
            "[['Born', 'GPE'], []]\n",
            "[['Children', 'PERSON'], []]\n",
            "[['Spouse(s)', 'PERSON'], ['Cecilia Morel']]\n"
          ],
          "name": "stdout"
        },
        {
          "output_type": "stream",
          "text": [
            "DEBUG:root:------BIRTHDAY MATCHING------\n",
            "DEBUG:root:------BIRTH PLACES------\n",
            "DEBUG:root:------NOUN CHUNCK MATCHING FOR BP------\n",
            "DEBUG:root:------CHILDREN NAMES------\n",
            "DEBUG:root:------NOUN CHUNCK MATCHING CHILDREN------\n",
            "DEBUG:root:------EDUCATION INSTITUTIONS------\n",
            "DEBUG:root:------PARENTS NAMES------\n",
            "DEBUG:root:------SPOUSES NAMES------\n",
            "DEBUG:root:('Cecilia Morel', 'SP', (452, 454))\n",
            "DEBUG:root:('Cecilia Morel M.', 'SP', (536, 539))\n",
            "DEBUG:root:('Cecilia Morel', 'SP', (4572, 4574))\n",
            "DEBUG:root:------NOUN CHUNCK MATCHING FOR SPOUSES------\n",
            "DEBUG:root:('Cecilia Morel', 'SP', (452, 454))\n",
            "DEBUG:root:('Cecilia Morel M.', 'SP', (536, 539))\n",
            "DEBUG:root:('Cecilia Morel', 'SP', (4572, 4574))\n"
          ],
          "name": "stderr"
        },
        {
          "output_type": "stream",
          "text": [
            "info card is scraped successfully\n",
            "[['Born', 'PERSON'], ['Verónica Michelle Bachelet Jeria']]\n",
            "[['Born', 'DATE'], ['1951-09-29', 'September 1951']]\n",
            "[['Born', 'GPE'], ['Chile', 'Santiago']]\n",
            "[['Children', 'PERSON'], []]\n",
            "[['Spouse(s)', 'PERSON'], ['Jorge Dávalos Cartes']]\n",
            "[['Education', 'ORG'], ['University of Chile', 'Leipzig University', 'Humboldt University of Berlin']]\n"
          ],
          "name": "stdout"
        },
        {
          "output_type": "stream",
          "text": [
            "DEBUG:root:------BIRTHDAY MATCHING------\n",
            "DEBUG:root:------BIRTH PLACES------\n",
            "DEBUG:root:------NOUN CHUNCK MATCHING FOR BP------\n",
            "DEBUG:root:------CHILDREN NAMES------\n",
            "DEBUG:root:------NOUN CHUNCK MATCHING CHILDREN------\n",
            "DEBUG:root:------EDUCATION INSTITUTIONS------\n",
            "DEBUG:root:('the University of Chile', 'ED', (654, 658))\n",
            "DEBUG:root:('the University of Leipzig', 'ED', (1126, 1130))\n",
            "DEBUG:root:('the Humboldt University of Berlin', 'ED', (1162, 1167))\n",
            "DEBUG:root:------NOUN CHUNCK MATCHING FOR EDUCATION------\n",
            "DEBUG:root:------PARENTS NAMES------\n",
            "DEBUG:root:------SPOUSES NAMES------\n",
            "DEBUG:root:------NOUN CHUNCK MATCHING FOR SPOUSES------\n",
            "DEBUG:root:('architect Jorge Leopoldo Dávalos Cartes', 'SP', (1090, 1095))\n",
            "DEBUG:root:('Jorge Alberto Sebastián', 'SP', (1138, 1141))\n"
          ],
          "name": "stderr"
        },
        {
          "output_type": "stream",
          "text": [
            "info card is scraped successfully\n",
            "[['Born', 'PERSON'], []]\n",
            "[['Born', 'DATE'], ['1976-08-01', 'August 1976']]\n",
            "[['Born', 'GPE'], ['Colombia', 'Bogotá']]\n"
          ],
          "name": "stdout"
        },
        {
          "output_type": "stream",
          "text": [
            "DEBUG:root:------BIRTHDAY MATCHING------\n",
            "DEBUG:root:------BIRTH PLACES------\n",
            "DEBUG:root:------NOUN CHUNCK MATCHING FOR BP------\n",
            "DEBUG:root:------CHILDREN NAMES------\n",
            "DEBUG:root:------EDUCATION INSTITUTIONS------\n",
            "DEBUG:root:------PARENTS NAMES------\n",
            "DEBUG:root:------SPOUSES NAMES------\n"
          ],
          "name": "stderr"
        },
        {
          "output_type": "stream",
          "text": [
            "[['Spouse(s)', 'PERSON'], ['María Juliana Ruiz Sandoval']]\n"
          ],
          "name": "stdout"
        },
        {
          "output_type": "stream",
          "text": [
            "DEBUG:root:('María Paula', 'SP', (189, 191))\n",
            "DEBUG:root:------NOUN CHUNCK MATCHING FOR SPOUSES------\n",
            "DEBUG:root:('María Paula', 'SP', (189, 191))\n",
            "DEBUG:root:('María Juliana Ruiz Sandoval', 'SP', (985, 989))\n"
          ],
          "name": "stderr"
        },
        {
          "output_type": "stream",
          "text": [
            "info card is scraped successfully\n",
            "[['Born', 'PERSON'], []]\n",
            "[['Born', 'DATE'], ['1954-08-17', '17 August 1954']]\n",
            "[['Born', 'GPE'], ['Colombia', 'Bogotá, D.C.']]\n",
            "[['Children', 'PERSON'], ['Santiago Pastrana Puyana', 'Laura Pastrana Puyana', 'Valentina Pastrana']]\n"
          ],
          "name": "stdout"
        },
        {
          "output_type": "stream",
          "text": [
            "DEBUG:root:------BIRTHDAY MATCHING------\n",
            "DEBUG:root:------BIRTH PLACES------\n",
            "DEBUG:root:------NOUN CHUNCK MATCHING FOR BP------\n",
            "DEBUG:root:------CHILDREN NAMES------\n",
            "DEBUG:root:------NOUN CHUNCK MATCHING CHILDREN------\n"
          ],
          "name": "stderr"
        },
        {
          "output_type": "stream",
          "text": [
            "[['Spouse(s)', 'PERSON'], ['Nohra Puyana Bickenbach']]\n"
          ],
          "name": "stdout"
        },
        {
          "output_type": "stream",
          "text": [
            "DEBUG:root:------EDUCATION INSTITUTIONS------\n",
            "DEBUG:root:------PARENTS NAMES------\n",
            "DEBUG:root:------SPOUSES NAMES------\n",
            "DEBUG:root:------NOUN CHUNCK MATCHING FOR SPOUSES------\n"
          ],
          "name": "stderr"
        },
        {
          "output_type": "stream",
          "text": [
            "failed to annotate the page!\n",
            "https://en.wikipedia.org/wiki/Jo%C3%A3o_Clemente_Baena_Soares\n",
            "info card is scraped successfully\n",
            "[['Born', 'PERSON'], []]\n",
            "[['Born', 'DATE'], ['1947-03-31', 'March 31, 1947']]\n",
            "[['Born', 'GPE'], ['Risaralda', 'Pereira']]\n"
          ],
          "name": "stdout"
        },
        {
          "output_type": "stream",
          "text": [
            "DEBUG:root:------BIRTHDAY MATCHING------\n",
            "DEBUG:root:------BIRTH PLACES------\n",
            "DEBUG:root:------NOUN CHUNCK MATCHING FOR BP------\n",
            "DEBUG:root:------CHILDREN NAMES------\n",
            "DEBUG:root:------NOUN CHUNCK MATCHING CHILDREN------\n"
          ],
          "name": "stderr"
        },
        {
          "output_type": "stream",
          "text": [
            "[['Children', 'PERSON'], ['Simón Gaviria Muñoz', 'María Paz Gaviria Muñoz']]\n"
          ],
          "name": "stdout"
        },
        {
          "output_type": "stream",
          "text": [
            "DEBUG:root:------EDUCATION INSTITUTIONS------\n",
            "DEBUG:root:------PARENTS NAMES------\n",
            "DEBUG:root:------SPOUSES NAMES------\n"
          ],
          "name": "stderr"
        },
        {
          "output_type": "stream",
          "text": [
            "info card is scraped successfully\n",
            "[['Born', 'PERSON'], ['Juan Manuel Santos Calderón']]\n",
            "[['Born', 'DATE'], ['1951-08-10', '10 August 1951']]\n",
            "[['Born', 'GPE'], ['Bogotá']]\n",
            "[['Children', 'PERSON'], ['Martín', 'María Antonia', 'Esteban']]\n",
            "[['Spouse(s)', 'PERSON'], ['María Clemencia Rodríguez Múnera']]\n"
          ],
          "name": "stdout"
        },
        {
          "output_type": "stream",
          "text": [
            "DEBUG:root:------BIRTHDAY MATCHING------\n",
            "DEBUG:root:------BIRTH PLACES------\n",
            "DEBUG:root:------NOUN CHUNCK MATCHING FOR BP------\n",
            "DEBUG:root:------CHILDREN NAMES------\n",
            "DEBUG:root:('Martín', 'CH', (3465, 3466))\n",
            "DEBUG:root:------NOUN CHUNCK MATCHING CHILDREN------\n",
            "DEBUG:root:('María Antonia Santos Plata', 'CH', (3220, 3224))\n",
            "DEBUG:root:('a martyr', 'CH', (3225, 3227))\n",
            "DEBUG:root:('María Clemencia Rodríguez Múnera', 'CH', (3412, 3416))\n",
            "DEBUG:root:('Martín', 'CH', (3465, 3466))\n",
            "DEBUG:root:------EDUCATION INSTITUTIONS------\n",
            "DEBUG:root:------PARENTS NAMES------\n",
            "DEBUG:root:------SPOUSES NAMES------\n",
            "DEBUG:root:------NOUN CHUNCK MATCHING FOR SPOUSES------\n",
            "DEBUG:root:('María Antonia Santos Plata', 'SP', (3220, 3224))\n",
            "DEBUG:root:('María Clemencia Rodríguez Múnera', 'SP', (3412, 3416))\n"
          ],
          "name": "stderr"
        },
        {
          "output_type": "stream",
          "text": [
            "info card is scraped successfully\n",
            "[['Born', 'PERSON'], []]\n",
            "[['Born', 'DATE'], ['1950-08-03', '3 August 1950']]\n",
            "[['Born', 'GPE'], ['Colombia', 'Bogotá, D.C.']]\n",
            "[['Children', 'PERSON'], ['Andrés Samper Arbeláez', 'Felipe Samper Strouss', 'Miguel Samper Strouss']]\n",
            "[['Spouse(s)', 'PERSON'], ['Silvia Arbeláez', 'Jacquin Strouss Lucena']]\n"
          ],
          "name": "stdout"
        },
        {
          "output_type": "stream",
          "text": [
            "DEBUG:root:------BIRTHDAY MATCHING------\n",
            "DEBUG:root:------BIRTH PLACES------\n",
            "DEBUG:root:------NOUN CHUNCK MATCHING FOR BP------\n",
            "DEBUG:root:------CHILDREN NAMES------\n",
            "DEBUG:root:('Andrés Pastrana', 'CH', (456, 458))\n",
            "DEBUG:root:('Andrés Pastrana', 'CH', (500, 502))\n",
            "DEBUG:root:('Andrés Pastrana', 'CH', (727, 729))\n",
            "DEBUG:root:('Andrés Pastrana', 'CH', (1515, 1517))\n",
            "DEBUG:root:('Andrés', 'CH', (1642, 1643))\n",
            "DEBUG:root:('Miguel', 'CH', (1666, 1667))\n",
            "DEBUG:root:------NOUN CHUNCK MATCHING CHILDREN------\n",
            "DEBUG:root:('Andrés Samper Gnecco', 'CH', (180, 183))\n",
            "DEBUG:root:('Felisa Pombo Rebolledo', 'CH', (319, 322))\n",
            "DEBUG:root:('Miguel Samper Agudelo', 'CH', (364, 367))\n",
            "DEBUG:root:('Andrés Pastrana', 'CH', (456, 458))\n",
            "DEBUG:root:('Andrés Pastrana', 'CH', (500, 502))\n",
            "DEBUG:root:('Andrés Pastrana', 'CH', (727, 729))\n",
            "DEBUG:root:('Andrés Pastrana', 'CH', (1515, 1517))\n",
            "DEBUG:root:('Andrés', 'CH', (1642, 1643))\n",
            "DEBUG:root:('Miguel', 'CH', (1666, 1667))\n",
            "DEBUG:root:('Felipe', 'CH', (1668, 1669))\n",
            "DEBUG:root:------EDUCATION INSTITUTIONS------\n",
            "DEBUG:root:------PARENTS NAMES------\n",
            "DEBUG:root:------SPOUSES NAMES------\n",
            "DEBUG:root:('Silvia Arbelaez', 'SP', (1633, 1635))\n",
            "DEBUG:root:------NOUN CHUNCK MATCHING FOR SPOUSES------\n",
            "DEBUG:root:('Silvia Arbelaez', 'SP', (1633, 1635))\n",
            "DEBUG:root:('Jacquin Strouss Lucena', 'SP', (1651, 1654))\n"
          ],
          "name": "stderr"
        },
        {
          "output_type": "stream",
          "text": [
            "info card is scraped successfully\n",
            "[['Born', 'PERSON'], []]\n",
            "[['Born', 'DATE'], ['1952-07-04', '4 July 1952']]\n",
            "[['Born', 'GPE'], ['Colombia', 'Medellín']]\n",
            "[['Children', 'PERSON'], []]\n",
            "[['Spouse(s)', 'PERSON'], ['Lina María']]\n"
          ],
          "name": "stdout"
        },
        {
          "output_type": "stream",
          "text": [
            "DEBUG:root:------BIRTHDAY MATCHING------\n",
            "DEBUG:root:------BIRTH PLACES------\n",
            "DEBUG:root:------NOUN CHUNCK MATCHING FOR BP------\n",
            "DEBUG:root:------CHILDREN NAMES------\n",
            "DEBUG:root:------NOUN CHUNCK MATCHING CHILDREN------\n",
            "DEBUG:root:------EDUCATION INSTITUTIONS------\n",
            "DEBUG:root:------PARENTS NAMES------\n",
            "DEBUG:root:------SPOUSES NAMES------\n",
            "DEBUG:root:------NOUN CHUNCK MATCHING FOR SPOUSES------\n",
            "DEBUG:root:('Lina María Moreno Mejía', 'SP', (836, 840))\n",
            "DEBUG:root:('Lina Moreno', 'SP', (897, 899))\n"
          ],
          "name": "stderr"
        },
        {
          "output_type": "stream",
          "text": [
            "info card is scraped successfully\n",
            "[['Born', 'PERSON'], []]\n",
            "[['Born', 'DATE'], ['1959-01-01']]\n",
            "[['Born', 'GPE'], ['Comoros']]\n"
          ],
          "name": "stdout"
        },
        {
          "output_type": "stream",
          "text": [
            "DEBUG:root:------BIRTHDAY MATCHING------\n",
            "DEBUG:root:------BIRTH PLACES------\n",
            "DEBUG:root:------NOUN CHUNCK MATCHING FOR BP------\n",
            "DEBUG:root:------CHILDREN NAMES------\n",
            "DEBUG:root:------EDUCATION INSTITUTIONS------\n",
            "DEBUG:root:------PARENTS NAMES------\n",
            "DEBUG:root:------SPOUSES NAMES------\n",
            "DEBUG:root:------NOUN CHUNCK MATCHING FOR SPOUSES------\n"
          ],
          "name": "stderr"
        },
        {
          "output_type": "stream",
          "text": [
            "[['Spouse(s)', 'PERSON'], ['Ambari Daroueche']]\n",
            "info card is scraped successfully\n",
            "[['Born', 'PERSON'], []]\n",
            "[['Born', 'DATE'], ['1958-06-05']]\n",
            "[['Born', 'GPE'], ['Comoros']]\n"
          ],
          "name": "stdout"
        },
        {
          "output_type": "stream",
          "text": [
            "DEBUG:root:------BIRTHDAY MATCHING------\n",
            "DEBUG:root:------BIRTH PLACES------\n",
            "DEBUG:root:------NOUN CHUNCK MATCHING FOR BP------\n",
            "DEBUG:root:------CHILDREN NAMES------\n",
            "DEBUG:root:------EDUCATION INSTITUTIONS------\n",
            "DEBUG:root:------PARENTS NAMES------\n",
            "DEBUG:root:------SPOUSES NAMES------\n",
            "DEBUG:root:------NOUN CHUNCK MATCHING FOR SPOUSES------\n"
          ],
          "name": "stderr"
        },
        {
          "output_type": "stream",
          "text": [
            "[['Spouse(s)', 'PERSON'], ['Hadjira Djoudi']]\n",
            "info card is scraped successfully\n",
            "[['Born', 'PERSON'], []]\n",
            "[['Born', 'DATE'], ['1962-08-14', '14 August 1962']]\n",
            "[['Born', 'GPE'], ['Comoros', 'Djoièzi']]\n"
          ],
          "name": "stdout"
        },
        {
          "output_type": "stream",
          "text": [
            "DEBUG:root:------BIRTHDAY MATCHING------\n",
            "DEBUG:root:------BIRTH PLACES------\n",
            "DEBUG:root:------NOUN CHUNCK MATCHING FOR BP------\n",
            "DEBUG:root:------CHILDREN NAMES------\n",
            "DEBUG:root:------EDUCATION INSTITUTIONS------\n",
            "DEBUG:root:------PARENTS NAMES------\n",
            "DEBUG:root:------SPOUSES NAMES------\n",
            "DEBUG:root:------NOUN CHUNCK MATCHING FOR SPOUSES------\n",
            "DEBUG:root:(\"Hadidja Abubacarr I'Dhoinine\", 'SP', (239, 242))\n"
          ],
          "name": "stderr"
        },
        {
          "output_type": "stream",
          "text": [
            "[['Spouse(s)', 'PERSON'], ['Hadidja Abubacarr']]\n",
            "info card is scraped successfully\n",
            "[['Born', 'PERSON'], ['Félix Antoine Tshisekedi Tshilombo']]\n",
            "[['Born', 'DATE'], ['1963-06-13', '13 June 1963']]\n",
            "[['Born', 'GPE'], ['Congo-Léopoldville', 'Léopoldville']]\n",
            "[['Spouse(s)', 'PERSON'], ['Denise Nyakéru Tshisekedi']]\n"
          ],
          "name": "stdout"
        },
        {
          "output_type": "stream",
          "text": [
            "DEBUG:root:------BIRTHDAY MATCHING------\n",
            "DEBUG:root:------BIRTH PLACES------\n",
            "DEBUG:root:------NOUN CHUNCK MATCHING FOR BP------\n"
          ],
          "name": "stderr"
        },
        {
          "output_type": "stream",
          "text": [
            "[['Parents', 'PERSON'], ['Étienne Tshisekedi', 'Marthe Kasalu Jibikila']]\n"
          ],
          "name": "stdout"
        },
        {
          "output_type": "stream",
          "text": [
            "DEBUG:root:------CHILDREN NAMES------\n",
            "DEBUG:root:------EDUCATION INSTITUTIONS------\n",
            "DEBUG:root:------PARENTS NAMES------\n",
            "DEBUG:root:------PERSON ENTITY MATCHING FOR PARENTS------\n",
            "DEBUG:root:('Étienne Tshisekedi', 'PR', (74, 76))\n",
            "DEBUG:root:('Étienne Tshisekedi', 'PR', (353, 355))\n",
            "DEBUG:root:------NOUN CHUNCK MATCHING FOR PARENTS------\n",
            "DEBUG:root:------SPOUSES NAMES------\n",
            "DEBUG:root:------NOUN CHUNCK MATCHING FOR SPOUSES------\n"
          ],
          "name": "stderr"
        },
        {
          "output_type": "stream",
          "text": [
            "info card is scraped successfully\n",
            "[['Born', 'PERSON'], ['Joseph Kabila Kabange']]\n",
            "[['Born', 'DATE'], ['1971-06-04', '4 June 1971']]\n",
            "[['Born', 'GPE'], ['Congo-Léopoldville', 'Fizi']]\n",
            "[['Spouse(s)', 'PERSON'], ['Olive Lembe di Sita']]\n"
          ],
          "name": "stdout"
        },
        {
          "output_type": "stream",
          "text": [
            "DEBUG:root:------BIRTHDAY MATCHING------\n",
            "DEBUG:root:------BIRTH PLACES------\n",
            "DEBUG:root:------NOUN CHUNCK MATCHING FOR BP------\n",
            "DEBUG:root:------CHILDREN NAMES------\n",
            "DEBUG:root:------EDUCATION INSTITUTIONS------\n",
            "DEBUG:root:------PARENTS NAMES------\n",
            "DEBUG:root:------SPOUSES NAMES------\n",
            "DEBUG:root:('Olive Lembe', 'SP', (2387, 2389))\n",
            "DEBUG:root:------NOUN CHUNCK MATCHING FOR SPOUSES------\n",
            "DEBUG:root:('married Olive Lembe di Sita', 'SP', (2386, 2391))\n"
          ],
          "name": "stderr"
        },
        {
          "output_type": "stream",
          "text": [
            "info card is scraped successfully\n",
            "[['Born', 'PERSON'], []]\n",
            "[['Born', 'DATE'], ['1939-11-27', 'November 27, 1939']]\n",
            "[['Born', 'GPE'], ['Belgian Congo', 'Baudouinville']]\n",
            "[['Children', 'PERSON'], ['Aimée Kabila Mulengela', 'Jaynet Kabila', 'Joseph Kabila', 'Zoé Kabila']]\n"
          ],
          "name": "stdout"
        },
        {
          "output_type": "stream",
          "text": [
            "DEBUG:root:------BIRTHDAY MATCHING------\n"
          ],
          "name": "stderr"
        },
        {
          "output_type": "stream",
          "text": [
            "[['Spouse(s)', 'PERSON'], ['Sifa Mahanya']]\n"
          ],
          "name": "stdout"
        },
        {
          "output_type": "stream",
          "text": [
            "DEBUG:root:------BIRTH PLACES------\n",
            "DEBUG:root:------NOUN CHUNCK MATCHING FOR BP------\n",
            "DEBUG:root:------CHILDREN NAMES------\n",
            "DEBUG:root:('Joseph', 'CH', (98, 99))\n",
            "DEBUG:root:('Joseph Kabila', 'CH', (1188, 1190))\n",
            "DEBUG:root:('Joseph', 'CH', (1241, 1242))\n",
            "DEBUG:root:------NOUN CHUNCK MATCHING CHILDREN------\n",
            "DEBUG:root:('Joseph', 'CH', (98, 99))\n",
            "DEBUG:root:('Joseph Kabila', 'CH', (1188, 1190))\n",
            "DEBUG:root:('Joseph', 'CH', (1241, 1242))\n",
            "DEBUG:root:------EDUCATION INSTITUTIONS------\n",
            "DEBUG:root:------PARENTS NAMES------\n",
            "DEBUG:root:------SPOUSES NAMES------\n",
            "DEBUG:root:------NOUN CHUNCK MATCHING FOR SPOUSES------\n"
          ],
          "name": "stderr"
        },
        {
          "output_type": "stream",
          "text": [
            "info card is scraped successfully\n",
            "[['Born', 'PERSON'], ['Kuma-Dizi']]\n",
            "[['Born', 'DATE'], ['1915']]\n",
            "[['Born', 'GPE'], ['Belgian Congo', 'Kuma-Dizi, ']]\n",
            "[['Children', 'PERSON'], ['Adolphe Kasa-Vubu, Marie-Rose Kasa-Vubu, Flavien Kasa-Vubu, ', 'Justine Kasa-Vubu', 'Bibiane Kasa-Vubu']]\n",
            "[['Spouse(s)', 'PERSON'], []]\n"
          ],
          "name": "stdout"
        },
        {
          "output_type": "stream",
          "text": [
            "DEBUG:root:------BIRTHDAY MATCHING------\n",
            "DEBUG:root:------BIRTH PLACES------\n",
            "DEBUG:root:------NOUN CHUNCK MATCHING FOR BP------\n",
            "DEBUG:root:------CHILDREN NAMES------\n",
            "DEBUG:root:------NOUN CHUNCK MATCHING CHILDREN------\n",
            "DEBUG:root:(\"Justine M'Poyo Kasa-Vubu\", 'CH', (1627, 1632))\n",
            "DEBUG:root:------EDUCATION INSTITUTIONS------\n",
            "DEBUG:root:------PARENTS NAMES------\n",
            "DEBUG:root:------SPOUSES NAMES------\n",
            "DEBUG:root:------NOUN CHUNCK MATCHING FOR SPOUSES------\n"
          ],
          "name": "stderr"
        },
        {
          "output_type": "stream",
          "text": [
            "info card is scraped successfully\n",
            "[['Born', 'PERSON'], ['Joseph-Desiré Mobutu']]\n",
            "[['Born', 'DATE'], ['1930-10-14', '14 October 1930']]\n",
            "[['Born', 'GPE'], ['Belgian Congo', 'Lisala']]\n",
            "[['Children', 'PERSON'], []]\n",
            "[['Spouse(s)', 'PERSON'], ['Marie-Antoinette Mobutu', 'Bobi Ladawa Mobutu']]\n"
          ],
          "name": "stdout"
        },
        {
          "output_type": "stream",
          "text": [
            "DEBUG:root:------BIRTHDAY MATCHING------\n",
            "DEBUG:root:------BIRTH PLACES------\n",
            "DEBUG:root:------NOUN CHUNCK MATCHING FOR BP------\n",
            "DEBUG:root:------CHILDREN NAMES------\n",
            "DEBUG:root:------NOUN CHUNCK MATCHING CHILDREN------\n",
            "DEBUG:root:------EDUCATION INSTITUTIONS------\n",
            "DEBUG:root:------PARENTS NAMES------\n",
            "DEBUG:root:------SPOUSES NAMES------\n",
            "DEBUG:root:('Antoinette Mobutu', 'SP', (7297, 7299))\n",
            "DEBUG:root:------NOUN CHUNCK MATCHING FOR SPOUSES------\n",
            "DEBUG:root:('Marie-Antoinette Mobutu', 'SP', (7295, 7299))\n",
            "DEBUG:root:('Bobi Ladawa', 'SP', (7329, 7331))\n"
          ],
          "name": "stderr"
        },
        {
          "output_type": "stream",
          "text": [
            "info card is scraped successfully\n",
            "[['Born', 'PERSON'], []]\n",
            "[['Born', 'DATE'], ['1943-11-23', '23 November 1943']]\n",
            "[['Born', 'GPE'], ['French Equatorial Africa', 'Edou']]\n",
            "[['Spouse(s)', 'PERSON'], ['Antoinette Sassou Nguesso']]\n"
          ],
          "name": "stdout"
        },
        {
          "output_type": "stream",
          "text": [
            "DEBUG:root:------BIRTHDAY MATCHING------\n",
            "DEBUG:root:------BIRTH PLACES------\n",
            "DEBUG:root:------NOUN CHUNCK MATCHING FOR BP------\n",
            "DEBUG:root:------CHILDREN NAMES------\n",
            "DEBUG:root:------EDUCATION INSTITUTIONS------\n",
            "DEBUG:root:------PARENTS NAMES------\n",
            "DEBUG:root:------SPOUSES NAMES------\n",
            "DEBUG:root:------NOUN CHUNCK MATCHING FOR SPOUSES------\n"
          ],
          "name": "stderr"
        },
        {
          "output_type": "stream",
          "text": [
            "info card is scraped successfully\n",
            "[['Born', 'PERSON'], []]\n",
            "[['Born', 'DATE'], ['1931-11-15', '15 November 1931']]\n"
          ],
          "name": "stdout"
        },
        {
          "output_type": "stream",
          "text": [
            "DEBUG:root:------BIRTHDAY MATCHING------\n",
            "DEBUG:root:------BIRTH PLACES------\n",
            "DEBUG:root:------NOUN CHUNCK MATCHING FOR BP------\n",
            "DEBUG:root:------CHILDREN NAMES------\n",
            "DEBUG:root:------EDUCATION INSTITUTIONS------\n",
            "DEBUG:root:------PARENTS NAMES------\n"
          ],
          "name": "stderr"
        },
        {
          "output_type": "stream",
          "text": [
            "[['Born', 'GPE'], ['French Congo', 'French Equatorial Africa', 'Tsinguidi']]\n"
          ],
          "name": "stdout"
        },
        {
          "output_type": "stream",
          "text": [
            "DEBUG:root:------SPOUSES NAMES------\n"
          ],
          "name": "stderr"
        },
        {
          "output_type": "stream",
          "text": [
            "info card is scraped successfully\n",
            "[['Born', 'PERSON'], []]\n",
            "[['Born', 'DATE'], ['1980-01-14', '14 January 1980']]\n",
            "[['Born', 'GPE'], ['San José, Costa Rica']]\n"
          ],
          "name": "stdout"
        },
        {
          "output_type": "stream",
          "text": [
            "DEBUG:root:------BIRTHDAY MATCHING------\n",
            "DEBUG:root:------BIRTH PLACES------\n",
            "DEBUG:root:------NOUN CHUNCK MATCHING FOR BP------\n",
            "DEBUG:root:------CHILDREN NAMES------\n",
            "DEBUG:root:------EDUCATION INSTITUTIONS------\n",
            "DEBUG:root:------PARENTS NAMES------\n",
            "DEBUG:root:------SPOUSES NAMES------\n"
          ],
          "name": "stderr"
        },
        {
          "output_type": "stream",
          "text": [
            "[['Spouse(s)', 'PERSON'], ['Claudia Dobles Camargo']]\n"
          ],
          "name": "stdout"
        },
        {
          "output_type": "stream",
          "text": [
            "DEBUG:root:------NOUN CHUNCK MATCHING FOR SPOUSES------\n",
            "DEBUG:root:('Claudia Dobles Camargo', 'SP', (173, 176))\n"
          ],
          "name": "stderr"
        },
        {
          "output_type": "stream",
          "text": [
            "info card is scraped successfully\n",
            "[['Born', 'PERSON'], ['Luis Guillermo Solís Rivera']]\n",
            "[['Born', 'DATE'], ['1958-04-25', '25 April 1958']]\n",
            "[['Born', 'GPE'], ['Costa Rica', 'San José']]\n",
            "[['Children', 'PERSON'], []]\n"
          ],
          "name": "stdout"
        },
        {
          "output_type": "stream",
          "text": [
            "DEBUG:root:------BIRTHDAY MATCHING------\n",
            "DEBUG:root:------BIRTH PLACES------\n",
            "DEBUG:root:------NOUN CHUNCK MATCHING FOR BP------\n",
            "DEBUG:root:------CHILDREN NAMES------\n",
            "DEBUG:root:------NOUN CHUNCK MATCHING CHILDREN------\n",
            "DEBUG:root:------EDUCATION INSTITUTIONS------\n",
            "DEBUG:root:------PARENTS NAMES------\n",
            "DEBUG:root:------SPOUSES NAMES------\n"
          ],
          "name": "stderr"
        },
        {
          "output_type": "stream",
          "text": [
            "info card is scraped successfully\n",
            "[['Born', 'PERSON'], ['Óscar Arias Sánchez']]\n",
            "[['Born', 'DATE'], ['1940-09-13', '13 September 1940']]\n",
            "[['Born', 'GPE'], ['Heredia, Costa Rica']]\n"
          ],
          "name": "stdout"
        },
        {
          "output_type": "stream",
          "text": [
            "DEBUG:root:------BIRTHDAY MATCHING------\n",
            "DEBUG:root:------BIRTH PLACES------\n",
            "DEBUG:root:------NOUN CHUNCK MATCHING FOR BP------\n",
            "DEBUG:root:------CHILDREN NAMES------\n",
            "DEBUG:root:------EDUCATION INSTITUTIONS------\n",
            "DEBUG:root:------PARENTS NAMES------\n",
            "DEBUG:root:------SPOUSES NAMES------\n"
          ],
          "name": "stderr"
        },
        {
          "output_type": "stream",
          "text": [
            "failed to annotate the page!\n",
            "https://en.wikipedia.org/wiki/Jo%C3%A3o_Clemente_Baena_Soares\n",
            "info card is scraped successfully\n",
            "[['Born', 'PERSON'], []]\n",
            "[['Born', 'DATE'], ['1947-03-31', 'March 31, 1947']]\n",
            "[['Born', 'GPE'], ['Risaralda', 'Pereira']]\n"
          ],
          "name": "stdout"
        },
        {
          "output_type": "stream",
          "text": [
            "DEBUG:root:------BIRTHDAY MATCHING------\n",
            "DEBUG:root:------BIRTH PLACES------\n",
            "DEBUG:root:------NOUN CHUNCK MATCHING FOR BP------\n",
            "DEBUG:root:------CHILDREN NAMES------\n",
            "DEBUG:root:------NOUN CHUNCK MATCHING CHILDREN------\n"
          ],
          "name": "stderr"
        },
        {
          "output_type": "stream",
          "text": [
            "[['Children', 'PERSON'], ['Simón Gaviria Muñoz', 'María Paz Gaviria Muñoz']]\n"
          ],
          "name": "stdout"
        },
        {
          "output_type": "stream",
          "text": [
            "DEBUG:root:------EDUCATION INSTITUTIONS------\n",
            "DEBUG:root:------PARENTS NAMES------\n",
            "DEBUG:root:------SPOUSES NAMES------\n"
          ],
          "name": "stderr"
        },
        {
          "output_type": "stream",
          "text": [
            "info card is scraped successfully\n",
            "[['Born', 'PERSON'], []]\n",
            "[['Born', 'DATE'], ['1940-01-09', '9 January 1940']]\n",
            "[['Born', 'GPE'], ['San José, Costa Rica']]\n",
            "[['Spouse(s)', 'PERSON'], ['Lorena Clare Facio']]\n",
            "[['Education', 'ORG'], ['University of Costa Rica', 'University of California, Berkeley']]\n"
          ],
          "name": "stdout"
        },
        {
          "output_type": "stream",
          "text": [
            "DEBUG:root:------BIRTHDAY MATCHING------\n",
            "DEBUG:root:------BIRTH PLACES------\n",
            "DEBUG:root:------NOUN CHUNCK MATCHING FOR BP------\n",
            "DEBUG:root:------CHILDREN NAMES------\n",
            "DEBUG:root:------EDUCATION INSTITUTIONS------\n",
            "DEBUG:root:('the University of Costa Rica', 'ED', (110, 115))\n",
            "DEBUG:root:('the University of California, Berkeley', 'ED', (143, 149))\n",
            "DEBUG:root:('the University of Costa Rica', 'ED', (227, 232))\n",
            "DEBUG:root:------NOUN CHUNCK MATCHING FOR EDUCATION------\n",
            "DEBUG:root:------PARENTS NAMES------\n",
            "DEBUG:root:------SPOUSES NAMES------\n",
            "DEBUG:root:------NOUN CHUNCK MATCHING FOR SPOUSES------\n"
          ],
          "name": "stderr"
        },
        {
          "output_type": "stream",
          "text": [
            "info card is scraped successfully\n",
            "[['Born', 'PERSON'], []]\n",
            "[['Born', 'DATE'], ['1933-12-22', 'December 22, 1933']]\n",
            "[['Born', 'GPE'], ['San José']]\n"
          ],
          "name": "stdout"
        },
        {
          "output_type": "stream",
          "text": [
            "DEBUG:root:------BIRTHDAY MATCHING------\n",
            "DEBUG:root:------BIRTH PLACES------\n",
            "DEBUG:root:------NOUN CHUNCK MATCHING FOR BP------\n",
            "DEBUG:root:------CHILDREN NAMES------\n",
            "DEBUG:root:------EDUCATION INSTITUTIONS------\n",
            "DEBUG:root:------PARENTS NAMES------\n",
            "DEBUG:root:------SPOUSES NAMES------\n",
            "DEBUG:root:------NOUN CHUNCK MATCHING FOR SPOUSES------\n",
            "DEBUG:root:('Leila Rodríguez Stahl', 'SP', (124, 127))\n"
          ],
          "name": "stderr"
        },
        {
          "output_type": "stream",
          "text": [
            "[['Spouse(s)', 'PERSON'], ['Leila Rodríguez Stahl']]\n",
            "info card is scraped successfully\n",
            "[['Born', 'PERSON'], ['Laura Chinchilla Miranda']]\n",
            "[['Born', 'DATE'], ['1959-03-28', '28 March 1959']]\n",
            "[['Born', 'GPE'], ['Costa Rica', 'San José']]\n",
            "[['Spouse(s)', 'PERSON'], ['Mario Alberto Madrigal Díaz', 'José María']]\n"
          ],
          "name": "stdout"
        },
        {
          "output_type": "stream",
          "text": [
            "DEBUG:root:------BIRTHDAY MATCHING------\n",
            "DEBUG:root:------BIRTH PLACES------\n",
            "DEBUG:root:------NOUN CHUNCK MATCHING FOR BP------\n",
            "DEBUG:root:------CHILDREN NAMES------\n",
            "DEBUG:root:------EDUCATION INSTITUTIONS------\n",
            "DEBUG:root:------PARENTS NAMES------\n",
            "DEBUG:root:------SPOUSES NAMES------\n",
            "DEBUG:root:------NOUN CHUNCK MATCHING FOR SPOUSES------\n",
            "DEBUG:root:('the Cathedra José Bonifácio', 'SP', (148, 152))\n",
            "DEBUG:root:('San José', 'SP', (173, 175))\n",
            "DEBUG:root:('Mario Alberto Madrigal Díaz', 'SP', (202, 206))\n",
            "DEBUG:root:('José María Rico Cueto', 'SP', (223, 227))\n",
            "DEBUG:root:('José María Rico Chinchilla', 'SP', (269, 273))\n",
            "DEBUG:root:('the José María Figueres Olsen administration', 'SP', (340, 346))\n",
            "DEBUG:root:('San José', 'SP', (383, 385))\n",
            "DEBUG:root:('marine protection zones', 'SP', (1115, 1118))\n"
          ],
          "name": "stderr"
        },
        {
          "output_type": "stream",
          "text": [
            "info card is scraped successfully\n",
            "[['Born', 'PERSON'], ['Kolinda Grabar']]\n",
            "[['Born', 'DATE'], ['1968-04-29', 'April 1968']]\n",
            "[['Born', 'GPE'], ['SR Croatia', 'SFR Yugoslavia', 'Rijeka']]\n",
            "[['Children', 'PERSON'], []]\n",
            "[['Spouse(s)', 'PERSON'], ['Jakov Kitarović']]\n",
            "[['Parents', 'PERSON'], ['Branko Grabar', 'Dubravka Grabar']]\n",
            "[['Education', 'ORG'], ['University of Zagreb', 'Diplomatic Academy', 'George Washington University']]\n"
          ],
          "name": "stdout"
        },
        {
          "output_type": "stream",
          "text": [
            "DEBUG:root:------BIRTHDAY MATCHING------\n",
            "DEBUG:root:------BIRTH PLACES------\n",
            "DEBUG:root:------NOUN CHUNCK MATCHING FOR BP------\n",
            "DEBUG:root:------CHILDREN NAMES------\n",
            "DEBUG:root:------NOUN CHUNCK MATCHING CHILDREN------\n",
            "DEBUG:root:------EDUCATION INSTITUTIONS------\n",
            "DEBUG:root:('University of Zagreb', 'ED', (563, 566))\n",
            "DEBUG:root:('the Diplomatic Academy of Vienna', 'ED', (595, 600))\n",
            "DEBUG:root:('the University of Zagreb', 'ED', (620, 624))\n",
            "DEBUG:root:(\"George Washington University's\", 'ED', (630, 634))\n",
            "DEBUG:root:('the George Washington University', 'ED', (943, 947))\n",
            "DEBUG:root:------NOUN CHUNCK MATCHING FOR EDUCATION------\n",
            "DEBUG:root:('the Diplomatic Academy', 'ED', (595, 598))\n",
            "DEBUG:root:('the George Washington University', 'ED', (943, 947))\n",
            "DEBUG:root:------PARENTS NAMES------\n",
            "DEBUG:root:------PERSON ENTITY MATCHING FOR PARENTS------\n",
            "DEBUG:root:('Branko Grabar', 'PR', (475, 477))\n",
            "DEBUG:root:------NOUN CHUNCK MATCHING FOR PARENTS------\n",
            "DEBUG:root:------SPOUSES NAMES------\n",
            "DEBUG:root:------NOUN CHUNCK MATCHING FOR SPOUSES------\n",
            "DEBUG:root:('Jakov', 'SP', (1297, 1298))\n",
            "DEBUG:root:(\"Jakov Kitarović's unauthorized usage\", 'SP', (1357, 1362))\n",
            "DEBUG:root:('Jakov Kitarović', 'SP', (4133, 4135))\n"
          ],
          "name": "stderr"
        },
        {
          "output_type": "stream",
          "text": [
            "info card is scraped successfully\n",
            "[['Born', 'PERSON'], []]\n",
            "[['Born', 'DATE'], ['1945-07-10', '10 July 1945']]\n"
          ],
          "name": "stdout"
        },
        {
          "output_type": "stream",
          "text": [
            "DEBUG:root:------BIRTHDAY MATCHING------\n",
            "DEBUG:root:------BIRTH PLACES------\n",
            "DEBUG:root:------NOUN CHUNCK MATCHING FOR BP------\n",
            "DEBUG:root:------CHILDREN NAMES------\n",
            "DEBUG:root:------EDUCATION INSTITUTIONS------\n",
            "DEBUG:root:------PARENTS NAMES------\n",
            "DEBUG:root:------SPOUSES NAMES------\n"
          ],
          "name": "stderr"
        },
        {
          "output_type": "stream",
          "text": [
            "[['Born', 'GPE'], ['PR Croatia', 'FPR Yugoslavia', 'Zagreb']]\n",
            "info card is scraped successfully\n",
            "[['Born', 'PERSON'], []]\n",
            "[['Born', 'DATE'], ['1934-12-24', '24 December 1934']]\n",
            "[['Born', 'GPE'], ['Yugoslavia', 'Orahovica']]\n",
            "[['Children', 'PERSON'], ['Dunja', 'Saša']]\n",
            "[['Spouse(s)', 'PERSON'], ['Milka Mesić']]\n"
          ],
          "name": "stdout"
        },
        {
          "output_type": "stream",
          "text": [
            "DEBUG:root:------BIRTHDAY MATCHING------\n",
            "DEBUG:root:------BIRTH PLACES------\n",
            "DEBUG:root:------NOUN CHUNCK MATCHING FOR BP------\n",
            "DEBUG:root:------CHILDREN NAMES------\n",
            "DEBUG:root:------NOUN CHUNCK MATCHING CHILDREN------\n",
            "DEBUG:root:------EDUCATION INSTITUTIONS------\n",
            "DEBUG:root:------PARENTS NAMES------\n",
            "DEBUG:root:------SPOUSES NAMES------\n",
            "DEBUG:root:------NOUN CHUNCK MATCHING FOR SPOUSES------\n",
            "DEBUG:root:('Milka Dudunić', 'SP', (728, 730))\n"
          ],
          "name": "stderr"
        },
        {
          "output_type": "stream",
          "text": [
            "failed to annotate the page!\n",
            "https://en.wikipedia.org/wiki/Josip_Torbar_(politician)\n",
            "info card is scraped successfully\n",
            "[['Born', 'PERSON'], []]\n",
            "[['Born', 'DATE'], ['1957-08-28', '28 August 1957']]\n",
            "[['Born', 'GPE'], ['PR Croatia', 'FPR Yugoslavia', 'Zagreb']]\n",
            "[['Children', 'PERSON'], []]\n",
            "[['Spouse(s)', 'PERSON'], ['Tatjana Josipović']]\n"
          ],
          "name": "stdout"
        },
        {
          "output_type": "stream",
          "text": [
            "DEBUG:root:------BIRTHDAY MATCHING------\n",
            "DEBUG:root:------BIRTH PLACES------\n",
            "DEBUG:root:------NOUN CHUNCK MATCHING FOR BP------\n",
            "DEBUG:root:------CHILDREN NAMES------\n",
            "DEBUG:root:------NOUN CHUNCK MATCHING CHILDREN------\n",
            "DEBUG:root:------EDUCATION INSTITUTIONS------\n",
            "DEBUG:root:------PARENTS NAMES------\n",
            "DEBUG:root:------SPOUSES NAMES------\n",
            "DEBUG:root:------NOUN CHUNCK MATCHING FOR SPOUSES------\n",
            "DEBUG:root:('Tatjana', 'SP', (509, 510))\n"
          ],
          "name": "stderr"
        },
        {
          "output_type": "stream",
          "text": [
            "info card is scraped successfully\n",
            "[['Born', 'PERSON'], ['Miguel Mario Díaz-Canel Bermúdez', 'Villa Clara']]\n",
            "[['Born', 'DATE'], ['1960-04-20', '20 April 1960']]\n",
            "[['Born', 'GPE'], ['Villa Clara', 'Placetas']]\n",
            "[['Children', 'PERSON'], []]\n",
            "[['Spouse(s)', 'PERSON'], ['Lis Cuesta']]\n"
          ],
          "name": "stdout"
        },
        {
          "output_type": "stream",
          "text": [
            "DEBUG:root:------BIRTHDAY MATCHING------\n",
            "DEBUG:root:------BIRTH PLACES------\n",
            "DEBUG:root:------NOUN CHUNCK MATCHING FOR BP------\n",
            "DEBUG:root:------CHILDREN NAMES------\n",
            "DEBUG:root:------NOUN CHUNCK MATCHING CHILDREN------\n"
          ],
          "name": "stderr"
        },
        {
          "output_type": "stream",
          "text": [
            "[['Education', 'ORG'], ['Marta Abreu University of Las Villas']]\n"
          ],
          "name": "stdout"
        },
        {
          "output_type": "stream",
          "text": [
            "DEBUG:root:------EDUCATION INSTITUTIONS------\n",
            "DEBUG:root:------NOUN CHUNCK MATCHING FOR EDUCATION------\n",
            "DEBUG:root:------PARENTS NAMES------\n",
            "DEBUG:root:------SPOUSES NAMES------\n",
            "DEBUG:root:------NOUN CHUNCK MATCHING FOR SPOUSES------\n",
            "DEBUG:root:('Las Villas', 'SP', (345, 347))\n",
            "DEBUG:root:('Lis Cuesta', 'SP', (895, 897))\n"
          ],
          "name": "stderr"
        },
        {
          "output_type": "stream",
          "text": [
            "info card is scraped successfully\n",
            "[['Born', 'PERSON'], []]\n",
            "[['Born', 'DATE'], ['1946-09-27', '27 September 1946']]\n",
            "[['Born', 'GPE'], ['British Cyprus', 'Pera Pedi']]\n",
            "[['Children', 'PERSON'], []]\n"
          ],
          "name": "stdout"
        },
        {
          "output_type": "stream",
          "text": [
            "DEBUG:root:------BIRTHDAY MATCHING------\n",
            "DEBUG:root:------BIRTH PLACES------\n",
            "DEBUG:root:------NOUN CHUNCK MATCHING FOR BP------\n"
          ],
          "name": "stderr"
        },
        {
          "output_type": "stream",
          "text": [
            "[['Spouse(s)', 'PERSON'], ['Andri Moustakoudes']]\n"
          ],
          "name": "stdout"
        },
        {
          "output_type": "stream",
          "text": [
            "DEBUG:root:------CHILDREN NAMES------\n",
            "DEBUG:root:------NOUN CHUNCK MATCHING CHILDREN------\n",
            "DEBUG:root:------EDUCATION INSTITUTIONS------\n",
            "DEBUG:root:------PARENTS NAMES------\n",
            "DEBUG:root:------SPOUSES NAMES------\n",
            "DEBUG:root:------NOUN CHUNCK MATCHING FOR SPOUSES------\n",
            "DEBUG:root:('Andri Moustakoudi', 'SP', (981, 983))\n"
          ],
          "name": "stderr"
        },
        {
          "output_type": "stream",
          "text": [
            "info card is scraped successfully\n",
            "[['Born', 'PERSON'], []]\n",
            "[['Born', 'DATE'], ['1919-04-24', '24 April 1919']]\n",
            "[['Born', 'GPE'], ['Nicosia']]\n"
          ],
          "name": "stdout"
        },
        {
          "output_type": "stream",
          "text": [
            "DEBUG:root:------BIRTHDAY MATCHING------\n",
            "DEBUG:root:------BIRTH PLACES------\n",
            "DEBUG:root:------NOUN CHUNCK MATCHING FOR BP------\n",
            "DEBUG:root:------CHILDREN NAMES------\n",
            "DEBUG:root:------EDUCATION INSTITUTIONS------\n",
            "DEBUG:root:------PARENTS NAMES------\n",
            "DEBUG:root:------SPOUSES NAMES------\n",
            "DEBUG:root:------NOUN CHUNCK MATCHING FOR SPOUSES------\n",
            "DEBUG:root:('married Lila Erulkar', 'SP', (95, 98))\n"
          ],
          "name": "stderr"
        },
        {
          "output_type": "stream",
          "text": [
            "[['Spouse(s)', 'PERSON'], ['Lila Erulkar']]\n",
            "info card is scraped successfully\n",
            "[['Born', 'PERSON'], []]\n",
            "[['Born', 'DATE'], ['1931-05-20', 'May 20, 1931']]\n",
            "[['Born', 'GPE'], ['Famagusta']]\n",
            "[['Children', 'PERSON'], []]\n"
          ],
          "name": "stdout"
        },
        {
          "output_type": "stream",
          "text": [
            "DEBUG:root:------BIRTHDAY MATCHING------\n",
            "DEBUG:root:------BIRTH PLACES------\n",
            "DEBUG:root:------NOUN CHUNCK MATCHING FOR BP------\n",
            "DEBUG:root:------CHILDREN NAMES------\n",
            "DEBUG:root:------NOUN CHUNCK MATCHING CHILDREN------\n",
            "DEBUG:root:------EDUCATION INSTITUTIONS------\n",
            "DEBUG:root:------PARENTS NAMES------\n",
            "DEBUG:root:------SPOUSES NAMES------\n",
            "DEBUG:root:('Androulla Vassiliou', 'SP', (520, 522))\n",
            "DEBUG:root:------NOUN CHUNCK MATCHING FOR SPOUSES------\n",
            "DEBUG:root:('Androulla Vassiliou', 'SP', (520, 522))\n"
          ],
          "name": "stderr"
        },
        {
          "output_type": "stream",
          "text": [
            "[['Spouse(s)', 'PERSON'], ['Androulla Vassiliou']]\n",
            "info card is scraped successfully\n",
            "[['Born', 'PERSON'], []]\n",
            "[['Born', 'DATE'], ['1913-08-13', '13 August 1913']]\n",
            "[['Born', 'GPE'], ['Paphos', 'British Protectorate of Cyprus', 'Panayia']]\n"
          ],
          "name": "stdout"
        },
        {
          "output_type": "stream",
          "text": [
            "DEBUG:root:------BIRTHDAY MATCHING------\n",
            "DEBUG:root:------BIRTH PLACES------\n",
            "DEBUG:root:------NOUN CHUNCK MATCHING FOR BP------\n",
            "DEBUG:root:------CHILDREN NAMES------\n",
            "DEBUG:root:------EDUCATION INSTITUTIONS------\n",
            "DEBUG:root:------PARENTS NAMES------\n",
            "DEBUG:root:------SPOUSES NAMES------\n"
          ],
          "name": "stderr"
        },
        {
          "output_type": "stream",
          "text": [
            "info card is scraped successfully\n",
            "[['Born', 'PERSON'], ['Kato Dikomo']]\n",
            "[['Born', 'DATE'], ['1946-08-29', '29 August 1946']]\n",
            "[['Born', 'GPE'], ['British Cyprus', 'Kato Dikomo']]\n",
            "[['Children', 'PERSON'], []]\n",
            "[['Spouse(s)', 'PERSON'], []]\n",
            "[['Education', 'ORG'], ['Russian Academy of Sciences']]\n"
          ],
          "name": "stdout"
        },
        {
          "output_type": "stream",
          "text": [
            "DEBUG:root:------BIRTHDAY MATCHING------\n",
            "DEBUG:root:------BIRTH PLACES------\n",
            "DEBUG:root:------NOUN CHUNCK MATCHING FOR BP------\n",
            "DEBUG:root:------CHILDREN NAMES------\n",
            "DEBUG:root:------NOUN CHUNCK MATCHING CHILDREN------\n",
            "DEBUG:root:------EDUCATION INSTITUTIONS------\n",
            "DEBUG:root:------NOUN CHUNCK MATCHING FOR EDUCATION------\n",
            "DEBUG:root:------PARENTS NAMES------\n",
            "DEBUG:root:------SPOUSES NAMES------\n",
            "DEBUG:root:------NOUN CHUNCK MATCHING FOR SPOUSES------\n"
          ],
          "name": "stderr"
        },
        {
          "output_type": "stream",
          "text": [
            "info card is scraped successfully\n",
            "[['Born', 'PERSON'], []]\n",
            "[['Born', 'DATE'], ['1932-10-28', '28 October 1932']]\n",
            "[['Born', 'GPE'], ['Limassol']]\n",
            "[['Children', 'PERSON'], ['Markos Kyprianou']]\n"
          ],
          "name": "stdout"
        },
        {
          "output_type": "stream",
          "text": [
            "DEBUG:root:------BIRTHDAY MATCHING------\n",
            "DEBUG:root:------BIRTH PLACES------\n",
            "DEBUG:root:------NOUN CHUNCK MATCHING FOR BP------\n",
            "DEBUG:root:------CHILDREN NAMES------\n",
            "DEBUG:root:('Markos Kyprianou', 'CH', (922, 924))\n",
            "DEBUG:root:------NOUN CHUNCK MATCHING CHILDREN------\n"
          ],
          "name": "stderr"
        },
        {
          "output_type": "stream",
          "text": [
            "[['Spouse(s)', 'PERSON'], []]\n"
          ],
          "name": "stdout"
        },
        {
          "output_type": "stream",
          "text": [
            "DEBUG:root:('Markos', 'CH', (915, 916))\n",
            "DEBUG:root:('Markos Kyprianou', 'CH', (922, 924))\n",
            "DEBUG:root:------EDUCATION INSTITUTIONS------\n",
            "DEBUG:root:------PARENTS NAMES------\n",
            "DEBUG:root:------SPOUSES NAMES------\n",
            "DEBUG:root:------NOUN CHUNCK MATCHING FOR SPOUSES------\n"
          ],
          "name": "stderr"
        },
        {
          "output_type": "stream",
          "text": [
            "info card is scraped successfully\n",
            "[['Born', 'PERSON'], []]\n",
            "[['Born', 'DATE'], ['1934-01-07']]\n",
            "[['Born', 'GPE'], ['British Cyprus']]\n",
            "[['Children', 'PERSON'], []]\n"
          ],
          "name": "stdout"
        },
        {
          "output_type": "stream",
          "text": [
            "DEBUG:root:------BIRTHDAY MATCHING------\n"
          ],
          "name": "stderr"
        },
        {
          "output_type": "stream",
          "text": [
            "[['Spouse(s)', 'PERSON'], []]\n"
          ],
          "name": "stdout"
        },
        {
          "output_type": "stream",
          "text": [
            "DEBUG:root:------BIRTH PLACES------\n",
            "DEBUG:root:------NOUN CHUNCK MATCHING FOR BP------\n",
            "DEBUG:root:------CHILDREN NAMES------\n",
            "DEBUG:root:------NOUN CHUNCK MATCHING CHILDREN------\n",
            "DEBUG:root:------EDUCATION INSTITUTIONS------\n",
            "DEBUG:root:------PARENTS NAMES------\n",
            "DEBUG:root:------SPOUSES NAMES------\n",
            "DEBUG:root:------NOUN CHUNCK MATCHING FOR SPOUSES------\n"
          ],
          "name": "stderr"
        },
        {
          "output_type": "stream",
          "text": [
            "info card is scraped successfully\n",
            "[['Born', 'PERSON'], []]\n",
            "[['Born', 'DATE'], ['1944-09-28', '28 September 1944']]\n",
            "[['Born', 'GPE'], ['Protectorate of Bohemia and Moravia', 'Kolín']]\n",
            "[['Children', 'PERSON'], ['David', 'Kateřina']]\n",
            "[['Spouse(s)', 'PERSON'], ['Blanka Zemanová  ', 'Ivana Bednarčíková']]\n"
          ],
          "name": "stdout"
        },
        {
          "output_type": "stream",
          "text": [
            "DEBUG:root:------BIRTHDAY MATCHING------\n",
            "DEBUG:root:------BIRTH PLACES------\n",
            "DEBUG:root:------NOUN CHUNCK MATCHING FOR BP------\n",
            "DEBUG:root:------CHILDREN NAMES------\n",
            "DEBUG:root:('David', 'CH', (4913, 4914))\n",
            "DEBUG:root:('Kateřina Zemanová', 'CH', (4925, 4927))\n",
            "DEBUG:root:------NOUN CHUNCK MATCHING CHILDREN------\n",
            "DEBUG:root:('Kateřina Zemanová', 'CH', (4925, 4927))\n",
            "DEBUG:root:------EDUCATION INSTITUTIONS------\n",
            "DEBUG:root:------PARENTS NAMES------\n",
            "DEBUG:root:------SPOUSES NAMES------\n",
            "DEBUG:root:('Ivan Brezina', 'SP', (4654, 4656))\n",
            "DEBUG:root:('Blanka Zemanová', 'SP', (4881, 4883))\n",
            "DEBUG:root:------NOUN CHUNCK MATCHING FOR SPOUSES------\n",
            "DEBUG:root:('Blanka Zemanová', 'SP', (4881, 4883))\n",
            "DEBUG:root:('Ivana Bednarčíková', 'SP', (4898, 4900))\n"
          ],
          "name": "stderr"
        },
        {
          "output_type": "stream",
          "text": [
            "info card is scraped successfully\n",
            "[['Born', 'PERSON'], []]\n",
            "[['Born', 'DATE'], ['1936-10-05']]\n",
            "[['Born', 'GPE'], ['Czechoslovakia']]\n",
            "[['Spouse(s)', 'PERSON'], ['Olga Šplíchalová', 'Dagmar Veškrnová']]\n"
          ],
          "name": "stdout"
        },
        {
          "output_type": "stream",
          "text": [
            "DEBUG:root:------BIRTHDAY MATCHING------\n",
            "DEBUG:root:------BIRTH PLACES------\n",
            "DEBUG:root:------NOUN CHUNCK MATCHING FOR BP------\n",
            "DEBUG:root:------CHILDREN NAMES------\n",
            "DEBUG:root:------EDUCATION INSTITUTIONS------\n",
            "DEBUG:root:------PARENTS NAMES------\n",
            "DEBUG:root:------SPOUSES NAMES------\n",
            "DEBUG:root:('Dagmar Havlová', 'SP', (2205, 2207))\n",
            "DEBUG:root:('Dagmar Veškrnová', 'SP', (2387, 2389))\n",
            "DEBUG:root:('Dagmar Havlová', 'SP', (4355, 4357))\n",
            "DEBUG:root:('Dagmar Havlová', 'SP', (4433, 4435))\n",
            "DEBUG:root:------NOUN CHUNCK MATCHING FOR SPOUSES------\n",
            "DEBUG:root:('Olga Šplíchalová', 'SP', (703, 705))\n",
            "DEBUG:root:('Olga', 'SP', (1269, 1270))\n",
            "DEBUG:root:('Dagmar Havlová', 'SP', (2205, 2207))\n",
            "DEBUG:root:('Olga Havlová', 'SP', (2330, 2332))\n",
            "DEBUG:root:('Dagmar Veškrnová', 'SP', (2387, 2389))\n",
            "DEBUG:root:('Dagmar Havlová', 'SP', (4355, 4357))\n",
            "DEBUG:root:('Dagmar Havlová', 'SP', (4433, 4435))\n"
          ],
          "name": "stderr"
        },
        {
          "output_type": "stream",
          "text": [
            "info card is scraped successfully\n",
            "[['Born', 'PERSON'], []]\n",
            "[['Born', 'DATE'], ['1941-06-19', '19 June 1941']]\n",
            "[['Born', 'GPE'], ['Protectorate of Bohemia and Moravia', 'Prague']]\n",
            "[['Children', 'PERSON'], ['Václav']]\n",
            "[['Spouse(s)', 'PERSON'], ['Livia Mištinová']]\n"
          ],
          "name": "stdout"
        },
        {
          "output_type": "stream",
          "text": [
            "DEBUG:root:------BIRTHDAY MATCHING------\n",
            "DEBUG:root:------BIRTH PLACES------\n",
            "DEBUG:root:------NOUN CHUNCK MATCHING FOR BP------\n",
            "DEBUG:root:------CHILDREN NAMES------\n",
            "DEBUG:root:('Václav Klaus', 'CH', (1, 3))\n",
            "DEBUG:root:('Václav Havel', 'CH', (739, 741))\n",
            "DEBUG:root:('Václav Havel', 'CH', (1144, 1146))\n",
            "DEBUG:root:('Václav Havel', 'CH', (1272, 1274))\n",
            "DEBUG:root:('Václav Klaus', 'CH', (1660, 1662))\n",
            "DEBUG:root:('Václav Klaus', 'CH', (2463, 2465))\n",
            "DEBUG:root:('Václav Klaus', 'CH', (3262, 3264))\n",
            "DEBUG:root:('Václav Havel', 'CH', (3684, 3686))\n",
            "DEBUG:root:('Václav Havel', 'CH', (4185, 4187))\n",
            "DEBUG:root:('Václav Klaus Jr.', 'CH', (4637, 4640))\n",
            "DEBUG:root:('Václav Klaus', 'CH', (4678, 4680))\n",
            "DEBUG:root:('Václav Klaus', 'CH', (4793, 4795))\n",
            "DEBUG:root:('Václav Klaus', 'CH', (5526, 5528))\n",
            "DEBUG:root:------NOUN CHUNCK MATCHING CHILDREN------\n",
            "DEBUG:root:(' Václav Klaus', 'CH', (0, 3))\n",
            "DEBUG:root:('President Václav Havel', 'CH', (738, 741))\n",
            "DEBUG:root:('Václav Havel', 'CH', (1144, 1146))\n",
            "DEBUG:root:('Václav Havel', 'CH', (1272, 1274))\n",
            "DEBUG:root:('Václav Klaus', 'CH', (1660, 1662))\n",
            "DEBUG:root:('Václav Klaus', 'CH', (2463, 2465))\n",
            "DEBUG:root:('Václav Klaus', 'CH', (3262, 3264))\n",
            "DEBUG:root:('President Václav Havel', 'CH', (3683, 3686))\n",
            "DEBUG:root:('Václav Havel', 'CH', (4185, 4187))\n",
            "DEBUG:root:('Václav Klaus Jr.', 'CH', (4637, 4640))\n",
            "DEBUG:root:('Václav Klaus', 'CH', (4678, 4680))\n",
            "DEBUG:root:('Václav Klaus', 'CH', (4793, 4795))\n",
            "DEBUG:root:('Václav Klaus', 'CH', (5526, 5528))\n",
            "DEBUG:root:('Václav', 'CH', (5543, 5544))\n",
            "DEBUG:root:------EDUCATION INSTITUTIONS------\n",
            "DEBUG:root:------PARENTS NAMES------\n",
            "DEBUG:root:------SPOUSES NAMES------\n",
            "DEBUG:root:------NOUN CHUNCK MATCHING FOR SPOUSES------\n",
            "DEBUG:root:('Livia Klausová', 'SP', (5531, 5533))\n"
          ],
          "name": "stderr"
        },
        {
          "output_type": "stream",
          "text": [
            "info card is scraped successfully\n",
            "[['Born', 'PERSON'], ['Dire Dawa']]\n",
            "[['Born', 'DATE'], ['1946-11-27', '27 November 1946']]\n",
            "[['Born', 'GPE'], ['Ethiopia', 'Dire Dawa']]\n",
            "[['Children', 'PERSON'], ['Haïbado Ismaïl Omar', 'Fatouma-Awo Guelleh', 'Abdinasir Omar Saalah']]\n"
          ],
          "name": "stdout"
        },
        {
          "output_type": "stream",
          "text": [
            "DEBUG:root:------BIRTHDAY MATCHING------\n",
            "DEBUG:root:------BIRTH PLACES------\n",
            "DEBUG:root:------NOUN CHUNCK MATCHING FOR BP------\n",
            "DEBUG:root:------CHILDREN NAMES------\n",
            "DEBUG:root:------NOUN CHUNCK MATCHING CHILDREN------\n",
            "DEBUG:root:------EDUCATION INSTITUTIONS------\n",
            "DEBUG:root:------PARENTS NAMES------\n",
            "DEBUG:root:------SPOUSES NAMES------\n",
            "DEBUG:root:------NOUN CHUNCK MATCHING FOR SPOUSES------\n"
          ],
          "name": "stderr"
        },
        {
          "output_type": "stream",
          "text": [
            "[['Spouse(s)', 'PERSON'], ['Kadra Mahamoud Haid']]\n",
            "info card is scraped successfully\n",
            "[['Born', 'PERSON'], []]\n",
            "[['Born', 'DATE'], ['1916-10-15', '15 October 1916']]\n",
            "[['Born', 'GPE'], ['British Somaliland', 'Lughaya']]\n"
          ],
          "name": "stdout"
        },
        {
          "output_type": "stream",
          "text": [
            "DEBUG:root:------BIRTHDAY MATCHING------\n",
            "DEBUG:root:------BIRTH PLACES------\n",
            "DEBUG:root:------NOUN CHUNCK MATCHING FOR BP------\n",
            "DEBUG:root:------CHILDREN NAMES------\n",
            "DEBUG:root:------EDUCATION INSTITUTIONS------\n",
            "DEBUG:root:------PARENTS NAMES------\n",
            "DEBUG:root:------SPOUSES NAMES------\n",
            "DEBUG:root:------NOUN CHUNCK MATCHING FOR SPOUSES------\n",
            "DEBUG:root:('former First Lady Aicha Bogoreh', 'SP', (755, 760))\n"
          ],
          "name": "stderr"
        },
        {
          "output_type": "stream",
          "text": [
            "[['Spouse(s)', 'PERSON'], ['Aicha Bogoreh']]\n",
            "info card is scraped successfully\n",
            "[['Born', 'PERSON'], []]\n",
            "[['Born', 'DATE'], ['1943-10-02']]\n",
            "[['Born', 'GPE'], ['British Leeward Islands']]\n"
          ],
          "name": "stdout"
        },
        {
          "output_type": "stream",
          "text": [
            "DEBUG:root:------BIRTHDAY MATCHING------\n",
            "DEBUG:root:------BIRTH PLACES------\n",
            "DEBUG:root:------NOUN CHUNCK MATCHING FOR BP------\n",
            "DEBUG:root:------CHILDREN NAMES------\n",
            "DEBUG:root:------EDUCATION INSTITUTIONS------\n",
            "DEBUG:root:------PARENTS NAMES------\n",
            "DEBUG:root:------SPOUSES NAMES------\n",
            "DEBUG:root:------NOUN CHUNCK MATCHING FOR SPOUSES------\n"
          ],
          "name": "stderr"
        },
        {
          "output_type": "stream",
          "text": [
            "[['Spouse(s)', 'PERSON'], ['Clara Josephine Savarin']]\n",
            "failed to annotate the page!\n",
            "https://en.wikipedia.org/wiki/Vernon_Shaw\n",
            "info card is scraped successfully\n",
            "[['Born', 'PERSON'], ['Nicholas Joseph Orville Liverpool']]\n",
            "[['Born', 'DATE'], ['1934-09-09', '9 September 1934']]\n",
            "[['Born', 'GPE'], ['British Leeward Islands', 'Grand Bay']]\n"
          ],
          "name": "stdout"
        },
        {
          "output_type": "stream",
          "text": [
            "DEBUG:root:------BIRTHDAY MATCHING------\n",
            "DEBUG:root:------BIRTH PLACES------\n",
            "DEBUG:root:------NOUN CHUNCK MATCHING FOR BP------\n",
            "DEBUG:root:------CHILDREN NAMES------\n",
            "DEBUG:root:------EDUCATION INSTITUTIONS------\n",
            "DEBUG:root:------PARENTS NAMES------\n",
            "DEBUG:root:------SPOUSES NAMES------\n",
            "DEBUG:root:------NOUN CHUNCK MATCHING FOR SPOUSES------\n"
          ],
          "name": "stderr"
        },
        {
          "output_type": "stream",
          "text": [
            "[['Spouse(s)', 'PERSON'], ['Verna Liverpool']]\n",
            "info card is scraped successfully\n",
            "[['Born', 'PERSON'], []]\n",
            "[['Born', 'DATE'], ['1948-08-21', '21 August 1948']]\n"
          ],
          "name": "stdout"
        },
        {
          "output_type": "stream",
          "text": [
            "DEBUG:root:------BIRTHDAY MATCHING------\n",
            "DEBUG:root:------BIRTH PLACES------\n",
            "DEBUG:root:------NOUN CHUNCK MATCHING FOR BP------\n",
            "DEBUG:root:------CHILDREN NAMES------\n",
            "DEBUG:root:------EDUCATION INSTITUTIONS------\n",
            "DEBUG:root:------PARENTS NAMES------\n",
            "DEBUG:root:------SPOUSES NAMES------\n"
          ],
          "name": "stderr"
        },
        {
          "output_type": "stream",
          "text": [
            "[['Born', 'GPE'], []]\n",
            "info card is scraped successfully\n",
            "[['Born', 'PERSON'], []]\n",
            "[['Born', 'DATE'], ['1951-11-10', '10 November 1951']]\n",
            "[['Born', 'GPE'], ['Dominican Republic', 'Bohechío']]\n",
            "[['Spouse(s)', 'PERSON'], ['Cándida Montilla']]\n"
          ],
          "name": "stdout"
        },
        {
          "output_type": "stream",
          "text": [
            "DEBUG:root:------BIRTHDAY MATCHING------\n",
            "DEBUG:root:------BIRTH PLACES------\n",
            "DEBUG:root:------NOUN CHUNCK MATCHING FOR BP------\n",
            "DEBUG:root:------CHILDREN NAMES------\n",
            "DEBUG:root:------EDUCATION INSTITUTIONS------\n",
            "DEBUG:root:------PARENTS NAMES------\n",
            "DEBUG:root:------SPOUSES NAMES------\n",
            "DEBUG:root:('Cándida Montilla', 'SP', (322, 324))\n",
            "DEBUG:root:------NOUN CHUNCK MATCHING FOR SPOUSES------\n",
            "DEBUG:root:('psychologist Cándida Montilla', 'SP', (321, 324))\n"
          ],
          "name": "stderr"
        },
        {
          "output_type": "stream",
          "text": [
            "info card is scraped successfully\n",
            "[['Born', 'PERSON'], ['Leonel Antonio Fernández Reyna']]\n",
            "[['Born', 'DATE'], ['1953-12-26', '26 December 1953']]\n",
            "[['Born', 'GPE'], ['Dominican Republic', 'Santo Domingo']]\n",
            "[['Spouse(s)', 'PERSON'], ['Margarita Cedeño']]\n"
          ],
          "name": "stdout"
        },
        {
          "output_type": "stream",
          "text": [
            "DEBUG:root:------BIRTHDAY MATCHING------\n",
            "DEBUG:root:------BIRTH PLACES------\n",
            "DEBUG:root:------NOUN CHUNCK MATCHING FOR BP------\n",
            "DEBUG:root:------CHILDREN NAMES------\n",
            "DEBUG:root:------EDUCATION INSTITUTIONS------\n",
            "DEBUG:root:------PARENTS NAMES------\n",
            "DEBUG:root:------SPOUSES NAMES------\n",
            "DEBUG:root:('Margarita Cedeño Lizardo', 'SP', (1464, 1467))\n",
            "DEBUG:root:------NOUN CHUNCK MATCHING FOR SPOUSES------\n",
            "DEBUG:root:('Margarita Cedeño Lizardo', 'SP', (1464, 1467))\n"
          ],
          "name": "stderr"
        },
        {
          "output_type": "stream",
          "text": [
            "info card is scraped successfully\n",
            "[['Born', 'PERSON'], []]\n",
            "[['Born', 'DATE'], ['1941-02-22', '22 February 1941']]\n",
            "[['Born', 'GPE'], ['Dominican Republic', 'Santiago de los Caballeros']]\n",
            "[['Children', 'PERSON'], ['Ramón Hipólito', 'Felipe Mejía', 'Carolina Mejía de Garrigó', 'Lissa Mejía']]\n",
            "[['Spouse(s)', 'PERSON'], ['Rosa Gómez Arias']]\n"
          ],
          "name": "stdout"
        },
        {
          "output_type": "stream",
          "text": [
            "DEBUG:root:------BIRTHDAY MATCHING------\n",
            "DEBUG:root:------BIRTH PLACES------\n",
            "DEBUG:root:------NOUN CHUNCK MATCHING FOR BP------\n",
            "DEBUG:root:------CHILDREN NAMES------\n",
            "DEBUG:root:------NOUN CHUNCK MATCHING CHILDREN------\n",
            "DEBUG:root:('North Carolina State University', 'CH', (238, 242))\n",
            "DEBUG:root:('Carolina Mejía de Garrigó', 'CH', (272, 276))\n",
            "DEBUG:root:('Ramón Báez Figueroa', 'CH', (728, 731))\n",
            "DEBUG:root:------EDUCATION INSTITUTIONS------\n",
            "DEBUG:root:------PARENTS NAMES------\n",
            "DEBUG:root:------SPOUSES NAMES------\n",
            "DEBUG:root:------NOUN CHUNCK MATCHING FOR SPOUSES------\n",
            "DEBUG:root:('Rosa Gómez Arias', 'SP', (253, 256))\n"
          ],
          "name": "stderr"
        },
        {
          "output_type": "stream",
          "text": [
            "info card is scraped successfully\n",
            "[['Born', 'PERSON'], ['Leonel Antonio Fernández Reyna']]\n",
            "[['Born', 'DATE'], ['1953-12-26', '26 December 1953']]\n",
            "[['Born', 'GPE'], ['Dominican Republic', 'Santo Domingo']]\n",
            "[['Spouse(s)', 'PERSON'], ['Margarita Cedeño']]\n"
          ],
          "name": "stdout"
        },
        {
          "output_type": "stream",
          "text": [
            "DEBUG:root:------BIRTHDAY MATCHING------\n",
            "DEBUG:root:------BIRTH PLACES------\n",
            "DEBUG:root:------NOUN CHUNCK MATCHING FOR BP------\n",
            "DEBUG:root:------CHILDREN NAMES------\n",
            "DEBUG:root:------EDUCATION INSTITUTIONS------\n",
            "DEBUG:root:------PARENTS NAMES------\n",
            "DEBUG:root:------SPOUSES NAMES------\n",
            "DEBUG:root:('Margarita Cedeño Lizardo', 'SP', (1464, 1467))\n",
            "DEBUG:root:------NOUN CHUNCK MATCHING FOR SPOUSES------\n",
            "DEBUG:root:('Margarita Cedeño Lizardo', 'SP', (1464, 1467))\n"
          ],
          "name": "stderr"
        },
        {
          "output_type": "stream",
          "text": [
            "info card is scraped successfully\n",
            "[['Born', 'PERSON'], []]\n",
            "[['Born', 'DATE'], ['1954-09-07', '7 September 1954']]\n",
            "[['Born', 'GPE'], ['Portuguese Timor', 'Ossu']]\n"
          ],
          "name": "stdout"
        },
        {
          "output_type": "stream",
          "text": [
            "DEBUG:root:------BIRTHDAY MATCHING------\n",
            "DEBUG:root:------BIRTH PLACES------\n",
            "DEBUG:root:------NOUN CHUNCK MATCHING FOR BP------\n",
            "DEBUG:root:------CHILDREN NAMES------\n",
            "DEBUG:root:------EDUCATION INSTITUTIONS------\n",
            "DEBUG:root:------PARENTS NAMES------\n",
            "DEBUG:root:------SPOUSES NAMES------\n",
            "DEBUG:root:------NOUN CHUNCK MATCHING FOR SPOUSES------\n"
          ],
          "name": "stderr"
        },
        {
          "output_type": "stream",
          "text": [
            "[['Spouse(s)', 'PERSON'], ['Cidália Lopes Nobre Mouzinho Guterres']]\n",
            "info card is scraped successfully\n",
            "[['Born', 'PERSON'], []]\n",
            "[['Born', 'DATE'], ['1949-11-26']]\n"
          ],
          "name": "stdout"
        },
        {
          "output_type": "stream",
          "text": [
            "DEBUG:root:------BIRTHDAY MATCHING------\n",
            "DEBUG:root:------BIRTH PLACES------\n",
            "DEBUG:root:------NOUN CHUNCK MATCHING FOR BP------\n"
          ],
          "name": "stderr"
        },
        {
          "output_type": "stream",
          "text": [
            "[['Born', 'GPE'], ['Portuguese Timor']]\n"
          ],
          "name": "stdout"
        },
        {
          "output_type": "stream",
          "text": [
            "DEBUG:root:------CHILDREN NAMES------\n",
            "DEBUG:root:------EDUCATION INSTITUTIONS------\n",
            "DEBUG:root:------PARENTS NAMES------\n",
            "DEBUG:root:------SPOUSES NAMES------\n",
            "DEBUG:root:------BIRTHDAY MATCHING------\n",
            "DEBUG:root:------BIRTH PLACES------\n",
            "DEBUG:root:------CHILDREN NAMES------\n",
            "DEBUG:root:------EDUCATION INSTITUTIONS------\n",
            "DEBUG:root:------PARENTS NAMES------\n",
            "DEBUG:root:------SPOUSES NAMES------\n"
          ],
          "name": "stderr"
        },
        {
          "output_type": "stream",
          "text": [
            "info card is scraped successfully\n",
            "info card is scraped successfully\n",
            "[['Born', 'PERSON'], []]\n",
            "[['Born', 'DATE'], ['1952-08-04', '4 August 1952']]\n"
          ],
          "name": "stdout"
        },
        {
          "output_type": "stream",
          "text": [
            "DEBUG:root:------BIRTHDAY MATCHING------\n",
            "DEBUG:root:------BIRTH PLACES------\n",
            "DEBUG:root:------NOUN CHUNCK MATCHING FOR BP------\n"
          ],
          "name": "stderr"
        },
        {
          "output_type": "stream",
          "text": [
            "[['Born', 'GPE'], ['Portuguese Timor', 'Dili']]\n"
          ],
          "name": "stdout"
        },
        {
          "output_type": "stream",
          "text": [
            "DEBUG:root:------CHILDREN NAMES------\n",
            "DEBUG:root:------EDUCATION INSTITUTIONS------\n",
            "DEBUG:root:------PARENTS NAMES------\n",
            "DEBUG:root:------SPOUSES NAMES------\n"
          ],
          "name": "stderr"
        },
        {
          "output_type": "stream",
          "text": [
            "info card is scraped successfully\n",
            "[['Born', 'PERSON'], ['José Alexandre Gusmão']]\n",
            "[['Born', 'DATE'], ['1946-06-20', '20 June 1946']]\n",
            "[['Born', 'GPE'], ['Portuguese Timor', 'Manatuto']]\n",
            "[['Children', 'PERSON'], []]\n",
            "[['Spouse(s)', 'PERSON'], ['Emilia Batista ', 'Kirsty Sword']]\n"
          ],
          "name": "stdout"
        },
        {
          "output_type": "stream",
          "text": [
            "DEBUG:root:------BIRTHDAY MATCHING------\n",
            "DEBUG:root:------BIRTH PLACES------\n",
            "DEBUG:root:------NOUN CHUNCK MATCHING FOR BP------\n",
            "DEBUG:root:------CHILDREN NAMES------\n",
            "DEBUG:root:------NOUN CHUNCK MATCHING CHILDREN------\n",
            "DEBUG:root:------EDUCATION INSTITUTIONS------\n",
            "DEBUG:root:------PARENTS NAMES------\n",
            "DEBUG:root:------SPOUSES NAMES------\n",
            "DEBUG:root:('Emilia Batista', 'SP', (181, 183))\n",
            "DEBUG:root:('Emilia Batista', 'SP', (291, 293))\n",
            "DEBUG:root:('Kirsty Sword', 'SP', (320, 322))\n",
            "DEBUG:root:------NOUN CHUNCK MATCHING FOR SPOUSES------\n",
            "DEBUG:root:('Emilia Batista', 'SP', (181, 183))\n",
            "DEBUG:root:('Emilia Batista', 'SP', (291, 293))\n",
            "DEBUG:root:('divorced Emilia', 'SP', (310, 312))\n",
            "DEBUG:root:('Australian Kirsty Sword', 'SP', (319, 322))\n",
            "DEBUG:root:('Kirsty Sword', 'SP', (940, 942))\n"
          ],
          "name": "stderr"
        },
        {
          "output_type": "stream",
          "text": [
            "info card is scraped successfully\n",
            "[['Born', 'PERSON'], []]\n",
            "[['Born', 'DATE'], ['1956-10-10']]\n",
            "[['Born', 'GPE'], ['Portuguese Timor']]\n"
          ],
          "name": "stdout"
        },
        {
          "output_type": "stream",
          "text": [
            "DEBUG:root:------BIRTHDAY MATCHING------\n",
            "DEBUG:root:------BIRTH PLACES------\n",
            "DEBUG:root:------NOUN CHUNCK MATCHING FOR BP------\n",
            "DEBUG:root:------CHILDREN NAMES------\n",
            "DEBUG:root:------EDUCATION INSTITUTIONS------\n",
            "DEBUG:root:------PARENTS NAMES------\n",
            "DEBUG:root:------SPOUSES NAMES------\n",
            "DEBUG:root:------NOUN CHUNCK MATCHING FOR SPOUSES------\n"
          ],
          "name": "stderr"
        },
        {
          "output_type": "stream",
          "text": [
            "[['Spouse(s)', 'PERSON'], ['Isabel da Costa Ferreira']]\n"
          ],
          "name": "stdout"
        },
        {
          "output_type": "stream",
          "text": [
            "DEBUG:root:('Isabel da Costa Ferreira', 'SP', (634, 638))\n"
          ],
          "name": "stderr"
        },
        {
          "output_type": "stream",
          "text": [
            "info card is scraped successfully\n",
            "[['Born', 'PERSON'], ['José Manuel Ramos-Horta']]\n",
            "[['Born', 'DATE'], ['1949-12-26', '26 December 1949']]\n",
            "[['Born', 'GPE'], ['Portuguese Timor', 'Dili']]\n",
            "[['Children', 'PERSON'], []]\n",
            "[['Spouse(s)', 'PERSON'], ['Ana Pessoa']]\n"
          ],
          "name": "stdout"
        },
        {
          "output_type": "stream",
          "text": [
            "DEBUG:root:------BIRTHDAY MATCHING------\n",
            "DEBUG:root:------BIRTH PLACES------\n",
            "DEBUG:root:------NOUN CHUNCK MATCHING FOR BP------\n",
            "DEBUG:root:------CHILDREN NAMES------\n",
            "DEBUG:root:------NOUN CHUNCK MATCHING CHILDREN------\n",
            "DEBUG:root:------EDUCATION INSTITUTIONS------\n",
            "DEBUG:root:------PARENTS NAMES------\n",
            "DEBUG:root:------SPOUSES NAMES------\n",
            "DEBUG:root:------NOUN CHUNCK MATCHING FOR SPOUSES------\n",
            "DEBUG:root:('President Xanana Gusmão', 'SP', (220, 223))\n",
            "DEBUG:root:('Ana Pessoa Pinto', 'SP', (524, 527))\n",
            "DEBUG:root:('President Xanana Gusmão', 'SP', (1256, 1259))\n"
          ],
          "name": "stderr"
        },
        {
          "output_type": "stream",
          "text": [
            "info card is scraped successfully\n",
            "[['Born', 'PERSON'], []]\n",
            "[['Born', 'DATE'], ['1964-05-21', '21 May 1964']]\n"
          ],
          "name": "stdout"
        },
        {
          "output_type": "stream",
          "text": [
            "DEBUG:root:------BIRTHDAY MATCHING------\n",
            "DEBUG:root:------BIRTH PLACES------\n",
            "DEBUG:root:------NOUN CHUNCK MATCHING FOR BP------\n",
            "DEBUG:root:------CHILDREN NAMES------\n",
            "DEBUG:root:------EDUCATION INSTITUTIONS------\n",
            "DEBUG:root:------PARENTS NAMES------\n",
            "DEBUG:root:------SPOUSES NAMES------\n"
          ],
          "name": "stderr"
        },
        {
          "output_type": "stream",
          "text": [
            "[['Born', 'GPE'], ['Portuguese Timor', 'Mape']]\n",
            "info card is scraped successfully\n",
            "[['Born', 'PERSON'], ['Manutassi']]\n",
            "[['Born', 'DATE'], ['1963-02-26', '26 February 1963']]\n",
            "[['Born', 'GPE'], ['Portuguese Timor', 'Manutassi']]\n"
          ],
          "name": "stdout"
        },
        {
          "output_type": "stream",
          "text": [
            "DEBUG:root:------BIRTHDAY MATCHING------\n",
            "DEBUG:root:------BIRTH PLACES------\n",
            "DEBUG:root:------NOUN CHUNCK MATCHING FOR BP------\n",
            "DEBUG:root:------CHILDREN NAMES------\n",
            "DEBUG:root:------EDUCATION INSTITUTIONS------\n",
            "DEBUG:root:------PARENTS NAMES------\n",
            "DEBUG:root:------SPOUSES NAMES------\n",
            "DEBUG:root:('Jacqueline Siapno', 'SP', (682, 684))\n",
            "DEBUG:root:------NOUN CHUNCK MATCHING FOR SPOUSES------\n"
          ],
          "name": "stderr"
        },
        {
          "output_type": "stream",
          "text": [
            "[['Spouse(s)', 'PERSON'], ['Jacqueline Aquino Siapno']]\n"
          ],
          "name": "stdout"
        },
        {
          "output_type": "stream",
          "text": [
            "DEBUG:root:('Jacqueline Siapno', 'SP', (682, 684))\n"
          ],
          "name": "stderr"
        },
        {
          "output_type": "stream",
          "text": [
            "info card is scraped successfully\n",
            "[['Born', 'PERSON'], ['Lenín Boltaire Moreno Garcés', 'Nuevo Rocafuerte']]\n",
            "[['Born', 'DATE'], ['1953-03-19', '19 March 1953']]\n",
            "[['Born', 'GPE'], ['Ecuador', 'Nuevo Rocafuerte']]\n",
            "[['Children', 'PERSON'], []]\n",
            "[['Spouse(s)', 'PERSON'], ['Rocío González']]\n"
          ],
          "name": "stdout"
        },
        {
          "output_type": "stream",
          "text": [
            "DEBUG:root:------BIRTHDAY MATCHING------\n",
            "DEBUG:root:------BIRTH PLACES------\n",
            "DEBUG:root:------NOUN CHUNCK MATCHING FOR BP------\n",
            "DEBUG:root:------CHILDREN NAMES------\n",
            "DEBUG:root:------NOUN CHUNCK MATCHING CHILDREN------\n",
            "DEBUG:root:------EDUCATION INSTITUTIONS------\n",
            "DEBUG:root:------PARENTS NAMES------\n",
            "DEBUG:root:------SPOUSES NAMES------\n",
            "DEBUG:root:------NOUN CHUNCK MATCHING FOR SPOUSES------\n"
          ],
          "name": "stderr"
        },
        {
          "output_type": "stream",
          "text": [
            "info card is scraped successfully\n",
            "[['Born', 'PERSON'], ['Rafael Vicente Correa Delgado']]\n",
            "[['Born', 'DATE'], ['1963-04-06', '6 April 1963']]\n",
            "[['Born', 'GPE'], ['Ecuador', 'Guayaquil']]\n",
            "[['Children', 'PERSON'], []]\n",
            "[['Spouse(s)', 'PERSON'], ['Anne Malherbe Gosselin']]\n"
          ],
          "name": "stdout"
        },
        {
          "output_type": "stream",
          "text": [
            "DEBUG:root:------BIRTHDAY MATCHING------\n",
            "DEBUG:root:------BIRTH PLACES------\n",
            "DEBUG:root:------NOUN CHUNCK MATCHING FOR BP------\n",
            "DEBUG:root:------CHILDREN NAMES------\n",
            "DEBUG:root:------NOUN CHUNCK MATCHING CHILDREN------\n",
            "DEBUG:root:------EDUCATION INSTITUTIONS------\n",
            "DEBUG:root:------PARENTS NAMES------\n",
            "DEBUG:root:------SPOUSES NAMES------\n",
            "DEBUG:root:------NOUN CHUNCK MATCHING FOR SPOUSES------\n",
            "DEBUG:root:('fellow student Anne Malherbe Gosselin', 'SP', (971, 976))\n",
            "DEBUG:root:('Anne Dominique', 'SP', (991, 993))\n"
          ],
          "name": "stderr"
        },
        {
          "output_type": "stream",
          "text": [
            "failed to annotate the page!\n",
            "https://en.wikipedia.org/wiki/Jaime_Rold%C3%B3s_Aguilera\n",
            "info card is scraped successfully\n",
            "[['Born', 'PERSON'], ['Lupe Rosalía Arteaga Serrano']]\n",
            "[['Born', 'DATE'], ['1956-12-05', 'December 5, 1956']]\n",
            "[['Born', 'GPE'], ['Azuay', 'Ecuador', 'Cuenca']]\n",
            "[['Spouse(s)', 'PERSON'], ['Pedro Fernández de Córdova Álvarez']]\n"
          ],
          "name": "stdout"
        },
        {
          "output_type": "stream",
          "text": [
            "DEBUG:root:------BIRTHDAY MATCHING------\n",
            "DEBUG:root:------BIRTH PLACES------\n",
            "DEBUG:root:------NOUN CHUNCK MATCHING FOR BP------\n",
            "DEBUG:root:------CHILDREN NAMES------\n",
            "DEBUG:root:------EDUCATION INSTITUTIONS------\n",
            "DEBUG:root:------NOUN CHUNCK MATCHING FOR EDUCATION------\n",
            "DEBUG:root:------PARENTS NAMES------\n",
            "DEBUG:root:------SPOUSES NAMES------\n",
            "DEBUG:root:------NOUN CHUNCK MATCHING FOR SPOUSES------\n"
          ],
          "name": "stderr"
        },
        {
          "output_type": "stream",
          "text": [
            "[['Education', 'ORG'], ['University of Cuenca']]\n",
            "info card is scraped successfully\n",
            "[['Born', 'PERSON'], []]\n",
            "[['Born', 'DATE'], ['1947-04-14', 'April 14, 1947']]\n",
            "[['Born', 'GPE'], ['Ecuador', 'Quito']]\n"
          ],
          "name": "stdout"
        },
        {
          "output_type": "stream",
          "text": [
            "DEBUG:root:------BIRTHDAY MATCHING------\n",
            "DEBUG:root:------BIRTH PLACES------\n",
            "DEBUG:root:------NOUN CHUNCK MATCHING FOR BP------\n",
            "DEBUG:root:------CHILDREN NAMES------\n",
            "DEBUG:root:------EDUCATION INSTITUTIONS------\n",
            "DEBUG:root:------PARENTS NAMES------\n",
            "DEBUG:root:------SPOUSES NAMES------\n",
            "DEBUG:root:------NOUN CHUNCK MATCHING FOR SPOUSES------\n"
          ],
          "name": "stderr"
        },
        {
          "output_type": "stream",
          "text": [
            "[['Spouse(s)', 'PERSON'], ['Lucía Peña Ochoa']]\n",
            "info card is scraped successfully\n",
            "[['Born', 'PERSON'], []]\n",
            "[['Born', 'DATE'], ['June 19, 1935', '1935-06-19']]\n",
            "[['Born', 'GPE'], ['Pichincha', 'Ecuador', 'Quito']]\n",
            "[['Children', 'PERSON'], []]\n"
          ],
          "name": "stdout"
        },
        {
          "output_type": "stream",
          "text": [
            "DEBUG:root:------BIRTHDAY MATCHING------\n",
            "DEBUG:root:------BIRTH PLACES------\n",
            "DEBUG:root:------NOUN CHUNCK MATCHING FOR BP------\n",
            "DEBUG:root:------CHILDREN NAMES------\n",
            "DEBUG:root:------NOUN CHUNCK MATCHING CHILDREN------\n",
            "DEBUG:root:------EDUCATION INSTITUTIONS------\n",
            "DEBUG:root:------PARENTS NAMES------\n",
            "DEBUG:root:------SPOUSES NAMES------\n",
            "DEBUG:root:('Carmen Calisto', 'SP', (302, 304))\n",
            "DEBUG:root:------NOUN CHUNCK MATCHING FOR SPOUSES------\n",
            "DEBUG:root:('Carmen Calisto', 'SP', (302, 304))\n"
          ],
          "name": "stderr"
        },
        {
          "output_type": "stream",
          "text": [
            "[['Spouse(s)', 'PERSON'], ['Carmen Calisto']]\n",
            "info card is scraped successfully\n",
            "[['Born', 'PERSON'], ['José María']]\n",
            "[['Born', 'DATE'], ['1893-03-19', 'March 19, 1893']]\n",
            "[['Born', 'GPE'], ['Ecuador', 'Quito']]\n"
          ],
          "name": "stdout"
        },
        {
          "output_type": "stream",
          "text": [
            "DEBUG:root:------BIRTHDAY MATCHING------\n",
            "DEBUG:root:------BIRTH PLACES------\n",
            "DEBUG:root:------NOUN CHUNCK MATCHING FOR BP------\n"
          ],
          "name": "stderr"
        },
        {
          "output_type": "stream",
          "text": [
            "[['Spouse(s)', 'PERSON'], ['Corina del Parral']]\n"
          ],
          "name": "stdout"
        },
        {
          "output_type": "stream",
          "text": [
            "DEBUG:root:------CHILDREN NAMES------\n",
            "DEBUG:root:------EDUCATION INSTITUTIONS------\n",
            "DEBUG:root:------PARENTS NAMES------\n",
            "DEBUG:root:------SPOUSES NAMES------\n",
            "DEBUG:root:------NOUN CHUNCK MATCHING FOR SPOUSES------\n",
            "DEBUG:root:('Corina Parral de Velasco Ibarra', 'SP', (1136, 1141))\n"
          ],
          "name": "stderr"
        },
        {
          "output_type": "stream",
          "text": [
            "info card is scraped successfully\n",
            "[['Born', 'PERSON'], ['Clemente Yerovi Indaburu']]\n",
            "[['Born', 'DATE'], ['1904-08-10', 'August 10, 1904']]\n",
            "[['Born', 'GPE'], ['Spain', 'Barcelona']]\n",
            "[['Children', 'PERSON'], []]\n",
            "[['Spouse(s)', 'PERSON'], ['Victoria Gómez Ycaza']]\n"
          ],
          "name": "stdout"
        },
        {
          "output_type": "stream",
          "text": [
            "DEBUG:root:------BIRTHDAY MATCHING------\n",
            "DEBUG:root:------BIRTH PLACES------\n",
            "DEBUG:root:------NOUN CHUNCK MATCHING FOR BP------\n",
            "DEBUG:root:------CHILDREN NAMES------\n",
            "DEBUG:root:------NOUN CHUNCK MATCHING CHILDREN------\n",
            "DEBUG:root:------EDUCATION INSTITUTIONS------\n",
            "DEBUG:root:------PARENTS NAMES------\n",
            "DEBUG:root:------PERSON ENTITY MATCHING FOR PARENTS------\n",
            "DEBUG:root:('Clemente Yerovi Matheus', 'PR', (47, 50))\n",
            "DEBUG:root:------NOUN CHUNCK MATCHING FOR PARENTS------\n",
            "DEBUG:root:------SPOUSES NAMES------\n",
            "DEBUG:root:('Victoria Gómez Ycaza', 'SP', (84, 87))\n",
            "DEBUG:root:------NOUN CHUNCK MATCHING FOR SPOUSES------\n",
            "DEBUG:root:('Victoria Gómez Ycaza', 'SP', (84, 87))\n"
          ],
          "name": "stderr"
        },
        {
          "output_type": "stream",
          "text": [
            "[['Parents', 'PERSON'], ['Clemente Yerovi Matheus', 'María Indabaru Seminario']]\n",
            "info card is scraped successfully\n",
            "[['Born', 'PERSON'], ['Luis Alfredo']]\n",
            "[['Born', 'DATE'], ['1939-01-22', 'January 22, 1939']]\n",
            "[['Born', 'GPE'], ['Ecuador', 'Guayaquil']]\n"
          ],
          "name": "stdout"
        },
        {
          "output_type": "stream",
          "text": [
            "DEBUG:root:------BIRTHDAY MATCHING------\n",
            "DEBUG:root:------BIRTH PLACES------\n",
            "DEBUG:root:------NOUN CHUNCK MATCHING FOR BP------\n",
            "DEBUG:root:------CHILDREN NAMES------\n",
            "DEBUG:root:------EDUCATION INSTITUTIONS------\n",
            "DEBUG:root:------PARENTS NAMES------\n",
            "DEBUG:root:------SPOUSES NAMES------\n",
            "DEBUG:root:------NOUN CHUNCK MATCHING FOR SPOUSES------\n"
          ],
          "name": "stderr"
        },
        {
          "output_type": "stream",
          "text": [
            "[['Spouse(s)', 'PERSON'], ['María Beatriz Paret']]\n",
            "info card is scraped successfully\n",
            "[['Born', 'PERSON'], ['Sixto Alfonso Durán-Ballén Cordovez']]\n",
            "[['Born', 'DATE'], ['1921-07-14', 'July 14, 1921']]\n",
            "[['Born', 'GPE'], ['Massachusetts', 'USA', 'Boston']]\n",
            "[['Children', 'PERSON'], []]\n"
          ],
          "name": "stdout"
        },
        {
          "output_type": "stream",
          "text": [
            "DEBUG:root:------BIRTHDAY MATCHING------\n"
          ],
          "name": "stderr"
        },
        {
          "output_type": "stream",
          "text": [
            "[['Spouse(s)', 'PERSON'], ['Josefina Villalobos']]\n"
          ],
          "name": "stdout"
        },
        {
          "output_type": "stream",
          "text": [
            "DEBUG:root:------BIRTH PLACES------\n",
            "DEBUG:root:------NOUN CHUNCK MATCHING FOR BP------\n",
            "DEBUG:root:------CHILDREN NAMES------\n",
            "DEBUG:root:------NOUN CHUNCK MATCHING CHILDREN------\n",
            "DEBUG:root:------EDUCATION INSTITUTIONS------\n",
            "DEBUG:root:------PARENTS NAMES------\n",
            "DEBUG:root:------SPOUSES NAMES------\n",
            "DEBUG:root:('Josefina Villalobos', 'SP', (298, 300))\n",
            "DEBUG:root:------NOUN CHUNCK MATCHING FOR SPOUSES------\n",
            "DEBUG:root:('Josefina Villalobos', 'SP', (298, 300))\n",
            "DEBUG:root:('Josefina', 'SP', (1151, 1152))\n"
          ],
          "name": "stderr"
        },
        {
          "output_type": "stream",
          "text": [
            "info card is scraped successfully\n",
            "[['Born', 'PERSON'], ['Gustavo José Joaquín Noboa Bejarano']]\n",
            "[['Born', 'DATE'], ['1937-08-21', 'August 21, 1937']]\n",
            "[['Born', 'GPE'], ['Ecuador', 'Guayaquil']]\n"
          ],
          "name": "stdout"
        },
        {
          "output_type": "stream",
          "text": [
            "DEBUG:root:------BIRTHDAY MATCHING------\n",
            "DEBUG:root:------BIRTH PLACES------\n",
            "DEBUG:root:------NOUN CHUNCK MATCHING FOR BP------\n",
            "DEBUG:root:------CHILDREN NAMES------\n",
            "DEBUG:root:------EDUCATION INSTITUTIONS------\n",
            "DEBUG:root:------PARENTS NAMES------\n",
            "DEBUG:root:------SPOUSES NAMES------\n",
            "DEBUG:root:------NOUN CHUNCK MATCHING FOR SPOUSES------\n"
          ],
          "name": "stderr"
        },
        {
          "output_type": "stream",
          "text": [
            "[['Spouse(s)', 'PERSON'], ['María Isabel Baquerizo']]\n",
            "info card is scraped successfully\n",
            "[['Born', 'PERSON'], ['Carlos Julio Arosemena Monroy']]\n",
            "[['Born', 'DATE'], ['1919-08-24', '24 August 1919']]\n",
            "[['Born', 'GPE'], ['Ecuador', 'Guayaquil']]\n",
            "[['Children', 'PERSON'], []]\n"
          ],
          "name": "stdout"
        },
        {
          "output_type": "stream",
          "text": [
            "DEBUG:root:------BIRTHDAY MATCHING------\n",
            "DEBUG:root:------BIRTH PLACES------\n",
            "DEBUG:root:------NOUN CHUNCK MATCHING FOR BP------\n",
            "DEBUG:root:------CHILDREN NAMES------\n",
            "DEBUG:root:------NOUN CHUNCK MATCHING CHILDREN------\n",
            "DEBUG:root:------EDUCATION INSTITUTIONS------\n",
            "DEBUG:root:------PARENTS NAMES------\n",
            "DEBUG:root:------SPOUSES NAMES------\n",
            "DEBUG:root:------NOUN CHUNCK MATCHING FOR SPOUSES------\n"
          ],
          "name": "stderr"
        },
        {
          "output_type": "stream",
          "text": [
            "[['Spouse(s)', 'PERSON'], []]\n",
            "info card is scraped successfully\n",
            "[['Born', 'PERSON'], []]\n",
            "[['Born', 'DATE'], ['19 July 1925']]\n",
            "[['Born', 'GPE'], ['Ecuador', 'Guayaquil']]\n"
          ],
          "name": "stdout"
        },
        {
          "output_type": "stream",
          "text": [
            "DEBUG:root:------BIRTHDAY MATCHING------\n",
            "DEBUG:root:------BIRTH PLACES------\n",
            "DEBUG:root:------NOUN CHUNCK MATCHING FOR BP------\n",
            "DEBUG:root:------CHILDREN NAMES------\n",
            "DEBUG:root:------EDUCATION INSTITUTIONS------\n",
            "DEBUG:root:------PARENTS NAMES------\n",
            "DEBUG:root:------SPOUSES NAMES------\n",
            "DEBUG:root:------NOUN CHUNCK MATCHING FOR SPOUSES------\n"
          ],
          "name": "stderr"
        },
        {
          "output_type": "stream",
          "text": [
            "[['Spouse(s)', 'PERSON'], ['Lucila Santos Trujillo']]\n",
            "info card is scraped successfully\n",
            "[['Born', 'PERSON'], ['Lucio Edwin Gutiérrez Borbúa']]\n",
            "[['Born', 'DATE'], ['1957-03-23', 'March 23, 1957']]\n",
            "[['Born', 'GPE'], ['Ecuador', 'Quito']]\n",
            "[['Spouse(s)', 'PERSON'], []]\n"
          ],
          "name": "stdout"
        },
        {
          "output_type": "stream",
          "text": [
            "DEBUG:root:------BIRTHDAY MATCHING------\n",
            "DEBUG:root:------BIRTH PLACES------\n",
            "DEBUG:root:------NOUN CHUNCK MATCHING FOR BP------\n",
            "DEBUG:root:------CHILDREN NAMES------\n",
            "DEBUG:root:------EDUCATION INSTITUTIONS------\n",
            "DEBUG:root:------PARENTS NAMES------\n",
            "DEBUG:root:------SPOUSES NAMES------\n",
            "DEBUG:root:------NOUN CHUNCK MATCHING FOR SPOUSES------\n"
          ],
          "name": "stderr"
        },
        {
          "output_type": "stream",
          "text": [
            "info card is scraped successfully\n",
            "[['Born', 'PERSON'], ['León Esteban Francisco Febres-Cordero Ribadeneyra']]\n",
            "[['Born', 'DATE'], ['1931-03-09', '9 March 1931']]\n",
            "[['Born', 'GPE'], ['Guayas', 'Ecuador', 'Guayaquil']]\n"
          ],
          "name": "stdout"
        },
        {
          "output_type": "stream",
          "text": [
            "DEBUG:root:------BIRTHDAY MATCHING------\n",
            "DEBUG:root:------BIRTH PLACES------\n",
            "DEBUG:root:------NOUN CHUNCK MATCHING FOR BP------\n",
            "DEBUG:root:------CHILDREN NAMES------\n",
            "DEBUG:root:------EDUCATION INSTITUTIONS------\n",
            "DEBUG:root:------PARENTS NAMES------\n",
            "DEBUG:root:------SPOUSES NAMES------\n",
            "DEBUG:root:------NOUN CHUNCK MATCHING FOR SPOUSES------\n",
            "DEBUG:root:('Ecuador María Eugenia Cordovez', 'SP', (620, 624))\n",
            "DEBUG:root:('– María Eugenia', 'SP', (630, 633))\n",
            "DEBUG:root:('María Fernanda', 'SP', (634, 636))\n",
            "DEBUG:root:('María Liliana', 'SP', (637, 639))\n",
            "DEBUG:root:('María Auxiliadora', 'SP', (640, 642))\n"
          ],
          "name": "stderr"
        },
        {
          "output_type": "stream",
          "text": [
            "[['Spouse(s)', 'PERSON'], ['María Eugenia Cordovez']]\n",
            "info card is scraped successfully\n",
            "[['Born', 'PERSON'], []]\n",
            "[['Born', 'DATE'], ['1924-11-04', 'November 4, 1924']]\n",
            "[['Born', 'GPE'], ['Cotopaxi', 'Ecuador', 'Pujilí']]\n",
            "[['Children', 'PERSON'], []]\n"
          ],
          "name": "stdout"
        },
        {
          "output_type": "stream",
          "text": [
            "DEBUG:root:------BIRTHDAY MATCHING------\n",
            "DEBUG:root:------BIRTH PLACES------\n",
            "DEBUG:root:------NOUN CHUNCK MATCHING FOR BP------\n",
            "DEBUG:root:------CHILDREN NAMES------\n",
            "DEBUG:root:------NOUN CHUNCK MATCHING CHILDREN------\n",
            "DEBUG:root:------EDUCATION INSTITUTIONS------\n",
            "DEBUG:root:------PARENTS NAMES------\n",
            "DEBUG:root:------SPOUSES NAMES------\n",
            "DEBUG:root:------NOUN CHUNCK MATCHING FOR SPOUSES------\n"
          ],
          "name": "stderr"
        },
        {
          "output_type": "stream",
          "text": [
            "[['Spouse(s)', 'PERSON'], ['Aída Judith León']]\n",
            "info card is scraped successfully\n",
            "[['Born', 'PERSON'], []]\n",
            "[['Born', 'DATE'], ['1926-01-24', 'January 24, 1926']]\n",
            "[['Born', 'GPE'], ['Tungurahua', 'Ecuador', 'Ambato']]\n",
            "[['Children', 'PERSON'], []]\n"
          ],
          "name": "stdout"
        },
        {
          "output_type": "stream",
          "text": [
            "DEBUG:root:------BIRTHDAY MATCHING------\n",
            "DEBUG:root:------BIRTH PLACES------\n",
            "DEBUG:root:------NOUN CHUNCK MATCHING FOR BP------\n",
            "DEBUG:root:------CHILDREN NAMES------\n",
            "DEBUG:root:------NOUN CHUNCK MATCHING CHILDREN------\n",
            "DEBUG:root:------EDUCATION INSTITUTIONS------\n",
            "DEBUG:root:------PARENTS NAMES------\n",
            "DEBUG:root:------SPOUSES NAMES------\n",
            "DEBUG:root:------NOUN CHUNCK MATCHING FOR SPOUSES------\n"
          ],
          "name": "stderr"
        },
        {
          "output_type": "stream",
          "text": [
            "[['Spouse(s)', 'PERSON'], ['Alicia Pizzimbono']]\n",
            "info card is scraped successfully\n",
            "[['Born', 'PERSON'], []]\n",
            "[['Born', 'DATE'], ['1915-11-15', '15 November 1915']]\n"
          ],
          "name": "stdout"
        },
        {
          "output_type": "stream",
          "text": [
            "DEBUG:root:------BIRTHDAY MATCHING------\n",
            "DEBUG:root:------BIRTH PLACES------\n",
            "DEBUG:root:------NOUN CHUNCK MATCHING FOR BP------\n",
            "DEBUG:root:------CHILDREN NAMES------\n",
            "DEBUG:root:------EDUCATION INSTITUTIONS------\n",
            "DEBUG:root:------PARENTS NAMES------\n",
            "DEBUG:root:------SPOUSES NAMES------\n"
          ],
          "name": "stderr"
        },
        {
          "output_type": "stream",
          "text": [
            "[['Born', 'GPE'], ['Ecuador', 'Esmeraldas']]\n",
            "info card is scraped successfully\n",
            "[['Born', 'PERSON'], ['Luis Osvaldo Hurtado']]\n",
            "[['Born', 'DATE'], ['1939-06-26', 'June 26, 1939']]\n",
            "[['Born', 'GPE'], ['Chimborazo Province', 'Ecuador', 'Chambo']]\n"
          ],
          "name": "stdout"
        },
        {
          "output_type": "stream",
          "text": [
            "DEBUG:root:------BIRTHDAY MATCHING------\n",
            "DEBUG:root:------BIRTH PLACES------\n",
            "DEBUG:root:------NOUN CHUNCK MATCHING FOR BP------\n",
            "DEBUG:root:------CHILDREN NAMES------\n",
            "DEBUG:root:------EDUCATION INSTITUTIONS------\n",
            "DEBUG:root:------PARENTS NAMES------\n",
            "DEBUG:root:------SPOUSES NAMES------\n",
            "DEBUG:root:------NOUN CHUNCK MATCHING FOR SPOUSES------\n"
          ],
          "name": "stderr"
        },
        {
          "output_type": "stream",
          "text": [
            "[['Spouse(s)', 'PERSON'], ['Margarita Pérez Pallares']]\n",
            "info card is scraped successfully\n",
            "[['Born', 'PERSON'], ['Jorge Jamil Mahuad Witt']]\n",
            "[['Born', 'DATE'], ['1949-07-29', 'July 29, 1949']]\n",
            "[['Born', 'GPE'], ['Ecuador', 'Loja']]\n",
            "[['Children', 'PERSON'], ['Paola Mahuad Calderón']]\n"
          ],
          "name": "stdout"
        },
        {
          "output_type": "stream",
          "text": [
            "DEBUG:root:------BIRTHDAY MATCHING------\n",
            "DEBUG:root:------BIRTH PLACES------\n",
            "DEBUG:root:------NOUN CHUNCK MATCHING FOR BP------\n",
            "DEBUG:root:------CHILDREN NAMES------\n",
            "DEBUG:root:------NOUN CHUNCK MATCHING CHILDREN------\n",
            "DEBUG:root:------EDUCATION INSTITUTIONS------\n",
            "DEBUG:root:------PARENTS NAMES------\n",
            "DEBUG:root:------SPOUSES NAMES------\n",
            "DEBUG:root:------NOUN CHUNCK MATCHING FOR SPOUSES------\n"
          ],
          "name": "stderr"
        },
        {
          "output_type": "stream",
          "text": [
            "[['Spouse(s)', 'PERSON'], []]\n",
            "info card is scraped successfully\n",
            "[['Born', 'PERSON'], []]\n",
            "[['Born', 'DATE'], ['1912-10-09']]\n"
          ],
          "name": "stdout"
        },
        {
          "output_type": "stream",
          "text": [
            "DEBUG:root:------BIRTHDAY MATCHING------\n",
            "DEBUG:root:------BIRTH PLACES------\n",
            "DEBUG:root:------NOUN CHUNCK MATCHING FOR BP------\n",
            "DEBUG:root:------CHILDREN NAMES------\n",
            "DEBUG:root:------EDUCATION INSTITUTIONS------\n",
            "DEBUG:root:------PARENTS NAMES------\n",
            "DEBUG:root:------SPOUSES NAMES------\n"
          ],
          "name": "stderr"
        },
        {
          "output_type": "stream",
          "text": [
            "[['Born', 'GPE'], ['Ecuador']]\n",
            "info card is scraped successfully\n",
            "[['Born', 'PERSON'], ['Abdalá Jaime Bucaram Ortiz']]\n",
            "[['Born', 'DATE'], ['1952-02-20', 'February 20, 1952']]\n",
            "[['Born', 'GPE'], ['Ecuador', 'Guayaquil']]\n",
            "[['Spouse(s)', 'PERSON'], []]\n"
          ],
          "name": "stdout"
        },
        {
          "output_type": "stream",
          "text": [
            "DEBUG:root:------BIRTHDAY MATCHING------\n",
            "DEBUG:root:------BIRTH PLACES------\n",
            "DEBUG:root:------NOUN CHUNCK MATCHING FOR BP------\n",
            "DEBUG:root:------CHILDREN NAMES------\n",
            "DEBUG:root:------EDUCATION INSTITUTIONS------\n",
            "DEBUG:root:------PARENTS NAMES------\n",
            "DEBUG:root:------SPOUSES NAMES------\n",
            "DEBUG:root:------NOUN CHUNCK MATCHING FOR SPOUSES------\n"
          ],
          "name": "stderr"
        },
        {
          "output_type": "stream",
          "text": [
            "info card is scraped successfully\n",
            "[['Born', 'PERSON'], ['Abdel Fattah Saeed Hussein Khalil el-Sisi']]\n",
            "[['Born', 'DATE'], ['1954-11-19', '19 November 1954']]\n",
            "[['Born', 'GPE'], ['Cairo Governorate', 'Egypt', 'Cairo']]\n",
            "[['Children', 'PERSON'], []]\n",
            "[['Spouse(s)', 'PERSON'], ['Entissar Amer']]\n"
          ],
          "name": "stdout"
        },
        {
          "output_type": "stream",
          "text": [
            "DEBUG:root:------BIRTHDAY MATCHING------\n",
            "DEBUG:root:------BIRTH PLACES------\n",
            "DEBUG:root:------NOUN CHUNCK MATCHING FOR BP------\n",
            "DEBUG:root:------CHILDREN NAMES------\n",
            "DEBUG:root:------NOUN CHUNCK MATCHING CHILDREN------\n",
            "DEBUG:root:------EDUCATION INSTITUTIONS------\n",
            "DEBUG:root:------PARENTS NAMES------\n",
            "DEBUG:root:------SPOUSES NAMES------\n",
            "DEBUG:root:('Entissar Amer', 'SP', (911, 913))\n",
            "DEBUG:root:------NOUN CHUNCK MATCHING FOR SPOUSES------\n",
            "DEBUG:root:('Entissar Amer', 'SP', (911, 913))\n",
            "DEBUG:root:('Entissar Amer', 'SP', (8401, 8403))\n"
          ],
          "name": "stderr"
        },
        {
          "output_type": "stream",
          "text": [
            "info card is scraped successfully\n",
            "[['Born', 'PERSON'], []]\n",
            "[['Born', 'DATE'], ['1941']]\n"
          ],
          "name": "stdout"
        },
        {
          "output_type": "stream",
          "text": [
            "DEBUG:root:------BIRTHDAY MATCHING------\n",
            "DEBUG:root:------BIRTH PLACES------\n",
            "DEBUG:root:------NOUN CHUNCK MATCHING FOR BP------\n",
            "DEBUG:root:------CHILDREN NAMES------\n",
            "DEBUG:root:------EDUCATION INSTITUTIONS------\n",
            "DEBUG:root:------PARENTS NAMES------\n",
            "DEBUG:root:------SPOUSES NAMES------\n"
          ],
          "name": "stderr"
        },
        {
          "output_type": "stream",
          "text": [
            "[['Born', 'GPE'], []]\n"
          ],
          "name": "stdout"
        },
        {
          "output_type": "stream",
          "text": [
            "DEBUG:root:------BIRTHDAY MATCHING------\n",
            "DEBUG:root:------BIRTH PLACES------\n",
            "DEBUG:root:------CHILDREN NAMES------\n",
            "DEBUG:root:------EDUCATION INSTITUTIONS------\n",
            "DEBUG:root:------PARENTS NAMES------\n",
            "DEBUG:root:------SPOUSES NAMES------\n"
          ],
          "name": "stderr"
        },
        {
          "output_type": "stream",
          "text": [
            "info card is scraped successfully\n",
            "info card is scraped successfully\n",
            "[['Born', 'PERSON'], []]\n",
            "[['Born', 'DATE'], ['1945-12-23', '23 December 1945']]\n"
          ],
          "name": "stdout"
        },
        {
          "output_type": "stream",
          "text": [
            "DEBUG:root:------BIRTHDAY MATCHING------\n",
            "DEBUG:root:------BIRTH PLACES------\n",
            "DEBUG:root:------NOUN CHUNCK MATCHING FOR BP------\n",
            "DEBUG:root:------CHILDREN NAMES------\n",
            "DEBUG:root:------EDUCATION INSTITUTIONS------\n",
            "DEBUG:root:------PARENTS NAMES------\n",
            "DEBUG:root:------SPOUSES NAMES------\n"
          ],
          "name": "stderr"
        },
        {
          "output_type": "stream",
          "text": [
            "[['Born', 'GPE'], ['Egypt', 'Cairo']]\n",
            "info card is scraped successfully\n",
            "[['Born', 'PERSON'], []]\n",
            "[['Born', 'DATE'], ['1944-06-18', '18 June 1944']]\n",
            "[['Born', 'GPE'], ['El Salvador', 'Quetzaltepeque']]\n"
          ],
          "name": "stdout"
        },
        {
          "output_type": "stream",
          "text": [
            "DEBUG:root:------BIRTHDAY MATCHING------\n",
            "DEBUG:root:------BIRTH PLACES------\n",
            "DEBUG:root:------NOUN CHUNCK MATCHING FOR BP------\n"
          ],
          "name": "stderr"
        },
        {
          "output_type": "stream",
          "text": [
            "[['Spouse(s)', 'PERSON'], ['Margarita Villalta de Sánchez']]\n"
          ],
          "name": "stdout"
        },
        {
          "output_type": "stream",
          "text": [
            "DEBUG:root:------CHILDREN NAMES------\n",
            "DEBUG:root:------EDUCATION INSTITUTIONS------\n",
            "DEBUG:root:------PARENTS NAMES------\n",
            "DEBUG:root:------SPOUSES NAMES------\n",
            "DEBUG:root:------NOUN CHUNCK MATCHING FOR SPOUSES------\n"
          ],
          "name": "stderr"
        },
        {
          "output_type": "stream",
          "text": [
            "info card is scraped successfully\n",
            "[['Born', 'PERSON'], []]\n",
            "[['Born', 'DATE'], ['1959-10-17', 'October 17, 1959']]\n",
            "[['Born', 'GPE'], ['El Salvador', 'Santa Ana']]\n",
            "[['Children', 'PERSON'], ['Juan Marcos']]\n",
            "[['Spouse(s)', 'PERSON'], ['Lourdes Rodríguez de Flores']]\n"
          ],
          "name": "stdout"
        },
        {
          "output_type": "stream",
          "text": [
            "DEBUG:root:------BIRTHDAY MATCHING------\n",
            "DEBUG:root:------BIRTH PLACES------\n",
            "DEBUG:root:------NOUN CHUNCK MATCHING FOR BP------\n",
            "DEBUG:root:------CHILDREN NAMES------\n",
            "DEBUG:root:------NOUN CHUNCK MATCHING CHILDREN------\n",
            "DEBUG:root:('Juan Marcos', 'CH', (1566, 1568))\n",
            "DEBUG:root:------EDUCATION INSTITUTIONS------\n",
            "DEBUG:root:------PARENTS NAMES------\n",
            "DEBUG:root:------SPOUSES NAMES------\n",
            "DEBUG:root:------NOUN CHUNCK MATCHING FOR SPOUSES------\n",
            "DEBUG:root:('Lourdes Rodríguez de Flores', 'SP', (1549, 1553))\n"
          ],
          "name": "stderr"
        },
        {
          "output_type": "stream",
          "text": [
            "failed to annotate the page!\n",
            "https://en.wikipedia.org/wiki/Revolutionary_Government_Junta_of_El_Salvador\n",
            "info card is scraped successfully\n",
            "[['Born', 'PERSON'], []]\n",
            "[['Born', 'DATE'], ['1947-11-22', 'November 22, 1947']]\n",
            "[['Born', 'GPE'], ['San Salvador']]\n",
            "[['Spouse(s)', 'PERSON'], ['Margarita Llach de Cristiani']]\n"
          ],
          "name": "stdout"
        },
        {
          "output_type": "stream",
          "text": [
            "DEBUG:root:------BIRTHDAY MATCHING------\n",
            "DEBUG:root:------BIRTH PLACES------\n",
            "DEBUG:root:------NOUN CHUNCK MATCHING FOR BP------\n",
            "DEBUG:root:------CHILDREN NAMES------\n",
            "DEBUG:root:------EDUCATION INSTITUTIONS------\n",
            "DEBUG:root:------PARENTS NAMES------\n",
            "DEBUG:root:------SPOUSES NAMES------\n",
            "DEBUG:root:('Margarita Llach', 'SP', (737, 739))\n",
            "DEBUG:root:------NOUN CHUNCK MATCHING FOR SPOUSES------\n",
            "DEBUG:root:('Margarita Llach', 'SP', (737, 739))\n"
          ],
          "name": "stderr"
        },
        {
          "output_type": "stream",
          "text": [
            "info card is scraped successfully\n",
            "[['Born', 'PERSON'], ['José Napoléon']]\n",
            "[['Born', 'DATE'], ['1925-11-23', 'November 23, 1925']]\n",
            "[['Born', 'GPE'], ['Santa Ana, El Salvador']]\n",
            "[['Spouse(s)', 'PERSON'], []]\n"
          ],
          "name": "stdout"
        },
        {
          "output_type": "stream",
          "text": [
            "DEBUG:root:------BIRTHDAY MATCHING------\n",
            "DEBUG:root:------BIRTH PLACES------\n",
            "DEBUG:root:------NOUN CHUNCK MATCHING FOR BP------\n",
            "DEBUG:root:------CHILDREN NAMES------\n",
            "DEBUG:root:------EDUCATION INSTITUTIONS------\n",
            "DEBUG:root:------PARENTS NAMES------\n",
            "DEBUG:root:------SPOUSES NAMES------\n",
            "DEBUG:root:------NOUN CHUNCK MATCHING FOR SPOUSES------\n"
          ],
          "name": "stderr"
        },
        {
          "output_type": "stream",
          "text": [
            "info card is scraped successfully\n",
            "[['Born', 'PERSON'], ['Álvaro Alfredo Magaña Borja']]\n",
            "[['Born', 'DATE'], ['1925-10-08', 'October 8, 1925']]\n"
          ],
          "name": "stdout"
        },
        {
          "output_type": "stream",
          "text": [
            "DEBUG:root:------BIRTHDAY MATCHING------\n",
            "DEBUG:root:------BIRTH PLACES------\n",
            "DEBUG:root:------NOUN CHUNCK MATCHING FOR BP------\n",
            "DEBUG:root:------CHILDREN NAMES------\n",
            "DEBUG:root:------EDUCATION INSTITUTIONS------\n",
            "DEBUG:root:------PARENTS NAMES------\n",
            "DEBUG:root:------SPOUSES NAMES------\n"
          ],
          "name": "stderr"
        },
        {
          "output_type": "stream",
          "text": [
            "[['Born', 'GPE'], ['El Salvador', 'Ahuachapán']]\n",
            "info card is scraped successfully\n",
            "[['Born', 'PERSON'], []]\n",
            "[['Born', 'DATE'], ['1959-10-18', 'October 18, 1959']]\n",
            "[['Born', 'GPE'], ['El Salvador', 'San Salvador']]\n",
            "[['Spouse(s)', 'PERSON'], ['Vanda Pignato']]\n"
          ],
          "name": "stdout"
        },
        {
          "output_type": "stream",
          "text": [
            "DEBUG:root:------BIRTHDAY MATCHING------\n",
            "DEBUG:root:------BIRTH PLACES------\n",
            "DEBUG:root:------NOUN CHUNCK MATCHING FOR BP------\n",
            "DEBUG:root:------CHILDREN NAMES------\n",
            "DEBUG:root:------EDUCATION INSTITUTIONS------\n",
            "DEBUG:root:------PARENTS NAMES------\n",
            "DEBUG:root:------SPOUSES NAMES------\n",
            "DEBUG:root:------NOUN CHUNCK MATCHING FOR SPOUSES------\n",
            "DEBUG:root:('Vanda Pignato', 'SP', (1089, 1091))\n"
          ],
          "name": "stderr"
        },
        {
          "output_type": "stream",
          "text": [
            "info card is scraped successfully\n",
            "[['Born', 'PERSON'], ['Elías Antonio Saca González']]\n",
            "[['Born', 'DATE'], ['1965-03-09', 'March 9, 1965']]\n",
            "[['Born', 'GPE'], ['El Salvador', 'Usulután']]\n"
          ],
          "name": "stdout"
        },
        {
          "output_type": "stream",
          "text": [
            "DEBUG:root:------BIRTHDAY MATCHING------\n",
            "DEBUG:root:------BIRTH PLACES------\n",
            "DEBUG:root:------NOUN CHUNCK MATCHING FOR BP------\n"
          ],
          "name": "stderr"
        },
        {
          "output_type": "stream",
          "text": [
            "[['Spouse(s)', 'PERSON'], ['Ana Ligia Mixco']]\n"
          ],
          "name": "stdout"
        },
        {
          "output_type": "stream",
          "text": [
            "DEBUG:root:------CHILDREN NAMES------\n",
            "DEBUG:root:------EDUCATION INSTITUTIONS------\n",
            "DEBUG:root:------PARENTS NAMES------\n",
            "DEBUG:root:------SPOUSES NAMES------\n",
            "DEBUG:root:------NOUN CHUNCK MATCHING FOR SPOUSES------\n",
            "DEBUG:root:('Ana Ligia Mixco Sol de Saca', 'SP', (145, 151))\n"
          ],
          "name": "stderr"
        },
        {
          "output_type": "stream",
          "text": [
            "info card is scraped successfully\n",
            "[['Born', 'PERSON'], []]\n",
            "[['Born', 'DATE'], ['1948-06-24', 'June 24, 1948']]\n",
            "[['Born', 'GPE'], ['San Salvador']]\n"
          ],
          "name": "stdout"
        },
        {
          "output_type": "stream",
          "text": [
            "DEBUG:root:------BIRTHDAY MATCHING------\n",
            "DEBUG:root:------BIRTH PLACES------\n",
            "DEBUG:root:------NOUN CHUNCK MATCHING FOR BP------\n",
            "DEBUG:root:------CHILDREN NAMES------\n",
            "DEBUG:root:------EDUCATION INSTITUTIONS------\n",
            "DEBUG:root:------PARENTS NAMES------\n",
            "DEBUG:root:------SPOUSES NAMES------\n",
            "DEBUG:root:------NOUN CHUNCK MATCHING FOR SPOUSES------\n"
          ],
          "name": "stderr"
        },
        {
          "output_type": "stream",
          "text": [
            "[['Spouse(s)', 'PERSON'], ['Elizabeth Aguirre de Calderón']]\n",
            "info card is scraped successfully\n",
            "[['Born', 'PERSON'], []]\n",
            "[['Born', 'DATE'], ['1942-06-05']]\n",
            "[['Born', 'GPE'], ['Spanish Guinea']]\n",
            "[['Children', 'PERSON'], ['Teodoro']]\n",
            "[['Spouse(s)', 'PERSON'], ['Constancia Mangue']]\n"
          ],
          "name": "stdout"
        },
        {
          "output_type": "stream",
          "text": [
            "DEBUG:root:------BIRTHDAY MATCHING------\n",
            "DEBUG:root:------BIRTH PLACES------\n",
            "DEBUG:root:------NOUN CHUNCK MATCHING FOR BP------\n",
            "DEBUG:root:------CHILDREN NAMES------\n",
            "DEBUG:root:------NOUN CHUNCK MATCHING CHILDREN------\n",
            "DEBUG:root:(' Teodoro Obiang Nguema Mbasogo', 'CH', (0, 5))\n",
            "DEBUG:root:('Teodoro Nguema Obiang Mangue', 'CH', (2619, 2623))\n",
            "DEBUG:root:------EDUCATION INSTITUTIONS------\n",
            "DEBUG:root:------PARENTS NAMES------\n",
            "DEBUG:root:------SPOUSES NAMES------\n",
            "DEBUG:root:------NOUN CHUNCK MATCHING FOR SPOUSES------\n"
          ],
          "name": "stderr"
        },
        {
          "output_type": "stream",
          "text": [
            "info card is scraped successfully\n",
            "[['Born', 'PERSON'], ['Rio Muni']]\n",
            "[['Born', 'DATE'], []]\n",
            "[['Born', 'GPE'], []]\n",
            "[['Children', 'PERSON'], ['At least 2 daughters and 1 son']]\n"
          ],
          "name": "stdout"
        },
        {
          "output_type": "stream",
          "text": [
            "DEBUG:root:------BIRTHDAY MATCHING------\n",
            "DEBUG:root:------BIRTH PLACES------\n",
            "DEBUG:root:------NOUN CHUNCK MATCHING FOR BP------\n",
            "DEBUG:root:------CHILDREN NAMES------\n",
            "DEBUG:root:------NOUN CHUNCK MATCHING CHILDREN------\n",
            "DEBUG:root:('at least 101,000 persons', 'CH', (1009, 1013))\n",
            "DEBUG:root:------EDUCATION INSTITUTIONS------\n",
            "DEBUG:root:------PARENTS NAMES------\n",
            "DEBUG:root:------SPOUSES NAMES------\n"
          ],
          "name": "stderr"
        },
        {
          "output_type": "stream",
          "text": [
            "info card is scraped successfully\n",
            "[['Born', 'PERSON'], []]\n",
            "[['Born', 'DATE'], ['1946-02-02', '2 February 1946']]\n",
            "[['Born', 'GPE'], ['Asmara']]\n",
            "[['Children', 'PERSON'], []]\n",
            "[['Spouse(s)', 'PERSON'], ['Saba Haile']]\n"
          ],
          "name": "stdout"
        },
        {
          "output_type": "stream",
          "text": [
            "DEBUG:root:------BIRTHDAY MATCHING------\n",
            "DEBUG:root:------BIRTH PLACES------\n",
            "DEBUG:root:------NOUN CHUNCK MATCHING FOR BP------\n",
            "DEBUG:root:------CHILDREN NAMES------\n",
            "DEBUG:root:------NOUN CHUNCK MATCHING CHILDREN------\n",
            "DEBUG:root:------EDUCATION INSTITUTIONS------\n",
            "DEBUG:root:------PARENTS NAMES------\n",
            "DEBUG:root:------SPOUSES NAMES------\n",
            "DEBUG:root:------NOUN CHUNCK MATCHING FOR SPOUSES------\n",
            "DEBUG:root:('Addis Ababa', 'SP', (208, 210))\n",
            "DEBUG:root:('Saba Haile', 'SP', (219, 221))\n"
          ],
          "name": "stderr"
        },
        {
          "output_type": "stream",
          "text": [
            "info card is scraped successfully\n",
            "[['Born', 'PERSON'], []]\n",
            "[['Born', 'DATE'], ['1969-12-30', '30 December 1969']]\n",
            "[['Born', 'GPE'], ['Estonia', 'Tartu']]\n",
            "[['Children', 'PERSON'], []]\n"
          ],
          "name": "stdout"
        },
        {
          "output_type": "stream",
          "text": [
            "DEBUG:root:------BIRTHDAY MATCHING------\n",
            "DEBUG:root:------BIRTH PLACES------\n",
            "DEBUG:root:------NOUN CHUNCK MATCHING FOR BP------\n",
            "DEBUG:root:------CHILDREN NAMES------\n"
          ],
          "name": "stderr"
        },
        {
          "output_type": "stream",
          "text": [
            "[['Spouse(s)', 'PERSON'], ['Georgi-Rene Maksimovski']]\n"
          ],
          "name": "stdout"
        },
        {
          "output_type": "stream",
          "text": [
            "DEBUG:root:------NOUN CHUNCK MATCHING CHILDREN------\n",
            "DEBUG:root:------EDUCATION INSTITUTIONS------\n",
            "DEBUG:root:------PARENTS NAMES------\n",
            "DEBUG:root:------SPOUSES NAMES------\n",
            "DEBUG:root:('Georgi-Rene Maksimovski', 'SP', (996, 1000))\n",
            "DEBUG:root:------NOUN CHUNCK MATCHING FOR SPOUSES------\n",
            "DEBUG:root:('Georgi-Rene Maksimovski', 'SP', (996, 1000))\n"
          ],
          "name": "stderr"
        },
        {
          "output_type": "stream",
          "text": [
            "failed to annotate the page!\n",
            "https://en.wikipedia.org/wiki/Estonian_Declaration_of_Independence\n",
            "info card is scraped successfully\n",
            "[['Born', 'PERSON'], []]\n",
            "[['Born', 'DATE'], ['1928-05-10', 'May 10, 1928']]\n",
            "[['Born', 'GPE'], ['Saaremaa', 'Laimjala Parish']]\n",
            "[['Children', 'PERSON'], []]\n"
          ],
          "name": "stdout"
        },
        {
          "output_type": "stream",
          "text": [
            "DEBUG:root:------BIRTHDAY MATCHING------\n",
            "DEBUG:root:------BIRTH PLACES------\n",
            "DEBUG:root:------NOUN CHUNCK MATCHING FOR BP------\n",
            "DEBUG:root:------CHILDREN NAMES------\n",
            "DEBUG:root:------NOUN CHUNCK MATCHING CHILDREN------\n"
          ],
          "name": "stderr"
        },
        {
          "output_type": "stream",
          "text": [
            "[['Spouse(s)', 'PERSON'], ['Ingrid Rüütel']]\n"
          ],
          "name": "stdout"
        },
        {
          "output_type": "stream",
          "text": [
            "DEBUG:root:------EDUCATION INSTITUTIONS------\n",
            "DEBUG:root:------PARENTS NAMES------\n",
            "DEBUG:root:------SPOUSES NAMES------\n",
            "DEBUG:root:('Ingrid Rüütel', 'SP', (906, 908))\n",
            "DEBUG:root:------NOUN CHUNCK MATCHING FOR SPOUSES------\n",
            "DEBUG:root:('Ingrid Rüütel', 'SP', (906, 908))\n"
          ],
          "name": "stderr"
        },
        {
          "output_type": "stream",
          "text": [
            "info card is scraped successfully\n",
            "[['Born', 'PERSON'], ['Lennart-Georg Meri']]\n",
            "[['Born', 'DATE'], ['1929-03-29', '29 March 1929']]\n",
            "[['Born', 'GPE'], ['Tallinn']]\n",
            "[['Children', 'PERSON'], []]\n",
            "[['Spouse(s)', 'PERSON'], ['Regina Ojavere', 'Helle Pihlak']]\n"
          ],
          "name": "stdout"
        },
        {
          "output_type": "stream",
          "text": [
            "DEBUG:root:------BIRTHDAY MATCHING------\n",
            "DEBUG:root:------BIRTH PLACES------\n",
            "DEBUG:root:------NOUN CHUNCK MATCHING FOR BP------\n",
            "DEBUG:root:------CHILDREN NAMES------\n",
            "DEBUG:root:------NOUN CHUNCK MATCHING CHILDREN------\n",
            "DEBUG:root:------EDUCATION INSTITUTIONS------\n",
            "DEBUG:root:------PARENTS NAMES------\n",
            "DEBUG:root:------SPOUSES NAMES------\n",
            "DEBUG:root:('Regina Meri', 'SP', (397, 399))\n",
            "DEBUG:root:('Helle Meri', 'SP', (1955, 1957))\n",
            "DEBUG:root:('Regina Meri', 'SP', (1979, 1981))\n",
            "DEBUG:root:------NOUN CHUNCK MATCHING FOR SPOUSES------\n",
            "DEBUG:root:('Regina Meri', 'SP', (397, 399))\n",
            "DEBUG:root:('the Baltic Sea region', 'SP', (992, 996))\n",
            "DEBUG:root:('Helle Meri', 'SP', (1955, 1957))\n",
            "DEBUG:root:('Regina Meri', 'SP', (1979, 1981))\n"
          ],
          "name": "stderr"
        },
        {
          "output_type": "stream",
          "text": [
            "info card is scraped successfully\n",
            "[['Born', 'PERSON'], []]\n",
            "[['Born', 'DATE'], ['1953-12-26', '26 December 1953']]\n",
            "[['Born', 'GPE'], ['Stockholm']]\n",
            "[['Children', 'PERSON'], []]\n",
            "[['Spouse(s)', 'PERSON'], ['Merry Bullock', 'Evelin Int', 'Ieva Kupce']]\n"
          ],
          "name": "stdout"
        },
        {
          "output_type": "stream",
          "text": [
            "DEBUG:root:------BIRTHDAY MATCHING------\n",
            "DEBUG:root:------BIRTH PLACES------\n",
            "DEBUG:root:------NOUN CHUNCK MATCHING FOR BP------\n",
            "DEBUG:root:------CHILDREN NAMES------\n",
            "DEBUG:root:------NOUN CHUNCK MATCHING CHILDREN------\n",
            "DEBUG:root:------EDUCATION INSTITUTIONS------\n",
            "DEBUG:root:------PARENTS NAMES------\n",
            "DEBUG:root:------SPOUSES NAMES------\n",
            "DEBUG:root:('Evelin Int-Lambot', 'SP', (1312, 1316))\n",
            "DEBUG:root:------NOUN CHUNCK MATCHING FOR SPOUSES------\n",
            "DEBUG:root:('American psychologist Merry Bullock', 'SP', (1277, 1281))\n",
            "DEBUG:root:('Evelin Int-Lambot', 'SP', (1312, 1316))\n",
            "DEBUG:root:('Evelin', 'SP', (1341, 1342))\n",
            "DEBUG:root:('Ieva Kupče', 'SP', (1386, 1388))\n"
          ],
          "name": "stderr"
        },
        {
          "output_type": "stream",
          "text": [
            "info card is scraped successfully\n",
            "[['Born', 'PERSON'], []]\n",
            "[['Born', 'DATE'], ['1874-02-23', '23 February 1874']]\n",
            "[['Born', 'GPE'], ['Governorate of Livonia', 'Russian Empire', 'Tahkuranna Parish']]\n",
            "[['Children', 'PERSON'], ['Leo', 'Viktor']]\n",
            "[['Spouse(s)', 'PERSON'], []]\n"
          ],
          "name": "stdout"
        },
        {
          "output_type": "stream",
          "text": [
            "DEBUG:root:------BIRTHDAY MATCHING------\n",
            "DEBUG:root:------BIRTH PLACES------\n",
            "DEBUG:root:------NOUN CHUNCK MATCHING FOR BP------\n",
            "DEBUG:root:------CHILDREN NAMES------\n",
            "DEBUG:root:('Viktor', 'CH', (5795, 5796))\n",
            "DEBUG:root:('Viktor', 'CH', (5965, 5966))\n",
            "DEBUG:root:('Viktor', 'CH', (6107, 6108))\n",
            "DEBUG:root:('Viktor Päts', 'CH', (9598, 9600))\n",
            "DEBUG:root:------NOUN CHUNCK MATCHING CHILDREN------\n",
            "DEBUG:root:('Viktor', 'CH', (5795, 5796))\n",
            "DEBUG:root:('Viktor', 'CH', (5965, 5966))\n",
            "DEBUG:root:(\"Viktor's wife\", 'CH', (5967, 5970))\n",
            "DEBUG:root:('Viktor', 'CH', (6107, 6108))\n",
            "DEBUG:root:('Viktor', 'CH', (6176, 6177))\n",
            "DEBUG:root:('Viktor No.', 'CH', (6307, 6310))\n",
            "DEBUG:root:('Leo', 'CH', (9295, 9296))\n",
            "DEBUG:root:('Viktor', 'CH', (9297, 9298))\n",
            "DEBUG:root:('Leo Päts', 'CH', (9565, 9567))\n",
            "DEBUG:root:('Viktor Päts', 'CH', (9598, 9600))\n",
            "DEBUG:root:(\"Viktor's sons\", 'CH', (9617, 9620))\n",
            "DEBUG:root:------EDUCATION INSTITUTIONS------\n",
            "DEBUG:root:------PARENTS NAMES------\n",
            "DEBUG:root:------SPOUSES NAMES------\n",
            "DEBUG:root:------NOUN CHUNCK MATCHING FOR SPOUSES------\n"
          ],
          "name": "stderr"
        },
        {
          "output_type": "stream",
          "text": [
            "info card is scraped successfully\n",
            "[['Born', 'PERSON'], []]\n",
            "[['Born', 'DATE'], ['1950-02-21', '21 February 1950', 'present day']]\n",
            "[['Born', 'GPE'], ['Ethiopian Empire', 'Addis Ababa', 'Ethiopia']]\n"
          ],
          "name": "stdout"
        },
        {
          "output_type": "stream",
          "text": [
            "DEBUG:root:------BIRTHDAY MATCHING------\n",
            "DEBUG:root:------BIRTH PLACES------\n",
            "DEBUG:root:------NOUN CHUNCK MATCHING FOR BP------\n",
            "DEBUG:root:------CHILDREN NAMES------\n",
            "DEBUG:root:------EDUCATION INSTITUTIONS------\n",
            "DEBUG:root:('the University of Montpellier', 'ED', (127, 131))\n",
            "DEBUG:root:------NOUN CHUNCK MATCHING FOR EDUCATION------\n",
            "DEBUG:root:------PARENTS NAMES------\n",
            "DEBUG:root:------SPOUSES NAMES------\n"
          ],
          "name": "stderr"
        },
        {
          "output_type": "stream",
          "text": [
            "[['Education', 'ORG'], ['University of Montpellier']]\n",
            "info card is scraped successfully\n",
            "[['Born', 'PERSON'], []]\n",
            "[['Born', 'DATE'], ['1939-11-03', '3 November 1939']]\n"
          ],
          "name": "stdout"
        },
        {
          "output_type": "stream",
          "text": [
            "DEBUG:root:------BIRTHDAY MATCHING------\n",
            "DEBUG:root:------BIRTH PLACES------\n",
            "DEBUG:root:------NOUN CHUNCK MATCHING FOR BP------\n",
            "DEBUG:root:------CHILDREN NAMES------\n",
            "DEBUG:root:------EDUCATION INSTITUTIONS------\n",
            "DEBUG:root:------PARENTS NAMES------\n",
            "DEBUG:root:------SPOUSES NAMES------\n"
          ],
          "name": "stderr"
        },
        {
          "output_type": "stream",
          "text": [
            "[['Born', 'GPE'], ['Ethiopian Empire', 'Ambo']]\n",
            "info card is scraped successfully\n",
            "[['Born', 'PERSON'], []]\n",
            "[['Born', 'DATE'], []]\n",
            "[['Born', 'GPE'], ['Ethiopian Empire']]\n"
          ],
          "name": "stdout"
        },
        {
          "output_type": "stream",
          "text": [
            "DEBUG:root:------BIRTHDAY MATCHING------\n",
            "DEBUG:root:------BIRTH PLACES------\n",
            "DEBUG:root:------NOUN CHUNCK MATCHING FOR BP------\n",
            "DEBUG:root:------CHILDREN NAMES------\n",
            "DEBUG:root:------EDUCATION INSTITUTIONS------\n",
            "DEBUG:root:------PARENTS NAMES------\n",
            "DEBUG:root:------SPOUSES NAMES------\n",
            "DEBUG:root:------NOUN CHUNCK MATCHING FOR SPOUSES------\n"
          ],
          "name": "stderr"
        },
        {
          "output_type": "stream",
          "text": [
            "[['Spouse(s)', 'PERSON'], ['Meaza Abraham']]\n",
            "info card is scraped successfully\n",
            "[['Born', 'PERSON'], []]\n",
            "[['Born', 'DATE'], ['1938-09-11', '11 September 1938']]\n"
          ],
          "name": "stdout"
        },
        {
          "output_type": "stream",
          "text": [
            "DEBUG:root:------BIRTHDAY MATCHING------\n",
            "DEBUG:root:------BIRTH PLACES------\n",
            "DEBUG:root:------NOUN CHUNCK MATCHING FOR BP------\n",
            "DEBUG:root:------CHILDREN NAMES------\n",
            "DEBUG:root:------EDUCATION INSTITUTIONS------\n",
            "DEBUG:root:------PARENTS NAMES------\n",
            "DEBUG:root:------SPOUSES NAMES------\n"
          ],
          "name": "stderr"
        },
        {
          "output_type": "stream",
          "text": [
            "[['Born', 'GPE'], ['Ethiopian Empire', 'Shewa']]\n",
            "failed to annotate the page!\n",
            "https://en.wikipedia.org/w/index.php?title=Negash_Desta&action=edit&redlink=1\n",
            "info card is scraped successfully\n",
            "[['Born', 'PERSON'], ['Legesse Zenawi Asres']]\n",
            "[['Born', 'DATE'], []]\n",
            "[['Born', 'GPE'], ['Tigray Province', 'Ethiopian Empire']]\n",
            "[['Children', 'PERSON'], []]\n",
            "[['Spouse(s)', 'PERSON'], ['Azeb Mesfin']]\n"
          ],
          "name": "stdout"
        },
        {
          "output_type": "stream",
          "text": [
            "DEBUG:root:------BIRTHDAY MATCHING------\n",
            "DEBUG:root:------BIRTH PLACES------\n",
            "DEBUG:root:------NOUN CHUNCK MATCHING FOR BP------\n",
            "DEBUG:root:------CHILDREN NAMES------\n",
            "DEBUG:root:------NOUN CHUNCK MATCHING CHILDREN------\n",
            "DEBUG:root:------EDUCATION INSTITUTIONS------\n",
            "DEBUG:root:------PARENTS NAMES------\n",
            "DEBUG:root:------SPOUSES NAMES------\n",
            "DEBUG:root:------NOUN CHUNCK MATCHING FOR SPOUSES------\n",
            "DEBUG:root:('Azeb Mesfin', 'SP', (2358, 2360))\n",
            "DEBUG:root:('Azeb Mesfin', 'SP', (2741, 2743))\n"
          ],
          "name": "stderr"
        },
        {
          "output_type": "stream",
          "text": [
            "info card is scraped successfully\n",
            "[['Born', 'PERSON'], []]\n",
            "[['Born', 'DATE'], ['1955']]\n"
          ],
          "name": "stdout"
        },
        {
          "output_type": "stream",
          "text": [
            "DEBUG:root:------BIRTHDAY MATCHING------\n",
            "DEBUG:root:------BIRTH PLACES------\n",
            "DEBUG:root:------NOUN CHUNCK MATCHING FOR BP------\n",
            "DEBUG:root:------CHILDREN NAMES------\n",
            "DEBUG:root:------EDUCATION INSTITUTIONS------\n",
            "DEBUG:root:------PARENTS NAMES------\n",
            "DEBUG:root:------SPOUSES NAMES------\n"
          ],
          "name": "stderr"
        },
        {
          "output_type": "stream",
          "text": [
            "[['Born', 'GPE'], ['Addis Ababa']]\n",
            "info card is scraped successfully\n",
            "[['Born', 'PERSON'], ['Negasso Gidada Solon']]\n",
            "[['Born', 'DATE'], ['1943-09-08', '8 September 1943']]\n",
            "[['Born', 'GPE'], ['Ethiopian Empire', 'Dembidolo']]\n",
            "[['Children', 'PERSON'], []]\n"
          ],
          "name": "stdout"
        },
        {
          "output_type": "stream",
          "text": [
            "DEBUG:root:------BIRTHDAY MATCHING------\n",
            "DEBUG:root:------BIRTH PLACES------\n",
            "DEBUG:root:------NOUN CHUNCK MATCHING FOR BP------\n",
            "DEBUG:root:------CHILDREN NAMES------\n",
            "DEBUG:root:------NOUN CHUNCK MATCHING CHILDREN------\n",
            "DEBUG:root:------EDUCATION INSTITUTIONS------\n",
            "DEBUG:root:------PARENTS NAMES------\n",
            "DEBUG:root:------SPOUSES NAMES------\n",
            "DEBUG:root:('Regina Abelt', 'SP', (125, 127))\n",
            "DEBUG:root:('Regina Abelt', 'SP', (165, 167))\n",
            "DEBUG:root:------NOUN CHUNCK MATCHING FOR SPOUSES------\n",
            "DEBUG:root:('Regina Abelt', 'SP', (125, 127))\n",
            "DEBUG:root:('Regina Abelt', 'SP', (165, 167))\n",
            "DEBUG:root:('the Oromia Region', 'SP', (326, 329))\n"
          ],
          "name": "stderr"
        },
        {
          "output_type": "stream",
          "text": [
            "[['Spouse(s)', 'PERSON'], ['Regina Abelt']]\n",
            "info card is scraped successfully\n",
            "[['Born', 'PERSON'], []]\n",
            "[['Born', 'DATE'], ['1924-12-28']]\n"
          ],
          "name": "stdout"
        },
        {
          "output_type": "stream",
          "text": [
            "DEBUG:root:------BIRTHDAY MATCHING------\n",
            "DEBUG:root:------BIRTH PLACES------\n",
            "DEBUG:root:------NOUN CHUNCK MATCHING FOR BP------\n",
            "DEBUG:root:------CHILDREN NAMES------\n",
            "DEBUG:root:------EDUCATION INSTITUTIONS------\n",
            "DEBUG:root:------PARENTS NAMES------\n",
            "DEBUG:root:------SPOUSES NAMES------\n"
          ],
          "name": "stderr"
        },
        {
          "output_type": "stream",
          "text": [
            "[['Born', 'GPE'], ['Ethiopia']]\n",
            "info card is scraped successfully\n",
            "[['Born', 'PERSON'], []]\n",
            "[['Born', 'DATE'], ['1948-08-24', '24 August 1948']]\n",
            "[['Born', 'GPE'], ['Salo']]\n",
            "[['Children', 'PERSON'], []]\n",
            "[['Spouse(s)', 'PERSON'], ['Marja-Leena Alanko', 'Jenni Haukio']]\n"
          ],
          "name": "stdout"
        },
        {
          "output_type": "stream",
          "text": [
            "DEBUG:root:------BIRTHDAY MATCHING------\n",
            "DEBUG:root:------BIRTH PLACES------\n",
            "DEBUG:root:------NOUN CHUNCK MATCHING FOR BP------\n",
            "DEBUG:root:------CHILDREN NAMES------\n",
            "DEBUG:root:------NOUN CHUNCK MATCHING CHILDREN------\n",
            "DEBUG:root:------EDUCATION INSTITUTIONS------\n",
            "DEBUG:root:------PARENTS NAMES------\n",
            "DEBUG:root:------SPOUSES NAMES------\n",
            "DEBUG:root:('Marja-Leena', 'SP', (1476, 1479))\n",
            "DEBUG:root:('Marja-Leena', 'SP', (1504, 1507))\n",
            "DEBUG:root:('Jenni Haukio', 'SP', (1622, 1624))\n",
            "DEBUG:root:------NOUN CHUNCK MATCHING FOR SPOUSES------\n",
            "DEBUG:root:('Marja-Leena', 'SP', (1476, 1479))\n",
            "DEBUG:root:('Marja-Leena', 'SP', (1504, 1507))\n",
            "DEBUG:root:('Jenni Haukio', 'SP', (1622, 1624))\n"
          ],
          "name": "stderr"
        },
        {
          "output_type": "stream",
          "text": [
            "info card is scraped successfully\n",
            "[['Born', 'PERSON'], []]\n",
            "[['Born', 'DATE'], ['1889-02-03', '3 February 1889']]\n",
            "[['Born', 'GPE'], ['Grand Duchy of Finland', 'Russian Empire', 'Huittinen']]\n"
          ],
          "name": "stdout"
        },
        {
          "output_type": "stream",
          "text": [
            "DEBUG:root:------BIRTHDAY MATCHING------\n",
            "DEBUG:root:------BIRTH PLACES------\n",
            "DEBUG:root:------NOUN CHUNCK MATCHING FOR BP------\n",
            "DEBUG:root:------CHILDREN NAMES------\n",
            "DEBUG:root:------EDUCATION INSTITUTIONS------\n",
            "DEBUG:root:------PARENTS NAMES------\n",
            "DEBUG:root:------SPOUSES NAMES------\n"
          ],
          "name": "stderr"
        },
        {
          "output_type": "stream",
          "text": [
            "info card is scraped successfully\n",
            "[['Born', 'PERSON'], []]\n",
            "[['Born', 'DATE'], ['1937-06-23', '23 June 1937']]\n",
            "[['Born', 'GPE'], ['Finland', 'Viipuri']]\n",
            "[['Children', 'PERSON'], ['Marko']]\n",
            "[['Spouse(s)', 'PERSON'], ['Eeva Hyvärinen']]\n"
          ],
          "name": "stdout"
        },
        {
          "output_type": "stream",
          "text": [
            "DEBUG:root:------BIRTHDAY MATCHING------\n",
            "DEBUG:root:------BIRTH PLACES------\n",
            "DEBUG:root:------NOUN CHUNCK MATCHING FOR BP------\n",
            "DEBUG:root:------CHILDREN NAMES------\n",
            "DEBUG:root:------NOUN CHUNCK MATCHING CHILDREN------\n",
            "DEBUG:root:('Marko Ahtisaari', 'CH', (529, 531))\n",
            "DEBUG:root:('Finnish marks', 'CH', (1518, 1520))\n",
            "DEBUG:root:('a few thousand Finnish marks', 'CH', (1530, 1535))\n",
            "DEBUG:root:------EDUCATION INSTITUTIONS------\n",
            "DEBUG:root:------PARENTS NAMES------\n",
            "DEBUG:root:------SPOUSES NAMES------\n",
            "DEBUG:root:------NOUN CHUNCK MATCHING FOR SPOUSES------\n",
            "DEBUG:root:('Eeva Irmeli Hyvärinen', 'SP', (515, 518))\n"
          ],
          "name": "stderr"
        },
        {
          "output_type": "stream",
          "text": [
            "info card is scraped successfully\n",
            "[['Born', 'PERSON'], []]\n",
            "[['Born', 'DATE'], ['1923-11-25', '25 November 1923']]\n",
            "[['Born', 'GPE'], ['Turku']]\n",
            "[['Children', 'PERSON'], []]\n",
            "[['Spouse(s)', 'PERSON'], ['Tellervo Kankaanranta']]\n"
          ],
          "name": "stdout"
        },
        {
          "output_type": "stream",
          "text": [
            "DEBUG:root:------BIRTHDAY MATCHING------\n",
            "DEBUG:root:------BIRTH PLACES------\n",
            "DEBUG:root:------NOUN CHUNCK MATCHING FOR BP------\n",
            "DEBUG:root:------CHILDREN NAMES------\n",
            "DEBUG:root:------NOUN CHUNCK MATCHING CHILDREN------\n",
            "DEBUG:root:------EDUCATION INSTITUTIONS------\n",
            "DEBUG:root:------PARENTS NAMES------\n",
            "DEBUG:root:------SPOUSES NAMES------\n",
            "DEBUG:root:('Tellervo Kankaanranta', 'SP', (471, 473))\n",
            "DEBUG:root:('Tellervo', 'SP', (2189, 2190))\n",
            "DEBUG:root:------NOUN CHUNCK MATCHING FOR SPOUSES------\n",
            "DEBUG:root:('Tellervo Kankaanranta', 'SP', (471, 473))\n",
            "DEBUG:root:('Tellervo', 'SP', (2189, 2190))\n"
          ],
          "name": "stderr"
        },
        {
          "output_type": "stream",
          "text": [
            "info card is scraped successfully\n",
            "[['Born', 'PERSON'], []]\n",
            "[['Born', 'DATE'], ['1865-01-28', '28 January 1865']]\n",
            "[['Born', 'GPE'], ['Grand Duchy of Finland', 'Suomussalmi']]\n",
            "[['Spouse(s)', 'PERSON'], ['Ester Hällström']]\n"
          ],
          "name": "stdout"
        },
        {
          "output_type": "stream",
          "text": [
            "DEBUG:root:------BIRTHDAY MATCHING------\n",
            "DEBUG:root:------BIRTH PLACES------\n",
            "DEBUG:root:------NOUN CHUNCK MATCHING FOR BP------\n",
            "DEBUG:root:------CHILDREN NAMES------\n",
            "DEBUG:root:------EDUCATION INSTITUTIONS------\n",
            "DEBUG:root:------PARENTS NAMES------\n",
            "DEBUG:root:------SPOUSES NAMES------\n",
            "DEBUG:root:------NOUN CHUNCK MATCHING FOR SPOUSES------\n",
            "DEBUG:root:('Ester Hällström', 'SP', (1456, 1458))\n"
          ],
          "name": "stderr"
        },
        {
          "output_type": "stream",
          "text": [
            "info card is scraped successfully\n",
            "[['Born', 'PERSON'], ['Tarja Kaarina Halonen']]\n",
            "[['Born', 'DATE'], ['1943-12-24', '24 December 1943']]\n",
            "[['Born', 'GPE'], ['Helsinki']]\n",
            "[['Children', 'PERSON'], []]\n",
            "[['Spouse(s)', 'PERSON'], ['Pentti Arajärvi']]\n"
          ],
          "name": "stdout"
        },
        {
          "output_type": "stream",
          "text": [
            "DEBUG:root:------BIRTHDAY MATCHING------\n",
            "DEBUG:root:------BIRTH PLACES------\n",
            "DEBUG:root:------NOUN CHUNCK MATCHING FOR BP------\n",
            "DEBUG:root:------CHILDREN NAMES------\n",
            "DEBUG:root:------NOUN CHUNCK MATCHING CHILDREN------\n",
            "DEBUG:root:------EDUCATION INSTITUTIONS------\n",
            "DEBUG:root:------PARENTS NAMES------\n",
            "DEBUG:root:------SPOUSES NAMES------\n",
            "DEBUG:root:('Pentti Arajärvi', 'SP', (2531, 2533))\n",
            "DEBUG:root:------NOUN CHUNCK MATCHING FOR SPOUSES------\n",
            "DEBUG:root:('Pertti Paasio', 'SP', (1264, 1266))\n",
            "DEBUG:root:('Dr. Pentti Arajärvi', 'SP', (2530, 2533))\n"
          ],
          "name": "stderr"
        },
        {
          "output_type": "stream",
          "text": [
            "info card is scraped successfully\n",
            "[['Born', 'PERSON'], []]\n",
            "[['Born', 'DATE'], ['1883-05-31', '31 May 1883']]\n",
            "[['Born', 'GPE'], ['Kurkijoki']]\n"
          ],
          "name": "stdout"
        },
        {
          "output_type": "stream",
          "text": [
            "DEBUG:root:------BIRTHDAY MATCHING------\n",
            "DEBUG:root:------BIRTH PLACES------\n",
            "DEBUG:root:------NOUN CHUNCK MATCHING FOR BP------\n"
          ],
          "name": "stderr"
        },
        {
          "output_type": "stream",
          "text": [
            "[['Spouse(s)', 'PERSON'], ['Signe Relander']]\n"
          ],
          "name": "stdout"
        },
        {
          "output_type": "stream",
          "text": [
            "DEBUG:root:------CHILDREN NAMES------\n",
            "DEBUG:root:------EDUCATION INSTITUTIONS------\n",
            "DEBUG:root:------PARENTS NAMES------\n",
            "DEBUG:root:------SPOUSES NAMES------\n",
            "DEBUG:root:------NOUN CHUNCK MATCHING FOR SPOUSES------\n",
            "DEBUG:root:('Signe Maria Österman', 'SP', (173, 176))\n"
          ],
          "name": "stderr"
        },
        {
          "output_type": "stream",
          "text": [
            "info card is scraped successfully\n",
            "[['Born', 'PERSON'], []]\n",
            "[['Born', 'DATE'], ['1900-09-03', '3 September 1900']]\n",
            "[['Born', 'GPE'], ['Grand Duchy of Finland', 'Russian Empire', 'Pielavesi']]\n",
            "[['Children', 'PERSON'], ['Matti', 'Taneli']]\n",
            "[['Spouse(s)', 'PERSON'], ['Sylvi Salome Uino']]\n"
          ],
          "name": "stdout"
        },
        {
          "output_type": "stream",
          "text": [
            "DEBUG:root:------BIRTHDAY MATCHING------\n",
            "DEBUG:root:------BIRTH PLACES------\n",
            "DEBUG:root:------NOUN CHUNCK MATCHING FOR BP------\n",
            "DEBUG:root:------CHILDREN NAMES------\n",
            "DEBUG:root:('Matti', 'CH', (552, 553))\n",
            "DEBUG:root:('Taneli Kekkonen', 'CH', (578, 580))\n",
            "DEBUG:root:------NOUN CHUNCK MATCHING CHILDREN------\n",
            "DEBUG:root:('Matti', 'CH', (552, 553))\n",
            "DEBUG:root:('Taneli', 'CH', (557, 558))\n",
            "DEBUG:root:('Matti Kekkonen', 'CH', (562, 564))\n",
            "DEBUG:root:('Taneli Kekkonen', 'CH', (578, 580))\n",
            "DEBUG:root:('economic matters', 'CH', (1954, 1956))\n",
            "DEBUG:root:------EDUCATION INSTITUTIONS------\n",
            "DEBUG:root:------PARENTS NAMES------\n",
            "DEBUG:root:------SPOUSES NAMES------\n",
            "DEBUG:root:------NOUN CHUNCK MATCHING FOR SPOUSES------\n",
            "DEBUG:root:('Sylvi Salome Uino', 'SP', (533, 536))\n"
          ],
          "name": "stderr"
        },
        {
          "output_type": "stream",
          "text": [
            "info card is scraped successfully\n",
            "[['Born', 'PERSON'], []]\n",
            "[['Born', 'DATE'], ['1861-12-15', '15 December 1861']]\n",
            "[['Born', 'GPE'], ['Grand Duchy of Finland', 'Russian Empire', 'Sääksmäki']]\n",
            "[['Children', 'PERSON'], ['Pehr Yngve']]\n",
            "[['Spouse(s)', 'PERSON'], ['Ellen Timgren']]\n"
          ],
          "name": "stdout"
        },
        {
          "output_type": "stream",
          "text": [
            "DEBUG:root:------BIRTHDAY MATCHING------\n",
            "DEBUG:root:------BIRTH PLACES------\n",
            "DEBUG:root:------NOUN CHUNCK MATCHING FOR BP------\n",
            "DEBUG:root:------CHILDREN NAMES------\n",
            "DEBUG:root:------NOUN CHUNCK MATCHING CHILDREN------\n",
            "DEBUG:root:(' Pehr Evind Svinhufvud', 'CH', (0, 4))\n",
            "DEBUG:root:('Pehr Evind Svinhufvud', 'CH', (152, 155))\n",
            "DEBUG:root:('Pehr Gustaf Svinhufvud af Qvalstad', 'CH', (167, 172))\n",
            "DEBUG:root:('Pehr Evind', 'CH', (193, 195))\n",
            "DEBUG:root:('Pehr Gustaf Svinhufvud af Qvalstad', 'CH', (257, 262))\n",
            "DEBUG:root:('Pehr Evind Svinhufvud', 'CH', (2003, 2006))\n",
            "DEBUG:root:------EDUCATION INSTITUTIONS------\n",
            "DEBUG:root:------PARENTS NAMES------\n",
            "DEBUG:root:------SPOUSES NAMES------\n",
            "DEBUG:root:('Ellen', 'SP', (416, 417))\n",
            "DEBUG:root:------NOUN CHUNCK MATCHING FOR SPOUSES------\n",
            "DEBUG:root:('(Ellen) Timgren', 'SP', (415, 419))\n"
          ],
          "name": "stderr"
        },
        {
          "output_type": "stream",
          "text": [
            "info card is scraped successfully\n",
            "[['Born', 'PERSON'], []]\n",
            "[['Born', 'DATE'], ['1867-06-04']]\n",
            "[['Born', 'GPE'], ['Grand Duchy of Finland', 'Russian Empire']]\n",
            "[['Children', 'PERSON'], []]\n",
            "[['Spouse(s)', 'PERSON'], ['Anastasie Arapova']]\n",
            "[['Parents', 'PERSON'], ['Robert Mannerheim', 'Hedvig von Julin']]\n"
          ],
          "name": "stdout"
        },
        {
          "output_type": "stream",
          "text": [
            "DEBUG:root:------BIRTHDAY MATCHING------\n",
            "DEBUG:root:------BIRTH PLACES------\n",
            "DEBUG:root:------NOUN CHUNCK MATCHING FOR BP------\n",
            "DEBUG:root:------CHILDREN NAMES------\n",
            "DEBUG:root:------NOUN CHUNCK MATCHING CHILDREN------\n",
            "DEBUG:root:------EDUCATION INSTITUTIONS------\n",
            "DEBUG:root:------PARENTS NAMES------\n",
            "DEBUG:root:------PERSON ENTITY MATCHING FOR PARENTS------\n",
            "DEBUG:root:------NOUN CHUNCK MATCHING FOR PARENTS------\n",
            "DEBUG:root:------SPOUSES NAMES------\n",
            "DEBUG:root:('Anastasia Arapova', 'SP', (759, 761))\n",
            "DEBUG:root:------NOUN CHUNCK MATCHING FOR SPOUSES------\n",
            "DEBUG:root:('Anastasia Arapova', 'SP', (759, 761))\n",
            "DEBUG:root:('Anastasie', 'SP', (771, 772))\n"
          ],
          "name": "stderr"
        },
        {
          "output_type": "stream",
          "text": [
            "info card is scraped successfully\n",
            "[['Born', 'PERSON'], ['Johan Gustaf Hellsten', 'Koski']]\n",
            "[['Born', 'DATE'], ['1870-11-27', '27 November 1870']]\n",
            "[['Born', 'GPE'], ['Grand Duchy of Finland', 'Koski']]\n",
            "[['Children', 'PERSON'], []]\n",
            "[['Spouse(s)', 'PERSON'], []]\n"
          ],
          "name": "stdout"
        },
        {
          "output_type": "stream",
          "text": [
            "DEBUG:root:------BIRTHDAY MATCHING------\n",
            "DEBUG:root:------BIRTH PLACES------\n",
            "DEBUG:root:------NOUN CHUNCK MATCHING FOR BP------\n",
            "DEBUG:root:------CHILDREN NAMES------\n",
            "DEBUG:root:------NOUN CHUNCK MATCHING CHILDREN------\n",
            "DEBUG:root:------EDUCATION INSTITUTIONS------\n",
            "DEBUG:root:------PARENTS NAMES------\n",
            "DEBUG:root:------SPOUSES NAMES------\n",
            "DEBUG:root:------NOUN CHUNCK MATCHING FOR SPOUSES------\n"
          ],
          "name": "stderr"
        },
        {
          "output_type": "stream",
          "text": [
            "info card is scraped successfully\n",
            "[['Born', 'PERSON'], []]\n",
            "[['Born', 'DATE'], ['1873-04', '10 April 1873']]\n",
            "[['Born', 'GPE'], ['Grand Duchy of Finland', 'Russian Empire', 'Ylivieska']]\n",
            "[['Children', 'PERSON'], []]\n",
            "[['Spouse(s)', 'PERSON'], ['Kaisa Nivala']]\n"
          ],
          "name": "stdout"
        },
        {
          "output_type": "stream",
          "text": [
            "DEBUG:root:------BIRTHDAY MATCHING------\n",
            "DEBUG:root:------BIRTH PLACES------\n",
            "DEBUG:root:------NOUN CHUNCK MATCHING FOR BP------\n",
            "DEBUG:root:------CHILDREN NAMES------\n",
            "DEBUG:root:------NOUN CHUNCK MATCHING CHILDREN------\n",
            "DEBUG:root:------EDUCATION INSTITUTIONS------\n",
            "DEBUG:root:------PARENTS NAMES------\n",
            "DEBUG:root:------SPOUSES NAMES------\n",
            "DEBUG:root:('Kaisa Kallio', 'SP', (1137, 1139))\n",
            "DEBUG:root:------NOUN CHUNCK MATCHING FOR SPOUSES------\n",
            "DEBUG:root:('Kaisa Kallio', 'SP', (1137, 1139))\n"
          ],
          "name": "stderr"
        },
        {
          "output_type": "stream",
          "text": [
            "info card is scraped successfully\n",
            "[['Born', 'PERSON'], ['Emmanuel Jean-Michel']]\n",
            "[['Born', 'DATE'], ['1977-12-21', '21 December 1977']]\n",
            "[['Born', 'GPE'], ['France', 'Amiens']]\n",
            "[['Spouse(s)', 'PERSON'], ['Brigitte Trogneux']]\n",
            "[['Parents', 'PERSON'], ['Jean-Michel Macron', 'Françoise Noguès']]\n"
          ],
          "name": "stdout"
        },
        {
          "output_type": "stream",
          "text": [
            "DEBUG:root:------BIRTHDAY MATCHING------\n",
            "DEBUG:root:------BIRTH PLACES------\n",
            "DEBUG:root:------NOUN CHUNCK MATCHING FOR BP------\n",
            "DEBUG:root:------CHILDREN NAMES------\n",
            "DEBUG:root:------EDUCATION INSTITUTIONS------\n",
            "DEBUG:root:------PARENTS NAMES------\n",
            "DEBUG:root:------PERSON ENTITY MATCHING FOR PARENTS------\n",
            "DEBUG:root:('Jean-Michel Macron', 'PR', (348, 352))\n",
            "DEBUG:root:------NOUN CHUNCK MATCHING FOR PARENTS------\n",
            "DEBUG:root:------SPOUSES NAMES------\n",
            "DEBUG:root:('Brigitte', 'SP', (11873, 11874))\n",
            "DEBUG:root:------NOUN CHUNCK MATCHING FOR SPOUSES------\n",
            "DEBUG:root:('Brigitte Auzière', 'SP', (682, 684))\n",
            "DEBUG:root:('Brigitte Trogneux', 'SP', (11467, 11469))\n",
            "DEBUG:root:('Brigitte', 'SP', (11873, 11874))\n"
          ],
          "name": "stderr"
        },
        {
          "output_type": "stream",
          "text": [
            "info card is scraped successfully\n",
            "[['Born', 'PERSON'], ['Charles André']]\n",
            "[['Born', 'DATE'], ['1890-11-22', '22 November 1890']]\n",
            "[['Born', 'GPE'], ['France', 'Lille']]\n",
            "[['Children', 'PERSON'], ['Philippe', 'Élisabeth', 'Anne']]\n",
            "[['Spouse(s)', 'PERSON'], ['Yvonne Vendroux']]\n"
          ],
          "name": "stdout"
        },
        {
          "output_type": "stream",
          "text": [
            "DEBUG:root:------BIRTHDAY MATCHING------\n",
            "DEBUG:root:------BIRTH PLACES------\n",
            "DEBUG:root:------NOUN CHUNCK MATCHING FOR BP------\n",
            "DEBUG:root:------CHILDREN NAMES------\n",
            "DEBUG:root:('Jeanne', 'CH', (988, 989))\n",
            "DEBUG:root:('Julien-Philippe', 'CH', (1134, 1137))\n",
            "DEBUG:root:('Philippe Pétain', 'CH', (2079, 2081))\n",
            "DEBUG:root:('Anne', 'CH', (10063, 10064))\n",
            "DEBUG:root:('Philippe Leclerc', 'CH', (14050, 14052))\n",
            "DEBUG:root:('Élisabeth', 'CH', (29688, 29689))\n",
            "DEBUG:root:('Anne', 'CH', (29701, 29702))\n",
            "DEBUG:root:('Anne', 'CH', (29706, 29707))\n",
            "DEBUG:root:('Anne', 'CH', (30406, 30407))\n",
            "DEBUG:root:------NOUN CHUNCK MATCHING CHILDREN------\n",
            "DEBUG:root:('Jeanne', 'CH', (988, 989))\n",
            "DEBUG:root:('His grandfather Julien-Philippe', 'CH', (1132, 1137))\n",
            "DEBUG:root:('Philippe Pétain', 'CH', (2079, 2081))\n",
            "DEBUG:root:('Anne', 'CH', (10063, 10064))\n",
            "DEBUG:root:('French General Philippe Leclerc de Hauteclocque', 'CH', (12574, 12580))\n",
            "DEBUG:root:('General Philippe Leclerc', 'CH', (14049, 14052))\n",
            "DEBUG:root:('Philippe', 'CH', (29682, 29683))\n",
            "DEBUG:root:('Élisabeth', 'CH', (29688, 29689))\n",
            "DEBUG:root:('Anne', 'CH', (29701, 29702))\n",
            "DEBUG:root:('Anne', 'CH', (29706, 29707))\n",
            "DEBUG:root:('Anne', 'CH', (29728, 29729))\n",
            "DEBUG:root:('Anne', 'CH', (30406, 30407))\n",
            "DEBUG:root:------EDUCATION INSTITUTIONS------\n",
            "DEBUG:root:------PARENTS NAMES------\n",
            "DEBUG:root:------SPOUSES NAMES------\n",
            "DEBUG:root:('Yvonne', 'SP', (17815, 17816))\n",
            "DEBUG:root:('Yvonne Vendroux', 'SP', (29663, 29665))\n",
            "DEBUG:root:------NOUN CHUNCK MATCHING FOR SPOUSES------\n",
            "DEBUG:root:(\"de Gaulle's wife Yvonne\", 'SP', (17811, 17816))\n",
            "DEBUG:root:('Yvonne Vendroux', 'SP', (29663, 29665))\n"
          ],
          "name": "stderr"
        },
        {
          "output_type": "stream",
          "text": [
            "info card is scraped successfully\n",
            "[['Born', 'PERSON'], ['Jules Gustave René Coty']]\n",
            "[['Born', 'DATE'], ['1882-03-20', '20 March 1882']]\n",
            "[['Born', 'GPE'], ['France', 'Le Havre']]\n",
            "[['Children', 'PERSON'], ['Geneviève ', 'Anne-Marie']]\n"
          ],
          "name": "stdout"
        },
        {
          "output_type": "stream",
          "text": [
            "DEBUG:root:------BIRTHDAY MATCHING------\n",
            "DEBUG:root:------BIRTH PLACES------\n",
            "DEBUG:root:------NOUN CHUNCK MATCHING FOR BP------\n",
            "DEBUG:root:------CHILDREN NAMES------\n",
            "DEBUG:root:('André Marie', 'CH', (415, 417))\n",
            "DEBUG:root:------NOUN CHUNCK MATCHING CHILDREN------\n",
            "DEBUG:root:------EDUCATION INSTITUTIONS------\n",
            "DEBUG:root:------PARENTS NAMES------\n",
            "DEBUG:root:------SPOUSES NAMES------\n",
            "DEBUG:root:------NOUN CHUNCK MATCHING FOR SPOUSES------\n"
          ],
          "name": "stderr"
        },
        {
          "output_type": "stream",
          "text": [
            "[['Spouse(s)', 'PERSON'], ['Germaine Corblet']]\n",
            "info card is scraped successfully\n",
            "[['Born', 'PERSON'], []]\n",
            "[['Born', 'DATE'], []]\n"
          ],
          "name": "stdout"
        },
        {
          "output_type": "stream",
          "text": [
            "DEBUG:root:------BIRTHDAY MATCHING------\n",
            "DEBUG:root:------BIRTH PLACES------\n",
            "DEBUG:root:------NOUN CHUNCK MATCHING FOR BP------\n",
            "DEBUG:root:------CHILDREN NAMES------\n",
            "DEBUG:root:------EDUCATION INSTITUTIONS------\n",
            "DEBUG:root:------PARENTS NAMES------\n",
            "DEBUG:root:------SPOUSES NAMES------\n"
          ],
          "name": "stderr"
        },
        {
          "output_type": "stream",
          "text": [
            "[['Born', 'GPE'], ['Gironde', 'Second French Empire']]\n",
            "info card is scraped successfully\n",
            "[['Born', 'PERSON'], ['Nicolas Paul Stéphane']]\n",
            "[['Born', 'DATE'], ['1955-01-28', '28 January 1955']]\n",
            "[['Born', 'GPE'], ['Paris']]\n",
            "[['Children', 'PERSON'], ['Jean']]\n",
            "[['Spouse(s)', 'PERSON'], ['Marie-Dominique Culioli', 'Cécilia Ciganer-Albéniz', 'Carla Bruni']]\n"
          ],
          "name": "stdout"
        },
        {
          "output_type": "stream",
          "text": [
            "DEBUG:root:------BIRTHDAY MATCHING------\n",
            "DEBUG:root:------BIRTH PLACES------\n",
            "DEBUG:root:------NOUN CHUNCK MATCHING FOR BP------\n",
            "DEBUG:root:------CHILDREN NAMES------\n",
            "DEBUG:root:('Jean', 'CH', (933, 934))\n",
            "DEBUG:root:('Jean', 'CH', (7919, 7920))\n",
            "DEBUG:root:------NOUN CHUNCK MATCHING CHILDREN------\n",
            "DEBUG:root:('Andrée Jeanne \"Dadu\" Mallah', 'CH', (409, 415))\n",
            "DEBUG:root:('Jean', 'CH', (933, 934))\n",
            "DEBUG:root:('Jean-Louis Debré', 'CH', (2296, 2300))\n",
            "DEBUG:root:('Quebec Premier Jean Charest', 'CH', (4113, 4117))\n",
            "DEBUG:root:('Jean', 'CH', (7919, 7920))\n",
            "DEBUG:root:------EDUCATION INSTITUTIONS------\n",
            "DEBUG:root:------PARENTS NAMES------\n",
            "DEBUG:root:------SPOUSES NAMES------\n",
            "DEBUG:root:('Carla Bruni', 'SP', (245, 247))\n",
            "DEBUG:root:('Marie-Dominique Culioli', 'SP', (864, 868))\n",
            "DEBUG:root:('Cécilia Sarkozy', 'SP', (1107, 1109))\n",
            "DEBUG:root:('Cécilia', 'SP', (1199, 1200))\n",
            "DEBUG:root:('Carla Bruni', 'SP', (1236, 1238))\n",
            "DEBUG:root:('Carla Bruni', 'SP', (6291, 6293))\n",
            "DEBUG:root:------NOUN CHUNCK MATCHING FOR SPOUSES------\n",
            "DEBUG:root:('Italian-French singer-songwriter Carla Bruni', 'SP', (239, 247))\n",
            "DEBUG:root:('Marie-Dominique Culioli', 'SP', (864, 868))\n",
            "DEBUG:root:('public relations executive Cécilia Ciganer-Albéniz', 'SP', (1012, 1019))\n",
            "DEBUG:root:('Cécilia Sarkozy', 'SP', (1107, 1109))\n",
            "DEBUG:root:('Cécilia', 'SP', (1199, 1200))\n",
            "DEBUG:root:('Cécilia', 'SP', (1222, 1223))\n",
            "DEBUG:root:('Carla Bruni', 'SP', (1236, 1238))\n",
            "DEBUG:root:(\"his ex-wife Cécilia Ciganer-Albéniz's image\", 'SP', (6071, 6081))\n",
            "DEBUG:root:('Carla Bruni', 'SP', (6291, 6293))\n"
          ],
          "name": "stderr"
        },
        {
          "output_type": "stream",
          "text": [
            "info card is scraped successfully\n",
            "[['Born', 'PERSON'], ['Georges Jean Raymond Pompidou']]\n",
            "[['Born', 'DATE'], ['1911-07-05', '5 July 1911']]\n",
            "[['Born', 'GPE'], ['France', 'Montboudif']]\n",
            "[['Children', 'PERSON'], ['Alain']]\n",
            "[['Spouse(s)', 'PERSON'], ['Claude Cahour']]\n"
          ],
          "name": "stdout"
        },
        {
          "output_type": "stream",
          "text": [
            "DEBUG:root:------BIRTHDAY MATCHING------\n",
            "DEBUG:root:------BIRTH PLACES------\n",
            "DEBUG:root:------NOUN CHUNCK MATCHING FOR BP------\n",
            "DEBUG:root:------CHILDREN NAMES------\n",
            "DEBUG:root:('Alain Poher', 'CH', (835, 837))\n",
            "DEBUG:root:------NOUN CHUNCK MATCHING CHILDREN------\n",
            "DEBUG:root:('the Senate and Acting President Alain Poher', 'CH', (830, 837))\n",
            "DEBUG:root:('Alain Pompidou', 'CH', (1443, 1445))\n",
            "DEBUG:root:------EDUCATION INSTITUTIONS------\n",
            "DEBUG:root:------PARENTS NAMES------\n",
            "DEBUG:root:------SPOUSES NAMES------\n",
            "DEBUG:root:('Claude Pompidou', 'SP', (1422, 1424))\n",
            "DEBUG:root:------NOUN CHUNCK MATCHING FOR SPOUSES------\n",
            "DEBUG:root:('Claude Pompidou', 'SP', (1422, 1424))\n"
          ],
          "name": "stderr"
        },
        {
          "output_type": "stream",
          "text": [
            "info card is scraped successfully\n",
            "[['Born', 'PERSON'], ['Jacques René Chirac']]\n",
            "[['Born', 'DATE'], ['1932-11-29', '29 November 1932']]\n",
            "[['Born', 'GPE'], ['French Third Republic', 'Paris']]\n",
            "[['Children', 'PERSON'], ['Laurence', 'Claude']]\n",
            "[['Spouse(s)', 'PERSON'], ['Bernadette Chodron de Courcel']]\n"
          ],
          "name": "stdout"
        },
        {
          "output_type": "stream",
          "text": [
            "DEBUG:root:------BIRTHDAY MATCHING------\n",
            "DEBUG:root:------BIRTH PLACES------\n",
            "DEBUG:root:------NOUN CHUNCK MATCHING FOR BP------\n",
            "DEBUG:root:------CHILDREN NAMES------\n",
            "DEBUG:root:('Laurence', 'CH', (648, 649))\n",
            "DEBUG:root:------NOUN CHUNCK MATCHING CHILDREN------\n",
            "DEBUG:root:('Laurence', 'CH', (648, 649))\n",
            "DEBUG:root:('Claude', 'CH', (660, 661))\n",
            "DEBUG:root:('Claude', 'CH', (668, 669))\n",
            "DEBUG:root:('Laurence', 'CH', (685, 686))\n",
            "DEBUG:root:('Claude', 'CH', (720, 721))\n",
            "DEBUG:root:('the Jean-Claude Méry', 'CH', (4296, 4301))\n",
            "DEBUG:root:------EDUCATION INSTITUTIONS------\n",
            "DEBUG:root:------PARENTS NAMES------\n",
            "DEBUG:root:------SPOUSES NAMES------\n",
            "DEBUG:root:('Bernadette Chodron de Courcel', 'SP', (636, 640))\n",
            "DEBUG:root:('Bernadette Chirac', 'SP', (746, 748))\n",
            "DEBUG:root:('Bernadette', 'SP', (6780, 6781))\n",
            "DEBUG:root:------NOUN CHUNCK MATCHING FOR SPOUSES------\n",
            "DEBUG:root:('Bernadette Chodron de Courcel', 'SP', (636, 640))\n",
            "DEBUG:root:('Bernadette Chirac', 'SP', (746, 748))\n",
            "DEBUG:root:(\"Chirac's wife Bernadette\", 'SP', (6777, 6781))\n"
          ],
          "name": "stderr"
        },
        {
          "output_type": "stream",
          "text": [
            "info card is scraped successfully\n",
            "[['Born', 'PERSON'], ['Valéry Marie René Georges Giscard']]\n",
            "[['Born', 'DATE'], ['1926-02-02', 'February 1926']]\n",
            "[['Born', 'GPE'], ['French-occupied Germany', 'Koblenz']]\n",
            "[['Children', 'PERSON'], ['Henri', 'Louis']]\n",
            "[['Spouse(s)', 'PERSON'], ['Anne-Aymone Sauvage de Brantes']]\n"
          ],
          "name": "stdout"
        },
        {
          "output_type": "stream",
          "text": [
            "DEBUG:root:------BIRTHDAY MATCHING------\n",
            "DEBUG:root:------BIRTH PLACES------\n",
            "DEBUG:root:------NOUN CHUNCK MATCHING FOR BP------\n",
            "DEBUG:root:------CHILDREN NAMES------\n",
            "DEBUG:root:('Louis', 'CH', (3992, 3993))\n",
            "DEBUG:root:('Louis', 'CH', (4008, 4009))\n",
            "DEBUG:root:------NOUN CHUNCK MATCHING CHILDREN------\n",
            "DEBUG:root:('King Louis XV', 'CH', (493, 496))\n",
            "DEBUG:root:('Louis-le-Grand', 'CH', (750, 755))\n",
            "DEBUG:root:('Henry Kissinger', 'CH', (2558, 2560))\n",
            "DEBUG:root:('Louis Giscard', 'CH', (2792, 2794))\n",
            "DEBUG:root:('Louis', 'CH', (3992, 3993))\n",
            "DEBUG:root:('Louis', 'CH', (4008, 4009))\n",
            "DEBUG:root:('Henri', 'CH', (4015, 4016))\n",
            "DEBUG:root:------EDUCATION INSTITUTIONS------\n",
            "DEBUG:root:------PARENTS NAMES------\n",
            "DEBUG:root:------SPOUSES NAMES------\n",
            "DEBUG:root:('Anne-Aymone Sauvage de Brantes', 'SP', (3935, 3941))\n",
            "DEBUG:root:------NOUN CHUNCK MATCHING FOR SPOUSES------\n",
            "DEBUG:root:('Anne-Aymone Sauvage de Brantes', 'SP', (3935, 3941))\n"
          ],
          "name": "stderr"
        },
        {
          "output_type": "stream",
          "text": [
            "info card is scraped successfully\n",
            "[['Born', 'PERSON'], []]\n",
            "[['Born', 'DATE'], ['1884-08-27', '27 August 1884']]\n",
            "[['Born', 'GPE'], ['France', 'Revel']]\n"
          ],
          "name": "stdout"
        },
        {
          "output_type": "stream",
          "text": [
            "DEBUG:root:------BIRTHDAY MATCHING------\n",
            "DEBUG:root:------BIRTH PLACES------\n",
            "DEBUG:root:------NOUN CHUNCK MATCHING FOR BP------\n"
          ],
          "name": "stderr"
        },
        {
          "output_type": "stream",
          "text": [
            "[['Spouse(s)', 'PERSON'], []]\n"
          ],
          "name": "stdout"
        },
        {
          "output_type": "stream",
          "text": [
            "DEBUG:root:------CHILDREN NAMES------\n",
            "DEBUG:root:------EDUCATION INSTITUTIONS------\n",
            "DEBUG:root:------PARENTS NAMES------\n",
            "DEBUG:root:------SPOUSES NAMES------\n",
            "DEBUG:root:------NOUN CHUNCK MATCHING FOR SPOUSES------\n"
          ],
          "name": "stderr"
        },
        {
          "output_type": "stream",
          "text": [
            "info card is scraped successfully\n",
            "[['Born', 'PERSON'], []]\n",
            "[['Born', 'DATE'], ['1884-06-18']]\n",
            "[['Born', 'GPE'], ['Vaucluse', 'France']]\n",
            "[['Children', 'PERSON'], ['Jean', 'Pierre', 'Marie']]\n",
            "[['Spouse(s)', 'PERSON'], ['Madeleine Laffont', 'Jeanne Boucoiran']]\n",
            "[['Education', 'ORG'], []]\n"
          ],
          "name": "stdout"
        },
        {
          "output_type": "stream",
          "text": [
            "DEBUG:root:------BIRTHDAY MATCHING------\n",
            "DEBUG:root:------BIRTH PLACES------\n",
            "DEBUG:root:------NOUN CHUNCK MATCHING FOR BP------\n",
            "DEBUG:root:------CHILDREN NAMES------\n",
            "DEBUG:root:------NOUN CHUNCK MATCHING CHILDREN------\n",
            "DEBUG:root:('the Croix de Guerre', 'CH', (585, 589))\n",
            "DEBUG:root:(\"the Radical-Socialist Party's young reforming leader Pierre Mendès-France\", 'CH', (5432, 5445))\n",
            "DEBUG:root:------EDUCATION INSTITUTIONS------\n",
            "DEBUG:root:------NOUN CHUNCK MATCHING FOR EDUCATION------\n",
            "DEBUG:root:------PARENTS NAMES------\n",
            "DEBUG:root:------SPOUSES NAMES------\n",
            "DEBUG:root:------NOUN CHUNCK MATCHING FOR SPOUSES------\n",
            "DEBUG:root:('the Japanese', 'SP', (3291, 3293))\n"
          ],
          "name": "stderr"
        },
        {
          "output_type": "stream",
          "text": [
            "info card is scraped successfully\n",
            "[['Born', 'PERSON'], ['André Léon Blum']]\n",
            "[['Born', 'DATE'], []]\n",
            "[['Born', 'GPE'], ['France']]\n"
          ],
          "name": "stdout"
        },
        {
          "output_type": "stream",
          "text": [
            "DEBUG:root:------BIRTHDAY MATCHING------\n",
            "DEBUG:root:------BIRTH PLACES------\n",
            "DEBUG:root:------NOUN CHUNCK MATCHING FOR BP------\n",
            "DEBUG:root:------CHILDREN NAMES------\n",
            "DEBUG:root:------EDUCATION INSTITUTIONS------\n",
            "DEBUG:root:------PARENTS NAMES------\n",
            "DEBUG:root:------SPOUSES NAMES------\n"
          ],
          "name": "stderr"
        },
        {
          "output_type": "stream",
          "text": [
            "info card is scraped successfully\n",
            "[['Born', 'PERSON'], ['Adrien Marie Mitterrand']]\n",
            "[['Born', 'DATE'], ['1916-10-26', '26 October 1916']]\n",
            "[['Born', 'GPE'], ['France', 'Jarnac']]\n",
            "[['Children', 'PERSON'], ['Jean-Christophe', 'Mazarine Pingeot Mitterrand']]\n",
            "[['Spouse(s)', 'PERSON'], ['Danielle Gouze']]\n"
          ],
          "name": "stdout"
        },
        {
          "output_type": "stream",
          "text": [
            "DEBUG:root:------BIRTHDAY MATCHING------\n",
            "DEBUG:root:------BIRTH PLACES------\n",
            "DEBUG:root:------NOUN CHUNCK MATCHING FOR BP------\n",
            "DEBUG:root:------CHILDREN NAMES------\n",
            "DEBUG:root:------NOUN CHUNCK MATCHING CHILDREN------\n",
            "DEBUG:root:('Jean-Christophe', 'CH', (732, 735))\n",
            "DEBUG:root:('Mazarine', 'CH', (766, 767))\n",
            "DEBUG:root:('Mazarine Pingeot', 'CH', (12181, 12183))\n",
            "DEBUG:root:('Jean-Christophe', 'CH', (12559, 12562))\n",
            "DEBUG:root:------EDUCATION INSTITUTIONS------\n",
            "DEBUG:root:------PARENTS NAMES------\n",
            "DEBUG:root:------SPOUSES NAMES------\n",
            "DEBUG:root:('Danielle Mitterrand', 'SP', (688, 690))\n",
            "DEBUG:root:------NOUN CHUNCK MATCHING FOR SPOUSES------\n",
            "DEBUG:root:('Danielle Mitterrand', 'SP', (688, 690))\n"
          ],
          "name": "stderr"
        },
        {
          "output_type": "stream",
          "text": [
            "info card is scraped successfully\n",
            "[['Born', 'PERSON'], ['François Gérard Georges Nicolas Hollande']]\n",
            "[['Born', 'DATE'], ['1954-08-12', '12 August 1954']]\n",
            "[['Born', 'GPE'], ['France', 'Rouen']]\n",
            "[['Children', 'PERSON'], []]\n"
          ],
          "name": "stdout"
        },
        {
          "output_type": "stream",
          "text": [
            "DEBUG:root:------BIRTHDAY MATCHING------\n",
            "DEBUG:root:------BIRTH PLACES------\n",
            "DEBUG:root:------NOUN CHUNCK MATCHING FOR BP------\n",
            "DEBUG:root:------CHILDREN NAMES------\n",
            "DEBUG:root:------NOUN CHUNCK MATCHING CHILDREN------\n",
            "DEBUG:root:------EDUCATION INSTITUTIONS------\n",
            "DEBUG:root:------PARENTS NAMES------\n",
            "DEBUG:root:------SPOUSES NAMES------\n"
          ],
          "name": "stderr"
        },
        {
          "output_type": "stream",
          "text": [
            "info card is scraped successfully\n",
            "[['Born', 'PERSON'], ['Alain Bernard Bongo']]\n",
            "[['Born', 'DATE'], ['1959-02-09']]\n",
            "[['Born', 'GPE'], ['Republic of the Congo']]\n",
            "[['Children', 'PERSON'], ['Malika', 'Noureddin', 'Jalil', 'Bilal']]\n",
            "[['Spouse(s)', 'PERSON'], ['Sylvia Valentin']]\n"
          ],
          "name": "stdout"
        },
        {
          "output_type": "stream",
          "text": [
            "DEBUG:root:------BIRTHDAY MATCHING------\n",
            "DEBUG:root:------BIRTH PLACES------\n",
            "DEBUG:root:------NOUN CHUNCK MATCHING FOR BP------\n",
            "DEBUG:root:------CHILDREN NAMES------\n",
            "DEBUG:root:('Noureddin Bongo Valentin', 'CH', (2064, 2067))\n",
            "DEBUG:root:------NOUN CHUNCK MATCHING CHILDREN------\n",
            "DEBUG:root:('Malika Bongo Ondimba', 'CH', (2056, 2059))\n",
            "DEBUG:root:('Noureddin Bongo Valentin', 'CH', (2064, 2067))\n",
            "DEBUG:root:('Jalil Bongo Ondimba', 'CH', (2068, 2071))\n",
            "DEBUG:root:('Jalil Bongo Ondimba', 'CH', (2068, 2071))\n",
            "DEBUG:root:('Bilal Bongo', 'CH', (2072, 2074))\n",
            "DEBUG:root:('Bilal Bongo', 'CH', (2072, 2074))\n",
            "DEBUG:root:------EDUCATION INSTITUTIONS------\n",
            "DEBUG:root:------PARENTS NAMES------\n",
            "DEBUG:root:------SPOUSES NAMES------\n",
            "DEBUG:root:('Sylvia', 'SP', (2078, 2079))\n",
            "DEBUG:root:------NOUN CHUNCK MATCHING FOR SPOUSES------\n",
            "DEBUG:root:('the French-born Sylvia Najma Valentin', 'SP', (1925, 1932))\n",
            "DEBUG:root:('Sylvia', 'SP', (2078, 2079))\n"
          ],
          "name": "stderr"
        },
        {
          "output_type": "stream",
          "text": [
            "info card is scraped successfully\n",
            "[['Born', 'PERSON'], ['Albert-Bernard Bongo']]\n",
            "[['Born', 'DATE'], ['1935-12-30']]\n",
            "[['Born', 'GPE'], ['French Equatorial Africa', 'Gabon']]\n",
            "[['Children', 'PERSON'], ['Ali Bongo Ondimba']]\n",
            "[['Spouse(s)', 'PERSON'], ['Louise Mouyabi Moukala', 'Patience Dabany', 'Edith Lucie Bongo']]\n"
          ],
          "name": "stdout"
        },
        {
          "output_type": "stream",
          "text": [
            "DEBUG:root:------BIRTHDAY MATCHING------\n",
            "DEBUG:root:------BIRTH PLACES------\n",
            "DEBUG:root:------NOUN CHUNCK MATCHING FOR BP------\n",
            "DEBUG:root:------CHILDREN NAMES------\n",
            "DEBUG:root:('André Vallini', 'CH', (2525, 2527))\n",
            "DEBUG:root:('Ali', 'CH', (3465, 3466))\n",
            "DEBUG:root:('Ali', 'CH', (4685, 4686))\n",
            "DEBUG:root:------NOUN CHUNCK MATCHING CHILDREN------\n",
            "DEBUG:root:('Ali Bongo', 'CH', (349, 351))\n",
            "DEBUG:root:('Ali Bongo Ondimba', 'CH', (2915, 2918))\n",
            "DEBUG:root:('Ali', 'CH', (3465, 3466))\n",
            "DEBUG:root:('Ali', 'CH', (4685, 4686))\n",
            "DEBUG:root:------EDUCATION INSTITUTIONS------\n",
            "DEBUG:root:------PARENTS NAMES------\n",
            "DEBUG:root:------SPOUSES NAMES------\n",
            "DEBUG:root:('Edith', 'SP', (3174, 3175))\n",
            "DEBUG:root:('Edith', 'SP', (3257, 3258))\n",
            "DEBUG:root:------NOUN CHUNCK MATCHING FOR SPOUSES------\n",
            "DEBUG:root:('Edith', 'SP', (3174, 3175))\n",
            "DEBUG:root:('Edith', 'SP', (3257, 3258))\n",
            "DEBUG:root:('Edith', 'SP', (3333, 3334))\n",
            "DEBUG:root:('Edith', 'SP', (3375, 3376))\n",
            "DEBUG:root:('Louise Mouyabi-Moukala', 'SP', (5108, 5112))\n",
            "DEBUG:root:('Patience Dabany', 'SP', (5177, 5179))\n",
            "DEBUG:root:('Edith Lucie Sassou-Nguesso', 'SP', (5250, 5255))\n",
            "DEBUG:root:('Edith Lucie Bongo', 'SP', (5299, 5302))\n"
          ],
          "name": "stderr"
        },
        {
          "output_type": "stream",
          "text": [
            "info card is scraped successfully\n",
            "[['Born', 'PERSON'], ['Gabriel Léon']]\n",
            "[['Born', 'DATE'], ['1902-02-09']]\n",
            "[['Born', 'GPE'], ['French Congo']]\n",
            "[['Spouse(s)', 'PERSON'], [\"Pauline M'ba\"]]\n"
          ],
          "name": "stdout"
        },
        {
          "output_type": "stream",
          "text": [
            "DEBUG:root:------BIRTHDAY MATCHING------\n",
            "DEBUG:root:------BIRTH PLACES------\n",
            "DEBUG:root:------NOUN CHUNCK MATCHING FOR BP------\n",
            "DEBUG:root:------CHILDREN NAMES------\n",
            "DEBUG:root:------EDUCATION INSTITUTIONS------\n",
            "DEBUG:root:------PARENTS NAMES------\n",
            "DEBUG:root:------SPOUSES NAMES------\n",
            "DEBUG:root:(\"Pauline M'ba\", 'SP', (5204, 5206))\n",
            "DEBUG:root:------NOUN CHUNCK MATCHING FOR SPOUSES------\n",
            "DEBUG:root:(\"Pauline M'ba\", 'SP', (5204, 5206))\n"
          ],
          "name": "stderr"
        },
        {
          "output_type": "stream",
          "text": [
            "info card is scraped successfully\n",
            "[['Born', 'PERSON'], ['Rose Francine Etomba']]\n",
            "[['Born', 'DATE'], ['1942-09-20', '20 September 1942']]\n"
          ],
          "name": "stdout"
        },
        {
          "output_type": "stream",
          "text": [
            "DEBUG:root:------BIRTHDAY MATCHING------\n",
            "DEBUG:root:------BIRTH PLACES------\n",
            "DEBUG:root:------NOUN CHUNCK MATCHING FOR BP------\n",
            "DEBUG:root:------CHILDREN NAMES------\n"
          ],
          "name": "stderr"
        },
        {
          "output_type": "stream",
          "text": [
            "[['Born', 'GPE'], ['French Equatorial Africa', 'Lambaréné']]\n"
          ],
          "name": "stdout"
        },
        {
          "output_type": "stream",
          "text": [
            "DEBUG:root:------EDUCATION INSTITUTIONS------\n",
            "DEBUG:root:------PARENTS NAMES------\n",
            "DEBUG:root:------SPOUSES NAMES------\n"
          ],
          "name": "stderr"
        },
        {
          "output_type": "stream",
          "text": [
            "info card is scraped successfully\n",
            "[['Born', 'PERSON'], []]\n",
            "[['Born', 'DATE'], ['1946-05-05', '5 May 1946']]\n"
          ],
          "name": "stdout"
        },
        {
          "output_type": "stream",
          "text": [
            "DEBUG:root:------BIRTHDAY MATCHING------\n",
            "DEBUG:root:------BIRTH PLACES------\n",
            "DEBUG:root:------NOUN CHUNCK MATCHING FOR BP------\n"
          ],
          "name": "stderr"
        },
        {
          "output_type": "stream",
          "text": [
            "[['Born', 'GPE'], ['French Equatorial Africa', 'Alombié']]\n"
          ],
          "name": "stdout"
        },
        {
          "output_type": "stream",
          "text": [
            "DEBUG:root:------CHILDREN NAMES------\n",
            "DEBUG:root:------EDUCATION INSTITUTIONS------\n",
            "DEBUG:root:------PARENTS NAMES------\n",
            "DEBUG:root:------SPOUSES NAMES------\n"
          ],
          "name": "stderr"
        },
        {
          "output_type": "stream",
          "text": [
            "info card is scraped successfully\n",
            "[['Born', 'PERSON'], ['Mankamang Kunda']]\n",
            "[['Born', 'DATE'], ['1965-02-16', 'February 1965']]\n",
            "[['Born', 'GPE'], ['British Gambia', 'Mankamang Kunda']]\n",
            "[['Children', 'PERSON'], []]\n",
            "[['Spouse(s)', 'PERSON'], ['Fatou Bah', 'Sarjo Mballow']]\n"
          ],
          "name": "stdout"
        },
        {
          "output_type": "stream",
          "text": [
            "DEBUG:root:------BIRTHDAY MATCHING------\n",
            "DEBUG:root:------BIRTH PLACES------\n",
            "DEBUG:root:------NOUN CHUNCK MATCHING FOR BP------\n",
            "DEBUG:root:------CHILDREN NAMES------\n",
            "DEBUG:root:------NOUN CHUNCK MATCHING CHILDREN------\n",
            "DEBUG:root:------EDUCATION INSTITUTIONS------\n",
            "DEBUG:root:------PARENTS NAMES------\n",
            "DEBUG:root:------SPOUSES NAMES------\n",
            "DEBUG:root:------NOUN CHUNCK MATCHING FOR SPOUSES------\n",
            "DEBUG:root:(\"The Gambia's first female presidential candidate Isatou Touray\", 'SP', (1332, 1341))\n",
            "DEBUG:root:('Fatoumatta Bah and Sarjo Mballow', 'SP', (2462, 2467))\n",
            "DEBUG:root:('Fatoumatta Bah and Sarjo Mballow', 'SP', (2462, 2467))\n"
          ],
          "name": "stderr"
        },
        {
          "output_type": "stream",
          "text": [
            "info card is scraped successfully\n",
            "[['Born', 'PERSON'], ['Elizabeth']]\n",
            "[['Born', 'DATE'], ['1926-04-21', '21 April 1926']]\n",
            "[['Born', 'GPE'], ['London', 'Mayfair']]\n"
          ],
          "name": "stdout"
        },
        {
          "output_type": "stream",
          "text": [
            "DEBUG:root:------BIRTHDAY MATCHING------\n",
            "DEBUG:root:------BIRTH PLACES------\n",
            "DEBUG:root:------NOUN CHUNCK MATCHING FOR BP------\n",
            "DEBUG:root:------CHILDREN NAMES------\n",
            "DEBUG:root:------EDUCATION INSTITUTIONS------\n",
            "DEBUG:root:------PARENTS NAMES------\n",
            "DEBUG:root:------SPOUSES NAMES------\n"
          ],
          "name": "stderr"
        },
        {
          "output_type": "stream",
          "text": [
            "info card is scraped successfully\n",
            "[['Born', 'PERSON'], []]\n",
            "[['Born', 'DATE'], ['1924-05-16']]\n",
            "[['Born', 'GPE'], ['MacCarthy Island Division', 'British Gambia']]\n",
            "[['Children', 'PERSON'], ['Bolumbo Jawara']]\n",
            "[['Spouse(s)', 'PERSON'], ['Augusta Jawara']]\n"
          ],
          "name": "stdout"
        },
        {
          "output_type": "stream",
          "text": [
            "DEBUG:root:------BIRTHDAY MATCHING------\n",
            "DEBUG:root:------BIRTH PLACES------\n",
            "DEBUG:root:------NOUN CHUNCK MATCHING FOR BP------\n",
            "DEBUG:root:------CHILDREN NAMES------\n",
            "DEBUG:root:------NOUN CHUNCK MATCHING CHILDREN------\n",
            "DEBUG:root:------EDUCATION INSTITUTIONS------\n",
            "DEBUG:root:------PARENTS NAMES------\n",
            "DEBUG:root:------SPOUSES NAMES------\n",
            "DEBUG:root:('Augusta Mahoney', 'SP', (122, 124))\n",
            "DEBUG:root:('Augusta Mahoney', 'SP', (985, 987))\n",
            "DEBUG:root:------NOUN CHUNCK MATCHING FOR SPOUSES------\n",
            "DEBUG:root:('Augusta Mahoney', 'SP', (122, 124))\n",
            "DEBUG:root:('Augusta Mahoney', 'SP', (985, 987))\n"
          ],
          "name": "stderr"
        },
        {
          "output_type": "stream",
          "text": [
            "info card is scraped successfully\n",
            "[['Born', 'PERSON'], ['Yahya Abdul-Aziz Jammeh']]\n",
            "[['Born', 'DATE'], ['1965-05-25']]\n",
            "[['Born', 'GPE'], ['Gambia']]\n",
            "[['Children', 'PERSON'], []]\n",
            "[['Spouse(s)', 'PERSON'], ['Tuti Faal', 'Zeinab Soumah', 'Alima Sallah']]\n"
          ],
          "name": "stdout"
        },
        {
          "output_type": "stream",
          "text": [
            "DEBUG:root:------BIRTHDAY MATCHING------\n",
            "DEBUG:root:------BIRTH PLACES------\n",
            "DEBUG:root:------NOUN CHUNCK MATCHING FOR BP------\n",
            "DEBUG:root:------CHILDREN NAMES------\n",
            "DEBUG:root:------NOUN CHUNCK MATCHING CHILDREN------\n",
            "DEBUG:root:------EDUCATION INSTITUTIONS------\n",
            "DEBUG:root:------PARENTS NAMES------\n",
            "DEBUG:root:------SPOUSES NAMES------\n",
            "DEBUG:root:('Zeinab', 'SP', (5471, 5472))\n",
            "DEBUG:root:('Alima Sallah', 'SP', (5549, 5551))\n",
            "DEBUG:root:('Zeinab Jammeh', 'SP', (5655, 5657))\n",
            "DEBUG:root:------NOUN CHUNCK MATCHING FOR SPOUSES------\n",
            "DEBUG:root:('Tuti Faal', 'SP', (5405, 5407))\n",
            "DEBUG:root:('Zeinab (Zineb', 'SP', (5471, 5474))\n",
            "DEBUG:root:('Alima Sallah', 'SP', (5549, 5551))\n",
            "DEBUG:root:('Lady Alima Yahya Jammeh', 'SP', (5583, 5587))\n",
            "DEBUG:root:('Zeinab Suma Jammeh', 'SP', (5602, 5605))\n",
            "DEBUG:root:('Zeinab Suma Jammeh', 'SP', (5633, 5636))\n",
            "DEBUG:root:('Zeinab Jammeh', 'SP', (5655, 5657))\n"
          ],
          "name": "stderr"
        },
        {
          "output_type": "stream",
          "text": [
            "info card is scraped successfully\n",
            "[['Born', 'PERSON'], []]\n",
            "[['Born', 'DATE'], ['1952-03-18', '18 March 1952']]\n",
            "[['Born', 'GPE'], ['France', 'Paris']]\n",
            "[['Children', 'PERSON'], []]\n",
            "[['Spouse(s)', 'PERSON'], ['Nicolas Gorjestani', 'Janri Kashia']]\n",
            "[['Education', 'ORG'], ['Columbia University']]\n"
          ],
          "name": "stdout"
        },
        {
          "output_type": "stream",
          "text": [
            "DEBUG:root:------BIRTHDAY MATCHING------\n",
            "DEBUG:root:------BIRTH PLACES------\n",
            "DEBUG:root:------NOUN CHUNCK MATCHING FOR BP------\n",
            "DEBUG:root:------CHILDREN NAMES------\n",
            "DEBUG:root:------NOUN CHUNCK MATCHING CHILDREN------\n",
            "DEBUG:root:------EDUCATION INSTITUTIONS------\n",
            "DEBUG:root:('Columbia University', 'ED', (458, 460))\n",
            "DEBUG:root:------NOUN CHUNCK MATCHING FOR EDUCATION------\n",
            "DEBUG:root:('Columbia University', 'ED', (458, 460))\n",
            "DEBUG:root:------PARENTS NAMES------\n",
            "DEBUG:root:------SPOUSES NAMES------\n",
            "DEBUG:root:('Janri Kashia', 'SP', (1618, 1620))\n",
            "DEBUG:root:('Nicolas Gorjestani', 'SP', (1642, 1644))\n",
            "DEBUG:root:------NOUN CHUNCK MATCHING FOR SPOUSES------\n",
            "DEBUG:root:('Janri Kashia', 'SP', (1618, 1620))\n",
            "DEBUG:root:('Iranian-American economist Nicolas Gorjestani', 'SP', (1638, 1644))\n"
          ],
          "name": "stderr"
        },
        {
          "output_type": "stream",
          "text": [
            "info card is scraped successfully\n",
            "[['Born', 'PERSON'], []]\n",
            "[['Born', 'DATE'], ['1964-07-16', '16 July 1964']]\n",
            "[['Born', 'GPE'], ['Soviet Union', 'Kutaisi']]\n"
          ],
          "name": "stdout"
        },
        {
          "output_type": "stream",
          "text": [
            "DEBUG:root:------BIRTHDAY MATCHING------\n",
            "DEBUG:root:------BIRTH PLACES------\n",
            "DEBUG:root:------NOUN CHUNCK MATCHING FOR BP------\n"
          ],
          "name": "stderr"
        },
        {
          "output_type": "stream",
          "text": [
            "[['Spouse(s)', 'PERSON'], ['Badri Bitsadze']]\n"
          ],
          "name": "stdout"
        },
        {
          "output_type": "stream",
          "text": [
            "DEBUG:root:------CHILDREN NAMES------\n",
            "DEBUG:root:------EDUCATION INSTITUTIONS------\n",
            "DEBUG:root:------PARENTS NAMES------\n",
            "DEBUG:root:------SPOUSES NAMES------\n",
            "DEBUG:root:------NOUN CHUNCK MATCHING FOR SPOUSES------\n",
            "DEBUG:root:('Badri Bitsadze', 'SP', (1107, 1109))\n"
          ],
          "name": "stderr"
        },
        {
          "output_type": "stream",
          "text": [
            "info card is scraped successfully\n",
            "[['Born', 'PERSON'], []]\n",
            "[['Born', 'DATE'], ['1967-12-21', '21 December 1967']]\n",
            "[['Born', 'GPE'], ['Georgian SSR', 'USSR', 'Tbilisi']]\n",
            "[['Spouse(s)', 'PERSON'], ['Sandra Roelofs']]\n"
          ],
          "name": "stdout"
        },
        {
          "output_type": "stream",
          "text": [
            "DEBUG:root:------BIRTHDAY MATCHING------\n",
            "DEBUG:root:------BIRTH PLACES------\n",
            "DEBUG:root:------NOUN CHUNCK MATCHING FOR BP------\n",
            "DEBUG:root:------CHILDREN NAMES------\n",
            "DEBUG:root:------EDUCATION INSTITUTIONS------\n",
            "DEBUG:root:------PARENTS NAMES------\n",
            "DEBUG:root:------SPOUSES NAMES------\n",
            "DEBUG:root:('Sandra Roelofs', 'SP', (7811, 7813))\n",
            "DEBUG:root:------NOUN CHUNCK MATCHING FOR SPOUSES------\n",
            "DEBUG:root:('bank employee Sandro Girgvliani', 'SP', (5529, 5533))\n",
            "DEBUG:root:('the 2006 Sandro Girgvliani murder case', 'SP', (6046, 6052))\n",
            "DEBUG:root:('Dutch linguist Sandra Roelofs', 'SP', (7809, 7813))\n"
          ],
          "name": "stderr"
        },
        {
          "output_type": "stream",
          "text": [
            "info card is scraped successfully\n",
            "[['Born', 'PERSON'], []]\n",
            "[['Born', 'DATE'], ['1969-09-04', '4 September 1969']]\n",
            "[['Born', 'GPE'], ['Georgian SSR', 'Soviet Union', 'Tbilisi']]\n",
            "[['Children', 'PERSON'], []]\n",
            "[['Spouse(s)', 'PERSON'], ['Maka Chichua']]\n"
          ],
          "name": "stdout"
        },
        {
          "output_type": "stream",
          "text": [
            "DEBUG:root:------BIRTHDAY MATCHING------\n",
            "DEBUG:root:------BIRTH PLACES------\n",
            "DEBUG:root:------NOUN CHUNCK MATCHING FOR BP------\n",
            "DEBUG:root:------CHILDREN NAMES------\n",
            "DEBUG:root:------NOUN CHUNCK MATCHING CHILDREN------\n",
            "DEBUG:root:------EDUCATION INSTITUTIONS------\n",
            "DEBUG:root:------PARENTS NAMES------\n",
            "DEBUG:root:------SPOUSES NAMES------\n",
            "DEBUG:root:------NOUN CHUNCK MATCHING FOR SPOUSES------\n",
            "DEBUG:root:('Kakha Bendukidze', 'SP', (789, 791))\n",
            "DEBUG:root:('Maka Chichua', 'SP', (2197, 2199))\n",
            "DEBUG:root:('Maka Chichua', 'SP', (2240, 2242))\n"
          ],
          "name": "stderr"
        },
        {
          "output_type": "stream",
          "text": [
            "info card is scraped successfully\n",
            "[['Born', 'PERSON'], []]\n",
            "[['Born', 'DATE'], ['1956-01-05', '5 January 1956']]\n",
            "[['Born', 'GPE'], ['West Germany', 'Detmold']]\n",
            "[['Children', 'PERSON'], ['Merit Steinmeier']]\n",
            "[['Spouse(s)', 'PERSON'], ['Elke Büdenbender']]\n"
          ],
          "name": "stdout"
        },
        {
          "output_type": "stream",
          "text": [
            "DEBUG:root:------BIRTHDAY MATCHING------\n",
            "DEBUG:root:------BIRTH PLACES------\n",
            "DEBUG:root:------NOUN CHUNCK MATCHING FOR BP------\n",
            "DEBUG:root:------CHILDREN NAMES------\n",
            "DEBUG:root:------NOUN CHUNCK MATCHING CHILDREN------\n",
            "DEBUG:root:------EDUCATION INSTITUTIONS------\n",
            "DEBUG:root:------PARENTS NAMES------\n",
            "DEBUG:root:------SPOUSES NAMES------\n",
            "DEBUG:root:------NOUN CHUNCK MATCHING FOR SPOUSES------\n",
            "DEBUG:root:('Elke Büdenbender', 'SP', (671, 673))\n"
          ],
          "name": "stderr"
        },
        {
          "output_type": "stream",
          "text": [
            "info card is scraped successfully\n",
            "[['Born', 'PERSON'], []]\n",
            "[['Born', 'DATE'], ['1919-07-08', '8 July 1919']]\n",
            "[['Born', 'GPE'], ['Rhine Province', 'Prussia', 'Germany', 'Höhscheid']]\n",
            "[['Children', 'PERSON'], ['Ulrich ', 'Cornelia ', 'Simon Martin', 'Andrea-Gwendoline']]\n"
          ],
          "name": "stdout"
        },
        {
          "output_type": "stream",
          "text": [
            "DEBUG:root:------BIRTHDAY MATCHING------\n",
            "DEBUG:root:------BIRTH PLACES------\n",
            "DEBUG:root:------NOUN CHUNCK MATCHING FOR BP------\n",
            "DEBUG:root:------CHILDREN NAMES------\n",
            "DEBUG:root:------NOUN CHUNCK MATCHING CHILDREN------\n"
          ],
          "name": "stderr"
        },
        {
          "output_type": "stream",
          "text": [
            "[['Spouse(s)', 'PERSON'], ['Eva Charlotte Kronenberg', 'Mildred Wirtz', 'Barbara Wiese']]\n"
          ],
          "name": "stdout"
        },
        {
          "output_type": "stream",
          "text": [
            "DEBUG:root:------EDUCATION INSTITUTIONS------\n",
            "DEBUG:root:------PARENTS NAMES------\n",
            "DEBUG:root:------SPOUSES NAMES------\n",
            "DEBUG:root:------NOUN CHUNCK MATCHING FOR SPOUSES------\n"
          ],
          "name": "stderr"
        },
        {
          "output_type": "stream",
          "text": [
            "info card is scraped successfully\n",
            "[['Born', 'PERSON'], []]\n",
            "[['Born', 'DATE'], ['1943-02-22', '22 February 1943']]\n",
            "[['Born', 'GPE'], ['General Government', 'Heidenstein']]\n",
            "[['Children', 'PERSON'], ['Ulrike', 'Jochen']]\n",
            "[['Spouse(s)', 'PERSON'], ['Eva Bohnet']]\n",
            "[['Parents', 'PERSON'], ['Eduard Köhler', 'Elisabeth Bernhard']]\n"
          ],
          "name": "stdout"
        },
        {
          "output_type": "stream",
          "text": [
            "DEBUG:root:------BIRTHDAY MATCHING------\n",
            "DEBUG:root:------BIRTH PLACES------\n",
            "DEBUG:root:------NOUN CHUNCK MATCHING FOR BP------\n",
            "DEBUG:root:------CHILDREN NAMES------\n",
            "DEBUG:root:('Ulrike', 'CH', (3358, 3359))\n",
            "DEBUG:root:('Jochen', 'CH', (3367, 3368))\n",
            "DEBUG:root:------NOUN CHUNCK MATCHING CHILDREN------\n",
            "DEBUG:root:('Ulrike', 'CH', (3358, 3359))\n",
            "DEBUG:root:('Jochen', 'CH', (3367, 3368))\n",
            "DEBUG:root:------EDUCATION INSTITUTIONS------\n",
            "DEBUG:root:------PARENTS NAMES------\n",
            "DEBUG:root:------PERSON ENTITY MATCHING FOR PARENTS------\n",
            "DEBUG:root:('Eduard Köhler', 'PR', (293, 295))\n",
            "DEBUG:root:------NOUN CHUNCK MATCHING FOR PARENTS------\n",
            "DEBUG:root:------SPOUSES NAMES------\n",
            "DEBUG:root:------NOUN CHUNCK MATCHING FOR SPOUSES------\n",
            "DEBUG:root:('Eva Köhler', 'SP', (3345, 3347))\n"
          ],
          "name": "stderr"
        },
        {
          "output_type": "stream",
          "text": [
            "info card is scraped successfully\n",
            "[['Born', 'PERSON'], []]\n",
            "[['Born', 'DATE'], ['1959-06-19']]\n",
            "[['Born', 'GPE'], ['Lower Saxony', 'West Germany']]\n",
            "[['Children', 'PERSON'], ['Annalena', 'Linus']]\n",
            "[['Spouse(s)', 'PERSON'], ['Christiane Vogt', 'Bettina Körner']]\n"
          ],
          "name": "stdout"
        },
        {
          "output_type": "stream",
          "text": [
            "DEBUG:root:------BIRTHDAY MATCHING------\n",
            "DEBUG:root:------BIRTH PLACES------\n",
            "DEBUG:root:------NOUN CHUNCK MATCHING FOR BP------\n",
            "DEBUG:root:------CHILDREN NAMES------\n",
            "DEBUG:root:------NOUN CHUNCK MATCHING CHILDREN------\n",
            "DEBUG:root:('Annalena', 'CH', (2146, 2147))\n",
            "DEBUG:root:------EDUCATION INSTITUTIONS------\n",
            "DEBUG:root:------PARENTS NAMES------\n",
            "DEBUG:root:------SPOUSES NAMES------\n",
            "DEBUG:root:('Christiane Vogt', 'SP', (2117, 2119))\n",
            "DEBUG:root:('Bettina Körner', 'SP', (2168, 2170))\n",
            "DEBUG:root:------NOUN CHUNCK MATCHING FOR SPOUSES------\n",
            "DEBUG:root:('lawyer Christiane Vogt', 'SP', (2116, 2119))\n",
            "DEBUG:root:('Bettina Körner', 'SP', (2168, 2170))\n"
          ],
          "name": "stderr"
        },
        {
          "output_type": "stream",
          "text": [
            "info card is scraped successfully\n",
            "[['Born', 'PERSON'], []]\n",
            "[['Born', 'DATE'], ['1914-12-14', '14 December 1914']]\n",
            "[['Born', 'GPE'], ['German Empire', 'Bremen']]\n"
          ],
          "name": "stdout"
        },
        {
          "output_type": "stream",
          "text": [
            "DEBUG:root:------BIRTHDAY MATCHING------\n",
            "DEBUG:root:------BIRTH PLACES------\n",
            "DEBUG:root:------NOUN CHUNCK MATCHING FOR BP------\n",
            "DEBUG:root:------CHILDREN NAMES------\n",
            "DEBUG:root:------EDUCATION INSTITUTIONS------\n",
            "DEBUG:root:------PARENTS NAMES------\n",
            "DEBUG:root:------SPOUSES NAMES------\n",
            "DEBUG:root:('Veronica Prior', 'SP', (222, 224))\n",
            "DEBUG:root:------NOUN CHUNCK MATCHING FOR SPOUSES------\n",
            "DEBUG:root:('Veronica Prior', 'SP', (222, 224))\n"
          ],
          "name": "stderr"
        },
        {
          "output_type": "stream",
          "text": [
            "[['Spouse(s)', 'PERSON'], ['Veronica Prior']]\n",
            "info card is scraped successfully\n",
            "[['Born', 'PERSON'], ['Karl Heinrich Lübke']]\n",
            "[['Born', 'DATE'], ['1894-10-14']]\n",
            "[['Born', 'GPE'], ['Province of Westphalia', 'Kingdom of Prussia', 'German Empire']]\n"
          ],
          "name": "stdout"
        },
        {
          "output_type": "stream",
          "text": [
            "DEBUG:root:------BIRTHDAY MATCHING------\n",
            "DEBUG:root:------BIRTH PLACES------\n",
            "DEBUG:root:------NOUN CHUNCK MATCHING FOR BP------\n"
          ],
          "name": "stderr"
        },
        {
          "output_type": "stream",
          "text": [
            "[['Spouse(s)', 'PERSON'], ['Wilhelmine Keuthen']]\n"
          ],
          "name": "stdout"
        },
        {
          "output_type": "stream",
          "text": [
            "DEBUG:root:------CHILDREN NAMES------\n",
            "DEBUG:root:------EDUCATION INSTITUTIONS------\n",
            "DEBUG:root:------PARENTS NAMES------\n",
            "DEBUG:root:------SPOUSES NAMES------\n",
            "DEBUG:root:------NOUN CHUNCK MATCHING FOR SPOUSES------\n"
          ],
          "name": "stderr"
        },
        {
          "output_type": "stream",
          "text": [
            "info card is scraped successfully\n",
            "[['Born', 'PERSON'], []]\n",
            "[['Born', 'DATE'], ['1931-01-16', '16 January 1931']]\n",
            "[['Born', 'GPE'], ['Rhine Province', 'Free State of Prussia', 'German Reich', 'Wuppertal']]\n",
            "[['Children', 'PERSON'], ['Philip Immanuel Rau', 'Anna Christina Rau', 'Laura Helene Rau']]\n"
          ],
          "name": "stdout"
        },
        {
          "output_type": "stream",
          "text": [
            "DEBUG:root:------BIRTHDAY MATCHING------\n",
            "DEBUG:root:------BIRTH PLACES------\n",
            "DEBUG:root:------NOUN CHUNCK MATCHING FOR BP------\n"
          ],
          "name": "stderr"
        },
        {
          "output_type": "stream",
          "text": [
            "[['Spouse(s)', 'PERSON'], ['Christina Rau']]\n"
          ],
          "name": "stdout"
        },
        {
          "output_type": "stream",
          "text": [
            "DEBUG:root:------CHILDREN NAMES------\n",
            "DEBUG:root:('Anna Christina', 'CH', (977, 979))\n",
            "DEBUG:root:('Laura Helene', 'CH', (989, 991))\n",
            "DEBUG:root:------NOUN CHUNCK MATCHING CHILDREN------\n",
            "DEBUG:root:('Anna Christina', 'CH', (977, 979))\n",
            "DEBUG:root:('Philip Immanuel', 'CH', (983, 985))\n",
            "DEBUG:root:------EDUCATION INSTITUTIONS------\n",
            "DEBUG:root:------PARENTS NAMES------\n",
            "DEBUG:root:------SPOUSES NAMES------\n",
            "DEBUG:root:('Christina Delius', 'SP', (945, 947))\n",
            "DEBUG:root:('Christina Rau', 'SP', (952, 954))\n",
            "DEBUG:root:('Anna Christina', 'SP', (977, 979))\n",
            "DEBUG:root:------NOUN CHUNCK MATCHING FOR SPOUSES------\n",
            "DEBUG:root:('Christian Democrats', 'SP', (497, 499))\n",
            "DEBUG:root:('a practising Christian', 'SP', (870, 873))\n",
            "DEBUG:root:('his intense Christian position', 'SP', (887, 891))\n",
            "DEBUG:root:('Christina Delius', 'SP', (945, 947))\n",
            "DEBUG:root:('Christina Rau', 'SP', (952, 954))\n",
            "DEBUG:root:('Anna Christina', 'SP', (977, 979))\n"
          ],
          "name": "stderr"
        },
        {
          "output_type": "stream",
          "text": [
            "info card is scraped successfully\n",
            "[['Born', 'PERSON'], []]\n",
            "[['Born', 'DATE'], ['1884-01-31', '31 January 1884']]\n",
            "[['Born', 'GPE'], ['Kingdom of Württemberg', 'German Empire', 'Brackenheim']]\n",
            "[['Children', 'PERSON'], []]\n",
            "[['Spouse(s)', 'PERSON'], ['Elly Knapp']]\n"
          ],
          "name": "stdout"
        },
        {
          "output_type": "stream",
          "text": [
            "DEBUG:root:------BIRTHDAY MATCHING------\n",
            "DEBUG:root:------BIRTH PLACES------\n",
            "DEBUG:root:------NOUN CHUNCK MATCHING FOR BP------\n",
            "DEBUG:root:------CHILDREN NAMES------\n",
            "DEBUG:root:------NOUN CHUNCK MATCHING CHILDREN------\n",
            "DEBUG:root:------EDUCATION INSTITUTIONS------\n",
            "DEBUG:root:------PARENTS NAMES------\n",
            "DEBUG:root:------SPOUSES NAMES------\n",
            "DEBUG:root:------NOUN CHUNCK MATCHING FOR SPOUSES------\n",
            "DEBUG:root:('Elly Heuss-Knapp', 'SP', (204, 208))\n"
          ],
          "name": "stderr"
        },
        {
          "output_type": "stream",
          "text": [
            "info card is scraped successfully\n",
            "[['Born', 'PERSON'], []]\n",
            "[['Born', 'DATE'], ['1901-03-21', '21 March 1901']]\n",
            "[['Born', 'GPE'], ['German Empire', 'Herrlishöfen, ']]\n"
          ],
          "name": "stdout"
        },
        {
          "output_type": "stream",
          "text": [
            "DEBUG:root:------BIRTHDAY MATCHING------\n",
            "DEBUG:root:------BIRTH PLACES------\n",
            "DEBUG:root:------NOUN CHUNCK MATCHING FOR BP------\n",
            "DEBUG:root:------CHILDREN NAMES------\n",
            "DEBUG:root:------EDUCATION INSTITUTIONS------\n",
            "DEBUG:root:------PARENTS NAMES------\n",
            "DEBUG:root:------SPOUSES NAMES------\n",
            "DEBUG:root:('Liesel Joeres', 'SP', (547, 549))\n",
            "DEBUG:root:------NOUN CHUNCK MATCHING FOR SPOUSES------\n",
            "DEBUG:root:('Liesel Joeres', 'SP', (547, 549))\n"
          ],
          "name": "stderr"
        },
        {
          "output_type": "stream",
          "text": [
            "[['Spouse(s)', 'PERSON'], ['Liesel Joeres']]\n",
            "info card is scraped successfully\n",
            "[['Born', 'PERSON'], ['Richard Karl Freiherr von Weizsäcker']]\n",
            "[['Born', 'DATE'], ['1920-04-15', '15 April 1920']]\n",
            "[['Born', 'GPE'], [\"Free People's State of Württemberg\", 'Weimar Republic', 'Stuttgart']]\n",
            "[['Children', 'PERSON'], []]\n",
            "[['Spouse(s)', 'PERSON'], ['Marianne von Kretschmann']]\n"
          ],
          "name": "stdout"
        },
        {
          "output_type": "stream",
          "text": [
            "DEBUG:root:------BIRTHDAY MATCHING------\n",
            "DEBUG:root:------BIRTH PLACES------\n",
            "DEBUG:root:------NOUN CHUNCK MATCHING FOR BP------\n",
            "DEBUG:root:------CHILDREN NAMES------\n",
            "DEBUG:root:------NOUN CHUNCK MATCHING CHILDREN------\n",
            "DEBUG:root:------EDUCATION INSTITUTIONS------\n",
            "DEBUG:root:------PARENTS NAMES------\n",
            "DEBUG:root:------SPOUSES NAMES------\n",
            "DEBUG:root:('Marianne', 'SP', (385, 386))\n",
            "DEBUG:root:('Marianne von Kretschmann', 'SP', (1065, 1068))\n",
            "DEBUG:root:('Marianne', 'SP', (4878, 4879))\n",
            "DEBUG:root:------NOUN CHUNCK MATCHING FOR SPOUSES------\n",
            "DEBUG:root:('Marianne', 'SP', (385, 386))\n",
            "DEBUG:root:('Marianne von Kretschmann', 'SP', (1065, 1068))\n",
            "DEBUG:root:('Marianne', 'SP', (4878, 4879))\n"
          ],
          "name": "stderr"
        },
        {
          "output_type": "stream",
          "text": [
            "info card is scraped successfully\n",
            "[['Born', 'PERSON'], []]\n",
            "[['Born', 'DATE'], ['1899-07-23', '23 July 1899']]\n",
            "[['Born', 'GPE'], ['Westphalia', 'Prussia', 'Germany', 'Schwelm']]\n",
            "[['Children', 'PERSON'], []]\n",
            "[['Spouse(s)', 'PERSON'], ['Hilda Ordemann']]\n"
          ],
          "name": "stdout"
        },
        {
          "output_type": "stream",
          "text": [
            "DEBUG:root:------BIRTHDAY MATCHING------\n",
            "DEBUG:root:------BIRTH PLACES------\n",
            "DEBUG:root:------NOUN CHUNCK MATCHING FOR BP------\n",
            "DEBUG:root:------CHILDREN NAMES------\n",
            "DEBUG:root:------NOUN CHUNCK MATCHING CHILDREN------\n",
            "DEBUG:root:------EDUCATION INSTITUTIONS------\n",
            "DEBUG:root:------PARENTS NAMES------\n",
            "DEBUG:root:------SPOUSES NAMES------\n",
            "DEBUG:root:------NOUN CHUNCK MATCHING FOR SPOUSES------\n",
            "DEBUG:root:('Hilda Ordemann', 'SP', (505, 507))\n",
            "DEBUG:root:('Hilda Heinemann', 'SP', (587, 589))\n"
          ],
          "name": "stderr"
        },
        {
          "output_type": "stream",
          "text": [
            "failed to annotate the page!\n",
            "https://en.wikipedia.org/wiki/Rudolf_Amelunxen\n",
            "info card is scraped successfully\n",
            "[['Born', 'PERSON'], []]\n",
            "[['Born', 'DATE'], ['1940-01-24', '24 January 1940']]\n",
            "[['Born', 'GPE'], ['Mecklenburg', 'Nazi Germany', 'Rostock']]\n",
            "[['Children', 'PERSON'], []]\n",
            "[['Spouse(s)', 'PERSON'], ['Gerhild Radtke  ']]\n"
          ],
          "name": "stdout"
        },
        {
          "output_type": "stream",
          "text": [
            "DEBUG:root:------BIRTHDAY MATCHING------\n",
            "DEBUG:root:------BIRTH PLACES------\n",
            "DEBUG:root:------NOUN CHUNCK MATCHING FOR BP------\n",
            "DEBUG:root:------CHILDREN NAMES------\n",
            "DEBUG:root:------NOUN CHUNCK MATCHING CHILDREN------\n",
            "DEBUG:root:------EDUCATION INSTITUTIONS------\n",
            "DEBUG:root:------PARENTS NAMES------\n",
            "DEBUG:root:------SPOUSES NAMES------\n",
            "DEBUG:root:------NOUN CHUNCK MATCHING FOR SPOUSES------\n"
          ],
          "name": "stderr"
        },
        {
          "output_type": "stream",
          "text": [
            "info card is scraped successfully\n",
            "[['Born', 'PERSON'], []]\n",
            "[['Born', 'DATE'], ['1934-04-05']]\n",
            "[['Born', 'GPE'], []]\n",
            "[['Children', 'PERSON'], []]\n",
            "[['Spouse(s)', 'PERSON'], ['Christiane Krauß', 'Alexandra Freifrau']]\n"
          ],
          "name": "stdout"
        },
        {
          "output_type": "stream",
          "text": [
            "DEBUG:root:------BIRTHDAY MATCHING------\n",
            "DEBUG:root:------BIRTH PLACES------\n",
            "DEBUG:root:------NOUN CHUNCK MATCHING FOR BP------\n",
            "DEBUG:root:------CHILDREN NAMES------\n",
            "DEBUG:root:------NOUN CHUNCK MATCHING CHILDREN------\n",
            "DEBUG:root:------EDUCATION INSTITUTIONS------\n",
            "DEBUG:root:------PARENTS NAMES------\n",
            "DEBUG:root:------SPOUSES NAMES------\n",
            "DEBUG:root:('Christiane Herzog', 'SP', (1343, 1345))\n",
            "DEBUG:root:------NOUN CHUNCK MATCHING FOR SPOUSES------\n",
            "DEBUG:root:('Christiane Herzog', 'SP', (1343, 1345))\n",
            "DEBUG:root:('Alexandra Freifrau von Berlichingen', 'SP', (1357, 1361))\n"
          ],
          "name": "stderr"
        },
        {
          "output_type": "stream",
          "text": [
            "info card is scraped successfully\n",
            "[['Born', 'PERSON'], ['William Addo']]\n",
            "[['Born', 'DATE'], ['1944-03-29', '29 March 1944']]\n",
            "[['Born', 'GPE'], ['Gold Coast', 'Accra']]\n",
            "[['Children', 'PERSON'], []]\n",
            "[['Spouse(s)', 'PERSON'], ['Rebecca Griffiths-Randolph']]\n",
            "[['Education', 'ORG'], ['Lancing College', 'New College', 'University of Ghana', 'Court School of Law']]\n"
          ],
          "name": "stdout"
        },
        {
          "output_type": "stream",
          "text": [
            "DEBUG:root:------BIRTHDAY MATCHING------\n",
            "DEBUG:root:------BIRTH PLACES------\n",
            "DEBUG:root:------NOUN CHUNCK MATCHING FOR BP------\n",
            "DEBUG:root:------CHILDREN NAMES------\n",
            "DEBUG:root:------NOUN CHUNCK MATCHING CHILDREN------\n",
            "DEBUG:root:------EDUCATION INSTITUTIONS------\n",
            "DEBUG:root:('Lancing College', 'ED', (393, 395))\n",
            "DEBUG:root:('New College', 'ED', (417, 419))\n",
            "DEBUG:root:('the University of Ghana', 'ED', (449, 453))\n",
            "DEBUG:root:('The University of Ghana Sports Stadium', 'ED', (1530, 1536))\n",
            "DEBUG:root:------NOUN CHUNCK MATCHING FOR EDUCATION------\n",
            "DEBUG:root:('Lancing College', 'ED', (393, 395))\n",
            "DEBUG:root:('New College', 'ED', (417, 419))\n",
            "DEBUG:root:------PARENTS NAMES------\n",
            "DEBUG:root:------SPOUSES NAMES------\n",
            "DEBUG:root:('Rebecca Akufo-Addo', 'SP', (1635, 1639))\n",
            "DEBUG:root:------NOUN CHUNCK MATCHING FOR SPOUSES------\n",
            "DEBUG:root:('Rebecca Akufo', 'SP', (1635, 1637))\n"
          ],
          "name": "stderr"
        },
        {
          "output_type": "stream",
          "text": [
            "info card is scraped successfully\n",
            "[['Born', 'PERSON'], []]\n",
            "[['Born', 'DATE'], ['1938-12-08', '8 December 1938']]\n",
            "[['Born', 'GPE'], ['Colony of the Gold Coast', 'Kumasi']]\n",
            "[['Children', 'PERSON'], ['Five']]\n",
            "[['Spouse(s)', 'PERSON'], ['Theresa Kufuor']]\n"
          ],
          "name": "stdout"
        },
        {
          "output_type": "stream",
          "text": [
            "DEBUG:root:------BIRTHDAY MATCHING------\n",
            "DEBUG:root:------BIRTH PLACES------\n",
            "DEBUG:root:------NOUN CHUNCK MATCHING FOR BP------\n",
            "DEBUG:root:------CHILDREN NAMES------\n",
            "DEBUG:root:------NOUN CHUNCK MATCHING CHILDREN------\n",
            "DEBUG:root:('five children', 'CH', (198, 200))\n",
            "DEBUG:root:('the Five Priority Areas Programme', 'CH', (979, 984))\n",
            "DEBUG:root:('the Five Priority Areas Programme', 'CH', (1797, 1802))\n",
            "DEBUG:root:('five children', 'CH', (1882, 1884))\n",
            "DEBUG:root:------EDUCATION INSTITUTIONS------\n",
            "DEBUG:root:------PARENTS NAMES------\n",
            "DEBUG:root:------SPOUSES NAMES------\n",
            "DEBUG:root:('Theresa Kufuor', 'SP', (187, 189))\n",
            "DEBUG:root:('Theresa Kufuor', 'SP', (1888, 1890))\n",
            "DEBUG:root:------NOUN CHUNCK MATCHING FOR SPOUSES------\n",
            "DEBUG:root:('Theresa Kufuor', 'SP', (187, 189))\n",
            "DEBUG:root:('Theresa Kufuor', 'SP', (1888, 1890))\n"
          ],
          "name": "stderr"
        },
        {
          "output_type": "stream",
          "text": [
            "info card is scraped successfully\n",
            "[['Born', 'PERSON'], []]\n",
            "[['Born', 'DATE'], ['1958-11-29', '29 November 1958']]\n",
            "[['Born', 'GPE'], ['Ghana', 'Damongo']]\n",
            "[['Children', 'PERSON'], []]\n",
            "[['Spouse(s)', 'PERSON'], ['Lordina Effah']]\n",
            "[['Education', 'ORG'], ['University of Ghana', 'Moscow Institute of Social Sciences']]\n"
          ],
          "name": "stdout"
        },
        {
          "output_type": "stream",
          "text": [
            "DEBUG:root:------BIRTHDAY MATCHING------\n",
            "DEBUG:root:------BIRTH PLACES------\n",
            "DEBUG:root:------NOUN CHUNCK MATCHING FOR BP------\n",
            "DEBUG:root:------CHILDREN NAMES------\n",
            "DEBUG:root:------NOUN CHUNCK MATCHING CHILDREN------\n",
            "DEBUG:root:------EDUCATION INSTITUTIONS------\n",
            "DEBUG:root:('the University of Ghana', 'ED', (365, 369))\n",
            "DEBUG:root:------NOUN CHUNCK MATCHING FOR EDUCATION------\n",
            "DEBUG:root:------PARENTS NAMES------\n",
            "DEBUG:root:------SPOUSES NAMES------\n",
            "DEBUG:root:('Lordina Mahama', 'SP', (1809, 1811))\n",
            "DEBUG:root:------NOUN CHUNCK MATCHING FOR SPOUSES------\n",
            "DEBUG:root:('Lordina Mahama', 'SP', (1809, 1811))\n"
          ],
          "name": "stderr"
        },
        {
          "output_type": "stream",
          "text": [
            "info card is scraped successfully\n",
            "[['Born', 'PERSON'], []]\n",
            "[['Born', 'DATE'], ['1947-06-22']]\n",
            "[['Born', 'GPE'], ['Gold Coast']]\n",
            "[['Children', 'PERSON'], []]\n",
            "[['Spouse(s)', 'PERSON'], ['Nana Konadu Agyeman Rawlings']]\n"
          ],
          "name": "stdout"
        },
        {
          "output_type": "stream",
          "text": [
            "DEBUG:root:------BIRTHDAY MATCHING------\n",
            "DEBUG:root:------BIRTH PLACES------\n",
            "DEBUG:root:------NOUN CHUNCK MATCHING FOR BP------\n",
            "DEBUG:root:------CHILDREN NAMES------\n",
            "DEBUG:root:------NOUN CHUNCK MATCHING CHILDREN------\n",
            "DEBUG:root:------EDUCATION INSTITUTIONS------\n",
            "DEBUG:root:------PARENTS NAMES------\n",
            "DEBUG:root:------SPOUSES NAMES------\n",
            "DEBUG:root:------NOUN CHUNCK MATCHING FOR SPOUSES------\n",
            "DEBUG:root:('Nana Konadu Agyeman', 'SP', (316, 319))\n"
          ],
          "name": "stderr"
        },
        {
          "output_type": "stream",
          "text": [
            "info card is scraped successfully\n",
            "[['Born', 'PERSON'], ['John Evans']]\n",
            "[['Born', 'DATE'], ['1944-07-21', '21 July 1944']]\n",
            "[['Born', 'GPE'], []]\n",
            "[['Children', 'PERSON'], ['Sam Kofi Atta Mills']]\n",
            "[['Spouse(s)', 'PERSON'], ['Ernestina Naadu Mills']]\n"
          ],
          "name": "stdout"
        },
        {
          "output_type": "stream",
          "text": [
            "DEBUG:root:------BIRTHDAY MATCHING------\n",
            "DEBUG:root:------BIRTH PLACES------\n",
            "DEBUG:root:------NOUN CHUNCK MATCHING FOR BP------\n",
            "DEBUG:root:------CHILDREN NAMES------\n",
            "DEBUG:root:------NOUN CHUNCK MATCHING CHILDREN------\n",
            "DEBUG:root:('Sam Kofi Atta Mills', 'CH', (2847, 2851))\n",
            "DEBUG:root:('the same day', 'CH', (3325, 3328))\n",
            "DEBUG:root:('the same time', 'CH', (3341, 3344))\n",
            "DEBUG:root:('the same vision', 'CH', (4506, 4509))\n",
            "DEBUG:root:------EDUCATION INSTITUTIONS------\n",
            "DEBUG:root:------PARENTS NAMES------\n",
            "DEBUG:root:------SPOUSES NAMES------\n",
            "DEBUG:root:------NOUN CHUNCK MATCHING FOR SPOUSES------\n",
            "DEBUG:root:('Ernestina Naadu Mills', 'SP', (2831, 2834))\n"
          ],
          "name": "stderr"
        },
        {
          "output_type": "stream",
          "text": [
            "info card is scraped successfully\n",
            "[['Born', 'PERSON'], []]\n",
            "[['Born', 'DATE'], ['1950-07-10', '10 July 1950']]\n",
            "[['Born', 'GPE'], ['Kingdom of Greece', 'Kalamata']]\n",
            "[['Children', 'PERSON'], []]\n"
          ],
          "name": "stdout"
        },
        {
          "output_type": "stream",
          "text": [
            "DEBUG:root:------BIRTHDAY MATCHING------\n",
            "DEBUG:root:------BIRTH PLACES------\n",
            "DEBUG:root:------NOUN CHUNCK MATCHING FOR BP------\n",
            "DEBUG:root:------CHILDREN NAMES------\n",
            "DEBUG:root:------NOUN CHUNCK MATCHING CHILDREN------\n",
            "DEBUG:root:------EDUCATION INSTITUTIONS------\n",
            "DEBUG:root:------PARENTS NAMES------\n",
            "DEBUG:root:------SPOUSES NAMES------\n",
            "DEBUG:root:------NOUN CHUNCK MATCHING FOR SPOUSES------\n",
            "DEBUG:root:('Vlassia Pavlopoulou-Peltsemi', 'SP', (631, 635))\n"
          ],
          "name": "stderr"
        },
        {
          "output_type": "stream",
          "text": [
            "[['Spouse(s)', 'PERSON'], ['Vlassia Peltsemi']]\n",
            "info card is scraped successfully\n",
            "[['Born', 'PERSON'], []]\n",
            "[['Born', 'DATE'], ['1912']]\n",
            "[['Born', 'GPE'], ['Greece', 'Messini']]\n"
          ],
          "name": "stdout"
        },
        {
          "output_type": "stream",
          "text": [
            "DEBUG:root:------BIRTHDAY MATCHING------\n",
            "DEBUG:root:------BIRTH PLACES------\n",
            "DEBUG:root:------NOUN CHUNCK MATCHING FOR BP------\n",
            "DEBUG:root:------CHILDREN NAMES------\n"
          ],
          "name": "stderr"
        },
        {
          "output_type": "stream",
          "text": [
            "[['Spouse(s)', 'PERSON'], ['Christina Alevra']]\n"
          ],
          "name": "stdout"
        },
        {
          "output_type": "stream",
          "text": [
            "DEBUG:root:------EDUCATION INSTITUTIONS------\n",
            "DEBUG:root:------PARENTS NAMES------\n",
            "DEBUG:root:------SPOUSES NAMES------\n",
            "DEBUG:root:------NOUN CHUNCK MATCHING FOR SPOUSES------\n"
          ],
          "name": "stderr"
        },
        {
          "output_type": "stream",
          "text": [
            "info card is scraped successfully\n",
            "[['Born', 'PERSON'], []]\n",
            "[['Born', 'DATE'], ['1907-03-08', '8 March 1907']]\n",
            "[['Born', 'GPE'], ['Ottoman Empire', 'Proti']]\n",
            "[['Spouse(s)', 'PERSON'], ['Amalia Karamanlis ']]\n"
          ],
          "name": "stdout"
        },
        {
          "output_type": "stream",
          "text": [
            "DEBUG:root:------BIRTHDAY MATCHING------\n",
            "DEBUG:root:------BIRTH PLACES------\n",
            "DEBUG:root:------NOUN CHUNCK MATCHING FOR BP------\n",
            "DEBUG:root:------CHILDREN NAMES------\n",
            "DEBUG:root:------EDUCATION INSTITUTIONS------\n",
            "DEBUG:root:------PARENTS NAMES------\n",
            "DEBUG:root:------SPOUSES NAMES------\n",
            "DEBUG:root:------NOUN CHUNCK MATCHING FOR SPOUSES------\n"
          ],
          "name": "stderr"
        },
        {
          "output_type": "stream",
          "text": [
            "info card is scraped successfully\n",
            "[['Born', 'PERSON'], []]\n",
            "[['Born', 'DATE'], ['1926-08-15', '15 August 1926']]\n"
          ],
          "name": "stdout"
        },
        {
          "output_type": "stream",
          "text": [
            "DEBUG:root:------BIRTHDAY MATCHING------\n",
            "DEBUG:root:------BIRTH PLACES------\n",
            "DEBUG:root:------NOUN CHUNCK MATCHING FOR BP------\n",
            "DEBUG:root:------CHILDREN NAMES------\n",
            "DEBUG:root:------EDUCATION INSTITUTIONS------\n",
            "DEBUG:root:------PARENTS NAMES------\n",
            "DEBUG:root:------SPOUSES NAMES------\n"
          ],
          "name": "stderr"
        },
        {
          "output_type": "stream",
          "text": [
            "[['Born', 'GPE'], ['Greece', 'Patras']]\n",
            "info card is scraped successfully\n",
            "[['Born', 'PERSON'], []]\n",
            "[['Born', 'DATE'], ['1929-06-04', '4 June 1929']]\n",
            "[['Born', 'GPE'], ['Greece', 'Ioannina']]\n",
            "[['Children', 'PERSON'], ['Fani, Vicky and Anna']]\n"
          ],
          "name": "stdout"
        },
        {
          "output_type": "stream",
          "text": [
            "DEBUG:root:------BIRTHDAY MATCHING------\n",
            "DEBUG:root:------BIRTH PLACES------\n",
            "DEBUG:root:------NOUN CHUNCK MATCHING FOR BP------\n",
            "DEBUG:root:------CHILDREN NAMES------\n",
            "DEBUG:root:------NOUN CHUNCK MATCHING CHILDREN------\n"
          ],
          "name": "stderr"
        },
        {
          "output_type": "stream",
          "text": [
            "[['Spouse(s)', 'PERSON'], ['Mary Panou']]\n"
          ],
          "name": "stdout"
        },
        {
          "output_type": "stream",
          "text": [
            "DEBUG:root:------EDUCATION INSTITUTIONS------\n",
            "DEBUG:root:------PARENTS NAMES------\n",
            "DEBUG:root:------SPOUSES NAMES------\n",
            "DEBUG:root:------NOUN CHUNCK MATCHING FOR SPOUSES------\n",
            "DEBUG:root:('Mary Panou', 'SP', (208, 210))\n"
          ],
          "name": "stderr"
        },
        {
          "output_type": "stream",
          "text": [
            "info card is scraped successfully\n",
            "[['Born', 'PERSON'], []]\n",
            "[['Born', 'DATE'], ['1929-04-06', '6 April 1929']]\n"
          ],
          "name": "stdout"
        },
        {
          "output_type": "stream",
          "text": [
            "DEBUG:root:------BIRTHDAY MATCHING------\n",
            "DEBUG:root:------BIRTH PLACES------\n",
            "DEBUG:root:------NOUN CHUNCK MATCHING FOR BP------\n",
            "DEBUG:root:------CHILDREN NAMES------\n",
            "DEBUG:root:------EDUCATION INSTITUTIONS------\n",
            "DEBUG:root:------PARENTS NAMES------\n",
            "DEBUG:root:------SPOUSES NAMES------\n"
          ],
          "name": "stderr"
        },
        {
          "output_type": "stream",
          "text": [
            "[['Born', 'GPE'], ['Greece', 'Thessaloniki']]\n",
            "info card is scraped successfully\n",
            "[['Born', 'PERSON'], []]\n",
            "[['Born', 'DATE'], ['1938-03-04', '4 March 1938']]\n",
            "[['Born', 'GPE'], ['French Guinea', 'Boké']]\n",
            "[['Spouse(s)', 'PERSON'], ['Djene Kaba Condé']]\n"
          ],
          "name": "stdout"
        },
        {
          "output_type": "stream",
          "text": [
            "DEBUG:root:------BIRTHDAY MATCHING------\n",
            "DEBUG:root:------BIRTH PLACES------\n",
            "DEBUG:root:------NOUN CHUNCK MATCHING FOR BP------\n",
            "DEBUG:root:------CHILDREN NAMES------\n",
            "DEBUG:root:------EDUCATION INSTITUTIONS------\n",
            "DEBUG:root:------PARENTS NAMES------\n",
            "DEBUG:root:------SPOUSES NAMES------\n",
            "DEBUG:root:------NOUN CHUNCK MATCHING FOR SPOUSES------\n",
            "DEBUG:root:('Djene Kaba Condé', 'SP', (1911, 1914))\n"
          ],
          "name": "stderr"
        },
        {
          "output_type": "stream",
          "text": [
            "info card is scraped successfully\n",
            "[['Born', 'PERSON'], []]\n",
            "[['Born', 'DATE'], ['1934-11-30']]\n",
            "[['Born', 'GPE'], ['French Guinea']]\n",
            "[['Spouse(s)', 'PERSON'], ['Several']]\n"
          ],
          "name": "stdout"
        },
        {
          "output_type": "stream",
          "text": [
            "DEBUG:root:------BIRTHDAY MATCHING------\n",
            "DEBUG:root:------BIRTH PLACES------\n",
            "DEBUG:root:------NOUN CHUNCK MATCHING FOR BP------\n",
            "DEBUG:root:------CHILDREN NAMES------\n",
            "DEBUG:root:------EDUCATION INSTITUTIONS------\n",
            "DEBUG:root:------PARENTS NAMES------\n",
            "DEBUG:root:------SPOUSES NAMES------\n",
            "DEBUG:root:------NOUN CHUNCK MATCHING FOR SPOUSES------\n",
            "DEBUG:root:('Several dozen civilians', 'SP', (902, 905))\n"
          ],
          "name": "stderr"
        },
        {
          "output_type": "stream",
          "text": [
            "info card is scraped successfully\n",
            "[['Born', 'PERSON'], []]\n",
            "[['Born', 'DATE'], ['1923-12-28']]\n"
          ],
          "name": "stdout"
        },
        {
          "output_type": "stream",
          "text": [
            "DEBUG:root:------BIRTHDAY MATCHING------\n",
            "DEBUG:root:------BIRTH PLACES------\n",
            "DEBUG:root:------NOUN CHUNCK MATCHING FOR BP------\n",
            "DEBUG:root:------CHILDREN NAMES------\n",
            "DEBUG:root:------EDUCATION INSTITUTIONS------\n",
            "DEBUG:root:------PARENTS NAMES------\n",
            "DEBUG:root:------SPOUSES NAMES------\n"
          ],
          "name": "stderr"
        },
        {
          "output_type": "stream",
          "text": [
            "[['Born', 'GPE'], ['French Guinea']]\n",
            "info card is scraped successfully\n",
            "[['Born', 'PERSON'], []]\n",
            "[['Born', 'DATE'], ['1964-01-01', '1 January 1964']]\n",
            "[['Born', 'GPE'], ['Koure, Guinea']]\n",
            "[['Children', 'PERSON'], []]\n",
            "[['Spouse(s)', 'PERSON'], ['Jeanne Saba']]\n"
          ],
          "name": "stdout"
        },
        {
          "output_type": "stream",
          "text": [
            "DEBUG:root:------BIRTHDAY MATCHING------\n",
            "DEBUG:root:------BIRTH PLACES------\n",
            "DEBUG:root:------NOUN CHUNCK MATCHING FOR BP------\n",
            "DEBUG:root:------CHILDREN NAMES------\n",
            "DEBUG:root:------NOUN CHUNCK MATCHING CHILDREN------\n",
            "DEBUG:root:------EDUCATION INSTITUTIONS------\n",
            "DEBUG:root:------PARENTS NAMES------\n",
            "DEBUG:root:------SPOUSES NAMES------\n",
            "DEBUG:root:------NOUN CHUNCK MATCHING FOR SPOUSES------\n"
          ],
          "name": "stderr"
        },
        {
          "output_type": "stream",
          "text": [
            "info card is scraped successfully\n",
            "[['Born', 'PERSON'], []]\n",
            "[['Born', 'DATE'], ['1922-01-09', 'January 9, 1922']]\n",
            "[['Born', 'GPE'], ['Guinea', 'Faranah']]\n",
            "[['Spouse(s)', 'PERSON'], ['Andrée Touré']]\n"
          ],
          "name": "stdout"
        },
        {
          "output_type": "stream",
          "text": [
            "DEBUG:root:------BIRTHDAY MATCHING------\n",
            "DEBUG:root:------BIRTH PLACES------\n",
            "DEBUG:root:------NOUN CHUNCK MATCHING FOR BP------\n",
            "DEBUG:root:------CHILDREN NAMES------\n",
            "DEBUG:root:------EDUCATION INSTITUTIONS------\n",
            "DEBUG:root:------PARENTS NAMES------\n",
            "DEBUG:root:------SPOUSES NAMES------\n",
            "DEBUG:root:------NOUN CHUNCK MATCHING FOR SPOUSES------\n"
          ],
          "name": "stderr"
        },
        {
          "output_type": "stream",
          "text": [
            "info card is scraped successfully\n",
            "[['Born', 'PERSON'], []]\n",
            "[['Born', 'DATE'], ['1964-06-06', '6 June 1964']]\n",
            "[['Born', 'GPE'], ['Guinea', 'Conakry']]\n",
            "[['Children', 'PERSON'], []]\n"
          ],
          "name": "stdout"
        },
        {
          "output_type": "stream",
          "text": [
            "DEBUG:root:------BIRTHDAY MATCHING------\n",
            "DEBUG:root:------BIRTH PLACES------\n",
            "DEBUG:root:------NOUN CHUNCK MATCHING FOR BP------\n",
            "DEBUG:root:------CHILDREN NAMES------\n",
            "DEBUG:root:------NOUN CHUNCK MATCHING CHILDREN------\n",
            "DEBUG:root:------EDUCATION INSTITUTIONS------\n",
            "DEBUG:root:------PARENTS NAMES------\n",
            "DEBUG:root:------SPOUSES NAMES------\n",
            "DEBUG:root:------NOUN CHUNCK MATCHING FOR SPOUSES------\n"
          ],
          "name": "stderr"
        },
        {
          "output_type": "stream",
          "text": [
            "[['Spouse(s)', 'PERSON'], []]\n",
            "info card is scraped successfully\n",
            "[['Born', 'PERSON'], []]\n",
            "[['Born', 'DATE'], ['1957-12-10', '10 December 1957']]\n",
            "[['Born', 'GPE'], ['Portuguese Guinea', 'Calequisse']]\n"
          ],
          "name": "stdout"
        },
        {
          "output_type": "stream",
          "text": [
            "DEBUG:root:------BIRTHDAY MATCHING------\n",
            "DEBUG:root:------BIRTH PLACES------\n",
            "DEBUG:root:------NOUN CHUNCK MATCHING FOR BP------\n",
            "DEBUG:root:------CHILDREN NAMES------\n",
            "DEBUG:root:------EDUCATION INSTITUTIONS------\n",
            "DEBUG:root:------PARENTS NAMES------\n",
            "DEBUG:root:------SPOUSES NAMES------\n",
            "DEBUG:root:------NOUN CHUNCK MATCHING FOR SPOUSES------\n"
          ],
          "name": "stderr"
        },
        {
          "output_type": "stream",
          "text": [
            "[['Spouse(s)', 'PERSON'], ['Rosa Teixeira Goudiaby']]\n",
            "info card is scraped successfully\n",
            "[['Born', 'PERSON'], ['Dar Salam']]\n",
            "[['Born', 'DATE'], ['1956-08-28', 'August 28, 1956']]\n"
          ],
          "name": "stdout"
        },
        {
          "output_type": "stream",
          "text": [
            "DEBUG:root:------BIRTHDAY MATCHING------\n",
            "DEBUG:root:------BIRTH PLACES------\n",
            "DEBUG:root:------NOUN CHUNCK MATCHING FOR BP------\n",
            "DEBUG:root:------CHILDREN NAMES------\n",
            "DEBUG:root:------EDUCATION INSTITUTIONS------\n",
            "DEBUG:root:------PARENTS NAMES------\n",
            "DEBUG:root:------SPOUSES NAMES------\n"
          ],
          "name": "stderr"
        },
        {
          "output_type": "stream",
          "text": [
            "[['Born', 'GPE'], ['Portuguese Guinea', 'Dar Salam']]\n",
            "info card is scraped successfully\n",
            "[['Born', 'PERSON'], []]\n",
            "[['Born', 'DATE'], ['26 April 1947']]\n"
          ],
          "name": "stdout"
        },
        {
          "output_type": "stream",
          "text": [
            "DEBUG:root:------BIRTHDAY MATCHING------\n",
            "DEBUG:root:------BIRTH PLACES------\n",
            "DEBUG:root:------NOUN CHUNCK MATCHING FOR BP------\n",
            "DEBUG:root:------CHILDREN NAMES------\n",
            "DEBUG:root:------EDUCATION INSTITUTIONS------\n",
            "DEBUG:root:------PARENTS NAMES------\n",
            "DEBUG:root:------SPOUSES NAMES------\n"
          ],
          "name": "stderr"
        },
        {
          "output_type": "stream",
          "text": [
            "[['Born', 'GPE'], []]\n",
            "info card is scraped successfully\n",
            "[['Born', 'PERSON'], []]\n",
            "[['Born', 'DATE'], ['1958-03-25', '25 March 1958']]\n"
          ],
          "name": "stdout"
        },
        {
          "output_type": "stream",
          "text": [
            "DEBUG:root:------BIRTHDAY MATCHING------\n",
            "DEBUG:root:------BIRTH PLACES------\n",
            "DEBUG:root:------NOUN CHUNCK MATCHING FOR BP------\n",
            "DEBUG:root:------CHILDREN NAMES------\n",
            "DEBUG:root:------EDUCATION INSTITUTIONS------\n",
            "DEBUG:root:------PARENTS NAMES------\n",
            "DEBUG:root:------SPOUSES NAMES------\n"
          ],
          "name": "stderr"
        },
        {
          "output_type": "stream",
          "text": [
            "[['Born', 'GPE'], []]\n",
            "info card is scraped successfully\n",
            "[['Born', 'PERSON'], ['Dar Salam']]\n",
            "[['Born', 'DATE'], ['1947-05-05']]\n",
            "[['Born', 'GPE'], ['Portuguese Guinea']]\n"
          ],
          "name": "stdout"
        },
        {
          "output_type": "stream",
          "text": [
            "DEBUG:root:------BIRTHDAY MATCHING------\n",
            "DEBUG:root:------BIRTH PLACES------\n",
            "DEBUG:root:------NOUN CHUNCK MATCHING FOR BP------\n"
          ],
          "name": "stderr"
        },
        {
          "output_type": "stream",
          "text": [
            "[['Spouse(s)', 'PERSON'], []]\n"
          ],
          "name": "stdout"
        },
        {
          "output_type": "stream",
          "text": [
            "DEBUG:root:------CHILDREN NAMES------\n",
            "DEBUG:root:------EDUCATION INSTITUTIONS------\n",
            "DEBUG:root:------PARENTS NAMES------\n",
            "DEBUG:root:------SPOUSES NAMES------\n",
            "DEBUG:root:------NOUN CHUNCK MATCHING FOR SPOUSES------\n"
          ],
          "name": "stderr"
        },
        {
          "output_type": "stream",
          "text": [
            "info card is scraped successfully\n",
            "[['Born', 'PERSON'], ['David Arthur Granger']]\n",
            "[['Born', 'DATE'], ['1942-07-15', '15 July 1942']]\n",
            "[['Born', 'GPE'], ['British Guiana', 'Georgetown']]\n",
            "[['Children', 'PERSON'], []]\n"
          ],
          "name": "stdout"
        },
        {
          "output_type": "stream",
          "text": [
            "DEBUG:root:------BIRTHDAY MATCHING------\n",
            "DEBUG:root:------BIRTH PLACES------\n",
            "DEBUG:root:------NOUN CHUNCK MATCHING FOR BP------\n"
          ],
          "name": "stderr"
        },
        {
          "output_type": "stream",
          "text": [
            "[['Spouse(s)', 'PERSON'], ['Sandra Chan-A-Sue']]\n"
          ],
          "name": "stdout"
        },
        {
          "output_type": "stream",
          "text": [
            "DEBUG:root:------CHILDREN NAMES------\n",
            "DEBUG:root:------NOUN CHUNCK MATCHING CHILDREN------\n",
            "DEBUG:root:------EDUCATION INSTITUTIONS------\n",
            "DEBUG:root:------PARENTS NAMES------\n",
            "DEBUG:root:------SPOUSES NAMES------\n",
            "DEBUG:root:('Sandra Granger', 'SP', (1111, 1113))\n",
            "DEBUG:root:------NOUN CHUNCK MATCHING FOR SPOUSES------\n",
            "DEBUG:root:('Sandra Granger', 'SP', (1111, 1113))\n"
          ],
          "name": "stderr"
        },
        {
          "output_type": "stream",
          "text": [
            "info card is scraped successfully\n",
            "[['Born', 'PERSON'], ['Caria Caria']]\n",
            "[['Born', 'DATE'], ['1950-10-22']]\n",
            "[['Born', 'GPE'], ['Guyana']]\n"
          ],
          "name": "stdout"
        },
        {
          "output_type": "stream",
          "text": [
            "DEBUG:root:------BIRTHDAY MATCHING------\n",
            "DEBUG:root:------BIRTH PLACES------\n",
            "DEBUG:root:------NOUN CHUNCK MATCHING FOR BP------\n",
            "DEBUG:root:------CHILDREN NAMES------\n",
            "DEBUG:root:------EDUCATION INSTITUTIONS------\n",
            "DEBUG:root:------PARENTS NAMES------\n",
            "DEBUG:root:------SPOUSES NAMES------\n",
            "DEBUG:root:------NOUN CHUNCK MATCHING FOR SPOUSES------\n"
          ],
          "name": "stderr"
        },
        {
          "output_type": "stream",
          "text": [
            "[['Spouse(s)', 'PERSON'], ['Deolatchmee Ramotar']]\n",
            "info card is scraped successfully\n"
          ],
          "name": "stdout"
        }
      ]
    },
    {
      "cell_type": "code",
      "metadata": {
        "id": "BPN0Djs9qkFQ",
        "colab_type": "code",
        "colab": {}
      },
      "source": [
        "import tarfile\n",
        "tar =  tarfile.open('metadata.tar.gz', mode='w:gz')\n",
        "tar.add('metadata')\n",
        "tar.close()"
      ],
      "execution_count": 0,
      "outputs": []
    },
    {
      "cell_type": "code",
      "metadata": {
        "id": "ABdhwNdKwfz7",
        "colab_type": "code",
        "colab": {}
      },
      "source": [
        "quote_page = 'https://en.wikipedia.org/w/index.php?title=Category:Possibly_living_people'\n",
        "# quote_page = 'https://en.wikipedia.org/wiki/Category:Living_people'\n",
        "# page = urllib.request.urlopen(quote_page)\n",
        "# soup = BeautifulSoup(page, 'html.parser')\n",
        "\n",
        "def stack_category_links(url, links):\n",
        "    page = urllib.request.urlopen(url)\n",
        "    soup = BeautifulSoup(page, 'html.parser')\n",
        "    content_big = soup.find('div', attrs={'class': 'mw-content-ltr'}) # or infobox biography vcard\n",
        "    link_list = content_big.find('div', attrs={'class': 'mw-category'}) # or infobox biography vcard\n",
        "    links.extend(link_list.find_all('a'))\n",
        "    next_page = content_big.next_sibling.next_sibling.a.get('href')\n",
        "    try:\n",
        "        stack_category_links(next_page, links)\n",
        "    except:\n",
        "        return links\n",
        "    return links\n",
        "\n",
        "links = []\n",
        "stack_links(quote_page, links)"
      ],
      "execution_count": 0,
      "outputs": []
    },
    {
      "cell_type": "code",
      "metadata": {
        "id": "HNCp5Tmbvl8k",
        "colab_type": "code",
        "colab": {}
      },
      "source": [
        "quote_page = 'https://en.wikipedia.org/w/index.php?title=Category:Possibly_living_people'\n",
        "page = urllib.request.urlopen(quote_page)\n",
        "soup = BeautifulSoup(page, 'html.parser')\n",
        "content_big = soup.find('div', attrs={'class': 'mw-content-ltr'}) # or infobox biography vcard\n",
        "links = []\n",
        "link_list = content_big.find('div', attrs={'class': 'mw-category'}) # or infobox biography vcard\n",
        "links.extend(link_list.find_all('a'))\n",
        "next_page = content_big.next_sibling.next_sibling.a.get('href')\n",
        "next_page"
      ],
      "execution_count": 0,
      "outputs": []
    },
    {
      "cell_type": "code",
      "metadata": {
        "id": "yxeSyi9Wx-gO",
        "colab_type": "code",
        "colab": {}
      },
      "source": [
        "quote_page = 'https://en.wikipedia.org/w/index.php?title=Category:Living_people'\n",
        "page = urllib.request.urlopen(quote_page)\n",
        "soup = BeautifulSoup(page, 'html.parser')\n",
        "links = []\n",
        "\n",
        "while True:\n",
        "#     try:\n",
        "    content_big = soup.find('div', attrs={'class': 'mw-content-ltr'}) # or infobox biography vcard\n",
        "    link_list = content_big.find('div', attrs={'class': 'mw-category'}) # or infobox biography vcard\n",
        "    links.extend(link_list.find_all('a'))\n",
        "    print(len(links))\n",
        "    next_page = None\n",
        "    for aa in soup.find_all('a'):\n",
        "        if aa.text == 'next page':\n",
        "            next_page = aa.get('href')\n",
        "            print(aa.get('href'))\n",
        "            page = urllib.request.urlopen('https://en.wikipedia.org' + next_page)\n",
        "            soup = BeautifulSoup(page, 'html.parser')\n",
        "            break\n",
        "    if next_page == None:\n",
        "        break\n",
        "#     except:\n",
        "#         break\n",
        "# links"
      ],
      "execution_count": 0,
      "outputs": []
    },
    {
      "cell_type": "code",
      "metadata": {
        "id": "lAmCmgyBoZk4",
        "colab_type": "code",
        "colab": {}
      },
      "source": [
        "print(len(links))\n",
        "print(len(set(links)))\n",
        "print(links[0])\n",
        "print(links[0].get('href'))\n",
        "[ link.get('href') for link in links]\n",
        "\n",
        "100000*0.02"
      ],
      "execution_count": 0,
      "outputs": []
    },
    {
      "cell_type": "code",
      "metadata": {
        "id": "G4l9cgDm-ICn",
        "colab_type": "code",
        "colab": {}
      },
      "source": [
        "import sys\n",
        "sys.getsizeof(links)\n",
        "import pickle\n",
        "import json\n",
        "js = json.dumps([ str(link.get('href')) for link in links ] )\n",
        "with open('Living_people.pkl', 'wb') as f:\n",
        "    pickle.dump(js, f)"
      ],
      "execution_count": 0,
      "outputs": []
    },
    {
      "cell_type": "markdown",
      "metadata": {
        "id": "hP1_erM_klsA",
        "colab_type": "text"
      },
      "source": [
        "## **Mining for Categories**\n",
        "\n",
        "\n"
      ]
    },
    {
      "cell_type": "code",
      "metadata": {
        "id": "BpmoJCbVpjOj",
        "colab_type": "code",
        "colab": {}
      },
      "source": [
        "with open('Living_people.pkl', 'rb') as f:\n",
        "    js = pickle.load(f)\n",
        "js"
      ],
      "execution_count": 0,
      "outputs": []
    },
    {
      "cell_type": "code",
      "metadata": {
        "id": "8CR3c5n3iPi8",
        "colab_type": "code",
        "colab": {}
      },
      "source": [
        "import ast\n",
        "links_js = ast.literal_eval(js)\n",
        "len(links_js)"
      ],
      "execution_count": 0,
      "outputs": []
    },
    {
      "cell_type": "code",
      "metadata": {
        "id": "r8dLF0gDkjgP",
        "colab_type": "code",
        "colab": {}
      },
      "source": [
        "def add_wiki_prefix(func):\n",
        "    def wrapper(url):\n",
        "        url = 'https://en.wikipedia.org' + url\n",
        "        return func(url)\n",
        "    return wrapper\n",
        "\n",
        "@add_wiki_prefix\n",
        "def get_category_list(url):\n",
        "    page = urllib.request.urlopen(url)\n",
        "    soup = BeautifulSoup(page, 'html.parser')\n",
        "    catlink_box = soup.find('div', attrs={'class': 'mw-normal-catlinks'}) # or infobox biography vcard\n",
        "    return [ li.text for li in catlink_box.find_all('li')]"
      ],
      "execution_count": 0,
      "outputs": []
    },
    {
      "cell_type": "code",
      "metadata": {
        "id": "0kh8QUGzl6ZS",
        "colab_type": "code",
        "colab": {}
      },
      "source": [
        "ss = set(category for category in get_category_list('/wiki/Category:Dead_people'))\n",
        "_ = [ss.add(category) for category in get_category_list('/wiki/Category:Living_people')]\n",
        "print(ss)\n",
        "ll = list(ss)\n",
        "df = pd.DataFrame()\n",
        "df1 =  pd.DataFrame(np.ones((1,len(ll)), dtype=np.int64), columns=ll)\n",
        "df = df.append(df1, ignore_index=False, sort=False)\n",
        "# df1[ll[0]] += 1\n",
        "ll2 = ['Life', 'People by status', 'Criminals']\n",
        "df2 = pd.DataFrame(np.ones((1,len(ll2)), dtype=np.int64), columns=ll2)\n",
        "df = df.append(df2, ignore_index=False, sort=False)\n",
        "print(df)"
      ],
      "execution_count": 0,
      "outputs": []
    },
    {
      "cell_type": "code",
      "metadata": {
        "id": "UGfgfshs7g9a",
        "colab_type": "code",
        "colab": {}
      },
      "source": [
        "type(get_category_list('/wiki/Category:Dead_people'))"
      ],
      "execution_count": 0,
      "outputs": []
    },
    {
      "cell_type": "code",
      "metadata": {
        "id": "THZdU_c_SFxH",
        "colab_type": "code",
        "colab": {}
      },
      "source": [
        "import ast\n",
        "with open('Living_people.pkl', 'rb') as f:\n",
        "    js = pickle.load(f)\n",
        "# js = json.load(js)    \n",
        "links_js = ast.literal_eval(js)\n",
        "print(links_js[0])\n",
        "category_df =  pd.DataFrame()\n",
        "for i, link in enumerate(links_js):\n",
        "    print(i, link)\n",
        "#     cats = [category for category in get_category_list(str(link))]\n",
        "    cats = get_category_list(str(link))\n",
        "    df_cats =  pd.DataFrame(np.ones((1,len(cats)), dtype=np.int64), columns=cats)\n",
        "    category_df = category_df.append(df_cats)\n",
        "    if i == 100:\n",
        "        break\n",
        "    \n",
        "category_df"
      ],
      "execution_count": 0,
      "outputs": []
    },
    {
      "cell_type": "code",
      "metadata": {
        "id": "yOVIrUtz6NQQ",
        "colab_type": "code",
        "colab": {}
      },
      "source": [
        "from multiprocessing import Pool\n",
        "\n",
        "def f(x):\n",
        "    return x*x\n",
        "\n",
        "if __name__ == '__main__':\n",
        "    with Pool(5) as p:\n",
        "        print(p.map(f, [1, 2, 3,5,6,8]))"
      ],
      "execution_count": 0,
      "outputs": []
    },
    {
      "cell_type": "code",
      "metadata": {
        "id": "uIHBoK5xWPZ5",
        "colab_type": "code",
        "colab": {}
      },
      "source": [
        "import sys\n",
        "print(len(category_df.columns), sys.getsizeof(category_df))\n",
        "category_df.columns.tolist()"
      ],
      "execution_count": 0,
      "outputs": []
    },
    {
      "cell_type": "code",
      "metadata": {
        "id": "8DcnyHTK8EOt",
        "colab_type": "code",
        "colab": {}
      },
      "source": [
        "import string\n",
        "import collections\n",
        "import nltk \n",
        "from nltk import word_tokenize\n",
        "from nltk.stem import PorterStemmer\n",
        "nltk.download('stopwords')\n",
        "from nltk.corpus import stopwords\n",
        "from sklearn.cluster import KMeans\n",
        "from sklearn.feature_extraction.text import TfidfVectorizer\n",
        "from pprint import pprint\n",
        " \n",
        "    \n",
        "def process_text(text, stem=True):\n",
        "    \"\"\" Tokenize text and stem words removing punctuation \"\"\"\n",
        "#     text = text.translate(None, string.punctuation)\n",
        "    tokens = word_tokenize(text)\n",
        "    \n",
        "    if stem:\n",
        "        stemmer = PorterStemmer()\n",
        "        tokens = [stemmer.stem(t) for t in tokens]\n",
        "        \n",
        "    return tokens\n",
        " \n",
        "    \n",
        "def cluster_texts(texts, clusters=3):\n",
        "    \"\"\" Transform texts to Tf-Idf coordinates and cluster texts using K-Means \"\"\"\n",
        "    vectorizer = TfidfVectorizer(tokenizer=process_text,\n",
        "                                 stop_words=stopwords.words('english'),\n",
        "                                 max_df=0.5,\n",
        "                                 min_df=0.1,\n",
        "                                 lowercase=True)\n",
        "    \n",
        "    tfidf_model = vectorizer.fit_transform(texts)\n",
        "    km_model = KMeans(n_clusters=clusters)\n",
        "    km_model.fit(tfidf_model)\n",
        "\n",
        "    clustering = collections.defaultdict(list)\n",
        "\n",
        "    for idx, label in enumerate(km_model.labels_):\n",
        "        clustering[label].append(idx)\n",
        "\n",
        "    return clustering\n",
        " \n",
        "\n",
        "if __name__ == \"__main__\":\n",
        "    articles = category_df.columns.tolist()\n",
        "    clusters = cluster_texts(articles, 7)\n",
        "    pprint(dict(clusters))"
      ],
      "execution_count": 0,
      "outputs": []
    },
    {
      "cell_type": "markdown",
      "metadata": {
        "id": "20Ly5Pr8NP5F",
        "colab_type": "text"
      },
      "source": [
        "# Mass Dataset "
      ]
    },
    {
      "cell_type": "markdown",
      "metadata": {
        "id": "SABYFCbN-zJd",
        "colab_type": "text"
      },
      "source": [
        "choosing pages"
      ]
    },
    {
      "cell_type": "code",
      "metadata": {
        "id": "7vWT-vVCAtFy",
        "colab_type": "code",
        "colab": {
          "base_uri": "https://localhost:8080/",
          "height": 1000
        },
        "outputId": "7daf3887-9e2c-42a0-a6f0-97a1e8d6e986"
      },
      "source": [
        "import multiprocessing\n",
        "import os\n",
        "import time\n",
        "# split a list into evenly sized chunks\n",
        "!pip install wget\n",
        "import wget\n",
        "import logging\n",
        "import pickle\n",
        "import ast\n",
        "import pandas as pd\n",
        "import numpy as np\n",
        "import urllib\n",
        "from bs4 import BeautifulSoup\n",
        "import traceback\n",
        "import re\n",
        "\n",
        "try:\n",
        "    import colabimport\n",
        "except:\n",
        "    colabimporturl = 'https://github.com/ratmcu/colaboratory_import/raw/master/colabimport.py'\n",
        "    filename = colabimporturl.split(\"/\")[-1].split(\"?\")[0]\n",
        "    if os.path.isfile(filename):\n",
        "        os.remove(filename)\n",
        "    print ('here')\n",
        "    wget.download(colabimporturl)\n",
        "    import colabimport\n",
        "colabimport.get_notebook('https://github.com/ratmcu/wiki_ner/blob/master/reusable_annotator.ipynb?raw=true')\n",
        "colabimport.get_notebook('https://github.com/ratmcu/wiki_ner/blob/master/info_box.ipynb?raw=true')\n",
        "# import io, os, sys, types\n",
        "from reusable_annotator import PageContents\n",
        "from info_box import InfoCard, PrivateEntities\n",
        "# exit()\n",
        "if not os.path.isfile('./Living_people.pkl'):\n",
        "    wget.download('https://github.com/ratmcu/wiki_ner/blob/master/Living_people.pkl?raw=true')\n",
        "\n",
        "logdir = 'data_frames'\n",
        "if not os.path.exists(logdir): os.makedirs(logdir)\n",
        "random_test_params = { 'test':True, 'samples': 40}"
      ],
      "execution_count": 1,
      "outputs": [
        {
          "output_type": "stream",
          "text": [
            "Collecting wget\n",
            "  Downloading https://files.pythonhosted.org/packages/47/6a/62e288da7bcda82b935ff0c6cfe542970f04e29c756b0e147251b2fb251f/wget-3.2.zip\n",
            "Building wheels for collected packages: wget\n",
            "  Building wheel for wget (setup.py) ... \u001b[?25l\u001b[?25hdone\n",
            "  Created wheel for wget: filename=wget-3.2-cp36-none-any.whl size=9681 sha256=d52bae53ff5d3cf577e589352a07b5b1c8cd69443bc588f252765a282348db88\n",
            "  Stored in directory: /root/.cache/pip/wheels/40/15/30/7d8f7cea2902b4db79e3fea550d7d7b85ecb27ef992b618f3f\n",
            "Successfully built wget\n",
            "Installing collected packages: wget\n",
            "Successfully installed wget-3.2\n",
            "here\n",
            "importing Jupyter notebook from reusable_annotator.ipynb\n",
            "Collecting pyahocorasick\n",
            "\u001b[?25l  Downloading https://files.pythonhosted.org/packages/f4/9f/f0d8e8850e12829eea2e778f1c90e3c53a9a799b7f412082a5d21cd19ae1/pyahocorasick-1.4.0.tar.gz (312kB)\n",
            "\u001b[K     |████████████████████████████████| 317kB 2.7MB/s \n",
            "\u001b[?25hBuilding wheels for collected packages: pyahocorasick\n",
            "  Building wheel for pyahocorasick (setup.py) ... \u001b[?25l\u001b[?25hdone\n",
            "  Created wheel for pyahocorasick: filename=pyahocorasick-1.4.0-cp36-cp36m-linux_x86_64.whl size=81700 sha256=8776a446fc646611c04aa7dd11309d2de4925a1204d5a71fa727a779b1c27e89\n",
            "  Stored in directory: /root/.cache/pip/wheels/0a/90/61/87a55f5b459792fbb2b7ba6b31721b06ff5cf6bde541b40994\n",
            "Successfully built pyahocorasick\n",
            "Installing collected packages: pyahocorasick\n",
            "Successfully installed pyahocorasick-1.4.0\n",
            "Collecting fuzzyset\n",
            "\u001b[?25l  Downloading https://files.pythonhosted.org/packages/2e/78/7509f3efbb6acbcf842d7bdbd9a919ca8c0ed248123bdd8c57f08497e0dd/fuzzyset-0.0.19.tar.gz (377kB)\n",
            "\u001b[K     |████████████████████████████████| 378kB 2.8MB/s \n",
            "\u001b[?25hCollecting python-levenshtein (from fuzzyset)\n",
            "\u001b[?25l  Downloading https://files.pythonhosted.org/packages/42/a9/d1785c85ebf9b7dfacd08938dd028209c34a0ea3b1bcdb895208bd40a67d/python-Levenshtein-0.12.0.tar.gz (48kB)\n",
            "\u001b[K     |████████████████████████████████| 51kB 17.7MB/s \n",
            "\u001b[?25hCollecting texttable (from fuzzyset)\n",
            "  Downloading https://files.pythonhosted.org/packages/82/a8/60df592e3a100a1f83928795aca210414d72cebdc6e4e0c95a6d8ac632fe/texttable-1.6.2.tar.gz\n",
            "Requirement already satisfied: setuptools in /usr/local/lib/python3.6/dist-packages (from python-levenshtein->fuzzyset) (41.2.0)\n",
            "Building wheels for collected packages: fuzzyset, python-levenshtein, texttable\n",
            "  Building wheel for fuzzyset (setup.py) ... \u001b[?25l\u001b[?25hdone\n",
            "  Created wheel for fuzzyset: filename=fuzzyset-0.0.19-cp36-cp36m-linux_x86_64.whl size=167549 sha256=b9d0ba74ebdc1562cf4406c507946e117d98c853593b38142ab703e4767a2014\n",
            "  Stored in directory: /root/.cache/pip/wheels/d8/36/9a/8f1cac047c7c3b03dce3d5434ed0088bfd8da8aeca615dfb4c\n",
            "  Building wheel for python-levenshtein (setup.py) ... \u001b[?25l\u001b[?25hdone\n",
            "  Created wheel for python-levenshtein: filename=python_Levenshtein-0.12.0-cp36-cp36m-linux_x86_64.whl size=144665 sha256=a3fa0f536524fac6f9b07b1cf3d8c9bcbb08a3043ba3179bc1ce6efc7bf2e8f0\n",
            "  Stored in directory: /root/.cache/pip/wheels/de/c2/93/660fd5f7559049268ad2dc6d81c4e39e9e36518766eaf7e342\n",
            "  Building wheel for texttable (setup.py) ... \u001b[?25l\u001b[?25hdone\n",
            "  Created wheel for texttable: filename=texttable-1.6.2-cp36-none-any.whl size=10654 sha256=74342a9ef2f5af370cf671ceecb58a94146f776d837d7c7b8dab29b3a769d04c\n",
            "  Stored in directory: /root/.cache/pip/wheels/51/d1/d6/dfbe4eb3c468832f7fbe4bd27f9875fa97277cabed8fb6715c\n",
            "Successfully built fuzzyset python-levenshtein texttable\n",
            "Installing collected packages: python-levenshtein, texttable, fuzzyset\n",
            "Successfully installed fuzzyset-0.0.19 python-levenshtein-0.12.0 texttable-1.6.2\n",
            "[nltk_data] Downloading package punkt to /root/nltk_data...\n",
            "[nltk_data]   Unzipping tokenizers/punkt.zip.\n",
            "importing Jupyter notebook from info_box.ipynb\n",
            "Requirement already satisfied: pyahocorasick in /usr/local/lib/python3.6/dist-packages (1.4.0)\n",
            "Requirement already satisfied: fuzzyset in /usr/local/lib/python3.6/dist-packages (0.0.19)\n",
            "Requirement already satisfied: python-levenshtein in /usr/local/lib/python3.6/dist-packages (from fuzzyset) (0.12.0)\n",
            "Requirement already satisfied: texttable in /usr/local/lib/python3.6/dist-packages (from fuzzyset) (1.6.2)\n",
            "Requirement already satisfied: setuptools in /usr/local/lib/python3.6/dist-packages (from python-levenshtein->fuzzyset) (41.2.0)\n",
            "[nltk_data] Downloading package punkt to /root/nltk_data...\n",
            "[nltk_data]   Package punkt is already up-to-date!\n",
            "Requirement already satisfied: wget in /usr/local/lib/python3.6/dist-packages (3.2)\n",
            "Requirement already satisfied: spacy in /usr/local/lib/python3.6/dist-packages (2.1.8)\n",
            "Requirement already satisfied: requests<3.0.0,>=2.13.0 in /usr/local/lib/python3.6/dist-packages (from spacy) (2.21.0)\n",
            "Requirement already satisfied: thinc<7.1.0,>=7.0.8 in /usr/local/lib/python3.6/dist-packages (from spacy) (7.0.8)\n",
            "Requirement already satisfied: murmurhash<1.1.0,>=0.28.0 in /usr/local/lib/python3.6/dist-packages (from spacy) (1.0.2)\n",
            "Requirement already satisfied: srsly<1.1.0,>=0.0.6 in /usr/local/lib/python3.6/dist-packages (from spacy) (0.1.0)\n",
            "Requirement already satisfied: blis<0.3.0,>=0.2.2 in /usr/local/lib/python3.6/dist-packages (from spacy) (0.2.4)\n",
            "Requirement already satisfied: preshed<2.1.0,>=2.0.1 in /usr/local/lib/python3.6/dist-packages (from spacy) (2.0.1)\n",
            "Requirement already satisfied: wasabi<1.1.0,>=0.2.0 in /usr/local/lib/python3.6/dist-packages (from spacy) (0.2.2)\n",
            "Requirement already satisfied: cymem<2.1.0,>=2.0.2 in /usr/local/lib/python3.6/dist-packages (from spacy) (2.0.2)\n",
            "Requirement already satisfied: plac<1.0.0,>=0.9.6 in /usr/local/lib/python3.6/dist-packages (from spacy) (0.9.6)\n",
            "Requirement already satisfied: numpy>=1.15.0 in /usr/local/lib/python3.6/dist-packages (from spacy) (1.16.5)\n",
            "Requirement already satisfied: urllib3<1.25,>=1.21.1 in /usr/local/lib/python3.6/dist-packages (from requests<3.0.0,>=2.13.0->spacy) (1.24.3)\n",
            "Requirement already satisfied: idna<2.9,>=2.5 in /usr/local/lib/python3.6/dist-packages (from requests<3.0.0,>=2.13.0->spacy) (2.8)\n",
            "Requirement already satisfied: chardet<3.1.0,>=3.0.2 in /usr/local/lib/python3.6/dist-packages (from requests<3.0.0,>=2.13.0->spacy) (3.0.4)\n",
            "Requirement already satisfied: certifi>=2017.4.17 in /usr/local/lib/python3.6/dist-packages (from requests<3.0.0,>=2.13.0->spacy) (2019.9.11)\n",
            "Requirement already satisfied: tqdm<5.0.0,>=4.10.0 in /usr/local/lib/python3.6/dist-packages (from thinc<7.1.0,>=7.0.8->spacy) (4.28.1)\n",
            "Collecting regex\n",
            "\u001b[?25l  Downloading https://files.pythonhosted.org/packages/6f/a6/99eeb5904ab763db87af4bd71d9b1dfdd9792681240657a4c0a599c10a81/regex-2019.08.19.tar.gz (654kB)\n",
            "\u001b[K     |████████████████████████████████| 655kB 2.7MB/s \n",
            "\u001b[?25hBuilding wheels for collected packages: regex\n",
            "  Building wheel for regex (setup.py) ... \u001b[?25l\u001b[?25hdone\n",
            "  Created wheel for regex: filename=regex-2019.8.19-cp36-cp36m-linux_x86_64.whl size=609234 sha256=54c2b9465b7c8cb063bb5145d9c85c91f1c9db9cd5377a6af6b56e7b1fe50ad2\n",
            "  Stored in directory: /root/.cache/pip/wheels/90/04/07/b5010fb816721eb3d6dd64ed5cc8111ca23f97fdab8619b5be\n",
            "Successfully built regex\n",
            "Installing collected packages: regex\n",
            "Successfully installed regex-2019.8.19\n",
            "Requirement already satisfied: en_core_web_sm==2.1.0 from https://github.com/explosion/spacy-models/releases/download/en_core_web_sm-2.1.0/en_core_web_sm-2.1.0.tar.gz#egg=en_core_web_sm==2.1.0 in /usr/local/lib/python3.6/dist-packages (2.1.0)\n",
            "\u001b[38;5;2m✔ Download and installation successful\u001b[0m\n",
            "You can now load the model via spacy.load('en_core_web_sm')\n"
          ],
          "name": "stdout"
        }
      ]
    },
    {
      "cell_type": "code",
      "metadata": {
        "id": "fNDjvsKqWEmC",
        "colab_type": "code",
        "outputId": "7f856394-cebf-42c3-d0e7-5273e4183a8f",
        "colab": {
          "base_uri": "https://localhost:8080/",
          "height": 1000
        }
      },
      "source": [
        "def add_wiki_prefix(func):\n",
        "    def wrapper(url):\n",
        "        url = 'http://en.wikipedia.org' + url\n",
        "        return func(url)\n",
        "    return wrapper\n",
        "\n",
        "@add_wiki_prefix\n",
        "def getEntityPresence(url):\n",
        "    try:\n",
        "        urllib.request.urlopen(url, timeout = 5)\n",
        "    except:\n",
        "        raise Exception('page not found!!!!!!!!!')\n",
        "    pg = PageContents(url)\n",
        "    \n",
        "    if not pg.table:\n",
        "        raise Exception('unable to find a info table in the page')\n",
        "# pg = PageContents('https://en.wikipedia.org/wiki/Donald_Trump')\n",
        "    info_table = InfoCard(pg).info_table\n",
        "    # entities = PrivateEntities(info_card).entity_dict\n",
        "    # key_dict = {'NAME', 'BIRTH_DATE', 'CHILDREN', 'SPOUSES', 'PARENTS', 'EDUCATION'}\n",
        "    # ret = sum([True for key in entities.keys() \n",
        "    #            if len(entities[key])>1 and len(entities[key]) != 0\n",
        "    #                                    and key in key_dict]\n",
        "    ners =   [key   for key in info_table.keys() \n",
        "              if len(info_table[key])>1 and len(info_table[key]) != 0]     \n",
        "\n",
        "    # print(entities)\n",
        "    return ners\n",
        "\n",
        "def getHealthyPages(url_list):\n",
        "    page_df =  pd.DataFrame()    \n",
        "    for i, link in enumerate(url_list):\n",
        "        print(i, link)\n",
        "        try:\n",
        "            ners = getEntityPresence(link) \n",
        "            page_df = page_df.append(pd.DataFrame(np.ones((1,len(ners)), dtype=np.int64), columns=ners).join(pd.DataFrame({'link':[link]})))\n",
        "            # page_df = page_df.join(pd.DataFrame({'link':[link]}))\n",
        "        # except:\n",
        "        #     print('failed to scrape the page: {0}'.format(link))\n",
        "        except Exception as e:\n",
        "            print(traceback.format_exc())\n",
        "    return page_df\n",
        "    \n",
        "@add_wiki_prefix\n",
        "def get_category_list(url):\n",
        "    page = urllib.request.urlopen(url)\n",
        "    soup = BeautifulSoup(page, 'html.parser')\n",
        "    catlink_box = soup.find('div', attrs={'class': 'mw-normal-catlinks'}) # or infobox biography vcard\n",
        "    return [ li.text for li in catlink_box.find_all('li')]\n",
        "\n",
        "def create_category_table(url_list):\n",
        "    category_df =  pd.DataFrame()\n",
        "    for i, link in enumerate(url_list):\n",
        "        print(i, link)\n",
        "    #     cats = [category for category in get_category_list(str(link))]\n",
        "        cats = get_category_list(str(link))\n",
        "        df_cats =  pd.DataFrame(np.ones((1,len(cats)), dtype=np.int64), columns=cats)\n",
        "        category_df = category_df.append(df_cats, sort=True)\n",
        "    return category_df\n",
        "\n",
        "with open('Living_people.pkl', 'rb') as f:\n",
        "    js = pickle.load(f)\n",
        "# js = json.load(js)    \n",
        "links_js = ast.literal_eval(js)\n",
        "\n",
        "def chunks(l, n):\n",
        "    return [l[i:i+n] for i in range(0, len(l), n)]\n",
        "    \n",
        "def do_job(in_queue, queue):\n",
        "    while True:\n",
        "            #try:\n",
        "            #    index, url_list = saver_queue.get(block=False)\n",
        "            #    queue.put((index, create_category_table(url_list)))   \n",
        "            #except:\n",
        "            #    pass\n",
        "            #if not queue.empty():\n",
        "            index, url_list = in_queue.get()\n",
        "            # getHealthyPages(url_list)\n",
        "            queue.put((index, getHealthyPages(url_list)))   \n",
        "            # print('loaded a df {0}'.format(index))\n",
        "            if in_queue.empty(): return\n",
        "        \n",
        "def save_chunk_to_disk(saver_queue, event):\n",
        "    while True:\n",
        "            try:\n",
        "                index, df = saver_queue.get(block=True, timeout=1) \n",
        "                df.to_csv(logdir + '/' + 'ners_found_frame_{0}.csv'.format(index))    \n",
        "                print('saved file: ners_found_frame_{0}.csv'.format(index))\n",
        "            except:\n",
        "                pass\n",
        "            if event.is_set(): break\n",
        "    print('done saving data frames to the disk')\n",
        "\n",
        "def dispatch_jobs(data, worker_number):\n",
        "    category_data_frame =  pd.DataFrame()\n",
        "    total = len(data)\n",
        "    chunk_size = min(100,int(len(data)/worker_number)) #total // job_number\n",
        "    #chunk_size = total // worker_number\n",
        "    slice = chunks(data, chunk_size)\n",
        "\n",
        "    saver_queue = multiprocessing.Queue(1000)\n",
        "    event = multiprocessing.Event()\n",
        "    disk_save_mp = multiprocessing.Process(target=save_chunk_to_disk, args=(saver_queue, event))\n",
        "    disk_save_mp.start()  \n",
        "    workers = []\n",
        "    in_queues = []\n",
        "    \n",
        "    print('queued data')    \n",
        "    in_queue = multiprocessing.Queue(10000)\n",
        "    for worker in range(worker_number):\n",
        "        #in_queue = multiprocessing.Queue(1000)\n",
        "        #in_queues.append(in_queue)\n",
        "        j = multiprocessing.Process(target=do_job, args=(in_queue, saver_queue))\n",
        "        workers.append(j)\n",
        "    \n",
        "    queue_number = 0\n",
        "    \n",
        "    # adding the data to the input queues\n",
        "    for i, s in enumerate(slice):\n",
        "#         print(i)\n",
        "        in_queue.put((i, s))\n",
        "        #in_queues[queue_number].put((i, s))\n",
        "        #queue_number += queue_number\n",
        "        #if queue_number == len(in_queues):\n",
        "        #    queue_number = 0\n",
        "        \n",
        "    print('workers created')    \n",
        "    \n",
        "    for worker in workers:\n",
        "        # time.sleep(1)\n",
        "        worker.start()\n",
        "    # disk_save_mp.start()    \n",
        "    print('workers started')\n",
        "    queue_empty = False\n",
        "    running = any(p.is_alive() for p in workers)\n",
        "    while running:\n",
        "        #save_chunk_to_disk(saver_queue.get(block=True))\n",
        "        running = any(p.is_alive() for p in workers)\n",
        "    print('all items in in_queue are done processed by workers')\n",
        "    while not saver_queue.empty(): pass    \n",
        "    event.set()\n",
        "    disk_save_mp.join()  \n",
        "    return\n",
        "\n",
        "if random_test_params['test'] == True:\n",
        "    import random\n",
        "    data = random.choices(links_js, k=random_test_params['samples'])\n",
        "else:\n",
        "    data = link_js\n",
        "\n",
        "start_time = time.perf_counter()\n",
        "print(os.cpu_count())\n",
        "cpu_count = os.cpu_count()\n",
        "category_data_frame = dispatch_jobs(data, cpu_count)\n",
        "end_time = time.perf_counter()      # 2\n",
        "run_time = end_time - start_time \n",
        "print(run_time)\n"
      ],
      "execution_count": 2,
      "outputs": [
        {
          "output_type": "stream",
          "text": [
            "Collecting wget\n",
            "  Downloading https://files.pythonhosted.org/packages/47/6a/62e288da7bcda82b935ff0c6cfe542970f04e29c756b0e147251b2fb251f/wget-3.2.zip\n",
            "Building wheels for collected packages: wget\n",
            "  Building wheel for wget (setup.py) ... \u001b[?25l\u001b[?25hdone\n",
            "  Created wheel for wget: filename=wget-3.2-cp36-none-any.whl size=9681 sha256=486cd3251753e256dba43ad90056c576a2cd242dde93b9e2ea08ec4e09e4d083\n",
            "  Stored in directory: /root/.cache/pip/wheels/40/15/30/7d8f7cea2902b4db79e3fea550d7d7b85ecb27ef992b618f3f\n",
            "Successfully built wget\n",
            "Installing collected packages: wget\n",
            "Successfully installed wget-3.2\n",
            "here\n",
            "importing Jupyter notebook from reusable_annotator.ipynb\n",
            "Collecting pyahocorasick\n",
            "\u001b[?25l  Downloading https://files.pythonhosted.org/packages/f4/9f/f0d8e8850e12829eea2e778f1c90e3c53a9a799b7f412082a5d21cd19ae1/pyahocorasick-1.4.0.tar.gz (312kB)\n",
            "\u001b[K     |████████████████████████████████| 317kB 2.7MB/s \n",
            "\u001b[?25hBuilding wheels for collected packages: pyahocorasick\n",
            "  Building wheel for pyahocorasick (setup.py) ... \u001b[?25l\u001b[?25hdone\n",
            "  Created wheel for pyahocorasick: filename=pyahocorasick-1.4.0-cp36-cp36m-linux_x86_64.whl size=81705 sha256=b8120fe62d75586fef56a31cd3853ba1036750c991a9a35aeed4295c91d373df\n",
            "  Stored in directory: /root/.cache/pip/wheels/0a/90/61/87a55f5b459792fbb2b7ba6b31721b06ff5cf6bde541b40994\n",
            "Successfully built pyahocorasick\n",
            "Installing collected packages: pyahocorasick\n",
            "Successfully installed pyahocorasick-1.4.0\n",
            "Collecting fuzzyset\n",
            "\u001b[?25l  Downloading https://files.pythonhosted.org/packages/2e/78/7509f3efbb6acbcf842d7bdbd9a919ca8c0ed248123bdd8c57f08497e0dd/fuzzyset-0.0.19.tar.gz (377kB)\n",
            "\u001b[K     |████████████████████████████████| 378kB 2.6MB/s \n",
            "\u001b[?25hCollecting python-levenshtein (from fuzzyset)\n",
            "\u001b[?25l  Downloading https://files.pythonhosted.org/packages/42/a9/d1785c85ebf9b7dfacd08938dd028209c34a0ea3b1bcdb895208bd40a67d/python-Levenshtein-0.12.0.tar.gz (48kB)\n",
            "\u001b[K     |████████████████████████████████| 51kB 20.6MB/s \n",
            "\u001b[?25hCollecting texttable (from fuzzyset)\n",
            "  Downloading https://files.pythonhosted.org/packages/82/a8/60df592e3a100a1f83928795aca210414d72cebdc6e4e0c95a6d8ac632fe/texttable-1.6.2.tar.gz\n",
            "Requirement already satisfied: setuptools in /usr/local/lib/python3.6/dist-packages (from python-levenshtein->fuzzyset) (41.2.0)\n",
            "Building wheels for collected packages: fuzzyset, python-levenshtein, texttable\n",
            "  Building wheel for fuzzyset (setup.py) ... \u001b[?25l\u001b[?25hdone\n",
            "  Created wheel for fuzzyset: filename=fuzzyset-0.0.19-cp36-cp36m-linux_x86_64.whl size=167530 sha256=773e5e741e0248ad38bc8358facd7074b5bc0195b6527a17d1bf4b4b5e9e96b8\n",
            "  Stored in directory: /root/.cache/pip/wheels/d8/36/9a/8f1cac047c7c3b03dce3d5434ed0088bfd8da8aeca615dfb4c\n",
            "  Building wheel for python-levenshtein (setup.py) ... \u001b[?25l\u001b[?25hdone\n",
            "  Created wheel for python-levenshtein: filename=python_Levenshtein-0.12.0-cp36-cp36m-linux_x86_64.whl size=144671 sha256=85a36dfa51976f6d436690c381e8d4b70b0b814d2f7806e01cdd3be562faf6e4\n",
            "  Stored in directory: /root/.cache/pip/wheels/de/c2/93/660fd5f7559049268ad2dc6d81c4e39e9e36518766eaf7e342\n",
            "  Building wheel for texttable (setup.py) ... \u001b[?25l\u001b[?25hdone\n",
            "  Created wheel for texttable: filename=texttable-1.6.2-cp36-none-any.whl size=10654 sha256=884307bcbc6aa6fe28fd16017a1604d33cfcdabc7df6d5b21fecdd2e9c0a0de4\n",
            "  Stored in directory: /root/.cache/pip/wheels/51/d1/d6/dfbe4eb3c468832f7fbe4bd27f9875fa97277cabed8fb6715c\n",
            "Successfully built fuzzyset python-levenshtein texttable\n",
            "Installing collected packages: python-levenshtein, texttable, fuzzyset\n",
            "Successfully installed fuzzyset-0.0.19 python-levenshtein-0.12.0 texttable-1.6.2\n",
            "[nltk_data] Downloading package punkt to /root/nltk_data...\n",
            "[nltk_data]   Unzipping tokenizers/punkt.zip.\n",
            "importing Jupyter notebook from info_box.ipynb\n",
            "Requirement already satisfied: pyahocorasick in /usr/local/lib/python3.6/dist-packages (1.4.0)\n",
            "Requirement already satisfied: fuzzyset in /usr/local/lib/python3.6/dist-packages (0.0.19)\n",
            "Requirement already satisfied: python-levenshtein in /usr/local/lib/python3.6/dist-packages (from fuzzyset) (0.12.0)\n",
            "Requirement already satisfied: texttable in /usr/local/lib/python3.6/dist-packages (from fuzzyset) (1.6.2)\n",
            "Requirement already satisfied: setuptools in /usr/local/lib/python3.6/dist-packages (from python-levenshtein->fuzzyset) (41.2.0)\n",
            "[nltk_data] Downloading package punkt to /root/nltk_data...\n",
            "[nltk_data]   Package punkt is already up-to-date!\n",
            "Requirement already satisfied: wget in /usr/local/lib/python3.6/dist-packages (3.2)\n",
            "Requirement already satisfied: spacy in /usr/local/lib/python3.6/dist-packages (2.1.8)\n",
            "Requirement already satisfied: wasabi<1.1.0,>=0.2.0 in /usr/local/lib/python3.6/dist-packages (from spacy) (0.2.2)\n",
            "Requirement already satisfied: cymem<2.1.0,>=2.0.2 in /usr/local/lib/python3.6/dist-packages (from spacy) (2.0.2)\n",
            "Requirement already satisfied: blis<0.3.0,>=0.2.2 in /usr/local/lib/python3.6/dist-packages (from spacy) (0.2.4)\n",
            "Requirement already satisfied: plac<1.0.0,>=0.9.6 in /usr/local/lib/python3.6/dist-packages (from spacy) (0.9.6)\n",
            "Requirement already satisfied: murmurhash<1.1.0,>=0.28.0 in /usr/local/lib/python3.6/dist-packages (from spacy) (1.0.2)\n",
            "Requirement already satisfied: thinc<7.1.0,>=7.0.8 in /usr/local/lib/python3.6/dist-packages (from spacy) (7.0.8)\n",
            "Requirement already satisfied: preshed<2.1.0,>=2.0.1 in /usr/local/lib/python3.6/dist-packages (from spacy) (2.0.1)\n",
            "Requirement already satisfied: requests<3.0.0,>=2.13.0 in /usr/local/lib/python3.6/dist-packages (from spacy) (2.21.0)\n",
            "Requirement already satisfied: srsly<1.1.0,>=0.0.6 in /usr/local/lib/python3.6/dist-packages (from spacy) (0.1.0)\n",
            "Requirement already satisfied: numpy>=1.15.0 in /usr/local/lib/python3.6/dist-packages (from spacy) (1.16.5)\n",
            "Requirement already satisfied: tqdm<5.0.0,>=4.10.0 in /usr/local/lib/python3.6/dist-packages (from thinc<7.1.0,>=7.0.8->spacy) (4.28.1)\n",
            "Requirement already satisfied: certifi>=2017.4.17 in /usr/local/lib/python3.6/dist-packages (from requests<3.0.0,>=2.13.0->spacy) (2019.9.11)\n",
            "Requirement already satisfied: urllib3<1.25,>=1.21.1 in /usr/local/lib/python3.6/dist-packages (from requests<3.0.0,>=2.13.0->spacy) (1.24.3)\n",
            "Requirement already satisfied: idna<2.9,>=2.5 in /usr/local/lib/python3.6/dist-packages (from requests<3.0.0,>=2.13.0->spacy) (2.8)\n",
            "Requirement already satisfied: chardet<3.1.0,>=3.0.2 in /usr/local/lib/python3.6/dist-packages (from requests<3.0.0,>=2.13.0->spacy) (3.0.4)\n",
            "Collecting regex\n",
            "\u001b[?25l  Downloading https://files.pythonhosted.org/packages/6f/a6/99eeb5904ab763db87af4bd71d9b1dfdd9792681240657a4c0a599c10a81/regex-2019.08.19.tar.gz (654kB)\n",
            "\u001b[K     |████████████████████████████████| 655kB 2.8MB/s \n",
            "\u001b[?25hBuilding wheels for collected packages: regex\n",
            "  Building wheel for regex (setup.py) ... \u001b[?25l\u001b[?25hdone\n",
            "  Created wheel for regex: filename=regex-2019.8.19-cp36-cp36m-linux_x86_64.whl size=609244 sha256=b6752a7d5ea72f25b1151f85a00999f0e3286ada8c9e0e6ca624607637c79971\n",
            "  Stored in directory: /root/.cache/pip/wheels/90/04/07/b5010fb816721eb3d6dd64ed5cc8111ca23f97fdab8619b5be\n",
            "Successfully built regex\n",
            "Installing collected packages: regex\n",
            "Successfully installed regex-2019.8.19\n",
            "Requirement already satisfied: en_core_web_sm==2.1.0 from https://github.com/explosion/spacy-models/releases/download/en_core_web_sm-2.1.0/en_core_web_sm-2.1.0.tar.gz#egg=en_core_web_sm==2.1.0 in /usr/local/lib/python3.6/dist-packages (2.1.0)\n",
            "\u001b[38;5;2m✔ Download and installation successful\u001b[0m\n",
            "You can now load the model via spacy.load('en_core_web_sm')\n",
            "4\n",
            "queued data\n",
            "workers created\n",
            "0 /wiki/Aleksei_Nikolayevich_Leonov\n",
            "0 /wiki/Cosey_Fanni_Tutti\n",
            "0 /wiki/Adeline_Hazan\n",
            "0 /wiki/Gioele_Del_Giudice\n",
            "workers started\n",
            "Traceback (most recent call last):\n",
            "  File \"<ipython-input-2-537a7bc168df>\", line 73, in getHealthyPages\n",
            "    ners = getEntityPresence(link)\n",
            "  File \"<ipython-input-2-537a7bc168df>\", line 42, in wrapper\n",
            "    return func(url)\n",
            "  File \"<ipython-input-2-537a7bc168df>\", line 54, in getEntityPresence\n",
            "    raise Exception('unable to find a info table in the page')\n",
            "Exception: unable to find a info table in the page\n",
            "\n",
            "1 /wiki/Marko_Jovanovski\n",
            "info card is scraped successfully\n",
            "info card is scraped successfully\n",
            "1 /wiki/Jonathan_Lewis_(oncologist)\n",
            "1 /wiki/Marcos_Val%C3%A9rio\n",
            "info card is scraped successfully\n",
            "1 /wiki/Andy_Scott_(saxophonist_and_composer)\n",
            "info card is scraped successfully\n",
            "2 /wiki/Rinaldi_Firmansyah\n",
            "Traceback (most recent call last):\n",
            "  File \"<ipython-input-2-537a7bc168df>\", line 73, in getHealthyPages\n",
            "    ners = getEntityPresence(link)\n",
            "  File \"<ipython-input-2-537a7bc168df>\", line 42, in wrapper\n",
            "    return func(url)\n",
            "  File \"<ipython-input-2-537a7bc168df>\", line 54, in getEntityPresence\n",
            "    raise Exception('unable to find a info table in the page')\n",
            "Exception: unable to find a info table in the page\n",
            "\n",
            "2 /wiki/Motti_Kakoun\n",
            "info card is scraped successfully\n"
          ],
          "name": "stdout"
        },
        {
          "output_type": "stream",
          "text": [
            "/usr/local/lib/python3.6/dist-packages/pandas/core/frame.py:6692: FutureWarning: Sorting because non-concatenation axis is not aligned. A future version\n",
            "of pandas will change to not sort by default.\n",
            "\n",
            "To accept the future behavior, pass 'sort=False'.\n",
            "\n",
            "To retain the current behavior and silence the warning, pass 'sort=True'.\n",
            "\n",
            "  sort=sort)\n"
          ],
          "name": "stderr"
        },
        {
          "output_type": "stream",
          "text": [
            "Traceback (most recent call last):\n",
            "  File \"<ipython-input-2-537a7bc168df>\", line 73, in getHealthyPages\n",
            "    ners = getEntityPresence(link)\n",
            "  File \"<ipython-input-2-537a7bc168df>\", line 42, in wrapper\n",
            "    return func(url)\n",
            "  File \"<ipython-input-2-537a7bc168df>\", line 54, in getEntityPresence\n",
            "    raise Exception('unable to find a info table in the page')\n",
            "Exception: unable to find a info table in the page\n",
            "\n",
            "2 /wiki/Georg_Harding\n",
            "2 /wiki/Yota_Akimoto\n",
            "Traceback (most recent call last):\n",
            "  File \"<ipython-input-2-537a7bc168df>\", line 73, in getHealthyPages\n",
            "    ners = getEntityPresence(link)\n",
            "  File \"<ipython-input-2-537a7bc168df>\", line 42, in wrapper\n",
            "    return func(url)\n",
            "  File \"<ipython-input-2-537a7bc168df>\", line 54, in getEntityPresence\n",
            "    raise Exception('unable to find a info table in the page')\n",
            "Exception: unable to find a info table in the page\n",
            "\n",
            "3 /wiki/Marija_Ma%C4%8Diulien%C4%97\n",
            "info card is scraped successfully\n"
          ],
          "name": "stdout"
        },
        {
          "output_type": "stream",
          "text": [
            "/usr/local/lib/python3.6/dist-packages/pandas/core/frame.py:6692: FutureWarning: Sorting because non-concatenation axis is not aligned. A future version\n",
            "of pandas will change to not sort by default.\n",
            "\n",
            "To accept the future behavior, pass 'sort=False'.\n",
            "\n",
            "To retain the current behavior and silence the warning, pass 'sort=True'.\n",
            "\n",
            "  sort=sort)\n"
          ],
          "name": "stderr"
        },
        {
          "output_type": "stream",
          "text": [
            "3 /wiki/Sharmili_Ahmed\n",
            "info card is scraped successfully\n"
          ],
          "name": "stdout"
        },
        {
          "output_type": "stream",
          "text": [
            "/usr/local/lib/python3.6/dist-packages/pandas/core/frame.py:6692: FutureWarning: Sorting because non-concatenation axis is not aligned. A future version\n",
            "of pandas will change to not sort by default.\n",
            "\n",
            "To accept the future behavior, pass 'sort=False'.\n",
            "\n",
            "To retain the current behavior and silence the warning, pass 'sort=True'.\n",
            "\n",
            "  sort=sort)\n"
          ],
          "name": "stderr"
        },
        {
          "output_type": "stream",
          "text": [
            "3 /wiki/Galen_Head\n",
            "info card is scraped successfully\n",
            "3 /wiki/Rona_Ambrose\n",
            "Traceback (most recent call last):\n",
            "  File \"<ipython-input-2-537a7bc168df>\", line 73, in getHealthyPages\n",
            "    ners = getEntityPresence(link)\n",
            "  File \"<ipython-input-2-537a7bc168df>\", line 42, in wrapper\n",
            "    return func(url)\n",
            "  File \"<ipython-input-2-537a7bc168df>\", line 54, in getEntityPresence\n",
            "    raise Exception('unable to find a info table in the page')\n",
            "Exception: unable to find a info table in the page\n",
            "\n",
            "4 /wiki/Hana_Kobayashi\n",
            "info card is scraped successfully\n",
            "4 /wiki/Nicolas_Beer\n",
            "info card is scraped successfully\n",
            "info card is scraped successfully\n"
          ],
          "name": "stdout"
        },
        {
          "output_type": "stream",
          "text": [
            "/usr/local/lib/python3.6/dist-packages/pandas/core/frame.py:6692: FutureWarning: Sorting because non-concatenation axis is not aligned. A future version\n",
            "of pandas will change to not sort by default.\n",
            "\n",
            "To accept the future behavior, pass 'sort=False'.\n",
            "\n",
            "To retain the current behavior and silence the warning, pass 'sort=True'.\n",
            "\n",
            "  sort=sort)\n"
          ],
          "name": "stderr"
        },
        {
          "output_type": "stream",
          "text": [
            "5 /wiki/Zoran_Stojcevski\n",
            "4 /wiki/Hans_H._Bass\n",
            "info card is scraped successfully\n",
            "4 /wiki/Adrienne_Pauly\n",
            "info card is scraped successfully\n",
            "5 /wiki/Martin_Heb%C3%ADk\n",
            "info card is scraped successfully\n",
            "6 /wiki/George_Ogan\n",
            "info card is scraped successfully\n",
            "5 /wiki/Lee_In-je\n",
            "info card is scraped successfully\n",
            "5 /wiki/Nicolas_Princen\n",
            "info card is scraped successfully\n",
            "info card is scraped successfully\n",
            "6 /wiki/Doris_Karpiel\n",
            "6 /wiki/Rick_Hayes-Roth\n",
            "info card is scraped successfully\n",
            "7 /wiki/Bharti_Kher\n",
            "Traceback (most recent call last):\n",
            "  File \"<ipython-input-2-537a7bc168df>\", line 73, in getHealthyPages\n",
            "    ners = getEntityPresence(link)\n",
            "  File \"<ipython-input-2-537a7bc168df>\", line 42, in wrapper\n",
            "    return func(url)\n",
            "  File \"<ipython-input-2-537a7bc168df>\", line 54, in getEntityPresence\n",
            "    raise Exception('unable to find a info table in the page')\n",
            "Exception: unable to find a info table in the page\n",
            "\n",
            "6 /wiki/Vivian_Zahl_Olsen\n",
            "Traceback (most recent call last):\n",
            "  File \"<ipython-input-2-537a7bc168df>\", line 73, in getHealthyPages\n",
            "    ners = getEntityPresence(link)\n",
            "  File \"<ipython-input-2-537a7bc168df>\", line 42, in wrapper\n",
            "    return func(url)\n",
            "  File \"<ipython-input-2-537a7bc168df>\", line 54, in getEntityPresence\n",
            "    raise Exception('unable to find a info table in the page')\n",
            "Exception: unable to find a info table in the page\n",
            "\n",
            "7 /wiki/Roy_Takumi\n",
            "info card is scraped successfully\n",
            "8 /wiki/Yoav_Talmi\n",
            "info card is scraped successfully\n",
            "7 /wiki/Yuji_Kasama\n",
            "Traceback (most recent call last):\n",
            "  File \"<ipython-input-2-537a7bc168df>\", line 73, in getHealthyPages\n",
            "    ners = getEntityPresence(link)\n",
            "  File \"<ipython-input-2-537a7bc168df>\", line 42, in wrapper\n",
            "    return func(url)\n",
            "  File \"<ipython-input-2-537a7bc168df>\", line 54, in getEntityPresence\n",
            "    raise Exception('unable to find a info table in the page')\n",
            "Exception: unable to find a info table in the page\n",
            "\n",
            "7 /wiki/Marcus_Keyes\n",
            "info card is scraped successfully\n",
            "8 /wiki/Bryant_Dunston\n",
            "info card is scraped successfully\n",
            "8 /wiki/Yasser_Mahmoud\n",
            "Traceback (most recent call last):\n",
            "  File \"<ipython-input-2-537a7bc168df>\", line 73, in getHealthyPages\n",
            "    ners = getEntityPresence(link)\n",
            "  File \"<ipython-input-2-537a7bc168df>\", line 42, in wrapper\n",
            "    return func(url)\n",
            "  File \"<ipython-input-2-537a7bc168df>\", line 54, in getEntityPresence\n",
            "    raise Exception('unable to find a info table in the page')\n",
            "Exception: unable to find a info table in the page\n",
            "\n",
            "9 /wiki/Shohei_Hashimoto\n",
            "info card is scraped successfully\n",
            "8 /wiki/Bud_Heidgerken\n",
            "info card is scraped successfully\n",
            "9 /wiki/Marelisa_Gibson\n",
            "info card is scraped successfully\n",
            "saved file: ners_found_frame_1.csv\n",
            "info card is scraped successfully\n",
            "9 /wiki/Ine_Poppe\n",
            "info card is scraped successfully\n",
            "9 /wiki/Harry_Melrose\n",
            "info card is scraped successfully\n",
            "saved file: ners_found_frame_3.csv\n",
            "Traceback (most recent call last):\n",
            "  File \"<ipython-input-2-537a7bc168df>\", line 73, in getHealthyPages\n",
            "    ners = getEntityPresence(link)\n",
            "  File \"<ipython-input-2-537a7bc168df>\", line 42, in wrapper\n",
            "    return func(url)\n",
            "  File \"<ipython-input-2-537a7bc168df>\", line 54, in getEntityPresence\n",
            "    raise Exception('unable to find a info table in the page')\n",
            "Exception: unable to find a info table in the page\n",
            "\n",
            "saved file: ners_found_frame_0.csv\n",
            "info card is scraped successfully\n",
            "saved file: ners_found_frame_2.csv\n",
            "all items in in_queue are done processed by workers\n",
            "done saving data frames to the disk\n",
            "11.19615593399999\n"
          ],
          "name": "stdout"
        }
      ]
    },
    {
      "cell_type": "markdown",
      "metadata": {
        "id": "ZkdUFkfwGsrh",
        "colab_type": "text"
      },
      "source": [
        "# Scoring pages and choosing the best ones\n"
      ]
    },
    {
      "cell_type": "markdown",
      "metadata": {
        "id": "EeWhx6_4Yf5Z",
        "colab_type": "text"
      },
      "source": [
        "## selecting the row names to be scored"
      ]
    },
    {
      "cell_type": "code",
      "metadata": {
        "id": "8p68dnSMVsJY",
        "colab_type": "code",
        "colab": {}
      },
      "source": [
        "#filter the row entry\n",
        "def rowEntryFilter(lst):\n",
        "    entries = set()\n",
        "#     reg = re.compile('[0-9]+$', re.MULTILINE)\n",
        "#     reg = re.compile('')\n",
        "#     reg = re.compile('[0-9*]')\n",
        "    for entry in lst:\n",
        "#         match = reg.match(entry)\n",
        "        if any(d in entry for d in'0123456789'): # remove the clutter a bit by removing rows with digits\n",
        "            print(entry)\n",
        "            continue  \n",
        "        entries.add(entry)\n",
        "    return entries"
      ],
      "execution_count": 0,
      "outputs": []
    },
    {
      "cell_type": "code",
      "metadata": {
        "id": "dZu-HFwq3ZEx",
        "colab_type": "code",
        "colab": {}
      },
      "source": [
        "import tarfile\n",
        "if not os.path.exists('900k_living_people_ner_presence.tar.gz'):\n",
        "    wget.download('https://github.com/ratmcu/wiki_ner/blob/master/900k_living_people_ner_presence.tar.gz?raw=true')\n",
        "tar = tarfile.open('900k_living_people_ner_presence.tar.gz', mode='r')\n",
        "tar.extractall('./900k_living_people_ner_presence')\n",
        "tar.close()"
      ],
      "execution_count": 0,
      "outputs": []
    },
    {
      "cell_type": "code",
      "metadata": {
        "id": "GbtsuBilvAqd",
        "colab_type": "code",
        "colab": {}
      },
      "source": [
        "paths = sorted([os.path.join(f[0], name) for f in os.walk('./900k_living_people_ner_presence') \n",
        "                if len(f[2])!=0 for name in f[2] if os.path.splitext(name)[-1] == '.csv'],\n",
        "               key=lambda path: int(path.split('_')[-1].split('.')[0]))"
      ],
      "execution_count": 0,
      "outputs": []
    },
    {
      "cell_type": "code",
      "metadata": {
        "id": "NJ_mAvaRbC9F",
        "colab_type": "code",
        "colab": {}
      },
      "source": [
        "paths = sorted([os.path.join(f[0], name) for f in os.walk('./900k_living_people_ner_presence') \n",
        "                if len(f[2])!=0 for name in f[2] if os.path.splitext(name)[-1] == '.csv'],\n",
        "               key=lambda path: int(path.split('_')[-1].split('.')[0]))\n",
        "paths = paths[:8201]\n",
        "# int(paths[0].split('_')[-1].split('.')[0])\n",
        "# presence_frames_raw =  pd.DataFrame()\n",
        "entity_rows = set()\n",
        "for path in paths:\n",
        "#     df = pd.read_csv(path).fillna(0)\n",
        "    df = pd.read_csv(path)\n",
        "    entity_rows.update(df.columns.tolist())\n",
        "#     presence_frames_raw = presence_frames_raw.append(df,ignore_index = True)\n",
        "# presence_frames_raw = presence_frames_raw.fillna(0)\n",
        "# 'Home\\xa0town' in set(presence_frames_raw.columns.tolist())"
      ],
      "execution_count": 0,
      "outputs": []
    },
    {
      "cell_type": "code",
      "metadata": {
        "id": "iOFyBZjrebqd",
        "colab_type": "code",
        "colab": {}
      },
      "source": [
        "ss = rowEntryFilter(entity_rows)\n",
        "with open('entity_rows.pkl', 'wb') as f:\n",
        "    pickle.dump(ss, f)"
      ],
      "execution_count": 0,
      "outputs": []
    },
    {
      "cell_type": "code",
      "metadata": {
        "id": "e_o_kdj1eoAT",
        "colab_type": "code",
        "colab": {}
      },
      "source": [
        "if not os.path.exists('entity_rows.pkl'):\n",
        "    wget.download('https://github.com/ratmcu/wiki_ner/blob/master/entity_rows.pkl?raw=true')\n",
        "with open('entity_rows.pkl', 'rb') as f:\n",
        "    ss = pickle.load(f)\n",
        "fltrd = rowEntryFilter(ss)\n",
        "with open('entity_rows.txt', 'w') as f:\n",
        "    for entry in fltrd:\n",
        "        f.writelines(entry+'\\n')"
      ],
      "execution_count": 0,
      "outputs": []
    },
    {
      "cell_type": "code",
      "metadata": {
        "id": "KAGesD4bZIGS",
        "colab_type": "code",
        "colab": {
          "base_uri": "https://localhost:8080/",
          "height": 604
        },
        "outputId": "2d22b2ad-25a4-4e7e-8de3-b2f03e28f00f"
      },
      "source": [
        "#if the rows mentioned in the following text following exists in a link score of one is given to each presence\n",
        "if not os.path.exists('selected_entity_rows.txt'):\n",
        "    wget.download('https://github.com/ratmcu/wiki_ner/blob/master/selected_entity_rows.txt?raw=true')\n",
        "selected_entity_rows = open('selected_entity_rows.txt', 'r').read().splitlines()\n",
        "selected_entity_rows = set(selected_entity_rows)\n",
        "selected_entity_rows.add('Alma\\xa0mater')\n",
        "selected_entity_rows\n",
        "# chosen_entity_rows = {'Alma mater', 'Alma\\xa0mater', 'Born', 'Born:', \n",
        "#                 'College', 'Education','Parent(s)', 'Parents',\n",
        "#                 'High school', 'High school:', 'Spouse(s)',\n",
        "#                 'Place of birth', }\n"
      ],
      "execution_count": 34,
      "outputs": [
        {
          "output_type": "execute_result",
          "data": {
            "text/plain": [
              "{'Alma mater',\n",
              " 'Alma\\\\xa0mater',\n",
              " 'Almat mater',\n",
              " 'Alma\\xa0mater',\n",
              " 'Birth name',\n",
              " 'Born',\n",
              " 'Born:',\n",
              " 'Children',\n",
              " 'College',\n",
              " 'College(s)',\n",
              " 'Colleges',\n",
              " 'Date of birth',\n",
              " 'Education',\n",
              " 'Father',\n",
              " 'Father’s name',\n",
              " 'Full name',\n",
              " 'High school',\n",
              " 'High school:',\n",
              " 'Home town',\n",
              " 'Law School',\n",
              " 'Mother',\n",
              " 'Mother’s name',\n",
              " 'Name',\n",
              " 'Name(s)',\n",
              " 'Parent',\n",
              " 'Parent(s)',\n",
              " 'Parents',\n",
              " 'Place of birth',\n",
              " 'School',\n",
              " 'Schools',\n",
              " 'Spouse',\n",
              " 'Spouse(s)',\n",
              " 'Spouses'}"
            ]
          },
          "metadata": {
            "tags": []
          },
          "execution_count": 34
        }
      ]
    },
    {
      "cell_type": "code",
      "metadata": {
        "id": "V_i-9sTyR1-f",
        "colab_type": "code",
        "outputId": "bcda3f7a-7258-44b9-db07-8b4cef931650",
        "colab": {
          "base_uri": "https://localhost:8080/",
          "height": 1000
        }
      },
      "source": [
        "def scorePages(page_summary):\n",
        "    '''Give a score to each entry by the columns with the ones'''\n",
        "    score_list = []\n",
        "#     selected_entity_rows = {'Alma mater', 'Alma\\xa0mater', 'Born', 'Born:', \n",
        "#                 'College', 'Education','Parent(s)', 'Parents',\n",
        "#                 'High school', 'High school:', 'Spouse(s)',\n",
        "#                 'Place of birth'}\n",
        "    \n",
        "    for idx, row in enumerate(page_summary.iterrows()):\n",
        "        frame = row[1]\n",
        "        score = 0\n",
        "        for key in frame.keys():\n",
        "            if key in {'link'}:\n",
        "                continue\n",
        "#             print(frame[key],key)\n",
        "            elif key in selected_entity_rows:\n",
        "                score = score + frame[key]\n",
        "# #         score_df = score_df.append(pd.DataFrame({'index': [idx], 'score':score, 'NAME': name }))\n",
        "# #         score_df = score_df.append(pd.DataFrame({'INDEX': [idx], 'SCORE':score }))    \n",
        "        score_list.append(score)\n",
        "    return pd.DataFrame({'SCORE': score_list })\n",
        "\n",
        "# paths = paths[:101]\n",
        "paths = paths[:8201]\n",
        "presence_score_df =  pd.DataFrame()\n",
        "for path in paths:\n",
        "    df = pd.read_csv(path).fillna(0).iloc[:,1:]\n",
        "#     print(df['link'])\n",
        "    df = pd.DataFrame({'LINK': df['link'] }).assign(SCORE=scorePages(df))\n",
        "    presence_score_df = presence_score_df.append(df, ignore_index = True)\n",
        "presence_score_df = presence_score_df.sort_values(by='SCORE', ascending = False)\n",
        "# presence_frames.to_csv('presence_frames.csv')\n",
        "# presence_frames.drop_duplicates(subset='link')\n",
        "# from inspect import currentframe, getsourcelines, getframeinfo\n",
        "# frameinfo  = getframeinfo(currentframe())\n",
        "# framelines = getsourcelines(currentframe())\n",
        "# ll = [print(line[:-1]) for line in framelines[0]]"
      ],
      "execution_count": 46,
      "outputs": [
        {
          "output_type": "execute_result",
          "data": {
            "text/html": [
              "<div>\n",
              "<style scoped>\n",
              "    .dataframe tbody tr th:only-of-type {\n",
              "        vertical-align: middle;\n",
              "    }\n",
              "\n",
              "    .dataframe tbody tr th {\n",
              "        vertical-align: top;\n",
              "    }\n",
              "\n",
              "    .dataframe thead th {\n",
              "        text-align: right;\n",
              "    }\n",
              "</style>\n",
              "<table border=\"1\" class=\"dataframe\">\n",
              "  <thead>\n",
              "    <tr style=\"text-align: right;\">\n",
              "      <th></th>\n",
              "      <th>LINK</th>\n",
              "      <th>SCORE</th>\n",
              "    </tr>\n",
              "  </thead>\n",
              "  <tbody>\n",
              "    <tr>\n",
              "      <th>492033</th>\n",
              "      <td>/wiki/Carl_Roberts_(diplomat)</td>\n",
              "      <td>7.0</td>\n",
              "    </tr>\n",
              "    <tr>\n",
              "      <th>447143</th>\n",
              "      <td>/wiki/Unmesh_Bhaiyyasaheb_Patil</td>\n",
              "      <td>7.0</td>\n",
              "    </tr>\n",
              "    <tr>\n",
              "      <th>57362</th>\n",
              "      <td>/wiki/Kantilal_Bhuria</td>\n",
              "      <td>7.0</td>\n",
              "    </tr>\n",
              "    <tr>\n",
              "      <th>113842</th>\n",
              "      <td>/wiki/Stephen_Colbert</td>\n",
              "      <td>7.0</td>\n",
              "    </tr>\n",
              "    <tr>\n",
              "      <th>517476</th>\n",
              "      <td>/wiki/Rubab_Sayda</td>\n",
              "      <td>7.0</td>\n",
              "    </tr>\n",
              "    <tr>\n",
              "      <th>379451</th>\n",
              "      <td>/wiki/Kees_Meeuws</td>\n",
              "      <td>7.0</td>\n",
              "    </tr>\n",
              "    <tr>\n",
              "      <th>366569</th>\n",
              "      <td>/wiki/Basori_Singh_Masram</td>\n",
              "      <td>7.0</td>\n",
              "    </tr>\n",
              "    <tr>\n",
              "      <th>554273</th>\n",
              "      <td>/wiki/Craig_Roberts_Stapleton</td>\n",
              "      <td>7.0</td>\n",
              "    </tr>\n",
              "    <tr>\n",
              "      <th>259761</th>\n",
              "      <td>/wiki/Tamim_Iqbal</td>\n",
              "      <td>7.0</td>\n",
              "    </tr>\n",
              "    <tr>\n",
              "      <th>229581</th>\n",
              "      <td>/wiki/Mark_Harmon</td>\n",
              "      <td>7.0</td>\n",
              "    </tr>\n",
              "    <tr>\n",
              "      <th>476915</th>\n",
              "      <td>/wiki/Gajendra_Singh_Rajukhedi</td>\n",
              "      <td>7.0</td>\n",
              "    </tr>\n",
              "    <tr>\n",
              "      <th>446665</th>\n",
              "      <td>/wiki/Gajendra_Patel</td>\n",
              "      <td>7.0</td>\n",
              "    </tr>\n",
              "    <tr>\n",
              "      <th>131545</th>\n",
              "      <td>/wiki/William_Legge,_10th_Earl_of_Dartmouth</td>\n",
              "      <td>7.0</td>\n",
              "    </tr>\n",
              "    <tr>\n",
              "      <th>539684</th>\n",
              "      <td>/wiki/Ajay_Arjun_Singh</td>\n",
              "      <td>7.0</td>\n",
              "    </tr>\n",
              "    <tr>\n",
              "      <th>333869</th>\n",
              "      <td>/wiki/Christopher_Lewis_(priest)</td>\n",
              "      <td>7.0</td>\n",
              "    </tr>\n",
              "    <tr>\n",
              "      <th>243828</th>\n",
              "      <td>/wiki/Ho_Kah_Leong</td>\n",
              "      <td>7.0</td>\n",
              "    </tr>\n",
              "    <tr>\n",
              "      <th>135896</th>\n",
              "      <td>/wiki/Victor_de_Waal</td>\n",
              "      <td>7.0</td>\n",
              "    </tr>\n",
              "    <tr>\n",
              "      <th>137451</th>\n",
              "      <td>/wiki/George_R._Dekle_Sr.</td>\n",
              "      <td>6.0</td>\n",
              "    </tr>\n",
              "    <tr>\n",
              "      <th>163611</th>\n",
              "      <td>/wiki/Harry_Enfield</td>\n",
              "      <td>6.0</td>\n",
              "    </tr>\n",
              "    <tr>\n",
              "      <th>288596</th>\n",
              "      <td>/wiki/Nicolas_Kazadi</td>\n",
              "      <td>6.0</td>\n",
              "    </tr>\n",
              "    <tr>\n",
              "      <th>127292</th>\n",
              "      <td>/wiki/Alastair_Cutting</td>\n",
              "      <td>6.0</td>\n",
              "    </tr>\n",
              "    <tr>\n",
              "      <th>83358</th>\n",
              "      <td>/wiki/William_Cavendish,_Earl_of_Burlington</td>\n",
              "      <td>6.0</td>\n",
              "    </tr>\n",
              "    <tr>\n",
              "      <th>460376</th>\n",
              "      <td>/wiki/Mar%C3%ADa_Luisa_Piraquive</td>\n",
              "      <td>6.0</td>\n",
              "    </tr>\n",
              "    <tr>\n",
              "      <th>225339</th>\n",
              "      <td>/wiki/James_Hambro</td>\n",
              "      <td>6.0</td>\n",
              "    </tr>\n",
              "    <tr>\n",
              "      <th>403067</th>\n",
              "      <td>/wiki/Bona_Mugabe</td>\n",
              "      <td>6.0</td>\n",
              "    </tr>\n",
              "    <tr>\n",
              "      <th>362876</th>\n",
              "      <td>/wiki/Sean_Marsden</td>\n",
              "      <td>6.0</td>\n",
              "    </tr>\n",
              "    <tr>\n",
              "      <th>245268</th>\n",
              "      <td>/wiki/Stuart_Hogg</td>\n",
              "      <td>6.0</td>\n",
              "    </tr>\n",
              "    <tr>\n",
              "      <th>83370</th>\n",
              "      <td>/wiki/Anand_Burman</td>\n",
              "      <td>6.0</td>\n",
              "    </tr>\n",
              "    <tr>\n",
              "      <th>192423</th>\n",
              "      <td>/wiki/Varun_Gandhi</td>\n",
              "      <td>6.0</td>\n",
              "    </tr>\n",
              "    <tr>\n",
              "      <th>286594</th>\n",
              "      <td>/wiki/Sam_Kass</td>\n",
              "      <td>6.0</td>\n",
              "    </tr>\n",
              "    <tr>\n",
              "      <th>...</th>\n",
              "      <td>...</td>\n",
              "      <td>...</td>\n",
              "    </tr>\n",
              "    <tr>\n",
              "      <th>490182</th>\n",
              "      <td>/wiki/Taru_Rinne</td>\n",
              "      <td>0.0</td>\n",
              "    </tr>\n",
              "    <tr>\n",
              "      <th>325239</th>\n",
              "      <td>/wiki/Marc_Laviolette</td>\n",
              "      <td>0.0</td>\n",
              "    </tr>\n",
              "    <tr>\n",
              "      <th>539454</th>\n",
              "      <td>/wiki/Colin_Sinclair_(minister)</td>\n",
              "      <td>0.0</td>\n",
              "    </tr>\n",
              "    <tr>\n",
              "      <th>241942</th>\n",
              "      <td>/wiki/Chris_Hill_(athletic_director)</td>\n",
              "      <td>0.0</td>\n",
              "    </tr>\n",
              "    <tr>\n",
              "      <th>490169</th>\n",
              "      <td>/wiki/Rinku_(athlete)</td>\n",
              "      <td>0.0</td>\n",
              "    </tr>\n",
              "    <tr>\n",
              "      <th>490171</th>\n",
              "      <td>/wiki/Hans_Rinn</td>\n",
              "      <td>0.0</td>\n",
              "    </tr>\n",
              "    <tr>\n",
              "      <th>539445</th>\n",
              "      <td>/wiki/Bruce_Sinclair_(politician)</td>\n",
              "      <td>0.0</td>\n",
              "    </tr>\n",
              "    <tr>\n",
              "      <th>60325</th>\n",
              "      <td>/wiki/Yaqoob_Bizanjo</td>\n",
              "      <td>0.0</td>\n",
              "    </tr>\n",
              "    <tr>\n",
              "      <th>60327</th>\n",
              "      <td>/wiki/Scott_Bizar</td>\n",
              "      <td>0.0</td>\n",
              "    </tr>\n",
              "    <tr>\n",
              "      <th>403026</th>\n",
              "      <td>/wiki/Simone_Muench</td>\n",
              "      <td>0.0</td>\n",
              "    </tr>\n",
              "    <tr>\n",
              "      <th>60338</th>\n",
              "      <td>/wiki/Tahir_Bizenjo</td>\n",
              "      <td>0.0</td>\n",
              "    </tr>\n",
              "    <tr>\n",
              "      <th>241972</th>\n",
              "      <td>/wiki/Dalonte_Hill</td>\n",
              "      <td>0.0</td>\n",
              "    </tr>\n",
              "    <tr>\n",
              "      <th>325201</th>\n",
              "      <td>/wiki/Dru_Lavigne</td>\n",
              "      <td>0.0</td>\n",
              "    </tr>\n",
              "    <tr>\n",
              "      <th>156747</th>\n",
              "      <td>/wiki/Warwick_Dyer</td>\n",
              "      <td>0.0</td>\n",
              "    </tr>\n",
              "    <tr>\n",
              "      <th>156737</th>\n",
              "      <td>/wiki/Rick_Dyer_(Bigfoot)</td>\n",
              "      <td>0.0</td>\n",
              "    </tr>\n",
              "    <tr>\n",
              "      <th>325151</th>\n",
              "      <td>/wiki/Ga%C3%ABtan_Lavertu</td>\n",
              "      <td>0.0</td>\n",
              "    </tr>\n",
              "    <tr>\n",
              "      <th>403036</th>\n",
              "      <td>/wiki/John_Muether</td>\n",
              "      <td>0.0</td>\n",
              "    </tr>\n",
              "    <tr>\n",
              "      <th>60363</th>\n",
              "      <td>/wiki/Piers_Bizony</td>\n",
              "      <td>0.0</td>\n",
              "    </tr>\n",
              "    <tr>\n",
              "      <th>60366</th>\n",
              "      <td>/wiki/H%C3%A9l%C3%A8ne_Bizot</td>\n",
              "      <td>0.0</td>\n",
              "    </tr>\n",
              "    <tr>\n",
              "      <th>156732</th>\n",
              "      <td>/wiki/Nick_Dyer</td>\n",
              "      <td>0.0</td>\n",
              "    </tr>\n",
              "    <tr>\n",
              "      <th>403040</th>\n",
              "      <td>/wiki/Tafadzwa_Mufambisi</td>\n",
              "      <td>0.0</td>\n",
              "    </tr>\n",
              "    <tr>\n",
              "      <th>539415</th>\n",
              "      <td>/wiki/Valerie_Sinason</td>\n",
              "      <td>0.0</td>\n",
              "    </tr>\n",
              "    <tr>\n",
              "      <th>490194</th>\n",
              "      <td>/wiki/Dennis_Rinsler</td>\n",
              "      <td>0.0</td>\n",
              "    </tr>\n",
              "    <tr>\n",
              "      <th>490195</th>\n",
              "      <td>/wiki/Teemu_Rintala</td>\n",
              "      <td>0.0</td>\n",
              "    </tr>\n",
              "    <tr>\n",
              "      <th>60391</th>\n",
              "      <td>/wiki/Gu%C3%B0r%C3%BAn_Bjarnad%C3%B3ttir</td>\n",
              "      <td>0.0</td>\n",
              "    </tr>\n",
              "    <tr>\n",
              "      <th>403050</th>\n",
              "      <td>/wiki/Simen_Muffetangen</td>\n",
              "      <td>0.0</td>\n",
              "    </tr>\n",
              "    <tr>\n",
              "      <th>156717</th>\n",
              "      <td>/wiki/Janet_Elizabeth_Dyer</td>\n",
              "      <td>0.0</td>\n",
              "    </tr>\n",
              "    <tr>\n",
              "      <th>490201</th>\n",
              "      <td>/wiki/Brigitte_Rintisch</td>\n",
              "      <td>0.0</td>\n",
              "    </tr>\n",
              "    <tr>\n",
              "      <th>446384</th>\n",
              "      <td>/wiki/Beth_Pasternak</td>\n",
              "      <td>0.0</td>\n",
              "    </tr>\n",
              "    <tr>\n",
              "      <th>0</th>\n",
              "      <td>/wiki/2_Chainz</td>\n",
              "      <td>0.0</td>\n",
              "    </tr>\n",
              "  </tbody>\n",
              "</table>\n",
              "<p>569849 rows × 2 columns</p>\n",
              "</div>"
            ],
            "text/plain": [
              "                                               LINK  SCORE\n",
              "492033                /wiki/Carl_Roberts_(diplomat)    7.0\n",
              "447143              /wiki/Unmesh_Bhaiyyasaheb_Patil    7.0\n",
              "57362                         /wiki/Kantilal_Bhuria    7.0\n",
              "113842                        /wiki/Stephen_Colbert    7.0\n",
              "517476                            /wiki/Rubab_Sayda    7.0\n",
              "379451                            /wiki/Kees_Meeuws    7.0\n",
              "366569                    /wiki/Basori_Singh_Masram    7.0\n",
              "554273                /wiki/Craig_Roberts_Stapleton    7.0\n",
              "259761                            /wiki/Tamim_Iqbal    7.0\n",
              "229581                            /wiki/Mark_Harmon    7.0\n",
              "476915               /wiki/Gajendra_Singh_Rajukhedi    7.0\n",
              "446665                         /wiki/Gajendra_Patel    7.0\n",
              "131545  /wiki/William_Legge,_10th_Earl_of_Dartmouth    7.0\n",
              "539684                       /wiki/Ajay_Arjun_Singh    7.0\n",
              "333869             /wiki/Christopher_Lewis_(priest)    7.0\n",
              "243828                           /wiki/Ho_Kah_Leong    7.0\n",
              "135896                         /wiki/Victor_de_Waal    7.0\n",
              "137451                    /wiki/George_R._Dekle_Sr.    6.0\n",
              "163611                          /wiki/Harry_Enfield    6.0\n",
              "288596                         /wiki/Nicolas_Kazadi    6.0\n",
              "127292                       /wiki/Alastair_Cutting    6.0\n",
              "83358   /wiki/William_Cavendish,_Earl_of_Burlington    6.0\n",
              "460376             /wiki/Mar%C3%ADa_Luisa_Piraquive    6.0\n",
              "225339                           /wiki/James_Hambro    6.0\n",
              "403067                            /wiki/Bona_Mugabe    6.0\n",
              "362876                           /wiki/Sean_Marsden    6.0\n",
              "245268                            /wiki/Stuart_Hogg    6.0\n",
              "83370                            /wiki/Anand_Burman    6.0\n",
              "192423                           /wiki/Varun_Gandhi    6.0\n",
              "286594                               /wiki/Sam_Kass    6.0\n",
              "...                                             ...    ...\n",
              "490182                             /wiki/Taru_Rinne    0.0\n",
              "325239                        /wiki/Marc_Laviolette    0.0\n",
              "539454              /wiki/Colin_Sinclair_(minister)    0.0\n",
              "241942         /wiki/Chris_Hill_(athletic_director)    0.0\n",
              "490169                        /wiki/Rinku_(athlete)    0.0\n",
              "490171                              /wiki/Hans_Rinn    0.0\n",
              "539445            /wiki/Bruce_Sinclair_(politician)    0.0\n",
              "60325                          /wiki/Yaqoob_Bizanjo    0.0\n",
              "60327                             /wiki/Scott_Bizar    0.0\n",
              "403026                          /wiki/Simone_Muench    0.0\n",
              "60338                           /wiki/Tahir_Bizenjo    0.0\n",
              "241972                           /wiki/Dalonte_Hill    0.0\n",
              "325201                            /wiki/Dru_Lavigne    0.0\n",
              "156747                           /wiki/Warwick_Dyer    0.0\n",
              "156737                    /wiki/Rick_Dyer_(Bigfoot)    0.0\n",
              "325151                    /wiki/Ga%C3%ABtan_Lavertu    0.0\n",
              "403036                           /wiki/John_Muether    0.0\n",
              "60363                            /wiki/Piers_Bizony    0.0\n",
              "60366                  /wiki/H%C3%A9l%C3%A8ne_Bizot    0.0\n",
              "156732                              /wiki/Nick_Dyer    0.0\n",
              "403040                     /wiki/Tafadzwa_Mufambisi    0.0\n",
              "539415                        /wiki/Valerie_Sinason    0.0\n",
              "490194                         /wiki/Dennis_Rinsler    0.0\n",
              "490195                          /wiki/Teemu_Rintala    0.0\n",
              "60391      /wiki/Gu%C3%B0r%C3%BAn_Bjarnad%C3%B3ttir    0.0\n",
              "403050                      /wiki/Simen_Muffetangen    0.0\n",
              "156717                   /wiki/Janet_Elizabeth_Dyer    0.0\n",
              "490201                      /wiki/Brigitte_Rintisch    0.0\n",
              "446384                         /wiki/Beth_Pasternak    0.0\n",
              "0                                    /wiki/2_Chainz    0.0\n",
              "\n",
              "[569849 rows x 2 columns]"
            ]
          },
          "metadata": {
            "tags": []
          },
          "execution_count": 46
        }
      ]
    },
    {
      "cell_type": "code",
      "metadata": {
        "id": "UEdv54Py2ar5",
        "colab_type": "code",
        "colab": {}
      },
      "source": [
        "presence_score_df.to_csv('entity_presence_score.csv')"
      ],
      "execution_count": 0,
      "outputs": []
    },
    {
      "cell_type": "code",
      "metadata": {
        "id": "Qp5JOXPTY_5C",
        "colab_type": "code",
        "colab": {}
      },
      "source": [
        "if not os.path.exists('entity_presence_score.csv'):\n",
        "    wget.download('https://github.com/ratmcu/wiki_ner/blob/master/entity_presence_score.csv?raw=true')\n",
        "#sanity check of the score csv\n",
        "# for path in paths:\n",
        "#     df = pd.read_csv(path)\n",
        "#TBD whole sanity check is ambigous due to missing links in the middle, \n",
        "#so a dummy frame per every failed page has to be inserted for clarity\n",
        "entity_presence_score_df = pd.read_csv('entity_presence_score.csv')\n",
        "# sanity_check_samples_1 = entity_presence_score_df.sample(n=10)\n",
        "# print(sanity_check_samples_1.iloc[:,0].iloc[0], sanity_check_samples_1.iloc[:,1].iloc[0])\n",
        "# print(sanity_check_samples_1.iloc[0]['LINK'], sanity_check_samples_1.iloc[0][0])\n",
        "# sanity_check_samples_2 = pd.read_csv(paths[sanity_check_samples_1.iloc[0][0]//100])\n",
        "# print(sanity_check_samples_2.iloc[sanity_check_samples_1.iloc[0][0]%100]['link'])"
      ],
      "execution_count": 0,
      "outputs": []
    },
    {
      "cell_type": "code",
      "metadata": {
        "id": "GMuihSks6Tj_",
        "colab_type": "code",
        "colab": {
          "base_uri": "https://localhost:8080/",
          "height": 287
        },
        "outputId": "9facb9e7-245b-4958-b780-feab0e267cdc"
      },
      "source": [
        "import matplotlib.pyplot as plt\n",
        "entity_presence_score_df.iloc[:,1:].plot.hist(by='SCORE',bins=7)\n",
        "# entity_presence_score_df.plot.hist(by='SCORE',bins = max(entity_presence_score_df['SCORE']), alpha=0.5)"
      ],
      "execution_count": 52,
      "outputs": [
        {
          "output_type": "execute_result",
          "data": {
            "text/plain": [
              "<matplotlib.axes._subplots.AxesSubplot at 0x7f7a7d5b72e8>"
            ]
          },
          "metadata": {
            "tags": []
          },
          "execution_count": 52
        },
        {
          "output_type": "display_data",
          "data": {
            "image/png": "[encoded data removed]",
            "text/plain": [
              "<Figure size 432x288 with 1 Axes>"
            ]
          },
          "metadata": {
            "tags": []
          }
        }
      ]
    },
    {
      "cell_type": "code",
      "metadata": {
        "id": "gvs6MPndC7MQ",
        "colab_type": "code",
        "colab": {
          "base_uri": "https://localhost:8080/",
          "height": 321
        },
        "outputId": "267189ad-af13-4c7b-cbf5-2d308233f3af"
      },
      "source": [
        "entity_presence_score_df.iloc[:,1:].groupby('SCORE').count()"
      ],
      "execution_count": 55,
      "outputs": [
        {
          "output_type": "execute_result",
          "data": {
            "text/html": [
              "<div>\n",
              "<style scoped>\n",
              "    .dataframe tbody tr th:only-of-type {\n",
              "        vertical-align: middle;\n",
              "    }\n",
              "\n",
              "    .dataframe tbody tr th {\n",
              "        vertical-align: top;\n",
              "    }\n",
              "\n",
              "    .dataframe thead th {\n",
              "        text-align: right;\n",
              "    }\n",
              "</style>\n",
              "<table border=\"1\" class=\"dataframe\">\n",
              "  <thead>\n",
              "    <tr style=\"text-align: right;\">\n",
              "      <th></th>\n",
              "      <th>LINK</th>\n",
              "    </tr>\n",
              "    <tr>\n",
              "      <th>SCORE</th>\n",
              "      <th></th>\n",
              "    </tr>\n",
              "  </thead>\n",
              "  <tbody>\n",
              "    <tr>\n",
              "      <th>0.0</th>\n",
              "      <td>23513</td>\n",
              "    </tr>\n",
              "    <tr>\n",
              "      <th>1.0</th>\n",
              "      <td>256418</td>\n",
              "    </tr>\n",
              "    <tr>\n",
              "      <th>2.0</th>\n",
              "      <td>134091</td>\n",
              "    </tr>\n",
              "    <tr>\n",
              "      <th>3.0</th>\n",
              "      <td>132703</td>\n",
              "    </tr>\n",
              "    <tr>\n",
              "      <th>4.0</th>\n",
              "      <td>19723</td>\n",
              "    </tr>\n",
              "    <tr>\n",
              "      <th>5.0</th>\n",
              "      <td>2978</td>\n",
              "    </tr>\n",
              "    <tr>\n",
              "      <th>6.0</th>\n",
              "      <td>406</td>\n",
              "    </tr>\n",
              "    <tr>\n",
              "      <th>7.0</th>\n",
              "      <td>17</td>\n",
              "    </tr>\n",
              "  </tbody>\n",
              "</table>\n",
              "</div>"
            ],
            "text/plain": [
              "         LINK\n",
              "SCORE        \n",
              "0.0     23513\n",
              "1.0    256418\n",
              "2.0    134091\n",
              "3.0    132703\n",
              "4.0     19723\n",
              "5.0      2978\n",
              "6.0       406\n",
              "7.0        17"
            ]
          },
          "metadata": {
            "tags": []
          },
          "execution_count": 55
        }
      ]
    },
    {
      "cell_type": "markdown",
      "metadata": {
        "id": "Rk9gLrPFiljL",
        "colab_type": "text"
      },
      "source": [
        "making a list of all column names to consider, \n",
        "score and choose the ones with all the entitites,\n",
        "\n",
        "add new table entries to the entity extractor\n",
        "\n",
        "also add the negative example marking in to the dataset,\n",
        "also leave neutral unmarked and entitites marked,\n",
        "\n",
        "look into sentence tokenization as well\n"
      ]
    },
    {
      "cell_type": "code",
      "metadata": {
        "id": "N4rSBF5u-kWC",
        "colab_type": "code",
        "colab": {
          "base_uri": "https://localhost:8080/",
          "height": 334
        },
        "outputId": "f80e7c07-1319-4b87-b41a-69f0b8d3265c"
      },
      "source": [
        "df = pd.DataFrame({\n",
        "...     'length': [1.5, 0.5, 1.2, 0.9, 3],\n",
        "...     'width': [0.7, 0.2, 0.15, 0.2, 1.1]\n",
        "...     }, index= ['pig', 'rabbit', 'duck', 'chicken', 'horse'])\n",
        ">>> hist = df.hist(bins=3)\n",
        "hist"
      ],
      "execution_count": 47,
      "outputs": [
        {
          "output_type": "execute_result",
          "data": {
            "text/plain": [
              "array([[<matplotlib.axes._subplots.AxesSubplot object at 0x7f7a7ea19470>,\n",
              "        <matplotlib.axes._subplots.AxesSubplot object at 0x7f7a7eb2a780>]],\n",
              "      dtype=object)"
            ]
          },
          "metadata": {
            "tags": []
          },
          "execution_count": 47
        },
        {
          "output_type": "display_data",
          "data": {
            "image/png": "[encoded data removed]",
            "text/plain": [
              "<Figure size 432x288 with 2 Axes>"
            ]
          },
          "metadata": {
            "tags": []
          }
        }
      ]
    }
  ]
}