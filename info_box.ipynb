{
  "nbformat": 4,
  "nbformat_minor": 0,
  "metadata": {
    "colab": {
      "name": "info_box.ipynb",
      "provenance": [],
      "collapsed_sections": [],
      "include_colab_link": true
    },
    "kernelspec": {
      "name": "python3",
      "display_name": "Python 3"
    }
  },
  "cells": [
    {
      "cell_type": "markdown",
      "metadata": {
        "id": "view-in-github",
        "colab_type": "text"
      },
      "source": [
        "<a href=\"https://colab.research.google.com/github/ratmcu/wiki_ner/blob/master/info_box.ipynb\" target=\"_parent\"><img src=\"https://colab.research.google.com/assets/colab-badge.svg\" alt=\"Open In Colab\"/></a>"
      ]
    },
    {
      "cell_type": "code",
      "metadata": {
        "id": "2C-w8h_nQnIm",
        "colab_type": "code",
        "outputId": "1be10f2b-513e-4a86-886c-eed15b03ec76",
        "colab": {
          "base_uri": "https://localhost:8080/",
          "height": 944
        }
      },
      "source": [
        "!pip install pyahocorasick\n",
        "!pip install fuzzyset\n",
        "from ahocorasick import Automaton\n",
        "import fuzzyset\n",
        "import urllib\n",
        "from bs4 import BeautifulSoup\n",
        "from nltk.tokenize import sent_tokenize\n",
        "import nltk\n",
        "import re\n",
        "import pandas as pd\n",
        "import numpy as np\n",
        "nltk.download('punkt')\n",
        "!pip install wget\n",
        "import os\n",
        "import wget\n",
        "colabimporturl = 'https://github.com/ratmcu/colaboratory_import/raw/master/colabimport.py'\n",
        "filename = colabimporturl.split(\"/\")[-1].split(\"?\")[0]\n",
        "if os.path.isfile(filename):\n",
        "    os.remove(filename)\n",
        "wget.download(colabimporturl)\n",
        "\n",
        "import colabimport\n",
        "colabimport.get_notebook('https://github.com/ratmcu/wiki_ner/blob/master/reusable_annotator.ipynb?raw=true')\n",
        "colabimport.get_notebook('https://github.com/ratmcu/wiki_ner/blob/master/info_box.ipynb?raw=true')\n",
        "# import io, os, sys, types\n",
        "from reusable_annotator import PageContents\n",
        "import logging\n",
        "logger = logging.getLogger()\n",
        "logger.setLevel(logging.INFO)"
      ],
      "execution_count": 1,
      "outputs": [
        {
          "output_type": "stream",
          "text": [
            "Collecting pyahocorasick\n",
            "\u001b[?25l  Downloading https://files.pythonhosted.org/packages/f4/9f/f0d8e8850e12829eea2e778f1c90e3c53a9a799b7f412082a5d21cd19ae1/pyahocorasick-1.4.0.tar.gz (312kB)\n",
            "\u001b[K     |████████████████████████████████| 317kB 8.6MB/s \n",
            "\u001b[?25hBuilding wheels for collected packages: pyahocorasick\n",
            "  Building wheel for pyahocorasick (setup.py) ... \u001b[?25l\u001b[?25hdone\n",
            "  Created wheel for pyahocorasick: filename=pyahocorasick-1.4.0-cp36-cp36m-linux_x86_64.whl size=81705 sha256=c9ec756f04df617a59e382529e266f8c5c02a5b9feb22838d6ff7e17ef553b3f\n",
            "  Stored in directory: /root/.cache/pip/wheels/0a/90/61/87a55f5b459792fbb2b7ba6b31721b06ff5cf6bde541b40994\n",
            "Successfully built pyahocorasick\n",
            "Installing collected packages: pyahocorasick\n",
            "Successfully installed pyahocorasick-1.4.0\n",
            "Collecting fuzzyset\n",
            "\u001b[?25l  Downloading https://files.pythonhosted.org/packages/2e/78/7509f3efbb6acbcf842d7bdbd9a919ca8c0ed248123bdd8c57f08497e0dd/fuzzyset-0.0.19.tar.gz (377kB)\n",
            "\u001b[K     |████████████████████████████████| 378kB 9.3MB/s \n",
            "\u001b[?25hCollecting python-levenshtein (from fuzzyset)\n",
            "\u001b[?25l  Downloading https://files.pythonhosted.org/packages/42/a9/d1785c85ebf9b7dfacd08938dd028209c34a0ea3b1bcdb895208bd40a67d/python-Levenshtein-0.12.0.tar.gz (48kB)\n",
            "\u001b[K     |████████████████████████████████| 51kB 23.6MB/s \n",
            "\u001b[?25hCollecting texttable (from fuzzyset)\n",
            "  Downloading https://files.pythonhosted.org/packages/82/a8/60df592e3a100a1f83928795aca210414d72cebdc6e4e0c95a6d8ac632fe/texttable-1.6.2.tar.gz\n",
            "Requirement already satisfied: setuptools in /usr/local/lib/python3.6/dist-packages (from python-levenshtein->fuzzyset) (41.2.0)\n",
            "Building wheels for collected packages: fuzzyset, python-levenshtein, texttable\n",
            "  Building wheel for fuzzyset (setup.py) ... \u001b[?25l\u001b[?25hdone\n",
            "  Created wheel for fuzzyset: filename=fuzzyset-0.0.19-cp36-cp36m-linux_x86_64.whl size=167545 sha256=e5f24ecc9fa69f721e2458ded542c6a1ed2035a160e06395e9a35cdf6fb65432\n",
            "  Stored in directory: /root/.cache/pip/wheels/d8/36/9a/8f1cac047c7c3b03dce3d5434ed0088bfd8da8aeca615dfb4c\n",
            "  Building wheel for python-levenshtein (setup.py) ... \u001b[?25l\u001b[?25hdone\n",
            "  Created wheel for python-levenshtein: filename=python_Levenshtein-0.12.0-cp36-cp36m-linux_x86_64.whl size=144665 sha256=5f3461c2a38d6bf8669fad1d2942ef779a07bf4dc49a126d423e88e8fdf102ae\n",
            "  Stored in directory: /root/.cache/pip/wheels/de/c2/93/660fd5f7559049268ad2dc6d81c4e39e9e36518766eaf7e342\n",
            "  Building wheel for texttable (setup.py) ... \u001b[?25l\u001b[?25hdone\n",
            "  Created wheel for texttable: filename=texttable-1.6.2-cp36-none-any.whl size=10654 sha256=ff8376170b0295ab213f76eef0af30ff5082b5519ccca6cfd769aff2dc1dccf4\n",
            "  Stored in directory: /root/.cache/pip/wheels/51/d1/d6/dfbe4eb3c468832f7fbe4bd27f9875fa97277cabed8fb6715c\n",
            "Successfully built fuzzyset python-levenshtein texttable\n",
            "Installing collected packages: python-levenshtein, texttable, fuzzyset\n",
            "Successfully installed fuzzyset-0.0.19 python-levenshtein-0.12.0 texttable-1.6.2\n",
            "[nltk_data] Downloading package punkt to /root/nltk_data...\n",
            "[nltk_data]   Unzipping tokenizers/punkt.zip.\n",
            "Collecting wget\n",
            "  Downloading https://files.pythonhosted.org/packages/47/6a/62e288da7bcda82b935ff0c6cfe542970f04e29c756b0e147251b2fb251f/wget-3.2.zip\n",
            "Building wheels for collected packages: wget\n",
            "  Building wheel for wget (setup.py) ... \u001b[?25l\u001b[?25hdone\n",
            "  Created wheel for wget: filename=wget-3.2-cp36-none-any.whl size=9681 sha256=eecddddaa244a53755b1abaec4b3ce6f3f0aa4d30ce1a6f6f7c236aad363c965\n",
            "  Stored in directory: /root/.cache/pip/wheels/40/15/30/7d8f7cea2902b4db79e3fea550d7d7b85ecb27ef992b618f3f\n",
            "Successfully built wget\n",
            "Installing collected packages: wget\n",
            "Successfully installed wget-3.2\n",
            "importing Jupyter notebook from reusable_annotator.ipynb\n",
            "Requirement already satisfied: pyahocorasick in /usr/local/lib/python3.6/dist-packages (1.4.0)\n",
            "Requirement already satisfied: fuzzyset in /usr/local/lib/python3.6/dist-packages (0.0.19)\n",
            "Requirement already satisfied: python-levenshtein in /usr/local/lib/python3.6/dist-packages (from fuzzyset) (0.12.0)\n",
            "Requirement already satisfied: texttable in /usr/local/lib/python3.6/dist-packages (from fuzzyset) (1.6.2)\n",
            "Requirement already satisfied: setuptools in /usr/local/lib/python3.6/dist-packages (from python-levenshtein->fuzzyset) (41.2.0)\n",
            "[nltk_data] Downloading package punkt to /root/nltk_data...\n",
            "[nltk_data]   Package punkt is already up-to-date!\n"
          ],
          "name": "stdout"
        }
      ]
    },
    {
      "cell_type": "code",
      "metadata": {
        "id": "gfb8Zq6EP6vR",
        "colab_type": "code",
        "colab": {}
      },
      "source": [
        "class InfoCard():\n",
        "    '''accepts a beautiful soup html table from a wikipedia page and scrapes the table to a dictionary'''\n",
        "    def __init__(self, page_content):\n",
        "        self.info_table = {}\n",
        "        if not page_content.table:\n",
        "            raise Exception('page content is incomplete')\n",
        "        for table_entry in page_content.table_entry_list:\n",
        "            try:\n",
        "                left_col = table_entry.find('th', attrs={'scope': 'row'})\n",
        "                right_col = left_col.next_sibling\n",
        "                self.info_table[self._row_filter(left_col.text)] = self._get_text_parts(self._get_kids(right_col))\n",
        "            except:\n",
        "                pass\n",
        "        self.info_table_unfiltered = self.info_table\n",
        "        self.info_table = self._filter_info_scrapes(self.info_table)\n",
        "        print('info card is scraped successfully')\n",
        "        logging.debug(self.info_table)\n",
        "    \n",
        "    def _row_filter(self, text):\n",
        "        return re.sub('\\xa0', ' ', text)\n",
        "        \n",
        "        \n",
        "    def _get_kids(self, html_mother):\n",
        "        kid_list = []\n",
        "        try:\n",
        "            kids = html_mother.children\n",
        "            for kid in kids:\n",
        "                kid_list.append(self._get_kids(kid))\n",
        "        except:\n",
        "            return html_mother\n",
        "        return kid_list \n",
        "\n",
        "    def _get_text_parts(self, text_lists):\n",
        "        text_parts = []\n",
        "        if type(text_lists) == list:\n",
        "            for element in text_lists:\n",
        "                text_parts.extend(self._get_text_parts(element))\n",
        "        else:\n",
        "            text_parts.append(text_lists)\n",
        "        return(text_parts)\n",
        "\n",
        "    def _filter_info_scrapes(self, scape_dict):\n",
        "        mask_dict = {}\n",
        "        for key, val in scape_dict.items():\n",
        "            mask_dict[key] = []\n",
        "            for i, element in enumerate(scape_dict[key]):\n",
        "                fnd = [c in element for c in u'()[]\\n\\xa0']\n",
        "                if not True in fnd:\n",
        "                    mask_dict[key].append(element)  \n",
        "        return mask_dict    "
      ],
      "execution_count": 0,
      "outputs": []
    },
    {
      "cell_type": "code",
      "metadata": {
        "id": "0a5MnTqlglkE",
        "colab_type": "code",
        "outputId": "4020eeae-a3b9-468e-c563-447829d24985",
        "colab": {
          "base_uri": "https://localhost:8080/",
          "height": 552
        }
      },
      "source": [
        "!pip install spacy\n",
        "!pip install regex\n",
        "!python -m spacy download en_core_web_sm\n",
        "import spacy\n",
        "import regex"
      ],
      "execution_count": 3,
      "outputs": [
        {
          "output_type": "stream",
          "text": [
            "Requirement already satisfied: spacy in /usr/local/lib/python3.6/dist-packages (2.1.8)\n",
            "Requirement already satisfied: requests<3.0.0,>=2.13.0 in /usr/local/lib/python3.6/dist-packages (from spacy) (2.21.0)\n",
            "Requirement already satisfied: thinc<7.1.0,>=7.0.8 in /usr/local/lib/python3.6/dist-packages (from spacy) (7.0.8)\n",
            "Requirement already satisfied: srsly<1.1.0,>=0.0.6 in /usr/local/lib/python3.6/dist-packages (from spacy) (0.1.0)\n",
            "Requirement already satisfied: numpy>=1.15.0 in /usr/local/lib/python3.6/dist-packages (from spacy) (1.16.5)\n",
            "Requirement already satisfied: wasabi<1.1.0,>=0.2.0 in /usr/local/lib/python3.6/dist-packages (from spacy) (0.2.2)\n",
            "Requirement already satisfied: cymem<2.1.0,>=2.0.2 in /usr/local/lib/python3.6/dist-packages (from spacy) (2.0.2)\n",
            "Requirement already satisfied: plac<1.0.0,>=0.9.6 in /usr/local/lib/python3.6/dist-packages (from spacy) (0.9.6)\n",
            "Requirement already satisfied: preshed<2.1.0,>=2.0.1 in /usr/local/lib/python3.6/dist-packages (from spacy) (2.0.1)\n",
            "Requirement already satisfied: blis<0.3.0,>=0.2.2 in /usr/local/lib/python3.6/dist-packages (from spacy) (0.2.4)\n",
            "Requirement already satisfied: murmurhash<1.1.0,>=0.28.0 in /usr/local/lib/python3.6/dist-packages (from spacy) (1.0.2)\n",
            "Requirement already satisfied: certifi>=2017.4.17 in /usr/local/lib/python3.6/dist-packages (from requests<3.0.0,>=2.13.0->spacy) (2019.9.11)\n",
            "Requirement already satisfied: chardet<3.1.0,>=3.0.2 in /usr/local/lib/python3.6/dist-packages (from requests<3.0.0,>=2.13.0->spacy) (3.0.4)\n",
            "Requirement already satisfied: urllib3<1.25,>=1.21.1 in /usr/local/lib/python3.6/dist-packages (from requests<3.0.0,>=2.13.0->spacy) (1.24.3)\n",
            "Requirement already satisfied: idna<2.9,>=2.5 in /usr/local/lib/python3.6/dist-packages (from requests<3.0.0,>=2.13.0->spacy) (2.8)\n",
            "Requirement already satisfied: tqdm<5.0.0,>=4.10.0 in /usr/local/lib/python3.6/dist-packages (from thinc<7.1.0,>=7.0.8->spacy) (4.28.1)\n",
            "Collecting regex\n",
            "\u001b[?25l  Downloading https://files.pythonhosted.org/packages/6f/a6/99eeb5904ab763db87af4bd71d9b1dfdd9792681240657a4c0a599c10a81/regex-2019.08.19.tar.gz (654kB)\n",
            "\u001b[K     |████████████████████████████████| 655kB 8.6MB/s \n",
            "\u001b[?25hBuilding wheels for collected packages: regex\n",
            "  Building wheel for regex (setup.py) ... \u001b[?25l\u001b[?25hdone\n",
            "  Created wheel for regex: filename=regex-2019.8.19-cp36-cp36m-linux_x86_64.whl size=609234 sha256=0edcbda6997f59acb5d796d4bd0a11d0b98035f10da4b55ad993ff724919dec4\n",
            "  Stored in directory: /root/.cache/pip/wheels/90/04/07/b5010fb816721eb3d6dd64ed5cc8111ca23f97fdab8619b5be\n",
            "Successfully built regex\n",
            "Installing collected packages: regex\n",
            "Successfully installed regex-2019.8.19\n",
            "Requirement already satisfied: en_core_web_sm==2.1.0 from https://github.com/explosion/spacy-models/releases/download/en_core_web_sm-2.1.0/en_core_web_sm-2.1.0.tar.gz#egg=en_core_web_sm==2.1.0 in /usr/local/lib/python3.6/dist-packages (2.1.0)\n",
            "\u001b[38;5;2m✔ Download and installation successful\u001b[0m\n",
            "You can now load the model via spacy.load('en_core_web_sm')\n"
          ],
          "name": "stdout"
        }
      ]
    },
    {
      "cell_type": "code",
      "metadata": {
        "id": "CbAQlKcZl1j2",
        "colab_type": "code",
        "colab": {}
      },
      "source": [
        "# can we use snorkle to get this entity scraping done??? \n",
        "# if so it'd be better to have the lable functions in a ready way to generally working on all the pages!!\n",
        "\n",
        "class PrivateEntities():\n",
        "    '''given a dictionary of a side bar it is processed for private entities of interest'''\n",
        "    def __init__(self, info_card):\n",
        "        self.info_dict = info_card.info_table\n",
        "        # print(info_card.info_table)\n",
        "        self._get_entity_dict()\n",
        "        self._extract_entities()\n",
        "        \n",
        "    def _extract_entities(self):\n",
        "        # TREAT everyone the same? or call a seperate function per each entity?\n",
        "        # leave the not found entities as empty lists so we can use the html scraper to fill them (usually the name of the person)\n",
        "        # lets treat everything generally, ultimate filtering happens at the comparison stage(if theres one)\n",
        "        for entity_key in self.entity_dict.keys():\n",
        "            self._pick_entity(self.entity_dict[entity_key], entity_key)\n",
        "            print(self.entity_dict[entity_key])\n",
        "    \n",
        "    def _pick_entity(self, entity_list, entity_key):\n",
        "        nlp = spacy.load(\"en_core_web_sm\")\n",
        "#         print(entity_list)\n",
        "#         Find named entities, phrases and concepts\n",
        "        entity_list.append([])\n",
        "#         print(entity_list[0][0])\n",
        "        \n",
        "        if entity_key == 'BIRTH_PLACE':\n",
        "            mask_str = ''\n",
        "            for scrape in self.info_dict[entity_list[0][0]]:\n",
        "                doc = nlp(str(scrape))\n",
        "                if doc.ents and doc.ents[0].label_ == 'DATE':\n",
        "                    mask_str = mask_str + 'd'\n",
        "                elif str(scrape) == ', ':\n",
        "                    mask_str = mask_str + 's'\n",
        "                elif self._is_name(str(scrape)):\n",
        "                    mask_str = mask_str + 't'\n",
        "                else:\n",
        "                    mask_str = mask_str + 'u'\n",
        "#             print(mask_str)\n",
        "            indices = self._get_target_indices([r'[s][t]',r'[d][t]'], mask_str)  \n",
        "            for index in indices:\n",
        "                entity_list[1].append(self.info_dict[entity_list[0][0]][index])\n",
        "        else:    \n",
        "            for scrape in self.info_dict[entity_list[0][0]]:\n",
        "                if entity_list[0][1] == 'PERSON': #spacy skips certain parts of a name, so we use this trick instead\n",
        "                    doc = nlp('was named '+str(scrape))\n",
        "                else:\n",
        "                    doc = nlp(str(scrape))\n",
        "                print(scrape)\n",
        "                if doc.ents and doc.ents[0].label_ == entity_list[0][1]:   \n",
        "                    entity_list[1].append(doc.ents[0].text)\n",
        "                    print('appended entity: ', doc.ents[0].text, doc.ents[0].label_, len(doc.ents), doc.ents)\n",
        "                elif not self._entity_noise(entity_key, str(scrape)):\n",
        "                    entity_list[1].append(str(scrape))\n",
        "                else:\n",
        "                    pass\n",
        "                \n",
        "    def _get_target_indices(self, pattern_list, mask_str):\n",
        "        '''TODO: if the target is inside the pattern'''\n",
        "        indices = []\n",
        "        for pattern in pattern_list:\n",
        "            m_iter = re.finditer(pattern, mask_str)\n",
        "            if m_iter:\n",
        "                for m in m_iter: \n",
        "                    indices.append(m.start()+1)\n",
        "        return indices        \n",
        "        \n",
        "    def _entity_noise(self, entity_key, text):\n",
        "        try:\n",
        "            return getattr(self, '_filter_{0}'.format(entity_key))(text)\n",
        "        except:\n",
        "            print('filter function for {0} not found'.format(entity_key))\n",
        "            return True\n",
        "    \n",
        "    def _get_entity_dict(self):\n",
        "        self.entity_dict = {}\n",
        "        if 'Born' in self.info_dict.keys():\n",
        "            self.entity_dict['NAME'] = [['Born', 'PERSON']]\n",
        "            self.entity_dict['BIRTH_DATE'] = [['Born', 'DATE']]\n",
        "            self.entity_dict['BIRTH_PLACE'] = [['Born', 'GPE']]\n",
        "        if 'Children' in self.info_dict.keys():\n",
        "            self.entity_dict['CHILDREN'] = [['Children', 'PERSON']]\n",
        "        if 'Spouse(s)' in self.info_dict.keys():\n",
        "            self.entity_dict['SPOUSES'] = [['Spouse(s)', 'PERSON']]\n",
        "        if 'Parents' in self.info_dict.keys():\n",
        "            self.entity_dict['PARENTS'] = [['Parents', 'PERSON']]\n",
        "        if 'Education' in self.info_dict.keys():\n",
        "            self.entity_dict['EDUCATION'] = [['Education', 'ORG']]\n",
        "        if 'Alma mater' in self.info_dict.keys():\n",
        "            self.entity_dict['EDUCATION'] = [['Alma mater', 'ORG']]\n",
        "    \n",
        "    def _filter_NAME(self, text):\n",
        "        '''cannot simply filter noise due to many possible candidates'''\n",
        "        return True\n",
        "    def _filter_BIRTH_DATE(self, text):\n",
        "        return True\n",
        "    def _filter_BIRTH_PLACE(self, text):\n",
        "        return True\n",
        "    def _filter_CHILDREN(self, text):\n",
        "#         return False # let's assume we don't find any noisy text under info boxes children till we do an analysis\n",
        "        return not self._is_name(text)\n",
        "    def _filter_SPOUSES(self, text):\n",
        "        return not self._is_name(text)\n",
        "    def _filter_PARENTS(self, text):\n",
        "        return not self._is_name(text)\n",
        "    def _filter_EDUCATION(self, text):\n",
        "        return True\n",
        "    def _is_name(self, text):\n",
        "        p = regex.compile(r\"\\p{Lu}\") # To support (currently) 1702 uppercase letters\n",
        "#         p = regex.compile(r\"[[:upper:]]\") # To support (currently) 1822 uppercase letters\n",
        "        if p.match(text):\n",
        "            return True\n",
        "        else:\n",
        "            return False\n",
        "        \n"
      ],
      "execution_count": 0,
      "outputs": []
    },
    {
      "cell_type": "code",
      "metadata": {
        "id": "5SWMEhG1qpVL",
        "colab_type": "code",
        "outputId": "338737b4-47ed-4ac3-eef5-f1431f4ea172",
        "colab": {
          "base_uri": "https://localhost:8080/",
          "height": 1000
        }
      },
      "source": [
        "# pg = PageContents('https://en.wikipedia.org/wiki/James_R._Alexander')\n",
        "# pg = PageContents('https://en.wikipedia.org/wiki/Brad_Pitt')\n",
        "pg = PageContents('https://en.wikipedia.org/wiki/Donald_Trump')\n",
        "\n",
        "# pg = PageContents('https://en.wikipedia.org/wiki/Mohamed_Abdel-El')\n",
        "info_card = InfoCard(pg)\n",
        "entities = PrivateEntities(info_card).entity_dict\n",
        "info_card.info_table\n"
      ],
      "execution_count": 5,
      "outputs": [
        {
          "output_type": "stream",
          "text": [
            "info card is scraped successfully\n",
            "Donald John Trump\n",
            "appended entity:  Donald John Trump PERSON 1 (Donald John Trump,)\n",
            "1946-06-14\n",
            "June 14, 1946\n",
            "Queens\n",
            "appended entity:  Queens PERSON 1 (Queens,)\n",
            ", \n",
            "New York City\n",
            "[['Born', 'PERSON'], ['Donald John Trump', 'Queens']]\n",
            "Donald John Trump\n",
            "1946-06-14\n",
            "appended entity:  1946-06-14 DATE 1 (1946-06-14,)\n",
            "June 14, 1946\n",
            "appended entity:  June 14, 1946 DATE 1 (June 14, 1946,)\n",
            "Queens\n",
            ", \n",
            "New York City\n",
            "[['Born', 'DATE'], ['1946-06-14', 'June 14, 1946']]\n",
            "[['Born', 'GPE'], ['New York City', 'Queens']]\n",
            "Donald Jr.\n",
            "appended entity:  Donald Jr. PERSON 1 (Donald Jr.,)\n",
            "Ivanka\n",
            "appended entity:  Ivanka PERSON 1 (Ivanka,)\n",
            "Eric\n",
            "appended entity:  Eric PERSON 1 (Eric,)\n",
            "Tiffany\n",
            "appended entity:  Tiffany PERSON 1 (Tiffany,)\n",
            "Barron\n",
            "appended entity:  Barron PERSON 1 (Barron,)\n",
            "[['Children', 'PERSON'], ['Donald Jr.', 'Ivanka', 'Eric', 'Tiffany', 'Barron']]\n",
            "Ivana Zelníčková\n",
            "appended entity:  Ivana Zelníčková PERSON 1 (Ivana Zelníčková,)\n",
            "m.\n",
            "1977\n",
            "; \n",
            "div.\n",
            "1992\n",
            "Marla Maples\n",
            "appended entity:  Marla Maples PERSON 1 (Marla Maples,)\n",
            "m.\n",
            "1993\n",
            "; \n",
            "div.\n",
            "1999\n",
            "Melania Knauss\n",
            "appended entity:  Melania Knauss PERSON 1 (Melania Knauss,)\n",
            "m.\n",
            "2005\n",
            "[['Spouse(s)', 'PERSON'], ['Ivana Zelníčková', 'Marla Maples', 'Melania Knauss']]\n",
            "Fred Trump\n",
            "appended entity:  Fred Trump PERSON 1 (Fred Trump,)\n",
            "Mary Anne MacLeod\n",
            "appended entity:  Mary Anne MacLeod PERSON 1 (Mary Anne MacLeod,)\n",
            "[['Parents', 'PERSON'], ['Fred Trump', 'Mary Anne MacLeod']]\n",
            "The Wharton School\n",
            "appended entity:  The Wharton School ORG 1 (The Wharton School,)\n",
            "BS\n",
            " in \n",
            "Econ.\n",
            "[['Education', 'ORG'], ['The Wharton School']]\n"
          ],
          "name": "stdout"
        },
        {
          "output_type": "execute_result",
          "data": {
            "text/plain": [
              "{'Awards': ['List of honors and awards'],\n",
              " 'Born': ['Donald John Trump',\n",
              "  '1946-06-14',\n",
              "  'June 14, 1946',\n",
              "  'Queens',\n",
              "  ', ',\n",
              "  'New York City'],\n",
              " 'Children': ['Donald Jr.', 'Ivanka', 'Eric', 'Tiffany', 'Barron'],\n",
              " 'Education': ['The Wharton School', 'BS', ' in ', 'Econ.'],\n",
              " 'Net worth': [],\n",
              " 'Occupation': ['Politician',\n",
              "  'businessman',\n",
              "  'real-estate developer',\n",
              "  'television personality'],\n",
              " 'Other politicalaffiliations': ['Democratic', 'Reform', 'Independent'],\n",
              " 'Parents': ['Fred Trump', 'Mary Anne MacLeod'],\n",
              " 'Political party': ['Republican'],\n",
              " 'Preceded by': ['Barack Obama'],\n",
              " 'Relatives': ['Trump family'],\n",
              " 'Residence': ['White House', 'Trump Tower', 'Full list'],\n",
              " 'Signature': [],\n",
              " 'Spouse(s)': ['Ivana Zelníčková',\n",
              "  'm.',\n",
              "  '1977',\n",
              "  '; ',\n",
              "  'div.',\n",
              "  '1992',\n",
              "  'Marla Maples',\n",
              "  'm.',\n",
              "  '1993',\n",
              "  '; ',\n",
              "  'div.',\n",
              "  '1999',\n",
              "  'Melania Knauss',\n",
              "  'm.',\n",
              "  '2005'],\n",
              " 'Vice President': ['Mike Pence'],\n",
              " 'Website': ['Official website',\n",
              "  'White House website',\n",
              "  'Presidential Twitter',\n",
              "  'Personal Twitter']}"
            ]
          },
          "metadata": {
            "tags": []
          },
          "execution_count": 5
        }
      ]
    },
    {
      "cell_type": "code",
      "metadata": {
        "id": "RXrBEsRHxT_X",
        "colab_type": "code",
        "outputId": "2ea29052-7cf2-4d58-94f3-e8f494154f8f",
        "colab": {
          "base_uri": "https://localhost:8080/",
          "height": 568
        }
      },
      "source": [
        "#experiment_code\n",
        "# pg = PageContents('https://en.wikipedia.org/wiki/Donald_Trump')\n",
        "# pg = PageContents('https://en.wikipedia.org/wiki/Barack_Obama')\n",
        "# pg = PageContents('https://en.wikipedia.org/wiki/Bella_Hadid')\n",
        "# pg = PageContents('https://en.wikipedia.org/wiki/Mahinda_Rajapaksa')\n",
        "# pg = PageContents('https://en.wikipedia.org/wiki/Joachim_Gauck')\n",
        "# pg = PageContents('https://en.wikipedia.org/wiki/Mike_Tyson')\n",
        "pg = PageContents('https://en.wikipedia.org/wiki/Brad_Pitt')\n",
        "\n",
        "\n",
        "info_card = InfoCard(pg)\n",
        "# print(type(str(info_card.info_table['Born'][0])))\n",
        "pe = PrivateEntities(info_card)\n",
        "# pe.entity_dict"
      ],
      "execution_count": 0,
      "outputs": [
        {
          "output_type": "stream",
          "text": [
            "info card is scraped successfully\n",
            "William Bradley Pitt\n",
            "appended entity:  William Bradley Pitt PERSON 1\n",
            "1963-12-18\n",
            "December 18, 1963\n",
            "Shawnee, Oklahoma\n",
            ", U.S.\n",
            "[['Born', 'PERSON'], ['William Bradley Pitt']]\n",
            "William Bradley Pitt\n",
            "1963-12-18\n",
            "appended entity:  1963-12-18 DATE 1\n",
            "December 18, 1963\n",
            "appended entity:  December 18, 1963 DATE 1\n",
            "Shawnee, Oklahoma\n",
            ", U.S.\n",
            "[['Born', 'DATE'], ['1963-12-18', 'December 18, 1963']]\n",
            "[['Born', 'GPE'], ['Shawnee, Oklahoma']]\n",
            "6\n",
            "[['Children', 'PERSON'], []]\n",
            "Jennifer Aniston\n",
            "appended entity:  Jennifer Aniston PERSON 1\n",
            "m.\n",
            "div.\n",
            "Angelina Jolie\n",
            "appended entity:  Jolie PERSON 1\n",
            "m.\n",
            "div.\n",
            "[['Spouse(s)', 'PERSON'], ['Jennifer Aniston', 'Jolie']]\n",
            "Kickapoo High School\n",
            "appended entity:  Kickapoo High School ORG 1\n",
            "[['Education', 'ORG'], ['Kickapoo High School']]\n"
          ],
          "name": "stdout"
        }
      ]
    },
    {
      "cell_type": "code",
      "metadata": {
        "id": "f84vuv5FxFH4",
        "colab_type": "code",
        "outputId": "d9503b40-b2db-4846-bb8f-32e36a947d4f",
        "colab": {
          "base_uri": "https://localhost:8080/",
          "height": 372
        }
      },
      "source": [
        "#experiment_code\n",
        "info_card.info_table"
      ],
      "execution_count": 0,
      "outputs": [
        {
          "output_type": "execute_result",
          "data": {
            "text/plain": [
              "{'Alma mater': ['University of Missouri'],\n",
              " 'Born': ['William Bradley Pitt',\n",
              "  '1963-12-18',\n",
              "  'December 18, 1963',\n",
              "  'Shawnee, Oklahoma',\n",
              "  ', U.S.'],\n",
              " 'Children': ['6'],\n",
              " 'Education': ['Kickapoo High School'],\n",
              " 'Home town': ['Springfield, Missouri', ', U.S.'],\n",
              " 'Net worth': [],\n",
              " 'Occupation': ['Actor', 'film producer'],\n",
              " 'Relatives': ['Douglas Pitt'],\n",
              " 'Spouse(s)': ['Jennifer Aniston',\n",
              "  'm.',\n",
              "  'div.',\n",
              "  'Angelina Jolie',\n",
              "  'm.',\n",
              "  'div.'],\n",
              " 'Works': ['Filmography'],\n",
              " 'Years active': ['1987–present']}"
            ]
          },
          "metadata": {
            "tags": []
          },
          "execution_count": 22
        }
      ]
    },
    {
      "cell_type": "code",
      "metadata": {
        "id": "THHEwExcSNW2",
        "colab_type": "code",
        "outputId": "961936da-339b-4d41-ce4e-7cc735ff7770",
        "colab": {
          "base_uri": "https://localhost:8080/",
          "height": 72
        }
      },
      "source": [
        "#experiment_code\n",
        "# pg = PageContents('https://en.wikipedia.org/wiki/Barack_Obama')\n",
        "# pg = PageContents('https://en.wikipedia.org/wiki/Donald_Trump')\n",
        "pg = PageContents('https://en.wikipedia.org/wiki/Brad_Pitt')\n",
        "\n",
        "info_card = InfoCard(pg)\n",
        "print(info_card.info_table)\n"
      ],
      "execution_count": 6,
      "outputs": [
        {
          "output_type": "stream",
          "text": [
            "info card is scraped successfully\n",
            "{'Born': ['William Bradley Pitt', '1963-12-18', 'December 18, 1963', 'Shawnee, Oklahoma', ', U.S.'], 'Education': ['Kickapoo High School'], 'Alma mater': ['University of Missouri'], 'Occupation': ['Actor', 'film producer'], 'Years active': ['1987–present'], 'Works': ['Filmography'], 'Home town': ['Springfield, Missouri', ', U.S.'], 'Net worth': [], 'Spouse(s)': ['Jennifer Aniston', 'm.', 'div.', 'Angelina Jolie', 'm.', 'div.'], 'Children': ['6'], 'Relatives': ['Douglas Pitt']}\n"
          ],
          "name": "stdout"
        }
      ]
    },
    {
      "cell_type": "code",
      "metadata": {
        "id": "WuaSK6_Xmh7x",
        "colab_type": "code",
        "outputId": "0ecb5d42-36e3-4bd6-e1d3-b97f1f09bca6",
        "colab": {
          "base_uri": "https://localhost:8080/",
          "height": 35
        }
      },
      "source": [
        "fz = fuzzyset.FuzzySet(use_levenshtein=False)\n",
        "fz.add('Alma\\xa0mater')        \n",
        "fz.add('Alma ma')        \n",
        "result = fz.get('Alma mater')\n",
        "result\n",
        "# [(0.7378647873726218, 'Almamater')]\n",
        "re.search('\\xa0', 'Alma\\xa0mater').span(0)"
      ],
      "execution_count": 0,
      "outputs": [
        {
          "output_type": "execute_result",
          "data": {
            "text/plain": [
              "(4, 5)"
            ]
          },
          "metadata": {
            "tags": []
          },
          "execution_count": 21
        }
      ]
    }
  ]
}