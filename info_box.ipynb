{
  "nbformat": 4,
  "nbformat_minor": 0,
  "metadata": {
    "colab": {
      "name": "info_box.ipynb",
      "version": "0.3.2",
      "provenance": [],
      "collapsed_sections": [],
      "include_colab_link": true
    },
    "kernelspec": {
      "name": "python3",
      "display_name": "Python 3"
    }
  },
  "cells": [
    {
      "cell_type": "markdown",
      "metadata": {
        "id": "view-in-github",
        "colab_type": "text"
      },
      "source": [
        "<a href=\"https://colab.research.google.com/github/ratmcu/wiki_ner/blob/master/info_box.ipynb\" target=\"_parent\"><img src=\"https://colab.research.google.com/assets/colab-badge.svg\" alt=\"Open In Colab\"/></a>"
      ]
    },
    {
      "cell_type": "code",
      "metadata": {
        "id": "2C-w8h_nQnIm",
        "colab_type": "code",
        "outputId": "a235ff8c-706f-4951-c3ff-f56799d47978",
        "colab": {
          "base_uri": "https://localhost:8080/",
          "height": 544
        }
      },
      "source": [
        "!pip install pyahocorasick\n",
        "!pip install fuzzyset\n",
        "from ahocorasick import Automaton\n",
        "import fuzzyset\n",
        "import urllib\n",
        "from bs4 import BeautifulSoup\n",
        "from nltk.tokenize import sent_tokenize\n",
        "import nltk\n",
        "import re\n",
        "import os\n",
        "import pandas as pd\n",
        "nltk.download('punkt')"
      ],
      "execution_count": 2,
      "outputs": [
        {
          "output_type": "stream",
          "text": [
            "Collecting pyahocorasick\n",
            "\u001b[?25l  Downloading https://files.pythonhosted.org/packages/f4/9f/f0d8e8850e12829eea2e778f1c90e3c53a9a799b7f412082a5d21cd19ae1/pyahocorasick-1.4.0.tar.gz (312kB)\n",
            "\u001b[K     |████████████████████████████████| 317kB 5.0MB/s \n",
            "\u001b[?25hBuilding wheels for collected packages: pyahocorasick\n",
            "  Building wheel for pyahocorasick (setup.py) ... \u001b[?25l\u001b[?25hdone\n",
            "  Stored in directory: /root/.cache/pip/wheels/0a/90/61/87a55f5b459792fbb2b7ba6b31721b06ff5cf6bde541b40994\n",
            "Successfully built pyahocorasick\n",
            "Installing collected packages: pyahocorasick\n",
            "Successfully installed pyahocorasick-1.4.0\n",
            "Collecting fuzzyset\n",
            "\u001b[?25l  Downloading https://files.pythonhosted.org/packages/2e/78/7509f3efbb6acbcf842d7bdbd9a919ca8c0ed248123bdd8c57f08497e0dd/fuzzyset-0.0.19.tar.gz (377kB)\n",
            "\u001b[K     |████████████████████████████████| 378kB 4.9MB/s \n",
            "\u001b[?25hCollecting python-levenshtein (from fuzzyset)\n",
            "\u001b[?25l  Downloading https://files.pythonhosted.org/packages/42/a9/d1785c85ebf9b7dfacd08938dd028209c34a0ea3b1bcdb895208bd40a67d/python-Levenshtein-0.12.0.tar.gz (48kB)\n",
            "\u001b[K     |████████████████████████████████| 51kB 23.3MB/s \n",
            "\u001b[?25hCollecting texttable (from fuzzyset)\n",
            "  Downloading https://files.pythonhosted.org/packages/04/c6/7d2514d76fefba65bfe2fa4e1082c3adea9edef5a149a3027b8f2d5ee0eb/texttable-1.6.1.tar.gz\n",
            "Requirement already satisfied: setuptools in /usr/local/lib/python3.6/dist-packages (from python-levenshtein->fuzzyset) (41.0.1)\n",
            "Building wheels for collected packages: fuzzyset, python-levenshtein, texttable\n",
            "  Building wheel for fuzzyset (setup.py) ... \u001b[?25l\u001b[?25hdone\n",
            "  Stored in directory: /root/.cache/pip/wheels/d8/36/9a/8f1cac047c7c3b03dce3d5434ed0088bfd8da8aeca615dfb4c\n",
            "  Building wheel for python-levenshtein (setup.py) ... \u001b[?25l\u001b[?25hdone\n",
            "  Stored in directory: /root/.cache/pip/wheels/de/c2/93/660fd5f7559049268ad2dc6d81c4e39e9e36518766eaf7e342\n",
            "  Building wheel for texttable (setup.py) ... \u001b[?25l\u001b[?25hdone\n",
            "  Stored in directory: /root/.cache/pip/wheels/a7/4e/77/da46da4c5aece69b701cf45e6e4fe56ff98bfbdcc7b271d03b\n",
            "Successfully built fuzzyset python-levenshtein texttable\n",
            "Installing collected packages: python-levenshtein, texttable, fuzzyset\n",
            "Successfully installed fuzzyset-0.0.19 python-levenshtein-0.12.0 texttable-1.6.1\n",
            "[nltk_data] Downloading package punkt to /root/nltk_data...\n",
            "[nltk_data]   Unzipping tokenizers/punkt.zip.\n"
          ],
          "name": "stdout"
        },
        {
          "output_type": "execute_result",
          "data": {
            "text/plain": [
              "True"
            ]
          },
          "metadata": {
            "tags": []
          },
          "execution_count": 2
        }
      ]
    },
    {
      "cell_type": "code",
      "metadata": {
        "id": "no-derlySh-W",
        "colab_type": "code",
        "colab": {}
      },
      "source": [
        "class PageContents():\n",
        "    def __init__(self, url):\n",
        "        self.quote_page = url\n",
        "        try:\n",
        "            self.page = urllib.request.urlopen(self.quote_page)\n",
        "            self.soup = BeautifulSoup(self.page, 'html.parser')\n",
        "        except:\n",
        "            self.table = False\n",
        "      \n",
        "        try:\n",
        "            self.side_pane = self.soup.find('table', attrs={'class': 'infobox vcard'})\n",
        "            self.table_entry_list = self.side_pane.find('tbody').find_all('tr')\n",
        "            self.table = True\n",
        "        except:\n",
        "            self.table = False\n",
        "    #       print(self.table_entry_list)\n",
        "    #       self.table_entry_list = self.soup.find('tbody').find_all('tr')\n",
        "   \n",
        "    def get_party(self):\n",
        "#       side_pane = self.soup.find('table', attrs={'class': 'infobox vcard'})\n",
        "#       table_entry_list = side_pane.find_all('tr')\n",
        "        party = ''\n",
        "        for table_entry in self.table_entry_list:\n",
        "            for child in table_entry.children:\n",
        "                if child.text == 'Political party':\n",
        "                    party = child.next_sibling.contents[0].get('title')\n",
        "#                   print(party)"
      ],
      "execution_count": 0,
      "outputs": []
    },
    {
      "cell_type": "code",
      "metadata": {
        "id": "gfb8Zq6EP6vR",
        "colab_type": "code",
        "colab": {}
      },
      "source": [
        "class InfoCard():\n",
        "    def __init__(self, page_content):\n",
        "        self.info_table = {}\n",
        "        if not page_content.table:\n",
        "            raise RuntimeError('page content is incomplete') from error\n",
        "        for table_entry in page_content.table_entry_list:\n",
        "            try:\n",
        "                row_left = table_entry.find('th', attrs={'scope': 'row'})\n",
        "                row_right = row_left.next_sibling\n",
        "                self.info_table[row_left.text] = self.get_text_parts(self.get_kids(row_right))\n",
        "            except:\n",
        "                pass\n",
        "\n",
        "        self.info_table = self.filter_info_scrapes(self.info_table)\n",
        "        print('info card is scraped successfully')\n",
        "        \n",
        "    def get_kids(self, html_mother):\n",
        "        kid_list = []\n",
        "        try:\n",
        "            kids = html_mother.children\n",
        "            for kid in kids:\n",
        "                kid_list.append(self.get_kids(kid))\n",
        "        except:\n",
        "            return html_mother\n",
        "        return kid_list \n",
        "\n",
        "    def get_text_parts(self, text_lists):\n",
        "        text_parts = []\n",
        "        if type(text_lists) == list:\n",
        "            for element in text_lists:\n",
        "                text_parts.extend(self.get_text_parts(element))\n",
        "        else:\n",
        "            text_parts.append(text_lists)\n",
        "        return(text_parts)\n",
        "\n",
        "    def filter_info_scrapes(self, scape_dict):\n",
        "        mask_dict = {}\n",
        "        for key, val in scape_dict.items():\n",
        "            mask_dict[key] = []\n",
        "            for i, element in enumerate(scape_dict[key]):\n",
        "                fnd = [c in element for c in u'()[]\\n\\xa0']\n",
        "                if not True in fnd:\n",
        "                    mask_dict[key].append(element)  \n",
        "        return mask_dict    "
      ],
      "execution_count": 0,
      "outputs": []
    },
    {
      "cell_type": "code",
      "metadata": {
        "id": "CbAQlKcZl1j2",
        "colab_type": "code",
        "colab": {}
      },
      "source": [
        ""
      ],
      "execution_count": 0,
      "outputs": []
    },
    {
      "cell_type": "code",
      "metadata": {
        "id": "THHEwExcSNW2",
        "colab_type": "code",
        "colab": {
          "base_uri": "https://localhost:8080/",
          "height": 731
        },
        "outputId": "5890133b-4fb9-4e83-89d7-08e6cd166c5f"
      },
      "source": [
        "# pg = PageContents('https://en.wikipedia.org/wiki/barack_Obama')\n",
        "pg = PageContents('https://en.wikipedia.org/wiki/Donald_Trump')\n",
        "info_card = InfoCard(pg)\n",
        "info_card.info_table"
      ],
      "execution_count": 5,
      "outputs": [
        {
          "output_type": "stream",
          "text": [
            "info card is scraped successfully\n"
          ],
          "name": "stdout"
        },
        {
          "output_type": "execute_result",
          "data": {
            "text/plain": [
              "{'Awards': ['List of honors and awards'],\n",
              " 'Born': ['Donald John Trump',\n",
              "  '1946-06-14',\n",
              "  'June 14, 1946',\n",
              "  'Queens',\n",
              "  ', ',\n",
              "  'New York City'],\n",
              " 'Children': ['Donald Jr.', 'Ivanka', 'Eric', 'Tiffany', 'Barron'],\n",
              " 'Education': ['The Wharton School', 'BS', ' in ', 'Econ.'],\n",
              " 'Net worth': [],\n",
              " 'Occupation': ['Politician',\n",
              "  'businessman',\n",
              "  'real estate developer',\n",
              "  'television personality'],\n",
              " 'Other politicalaffiliations': ['Democratic', 'Reform', 'Independent'],\n",
              " 'Parents': ['Fred Trump', 'Mary Anne MacLeod'],\n",
              " 'Political party': ['Republican'],\n",
              " 'Preceded by': ['Barack Obama'],\n",
              " 'Relatives': ['Trump family'],\n",
              " 'Residence': ['White House', 'Trump Tower', 'Full list'],\n",
              " 'Signature': [],\n",
              " 'Spouse(s)': ['Ivana Zelníčková',\n",
              "  'm.',\n",
              "  '1977',\n",
              "  '; ',\n",
              "  'div.',\n",
              "  '1992',\n",
              "  'Marla Maples',\n",
              "  'm.',\n",
              "  '1993',\n",
              "  '; ',\n",
              "  'div.',\n",
              "  '1999',\n",
              "  'Melania Knauss',\n",
              "  'm.',\n",
              "  '2005'],\n",
              " 'Vice President': ['Mike Pence'],\n",
              " 'Website': ['Official website',\n",
              "  'White House website',\n",
              "  'Presidential Twitter',\n",
              "  'Personal Twitter']}"
            ]
          },
          "metadata": {
            "tags": []
          },
          "execution_count": 5
        }
      ]
    },
    {
      "cell_type": "code",
      "metadata": {
        "id": "ExO1B5tsc_Xv",
        "colab_type": "code",
        "outputId": "3d67420a-a546-40d9-b2f6-cab48c601d20",
        "colab": {
          "base_uri": "https://localhost:8080/",
          "height": 34
        }
      },
      "source": [
        "def get_kids(html_mother):\n",
        "    kid_list = []\n",
        "    try:\n",
        "        kids = html_mother.children\n",
        "        for kid in kids:\n",
        "            kid_list.append(get_kids(kid))\n",
        "    except:\n",
        "        return html_mother\n",
        "    return kid_list\n",
        "\n",
        "def get_text_parts(text_lists):\n",
        "    text_parts = []\n",
        "    if type(text_lists) == list:\n",
        "        for element in text_lists:\n",
        "            text_parts.extend(get_text_parts(element))\n",
        "    else:\n",
        "        text_parts.append(text_lists)\n",
        "    return(text_parts)\n",
        "\n",
        "def filter_info_scrapes(scape_dict):\n",
        "    mask_dict = {}\n",
        "    for key, val in scape_dict.items():\n",
        "#         print(key)\n",
        "#         print(scape_dict[key])\n",
        "        mask_dict[key] = []\n",
        "        for i, element in enumerate(scape_dict[key]):\n",
        "#             print(element)\n",
        "#             mask_dict[key].append(element)\n",
        "            fnd = [c in element for c in u'()[]\\n\\xa0']\n",
        "            if not True in fnd:\n",
        "#                 print('!!!')\n",
        "# #                 mask_dict[key][-1] = '1'\n",
        "# #                 del val[i]\n",
        "#             else:\n",
        "                mask_dict[key].append(element)  \n",
        "    return mask_dict"
      ],
      "execution_count": 10,
      "outputs": [
        {
          "output_type": "execute_result",
          "data": {
            "text/plain": [
              "True"
            ]
          },
          "metadata": {
            "tags": []
          },
          "execution_count": 10
        }
      ]
    },
    {
      "cell_type": "code",
      "metadata": {
        "id": "EwG-k7UmTm3M",
        "colab_type": "code",
        "colab": {}
      },
      "source": [
        "pg = PageContents('https://en.wikipedia.org/wiki/Donald_Trump')\n",
        "# pg = PageContents('https://en.wikipedia.org/wiki/Ashraf_Ghani')\n",
        "# pg = PageContents('https://en.wikipedia.org/wiki/Oracle_Corporation')\n"
      ],
      "execution_count": 0,
      "outputs": []
    },
    {
      "cell_type": "code",
      "metadata": {
        "id": "n160QkjrSxaU",
        "colab_type": "code",
        "outputId": "1e93549c-2677-44a8-ccf6-b9d2da24d6e7",
        "colab": {
          "base_uri": "https://localhost:8080/",
          "height": 714
        }
      },
      "source": [
        "info_table = {}\n",
        "start = True\n",
        "\n",
        "for table_entry in pg.table_entry_list:\n",
        "#     for child in table_entry.children:\n",
        "    if table_entry.text == 'Personal details':\n",
        "        start = True\n",
        "    if start:    \n",
        "#             print(child.text)\n",
        "        try:\n",
        "            row_left = table_entry.find('th', attrs={'scope': 'row'})\n",
        "            row_right = row_left.next_sibling\n",
        "#             print(row_left.text)\n",
        "#             print(row_right)\n",
        "#             print(get_text_parts(get_kids(row_right)))\n",
        "            info_table[row_left.text] = get_text_parts(get_kids(row_right))\n",
        "#             break\n",
        "        except:\n",
        "            pass\n",
        "\n",
        "# info_table\n",
        "# mthr\n",
        "info_table = filter_info_scrapes(info_table)\n",
        "# print(info_table)\n",
        "# info_table['Children'][0]\n",
        "info_table\n"
      ],
      "execution_count": 25,
      "outputs": [
        {
          "output_type": "execute_result",
          "data": {
            "text/plain": [
              "{'Awards': ['List of honors and awards'],\n",
              " 'Born': ['Donald John Trump',\n",
              "  '1946-06-14',\n",
              "  'June 14, 1946',\n",
              "  'Queens',\n",
              "  ', ',\n",
              "  'New York City'],\n",
              " 'Children': ['Donald Jr.', 'Ivanka', 'Eric', 'Tiffany', 'Barron'],\n",
              " 'Education': ['The Wharton School', 'BS', ' in ', 'Econ.'],\n",
              " 'Net worth': [],\n",
              " 'Occupation': ['Politician',\n",
              "  'businessman',\n",
              "  'real estate developer',\n",
              "  'television personality'],\n",
              " 'Other politicalaffiliations': ['Democratic', 'Reform', 'Independent'],\n",
              " 'Parents': ['Fred Trump', 'Mary Anne MacLeod'],\n",
              " 'Political party': ['Republican'],\n",
              " 'Preceded by': ['Barack Obama'],\n",
              " 'Relatives': ['Trump family'],\n",
              " 'Residence': ['White House', 'Trump Tower', 'Full list'],\n",
              " 'Signature': [],\n",
              " 'Spouse(s)': ['Ivana Zelníčková',\n",
              "  'm.',\n",
              "  '1977',\n",
              "  '; ',\n",
              "  'div.',\n",
              "  '1992',\n",
              "  'Marla Maples',\n",
              "  'm.',\n",
              "  '1993',\n",
              "  '; ',\n",
              "  'div.',\n",
              "  '1999',\n",
              "  'Melania Knauss',\n",
              "  'm.',\n",
              "  '2005'],\n",
              " 'Vice President': ['Mike Pence'],\n",
              " 'Website': ['Official website',\n",
              "  'White House website',\n",
              "  'Presidential Twitter',\n",
              "  'Personal Twitter']}"
            ]
          },
          "metadata": {
            "tags": []
          },
          "execution_count": 25
        }
      ]
    },
    {
      "cell_type": "code",
      "metadata": {
        "id": "zKKNnYTHXrgl",
        "colab_type": "code",
        "colab": {
          "base_uri": "https://localhost:8080/",
          "height": 1564
        },
        "outputId": "b8a7244e-d6fe-45dd-d352-45b255da2071"
      },
      "source": [
        "filter_info_scrapes(info_table)\n",
        "info_table"
      ],
      "execution_count": 13,
      "outputs": [
        {
          "output_type": "execute_result",
          "data": {
            "text/plain": [
              "{'Awards': ['List of honors and awards'],\n",
              " 'Born': ['Donald John Trump',\n",
              "  ' (',\n",
              "  '1946-06-14',\n",
              "  ') ',\n",
              "  'June 14, 1946',\n",
              "  ' (age\\xa072)',\n",
              "  'Queens',\n",
              "  ', ',\n",
              "  'New York City'],\n",
              " 'Children': ['\\n',\n",
              "  'Donald Jr.',\n",
              "  '\\n',\n",
              "  'Ivanka',\n",
              "  '\\n',\n",
              "  'Eric',\n",
              "  '\\n',\n",
              "  'Tiffany',\n",
              "  '\\n',\n",
              "  'Barron',\n",
              "  '\\n'],\n",
              " 'Education': ['The Wharton School', ' (', 'BS', ' in ', 'Econ.', ')'],\n",
              " 'Net worth': ['US$3.1\\xa0billion (March 2019)', '[a]'],\n",
              " 'Occupation': ['Politician',\n",
              "  'businessman',\n",
              "  'real estate developer',\n",
              "  'television personality'],\n",
              " 'Other politicalaffiliations': ['\\n',\n",
              "  'Democratic',\n",
              "  ' (until 1987, 2001–2009)',\n",
              "  '\\n',\n",
              "  'Reform',\n",
              "  ' (1999–2001)',\n",
              "  '\\n',\n",
              "  'Independent',\n",
              "  ' (2011–2012)',\n",
              "  '\\n'],\n",
              " 'Parents': ['Fred Trump', 'Mary Anne MacLeod'],\n",
              " 'Political party': ['Republican', ' (1987–1999, 2009–2011, 2012–present)'],\n",
              " 'Preceded by': ['Barack Obama'],\n",
              " 'Relatives': ['Trump family'],\n",
              " 'Residence': ['\\n',\n",
              "  'White House',\n",
              "  ' (official)',\n",
              "  '\\n',\n",
              "  'Trump Tower',\n",
              "  ' (personal)',\n",
              "  '\\n',\n",
              "  'Full list',\n",
              "  '\\n'],\n",
              " 'Signature': [],\n",
              " 'Spouse(s)': ['\\n',\n",
              "  'Ivana Zelníčková',\n",
              "  '(',\n",
              "  'm.',\n",
              "  '\\xa0',\n",
              "  '1977',\n",
              "  '; ',\n",
              "  'div.',\n",
              "  '\\xa0',\n",
              "  '1992',\n",
              "  ')',\n",
              "  '\\n',\n",
              "  'Marla Maples',\n",
              "  '(',\n",
              "  'm.',\n",
              "  '\\xa0',\n",
              "  '1993',\n",
              "  '; ',\n",
              "  'div.',\n",
              "  '\\xa0',\n",
              "  '1999',\n",
              "  ')',\n",
              "  '\\n',\n",
              "  'Melania Knauss',\n",
              "  ' (',\n",
              "  'm.',\n",
              "  '\\xa0',\n",
              "  '2005',\n",
              "  ')',\n",
              "  '\\n'],\n",
              " 'Vice President': ['Mike Pence'],\n",
              " 'Website': ['\\n',\n",
              "  'Official website',\n",
              "  '\\n',\n",
              "  'White House website',\n",
              "  '\\n',\n",
              "  'Presidential Twitter',\n",
              "  '\\n',\n",
              "  'Personal Twitter',\n",
              "  '\\n']}"
            ]
          },
          "metadata": {
            "tags": []
          },
          "execution_count": 13
        }
      ]
    },
    {
      "cell_type": "code",
      "metadata": {
        "id": "JbcsjFhR5K54",
        "colab_type": "code",
        "colab": {
          "base_uri": "https://localhost:8080/",
          "height": 34
        },
        "outputId": "2a7f5d0f-c5ac-4d14-934c-dabc99175294"
      },
      "source": [
        "[c in info_table['Spouse(s)'][-1] for c in u'()[],;.\\n']"
      ],
      "execution_count": 14,
      "outputs": [
        {
          "output_type": "execute_result",
          "data": {
            "text/plain": [
              "[False, False, False, False, False, False, False, True]"
            ]
          },
          "metadata": {
            "tags": []
          },
          "execution_count": 14
        }
      ]
    }
  ]
}