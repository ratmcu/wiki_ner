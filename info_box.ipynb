{
  "nbformat": 4,
  "nbformat_minor": 0,
  "metadata": {
    "colab": {
      "name": "info_box.ipynb",
      "provenance": [],
      "collapsed_sections": [],
      "include_colab_link": true
    },
    "kernelspec": {
      "name": "python3",
      "display_name": "Python 3"
    }
  },
  "cells": [
    {
      "cell_type": "markdown",
      "metadata": {
        "id": "view-in-github",
        "colab_type": "text"
      },
      "source": [
        "<a href=\"https://colab.research.google.com/github/ratmcu/wiki_ner/blob/master/info_box.ipynb\" target=\"_parent\"><img src=\"https://colab.research.google.com/assets/colab-badge.svg\" alt=\"Open In Colab\"/></a>"
      ]
    },
    {
      "cell_type": "code",
      "metadata": {
        "id": "2C-w8h_nQnIm",
        "colab_type": "code",
        "outputId": "c233b107-4882-4fbf-f131-db7094bd2b7e",
        "colab": {
          "base_uri": "https://localhost:8080/",
          "height": 535
        }
      },
      "source": [
        "!pip install pyahocorasick\n",
        "!pip install fuzzyset\n",
        "from ahocorasick import Automaton\n",
        "import fuzzyset\n",
        "import urllib\n",
        "from bs4 import BeautifulSoup\n",
        "from nltk.tokenize import sent_tokenize\n",
        "import nltk\n",
        "import re\n",
        "import pandas as pd\n",
        "import numpy as np\n",
        "nltk.download('punkt')\n",
        "!pip install wget\n",
        "!pip install spacy\n",
        "!pip install regex\n",
        "!python -m spacy download en_core_web_sm\n",
        "import spacy\n",
        "import regex\n",
        "\n",
        "import os\n",
        "import wget\n",
        "colabimporturl = 'https://github.com/ratmcu/colaboratory_import/raw/master/colabimport.py'\n",
        "filename = colabimporturl.split(\"/\")[-1].split(\"?\")[0]\n",
        "if os.path.isfile(filename):\n",
        "    os.remove(filename)\n",
        "wget.download(colabimporturl)\n",
        "\n",
        "import colabimport\n",
        "colabimport.get_notebook('https://github.com/ratmcu/wiki_ner/blob/master/reusable_annotator.ipynb?raw=true')\n",
        "colabimport.get_notebook('https://github.com/ratmcu/wiki_ner/blob/master/info_box.ipynb?raw=true')\n",
        "# import io, os, sys, types\n",
        "from reusable_annotator import PageContents\n",
        "import logging\n",
        "logger = logging.getLogger()\n",
        "logger.setLevel(logging.INFO)\n"
      ],
      "execution_count": 89,
      "outputs": [
        {
          "output_type": "stream",
          "text": [
            "Requirement already satisfied: pyahocorasick in /usr/local/lib/python3.6/dist-packages (1.4.0)\n",
            "Requirement already satisfied: fuzzyset in /usr/local/lib/python3.6/dist-packages (0.0.19)\n",
            "Requirement already satisfied: texttable in /usr/local/lib/python3.6/dist-packages (from fuzzyset) (1.6.2)\n",
            "Requirement already satisfied: python-levenshtein in /usr/local/lib/python3.6/dist-packages (from fuzzyset) (0.12.0)\n",
            "Requirement already satisfied: setuptools in /usr/local/lib/python3.6/dist-packages (from python-levenshtein->fuzzyset) (41.2.0)\n",
            "[nltk_data] Downloading package punkt to /root/nltk_data...\n",
            "[nltk_data]   Package punkt is already up-to-date!\n",
            "Requirement already satisfied: wget in /usr/local/lib/python3.6/dist-packages (3.2)\n",
            "Requirement already satisfied: spacy in /usr/local/lib/python3.6/dist-packages (2.1.8)\n",
            "Requirement already satisfied: cymem<2.1.0,>=2.0.2 in /usr/local/lib/python3.6/dist-packages (from spacy) (2.0.2)\n",
            "Requirement already satisfied: murmurhash<1.1.0,>=0.28.0 in /usr/local/lib/python3.6/dist-packages (from spacy) (1.0.2)\n",
            "Requirement already satisfied: blis<0.3.0,>=0.2.2 in /usr/local/lib/python3.6/dist-packages (from spacy) (0.2.4)\n",
            "Requirement already satisfied: preshed<2.1.0,>=2.0.1 in /usr/local/lib/python3.6/dist-packages (from spacy) (2.0.1)\n",
            "Requirement already satisfied: numpy>=1.15.0 in /usr/local/lib/python3.6/dist-packages (from spacy) (1.16.5)\n",
            "Requirement already satisfied: wasabi<1.1.0,>=0.2.0 in /usr/local/lib/python3.6/dist-packages (from spacy) (0.2.2)\n",
            "Requirement already satisfied: srsly<1.1.0,>=0.0.6 in /usr/local/lib/python3.6/dist-packages (from spacy) (0.1.0)\n",
            "Requirement already satisfied: plac<1.0.0,>=0.9.6 in /usr/local/lib/python3.6/dist-packages (from spacy) (0.9.6)\n",
            "Requirement already satisfied: requests<3.0.0,>=2.13.0 in /usr/local/lib/python3.6/dist-packages (from spacy) (2.21.0)\n",
            "Requirement already satisfied: thinc<7.1.0,>=7.0.8 in /usr/local/lib/python3.6/dist-packages (from spacy) (7.0.8)\n",
            "Requirement already satisfied: idna<2.9,>=2.5 in /usr/local/lib/python3.6/dist-packages (from requests<3.0.0,>=2.13.0->spacy) (2.8)\n",
            "Requirement already satisfied: chardet<3.1.0,>=3.0.2 in /usr/local/lib/python3.6/dist-packages (from requests<3.0.0,>=2.13.0->spacy) (3.0.4)\n",
            "Requirement already satisfied: certifi>=2017.4.17 in /usr/local/lib/python3.6/dist-packages (from requests<3.0.0,>=2.13.0->spacy) (2019.9.11)\n",
            "Requirement already satisfied: urllib3<1.25,>=1.21.1 in /usr/local/lib/python3.6/dist-packages (from requests<3.0.0,>=2.13.0->spacy) (1.24.3)\n",
            "Requirement already satisfied: tqdm<5.0.0,>=4.10.0 in /usr/local/lib/python3.6/dist-packages (from thinc<7.1.0,>=7.0.8->spacy) (4.28.1)\n",
            "Requirement already satisfied: regex in /usr/local/lib/python3.6/dist-packages (2019.8.19)\n",
            "Requirement already satisfied: en_core_web_sm==2.1.0 from https://github.com/explosion/spacy-models/releases/download/en_core_web_sm-2.1.0/en_core_web_sm-2.1.0.tar.gz#egg=en_core_web_sm==2.1.0 in /usr/local/lib/python3.6/dist-packages (2.1.0)\n",
            "\u001b[38;5;2m✔ Download and installation successful\u001b[0m\n",
            "You can now load the model via spacy.load('en_core_web_sm')\n"
          ],
          "name": "stdout"
        }
      ]
    },
    {
      "cell_type": "code",
      "metadata": {
        "id": "gfb8Zq6EP6vR",
        "colab_type": "code",
        "colab": {}
      },
      "source": [
        "class InfoCard():\n",
        "    '''accepts a beautiful soup html table from a wikipedia page and scrapes the table to a dictionary'''\n",
        "    def __init__(self, page_content):\n",
        "        self.info_table = {}\n",
        "        if not page_content.table:\n",
        "            raise Exception('page content is incomplete')\n",
        "        for table_entry in page_content.table_entry_list:\n",
        "            try:\n",
        "                left_col = table_entry.find('th', attrs={'scope': 'row'})\n",
        "                right_col = left_col.next_sibling\n",
        "                self.info_table[self._row_filter(left_col.text)] = self._get_text_parts(self._get_kids(right_col))\n",
        "            except:\n",
        "                pass\n",
        "        self.info_table_unfiltered = self.info_table\n",
        "        self.info_table = self._filter_info_scrapes(self.info_table)\n",
        "        print('info card is scraped successfully')\n",
        "        logging.debug(self.info_table)\n",
        "    \n",
        "    def _row_filter(self, text):\n",
        "        return re.sub('\\xa0', ' ', text)\n",
        "        \n",
        "        \n",
        "    def _get_kids(self, html_mother):\n",
        "        kid_list = []\n",
        "        try:\n",
        "            kids = html_mother.children\n",
        "            for kid in kids:\n",
        "                kid_list.append(self._get_kids(kid))\n",
        "        except:\n",
        "            return html_mother\n",
        "        return kid_list \n",
        "\n",
        "    def _get_text_parts(self, text_lists):\n",
        "        text_parts = []\n",
        "        if type(text_lists) == list:\n",
        "            for element in text_lists:\n",
        "                text_parts.extend(self._get_text_parts(element))\n",
        "        else:\n",
        "            text_parts.append(text_lists)\n",
        "        return(text_parts)\n",
        "\n",
        "    def _filter_info_scrapes(self, scape_dict):\n",
        "        mask_dict = {}\n",
        "        for key, val in scape_dict.items():\n",
        "            mask_dict[key] = []\n",
        "            for i, element in enumerate(scape_dict[key]):\n",
        "                name = ''\n",
        "                lst = [' '+nm[0] for nm in [part.split('(') for part in element.split(' ')] if nm[0]!='']\n",
        "                element = ''.join(lst).strip()\n",
        "                fnd = [c in element for c in u'[]\\n\\xa0']\n",
        "                if not True in fnd:\n",
        "                    mask_dict[key].append(element)  \n",
        "        return mask_dict    "
      ],
      "execution_count": 0,
      "outputs": []
    },
    {
      "cell_type": "code",
      "metadata": {
        "id": "THHEwExcSNW2",
        "colab_type": "code",
        "outputId": "34a4e9dc-9c6c-465d-9e19-f41b59f4a24e",
        "colab": {
          "base_uri": "https://localhost:8080/",
          "height": 90
        }
      },
      "source": [
        "#experiment_code\n",
        "# pg = PageContents('https://en.wikipedia.org/wiki/Barack_Obama')\n",
        "pg = PageContents('https://en.wikipedia.org/wiki/Donald_Trump')\n",
        "# pg = PageContents('http://en.wikipedia.org/wiki/Gajendra_Singh_Rajukhedi')\n",
        "\n",
        "info_card = InfoCard(pg)\n",
        "print(info_card.info_table_unfiltered)\n",
        "print(info_card.info_table)\n"
      ],
      "execution_count": 91,
      "outputs": [
        {
          "output_type": "stream",
          "text": [
            "info card is scraped successfully\n",
            "{'Vice President': ['Mike Pence'], 'Preceded by': ['Barack Obama'], 'Born': ['Donald John Trump', ' (', '1946-06-14', ') ', 'June 14, 1946', ' (age\\xa073)', 'Queens', ', ', 'New York City'], 'Political party': ['Republican', ' (1987–1999, 2009–2011, 2012–present)'], 'Other politicalaffiliations': ['\\n', 'Democratic', ' (until 1987, 2001–2009)', '\\n', 'Reform', ' (1999–2001)', '\\n', 'Independent', ' (2011–2012)', '\\n'], 'Spouse(s)': ['\\n', 'Ivana Zelníčková', '(', 'm.', '\\xa0', '1977', '; ', 'div.', '\\xa0', '1992', ')', '\\n', 'Marla Maples', '(', 'm.', '\\xa0', '1993', '; ', 'div.', '\\xa0', '1999', ')', '\\n', 'Melania Knauss', ' (', 'm.', '\\xa0', '2005', ')', '\\n'], 'Children': ['\\n', 'Donald Jr.', '\\n', 'Ivanka', '\\n', 'Eric', '\\n', 'Tiffany', '\\n', 'Barron', '\\n'], 'Parents': ['Fred Trump', 'Mary Anne MacLeod'], 'Relatives': ['Trump family'], 'Residence': ['\\n', 'White House', ' (official)', '\\n', 'Trump Tower', ' (personal)', '\\n', 'Full list', '\\n'], 'Education': ['The Wharton School', ' (', 'BS', ' in ', 'Econ.', ')'], 'Occupation': ['Politician', 'businessman', 'real-estate developer', 'television personality'], 'Net worth': ['US$3.1 billion (March 2019)', '[a]'], 'Awards': ['List of honors and awards'], 'Signature': [], 'Website': ['\\n', 'Official website', '\\n', 'White House website', '\\n', 'Presidential Twitter', '\\n', 'Personal Twitter', '\\n']}\n",
            "{'Vice President': ['Mike Pence'], 'Preceded by': ['Barack Obama'], 'Born': ['Donald John Trump', '', '1946-06-14', ')', 'June 14, 1946', '', 'Queens', ',', 'New York City'], 'Political party': ['Republican', '2009–2011, 2012–present)'], 'Other politicalaffiliations': ['', 'Democratic', '1987, 2001–2009)', '', 'Reform', '', '', 'Independent', '', ''], 'Spouse(s)': ['', 'Ivana Zelníčková', '', 'm.', '', '1977', ';', 'div.', '', '1992', ')', '', 'Marla Maples', '', 'm.', '', '1993', ';', 'div.', '', '1999', ')', '', 'Melania Knauss', '', 'm.', '', '2005', ')', ''], 'Children': ['', 'Donald Jr.', '', 'Ivanka', '', 'Eric', '', 'Tiffany', '', 'Barron', ''], 'Parents': ['Fred Trump', 'Mary Anne MacLeod'], 'Relatives': ['Trump family'], 'Residence': ['', 'White House', '', '', 'Trump Tower', '', '', 'Full list', ''], 'Education': ['The Wharton School', '', 'BS', 'in', 'Econ.', ')'], 'Occupation': ['Politician', 'businessman', 'real-estate developer', 'television personality'], 'Net worth': ['US$3.1 billion 2019)'], 'Awards': ['List of honors and awards'], 'Signature': [], 'Website': ['', 'Official website', '', 'White House website', '', 'Presidential Twitter', '', 'Personal Twitter', '']}\n"
          ],
          "name": "stdout"
        }
      ]
    },
    {
      "cell_type": "code",
      "metadata": {
        "id": "CbAQlKcZl1j2",
        "colab_type": "code",
        "colab": {}
      },
      "source": [
        "# can we use snorkle to get this entity scraping done??? \n",
        "# if so it'd be better to have the lable functions in a ready way to generally working on all the pages!!\n",
        "\n",
        "class PrivateEntities():\n",
        "    '''given a dictionary of a side bar it is processed for private entities of interest'''\n",
        "    def __init__(self, info_card):\n",
        "        self.info_dict = info_card.info_table\n",
        "        # print(info_card.info_table)\n",
        "        self._get_entity_dict()\n",
        "        self._extract_entities()\n",
        "        \n",
        "    def _extract_entities(self):\n",
        "        # TREAT everyone the same? or call a seperate function per each entity?\n",
        "        # leave the not found entities as empty lists so we can use the html scraper to fill them (usually the name of the person)\n",
        "        # lets treat everything generally, ultimate filtering happens at the comparison stage(if theres one)\n",
        "        for entity_key in self.entity_dict.keys():\n",
        "            self._pick_entity(self.entity_dict[entity_key], entity_key)\n",
        "            logging.debug(self.entity_dict[entity_key])\n",
        "    \n",
        "    def _pick_entity(self, entity_list, entity_key):\n",
        "        nlp = spacy.load(\"en_core_web_sm\")\n",
        "#         print(entity_list)\n",
        "#         Find named entities, phrases and concepts\n",
        "        entity_list.append([])\n",
        "#         print(entity_list[0][0])\n",
        "        \n",
        "        if entity_key == 'BIRTH_PLACE':\n",
        "            mask_str = ''\n",
        "            for scrape in self.info_dict[entity_list[0][0]]:\n",
        "                doc = nlp(str(scrape))\n",
        "                if doc.ents and doc.ents[0].label_ == 'DATE':\n",
        "                    mask_str = mask_str + 'd'\n",
        "                elif str(scrape) == '' or str(scrape) == ',':\n",
        "                    mask_str = mask_str + 's'\n",
        "                elif self._is_name(str(scrape)):\n",
        "                    mask_str = mask_str + 't'\n",
        "                else:\n",
        "                    mask_str = mask_str + 'u'\n",
        "#             print(mask_str)\n",
        "            indices = self._get_target_indices([r'[s][t]',r'[d][t]'], mask_str)  \n",
        "            for index in indices:\n",
        "                entity_list[1].append(self.info_dict[entity_list[0][0]][index])\n",
        "        else:    \n",
        "            for scrape in self.info_dict[entity_list[0][0]]:\n",
        "                if entity_list[0][1] == 'PERSON': #spacy skips certain parts of a name, so we use this trick instead\n",
        "                    doc = nlp('was named '+str(scrape))\n",
        "                    logging.debug(scrape)\n",
        "                else:\n",
        "                    doc = nlp(str(scrape))\n",
        "                if doc.ents and doc.ents[0].label_ == entity_list[0][1]:   \n",
        "                    entity_list[1].append(doc.ents[0].text)\n",
        "                    logging.debug('appended entity: ', doc.ents[0].text, doc.ents[0].label_, len(doc.ents), doc.ents)\n",
        "                elif not self._entity_noise(entity_key, str(scrape)):\n",
        "                    entity_list[1].append(str(scrape))\n",
        "                else:\n",
        "                    pass\n",
        "                \n",
        "    def _get_target_indices(self, pattern_list, mask_str):\n",
        "        '''TODO: if the target is inside the pattern'''\n",
        "        indices = []\n",
        "        for pattern in pattern_list:\n",
        "            m_iter = re.finditer(pattern, mask_str)\n",
        "            if m_iter:\n",
        "                for m in m_iter: \n",
        "                    indices.append(m.start()+1)\n",
        "        return indices        \n",
        "        \n",
        "    def _entity_noise(self, entity_key, text):\n",
        "        try:\n",
        "            return getattr(self, '_filter_{0}'.format(entity_key))(text)\n",
        "        except:\n",
        "            logging.error('filter function for {0} not found'.format(entity_key))\n",
        "            return True\n",
        "    \n",
        "    def _get_entity_dict(self):\n",
        "        self.entity_dict = {}\n",
        "        if 'Born' in self.info_dict.keys():\n",
        "            self.entity_dict['NAME'] = [['Born', 'PERSON']]\n",
        "            self.entity_dict['BIRTH_DATE'] = [['Born', 'DATE']]\n",
        "            self.entity_dict['BIRTH_PLACE'] = [['Born', 'GPE']]\n",
        "        if 'Children' in self.info_dict.keys():\n",
        "            self.entity_dict['CHILDREN'] = [['Children', 'PERSON']]\n",
        "        if 'Spouse(s)' in self.info_dict.keys():\n",
        "            self.entity_dict['SPOUSES'] = [['Spouse(s)', 'PERSON']]\n",
        "        if 'Parents' in self.info_dict.keys():\n",
        "            self.entity_dict['PARENTS'] = [['Parents', 'PERSON']]\n",
        "        if 'Education' in self.info_dict.keys():\n",
        "            self.entity_dict['EDUCATION'] = [['Education', 'ORG']]\n",
        "        if 'Alma mater' in self.info_dict.keys():\n",
        "            self.entity_dict['EDUCATION'] = [['Alma mater', 'ORG']]\n",
        "    \n",
        "    def _filter_NAME(self, text):\n",
        "        '''cannot simply filter noise due to many possible candidates'''\n",
        "        return True\n",
        "    def _filter_BIRTH_DATE(self, text):\n",
        "        return True\n",
        "    def _filter_BIRTH_PLACE(self, text):\n",
        "        return True\n",
        "    def _filter_CHILDREN(self, text):\n",
        "#         return False # let's assume we don't find any noisy text under info boxes children till we do an analysis\n",
        "        return not self._is_name(text)\n",
        "    def _filter_SPOUSES(self, text):\n",
        "        return not self._is_name(text)\n",
        "    def _filter_PARENTS(self, text):\n",
        "        return not self._is_name(text)\n",
        "    def _filter_EDUCATION(self, text):\n",
        "        return True\n",
        "    def _is_name(self, text):\n",
        "        p = regex.compile(r\"\\p{Lu}\") # To support (currently) 1702 uppercase letters\n",
        "#         p = regex.compile(r\"[[:upper:]]\") # To support (currently) 1822 uppercase letters\n",
        "        if p.match(text):\n",
        "            return True\n",
        "        else:\n",
        "            return False\n",
        "        \n"
      ],
      "execution_count": 0,
      "outputs": []
    },
    {
      "cell_type": "code",
      "metadata": {
        "id": "5SWMEhG1qpVL",
        "colab_type": "code",
        "outputId": "72aeb927-dab4-465c-bf00-39fa5bc1d2e4",
        "colab": {
          "base_uri": "https://localhost:8080/",
          "height": 144
        }
      },
      "source": [
        "# pg = PageContents('https://en.wikipedia.org/wiki/James_R._Alexander')\n",
        "# pg = PageContents('https://en.wikipedia.org/wiki/Brad_Pitt')\n",
        "pg = PageContents('https://en.wikipedia.org/wiki/Donald_Trump')\n",
        "# pg = PageContents('https://en.wikipedia.org/wiki/Mohamed_Abdel-El')\n",
        "info_card = InfoCard(pg)\n",
        "entities = PrivateEntities(info_card).entity_dict\n",
        "print(info_card.info_table['Born'], entities)\n",
        "\n",
        "pg = PageContents('https://en.wikipedia.org/wiki/Brad_Pitt')\n",
        "info_card = InfoCard(pg)\n",
        "entities = PrivateEntities(info_card).entity_dict\n",
        "print(info_card.info_table['Born'], entities)\n",
        "\n",
        "pg = PageContents('http://en.wikipedia.org/wiki/Gajendra_Singh_Rajukhedi')\n",
        "info_card = InfoCard(pg)\n",
        "entities = PrivateEntities(info_card).entity_dict\n",
        "print(info_card.info_table['Born'], entities)"
      ],
      "execution_count": 93,
      "outputs": [
        {
          "output_type": "stream",
          "text": [
            "info card is scraped successfully\n",
            "['Donald John Trump', '', '1946-06-14', ')', 'June 14, 1946', '', 'Queens', ',', 'New York City'] {'NAME': [['Born', 'PERSON'], ['Donald John Trump', 'Queens']], 'BIRTH_DATE': [['Born', 'DATE'], ['1946-06-14', 'June 14, 1946']], 'BIRTH_PLACE': [['Born', 'GPE'], ['Queens', 'New York City']], 'CHILDREN': [['Children', 'PERSON'], ['Donald Jr.', 'Ivanka', 'Eric', 'Tiffany', 'Barron']], 'SPOUSES': [['Spouse(s)', 'PERSON'], ['Ivana Zelníčková', 'Marla Maples', 'Melania Knauss']], 'PARENTS': [['Parents', 'PERSON'], ['Fred Trump', 'Mary Anne MacLeod']], 'EDUCATION': [['Education', 'ORG'], ['The Wharton School']]}\n",
            "info card is scraped successfully\n",
            "['William Bradley Pitt', '', '1963-12-18', ')', 'December 18, 1963', '', 'Shawnee, Oklahoma', ', U.S.'] {'NAME': [['Born', 'PERSON'], ['William Bradley Pitt']], 'BIRTH_DATE': [['Born', 'DATE'], ['1963-12-18', 'December 18, 1963']], 'BIRTH_PLACE': [['Born', 'GPE'], ['Shawnee, Oklahoma']], 'CHILDREN': [['Children', 'PERSON'], []], 'SPOUSES': [['Spouse(s)', 'PERSON'], ['Jennifer Aniston', 'Angelina Jolie']], 'EDUCATION': [['Alma mater', 'ORG'], ['University of Missouri']]}\n",
            "info card is scraped successfully\n",
            "['', '1964-12-11', ')', '11 December 1964', '', 'Rajukhedi, Dhar'] {'NAME': [['Born', 'PERSON'], ['Rajukhedi']], 'BIRTH_DATE': [['Born', 'DATE'], ['1964-12-11']], 'BIRTH_PLACE': [['Born', 'GPE'], ['Rajukhedi, Dhar']], 'CHILDREN': [['Children', 'PERSON'], []], 'SPOUSES': [['Spouse(s)', 'PERSON'], ['Gayatri Singh']], 'EDUCATION': [['Alma mater', 'ORG'], ['Devi Ahilya University']]}\n"
          ],
          "name": "stdout"
        }
      ]
    },
    {
      "cell_type": "code",
      "metadata": {
        "id": "RXrBEsRHxT_X",
        "colab_type": "code",
        "outputId": "138dbc8e-f276-4940-99cf-eafa1ea14ad5",
        "colab": {
          "base_uri": "https://localhost:8080/",
          "height": 35
        }
      },
      "source": [
        "#experiment_code\n",
        "# pg = PageContents('https://en.wikipedia.org/wiki/Donald_Trump')\n",
        "# pg = PageContents('https://en.wikipedia.org/wiki/Barack_Obama')\n",
        "# pg = PageContents('https://en.wikipedia.org/wiki/Bella_Hadid')\n",
        "# pg = PageContents('https://en.wikipedia.org/wiki/Mahinda_Rajapaksa')\n",
        "# pg = PageContents('https://en.wikipedia.org/wiki/Joachim_Gauck')\n",
        "# pg = PageContents('https://en.wikipedia.org/wiki/Mike_Tyson')\n",
        "pg = PageContents('https://en.wikipedia.org/wiki/Brad_Pitt')\n",
        "\n",
        "\n",
        "info_card = InfoCard(pg)\n",
        "# print(type(str(info_card.info_table['Born'][0])))\n",
        "pe = PrivateEntities(info_card)\n",
        "# pe.entity_dict"
      ],
      "execution_count": 94,
      "outputs": [
        {
          "output_type": "stream",
          "text": [
            "info card is scraped successfully\n"
          ],
          "name": "stdout"
        }
      ]
    },
    {
      "cell_type": "code",
      "metadata": {
        "id": "f84vuv5FxFH4",
        "colab_type": "code",
        "outputId": "f540dcf0-434c-4696-9931-0fe2d33b3545",
        "colab": {
          "base_uri": "https://localhost:8080/",
          "height": 532
        }
      },
      "source": [
        "#experiment_code\n",
        "info_card.info_table"
      ],
      "execution_count": 95,
      "outputs": [
        {
          "output_type": "execute_result",
          "data": {
            "text/plain": [
              "{'Alma mater': ['University of Missouri'],\n",
              " 'Born': ['William Bradley Pitt',\n",
              "  '',\n",
              "  '1963-12-18',\n",
              "  ')',\n",
              "  'December 18, 1963',\n",
              "  '',\n",
              "  'Shawnee, Oklahoma',\n",
              "  ', U.S.'],\n",
              " 'Children': ['6'],\n",
              " 'Education': ['Kickapoo High School'],\n",
              " 'Home town': ['Springfield, Missouri', ', U.S.'],\n",
              " 'Net worth': ['$240 million'],\n",
              " 'Occupation': ['Actor', 'film producer'],\n",
              " 'Relatives': ['Douglas Pitt', ''],\n",
              " 'Spouse(s)': ['Jennifer Aniston',\n",
              "  '',\n",
              "  'm.',\n",
              "  '2000;',\n",
              "  'div.',\n",
              "  '2005)',\n",
              "  'Angelina Jolie',\n",
              "  '',\n",
              "  'm.',\n",
              "  '2014;',\n",
              "  'div.',\n",
              "  '2019)'],\n",
              " 'Works': ['Filmography'],\n",
              " 'Years active': ['1987–present']}"
            ]
          },
          "metadata": {
            "tags": []
          },
          "execution_count": 95
        }
      ]
    },
    {
      "cell_type": "code",
      "metadata": {
        "id": "WuaSK6_Xmh7x",
        "colab_type": "code",
        "outputId": "55e35cb0-ecf3-4403-b4dc-7cd23529ec6e",
        "colab": {
          "base_uri": "https://localhost:8080/",
          "height": 35
        }
      },
      "source": [
        "fz = fuzzyset.FuzzySet(use_levenshtein=False)\n",
        "fz.add('Alma\\xa0mater')        \n",
        "fz.add('Alma ma')        \n",
        "result = fz.get('Alma mater')\n",
        "result\n",
        "# [(0.7378647873726218, 'Almamater')]\n",
        "re.search('\\xa0', 'Alma\\xa0mater').span(0)"
      ],
      "execution_count": 96,
      "outputs": [
        {
          "output_type": "execute_result",
          "data": {
            "text/plain": [
              "(4, 5)"
            ]
          },
          "metadata": {
            "tags": []
          },
          "execution_count": 96
        }
      ]
    },
    {
      "cell_type": "code",
      "metadata": {
        "id": "uU9JEUxu_MkD",
        "colab_type": "code",
        "colab": {
          "base_uri": "https://localhost:8080/",
          "height": 35
        },
        "outputId": "57afa320-bc85-4468-ae36-74eda1c04fee"
      },
      "source": [
        "import re\n",
        "ss = 'Gayatri Singh ('\n",
        "name = ''\n",
        "lst = [' '+nm[0] for nm in [part.split('(') for part in ss.split(' ')] if nm[0]!='']\n",
        "# lst = [' '+nm[0] for nm in [part in part for re.split(' ()',ss)] if nm[0]!='']\n",
        "# [part in part for re.split(' ()',ss)]\n",
        "name.join(lst).strip()"
      ],
      "execution_count": 97,
      "outputs": [
        {
          "output_type": "execute_result",
          "data": {
            "text/plain": [
              "'Gayatri Singh'"
            ]
          },
          "metadata": {
            "tags": []
          },
          "execution_count": 97
        }
      ]
    }
  ]
}